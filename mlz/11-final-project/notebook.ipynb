{
 "cells": [
  {
   "cell_type": "markdown",
   "metadata": {
    "tags": []
   },
   "source": [
    "### Import Modules & Set-Up"
   ]
  },
  {
   "cell_type": "code",
   "execution_count": 76,
   "metadata": {},
   "outputs": [],
   "source": [
    "# basic\n",
    "import pandas as pd\n",
    "import numpy as np\n",
    "import re\n",
    "from IPython.display import display\n",
    "# import xgboost as xgb\n",
    "\n",
    "# viz\n",
    "import matplotlib as mpl\n",
    "import matplotlib.pyplot as plt\n",
    "import seaborn as sns\n",
    "# import graphviz\n",
    "\n",
    "# sklearn\n",
    "from sklearn.model_selection import train_test_split\n",
    "# from sklearn.metrics import mutual_info_score, roc_auc_score, roc_curve, mean_squared_error\n",
    "from sklearn.feature_extraction import DictVectorizer\n",
    "from sklearn.linear_model import LinearRegression, Ridge, RidgeCV\n",
    "# from sklearn.tree import DecisionTreeClassifier, export_text\n",
    "# from sklearn.ensemble import RandomForestClassifier\n",
    "# from sklearn import tree\n",
    "\n",
    "# custom config\n",
    "from IPython.core.interactiveshell import InteractiveShell\n",
    "InteractiveShell.ast_node_interactivity = 'all'"
   ]
  },
  {
   "cell_type": "code",
   "execution_count": 18,
   "metadata": {},
   "outputs": [],
   "source": [
    "# MPL Settings\n",
    "%config InlineBackend.figure_format = 'svg'\n",
    "\n",
    "mpl.rcParams[\"font.family\"] = \"Arial\"\n",
    "mpl.rcParams['figure.dpi'] = 300\n",
    "mpl.rcParams[\"figure.figsize\"] = [10, 8]\n",
    "%matplotlib inline\n",
    "\n",
    "grey = '#808080'\n",
    "darkgrey = '#505050'\n",
    "# (http://www.color-hex.com/color/505050)\n",
    "\n",
    "mpl.rcParams['axes.linewidth'] = 0.3\n",
    "mpl.rcParams['axes.edgecolor'] = grey\n",
    "mpl.rcParams['xtick.color'] = grey\n",
    "mpl.rcParams['ytick.color'] = grey\n",
    "mpl.rcParams['text.color'] = darkgrey\n",
    "mpl.rcParams['axes.labelcolor'] = darkgrey"
   ]
  },
  {
   "cell_type": "code",
   "execution_count": 19,
   "metadata": {},
   "outputs": [],
   "source": [
    "df = pd.read_csv('train.csv')"
   ]
  },
  {
   "cell_type": "markdown",
   "metadata": {},
   "source": [
    "### Exploratory Data Analysis & Feature Engineering"
   ]
  },
  {
   "cell_type": "code",
   "execution_count": 20,
   "metadata": {},
   "outputs": [
    {
     "data": {
      "text/plain": [
       "(1460, 81)"
      ]
     },
     "execution_count": 20,
     "metadata": {},
     "output_type": "execute_result"
    },
    {
     "data": {
      "text/plain": [
       "object     43\n",
       "int64      35\n",
       "float64     3\n",
       "dtype: int64"
      ]
     },
     "execution_count": 20,
     "metadata": {},
     "output_type": "execute_result"
    },
    {
     "data": {
      "text/plain": [
       "Id               int64\n",
       "MSSubClass       int64\n",
       "MSZoning        object\n",
       "LotFrontage    float64\n",
       "LotArea          int64\n",
       "Street          object\n",
       "Alley           object\n",
       "LotShape        object\n",
       "LandContour     object\n",
       "Utilities       object\n",
       "dtype: object"
      ]
     },
     "execution_count": 20,
     "metadata": {},
     "output_type": "execute_result"
    },
    {
     "data": {
      "text/html": [
       "<div>\n",
       "<style scoped>\n",
       "    .dataframe tbody tr th:only-of-type {\n",
       "        vertical-align: middle;\n",
       "    }\n",
       "\n",
       "    .dataframe tbody tr th {\n",
       "        vertical-align: top;\n",
       "    }\n",
       "\n",
       "    .dataframe thead th {\n",
       "        text-align: right;\n",
       "    }\n",
       "</style>\n",
       "<table border=\"1\" class=\"dataframe\">\n",
       "  <thead>\n",
       "    <tr style=\"text-align: right;\">\n",
       "      <th></th>\n",
       "      <th>Id</th>\n",
       "      <th>MSSubClass</th>\n",
       "      <th>MSZoning</th>\n",
       "      <th>LotFrontage</th>\n",
       "      <th>LotArea</th>\n",
       "      <th>Street</th>\n",
       "      <th>Alley</th>\n",
       "      <th>LotShape</th>\n",
       "      <th>LandContour</th>\n",
       "      <th>Utilities</th>\n",
       "      <th>...</th>\n",
       "      <th>PoolArea</th>\n",
       "      <th>PoolQC</th>\n",
       "      <th>Fence</th>\n",
       "      <th>MiscFeature</th>\n",
       "      <th>MiscVal</th>\n",
       "      <th>MoSold</th>\n",
       "      <th>YrSold</th>\n",
       "      <th>SaleType</th>\n",
       "      <th>SaleCondition</th>\n",
       "      <th>SalePrice</th>\n",
       "    </tr>\n",
       "  </thead>\n",
       "  <tbody>\n",
       "    <tr>\n",
       "      <th>0</th>\n",
       "      <td>1</td>\n",
       "      <td>60</td>\n",
       "      <td>RL</td>\n",
       "      <td>65.0</td>\n",
       "      <td>8450</td>\n",
       "      <td>Pave</td>\n",
       "      <td>NaN</td>\n",
       "      <td>Reg</td>\n",
       "      <td>Lvl</td>\n",
       "      <td>AllPub</td>\n",
       "      <td>...</td>\n",
       "      <td>0</td>\n",
       "      <td>NaN</td>\n",
       "      <td>NaN</td>\n",
       "      <td>NaN</td>\n",
       "      <td>0</td>\n",
       "      <td>2</td>\n",
       "      <td>2008</td>\n",
       "      <td>WD</td>\n",
       "      <td>Normal</td>\n",
       "      <td>208500</td>\n",
       "    </tr>\n",
       "    <tr>\n",
       "      <th>1</th>\n",
       "      <td>2</td>\n",
       "      <td>20</td>\n",
       "      <td>RL</td>\n",
       "      <td>80.0</td>\n",
       "      <td>9600</td>\n",
       "      <td>Pave</td>\n",
       "      <td>NaN</td>\n",
       "      <td>Reg</td>\n",
       "      <td>Lvl</td>\n",
       "      <td>AllPub</td>\n",
       "      <td>...</td>\n",
       "      <td>0</td>\n",
       "      <td>NaN</td>\n",
       "      <td>NaN</td>\n",
       "      <td>NaN</td>\n",
       "      <td>0</td>\n",
       "      <td>5</td>\n",
       "      <td>2007</td>\n",
       "      <td>WD</td>\n",
       "      <td>Normal</td>\n",
       "      <td>181500</td>\n",
       "    </tr>\n",
       "    <tr>\n",
       "      <th>2</th>\n",
       "      <td>3</td>\n",
       "      <td>60</td>\n",
       "      <td>RL</td>\n",
       "      <td>68.0</td>\n",
       "      <td>11250</td>\n",
       "      <td>Pave</td>\n",
       "      <td>NaN</td>\n",
       "      <td>IR1</td>\n",
       "      <td>Lvl</td>\n",
       "      <td>AllPub</td>\n",
       "      <td>...</td>\n",
       "      <td>0</td>\n",
       "      <td>NaN</td>\n",
       "      <td>NaN</td>\n",
       "      <td>NaN</td>\n",
       "      <td>0</td>\n",
       "      <td>9</td>\n",
       "      <td>2008</td>\n",
       "      <td>WD</td>\n",
       "      <td>Normal</td>\n",
       "      <td>223500</td>\n",
       "    </tr>\n",
       "    <tr>\n",
       "      <th>3</th>\n",
       "      <td>4</td>\n",
       "      <td>70</td>\n",
       "      <td>RL</td>\n",
       "      <td>60.0</td>\n",
       "      <td>9550</td>\n",
       "      <td>Pave</td>\n",
       "      <td>NaN</td>\n",
       "      <td>IR1</td>\n",
       "      <td>Lvl</td>\n",
       "      <td>AllPub</td>\n",
       "      <td>...</td>\n",
       "      <td>0</td>\n",
       "      <td>NaN</td>\n",
       "      <td>NaN</td>\n",
       "      <td>NaN</td>\n",
       "      <td>0</td>\n",
       "      <td>2</td>\n",
       "      <td>2006</td>\n",
       "      <td>WD</td>\n",
       "      <td>Abnorml</td>\n",
       "      <td>140000</td>\n",
       "    </tr>\n",
       "    <tr>\n",
       "      <th>4</th>\n",
       "      <td>5</td>\n",
       "      <td>60</td>\n",
       "      <td>RL</td>\n",
       "      <td>84.0</td>\n",
       "      <td>14260</td>\n",
       "      <td>Pave</td>\n",
       "      <td>NaN</td>\n",
       "      <td>IR1</td>\n",
       "      <td>Lvl</td>\n",
       "      <td>AllPub</td>\n",
       "      <td>...</td>\n",
       "      <td>0</td>\n",
       "      <td>NaN</td>\n",
       "      <td>NaN</td>\n",
       "      <td>NaN</td>\n",
       "      <td>0</td>\n",
       "      <td>12</td>\n",
       "      <td>2008</td>\n",
       "      <td>WD</td>\n",
       "      <td>Normal</td>\n",
       "      <td>250000</td>\n",
       "    </tr>\n",
       "    <tr>\n",
       "      <th>5</th>\n",
       "      <td>6</td>\n",
       "      <td>50</td>\n",
       "      <td>RL</td>\n",
       "      <td>85.0</td>\n",
       "      <td>14115</td>\n",
       "      <td>Pave</td>\n",
       "      <td>NaN</td>\n",
       "      <td>IR1</td>\n",
       "      <td>Lvl</td>\n",
       "      <td>AllPub</td>\n",
       "      <td>...</td>\n",
       "      <td>0</td>\n",
       "      <td>NaN</td>\n",
       "      <td>MnPrv</td>\n",
       "      <td>Shed</td>\n",
       "      <td>700</td>\n",
       "      <td>10</td>\n",
       "      <td>2009</td>\n",
       "      <td>WD</td>\n",
       "      <td>Normal</td>\n",
       "      <td>143000</td>\n",
       "    </tr>\n",
       "    <tr>\n",
       "      <th>6</th>\n",
       "      <td>7</td>\n",
       "      <td>20</td>\n",
       "      <td>RL</td>\n",
       "      <td>75.0</td>\n",
       "      <td>10084</td>\n",
       "      <td>Pave</td>\n",
       "      <td>NaN</td>\n",
       "      <td>Reg</td>\n",
       "      <td>Lvl</td>\n",
       "      <td>AllPub</td>\n",
       "      <td>...</td>\n",
       "      <td>0</td>\n",
       "      <td>NaN</td>\n",
       "      <td>NaN</td>\n",
       "      <td>NaN</td>\n",
       "      <td>0</td>\n",
       "      <td>8</td>\n",
       "      <td>2007</td>\n",
       "      <td>WD</td>\n",
       "      <td>Normal</td>\n",
       "      <td>307000</td>\n",
       "    </tr>\n",
       "    <tr>\n",
       "      <th>7</th>\n",
       "      <td>8</td>\n",
       "      <td>60</td>\n",
       "      <td>RL</td>\n",
       "      <td>NaN</td>\n",
       "      <td>10382</td>\n",
       "      <td>Pave</td>\n",
       "      <td>NaN</td>\n",
       "      <td>IR1</td>\n",
       "      <td>Lvl</td>\n",
       "      <td>AllPub</td>\n",
       "      <td>...</td>\n",
       "      <td>0</td>\n",
       "      <td>NaN</td>\n",
       "      <td>NaN</td>\n",
       "      <td>Shed</td>\n",
       "      <td>350</td>\n",
       "      <td>11</td>\n",
       "      <td>2009</td>\n",
       "      <td>WD</td>\n",
       "      <td>Normal</td>\n",
       "      <td>200000</td>\n",
       "    </tr>\n",
       "    <tr>\n",
       "      <th>8</th>\n",
       "      <td>9</td>\n",
       "      <td>50</td>\n",
       "      <td>RM</td>\n",
       "      <td>51.0</td>\n",
       "      <td>6120</td>\n",
       "      <td>Pave</td>\n",
       "      <td>NaN</td>\n",
       "      <td>Reg</td>\n",
       "      <td>Lvl</td>\n",
       "      <td>AllPub</td>\n",
       "      <td>...</td>\n",
       "      <td>0</td>\n",
       "      <td>NaN</td>\n",
       "      <td>NaN</td>\n",
       "      <td>NaN</td>\n",
       "      <td>0</td>\n",
       "      <td>4</td>\n",
       "      <td>2008</td>\n",
       "      <td>WD</td>\n",
       "      <td>Abnorml</td>\n",
       "      <td>129900</td>\n",
       "    </tr>\n",
       "    <tr>\n",
       "      <th>9</th>\n",
       "      <td>10</td>\n",
       "      <td>190</td>\n",
       "      <td>RL</td>\n",
       "      <td>50.0</td>\n",
       "      <td>7420</td>\n",
       "      <td>Pave</td>\n",
       "      <td>NaN</td>\n",
       "      <td>Reg</td>\n",
       "      <td>Lvl</td>\n",
       "      <td>AllPub</td>\n",
       "      <td>...</td>\n",
       "      <td>0</td>\n",
       "      <td>NaN</td>\n",
       "      <td>NaN</td>\n",
       "      <td>NaN</td>\n",
       "      <td>0</td>\n",
       "      <td>1</td>\n",
       "      <td>2008</td>\n",
       "      <td>WD</td>\n",
       "      <td>Normal</td>\n",
       "      <td>118000</td>\n",
       "    </tr>\n",
       "  </tbody>\n",
       "</table>\n",
       "<p>10 rows × 81 columns</p>\n",
       "</div>"
      ],
      "text/plain": [
       "   Id  MSSubClass MSZoning  LotFrontage  LotArea Street Alley LotShape  \\\n",
       "0   1          60       RL         65.0     8450   Pave   NaN      Reg   \n",
       "1   2          20       RL         80.0     9600   Pave   NaN      Reg   \n",
       "2   3          60       RL         68.0    11250   Pave   NaN      IR1   \n",
       "3   4          70       RL         60.0     9550   Pave   NaN      IR1   \n",
       "4   5          60       RL         84.0    14260   Pave   NaN      IR1   \n",
       "5   6          50       RL         85.0    14115   Pave   NaN      IR1   \n",
       "6   7          20       RL         75.0    10084   Pave   NaN      Reg   \n",
       "7   8          60       RL          NaN    10382   Pave   NaN      IR1   \n",
       "8   9          50       RM         51.0     6120   Pave   NaN      Reg   \n",
       "9  10         190       RL         50.0     7420   Pave   NaN      Reg   \n",
       "\n",
       "  LandContour Utilities  ... PoolArea PoolQC  Fence MiscFeature MiscVal  \\\n",
       "0         Lvl    AllPub  ...        0    NaN    NaN         NaN       0   \n",
       "1         Lvl    AllPub  ...        0    NaN    NaN         NaN       0   \n",
       "2         Lvl    AllPub  ...        0    NaN    NaN         NaN       0   \n",
       "3         Lvl    AllPub  ...        0    NaN    NaN         NaN       0   \n",
       "4         Lvl    AllPub  ...        0    NaN    NaN         NaN       0   \n",
       "5         Lvl    AllPub  ...        0    NaN  MnPrv        Shed     700   \n",
       "6         Lvl    AllPub  ...        0    NaN    NaN         NaN       0   \n",
       "7         Lvl    AllPub  ...        0    NaN    NaN        Shed     350   \n",
       "8         Lvl    AllPub  ...        0    NaN    NaN         NaN       0   \n",
       "9         Lvl    AllPub  ...        0    NaN    NaN         NaN       0   \n",
       "\n",
       "  MoSold YrSold  SaleType  SaleCondition  SalePrice  \n",
       "0      2   2008        WD         Normal     208500  \n",
       "1      5   2007        WD         Normal     181500  \n",
       "2      9   2008        WD         Normal     223500  \n",
       "3      2   2006        WD        Abnorml     140000  \n",
       "4     12   2008        WD         Normal     250000  \n",
       "5     10   2009        WD         Normal     143000  \n",
       "6      8   2007        WD         Normal     307000  \n",
       "7     11   2009        WD         Normal     200000  \n",
       "8      4   2008        WD        Abnorml     129900  \n",
       "9      1   2008        WD         Normal     118000  \n",
       "\n",
       "[10 rows x 81 columns]"
      ]
     },
     "execution_count": 20,
     "metadata": {},
     "output_type": "execute_result"
    },
    {
     "data": {
      "text/plain": [
       "1460"
      ]
     },
     "execution_count": 20,
     "metadata": {},
     "output_type": "execute_result"
    }
   ],
   "source": [
    "df.shape\n",
    "df.dtypes.value_counts()\n",
    "df.dtypes.head(10)\n",
    "df.head(10)\n",
    "\n",
    "row_ct = df.shape[0]\n",
    "row_ct\n"
   ]
  },
  {
   "cell_type": "code",
   "execution_count": 21,
   "metadata": {},
   "outputs": [
    {
     "data": {
      "text/html": [
       "<div>\n",
       "<style scoped>\n",
       "    .dataframe tbody tr th:only-of-type {\n",
       "        vertical-align: middle;\n",
       "    }\n",
       "\n",
       "    .dataframe tbody tr th {\n",
       "        vertical-align: top;\n",
       "    }\n",
       "\n",
       "    .dataframe thead th {\n",
       "        text-align: right;\n",
       "    }\n",
       "</style>\n",
       "<table border=\"1\" class=\"dataframe\">\n",
       "  <thead>\n",
       "    <tr style=\"text-align: right;\">\n",
       "      <th></th>\n",
       "      <th>MSSubClass</th>\n",
       "      <th>MSZoning</th>\n",
       "      <th>LotFrontage</th>\n",
       "      <th>LotArea</th>\n",
       "      <th>Street</th>\n",
       "      <th>Alley</th>\n",
       "      <th>LotShape</th>\n",
       "      <th>LandContour</th>\n",
       "      <th>Utilities</th>\n",
       "      <th>LotConfig</th>\n",
       "      <th>...</th>\n",
       "      <th>PoolArea</th>\n",
       "      <th>PoolQC</th>\n",
       "      <th>Fence</th>\n",
       "      <th>MiscFeature</th>\n",
       "      <th>MiscVal</th>\n",
       "      <th>MoSold</th>\n",
       "      <th>YrSold</th>\n",
       "      <th>SaleType</th>\n",
       "      <th>SaleCondition</th>\n",
       "      <th>SalePrice</th>\n",
       "    </tr>\n",
       "  </thead>\n",
       "  <tbody>\n",
       "    <tr>\n",
       "      <th>0</th>\n",
       "      <td>60</td>\n",
       "      <td>RL</td>\n",
       "      <td>65.0</td>\n",
       "      <td>8450</td>\n",
       "      <td>Pave</td>\n",
       "      <td>NaN</td>\n",
       "      <td>Reg</td>\n",
       "      <td>Lvl</td>\n",
       "      <td>AllPub</td>\n",
       "      <td>Inside</td>\n",
       "      <td>...</td>\n",
       "      <td>0</td>\n",
       "      <td>NaN</td>\n",
       "      <td>NaN</td>\n",
       "      <td>NaN</td>\n",
       "      <td>0</td>\n",
       "      <td>2</td>\n",
       "      <td>2008</td>\n",
       "      <td>WD</td>\n",
       "      <td>Normal</td>\n",
       "      <td>208500</td>\n",
       "    </tr>\n",
       "    <tr>\n",
       "      <th>1</th>\n",
       "      <td>20</td>\n",
       "      <td>RL</td>\n",
       "      <td>80.0</td>\n",
       "      <td>9600</td>\n",
       "      <td>Pave</td>\n",
       "      <td>NaN</td>\n",
       "      <td>Reg</td>\n",
       "      <td>Lvl</td>\n",
       "      <td>AllPub</td>\n",
       "      <td>FR2</td>\n",
       "      <td>...</td>\n",
       "      <td>0</td>\n",
       "      <td>NaN</td>\n",
       "      <td>NaN</td>\n",
       "      <td>NaN</td>\n",
       "      <td>0</td>\n",
       "      <td>5</td>\n",
       "      <td>2007</td>\n",
       "      <td>WD</td>\n",
       "      <td>Normal</td>\n",
       "      <td>181500</td>\n",
       "    </tr>\n",
       "    <tr>\n",
       "      <th>2</th>\n",
       "      <td>60</td>\n",
       "      <td>RL</td>\n",
       "      <td>68.0</td>\n",
       "      <td>11250</td>\n",
       "      <td>Pave</td>\n",
       "      <td>NaN</td>\n",
       "      <td>IR1</td>\n",
       "      <td>Lvl</td>\n",
       "      <td>AllPub</td>\n",
       "      <td>Inside</td>\n",
       "      <td>...</td>\n",
       "      <td>0</td>\n",
       "      <td>NaN</td>\n",
       "      <td>NaN</td>\n",
       "      <td>NaN</td>\n",
       "      <td>0</td>\n",
       "      <td>9</td>\n",
       "      <td>2008</td>\n",
       "      <td>WD</td>\n",
       "      <td>Normal</td>\n",
       "      <td>223500</td>\n",
       "    </tr>\n",
       "    <tr>\n",
       "      <th>3</th>\n",
       "      <td>70</td>\n",
       "      <td>RL</td>\n",
       "      <td>60.0</td>\n",
       "      <td>9550</td>\n",
       "      <td>Pave</td>\n",
       "      <td>NaN</td>\n",
       "      <td>IR1</td>\n",
       "      <td>Lvl</td>\n",
       "      <td>AllPub</td>\n",
       "      <td>Corner</td>\n",
       "      <td>...</td>\n",
       "      <td>0</td>\n",
       "      <td>NaN</td>\n",
       "      <td>NaN</td>\n",
       "      <td>NaN</td>\n",
       "      <td>0</td>\n",
       "      <td>2</td>\n",
       "      <td>2006</td>\n",
       "      <td>WD</td>\n",
       "      <td>Abnorml</td>\n",
       "      <td>140000</td>\n",
       "    </tr>\n",
       "    <tr>\n",
       "      <th>4</th>\n",
       "      <td>60</td>\n",
       "      <td>RL</td>\n",
       "      <td>84.0</td>\n",
       "      <td>14260</td>\n",
       "      <td>Pave</td>\n",
       "      <td>NaN</td>\n",
       "      <td>IR1</td>\n",
       "      <td>Lvl</td>\n",
       "      <td>AllPub</td>\n",
       "      <td>FR2</td>\n",
       "      <td>...</td>\n",
       "      <td>0</td>\n",
       "      <td>NaN</td>\n",
       "      <td>NaN</td>\n",
       "      <td>NaN</td>\n",
       "      <td>0</td>\n",
       "      <td>12</td>\n",
       "      <td>2008</td>\n",
       "      <td>WD</td>\n",
       "      <td>Normal</td>\n",
       "      <td>250000</td>\n",
       "    </tr>\n",
       "  </tbody>\n",
       "</table>\n",
       "<p>5 rows × 80 columns</p>\n",
       "</div>"
      ],
      "text/plain": [
       "   MSSubClass MSZoning  LotFrontage  LotArea Street Alley LotShape  \\\n",
       "0          60       RL         65.0     8450   Pave   NaN      Reg   \n",
       "1          20       RL         80.0     9600   Pave   NaN      Reg   \n",
       "2          60       RL         68.0    11250   Pave   NaN      IR1   \n",
       "3          70       RL         60.0     9550   Pave   NaN      IR1   \n",
       "4          60       RL         84.0    14260   Pave   NaN      IR1   \n",
       "\n",
       "  LandContour Utilities LotConfig  ... PoolArea PoolQC Fence MiscFeature  \\\n",
       "0         Lvl    AllPub    Inside  ...        0    NaN   NaN         NaN   \n",
       "1         Lvl    AllPub       FR2  ...        0    NaN   NaN         NaN   \n",
       "2         Lvl    AllPub    Inside  ...        0    NaN   NaN         NaN   \n",
       "3         Lvl    AllPub    Corner  ...        0    NaN   NaN         NaN   \n",
       "4         Lvl    AllPub       FR2  ...        0    NaN   NaN         NaN   \n",
       "\n",
       "  MiscVal MoSold  YrSold  SaleType  SaleCondition  SalePrice  \n",
       "0       0      2    2008        WD         Normal     208500  \n",
       "1       0      5    2007        WD         Normal     181500  \n",
       "2       0      9    2008        WD         Normal     223500  \n",
       "3       0      2    2006        WD        Abnorml     140000  \n",
       "4       0     12    2008        WD         Normal     250000  \n",
       "\n",
       "[5 rows x 80 columns]"
      ]
     },
     "execution_count": 21,
     "metadata": {},
     "output_type": "execute_result"
    }
   ],
   "source": [
    "# Drop ID\n",
    "df.drop('Id', axis=1, inplace=True)\n",
    "df.head()"
   ]
  },
  {
   "cell_type": "code",
   "execution_count": 22,
   "metadata": {},
   "outputs": [],
   "source": [
    "def cent_tendency(col):\n",
    "    mean = col.mean()\n",
    "    median = col.median()\n",
    "    mode = col.mode()\n",
    "    print(f\"The mean is {mean}\")\n",
    "    print(f\"The median is {median}\")\n",
    "    print(f\"The mode is {mode}\")\n",
    "    print()\n",
    "    return mean, median, mode"
   ]
  },
  {
   "cell_type": "code",
   "execution_count": 23,
   "metadata": {},
   "outputs": [
    {
     "name": "stdout",
     "output_type": "stream",
     "text": [
      "The mean is 180921.19589041095\n",
      "The median is 163000.0\n",
      "The mode is 0    140000\n",
      "dtype: int64\n",
      "\n"
     ]
    }
   ],
   "source": [
    "tgt_mean, tgt_median, tgt_mode = cent_tendency(df.SalePrice)"
   ]
  },
  {
   "cell_type": "code",
   "execution_count": 24,
   "metadata": {},
   "outputs": [
    {
     "data": {
      "text/plain": [
       "180921.19589041095"
      ]
     },
     "execution_count": 24,
     "metadata": {},
     "output_type": "execute_result"
    },
    {
     "data": {
      "text/plain": [
       "163000.0"
      ]
     },
     "execution_count": 24,
     "metadata": {},
     "output_type": "execute_result"
    },
    {
     "data": {
      "text/plain": [
       "0    140000\n",
       "dtype: int64"
      ]
     },
     "execution_count": 24,
     "metadata": {},
     "output_type": "execute_result"
    }
   ],
   "source": [
    "tgt_mean\n",
    "tgt_median\n",
    "tgt_mode"
   ]
  },
  {
   "cell_type": "code",
   "execution_count": 25,
   "metadata": {},
   "outputs": [
    {
     "data": {
      "text/plain": [
       "<seaborn.axisgrid.FacetGrid at 0x7fed380126a0>"
      ]
     },
     "execution_count": 25,
     "metadata": {},
     "output_type": "execute_result"
    },
    {
     "data": {
      "text/plain": [
       "<matplotlib.lines.Line2D at 0x7fed381bae50>"
      ]
     },
     "execution_count": 25,
     "metadata": {},
     "output_type": "execute_result"
    },
    {
     "data": {
      "text/plain": [
       "<matplotlib.lines.Line2D at 0x7fed373087f0>"
      ]
     },
     "execution_count": 25,
     "metadata": {},
     "output_type": "execute_result"
    },
    {
     "data": {
      "text/plain": [
       "Text(189967.2556849315, 148.68, 'Mean: 180921')"
      ]
     },
     "execution_count": 25,
     "metadata": {},
     "output_type": "execute_result"
    },
    {
     "data": {
      "text/plain": [
       "Text(171150.0, 167.265, 'Median: 163000')"
      ]
     },
     "execution_count": 25,
     "metadata": {},
     "output_type": "execute_result"
    },
    {
     "data": {
      "image/svg+xml": "<?xml version=\"1.0\" encoding=\"utf-8\" standalone=\"no\"?>\n<!DOCTYPE svg PUBLIC \"-//W3C//DTD SVG 1.1//EN\"\n  \"http://www.w3.org/Graphics/SVG/1.1/DTD/svg11.dtd\">\n<svg height=\"353.090625pt\" version=\"1.1\" viewBox=\"0 0 352.753125 353.090625\" width=\"352.753125pt\" xmlns=\"http://www.w3.org/2000/svg\" xmlns:xlink=\"http://www.w3.org/1999/xlink\">\n <metadata>\n  <rdf:RDF xmlns:cc=\"http://creativecommons.org/ns#\" xmlns:dc=\"http://purl.org/dc/elements/1.1/\" xmlns:rdf=\"http://www.w3.org/1999/02/22-rdf-syntax-ns#\">\n   <cc:Work>\n    <dc:type rdf:resource=\"http://purl.org/dc/dcmitype/StillImage\"/>\n    <dc:date>2022-01-23T14:46:58.816782</dc:date>\n    <dc:format>image/svg+xml</dc:format>\n    <dc:creator>\n     <cc:Agent>\n      <dc:title>Matplotlib v3.4.2, https://matplotlib.org/</dc:title>\n     </cc:Agent>\n    </dc:creator>\n   </cc:Work>\n  </rdf:RDF>\n </metadata>\n <defs>\n  <style type=\"text/css\">*{stroke-linecap:butt;stroke-linejoin:round;}</style>\n </defs>\n <g id=\"figure_1\">\n  <g id=\"patch_1\">\n   <path d=\"M 0 353.090625 \nL 352.753125 353.090625 \nL 352.753125 0 \nL 0 0 \nz\n\" style=\"fill:none;\"/>\n  </g>\n  <g id=\"axes_1\">\n   <g id=\"patch_2\">\n    <path d=\"M 44.028125 316.6 \nL 345.553125 316.6 \nL 345.553125 7.2 \nL 44.028125 7.2 \nz\n\" style=\"fill:#ffffff;\"/>\n   </g>\n   <g id=\"patch_3\">\n    <path clip-path=\"url(#p924d46364f)\" d=\"M 57.733807 316.6 \nL 63.327963 316.6 \nL 63.327963 308.276083 \nL 57.733807 308.276083 \nz\n\" style=\"fill:#1f77b4;fill-opacity:0.75;stroke:#000000;stroke-linejoin:miter;stroke-width:0.575881;\"/>\n   </g>\n   <g id=\"patch_4\">\n    <path clip-path=\"url(#p924d46364f)\" d=\"M 63.327963 316.6 \nL 68.922119 316.6 \nL 68.922119 298.287382 \nL 63.327963 298.287382 \nz\n\" style=\"fill:#1f77b4;fill-opacity:0.75;stroke:#000000;stroke-linejoin:miter;stroke-width:0.575881;\"/>\n   </g>\n   <g id=\"patch_5\">\n    <path clip-path=\"url(#p924d46364f)\" d=\"M 68.922119 316.6 \nL 74.516274 316.6 \nL 74.516274 294.957815 \nL 68.922119 294.957815 \nz\n\" style=\"fill:#1f77b4;fill-opacity:0.75;stroke:#000000;stroke-linejoin:miter;stroke-width:0.575881;\"/>\n   </g>\n   <g id=\"patch_6\">\n    <path clip-path=\"url(#p924d46364f)\" d=\"M 74.516274 316.6 \nL 80.11043 316.6 \nL 80.11043 205.05951 \nL 74.516274 205.05951 \nz\n\" style=\"fill:#1f77b4;fill-opacity:0.75;stroke:#000000;stroke-linejoin:miter;stroke-width:0.575881;\"/>\n   </g>\n   <g id=\"patch_7\">\n    <path clip-path=\"url(#p924d46364f)\" d=\"M 80.11043 316.6 \nL 85.704586 316.6 \nL 85.704586 206.724294 \nL 80.11043 206.724294 \nz\n\" style=\"fill:#1f77b4;fill-opacity:0.75;stroke:#000000;stroke-linejoin:miter;stroke-width:0.575881;\"/>\n   </g>\n   <g id=\"patch_8\">\n    <path clip-path=\"url(#p924d46364f)\" d=\"M 85.704586 316.6 \nL 91.298742 316.6 \nL 91.298742 108.502072 \nL 85.704586 108.502072 \nz\n\" style=\"fill:#1f77b4;fill-opacity:0.75;stroke:#000000;stroke-linejoin:miter;stroke-width:0.575881;\"/>\n   </g>\n   <g id=\"patch_9\">\n    <path clip-path=\"url(#p924d46364f)\" d=\"M 91.298742 316.6 \nL 96.892898 316.6 \nL 96.892898 21.933333 \nL 91.298742 21.933333 \nz\n\" style=\"fill:#1f77b4;fill-opacity:0.75;stroke:#000000;stroke-linejoin:miter;stroke-width:0.575881;\"/>\n   </g>\n   <g id=\"patch_10\">\n    <path clip-path=\"url(#p924d46364f)\" d=\"M 96.892898 316.6 \nL 102.487054 316.6 \nL 102.487054 31.922034 \nL 96.892898 31.922034 \nz\n\" style=\"fill:#1f77b4;fill-opacity:0.75;stroke:#000000;stroke-linejoin:miter;stroke-width:0.575881;\"/>\n   </g>\n   <g id=\"patch_11\">\n    <path clip-path=\"url(#p924d46364f)\" d=\"M 102.487054 316.6 \nL 108.081209 316.6 \nL 108.081209 101.842938 \nL 102.487054 101.842938 \nz\n\" style=\"fill:#1f77b4;fill-opacity:0.75;stroke:#000000;stroke-linejoin:miter;stroke-width:0.575881;\"/>\n   </g>\n   <g id=\"patch_12\">\n    <path clip-path=\"url(#p924d46364f)\" d=\"M 108.081209 316.6 \nL 113.675365 316.6 \nL 113.675365 75.206403 \nL 108.081209 75.206403 \nz\n\" style=\"fill:#1f77b4;fill-opacity:0.75;stroke:#000000;stroke-linejoin:miter;stroke-width:0.575881;\"/>\n   </g>\n   <g id=\"patch_13\">\n    <path clip-path=\"url(#p924d46364f)\" d=\"M 113.675365 316.6 \nL 119.269521 316.6 \nL 119.269521 145.127307 \nL 113.675365 145.127307 \nz\n\" style=\"fill:#1f77b4;fill-opacity:0.75;stroke:#000000;stroke-linejoin:miter;stroke-width:0.575881;\"/>\n   </g>\n   <g id=\"patch_14\">\n    <path clip-path=\"url(#p924d46364f)\" d=\"M 119.269521 316.6 \nL 124.863677 316.6 \nL 124.863677 200.06516 \nL 119.269521 200.06516 \nz\n\" style=\"fill:#1f77b4;fill-opacity:0.75;stroke:#000000;stroke-linejoin:miter;stroke-width:0.575881;\"/>\n   </g>\n   <g id=\"patch_15\">\n    <path clip-path=\"url(#p924d46364f)\" d=\"M 124.863677 316.6 \nL 130.457833 316.6 \nL 130.457833 208.389077 \nL 124.863677 208.389077 \nz\n\" style=\"fill:#1f77b4;fill-opacity:0.75;stroke:#000000;stroke-linejoin:miter;stroke-width:0.575881;\"/>\n   </g>\n   <g id=\"patch_16\">\n    <path clip-path=\"url(#p924d46364f)\" d=\"M 130.457833 316.6 \nL 136.051989 316.6 \nL 136.051989 203.394727 \nL 130.457833 203.394727 \nz\n\" style=\"fill:#1f77b4;fill-opacity:0.75;stroke:#000000;stroke-linejoin:miter;stroke-width:0.575881;\"/>\n   </g>\n   <g id=\"patch_17\">\n    <path clip-path=\"url(#p924d46364f)\" d=\"M 136.051989 316.6 \nL 141.646144 316.6 \nL 141.646144 253.33823 \nL 136.051989 253.33823 \nz\n\" style=\"fill:#1f77b4;fill-opacity:0.75;stroke:#000000;stroke-linejoin:miter;stroke-width:0.575881;\"/>\n   </g>\n   <g id=\"patch_18\">\n    <path clip-path=\"url(#p924d46364f)\" d=\"M 141.646144 316.6 \nL 147.2403 316.6 \nL 147.2403 250.008663 \nL 141.646144 250.008663 \nz\n\" style=\"fill:#1f77b4;fill-opacity:0.75;stroke:#000000;stroke-linejoin:miter;stroke-width:0.575881;\"/>\n   </g>\n   <g id=\"patch_19\">\n    <path clip-path=\"url(#p924d46364f)\" d=\"M 147.2403 316.6 \nL 152.834456 316.6 \nL 152.834456 261.662147 \nL 147.2403 261.662147 \nz\n\" style=\"fill:#1f77b4;fill-opacity:0.75;stroke:#000000;stroke-linejoin:miter;stroke-width:0.575881;\"/>\n   </g>\n   <g id=\"patch_20\">\n    <path clip-path=\"url(#p924d46364f)\" d=\"M 152.834456 316.6 \nL 158.428612 316.6 \nL 158.428612 286.633898 \nL 152.834456 286.633898 \nz\n\" style=\"fill:#1f77b4;fill-opacity:0.75;stroke:#000000;stroke-linejoin:miter;stroke-width:0.575881;\"/>\n   </g>\n   <g id=\"patch_21\">\n    <path clip-path=\"url(#p924d46364f)\" d=\"M 158.428612 316.6 \nL 164.022768 316.6 \nL 164.022768 288.298682 \nL 158.428612 288.298682 \nz\n\" style=\"fill:#1f77b4;fill-opacity:0.75;stroke:#000000;stroke-linejoin:miter;stroke-width:0.575881;\"/>\n   </g>\n   <g id=\"patch_22\">\n    <path clip-path=\"url(#p924d46364f)\" d=\"M 164.022768 316.6 \nL 169.616924 316.6 \nL 169.616924 271.650847 \nL 164.022768 271.650847 \nz\n\" style=\"fill:#1f77b4;fill-opacity:0.75;stroke:#000000;stroke-linejoin:miter;stroke-width:0.575881;\"/>\n   </g>\n   <g id=\"patch_23\">\n    <path clip-path=\"url(#p924d46364f)\" d=\"M 169.616924 316.6 \nL 175.21108 316.6 \nL 175.21108 294.957815 \nL 169.616924 294.957815 \nz\n\" style=\"fill:#1f77b4;fill-opacity:0.75;stroke:#000000;stroke-linejoin:miter;stroke-width:0.575881;\"/>\n   </g>\n   <g id=\"patch_24\">\n    <path clip-path=\"url(#p924d46364f)\" d=\"M 175.21108 316.6 \nL 180.805235 316.6 \nL 180.805235 306.611299 \nL 175.21108 306.611299 \nz\n\" style=\"fill:#1f77b4;fill-opacity:0.75;stroke:#000000;stroke-linejoin:miter;stroke-width:0.575881;\"/>\n   </g>\n   <g id=\"patch_25\">\n    <path clip-path=\"url(#p924d46364f)\" d=\"M 180.805235 316.6 \nL 186.399391 316.6 \nL 186.399391 303.281733 \nL 180.805235 303.281733 \nz\n\" style=\"fill:#1f77b4;fill-opacity:0.75;stroke:#000000;stroke-linejoin:miter;stroke-width:0.575881;\"/>\n   </g>\n   <g id=\"patch_26\">\n    <path clip-path=\"url(#p924d46364f)\" d=\"M 186.399391 316.6 \nL 191.993547 316.6 \nL 191.993547 298.287382 \nL 186.399391 298.287382 \nz\n\" style=\"fill:#1f77b4;fill-opacity:0.75;stroke:#000000;stroke-linejoin:miter;stroke-width:0.575881;\"/>\n   </g>\n   <g id=\"patch_27\">\n    <path clip-path=\"url(#p924d46364f)\" d=\"M 191.993547 316.6 \nL 197.587703 316.6 \nL 197.587703 304.946516 \nL 191.993547 304.946516 \nz\n\" style=\"fill:#1f77b4;fill-opacity:0.75;stroke:#000000;stroke-linejoin:miter;stroke-width:0.575881;\"/>\n   </g>\n   <g id=\"patch_28\">\n    <path clip-path=\"url(#p924d46364f)\" d=\"M 197.587703 316.6 \nL 203.181859 316.6 \nL 203.181859 308.276083 \nL 197.587703 308.276083 \nz\n\" style=\"fill:#1f77b4;fill-opacity:0.75;stroke:#000000;stroke-linejoin:miter;stroke-width:0.575881;\"/>\n   </g>\n   <g id=\"patch_29\">\n    <path clip-path=\"url(#p924d46364f)\" d=\"M 203.181859 316.6 \nL 208.776015 316.6 \nL 208.776015 309.940866 \nL 203.181859 309.940866 \nz\n\" style=\"fill:#1f77b4;fill-opacity:0.75;stroke:#000000;stroke-linejoin:miter;stroke-width:0.575881;\"/>\n   </g>\n   <g id=\"patch_30\">\n    <path clip-path=\"url(#p924d46364f)\" d=\"M 208.776015 316.6 \nL 214.37017 316.6 \nL 214.37017 309.940866 \nL 208.776015 309.940866 \nz\n\" style=\"fill:#1f77b4;fill-opacity:0.75;stroke:#000000;stroke-linejoin:miter;stroke-width:0.575881;\"/>\n   </g>\n   <g id=\"patch_31\">\n    <path clip-path=\"url(#p924d46364f)\" d=\"M 214.37017 316.6 \nL 219.964326 316.6 \nL 219.964326 314.935217 \nL 214.37017 314.935217 \nz\n\" style=\"fill:#1f77b4;fill-opacity:0.75;stroke:#000000;stroke-linejoin:miter;stroke-width:0.575881;\"/>\n   </g>\n   <g id=\"patch_32\">\n    <path clip-path=\"url(#p924d46364f)\" d=\"M 219.964326 316.6 \nL 225.558482 316.6 \nL 225.558482 311.60565 \nL 219.964326 311.60565 \nz\n\" style=\"fill:#1f77b4;fill-opacity:0.75;stroke:#000000;stroke-linejoin:miter;stroke-width:0.575881;\"/>\n   </g>\n   <g id=\"patch_33\">\n    <path clip-path=\"url(#p924d46364f)\" d=\"M 225.558482 316.6 \nL 231.152638 316.6 \nL 231.152638 314.935217 \nL 225.558482 314.935217 \nz\n\" style=\"fill:#1f77b4;fill-opacity:0.75;stroke:#000000;stroke-linejoin:miter;stroke-width:0.575881;\"/>\n   </g>\n   <g id=\"patch_34\">\n    <path clip-path=\"url(#p924d46364f)\" d=\"M 231.152638 316.6 \nL 236.746794 316.6 \nL 236.746794 314.935217 \nL 231.152638 314.935217 \nz\n\" style=\"fill:#1f77b4;fill-opacity:0.75;stroke:#000000;stroke-linejoin:miter;stroke-width:0.575881;\"/>\n   </g>\n   <g id=\"patch_35\">\n    <path clip-path=\"url(#p924d46364f)\" d=\"M 236.746794 316.6 \nL 242.34095 316.6 \nL 242.34095 316.6 \nL 236.746794 316.6 \nz\n\" style=\"fill:#1f77b4;fill-opacity:0.75;stroke:#000000;stroke-linejoin:miter;stroke-width:0.575881;\"/>\n   </g>\n   <g id=\"patch_36\">\n    <path clip-path=\"url(#p924d46364f)\" d=\"M 242.34095 316.6 \nL 247.935106 316.6 \nL 247.935106 316.6 \nL 242.34095 316.6 \nz\n\" style=\"fill:#1f77b4;fill-opacity:0.75;stroke:#000000;stroke-linejoin:miter;stroke-width:0.575881;\"/>\n   </g>\n   <g id=\"patch_37\">\n    <path clip-path=\"url(#p924d46364f)\" d=\"M 247.935106 316.6 \nL 253.529261 316.6 \nL 253.529261 314.935217 \nL 247.935106 314.935217 \nz\n\" style=\"fill:#1f77b4;fill-opacity:0.75;stroke:#000000;stroke-linejoin:miter;stroke-width:0.575881;\"/>\n   </g>\n   <g id=\"patch_38\">\n    <path clip-path=\"url(#p924d46364f)\" d=\"M 253.529261 316.6 \nL 259.123417 316.6 \nL 259.123417 313.270433 \nL 253.529261 313.270433 \nz\n\" style=\"fill:#1f77b4;fill-opacity:0.75;stroke:#000000;stroke-linejoin:miter;stroke-width:0.575881;\"/>\n   </g>\n   <g id=\"patch_39\">\n    <path clip-path=\"url(#p924d46364f)\" d=\"M 259.123417 316.6 \nL 264.717573 316.6 \nL 264.717573 316.6 \nL 259.123417 316.6 \nz\n\" style=\"fill:#1f77b4;fill-opacity:0.75;stroke:#000000;stroke-linejoin:miter;stroke-width:0.575881;\"/>\n   </g>\n   <g id=\"patch_40\">\n    <path clip-path=\"url(#p924d46364f)\" d=\"M 264.717573 316.6 \nL 270.311729 316.6 \nL 270.311729 314.935217 \nL 264.717573 314.935217 \nz\n\" style=\"fill:#1f77b4;fill-opacity:0.75;stroke:#000000;stroke-linejoin:miter;stroke-width:0.575881;\"/>\n   </g>\n   <g id=\"patch_41\">\n    <path clip-path=\"url(#p924d46364f)\" d=\"M 270.311729 316.6 \nL 275.905885 316.6 \nL 275.905885 316.6 \nL 270.311729 316.6 \nz\n\" style=\"fill:#1f77b4;fill-opacity:0.75;stroke:#000000;stroke-linejoin:miter;stroke-width:0.575881;\"/>\n   </g>\n   <g id=\"patch_42\">\n    <path clip-path=\"url(#p924d46364f)\" d=\"M 275.905885 316.6 \nL 281.500041 316.6 \nL 281.500041 314.935217 \nL 275.905885 314.935217 \nz\n\" style=\"fill:#1f77b4;fill-opacity:0.75;stroke:#000000;stroke-linejoin:miter;stroke-width:0.575881;\"/>\n   </g>\n   <g id=\"patch_43\">\n    <path clip-path=\"url(#p924d46364f)\" d=\"M 281.500041 316.6 \nL 287.094196 316.6 \nL 287.094196 314.935217 \nL 281.500041 314.935217 \nz\n\" style=\"fill:#1f77b4;fill-opacity:0.75;stroke:#000000;stroke-linejoin:miter;stroke-width:0.575881;\"/>\n   </g>\n   <g id=\"patch_44\">\n    <path clip-path=\"url(#p924d46364f)\" d=\"M 287.094196 316.6 \nL 292.688352 316.6 \nL 292.688352 316.6 \nL 287.094196 316.6 \nz\n\" style=\"fill:#1f77b4;fill-opacity:0.75;stroke:#000000;stroke-linejoin:miter;stroke-width:0.575881;\"/>\n   </g>\n   <g id=\"patch_45\">\n    <path clip-path=\"url(#p924d46364f)\" d=\"M 292.688352 316.6 \nL 298.282508 316.6 \nL 298.282508 316.6 \nL 292.688352 316.6 \nz\n\" style=\"fill:#1f77b4;fill-opacity:0.75;stroke:#000000;stroke-linejoin:miter;stroke-width:0.575881;\"/>\n   </g>\n   <g id=\"patch_46\">\n    <path clip-path=\"url(#p924d46364f)\" d=\"M 298.282508 316.6 \nL 303.876664 316.6 \nL 303.876664 316.6 \nL 298.282508 316.6 \nz\n\" style=\"fill:#1f77b4;fill-opacity:0.75;stroke:#000000;stroke-linejoin:miter;stroke-width:0.575881;\"/>\n   </g>\n   <g id=\"patch_47\">\n    <path clip-path=\"url(#p924d46364f)\" d=\"M 303.876664 316.6 \nL 309.47082 316.6 \nL 309.47082 316.6 \nL 303.876664 316.6 \nz\n\" style=\"fill:#1f77b4;fill-opacity:0.75;stroke:#000000;stroke-linejoin:miter;stroke-width:0.575881;\"/>\n   </g>\n   <g id=\"patch_48\">\n    <path clip-path=\"url(#p924d46364f)\" d=\"M 309.47082 316.6 \nL 315.064976 316.6 \nL 315.064976 316.6 \nL 309.47082 316.6 \nz\n\" style=\"fill:#1f77b4;fill-opacity:0.75;stroke:#000000;stroke-linejoin:miter;stroke-width:0.575881;\"/>\n   </g>\n   <g id=\"patch_49\">\n    <path clip-path=\"url(#p924d46364f)\" d=\"M 315.064976 316.6 \nL 320.659131 316.6 \nL 320.659131 316.6 \nL 315.064976 316.6 \nz\n\" style=\"fill:#1f77b4;fill-opacity:0.75;stroke:#000000;stroke-linejoin:miter;stroke-width:0.575881;\"/>\n   </g>\n   <g id=\"patch_50\">\n    <path clip-path=\"url(#p924d46364f)\" d=\"M 320.659131 316.6 \nL 326.253287 316.6 \nL 326.253287 316.6 \nL 320.659131 316.6 \nz\n\" style=\"fill:#1f77b4;fill-opacity:0.75;stroke:#000000;stroke-linejoin:miter;stroke-width:0.575881;\"/>\n   </g>\n   <g id=\"patch_51\">\n    <path clip-path=\"url(#p924d46364f)\" d=\"M 326.253287 316.6 \nL 331.847443 316.6 \nL 331.847443 313.270433 \nL 326.253287 313.270433 \nz\n\" style=\"fill:#1f77b4;fill-opacity:0.75;stroke:#000000;stroke-linejoin:miter;stroke-width:0.575881;\"/>\n   </g>\n   <g id=\"matplotlib.axis_1\">\n    <g id=\"xtick_1\">\n     <g id=\"line2d_1\">\n      <defs>\n       <path d=\"M 0 0 \nL 0 3.5 \n\" id=\"m6a1c3e5e4d\" style=\"stroke:#808080;stroke-width:0.8;\"/>\n      </defs>\n      <g>\n       <use style=\"fill:#808080;stroke:#808080;stroke-width:0.8;\" x=\"44.448755\" xlink:href=\"#m6a1c3e5e4d\" y=\"316.6\"/>\n      </g>\n     </g>\n     <g id=\"text_1\">\n      <!-- 0 -->\n      <g style=\"fill:#808080;\" transform=\"translate(41.668286 330.757812)scale(0.1 -0.1)\">\n       <defs>\n        <path d=\"M 266 2259 \nQ 266 3072 433 3567 \nQ 600 4063 929 4331 \nQ 1259 4600 1759 4600 \nQ 2128 4600 2406 4451 \nQ 2684 4303 2865 4023 \nQ 3047 3744 3150 3342 \nQ 3253 2941 3253 2259 \nQ 3253 1453 3087 958 \nQ 2922 463 2592 192 \nQ 2263 -78 1759 -78 \nQ 1097 -78 719 397 \nQ 266 969 266 2259 \nz\nM 844 2259 \nQ 844 1131 1108 757 \nQ 1372 384 1759 384 \nQ 2147 384 2411 759 \nQ 2675 1134 2675 2259 \nQ 2675 3391 2411 3762 \nQ 2147 4134 1753 4134 \nQ 1366 4134 1134 3806 \nQ 844 3388 844 2259 \nz\n\" id=\"ArialMT-30\" transform=\"scale(0.015625)\"/>\n       </defs>\n       <use xlink:href=\"#ArialMT-30\"/>\n      </g>\n     </g>\n    </g>\n    <g id=\"xtick_2\">\n     <g id=\"line2d_2\">\n      <g>\n       <use style=\"fill:#808080;stroke:#808080;stroke-width:0.8;\" x=\"82.514806\" xlink:href=\"#m6a1c3e5e4d\" y=\"316.6\"/>\n      </g>\n     </g>\n     <g id=\"text_2\">\n      <!-- 100000 -->\n      <g style=\"fill:#808080;\" transform=\"translate(65.831994 330.757812)scale(0.1 -0.1)\">\n       <defs>\n        <path d=\"M 2384 0 \nL 1822 0 \nL 1822 3584 \nQ 1619 3391 1289 3197 \nQ 959 3003 697 2906 \nL 697 3450 \nQ 1169 3672 1522 3987 \nQ 1875 4303 2022 4600 \nL 2384 4600 \nL 2384 0 \nz\n\" id=\"ArialMT-31\" transform=\"scale(0.015625)\"/>\n       </defs>\n       <use xlink:href=\"#ArialMT-31\"/>\n       <use x=\"55.615234\" xlink:href=\"#ArialMT-30\"/>\n       <use x=\"111.230469\" xlink:href=\"#ArialMT-30\"/>\n       <use x=\"166.845703\" xlink:href=\"#ArialMT-30\"/>\n       <use x=\"222.460938\" xlink:href=\"#ArialMT-30\"/>\n       <use x=\"278.076172\" xlink:href=\"#ArialMT-30\"/>\n      </g>\n     </g>\n    </g>\n    <g id=\"xtick_3\">\n     <g id=\"line2d_3\">\n      <g>\n       <use style=\"fill:#808080;stroke:#808080;stroke-width:0.8;\" x=\"120.580858\" xlink:href=\"#m6a1c3e5e4d\" y=\"316.6\"/>\n      </g>\n     </g>\n     <g id=\"text_3\">\n      <!-- 200000 -->\n      <g style=\"fill:#808080;\" transform=\"translate(103.898045 330.757812)scale(0.1 -0.1)\">\n       <defs>\n        <path d=\"M 3222 541 \nL 3222 0 \nL 194 0 \nQ 188 203 259 391 \nQ 375 700 629 1000 \nQ 884 1300 1366 1694 \nQ 2113 2306 2375 2664 \nQ 2638 3022 2638 3341 \nQ 2638 3675 2398 3904 \nQ 2159 4134 1775 4134 \nQ 1369 4134 1125 3890 \nQ 881 3647 878 3216 \nL 300 3275 \nQ 359 3922 746 4261 \nQ 1134 4600 1788 4600 \nQ 2447 4600 2831 4234 \nQ 3216 3869 3216 3328 \nQ 3216 3053 3103 2787 \nQ 2991 2522 2730 2228 \nQ 2469 1934 1863 1422 \nQ 1356 997 1212 845 \nQ 1069 694 975 541 \nL 3222 541 \nz\n\" id=\"ArialMT-32\" transform=\"scale(0.015625)\"/>\n       </defs>\n       <use xlink:href=\"#ArialMT-32\"/>\n       <use x=\"55.615234\" xlink:href=\"#ArialMT-30\"/>\n       <use x=\"111.230469\" xlink:href=\"#ArialMT-30\"/>\n       <use x=\"166.845703\" xlink:href=\"#ArialMT-30\"/>\n       <use x=\"222.460938\" xlink:href=\"#ArialMT-30\"/>\n       <use x=\"278.076172\" xlink:href=\"#ArialMT-30\"/>\n      </g>\n     </g>\n    </g>\n    <g id=\"xtick_4\">\n     <g id=\"line2d_4\">\n      <g>\n       <use style=\"fill:#808080;stroke:#808080;stroke-width:0.8;\" x=\"158.646909\" xlink:href=\"#m6a1c3e5e4d\" y=\"316.6\"/>\n      </g>\n     </g>\n     <g id=\"text_4\">\n      <!-- 300000 -->\n      <g style=\"fill:#808080;\" transform=\"translate(141.964097 330.757812)scale(0.1 -0.1)\">\n       <defs>\n        <path d=\"M 269 1209 \nL 831 1284 \nQ 928 806 1161 595 \nQ 1394 384 1728 384 \nQ 2125 384 2398 659 \nQ 2672 934 2672 1341 \nQ 2672 1728 2419 1979 \nQ 2166 2231 1775 2231 \nQ 1616 2231 1378 2169 \nL 1441 2663 \nQ 1497 2656 1531 2656 \nQ 1891 2656 2178 2843 \nQ 2466 3031 2466 3422 \nQ 2466 3731 2256 3934 \nQ 2047 4138 1716 4138 \nQ 1388 4138 1169 3931 \nQ 950 3725 888 3313 \nL 325 3413 \nQ 428 3978 793 4289 \nQ 1159 4600 1703 4600 \nQ 2078 4600 2393 4439 \nQ 2709 4278 2876 4000 \nQ 3044 3722 3044 3409 \nQ 3044 3113 2884 2869 \nQ 2725 2625 2413 2481 \nQ 2819 2388 3044 2092 \nQ 3269 1797 3269 1353 \nQ 3269 753 2831 336 \nQ 2394 -81 1725 -81 \nQ 1122 -81 723 278 \nQ 325 638 269 1209 \nz\n\" id=\"ArialMT-33\" transform=\"scale(0.015625)\"/>\n       </defs>\n       <use xlink:href=\"#ArialMT-33\"/>\n       <use x=\"55.615234\" xlink:href=\"#ArialMT-30\"/>\n       <use x=\"111.230469\" xlink:href=\"#ArialMT-30\"/>\n       <use x=\"166.845703\" xlink:href=\"#ArialMT-30\"/>\n       <use x=\"222.460938\" xlink:href=\"#ArialMT-30\"/>\n       <use x=\"278.076172\" xlink:href=\"#ArialMT-30\"/>\n      </g>\n     </g>\n    </g>\n    <g id=\"xtick_5\">\n     <g id=\"line2d_5\">\n      <g>\n       <use style=\"fill:#808080;stroke:#808080;stroke-width:0.8;\" x=\"196.712961\" xlink:href=\"#m6a1c3e5e4d\" y=\"316.6\"/>\n      </g>\n     </g>\n     <g id=\"text_5\">\n      <!-- 400000 -->\n      <g style=\"fill:#808080;\" transform=\"translate(180.030148 330.757812)scale(0.1 -0.1)\">\n       <defs>\n        <path d=\"M 2069 0 \nL 2069 1097 \nL 81 1097 \nL 81 1613 \nL 2172 4581 \nL 2631 4581 \nL 2631 1613 \nL 3250 1613 \nL 3250 1097 \nL 2631 1097 \nL 2631 0 \nL 2069 0 \nz\nM 2069 1613 \nL 2069 3678 \nL 634 1613 \nL 2069 1613 \nz\n\" id=\"ArialMT-34\" transform=\"scale(0.015625)\"/>\n       </defs>\n       <use xlink:href=\"#ArialMT-34\"/>\n       <use x=\"55.615234\" xlink:href=\"#ArialMT-30\"/>\n       <use x=\"111.230469\" xlink:href=\"#ArialMT-30\"/>\n       <use x=\"166.845703\" xlink:href=\"#ArialMT-30\"/>\n       <use x=\"222.460938\" xlink:href=\"#ArialMT-30\"/>\n       <use x=\"278.076172\" xlink:href=\"#ArialMT-30\"/>\n      </g>\n     </g>\n    </g>\n    <g id=\"xtick_6\">\n     <g id=\"line2d_6\">\n      <g>\n       <use style=\"fill:#808080;stroke:#808080;stroke-width:0.8;\" x=\"234.779012\" xlink:href=\"#m6a1c3e5e4d\" y=\"316.6\"/>\n      </g>\n     </g>\n     <g id=\"text_6\">\n      <!-- 500000 -->\n      <g style=\"fill:#808080;\" transform=\"translate(218.0962 330.757812)scale(0.1 -0.1)\">\n       <defs>\n        <path d=\"M 266 1200 \nL 856 1250 \nQ 922 819 1161 601 \nQ 1400 384 1738 384 \nQ 2144 384 2425 690 \nQ 2706 997 2706 1503 \nQ 2706 1984 2436 2262 \nQ 2166 2541 1728 2541 \nQ 1456 2541 1237 2417 \nQ 1019 2294 894 2097 \nL 366 2166 \nL 809 4519 \nL 3088 4519 \nL 3088 3981 \nL 1259 3981 \nL 1013 2750 \nQ 1425 3038 1878 3038 \nQ 2478 3038 2890 2622 \nQ 3303 2206 3303 1553 \nQ 3303 931 2941 478 \nQ 2500 -78 1738 -78 \nQ 1113 -78 717 272 \nQ 322 622 266 1200 \nz\n\" id=\"ArialMT-35\" transform=\"scale(0.015625)\"/>\n       </defs>\n       <use xlink:href=\"#ArialMT-35\"/>\n       <use x=\"55.615234\" xlink:href=\"#ArialMT-30\"/>\n       <use x=\"111.230469\" xlink:href=\"#ArialMT-30\"/>\n       <use x=\"166.845703\" xlink:href=\"#ArialMT-30\"/>\n       <use x=\"222.460938\" xlink:href=\"#ArialMT-30\"/>\n       <use x=\"278.076172\" xlink:href=\"#ArialMT-30\"/>\n      </g>\n     </g>\n    </g>\n    <g id=\"xtick_7\">\n     <g id=\"line2d_7\">\n      <g>\n       <use style=\"fill:#808080;stroke:#808080;stroke-width:0.8;\" x=\"272.845063\" xlink:href=\"#m6a1c3e5e4d\" y=\"316.6\"/>\n      </g>\n     </g>\n     <g id=\"text_7\">\n      <!-- 600000 -->\n      <g style=\"fill:#808080;\" transform=\"translate(256.162251 330.757812)scale(0.1 -0.1)\">\n       <defs>\n        <path d=\"M 3184 3459 \nL 2625 3416 \nQ 2550 3747 2413 3897 \nQ 2184 4138 1850 4138 \nQ 1581 4138 1378 3988 \nQ 1113 3794 959 3422 \nQ 806 3050 800 2363 \nQ 1003 2672 1297 2822 \nQ 1591 2972 1913 2972 \nQ 2475 2972 2870 2558 \nQ 3266 2144 3266 1488 \nQ 3266 1056 3080 686 \nQ 2894 316 2569 119 \nQ 2244 -78 1831 -78 \nQ 1128 -78 684 439 \nQ 241 956 241 2144 \nQ 241 3472 731 4075 \nQ 1159 4600 1884 4600 \nQ 2425 4600 2770 4297 \nQ 3116 3994 3184 3459 \nz\nM 888 1484 \nQ 888 1194 1011 928 \nQ 1134 663 1356 523 \nQ 1578 384 1822 384 \nQ 2178 384 2434 671 \nQ 2691 959 2691 1453 \nQ 2691 1928 2437 2201 \nQ 2184 2475 1800 2475 \nQ 1419 2475 1153 2201 \nQ 888 1928 888 1484 \nz\n\" id=\"ArialMT-36\" transform=\"scale(0.015625)\"/>\n       </defs>\n       <use xlink:href=\"#ArialMT-36\"/>\n       <use x=\"55.615234\" xlink:href=\"#ArialMT-30\"/>\n       <use x=\"111.230469\" xlink:href=\"#ArialMT-30\"/>\n       <use x=\"166.845703\" xlink:href=\"#ArialMT-30\"/>\n       <use x=\"222.460938\" xlink:href=\"#ArialMT-30\"/>\n       <use x=\"278.076172\" xlink:href=\"#ArialMT-30\"/>\n      </g>\n     </g>\n    </g>\n    <g id=\"xtick_8\">\n     <g id=\"line2d_8\">\n      <g>\n       <use style=\"fill:#808080;stroke:#808080;stroke-width:0.8;\" x=\"310.911115\" xlink:href=\"#m6a1c3e5e4d\" y=\"316.6\"/>\n      </g>\n     </g>\n     <g id=\"text_8\">\n      <!-- 700000 -->\n      <g style=\"fill:#808080;\" transform=\"translate(294.228302 330.757812)scale(0.1 -0.1)\">\n       <defs>\n        <path d=\"M 303 3981 \nL 303 4522 \nL 3269 4522 \nL 3269 4084 \nQ 2831 3619 2401 2847 \nQ 1972 2075 1738 1259 \nQ 1569 684 1522 0 \nL 944 0 \nQ 953 541 1156 1306 \nQ 1359 2072 1739 2783 \nQ 2119 3494 2547 3981 \nL 303 3981 \nz\n\" id=\"ArialMT-37\" transform=\"scale(0.015625)\"/>\n       </defs>\n       <use xlink:href=\"#ArialMT-37\"/>\n       <use x=\"55.615234\" xlink:href=\"#ArialMT-30\"/>\n       <use x=\"111.230469\" xlink:href=\"#ArialMT-30\"/>\n       <use x=\"166.845703\" xlink:href=\"#ArialMT-30\"/>\n       <use x=\"222.460938\" xlink:href=\"#ArialMT-30\"/>\n       <use x=\"278.076172\" xlink:href=\"#ArialMT-30\"/>\n      </g>\n     </g>\n    </g>\n    <g id=\"text_9\">\n     <!-- SalePrice -->\n     <g style=\"fill:#505050;\" transform=\"translate(173.392188 343.903125)scale(0.1 -0.1)\">\n      <defs>\n       <path d=\"M 288 1472 \nL 859 1522 \nQ 900 1178 1048 958 \nQ 1197 738 1509 602 \nQ 1822 466 2213 466 \nQ 2559 466 2825 569 \nQ 3091 672 3220 851 \nQ 3350 1031 3350 1244 \nQ 3350 1459 3225 1620 \nQ 3100 1781 2813 1891 \nQ 2628 1963 1997 2114 \nQ 1366 2266 1113 2400 \nQ 784 2572 623 2826 \nQ 463 3081 463 3397 \nQ 463 3744 659 4045 \nQ 856 4347 1234 4503 \nQ 1613 4659 2075 4659 \nQ 2584 4659 2973 4495 \nQ 3363 4331 3572 4012 \nQ 3781 3694 3797 3291 \nL 3216 3247 \nQ 3169 3681 2898 3903 \nQ 2628 4125 2100 4125 \nQ 1550 4125 1298 3923 \nQ 1047 3722 1047 3438 \nQ 1047 3191 1225 3031 \nQ 1400 2872 2139 2705 \nQ 2878 2538 3153 2413 \nQ 3553 2228 3743 1945 \nQ 3934 1663 3934 1294 \nQ 3934 928 3725 604 \nQ 3516 281 3123 101 \nQ 2731 -78 2241 -78 \nQ 1619 -78 1198 103 \nQ 778 284 539 648 \nQ 300 1013 288 1472 \nz\n\" id=\"ArialMT-53\" transform=\"scale(0.015625)\"/>\n       <path d=\"M 2588 409 \nQ 2275 144 1986 34 \nQ 1697 -75 1366 -75 \nQ 819 -75 525 192 \nQ 231 459 231 875 \nQ 231 1119 342 1320 \nQ 453 1522 633 1644 \nQ 813 1766 1038 1828 \nQ 1203 1872 1538 1913 \nQ 2219 1994 2541 2106 \nQ 2544 2222 2544 2253 \nQ 2544 2597 2384 2738 \nQ 2169 2928 1744 2928 \nQ 1347 2928 1158 2789 \nQ 969 2650 878 2297 \nL 328 2372 \nQ 403 2725 575 2942 \nQ 747 3159 1072 3276 \nQ 1397 3394 1825 3394 \nQ 2250 3394 2515 3294 \nQ 2781 3194 2906 3042 \nQ 3031 2891 3081 2659 \nQ 3109 2516 3109 2141 \nL 3109 1391 \nQ 3109 606 3145 398 \nQ 3181 191 3288 0 \nL 2700 0 \nQ 2613 175 2588 409 \nz\nM 2541 1666 \nQ 2234 1541 1622 1453 \nQ 1275 1403 1131 1340 \nQ 988 1278 909 1158 \nQ 831 1038 831 891 \nQ 831 666 1001 516 \nQ 1172 366 1500 366 \nQ 1825 366 2078 508 \nQ 2331 650 2450 897 \nQ 2541 1088 2541 1459 \nL 2541 1666 \nz\n\" id=\"ArialMT-61\" transform=\"scale(0.015625)\"/>\n       <path d=\"M 409 0 \nL 409 4581 \nL 972 4581 \nL 972 0 \nL 409 0 \nz\n\" id=\"ArialMT-6c\" transform=\"scale(0.015625)\"/>\n       <path d=\"M 2694 1069 \nL 3275 997 \nQ 3138 488 2766 206 \nQ 2394 -75 1816 -75 \nQ 1088 -75 661 373 \nQ 234 822 234 1631 \nQ 234 2469 665 2931 \nQ 1097 3394 1784 3394 \nQ 2450 3394 2872 2941 \nQ 3294 2488 3294 1666 \nQ 3294 1616 3291 1516 \nL 816 1516 \nQ 847 969 1125 678 \nQ 1403 388 1819 388 \nQ 2128 388 2347 550 \nQ 2566 713 2694 1069 \nz\nM 847 1978 \nL 2700 1978 \nQ 2663 2397 2488 2606 \nQ 2219 2931 1791 2931 \nQ 1403 2931 1139 2672 \nQ 875 2413 847 1978 \nz\n\" id=\"ArialMT-65\" transform=\"scale(0.015625)\"/>\n       <path d=\"M 494 0 \nL 494 4581 \nL 2222 4581 \nQ 2678 4581 2919 4538 \nQ 3256 4481 3484 4323 \nQ 3713 4166 3852 3881 \nQ 3991 3597 3991 3256 \nQ 3991 2672 3619 2267 \nQ 3247 1863 2275 1863 \nL 1100 1863 \nL 1100 0 \nL 494 0 \nz\nM 1100 2403 \nL 2284 2403 \nQ 2872 2403 3119 2622 \nQ 3366 2841 3366 3238 \nQ 3366 3525 3220 3729 \nQ 3075 3934 2838 4000 \nQ 2684 4041 2272 4041 \nL 1100 4041 \nL 1100 2403 \nz\n\" id=\"ArialMT-50\" transform=\"scale(0.015625)\"/>\n       <path d=\"M 416 0 \nL 416 3319 \nL 922 3319 \nL 922 2816 \nQ 1116 3169 1280 3281 \nQ 1444 3394 1641 3394 \nQ 1925 3394 2219 3213 \nL 2025 2691 \nQ 1819 2813 1613 2813 \nQ 1428 2813 1281 2702 \nQ 1134 2591 1072 2394 \nQ 978 2094 978 1738 \nL 978 0 \nL 416 0 \nz\n\" id=\"ArialMT-72\" transform=\"scale(0.015625)\"/>\n       <path d=\"M 425 3934 \nL 425 4581 \nL 988 4581 \nL 988 3934 \nL 425 3934 \nz\nM 425 0 \nL 425 3319 \nL 988 3319 \nL 988 0 \nL 425 0 \nz\n\" id=\"ArialMT-69\" transform=\"scale(0.015625)\"/>\n       <path d=\"M 2588 1216 \nL 3141 1144 \nQ 3050 572 2676 248 \nQ 2303 -75 1759 -75 \nQ 1078 -75 664 370 \nQ 250 816 250 1647 \nQ 250 2184 428 2587 \nQ 606 2991 970 3192 \nQ 1334 3394 1763 3394 \nQ 2303 3394 2647 3120 \nQ 2991 2847 3088 2344 \nL 2541 2259 \nQ 2463 2594 2264 2762 \nQ 2066 2931 1784 2931 \nQ 1359 2931 1093 2626 \nQ 828 2322 828 1663 \nQ 828 994 1084 691 \nQ 1341 388 1753 388 \nQ 2084 388 2306 591 \nQ 2528 794 2588 1216 \nz\n\" id=\"ArialMT-63\" transform=\"scale(0.015625)\"/>\n      </defs>\n      <use xlink:href=\"#ArialMT-53\"/>\n      <use x=\"66.699219\" xlink:href=\"#ArialMT-61\"/>\n      <use x=\"122.314453\" xlink:href=\"#ArialMT-6c\"/>\n      <use x=\"144.53125\" xlink:href=\"#ArialMT-65\"/>\n      <use x=\"200.146484\" xlink:href=\"#ArialMT-50\"/>\n      <use x=\"266.845703\" xlink:href=\"#ArialMT-72\"/>\n      <use x=\"300.146484\" xlink:href=\"#ArialMT-69\"/>\n      <use x=\"322.363281\" xlink:href=\"#ArialMT-63\"/>\n      <use x=\"372.363281\" xlink:href=\"#ArialMT-65\"/>\n     </g>\n    </g>\n   </g>\n   <g id=\"matplotlib.axis_2\">\n    <g id=\"ytick_1\">\n     <g id=\"line2d_9\">\n      <defs>\n       <path d=\"M 0 0 \nL -3.5 0 \n\" id=\"m5696833ebf\" style=\"stroke:#808080;stroke-width:0.8;\"/>\n      </defs>\n      <g>\n       <use style=\"fill:#808080;stroke:#808080;stroke-width:0.8;\" x=\"44.028125\" xlink:href=\"#m5696833ebf\" y=\"316.6\"/>\n      </g>\n     </g>\n     <g id=\"text_10\">\n      <!-- 0 -->\n      <g style=\"fill:#808080;\" transform=\"translate(31.467188 320.178906)scale(0.1 -0.1)\">\n       <use xlink:href=\"#ArialMT-30\"/>\n      </g>\n     </g>\n    </g>\n    <g id=\"ytick_2\">\n     <g id=\"line2d_10\">\n      <g>\n       <use style=\"fill:#808080;stroke:#808080;stroke-width:0.8;\" x=\"44.028125\" xlink:href=\"#m5696833ebf\" y=\"274.980414\"/>\n      </g>\n     </g>\n     <g id=\"text_11\">\n      <!-- 25 -->\n      <g style=\"fill:#808080;\" transform=\"translate(25.90625 278.559321)scale(0.1 -0.1)\">\n       <use xlink:href=\"#ArialMT-32\"/>\n       <use x=\"55.615234\" xlink:href=\"#ArialMT-35\"/>\n      </g>\n     </g>\n    </g>\n    <g id=\"ytick_3\">\n     <g id=\"line2d_11\">\n      <g>\n       <use style=\"fill:#808080;stroke:#808080;stroke-width:0.8;\" x=\"44.028125\" xlink:href=\"#m5696833ebf\" y=\"233.360829\"/>\n      </g>\n     </g>\n     <g id=\"text_12\">\n      <!-- 50 -->\n      <g style=\"fill:#808080;\" transform=\"translate(25.90625 236.939735)scale(0.1 -0.1)\">\n       <use xlink:href=\"#ArialMT-35\"/>\n       <use x=\"55.615234\" xlink:href=\"#ArialMT-30\"/>\n      </g>\n     </g>\n    </g>\n    <g id=\"ytick_4\">\n     <g id=\"line2d_12\">\n      <g>\n       <use style=\"fill:#808080;stroke:#808080;stroke-width:0.8;\" x=\"44.028125\" xlink:href=\"#m5696833ebf\" y=\"191.741243\"/>\n      </g>\n     </g>\n     <g id=\"text_13\">\n      <!-- 75 -->\n      <g style=\"fill:#808080;\" transform=\"translate(25.90625 195.320149)scale(0.1 -0.1)\">\n       <use xlink:href=\"#ArialMT-37\"/>\n       <use x=\"55.615234\" xlink:href=\"#ArialMT-35\"/>\n      </g>\n     </g>\n    </g>\n    <g id=\"ytick_5\">\n     <g id=\"line2d_13\">\n      <g>\n       <use style=\"fill:#808080;stroke:#808080;stroke-width:0.8;\" x=\"44.028125\" xlink:href=\"#m5696833ebf\" y=\"150.121657\"/>\n      </g>\n     </g>\n     <g id=\"text_14\">\n      <!-- 100 -->\n      <g style=\"fill:#808080;\" transform=\"translate(20.345313 153.700564)scale(0.1 -0.1)\">\n       <use xlink:href=\"#ArialMT-31\"/>\n       <use x=\"55.615234\" xlink:href=\"#ArialMT-30\"/>\n       <use x=\"111.230469\" xlink:href=\"#ArialMT-30\"/>\n      </g>\n     </g>\n    </g>\n    <g id=\"ytick_6\">\n     <g id=\"line2d_14\">\n      <g>\n       <use style=\"fill:#808080;stroke:#808080;stroke-width:0.8;\" x=\"44.028125\" xlink:href=\"#m5696833ebf\" y=\"108.502072\"/>\n      </g>\n     </g>\n     <g id=\"text_15\">\n      <!-- 125 -->\n      <g style=\"fill:#808080;\" transform=\"translate(20.345313 112.080978)scale(0.1 -0.1)\">\n       <use xlink:href=\"#ArialMT-31\"/>\n       <use x=\"55.615234\" xlink:href=\"#ArialMT-32\"/>\n       <use x=\"111.230469\" xlink:href=\"#ArialMT-35\"/>\n      </g>\n     </g>\n    </g>\n    <g id=\"ytick_7\">\n     <g id=\"line2d_15\">\n      <g>\n       <use style=\"fill:#808080;stroke:#808080;stroke-width:0.8;\" x=\"44.028125\" xlink:href=\"#m5696833ebf\" y=\"66.882486\"/>\n      </g>\n     </g>\n     <g id=\"text_16\">\n      <!-- 150 -->\n      <g style=\"fill:#808080;\" transform=\"translate(20.345313 70.461392)scale(0.1 -0.1)\">\n       <use xlink:href=\"#ArialMT-31\"/>\n       <use x=\"55.615234\" xlink:href=\"#ArialMT-35\"/>\n       <use x=\"111.230469\" xlink:href=\"#ArialMT-30\"/>\n      </g>\n     </g>\n    </g>\n    <g id=\"ytick_8\">\n     <g id=\"line2d_16\">\n      <g>\n       <use style=\"fill:#808080;stroke:#808080;stroke-width:0.8;\" x=\"44.028125\" xlink:href=\"#m5696833ebf\" y=\"25.2629\"/>\n      </g>\n     </g>\n     <g id=\"text_17\">\n      <!-- 175 -->\n      <g style=\"fill:#808080;\" transform=\"translate(20.345313 28.841806)scale(0.1 -0.1)\">\n       <use xlink:href=\"#ArialMT-31\"/>\n       <use x=\"55.615234\" xlink:href=\"#ArialMT-37\"/>\n       <use x=\"111.230469\" xlink:href=\"#ArialMT-35\"/>\n      </g>\n     </g>\n    </g>\n    <g id=\"text_18\">\n     <!-- Count -->\n     <g style=\"fill:#505050;\" transform=\"translate(14.357813 175.241406)rotate(-90)scale(0.1 -0.1)\">\n      <defs>\n       <path d=\"M 3763 1606 \nL 4369 1453 \nQ 4178 706 3683 314 \nQ 3188 -78 2472 -78 \nQ 1731 -78 1267 223 \nQ 803 525 561 1097 \nQ 319 1669 319 2325 \nQ 319 3041 592 3573 \nQ 866 4106 1370 4382 \nQ 1875 4659 2481 4659 \nQ 3169 4659 3637 4309 \nQ 4106 3959 4291 3325 \nL 3694 3184 \nQ 3534 3684 3231 3912 \nQ 2928 4141 2469 4141 \nQ 1941 4141 1586 3887 \nQ 1231 3634 1087 3207 \nQ 944 2781 944 2328 \nQ 944 1744 1114 1308 \nQ 1284 872 1643 656 \nQ 2003 441 2422 441 \nQ 2931 441 3284 734 \nQ 3638 1028 3763 1606 \nz\n\" id=\"ArialMT-43\" transform=\"scale(0.015625)\"/>\n       <path d=\"M 213 1659 \nQ 213 2581 725 3025 \nQ 1153 3394 1769 3394 \nQ 2453 3394 2887 2945 \nQ 3322 2497 3322 1706 \nQ 3322 1066 3130 698 \nQ 2938 331 2570 128 \nQ 2203 -75 1769 -75 \nQ 1072 -75 642 372 \nQ 213 819 213 1659 \nz\nM 791 1659 \nQ 791 1022 1069 705 \nQ 1347 388 1769 388 \nQ 2188 388 2466 706 \nQ 2744 1025 2744 1678 \nQ 2744 2294 2464 2611 \nQ 2184 2928 1769 2928 \nQ 1347 2928 1069 2612 \nQ 791 2297 791 1659 \nz\n\" id=\"ArialMT-6f\" transform=\"scale(0.015625)\"/>\n       <path d=\"M 2597 0 \nL 2597 488 \nQ 2209 -75 1544 -75 \nQ 1250 -75 995 37 \nQ 741 150 617 320 \nQ 494 491 444 738 \nQ 409 903 409 1263 \nL 409 3319 \nL 972 3319 \nL 972 1478 \nQ 972 1038 1006 884 \nQ 1059 663 1231 536 \nQ 1403 409 1656 409 \nQ 1909 409 2131 539 \nQ 2353 669 2445 892 \nQ 2538 1116 2538 1541 \nL 2538 3319 \nL 3100 3319 \nL 3100 0 \nL 2597 0 \nz\n\" id=\"ArialMT-75\" transform=\"scale(0.015625)\"/>\n       <path d=\"M 422 0 \nL 422 3319 \nL 928 3319 \nL 928 2847 \nQ 1294 3394 1984 3394 \nQ 2284 3394 2536 3286 \nQ 2788 3178 2913 3003 \nQ 3038 2828 3088 2588 \nQ 3119 2431 3119 2041 \nL 3119 0 \nL 2556 0 \nL 2556 2019 \nQ 2556 2363 2490 2533 \nQ 2425 2703 2258 2804 \nQ 2091 2906 1866 2906 \nQ 1506 2906 1245 2678 \nQ 984 2450 984 1813 \nL 984 0 \nL 422 0 \nz\n\" id=\"ArialMT-6e\" transform=\"scale(0.015625)\"/>\n       <path d=\"M 1650 503 \nL 1731 6 \nQ 1494 -44 1306 -44 \nQ 1000 -44 831 53 \nQ 663 150 594 308 \nQ 525 466 525 972 \nL 525 2881 \nL 113 2881 \nL 113 3319 \nL 525 3319 \nL 525 4141 \nL 1084 4478 \nL 1084 3319 \nL 1650 3319 \nL 1650 2881 \nL 1084 2881 \nL 1084 941 \nQ 1084 700 1114 631 \nQ 1144 563 1211 522 \nQ 1278 481 1403 481 \nQ 1497 481 1650 503 \nz\n\" id=\"ArialMT-74\" transform=\"scale(0.015625)\"/>\n      </defs>\n      <use xlink:href=\"#ArialMT-43\"/>\n      <use x=\"72.216797\" xlink:href=\"#ArialMT-6f\"/>\n      <use x=\"127.832031\" xlink:href=\"#ArialMT-75\"/>\n      <use x=\"183.447266\" xlink:href=\"#ArialMT-6e\"/>\n      <use x=\"239.0625\" xlink:href=\"#ArialMT-74\"/>\n     </g>\n    </g>\n   </g>\n   <g id=\"line2d_17\">\n    <path clip-path=\"url(#p924d46364f)\" d=\"M 113.31831 316.6 \nL 113.31831 7.2 \n\" style=\"fill:none;stroke:#0000ff;stroke-dasharray:3.7,1.6;stroke-dashoffset:0;\"/>\n   </g>\n   <g id=\"line2d_18\">\n    <path clip-path=\"url(#p924d46364f)\" d=\"M 106.496419 316.6 \nL 106.496419 7.2 \n\" style=\"fill:none;stroke:#000000;stroke-dasharray:3.7,1.6;stroke-dashoffset:0;\"/>\n   </g>\n   <g id=\"patch_52\">\n    <path d=\"M 44.028125 316.6 \nL 44.028125 7.2 \n\" style=\"fill:none;stroke:#808080;stroke-linecap:square;stroke-linejoin:miter;stroke-width:0.3;\"/>\n   </g>\n   <g id=\"patch_53\">\n    <path d=\"M 44.028125 316.6 \nL 345.553125 316.6 \n\" style=\"fill:none;stroke:#808080;stroke-linecap:square;stroke-linejoin:miter;stroke-width:0.3;\"/>\n   </g>\n   <g id=\"text_19\">\n    <!-- Mean: 180921 -->\n    <g style=\"fill:#0000ff;\" transform=\"translate(116.761788 69.08)scale(0.1 -0.1)\">\n     <defs>\n      <path d=\"M 475 0 \nL 475 4581 \nL 1388 4581 \nL 2472 1338 \nQ 2622 884 2691 659 \nQ 2769 909 2934 1394 \nL 4031 4581 \nL 4847 4581 \nL 4847 0 \nL 4263 0 \nL 4263 3834 \nL 2931 0 \nL 2384 0 \nL 1059 3900 \nL 1059 0 \nL 475 0 \nz\n\" id=\"ArialMT-4d\" transform=\"scale(0.015625)\"/>\n      <path d=\"M 578 2678 \nL 578 3319 \nL 1219 3319 \nL 1219 2678 \nL 578 2678 \nz\nM 578 0 \nL 578 641 \nL 1219 641 \nL 1219 0 \nL 578 0 \nz\n\" id=\"ArialMT-3a\" transform=\"scale(0.015625)\"/>\n      <path id=\"ArialMT-20\" transform=\"scale(0.015625)\"/>\n      <path d=\"M 1131 2484 \nQ 781 2613 612 2850 \nQ 444 3088 444 3419 \nQ 444 3919 803 4259 \nQ 1163 4600 1759 4600 \nQ 2359 4600 2725 4251 \nQ 3091 3903 3091 3403 \nQ 3091 3084 2923 2848 \nQ 2756 2613 2416 2484 \nQ 2838 2347 3058 2040 \nQ 3278 1734 3278 1309 \nQ 3278 722 2862 322 \nQ 2447 -78 1769 -78 \nQ 1091 -78 675 323 \nQ 259 725 259 1325 \nQ 259 1772 486 2073 \nQ 713 2375 1131 2484 \nz\nM 1019 3438 \nQ 1019 3113 1228 2906 \nQ 1438 2700 1772 2700 \nQ 2097 2700 2305 2904 \nQ 2513 3109 2513 3406 \nQ 2513 3716 2298 3927 \nQ 2084 4138 1766 4138 \nQ 1444 4138 1231 3931 \nQ 1019 3725 1019 3438 \nz\nM 838 1322 \nQ 838 1081 952 856 \nQ 1066 631 1291 507 \nQ 1516 384 1775 384 \nQ 2178 384 2440 643 \nQ 2703 903 2703 1303 \nQ 2703 1709 2433 1975 \nQ 2163 2241 1756 2241 \nQ 1359 2241 1098 1978 \nQ 838 1716 838 1322 \nz\n\" id=\"ArialMT-38\" transform=\"scale(0.015625)\"/>\n      <path d=\"M 350 1059 \nL 891 1109 \nQ 959 728 1153 556 \nQ 1347 384 1650 384 \nQ 1909 384 2104 503 \nQ 2300 622 2425 820 \nQ 2550 1019 2634 1356 \nQ 2719 1694 2719 2044 \nQ 2719 2081 2716 2156 \nQ 2547 1888 2255 1720 \nQ 1963 1553 1622 1553 \nQ 1053 1553 659 1965 \nQ 266 2378 266 3053 \nQ 266 3750 677 4175 \nQ 1088 4600 1706 4600 \nQ 2153 4600 2523 4359 \nQ 2894 4119 3086 3673 \nQ 3278 3228 3278 2384 \nQ 3278 1506 3087 986 \nQ 2897 466 2520 194 \nQ 2144 -78 1638 -78 \nQ 1100 -78 759 220 \nQ 419 519 350 1059 \nz\nM 2653 3081 \nQ 2653 3566 2395 3850 \nQ 2138 4134 1775 4134 \nQ 1400 4134 1122 3828 \nQ 844 3522 844 3034 \nQ 844 2597 1108 2323 \nQ 1372 2050 1759 2050 \nQ 2150 2050 2401 2323 \nQ 2653 2597 2653 3081 \nz\n\" id=\"ArialMT-39\" transform=\"scale(0.015625)\"/>\n     </defs>\n     <use xlink:href=\"#ArialMT-4d\"/>\n     <use x=\"83.300781\" xlink:href=\"#ArialMT-65\"/>\n     <use x=\"138.916016\" xlink:href=\"#ArialMT-61\"/>\n     <use x=\"194.53125\" xlink:href=\"#ArialMT-6e\"/>\n     <use x=\"250.146484\" xlink:href=\"#ArialMT-3a\"/>\n     <use x=\"277.929688\" xlink:href=\"#ArialMT-20\"/>\n     <use x=\"305.712891\" xlink:href=\"#ArialMT-31\"/>\n     <use x=\"361.328125\" xlink:href=\"#ArialMT-38\"/>\n     <use x=\"416.943359\" xlink:href=\"#ArialMT-30\"/>\n     <use x=\"472.558594\" xlink:href=\"#ArialMT-39\"/>\n     <use x=\"528.173828\" xlink:href=\"#ArialMT-32\"/>\n     <use x=\"583.789062\" xlink:href=\"#ArialMT-31\"/>\n    </g>\n   </g>\n   <g id=\"text_20\">\n    <!-- Median: 163000 -->\n    <g style=\"fill:#505050;\" transform=\"translate(109.598802 38.14)scale(0.1 -0.1)\">\n     <defs>\n      <path d=\"M 2575 0 \nL 2575 419 \nQ 2259 -75 1647 -75 \nQ 1250 -75 917 144 \nQ 584 363 401 755 \nQ 219 1147 219 1656 \nQ 219 2153 384 2558 \nQ 550 2963 881 3178 \nQ 1213 3394 1622 3394 \nQ 1922 3394 2156 3267 \nQ 2391 3141 2538 2938 \nL 2538 4581 \nL 3097 4581 \nL 3097 0 \nL 2575 0 \nz\nM 797 1656 \nQ 797 1019 1065 703 \nQ 1334 388 1700 388 \nQ 2069 388 2326 689 \nQ 2584 991 2584 1609 \nQ 2584 2291 2321 2609 \nQ 2059 2928 1675 2928 \nQ 1300 2928 1048 2622 \nQ 797 2316 797 1656 \nz\n\" id=\"ArialMT-64\" transform=\"scale(0.015625)\"/>\n     </defs>\n     <use xlink:href=\"#ArialMT-4d\"/>\n     <use x=\"83.300781\" xlink:href=\"#ArialMT-65\"/>\n     <use x=\"138.916016\" xlink:href=\"#ArialMT-64\"/>\n     <use x=\"194.53125\" xlink:href=\"#ArialMT-69\"/>\n     <use x=\"216.748047\" xlink:href=\"#ArialMT-61\"/>\n     <use x=\"272.363281\" xlink:href=\"#ArialMT-6e\"/>\n     <use x=\"327.978516\" xlink:href=\"#ArialMT-3a\"/>\n     <use x=\"355.761719\" xlink:href=\"#ArialMT-20\"/>\n     <use x=\"383.544922\" xlink:href=\"#ArialMT-31\"/>\n     <use x=\"439.160156\" xlink:href=\"#ArialMT-36\"/>\n     <use x=\"494.775391\" xlink:href=\"#ArialMT-33\"/>\n     <use x=\"550.390625\" xlink:href=\"#ArialMT-30\"/>\n     <use x=\"606.005859\" xlink:href=\"#ArialMT-30\"/>\n     <use x=\"661.621094\" xlink:href=\"#ArialMT-30\"/>\n    </g>\n   </g>\n  </g>\n </g>\n <defs>\n  <clipPath id=\"p924d46364f\">\n   <rect height=\"309.4\" width=\"301.525\" x=\"44.028125\" y=\"7.2\"/>\n  </clipPath>\n </defs>\n</svg>\n",
      "text/plain": [
       "<Figure size 360x360 with 1 Axes>"
      ]
     },
     "metadata": {
      "needs_background": "dark"
     },
     "output_type": "display_data"
    }
   ],
   "source": [
    "sns.displot(df['SalePrice'])\n",
    "plt.axvline(tgt_mean, color='b', linestyle='dashed', linewidth=1)\n",
    "plt.axvline(tgt_median, color='k', linestyle='dashed', linewidth=1)\n",
    "\n",
    "min_ylim, max_ylim = plt.ylim()\n",
    "plt.text(tgt_mean*1.05, max_ylim*0.8, 'Mean: {:.0f}'.format(tgt_mean), color='b')\n",
    "plt.text(tgt_median*1.05, max_ylim*0.9, 'Median: {:.0f}'.format(tgt_median))"
   ]
  },
  {
   "cell_type": "markdown",
   "metadata": {},
   "source": [
    "So the distribution is somewhat right-skewed, but not hugely so."
   ]
  },
  {
   "cell_type": "code",
   "execution_count": 26,
   "metadata": {},
   "outputs": [
    {
     "data": {
      "text/html": [
       "<div>\n",
       "<style scoped>\n",
       "    .dataframe tbody tr th:only-of-type {\n",
       "        vertical-align: middle;\n",
       "    }\n",
       "\n",
       "    .dataframe tbody tr th {\n",
       "        vertical-align: top;\n",
       "    }\n",
       "\n",
       "    .dataframe thead th {\n",
       "        text-align: right;\n",
       "    }\n",
       "</style>\n",
       "<table border=\"1\" class=\"dataframe\">\n",
       "  <thead>\n",
       "    <tr style=\"text-align: right;\">\n",
       "      <th></th>\n",
       "      <th>Percentage Missing</th>\n",
       "    </tr>\n",
       "  </thead>\n",
       "  <tbody>\n",
       "    <tr>\n",
       "      <th>PoolQC</th>\n",
       "      <td>99.52</td>\n",
       "    </tr>\n",
       "    <tr>\n",
       "      <th>MiscFeature</th>\n",
       "      <td>96.30</td>\n",
       "    </tr>\n",
       "    <tr>\n",
       "      <th>Alley</th>\n",
       "      <td>93.77</td>\n",
       "    </tr>\n",
       "    <tr>\n",
       "      <th>Fence</th>\n",
       "      <td>80.75</td>\n",
       "    </tr>\n",
       "    <tr>\n",
       "      <th>FireplaceQu</th>\n",
       "      <td>47.26</td>\n",
       "    </tr>\n",
       "    <tr>\n",
       "      <th>LotFrontage</th>\n",
       "      <td>17.74</td>\n",
       "    </tr>\n",
       "    <tr>\n",
       "      <th>GarageYrBlt</th>\n",
       "      <td>5.55</td>\n",
       "    </tr>\n",
       "    <tr>\n",
       "      <th>GarageCond</th>\n",
       "      <td>5.55</td>\n",
       "    </tr>\n",
       "    <tr>\n",
       "      <th>GarageType</th>\n",
       "      <td>5.55</td>\n",
       "    </tr>\n",
       "    <tr>\n",
       "      <th>GarageFinish</th>\n",
       "      <td>5.55</td>\n",
       "    </tr>\n",
       "    <tr>\n",
       "      <th>GarageQual</th>\n",
       "      <td>5.55</td>\n",
       "    </tr>\n",
       "    <tr>\n",
       "      <th>BsmtExposure</th>\n",
       "      <td>2.60</td>\n",
       "    </tr>\n",
       "    <tr>\n",
       "      <th>BsmtFinType2</th>\n",
       "      <td>2.60</td>\n",
       "    </tr>\n",
       "    <tr>\n",
       "      <th>BsmtCond</th>\n",
       "      <td>2.53</td>\n",
       "    </tr>\n",
       "    <tr>\n",
       "      <th>BsmtQual</th>\n",
       "      <td>2.53</td>\n",
       "    </tr>\n",
       "    <tr>\n",
       "      <th>BsmtFinType1</th>\n",
       "      <td>2.53</td>\n",
       "    </tr>\n",
       "    <tr>\n",
       "      <th>MasVnrArea</th>\n",
       "      <td>0.55</td>\n",
       "    </tr>\n",
       "    <tr>\n",
       "      <th>MasVnrType</th>\n",
       "      <td>0.55</td>\n",
       "    </tr>\n",
       "    <tr>\n",
       "      <th>Electrical</th>\n",
       "      <td>0.07</td>\n",
       "    </tr>\n",
       "    <tr>\n",
       "      <th>MSSubClass</th>\n",
       "      <td>0.00</td>\n",
       "    </tr>\n",
       "  </tbody>\n",
       "</table>\n",
       "</div>"
      ],
      "text/plain": [
       "              Percentage Missing\n",
       "PoolQC                     99.52\n",
       "MiscFeature                96.30\n",
       "Alley                      93.77\n",
       "Fence                      80.75\n",
       "FireplaceQu                47.26\n",
       "LotFrontage                17.74\n",
       "GarageYrBlt                 5.55\n",
       "GarageCond                  5.55\n",
       "GarageType                  5.55\n",
       "GarageFinish                5.55\n",
       "GarageQual                  5.55\n",
       "BsmtExposure                2.60\n",
       "BsmtFinType2                2.60\n",
       "BsmtCond                    2.53\n",
       "BsmtQual                    2.53\n",
       "BsmtFinType1                2.53\n",
       "MasVnrArea                  0.55\n",
       "MasVnrType                  0.55\n",
       "Electrical                  0.07\n",
       "MSSubClass                  0.00"
      ]
     },
     "execution_count": 26,
     "metadata": {},
     "output_type": "execute_result"
    }
   ],
   "source": [
    "# Null Values\n",
    "pd.DataFrame(df.isnull().mean().round(4).mul(100).sort_values(ascending=False), columns=['Percentage Missing']).head(20)"
   ]
  },
  {
   "cell_type": "code",
   "execution_count": 27,
   "metadata": {},
   "outputs": [
    {
     "data": {
      "text/html": [
       "<div>\n",
       "<style scoped>\n",
       "    .dataframe tbody tr th:only-of-type {\n",
       "        vertical-align: middle;\n",
       "    }\n",
       "\n",
       "    .dataframe tbody tr th {\n",
       "        vertical-align: top;\n",
       "    }\n",
       "\n",
       "    .dataframe thead th {\n",
       "        text-align: right;\n",
       "    }\n",
       "</style>\n",
       "<table border=\"1\" class=\"dataframe\">\n",
       "  <thead>\n",
       "    <tr style=\"text-align: right;\">\n",
       "      <th></th>\n",
       "      <th>PoolQC</th>\n",
       "      <th>MiscFeature</th>\n",
       "      <th>Alley</th>\n",
       "      <th>Fence</th>\n",
       "      <th>FireplaceQu</th>\n",
       "      <th>LotFrontage</th>\n",
       "    </tr>\n",
       "  </thead>\n",
       "  <tbody>\n",
       "    <tr>\n",
       "      <th>0</th>\n",
       "      <td>NaN</td>\n",
       "      <td>NaN</td>\n",
       "      <td>NaN</td>\n",
       "      <td>NaN</td>\n",
       "      <td>NaN</td>\n",
       "      <td>65.0</td>\n",
       "    </tr>\n",
       "    <tr>\n",
       "      <th>1</th>\n",
       "      <td>NaN</td>\n",
       "      <td>NaN</td>\n",
       "      <td>NaN</td>\n",
       "      <td>NaN</td>\n",
       "      <td>TA</td>\n",
       "      <td>80.0</td>\n",
       "    </tr>\n",
       "    <tr>\n",
       "      <th>2</th>\n",
       "      <td>NaN</td>\n",
       "      <td>NaN</td>\n",
       "      <td>NaN</td>\n",
       "      <td>NaN</td>\n",
       "      <td>TA</td>\n",
       "      <td>68.0</td>\n",
       "    </tr>\n",
       "    <tr>\n",
       "      <th>3</th>\n",
       "      <td>NaN</td>\n",
       "      <td>NaN</td>\n",
       "      <td>NaN</td>\n",
       "      <td>NaN</td>\n",
       "      <td>Gd</td>\n",
       "      <td>60.0</td>\n",
       "    </tr>\n",
       "    <tr>\n",
       "      <th>4</th>\n",
       "      <td>NaN</td>\n",
       "      <td>NaN</td>\n",
       "      <td>NaN</td>\n",
       "      <td>NaN</td>\n",
       "      <td>TA</td>\n",
       "      <td>84.0</td>\n",
       "    </tr>\n",
       "    <tr>\n",
       "      <th>5</th>\n",
       "      <td>NaN</td>\n",
       "      <td>Shed</td>\n",
       "      <td>NaN</td>\n",
       "      <td>MnPrv</td>\n",
       "      <td>NaN</td>\n",
       "      <td>85.0</td>\n",
       "    </tr>\n",
       "    <tr>\n",
       "      <th>6</th>\n",
       "      <td>NaN</td>\n",
       "      <td>NaN</td>\n",
       "      <td>NaN</td>\n",
       "      <td>NaN</td>\n",
       "      <td>Gd</td>\n",
       "      <td>75.0</td>\n",
       "    </tr>\n",
       "    <tr>\n",
       "      <th>7</th>\n",
       "      <td>NaN</td>\n",
       "      <td>Shed</td>\n",
       "      <td>NaN</td>\n",
       "      <td>NaN</td>\n",
       "      <td>TA</td>\n",
       "      <td>NaN</td>\n",
       "    </tr>\n",
       "    <tr>\n",
       "      <th>8</th>\n",
       "      <td>NaN</td>\n",
       "      <td>NaN</td>\n",
       "      <td>NaN</td>\n",
       "      <td>NaN</td>\n",
       "      <td>TA</td>\n",
       "      <td>51.0</td>\n",
       "    </tr>\n",
       "    <tr>\n",
       "      <th>9</th>\n",
       "      <td>NaN</td>\n",
       "      <td>NaN</td>\n",
       "      <td>NaN</td>\n",
       "      <td>NaN</td>\n",
       "      <td>TA</td>\n",
       "      <td>50.0</td>\n",
       "    </tr>\n",
       "    <tr>\n",
       "      <th>10</th>\n",
       "      <td>NaN</td>\n",
       "      <td>NaN</td>\n",
       "      <td>NaN</td>\n",
       "      <td>NaN</td>\n",
       "      <td>NaN</td>\n",
       "      <td>70.0</td>\n",
       "    </tr>\n",
       "    <tr>\n",
       "      <th>11</th>\n",
       "      <td>NaN</td>\n",
       "      <td>NaN</td>\n",
       "      <td>NaN</td>\n",
       "      <td>NaN</td>\n",
       "      <td>Gd</td>\n",
       "      <td>85.0</td>\n",
       "    </tr>\n",
       "    <tr>\n",
       "      <th>12</th>\n",
       "      <td>NaN</td>\n",
       "      <td>NaN</td>\n",
       "      <td>NaN</td>\n",
       "      <td>NaN</td>\n",
       "      <td>NaN</td>\n",
       "      <td>NaN</td>\n",
       "    </tr>\n",
       "    <tr>\n",
       "      <th>13</th>\n",
       "      <td>NaN</td>\n",
       "      <td>NaN</td>\n",
       "      <td>NaN</td>\n",
       "      <td>NaN</td>\n",
       "      <td>Gd</td>\n",
       "      <td>91.0</td>\n",
       "    </tr>\n",
       "    <tr>\n",
       "      <th>14</th>\n",
       "      <td>NaN</td>\n",
       "      <td>NaN</td>\n",
       "      <td>NaN</td>\n",
       "      <td>GdWo</td>\n",
       "      <td>Fa</td>\n",
       "      <td>NaN</td>\n",
       "    </tr>\n",
       "    <tr>\n",
       "      <th>15</th>\n",
       "      <td>NaN</td>\n",
       "      <td>NaN</td>\n",
       "      <td>NaN</td>\n",
       "      <td>GdPrv</td>\n",
       "      <td>NaN</td>\n",
       "      <td>51.0</td>\n",
       "    </tr>\n",
       "    <tr>\n",
       "      <th>16</th>\n",
       "      <td>NaN</td>\n",
       "      <td>Shed</td>\n",
       "      <td>NaN</td>\n",
       "      <td>NaN</td>\n",
       "      <td>TA</td>\n",
       "      <td>NaN</td>\n",
       "    </tr>\n",
       "    <tr>\n",
       "      <th>17</th>\n",
       "      <td>NaN</td>\n",
       "      <td>Shed</td>\n",
       "      <td>NaN</td>\n",
       "      <td>NaN</td>\n",
       "      <td>NaN</td>\n",
       "      <td>72.0</td>\n",
       "    </tr>\n",
       "    <tr>\n",
       "      <th>18</th>\n",
       "      <td>NaN</td>\n",
       "      <td>NaN</td>\n",
       "      <td>NaN</td>\n",
       "      <td>NaN</td>\n",
       "      <td>NaN</td>\n",
       "      <td>66.0</td>\n",
       "    </tr>\n",
       "    <tr>\n",
       "      <th>19</th>\n",
       "      <td>NaN</td>\n",
       "      <td>NaN</td>\n",
       "      <td>NaN</td>\n",
       "      <td>MnPrv</td>\n",
       "      <td>NaN</td>\n",
       "      <td>70.0</td>\n",
       "    </tr>\n",
       "  </tbody>\n",
       "</table>\n",
       "</div>"
      ],
      "text/plain": [
       "   PoolQC MiscFeature Alley  Fence FireplaceQu  LotFrontage\n",
       "0     NaN         NaN   NaN    NaN         NaN         65.0\n",
       "1     NaN         NaN   NaN    NaN          TA         80.0\n",
       "2     NaN         NaN   NaN    NaN          TA         68.0\n",
       "3     NaN         NaN   NaN    NaN          Gd         60.0\n",
       "4     NaN         NaN   NaN    NaN          TA         84.0\n",
       "5     NaN        Shed   NaN  MnPrv         NaN         85.0\n",
       "6     NaN         NaN   NaN    NaN          Gd         75.0\n",
       "7     NaN        Shed   NaN    NaN          TA          NaN\n",
       "8     NaN         NaN   NaN    NaN          TA         51.0\n",
       "9     NaN         NaN   NaN    NaN          TA         50.0\n",
       "10    NaN         NaN   NaN    NaN         NaN         70.0\n",
       "11    NaN         NaN   NaN    NaN          Gd         85.0\n",
       "12    NaN         NaN   NaN    NaN         NaN          NaN\n",
       "13    NaN         NaN   NaN    NaN          Gd         91.0\n",
       "14    NaN         NaN   NaN   GdWo          Fa          NaN\n",
       "15    NaN         NaN   NaN  GdPrv         NaN         51.0\n",
       "16    NaN        Shed   NaN    NaN          TA          NaN\n",
       "17    NaN        Shed   NaN    NaN         NaN         72.0\n",
       "18    NaN         NaN   NaN    NaN         NaN         66.0\n",
       "19    NaN         NaN   NaN  MnPrv         NaN         70.0"
      ]
     },
     "execution_count": 27,
     "metadata": {},
     "output_type": "execute_result"
    }
   ],
   "source": [
    "# Closeer examination of most missing variables\n",
    "df[\n",
    "[\n",
    "'PoolQC',\n",
    "'MiscFeature',\n",
    "'Alley',\n",
    "'Fence',\n",
    "'FireplaceQu',\n",
    "'LotFrontage',]\n",
    "].head(20)"
   ]
  },
  {
   "cell_type": "code",
   "execution_count": 28,
   "metadata": {},
   "outputs": [],
   "source": [
    "# DEAL WITH NULL VALUES - Categorical\n",
    "for c in ['PoolQC',\n",
    "'MiscFeature',\n",
    "'Alley',\n",
    "'Fence',\n",
    "'FireplaceQu',]:\n",
    "    df[c] = df[c].fillna('NA')"
   ]
  },
  {
   "cell_type": "code",
   "execution_count": 30,
   "metadata": {},
   "outputs": [
    {
     "data": {
      "text/html": [
       "<div>\n",
       "<style scoped>\n",
       "    .dataframe tbody tr th:only-of-type {\n",
       "        vertical-align: middle;\n",
       "    }\n",
       "\n",
       "    .dataframe tbody tr th {\n",
       "        vertical-align: top;\n",
       "    }\n",
       "\n",
       "    .dataframe thead th {\n",
       "        text-align: right;\n",
       "    }\n",
       "</style>\n",
       "<table border=\"1\" class=\"dataframe\">\n",
       "  <thead>\n",
       "    <tr style=\"text-align: right;\">\n",
       "      <th></th>\n",
       "      <th>GarageFinish</th>\n",
       "      <th>GarageYrBlt</th>\n",
       "      <th>GarageType</th>\n",
       "      <th>GarageQual</th>\n",
       "      <th>GarageCond</th>\n",
       "      <th>BsmtFinType2</th>\n",
       "      <th>BsmtExposure</th>\n",
       "      <th>BsmtQual</th>\n",
       "      <th>BsmtCond</th>\n",
       "      <th>BsmtFinType1</th>\n",
       "      <th>MasVnrArea</th>\n",
       "      <th>MasVnrType</th>\n",
       "      <th>Electrical</th>\n",
       "    </tr>\n",
       "  </thead>\n",
       "  <tbody>\n",
       "    <tr>\n",
       "      <th>0</th>\n",
       "      <td>RFn</td>\n",
       "      <td>2003.0</td>\n",
       "      <td>Attchd</td>\n",
       "      <td>TA</td>\n",
       "      <td>TA</td>\n",
       "      <td>Unf</td>\n",
       "      <td>No</td>\n",
       "      <td>Gd</td>\n",
       "      <td>TA</td>\n",
       "      <td>GLQ</td>\n",
       "      <td>196.0</td>\n",
       "      <td>BrkFace</td>\n",
       "      <td>SBrkr</td>\n",
       "    </tr>\n",
       "    <tr>\n",
       "      <th>1</th>\n",
       "      <td>RFn</td>\n",
       "      <td>1976.0</td>\n",
       "      <td>Attchd</td>\n",
       "      <td>TA</td>\n",
       "      <td>TA</td>\n",
       "      <td>Unf</td>\n",
       "      <td>Gd</td>\n",
       "      <td>Gd</td>\n",
       "      <td>TA</td>\n",
       "      <td>ALQ</td>\n",
       "      <td>0.0</td>\n",
       "      <td>None</td>\n",
       "      <td>SBrkr</td>\n",
       "    </tr>\n",
       "    <tr>\n",
       "      <th>2</th>\n",
       "      <td>RFn</td>\n",
       "      <td>2001.0</td>\n",
       "      <td>Attchd</td>\n",
       "      <td>TA</td>\n",
       "      <td>TA</td>\n",
       "      <td>Unf</td>\n",
       "      <td>Mn</td>\n",
       "      <td>Gd</td>\n",
       "      <td>TA</td>\n",
       "      <td>GLQ</td>\n",
       "      <td>162.0</td>\n",
       "      <td>BrkFace</td>\n",
       "      <td>SBrkr</td>\n",
       "    </tr>\n",
       "    <tr>\n",
       "      <th>3</th>\n",
       "      <td>Unf</td>\n",
       "      <td>1998.0</td>\n",
       "      <td>Detchd</td>\n",
       "      <td>TA</td>\n",
       "      <td>TA</td>\n",
       "      <td>Unf</td>\n",
       "      <td>No</td>\n",
       "      <td>TA</td>\n",
       "      <td>Gd</td>\n",
       "      <td>ALQ</td>\n",
       "      <td>0.0</td>\n",
       "      <td>None</td>\n",
       "      <td>SBrkr</td>\n",
       "    </tr>\n",
       "    <tr>\n",
       "      <th>4</th>\n",
       "      <td>RFn</td>\n",
       "      <td>2000.0</td>\n",
       "      <td>Attchd</td>\n",
       "      <td>TA</td>\n",
       "      <td>TA</td>\n",
       "      <td>Unf</td>\n",
       "      <td>Av</td>\n",
       "      <td>Gd</td>\n",
       "      <td>TA</td>\n",
       "      <td>GLQ</td>\n",
       "      <td>350.0</td>\n",
       "      <td>BrkFace</td>\n",
       "      <td>SBrkr</td>\n",
       "    </tr>\n",
       "    <tr>\n",
       "      <th>5</th>\n",
       "      <td>Unf</td>\n",
       "      <td>1993.0</td>\n",
       "      <td>Attchd</td>\n",
       "      <td>TA</td>\n",
       "      <td>TA</td>\n",
       "      <td>Unf</td>\n",
       "      <td>No</td>\n",
       "      <td>Gd</td>\n",
       "      <td>TA</td>\n",
       "      <td>GLQ</td>\n",
       "      <td>0.0</td>\n",
       "      <td>None</td>\n",
       "      <td>SBrkr</td>\n",
       "    </tr>\n",
       "    <tr>\n",
       "      <th>6</th>\n",
       "      <td>RFn</td>\n",
       "      <td>2004.0</td>\n",
       "      <td>Attchd</td>\n",
       "      <td>TA</td>\n",
       "      <td>TA</td>\n",
       "      <td>Unf</td>\n",
       "      <td>Av</td>\n",
       "      <td>Ex</td>\n",
       "      <td>TA</td>\n",
       "      <td>GLQ</td>\n",
       "      <td>186.0</td>\n",
       "      <td>Stone</td>\n",
       "      <td>SBrkr</td>\n",
       "    </tr>\n",
       "    <tr>\n",
       "      <th>7</th>\n",
       "      <td>RFn</td>\n",
       "      <td>1973.0</td>\n",
       "      <td>Attchd</td>\n",
       "      <td>TA</td>\n",
       "      <td>TA</td>\n",
       "      <td>BLQ</td>\n",
       "      <td>Mn</td>\n",
       "      <td>Gd</td>\n",
       "      <td>TA</td>\n",
       "      <td>ALQ</td>\n",
       "      <td>240.0</td>\n",
       "      <td>Stone</td>\n",
       "      <td>SBrkr</td>\n",
       "    </tr>\n",
       "    <tr>\n",
       "      <th>8</th>\n",
       "      <td>Unf</td>\n",
       "      <td>1931.0</td>\n",
       "      <td>Detchd</td>\n",
       "      <td>Fa</td>\n",
       "      <td>TA</td>\n",
       "      <td>Unf</td>\n",
       "      <td>No</td>\n",
       "      <td>TA</td>\n",
       "      <td>TA</td>\n",
       "      <td>Unf</td>\n",
       "      <td>0.0</td>\n",
       "      <td>None</td>\n",
       "      <td>FuseF</td>\n",
       "    </tr>\n",
       "    <tr>\n",
       "      <th>9</th>\n",
       "      <td>RFn</td>\n",
       "      <td>1939.0</td>\n",
       "      <td>Attchd</td>\n",
       "      <td>Gd</td>\n",
       "      <td>TA</td>\n",
       "      <td>Unf</td>\n",
       "      <td>No</td>\n",
       "      <td>TA</td>\n",
       "      <td>TA</td>\n",
       "      <td>GLQ</td>\n",
       "      <td>0.0</td>\n",
       "      <td>None</td>\n",
       "      <td>SBrkr</td>\n",
       "    </tr>\n",
       "  </tbody>\n",
       "</table>\n",
       "</div>"
      ],
      "text/plain": [
       "  GarageFinish  GarageYrBlt GarageType GarageQual GarageCond BsmtFinType2  \\\n",
       "0          RFn       2003.0     Attchd         TA         TA          Unf   \n",
       "1          RFn       1976.0     Attchd         TA         TA          Unf   \n",
       "2          RFn       2001.0     Attchd         TA         TA          Unf   \n",
       "3          Unf       1998.0     Detchd         TA         TA          Unf   \n",
       "4          RFn       2000.0     Attchd         TA         TA          Unf   \n",
       "5          Unf       1993.0     Attchd         TA         TA          Unf   \n",
       "6          RFn       2004.0     Attchd         TA         TA          Unf   \n",
       "7          RFn       1973.0     Attchd         TA         TA          BLQ   \n",
       "8          Unf       1931.0     Detchd         Fa         TA          Unf   \n",
       "9          RFn       1939.0     Attchd         Gd         TA          Unf   \n",
       "\n",
       "  BsmtExposure BsmtQual BsmtCond BsmtFinType1  MasVnrArea MasVnrType  \\\n",
       "0           No       Gd       TA          GLQ       196.0    BrkFace   \n",
       "1           Gd       Gd       TA          ALQ         0.0       None   \n",
       "2           Mn       Gd       TA          GLQ       162.0    BrkFace   \n",
       "3           No       TA       Gd          ALQ         0.0       None   \n",
       "4           Av       Gd       TA          GLQ       350.0    BrkFace   \n",
       "5           No       Gd       TA          GLQ         0.0       None   \n",
       "6           Av       Ex       TA          GLQ       186.0      Stone   \n",
       "7           Mn       Gd       TA          ALQ       240.0      Stone   \n",
       "8           No       TA       TA          Unf         0.0       None   \n",
       "9           No       TA       TA          GLQ         0.0       None   \n",
       "\n",
       "  Electrical  \n",
       "0      SBrkr  \n",
       "1      SBrkr  \n",
       "2      SBrkr  \n",
       "3      SBrkr  \n",
       "4      SBrkr  \n",
       "5      SBrkr  \n",
       "6      SBrkr  \n",
       "7      SBrkr  \n",
       "8      FuseF  \n",
       "9      SBrkr  "
      ]
     },
     "execution_count": 30,
     "metadata": {},
     "output_type": "execute_result"
    }
   ],
   "source": [
    "\n",
    "msg_vars_cat = [\n",
    "'GarageFinish',\n",
    "'GarageYrBlt',\n",
    "'GarageType',\n",
    "'GarageQual',\n",
    "'GarageCond',\n",
    "'BsmtFinType2',\n",
    "'BsmtExposure',\n",
    "'BsmtQual',\n",
    "'BsmtCond',\n",
    "'BsmtFinType1',\n",
    "'MasVnrArea',\n",
    "'MasVnrType',\n",
    "'Electrical',]\n",
    "\n",
    "df[msg_vars_cat].head(10)\n",
    "\n"
   ]
  },
  {
   "cell_type": "code",
   "execution_count": 31,
   "metadata": {},
   "outputs": [],
   "source": [
    "df['LotFrontage'] = df['LotFrontage'].fillna(0)"
   ]
  },
  {
   "cell_type": "code",
   "execution_count": 32,
   "metadata": {
    "collapsed": false,
    "pycharm": {
     "name": "#%%\n"
    }
   },
   "outputs": [
    {
     "data": {
      "text/plain": [
       "37"
      ]
     },
     "execution_count": 32,
     "metadata": {},
     "output_type": "execute_result"
    },
    {
     "data": {
      "text/plain": [
       "43"
      ]
     },
     "execution_count": 32,
     "metadata": {},
     "output_type": "execute_result"
    },
    {
     "data": {
      "text/plain": [
       "36"
      ]
     },
     "execution_count": 32,
     "metadata": {},
     "output_type": "execute_result"
    }
   ],
   "source": [
    "# Split features into numeric and categorical\n",
    "numeric = list(df.select_dtypes(\"number\").columns)\n",
    "categorical = list(df.select_dtypes(\"object\").columns)\n",
    "len(numeric)\n",
    "len(categorical)\n",
    "# Remove target\n",
    "numeric.remove('SalePrice')\n",
    "len(numeric)"
   ]
  },
  {
   "cell_type": "code",
   "execution_count": 33,
   "metadata": {},
   "outputs": [
    {
     "data": {
      "text/plain": [
       "{'MSSubClass': 'Identifies the type of dwelling involved in the sale.\\t',\n",
       " 'MSZoning': 'Identifies the general zoning classification of the sale.',\n",
       " 'LotFrontage': 'Linear feet of street connected to property',\n",
       " 'LotArea': 'Lot size in square feet',\n",
       " 'Street': 'Type of road access to property',\n",
       " 'Alley': 'Type of alley access to property',\n",
       " 'LotShape': 'General shape of property',\n",
       " 'LandContour': 'Flatness of the property',\n",
       " 'Utilities': 'Type of utilities available',\n",
       " 'LotConfig': 'Lot configuration',\n",
       " 'LandSlope': 'Slope of property',\n",
       " 'Neighborhood': 'Physical locations within Ames city limits',\n",
       " 'Condition1': 'Proximity to various conditions',\n",
       " 'Condition2': 'Proximity to various conditions (if more than one is present)',\n",
       " 'BldgType': 'Type of dwelling',\n",
       " 'HouseStyle': 'Style of dwelling',\n",
       " 'OverallQual': 'Rates the overall material and finish of the house',\n",
       " 'OverallCond': 'Rates the overall condition of the house',\n",
       " 'YearBuilt': 'Original construction date',\n",
       " 'YearRemodAdd': 'Remodel date (same as construction date if no remodeling or additions)',\n",
       " 'RoofStyle': 'Type of roof',\n",
       " 'RoofMatl': 'Roof material',\n",
       " 'Exterior1st': 'Exterior covering on house',\n",
       " 'Exterior2nd': 'Exterior covering on house (if more than one material)',\n",
       " 'MasVnrType': 'Masonry veneer type',\n",
       " 'MasVnrArea': 'Masonry veneer area in square feet',\n",
       " 'ExterQual': 'Evaluates the quality of the material on the exterior ',\n",
       " 'ExterCond': 'Evaluates the present condition of the material on the exterior',\n",
       " 'Foundation': 'Type of foundation',\n",
       " 'BsmtQual': 'Evaluates the height of the basement',\n",
       " 'BsmtCond': 'Evaluates the general condition of the basement',\n",
       " 'BsmtExposure': 'Refers to walkout or garden level walls',\n",
       " 'BsmtFinType1': 'Rating of basement finished area',\n",
       " 'BsmtFinSF1': 'Type 1 finished square feet',\n",
       " 'BsmtFinType2': 'Rating of basement finished area (if multiple types)',\n",
       " 'BsmtFinSF2': 'Type 2 finished square feet',\n",
       " 'BsmtUnfSF': 'Unfinished square feet of basement area',\n",
       " 'TotalBsmtSF': 'Total square feet of basement area',\n",
       " 'Heating': 'Type of heating',\n",
       " 'HeatingQC': 'Heating quality and condition',\n",
       " 'CentralAir': 'Central air conditioning',\n",
       " 'Electrical': 'Electrical system',\n",
       " '1stFlrSF': 'First Floor square feet',\n",
       " '2ndFlrSF': 'Second floor square feet',\n",
       " 'LowQualFinSF': 'Low quality finished square feet (all floors)',\n",
       " 'GrLivArea': 'Above grade (ground) living area square feet',\n",
       " 'BsmtFullBath': 'Basement full bathrooms',\n",
       " 'BsmtHalfBath': 'Basement half bathrooms',\n",
       " 'FullBath': 'Full bathrooms above grade',\n",
       " 'HalfBath': 'Half baths above grade',\n",
       " 'BedroomAbvGr': 'Bedrooms above grade (does NOT include basement bedrooms)',\n",
       " 'KitchenAbvGr': 'Kitchens above grade',\n",
       " 'KitchenQual': 'Kitchen quality',\n",
       " 'TotRmsAbvGrd': 'Total rooms above grade (does not include bathrooms)',\n",
       " 'Functional': 'Home functionality (Assume typical unless deductions are warranted)',\n",
       " 'Fireplaces': 'Number of fireplaces',\n",
       " 'FireplaceQu': 'Fireplace quality',\n",
       " 'GarageType': 'Garage location',\n",
       " 'GarageYrBlt': 'Year garage was built',\n",
       " 'GarageFinish': 'Interior finish of the garage',\n",
       " 'GarageCars': 'Size of garage in car capacity',\n",
       " 'GarageArea': 'Size of garage in square feet',\n",
       " 'GarageQual': 'Garage quality',\n",
       " 'GarageCond': 'Garage condition',\n",
       " 'PavedDrive': 'Paved driveway',\n",
       " 'WoodDeckSF': 'Wood deck area in square feet',\n",
       " 'OpenPorchSF': 'Open porch area in square feet',\n",
       " 'EnclosedPorch': 'Enclosed porch area in square feet',\n",
       " '3SsnPorch': 'Three season porch area in square feet',\n",
       " 'ScreenPorch': 'Screen porch area in square feet',\n",
       " 'PoolArea': 'Pool area in square feet',\n",
       " 'PoolQC': 'Pool quality',\n",
       " 'Fence': 'Fence quality',\n",
       " 'MiscFeature': 'Miscellaneous feature not covered in other categories',\n",
       " 'MiscVal': '$Value of miscellaneous feature',\n",
       " 'MoSold': 'Month Sold (MM)',\n",
       " 'YrSold': 'Year Sold (YYYY)',\n",
       " 'SaleType': 'Type of sale',\n",
       " 'SaleCondition': 'Condition of sale'}"
      ]
     },
     "execution_count": 33,
     "metadata": {},
     "output_type": "execute_result"
    },
    {
     "data": {
      "text/plain": [
       "79"
      ]
     },
     "execution_count": 33,
     "metadata": {},
     "output_type": "execute_result"
    }
   ],
   "source": [
    "textfile = open('data_description.txt', 'r')\n",
    "matches = []\n",
    "reg = re.compile(\"^[^:]*\\t\")\n",
    "for line in textfile:\n",
    "    if re.search(reg, line):\n",
    "        pass\n",
    "    else:\n",
    "        matches += re.compile(\"^.*:.*$\").findall(line)\n",
    "textfile.close()\n",
    "\n",
    "desc_dict = dict(item.split(\": \") for item in matches)\n",
    "desc_dict\n",
    "len(desc_dict)\n",
    "\n"
   ]
  },
  {
   "cell_type": "code",
   "execution_count": 34,
   "metadata": {},
   "outputs": [
    {
     "name": "stdout",
     "output_type": "stream",
     "text": [
      "MSZoning: Identifies the general zoning classification of the sale.\n"
     ]
    },
    {
     "data": {
      "text/plain": [
       "RL         0.788356\n",
       "RM         0.149315\n",
       "FV         0.044521\n",
       "RH         0.010959\n",
       "C (all)    0.006849\n",
       "Name: MSZoning, dtype: float64"
      ]
     },
     "execution_count": 34,
     "metadata": {},
     "output_type": "execute_result"
    },
    {
     "name": "stdout",
     "output_type": "stream",
     "text": [
      "Street: Type of road access to property\n"
     ]
    },
    {
     "data": {
      "text/plain": [
       "Pave    0.99589\n",
       "Grvl    0.00411\n",
       "Name: Street, dtype: float64"
      ]
     },
     "execution_count": 34,
     "metadata": {},
     "output_type": "execute_result"
    },
    {
     "name": "stdout",
     "output_type": "stream",
     "text": [
      "Alley: Type of alley access to property\n"
     ]
    },
    {
     "data": {
      "text/plain": [
       "NA      0.937671\n",
       "Grvl    0.034247\n",
       "Pave    0.028082\n",
       "Name: Alley, dtype: float64"
      ]
     },
     "execution_count": 34,
     "metadata": {},
     "output_type": "execute_result"
    },
    {
     "name": "stdout",
     "output_type": "stream",
     "text": [
      "LotShape: General shape of property\n"
     ]
    },
    {
     "data": {
      "text/plain": [
       "Reg    0.633562\n",
       "IR1    0.331507\n",
       "IR2    0.028082\n",
       "IR3    0.006849\n",
       "Name: LotShape, dtype: float64"
      ]
     },
     "execution_count": 34,
     "metadata": {},
     "output_type": "execute_result"
    },
    {
     "name": "stdout",
     "output_type": "stream",
     "text": [
      "LandContour: Flatness of the property\n"
     ]
    },
    {
     "data": {
      "text/plain": [
       "Lvl    0.897945\n",
       "Bnk    0.043151\n",
       "HLS    0.034247\n",
       "Low    0.024658\n",
       "Name: LandContour, dtype: float64"
      ]
     },
     "execution_count": 34,
     "metadata": {},
     "output_type": "execute_result"
    },
    {
     "name": "stdout",
     "output_type": "stream",
     "text": [
      "Utilities: Type of utilities available\n"
     ]
    },
    {
     "data": {
      "text/plain": [
       "AllPub    0.999315\n",
       "NoSeWa    0.000685\n",
       "Name: Utilities, dtype: float64"
      ]
     },
     "execution_count": 34,
     "metadata": {},
     "output_type": "execute_result"
    },
    {
     "name": "stdout",
     "output_type": "stream",
     "text": [
      "LotConfig: Lot configuration\n"
     ]
    },
    {
     "data": {
      "text/plain": [
       "Inside     0.720548\n",
       "Corner     0.180137\n",
       "CulDSac    0.064384\n",
       "FR2        0.032192\n",
       "FR3        0.002740\n",
       "Name: LotConfig, dtype: float64"
      ]
     },
     "execution_count": 34,
     "metadata": {},
     "output_type": "execute_result"
    },
    {
     "name": "stdout",
     "output_type": "stream",
     "text": [
      "LandSlope: Slope of property\n"
     ]
    },
    {
     "data": {
      "text/plain": [
       "Gtl    0.946575\n",
       "Mod    0.044521\n",
       "Sev    0.008904\n",
       "Name: LandSlope, dtype: float64"
      ]
     },
     "execution_count": 34,
     "metadata": {},
     "output_type": "execute_result"
    },
    {
     "name": "stdout",
     "output_type": "stream",
     "text": [
      "Neighborhood: Physical locations within Ames city limits\n"
     ]
    },
    {
     "data": {
      "text/plain": [
       "NAmes      0.154110\n",
       "CollgCr    0.102740\n",
       "OldTown    0.077397\n",
       "Edwards    0.068493\n",
       "Somerst    0.058904\n",
       "Gilbert    0.054110\n",
       "NridgHt    0.052740\n",
       "Sawyer     0.050685\n",
       "NWAmes     0.050000\n",
       "SawyerW    0.040411\n",
       "BrkSide    0.039726\n",
       "Crawfor    0.034932\n",
       "Mitchel    0.033562\n",
       "NoRidge    0.028082\n",
       "Timber     0.026027\n",
       "IDOTRR     0.025342\n",
       "ClearCr    0.019178\n",
       "StoneBr    0.017123\n",
       "SWISU      0.017123\n",
       "MeadowV    0.011644\n",
       "Blmngtn    0.011644\n",
       "BrDale     0.010959\n",
       "Veenker    0.007534\n",
       "NPkVill    0.006164\n",
       "Blueste    0.001370\n",
       "Name: Neighborhood, dtype: float64"
      ]
     },
     "execution_count": 34,
     "metadata": {},
     "output_type": "execute_result"
    },
    {
     "name": "stdout",
     "output_type": "stream",
     "text": [
      "Condition1: Proximity to various conditions\n"
     ]
    },
    {
     "data": {
      "text/plain": [
       "Norm      0.863014\n",
       "Feedr     0.055479\n",
       "Artery    0.032877\n",
       "RRAn      0.017808\n",
       "PosN      0.013014\n",
       "RRAe      0.007534\n",
       "PosA      0.005479\n",
       "RRNn      0.003425\n",
       "RRNe      0.001370\n",
       "Name: Condition1, dtype: float64"
      ]
     },
     "execution_count": 34,
     "metadata": {},
     "output_type": "execute_result"
    },
    {
     "name": "stdout",
     "output_type": "stream",
     "text": [
      "Condition2: Proximity to various conditions (if more than one is present)\n"
     ]
    },
    {
     "data": {
      "text/plain": [
       "Norm      0.989726\n",
       "Feedr     0.004110\n",
       "Artery    0.001370\n",
       "RRNn      0.001370\n",
       "PosN      0.001370\n",
       "PosA      0.000685\n",
       "RRAn      0.000685\n",
       "RRAe      0.000685\n",
       "Name: Condition2, dtype: float64"
      ]
     },
     "execution_count": 34,
     "metadata": {},
     "output_type": "execute_result"
    },
    {
     "name": "stdout",
     "output_type": "stream",
     "text": [
      "BldgType: Type of dwelling\n"
     ]
    },
    {
     "data": {
      "text/plain": [
       "1Fam      0.835616\n",
       "TwnhsE    0.078082\n",
       "Duplex    0.035616\n",
       "Twnhs     0.029452\n",
       "2fmCon    0.021233\n",
       "Name: BldgType, dtype: float64"
      ]
     },
     "execution_count": 34,
     "metadata": {},
     "output_type": "execute_result"
    },
    {
     "name": "stdout",
     "output_type": "stream",
     "text": [
      "HouseStyle: Style of dwelling\n"
     ]
    },
    {
     "data": {
      "text/plain": [
       "1Story    0.497260\n",
       "2Story    0.304795\n",
       "1.5Fin    0.105479\n",
       "SLvl      0.044521\n",
       "SFoyer    0.025342\n",
       "1.5Unf    0.009589\n",
       "2.5Unf    0.007534\n",
       "2.5Fin    0.005479\n",
       "Name: HouseStyle, dtype: float64"
      ]
     },
     "execution_count": 34,
     "metadata": {},
     "output_type": "execute_result"
    },
    {
     "name": "stdout",
     "output_type": "stream",
     "text": [
      "RoofStyle: Type of roof\n"
     ]
    },
    {
     "data": {
      "text/plain": [
       "Gable      0.781507\n",
       "Hip        0.195890\n",
       "Flat       0.008904\n",
       "Gambrel    0.007534\n",
       "Mansard    0.004795\n",
       "Shed       0.001370\n",
       "Name: RoofStyle, dtype: float64"
      ]
     },
     "execution_count": 34,
     "metadata": {},
     "output_type": "execute_result"
    },
    {
     "name": "stdout",
     "output_type": "stream",
     "text": [
      "RoofMatl: Roof material\n"
     ]
    },
    {
     "data": {
      "text/plain": [
       "CompShg    0.982192\n",
       "Tar&Grv    0.007534\n",
       "WdShngl    0.004110\n",
       "WdShake    0.003425\n",
       "Metal      0.000685\n",
       "Membran    0.000685\n",
       "Roll       0.000685\n",
       "ClyTile    0.000685\n",
       "Name: RoofMatl, dtype: float64"
      ]
     },
     "execution_count": 34,
     "metadata": {},
     "output_type": "execute_result"
    },
    {
     "name": "stdout",
     "output_type": "stream",
     "text": [
      "Exterior1st: Exterior covering on house\n"
     ]
    },
    {
     "data": {
      "text/plain": [
       "VinylSd    0.352740\n",
       "HdBoard    0.152055\n",
       "MetalSd    0.150685\n",
       "Wd Sdng    0.141096\n",
       "Plywood    0.073973\n",
       "CemntBd    0.041781\n",
       "BrkFace    0.034247\n",
       "WdShing    0.017808\n",
       "Stucco     0.017123\n",
       "AsbShng    0.013699\n",
       "BrkComm    0.001370\n",
       "Stone      0.001370\n",
       "AsphShn    0.000685\n",
       "ImStucc    0.000685\n",
       "CBlock     0.000685\n",
       "Name: Exterior1st, dtype: float64"
      ]
     },
     "execution_count": 34,
     "metadata": {},
     "output_type": "execute_result"
    },
    {
     "name": "stdout",
     "output_type": "stream",
     "text": [
      "Exterior2nd: Exterior covering on house (if more than one material)\n"
     ]
    },
    {
     "data": {
      "text/plain": [
       "VinylSd    0.345205\n",
       "MetalSd    0.146575\n",
       "HdBoard    0.141781\n",
       "Wd Sdng    0.134932\n",
       "Plywood    0.097260\n",
       "CmentBd    0.041096\n",
       "Wd Shng    0.026027\n",
       "Stucco     0.017808\n",
       "BrkFace    0.017123\n",
       "AsbShng    0.013699\n",
       "ImStucc    0.006849\n",
       "Brk Cmn    0.004795\n",
       "Stone      0.003425\n",
       "AsphShn    0.002055\n",
       "Other      0.000685\n",
       "CBlock     0.000685\n",
       "Name: Exterior2nd, dtype: float64"
      ]
     },
     "execution_count": 34,
     "metadata": {},
     "output_type": "execute_result"
    },
    {
     "name": "stdout",
     "output_type": "stream",
     "text": [
      "MasVnrType: Masonry veneer type\n"
     ]
    },
    {
     "data": {
      "text/plain": [
       "None       0.595041\n",
       "BrkFace    0.306474\n",
       "Stone      0.088154\n",
       "BrkCmn     0.010331\n",
       "Name: MasVnrType, dtype: float64"
      ]
     },
     "execution_count": 34,
     "metadata": {},
     "output_type": "execute_result"
    },
    {
     "name": "stdout",
     "output_type": "stream",
     "text": [
      "ExterQual: Evaluates the quality of the material on the exterior \n"
     ]
    },
    {
     "data": {
      "text/plain": [
       "TA    0.620548\n",
       "Gd    0.334247\n",
       "Ex    0.035616\n",
       "Fa    0.009589\n",
       "Name: ExterQual, dtype: float64"
      ]
     },
     "execution_count": 34,
     "metadata": {},
     "output_type": "execute_result"
    },
    {
     "name": "stdout",
     "output_type": "stream",
     "text": [
      "ExterCond: Evaluates the present condition of the material on the exterior\n"
     ]
    },
    {
     "data": {
      "text/plain": [
       "TA    0.878082\n",
       "Gd    0.100000\n",
       "Fa    0.019178\n",
       "Ex    0.002055\n",
       "Po    0.000685\n",
       "Name: ExterCond, dtype: float64"
      ]
     },
     "execution_count": 34,
     "metadata": {},
     "output_type": "execute_result"
    },
    {
     "name": "stdout",
     "output_type": "stream",
     "text": [
      "Foundation: Type of foundation\n"
     ]
    },
    {
     "data": {
      "text/plain": [
       "PConc     0.443151\n",
       "CBlock    0.434247\n",
       "BrkTil    0.100000\n",
       "Slab      0.016438\n",
       "Stone     0.004110\n",
       "Wood      0.002055\n",
       "Name: Foundation, dtype: float64"
      ]
     },
     "execution_count": 34,
     "metadata": {},
     "output_type": "execute_result"
    },
    {
     "name": "stdout",
     "output_type": "stream",
     "text": [
      "BsmtQual: Evaluates the height of the basement\n"
     ]
    },
    {
     "data": {
      "text/plain": [
       "TA    0.456079\n",
       "Gd    0.434294\n",
       "Ex    0.085032\n",
       "Fa    0.024596\n",
       "Name: BsmtQual, dtype: float64"
      ]
     },
     "execution_count": 34,
     "metadata": {},
     "output_type": "execute_result"
    },
    {
     "name": "stdout",
     "output_type": "stream",
     "text": [
      "BsmtCond: Evaluates the general condition of the basement\n"
     ]
    },
    {
     "data": {
      "text/plain": [
       "TA    0.921293\n",
       "Gd    0.045678\n",
       "Fa    0.031623\n",
       "Po    0.001405\n",
       "Name: BsmtCond, dtype: float64"
      ]
     },
     "execution_count": 34,
     "metadata": {},
     "output_type": "execute_result"
    },
    {
     "name": "stdout",
     "output_type": "stream",
     "text": [
      "BsmtExposure: Refers to walkout or garden level walls\n"
     ]
    },
    {
     "data": {
      "text/plain": [
       "No    0.670183\n",
       "Av    0.155415\n",
       "Gd    0.094233\n",
       "Mn    0.080169\n",
       "Name: BsmtExposure, dtype: float64"
      ]
     },
     "execution_count": 34,
     "metadata": {},
     "output_type": "execute_result"
    },
    {
     "name": "stdout",
     "output_type": "stream",
     "text": [
      "BsmtFinType1: Rating of basement finished area\n"
     ]
    },
    {
     "data": {
      "text/plain": [
       "Unf    0.302178\n",
       "GLQ    0.293746\n",
       "ALQ    0.154603\n",
       "BLQ    0.104006\n",
       "Rec    0.093465\n",
       "LwQ    0.052003\n",
       "Name: BsmtFinType1, dtype: float64"
      ]
     },
     "execution_count": 34,
     "metadata": {},
     "output_type": "execute_result"
    },
    {
     "name": "stdout",
     "output_type": "stream",
     "text": [
      "BsmtFinType2: Rating of basement finished area (if multiple types)\n"
     ]
    },
    {
     "data": {
      "text/plain": [
       "Unf    0.883263\n",
       "Rec    0.037975\n",
       "LwQ    0.032349\n",
       "BLQ    0.023207\n",
       "ALQ    0.013361\n",
       "GLQ    0.009845\n",
       "Name: BsmtFinType2, dtype: float64"
      ]
     },
     "execution_count": 34,
     "metadata": {},
     "output_type": "execute_result"
    },
    {
     "name": "stdout",
     "output_type": "stream",
     "text": [
      "Heating: Type of heating\n"
     ]
    },
    {
     "data": {
      "text/plain": [
       "GasA     0.978082\n",
       "GasW     0.012329\n",
       "Grav     0.004795\n",
       "Wall     0.002740\n",
       "OthW     0.001370\n",
       "Floor    0.000685\n",
       "Name: Heating, dtype: float64"
      ]
     },
     "execution_count": 34,
     "metadata": {},
     "output_type": "execute_result"
    },
    {
     "name": "stdout",
     "output_type": "stream",
     "text": [
      "HeatingQC: Heating quality and condition\n"
     ]
    },
    {
     "data": {
      "text/plain": [
       "Ex    0.507534\n",
       "TA    0.293151\n",
       "Gd    0.165068\n",
       "Fa    0.033562\n",
       "Po    0.000685\n",
       "Name: HeatingQC, dtype: float64"
      ]
     },
     "execution_count": 34,
     "metadata": {},
     "output_type": "execute_result"
    },
    {
     "name": "stdout",
     "output_type": "stream",
     "text": [
      "CentralAir: Central air conditioning\n"
     ]
    },
    {
     "data": {
      "text/plain": [
       "Y    0.934932\n",
       "N    0.065068\n",
       "Name: CentralAir, dtype: float64"
      ]
     },
     "execution_count": 34,
     "metadata": {},
     "output_type": "execute_result"
    },
    {
     "name": "stdout",
     "output_type": "stream",
     "text": [
      "Electrical: Electrical system\n"
     ]
    },
    {
     "data": {
      "text/plain": [
       "SBrkr    0.914325\n",
       "FuseA    0.064428\n",
       "FuseF    0.018506\n",
       "FuseP    0.002056\n",
       "Mix      0.000685\n",
       "Name: Electrical, dtype: float64"
      ]
     },
     "execution_count": 34,
     "metadata": {},
     "output_type": "execute_result"
    },
    {
     "name": "stdout",
     "output_type": "stream",
     "text": [
      "KitchenQual: Kitchen quality\n"
     ]
    },
    {
     "data": {
      "text/plain": [
       "TA    0.503425\n",
       "Gd    0.401370\n",
       "Ex    0.068493\n",
       "Fa    0.026712\n",
       "Name: KitchenQual, dtype: float64"
      ]
     },
     "execution_count": 34,
     "metadata": {},
     "output_type": "execute_result"
    },
    {
     "name": "stdout",
     "output_type": "stream",
     "text": [
      "Functional: Home functionality (Assume typical unless deductions are warranted)\n"
     ]
    },
    {
     "data": {
      "text/plain": [
       "Typ     0.931507\n",
       "Min2    0.023288\n",
       "Min1    0.021233\n",
       "Mod     0.010274\n",
       "Maj1    0.009589\n",
       "Maj2    0.003425\n",
       "Sev     0.000685\n",
       "Name: Functional, dtype: float64"
      ]
     },
     "execution_count": 34,
     "metadata": {},
     "output_type": "execute_result"
    },
    {
     "name": "stdout",
     "output_type": "stream",
     "text": [
      "FireplaceQu: Fireplace quality\n"
     ]
    },
    {
     "data": {
      "text/plain": [
       "NA    0.472603\n",
       "Gd    0.260274\n",
       "TA    0.214384\n",
       "Fa    0.022603\n",
       "Ex    0.016438\n",
       "Po    0.013699\n",
       "Name: FireplaceQu, dtype: float64"
      ]
     },
     "execution_count": 34,
     "metadata": {},
     "output_type": "execute_result"
    },
    {
     "name": "stdout",
     "output_type": "stream",
     "text": [
      "GarageType: Garage location\n"
     ]
    },
    {
     "data": {
      "text/plain": [
       "Attchd     0.630892\n",
       "Detchd     0.280638\n",
       "BuiltIn    0.063814\n",
       "Basment    0.013778\n",
       "CarPort    0.006526\n",
       "2Types     0.004351\n",
       "Name: GarageType, dtype: float64"
      ]
     },
     "execution_count": 34,
     "metadata": {},
     "output_type": "execute_result"
    },
    {
     "name": "stdout",
     "output_type": "stream",
     "text": [
      "GarageFinish: Interior finish of the garage\n"
     ]
    },
    {
     "data": {
      "text/plain": [
       "Unf    0.438724\n",
       "RFn    0.306019\n",
       "Fin    0.255257\n",
       "Name: GarageFinish, dtype: float64"
      ]
     },
     "execution_count": 34,
     "metadata": {},
     "output_type": "execute_result"
    },
    {
     "name": "stdout",
     "output_type": "stream",
     "text": [
      "GarageQual: Garage quality\n"
     ]
    },
    {
     "data": {
      "text/plain": [
       "TA    0.950689\n",
       "Fa    0.034808\n",
       "Gd    0.010152\n",
       "Ex    0.002175\n",
       "Po    0.002175\n",
       "Name: GarageQual, dtype: float64"
      ]
     },
     "execution_count": 34,
     "metadata": {},
     "output_type": "execute_result"
    },
    {
     "name": "stdout",
     "output_type": "stream",
     "text": [
      "GarageCond: Garage condition\n"
     ]
    },
    {
     "data": {
      "text/plain": [
       "TA    0.961566\n",
       "Fa    0.025381\n",
       "Gd    0.006526\n",
       "Po    0.005076\n",
       "Ex    0.001450\n",
       "Name: GarageCond, dtype: float64"
      ]
     },
     "execution_count": 34,
     "metadata": {},
     "output_type": "execute_result"
    },
    {
     "name": "stdout",
     "output_type": "stream",
     "text": [
      "PavedDrive: Paved driveway\n"
     ]
    },
    {
     "data": {
      "text/plain": [
       "Y    0.917808\n",
       "N    0.061644\n",
       "P    0.020548\n",
       "Name: PavedDrive, dtype: float64"
      ]
     },
     "execution_count": 34,
     "metadata": {},
     "output_type": "execute_result"
    },
    {
     "name": "stdout",
     "output_type": "stream",
     "text": [
      "PoolQC: Pool quality\n"
     ]
    },
    {
     "data": {
      "text/plain": [
       "NA    0.995205\n",
       "Gd    0.002055\n",
       "Ex    0.001370\n",
       "Fa    0.001370\n",
       "Name: PoolQC, dtype: float64"
      ]
     },
     "execution_count": 34,
     "metadata": {},
     "output_type": "execute_result"
    },
    {
     "name": "stdout",
     "output_type": "stream",
     "text": [
      "Fence: Fence quality\n"
     ]
    },
    {
     "data": {
      "text/plain": [
       "NA       0.807534\n",
       "MnPrv    0.107534\n",
       "GdPrv    0.040411\n",
       "GdWo     0.036986\n",
       "MnWw     0.007534\n",
       "Name: Fence, dtype: float64"
      ]
     },
     "execution_count": 34,
     "metadata": {},
     "output_type": "execute_result"
    },
    {
     "name": "stdout",
     "output_type": "stream",
     "text": [
      "MiscFeature: Miscellaneous feature not covered in other categories\n"
     ]
    },
    {
     "data": {
      "text/plain": [
       "NA      0.963014\n",
       "Shed    0.033562\n",
       "Gar2    0.001370\n",
       "Othr    0.001370\n",
       "TenC    0.000685\n",
       "Name: MiscFeature, dtype: float64"
      ]
     },
     "execution_count": 34,
     "metadata": {},
     "output_type": "execute_result"
    },
    {
     "name": "stdout",
     "output_type": "stream",
     "text": [
      "SaleType: Type of sale\n"
     ]
    },
    {
     "data": {
      "text/plain": [
       "WD       0.867808\n",
       "New      0.083562\n",
       "COD      0.029452\n",
       "ConLD    0.006164\n",
       "ConLI    0.003425\n",
       "ConLw    0.003425\n",
       "CWD      0.002740\n",
       "Oth      0.002055\n",
       "Con      0.001370\n",
       "Name: SaleType, dtype: float64"
      ]
     },
     "execution_count": 34,
     "metadata": {},
     "output_type": "execute_result"
    },
    {
     "name": "stdout",
     "output_type": "stream",
     "text": [
      "SaleCondition: Condition of sale\n"
     ]
    },
    {
     "data": {
      "text/plain": [
       "Normal     0.820548\n",
       "Partial    0.085616\n",
       "Abnorml    0.069178\n",
       "Family     0.013699\n",
       "Alloca     0.008219\n",
       "AdjLand    0.002740\n",
       "Name: SaleCondition, dtype: float64"
      ]
     },
     "execution_count": 34,
     "metadata": {},
     "output_type": "execute_result"
    }
   ],
   "source": [
    "for c in categorical:\n",
    "    print(f\"{c}: {desc_dict[c]}\")\n",
    "    df[c].value_counts(normalize=True)"
   ]
  },
  {
   "cell_type": "code",
   "execution_count": 35,
   "metadata": {},
   "outputs": [
    {
     "name": "stdout",
     "output_type": "stream",
     "text": [
      "MSSubClass: Identifies the type of dwelling involved in the sale.\t\n"
     ]
    },
    {
     "data": {
      "text/plain": [
       "20     0.367123\n",
       "60     0.204795\n",
       "50     0.098630\n",
       "120    0.059589\n",
       "30     0.047260\n",
       "160    0.043151\n",
       "70     0.041096\n",
       "80     0.039726\n",
       "90     0.035616\n",
       "190    0.020548\n",
       "85     0.013699\n",
       "75     0.010959\n",
       "45     0.008219\n",
       "180    0.006849\n",
       "40     0.002740\n",
       "Name: MSSubClass, dtype: float64"
      ]
     },
     "execution_count": 35,
     "metadata": {},
     "output_type": "execute_result"
    },
    {
     "name": "stdout",
     "output_type": "stream",
     "text": [
      "LotFrontage: Linear feet of street connected to property\n"
     ]
    },
    {
     "data": {
      "text/plain": [
       "0.0      0.177397\n",
       "60.0     0.097945\n",
       "70.0     0.047945\n",
       "80.0     0.047260\n",
       "50.0     0.039041\n",
       "           ...   \n",
       "137.0    0.000685\n",
       "38.0     0.000685\n",
       "33.0     0.000685\n",
       "150.0    0.000685\n",
       "46.0     0.000685\n",
       "Name: LotFrontage, Length: 111, dtype: float64"
      ]
     },
     "execution_count": 35,
     "metadata": {},
     "output_type": "execute_result"
    },
    {
     "name": "stdout",
     "output_type": "stream",
     "text": [
      "LotArea: Lot size in square feet\n"
     ]
    },
    {
     "data": {
      "text/plain": [
       "7200     0.017123\n",
       "9600     0.016438\n",
       "6000     0.011644\n",
       "9000     0.009589\n",
       "8400     0.009589\n",
       "           ...   \n",
       "14601    0.000685\n",
       "13682    0.000685\n",
       "4058     0.000685\n",
       "17104    0.000685\n",
       "9717     0.000685\n",
       "Name: LotArea, Length: 1073, dtype: float64"
      ]
     },
     "execution_count": 35,
     "metadata": {},
     "output_type": "execute_result"
    },
    {
     "name": "stdout",
     "output_type": "stream",
     "text": [
      "OverallQual: Rates the overall material and finish of the house\n"
     ]
    },
    {
     "data": {
      "text/plain": [
       "5     0.271918\n",
       "6     0.256164\n",
       "7     0.218493\n",
       "8     0.115068\n",
       "4     0.079452\n",
       "9     0.029452\n",
       "3     0.013699\n",
       "10    0.012329\n",
       "2     0.002055\n",
       "1     0.001370\n",
       "Name: OverallQual, dtype: float64"
      ]
     },
     "execution_count": 35,
     "metadata": {},
     "output_type": "execute_result"
    },
    {
     "name": "stdout",
     "output_type": "stream",
     "text": [
      "OverallCond: Rates the overall condition of the house\n"
     ]
    },
    {
     "data": {
      "text/plain": [
       "5    0.562329\n",
       "6    0.172603\n",
       "7    0.140411\n",
       "8    0.049315\n",
       "4    0.039041\n",
       "3    0.017123\n",
       "9    0.015068\n",
       "2    0.003425\n",
       "1    0.000685\n",
       "Name: OverallCond, dtype: float64"
      ]
     },
     "execution_count": 35,
     "metadata": {},
     "output_type": "execute_result"
    },
    {
     "name": "stdout",
     "output_type": "stream",
     "text": [
      "YearBuilt: Original construction date\n"
     ]
    },
    {
     "data": {
      "text/plain": [
       "2006    0.045890\n",
       "2005    0.043836\n",
       "2004    0.036986\n",
       "2007    0.033562\n",
       "2003    0.030822\n",
       "          ...   \n",
       "1875    0.000685\n",
       "1911    0.000685\n",
       "1917    0.000685\n",
       "1872    0.000685\n",
       "1905    0.000685\n",
       "Name: YearBuilt, Length: 112, dtype: float64"
      ]
     },
     "execution_count": 35,
     "metadata": {},
     "output_type": "execute_result"
    },
    {
     "name": "stdout",
     "output_type": "stream",
     "text": [
      "YearRemodAdd: Remodel date (same as construction date if no remodeling or additions)\n"
     ]
    },
    {
     "data": {
      "text/plain": [
       "1950    0.121918\n",
       "2006    0.066438\n",
       "2007    0.052055\n",
       "2005    0.050000\n",
       "2004    0.042466\n",
       "          ...   \n",
       "2010    0.004110\n",
       "1986    0.003425\n",
       "1952    0.003425\n",
       "1983    0.003425\n",
       "1951    0.002740\n",
       "Name: YearRemodAdd, Length: 61, dtype: float64"
      ]
     },
     "execution_count": 35,
     "metadata": {},
     "output_type": "execute_result"
    },
    {
     "name": "stdout",
     "output_type": "stream",
     "text": [
      "MasVnrArea: Masonry veneer area in square feet\n"
     ]
    },
    {
     "data": {
      "text/plain": [
       "0.0      0.592975\n",
       "180.0    0.005510\n",
       "72.0     0.005510\n",
       "108.0    0.005510\n",
       "120.0    0.004821\n",
       "           ...   \n",
       "562.0    0.000689\n",
       "89.0     0.000689\n",
       "921.0    0.000689\n",
       "762.0    0.000689\n",
       "119.0    0.000689\n",
       "Name: MasVnrArea, Length: 327, dtype: float64"
      ]
     },
     "execution_count": 35,
     "metadata": {},
     "output_type": "execute_result"
    },
    {
     "name": "stdout",
     "output_type": "stream",
     "text": [
      "BsmtFinSF1: Type 1 finished square feet\n"
     ]
    },
    {
     "data": {
      "text/plain": [
       "0       0.319863\n",
       "24      0.008219\n",
       "16      0.006164\n",
       "686     0.003425\n",
       "662     0.003425\n",
       "          ...   \n",
       "1338    0.000685\n",
       "1324    0.000685\n",
       "1460    0.000685\n",
       "328     0.000685\n",
       "830     0.000685\n",
       "Name: BsmtFinSF1, Length: 637, dtype: float64"
      ]
     },
     "execution_count": 35,
     "metadata": {},
     "output_type": "execute_result"
    },
    {
     "name": "stdout",
     "output_type": "stream",
     "text": [
      "BsmtFinSF2: Type 2 finished square feet\n"
     ]
    },
    {
     "data": {
      "text/plain": [
       "0       0.885616\n",
       "180     0.003425\n",
       "374     0.002055\n",
       "551     0.001370\n",
       "147     0.001370\n",
       "          ...   \n",
       "532     0.000685\n",
       "165     0.000685\n",
       "1120    0.000685\n",
       "311     0.000685\n",
       "1029    0.000685\n",
       "Name: BsmtFinSF2, Length: 144, dtype: float64"
      ]
     },
     "execution_count": 35,
     "metadata": {},
     "output_type": "execute_result"
    },
    {
     "name": "stdout",
     "output_type": "stream",
     "text": [
      "BsmtUnfSF: Unfinished square feet of basement area\n"
     ]
    },
    {
     "data": {
      "text/plain": [
       "0       0.080822\n",
       "728     0.006164\n",
       "384     0.005479\n",
       "600     0.004795\n",
       "300     0.004795\n",
       "          ...   \n",
       "551     0.000685\n",
       "1257    0.000685\n",
       "605     0.000685\n",
       "467     0.000685\n",
       "136     0.000685\n",
       "Name: BsmtUnfSF, Length: 780, dtype: float64"
      ]
     },
     "execution_count": 35,
     "metadata": {},
     "output_type": "execute_result"
    },
    {
     "name": "stdout",
     "output_type": "stream",
     "text": [
      "TotalBsmtSF: Total square feet of basement area\n"
     ]
    },
    {
     "data": {
      "text/plain": [
       "0       0.025342\n",
       "864     0.023973\n",
       "672     0.011644\n",
       "912     0.010274\n",
       "1040    0.009589\n",
       "          ...   \n",
       "1838    0.000685\n",
       "1581    0.000685\n",
       "707     0.000685\n",
       "611     0.000685\n",
       "1542    0.000685\n",
       "Name: TotalBsmtSF, Length: 721, dtype: float64"
      ]
     },
     "execution_count": 35,
     "metadata": {},
     "output_type": "execute_result"
    },
    {
     "name": "stdout",
     "output_type": "stream",
     "text": [
      "1stFlrSF: First Floor square feet\n"
     ]
    },
    {
     "data": {
      "text/plain": [
       "864     0.017123\n",
       "1040    0.010959\n",
       "912     0.009589\n",
       "894     0.008219\n",
       "848     0.008219\n",
       "          ...   \n",
       "1509    0.000685\n",
       "2515    0.000685\n",
       "605     0.000685\n",
       "3138    0.000685\n",
       "1256    0.000685\n",
       "Name: 1stFlrSF, Length: 753, dtype: float64"
      ]
     },
     "execution_count": 35,
     "metadata": {},
     "output_type": "execute_result"
    },
    {
     "name": "stdout",
     "output_type": "stream",
     "text": [
      "2ndFlrSF: Second floor square feet\n"
     ]
    },
    {
     "data": {
      "text/plain": [
       "0       0.567808\n",
       "728     0.006849\n",
       "504     0.006164\n",
       "546     0.005479\n",
       "672     0.005479\n",
       "          ...   \n",
       "1538    0.000685\n",
       "914     0.000685\n",
       "1067    0.000685\n",
       "1000    0.000685\n",
       "1152    0.000685\n",
       "Name: 2ndFlrSF, Length: 417, dtype: float64"
      ]
     },
     "execution_count": 35,
     "metadata": {},
     "output_type": "execute_result"
    },
    {
     "name": "stdout",
     "output_type": "stream",
     "text": [
      "LowQualFinSF: Low quality finished square feet (all floors)\n"
     ]
    },
    {
     "data": {
      "text/plain": [
       "0      0.982192\n",
       "80     0.002055\n",
       "360    0.001370\n",
       "205    0.000685\n",
       "479    0.000685\n",
       "397    0.000685\n",
       "514    0.000685\n",
       "120    0.000685\n",
       "481    0.000685\n",
       "232    0.000685\n",
       "53     0.000685\n",
       "515    0.000685\n",
       "156    0.000685\n",
       "473    0.000685\n",
       "420    0.000685\n",
       "390    0.000685\n",
       "371    0.000685\n",
       "392    0.000685\n",
       "144    0.000685\n",
       "572    0.000685\n",
       "528    0.000685\n",
       "234    0.000685\n",
       "513    0.000685\n",
       "384    0.000685\n",
       "Name: LowQualFinSF, dtype: float64"
      ]
     },
     "execution_count": 35,
     "metadata": {},
     "output_type": "execute_result"
    },
    {
     "name": "stdout",
     "output_type": "stream",
     "text": [
      "GrLivArea: Above grade (ground) living area square feet\n"
     ]
    },
    {
     "data": {
      "text/plain": [
       "864     0.015068\n",
       "1040    0.009589\n",
       "894     0.007534\n",
       "1456    0.006849\n",
       "848     0.006849\n",
       "          ...   \n",
       "2296    0.000685\n",
       "1123    0.000685\n",
       "1199    0.000685\n",
       "1473    0.000685\n",
       "1256    0.000685\n",
       "Name: GrLivArea, Length: 861, dtype: float64"
      ]
     },
     "execution_count": 35,
     "metadata": {},
     "output_type": "execute_result"
    },
    {
     "name": "stdout",
     "output_type": "stream",
     "text": [
      "BsmtFullBath: Basement full bathrooms\n"
     ]
    },
    {
     "data": {
      "text/plain": [
       "0    0.586301\n",
       "1    0.402740\n",
       "2    0.010274\n",
       "3    0.000685\n",
       "Name: BsmtFullBath, dtype: float64"
      ]
     },
     "execution_count": 35,
     "metadata": {},
     "output_type": "execute_result"
    },
    {
     "name": "stdout",
     "output_type": "stream",
     "text": [
      "BsmtHalfBath: Basement half bathrooms\n"
     ]
    },
    {
     "data": {
      "text/plain": [
       "0    0.943836\n",
       "1    0.054795\n",
       "2    0.001370\n",
       "Name: BsmtHalfBath, dtype: float64"
      ]
     },
     "execution_count": 35,
     "metadata": {},
     "output_type": "execute_result"
    },
    {
     "name": "stdout",
     "output_type": "stream",
     "text": [
      "FullBath: Full bathrooms above grade\n"
     ]
    },
    {
     "data": {
      "text/plain": [
       "2    0.526027\n",
       "1    0.445205\n",
       "3    0.022603\n",
       "0    0.006164\n",
       "Name: FullBath, dtype: float64"
      ]
     },
     "execution_count": 35,
     "metadata": {},
     "output_type": "execute_result"
    },
    {
     "name": "stdout",
     "output_type": "stream",
     "text": [
      "HalfBath: Half baths above grade\n"
     ]
    },
    {
     "data": {
      "text/plain": [
       "0    0.625342\n",
       "1    0.366438\n",
       "2    0.008219\n",
       "Name: HalfBath, dtype: float64"
      ]
     },
     "execution_count": 35,
     "metadata": {},
     "output_type": "execute_result"
    },
    {
     "name": "stdout",
     "output_type": "stream",
     "text": [
      "BedroomAbvGr: Bedrooms above grade (does NOT include basement bedrooms)\n"
     ]
    },
    {
     "data": {
      "text/plain": [
       "3    0.550685\n",
       "2    0.245205\n",
       "4    0.145890\n",
       "1    0.034247\n",
       "5    0.014384\n",
       "6    0.004795\n",
       "0    0.004110\n",
       "8    0.000685\n",
       "Name: BedroomAbvGr, dtype: float64"
      ]
     },
     "execution_count": 35,
     "metadata": {},
     "output_type": "execute_result"
    },
    {
     "name": "stdout",
     "output_type": "stream",
     "text": [
      "KitchenAbvGr: Kitchens above grade\n"
     ]
    },
    {
     "data": {
      "text/plain": [
       "1    0.953425\n",
       "2    0.044521\n",
       "3    0.001370\n",
       "0    0.000685\n",
       "Name: KitchenAbvGr, dtype: float64"
      ]
     },
     "execution_count": 35,
     "metadata": {},
     "output_type": "execute_result"
    },
    {
     "name": "stdout",
     "output_type": "stream",
     "text": [
      "TotRmsAbvGrd: Total rooms above grade (does not include bathrooms)\n"
     ]
    },
    {
     "data": {
      "text/plain": [
       "6     0.275342\n",
       "7     0.225342\n",
       "5     0.188356\n",
       "8     0.128082\n",
       "4     0.066438\n",
       "9     0.051370\n",
       "10    0.032192\n",
       "11    0.012329\n",
       "3     0.011644\n",
       "12    0.007534\n",
       "2     0.000685\n",
       "14    0.000685\n",
       "Name: TotRmsAbvGrd, dtype: float64"
      ]
     },
     "execution_count": 35,
     "metadata": {},
     "output_type": "execute_result"
    },
    {
     "name": "stdout",
     "output_type": "stream",
     "text": [
      "Fireplaces: Number of fireplaces\n"
     ]
    },
    {
     "data": {
      "text/plain": [
       "0    0.472603\n",
       "1    0.445205\n",
       "2    0.078767\n",
       "3    0.003425\n",
       "Name: Fireplaces, dtype: float64"
      ]
     },
     "execution_count": 35,
     "metadata": {},
     "output_type": "execute_result"
    },
    {
     "name": "stdout",
     "output_type": "stream",
     "text": [
      "GarageYrBlt: Year garage was built\n"
     ]
    },
    {
     "data": {
      "text/plain": [
       "2005.0    0.047136\n",
       "2006.0    0.042785\n",
       "2004.0    0.038434\n",
       "2003.0    0.036258\n",
       "2007.0    0.035533\n",
       "            ...   \n",
       "1927.0    0.000725\n",
       "1900.0    0.000725\n",
       "1906.0    0.000725\n",
       "1908.0    0.000725\n",
       "1933.0    0.000725\n",
       "Name: GarageYrBlt, Length: 97, dtype: float64"
      ]
     },
     "execution_count": 35,
     "metadata": {},
     "output_type": "execute_result"
    },
    {
     "name": "stdout",
     "output_type": "stream",
     "text": [
      "GarageCars: Size of garage in car capacity\n"
     ]
    },
    {
     "data": {
      "text/plain": [
       "2    0.564384\n",
       "1    0.252740\n",
       "3    0.123973\n",
       "0    0.055479\n",
       "4    0.003425\n",
       "Name: GarageCars, dtype: float64"
      ]
     },
     "execution_count": 35,
     "metadata": {},
     "output_type": "execute_result"
    },
    {
     "name": "stdout",
     "output_type": "stream",
     "text": [
      "GarageArea: Size of garage in square feet\n"
     ]
    },
    {
     "data": {
      "text/plain": [
       "0      0.055479\n",
       "440    0.033562\n",
       "576    0.032192\n",
       "240    0.026027\n",
       "484    0.023288\n",
       "         ...   \n",
       "320    0.000685\n",
       "594    0.000685\n",
       "831    0.000685\n",
       "878    0.000685\n",
       "192    0.000685\n",
       "Name: GarageArea, Length: 441, dtype: float64"
      ]
     },
     "execution_count": 35,
     "metadata": {},
     "output_type": "execute_result"
    },
    {
     "name": "stdout",
     "output_type": "stream",
     "text": [
      "WoodDeckSF: Wood deck area in square feet\n"
     ]
    },
    {
     "data": {
      "text/plain": [
       "0      0.521233\n",
       "192    0.026027\n",
       "100    0.024658\n",
       "144    0.022603\n",
       "120    0.021233\n",
       "         ...   \n",
       "326    0.000685\n",
       "179    0.000685\n",
       "103    0.000685\n",
       "176    0.000685\n",
       "736    0.000685\n",
       "Name: WoodDeckSF, Length: 274, dtype: float64"
      ]
     },
     "execution_count": 35,
     "metadata": {},
     "output_type": "execute_result"
    },
    {
     "name": "stdout",
     "output_type": "stream",
     "text": [
      "OpenPorchSF: Open porch area in square feet\n"
     ]
    },
    {
     "data": {
      "text/plain": [
       "0      0.449315\n",
       "36     0.019863\n",
       "48     0.015068\n",
       "20     0.014384\n",
       "40     0.013014\n",
       "         ...   \n",
       "11     0.000685\n",
       "523    0.000685\n",
       "125    0.000685\n",
       "137    0.000685\n",
       "236    0.000685\n",
       "Name: OpenPorchSF, Length: 202, dtype: float64"
      ]
     },
     "execution_count": 35,
     "metadata": {},
     "output_type": "execute_result"
    },
    {
     "name": "stdout",
     "output_type": "stream",
     "text": [
      "EnclosedPorch: Enclosed porch area in square feet\n"
     ]
    },
    {
     "data": {
      "text/plain": [
       "0      0.857534\n",
       "112    0.010274\n",
       "96     0.004110\n",
       "192    0.003425\n",
       "144    0.003425\n",
       "         ...   \n",
       "54     0.000685\n",
       "136    0.000685\n",
       "148    0.000685\n",
       "140    0.000685\n",
       "99     0.000685\n",
       "Name: EnclosedPorch, Length: 120, dtype: float64"
      ]
     },
     "execution_count": 35,
     "metadata": {},
     "output_type": "execute_result"
    },
    {
     "name": "stdout",
     "output_type": "stream",
     "text": [
      "3SsnPorch: Three season porch area in square feet\n"
     ]
    },
    {
     "data": {
      "text/plain": [
       "0      0.983562\n",
       "168    0.002055\n",
       "144    0.001370\n",
       "180    0.001370\n",
       "216    0.001370\n",
       "290    0.000685\n",
       "153    0.000685\n",
       "96     0.000685\n",
       "23     0.000685\n",
       "162    0.000685\n",
       "182    0.000685\n",
       "196    0.000685\n",
       "320    0.000685\n",
       "245    0.000685\n",
       "238    0.000685\n",
       "508    0.000685\n",
       "140    0.000685\n",
       "130    0.000685\n",
       "407    0.000685\n",
       "304    0.000685\n",
       "Name: 3SsnPorch, dtype: float64"
      ]
     },
     "execution_count": 35,
     "metadata": {},
     "output_type": "execute_result"
    },
    {
     "name": "stdout",
     "output_type": "stream",
     "text": [
      "ScreenPorch: Screen porch area in square feet\n"
     ]
    },
    {
     "data": {
      "text/plain": [
       "0      0.920548\n",
       "192    0.004110\n",
       "120    0.003425\n",
       "224    0.003425\n",
       "189    0.002740\n",
       "         ...   \n",
       "291    0.000685\n",
       "260    0.000685\n",
       "385    0.000685\n",
       "156    0.000685\n",
       "40     0.000685\n",
       "Name: ScreenPorch, Length: 76, dtype: float64"
      ]
     },
     "execution_count": 35,
     "metadata": {},
     "output_type": "execute_result"
    },
    {
     "name": "stdout",
     "output_type": "stream",
     "text": [
      "PoolArea: Pool area in square feet\n"
     ]
    },
    {
     "data": {
      "text/plain": [
       "0      0.995205\n",
       "512    0.000685\n",
       "648    0.000685\n",
       "576    0.000685\n",
       "555    0.000685\n",
       "480    0.000685\n",
       "519    0.000685\n",
       "738    0.000685\n",
       "Name: PoolArea, dtype: float64"
      ]
     },
     "execution_count": 35,
     "metadata": {},
     "output_type": "execute_result"
    },
    {
     "name": "stdout",
     "output_type": "stream",
     "text": [
      "MiscVal: $Value of miscellaneous feature\n"
     ]
    },
    {
     "data": {
      "text/plain": [
       "0        0.964384\n",
       "400      0.007534\n",
       "500      0.005479\n",
       "700      0.003425\n",
       "450      0.002740\n",
       "600      0.002740\n",
       "2000     0.002740\n",
       "1200     0.001370\n",
       "480      0.001370\n",
       "15500    0.000685\n",
       "800      0.000685\n",
       "350      0.000685\n",
       "3500     0.000685\n",
       "1300     0.000685\n",
       "54       0.000685\n",
       "620      0.000685\n",
       "560      0.000685\n",
       "1400     0.000685\n",
       "8300     0.000685\n",
       "1150     0.000685\n",
       "2500     0.000685\n",
       "Name: MiscVal, dtype: float64"
      ]
     },
     "execution_count": 35,
     "metadata": {},
     "output_type": "execute_result"
    },
    {
     "name": "stdout",
     "output_type": "stream",
     "text": [
      "MoSold: Month Sold (MM)\n"
     ]
    },
    {
     "data": {
      "text/plain": [
       "6     0.173288\n",
       "7     0.160274\n",
       "5     0.139726\n",
       "4     0.096575\n",
       "8     0.083562\n",
       "3     0.072603\n",
       "10    0.060959\n",
       "11    0.054110\n",
       "9     0.043151\n",
       "12    0.040411\n",
       "1     0.039726\n",
       "2     0.035616\n",
       "Name: MoSold, dtype: float64"
      ]
     },
     "execution_count": 35,
     "metadata": {},
     "output_type": "execute_result"
    },
    {
     "name": "stdout",
     "output_type": "stream",
     "text": [
      "YrSold: Year Sold (YYYY)\n"
     ]
    },
    {
     "data": {
      "text/plain": [
       "2009    0.231507\n",
       "2007    0.225342\n",
       "2006    0.215068\n",
       "2008    0.208219\n",
       "2010    0.119863\n",
       "Name: YrSold, dtype: float64"
      ]
     },
     "execution_count": 35,
     "metadata": {},
     "output_type": "execute_result"
    }
   ],
   "source": [
    "for c in numeric:\n",
    "    print(f\"{c}: {desc_dict[c]}\")\n",
    "    df[c].value_counts(normalize=True)"
   ]
  },
  {
   "cell_type": "code",
   "execution_count": 36,
   "metadata": {},
   "outputs": [],
   "source": [
    "# If time permitted I would do something similar for each of the short descriptors in the columns themselves"
   ]
  },
  {
   "cell_type": "markdown",
   "metadata": {},
   "source": [
    "It's clear that some numeric fields should be re-classed as categorical, and some dropped as they provide no insight (almost uniform)."
   ]
  },
  {
   "cell_type": "code",
   "execution_count": 37,
   "metadata": {},
   "outputs": [],
   "source": [
    "# Make string, switch to categorical:\n",
    "\n",
    "for c in ['MSSubClass','YrSold']:\n",
    "    df[c] = df[c].astype(str)\n",
    "    numeric.remove(c)\n",
    "    categorical.append(c)\n"
   ]
  },
  {
   "cell_type": "code",
   "execution_count": 75,
   "metadata": {},
   "outputs": [
    {
     "data": {
      "text/plain": [
       "<AxesSubplot:title={'center':'Avg Sale Price per Calendar Month'}, xlabel='MoSold'>"
      ]
     },
     "execution_count": 75,
     "metadata": {},
     "output_type": "execute_result"
    },
    {
     "data": {
      "text/plain": [
       "<AxesSubplot:title={'center':'Avg Sale Price per Calendar Year'}, xlabel='YrSold'>"
      ]
     },
     "execution_count": 75,
     "metadata": {},
     "output_type": "execute_result"
    },
    {
     "data": {
      "image/svg+xml": "<?xml version=\"1.0\" encoding=\"utf-8\" standalone=\"no\"?>\n<!DOCTYPE svg PUBLIC \"-//W3C//DTD SVG 1.1//EN\"\n  \"http://www.w3.org/Graphics/SVG/1.1/DTD/svg11.dtd\">\n<svg height=\"277.842813pt\" version=\"1.1\" viewBox=\"0 0 367.321875 277.842813\" width=\"367.321875pt\" xmlns=\"http://www.w3.org/2000/svg\" xmlns:xlink=\"http://www.w3.org/1999/xlink\">\n <metadata>\n  <rdf:RDF xmlns:cc=\"http://creativecommons.org/ns#\" xmlns:dc=\"http://purl.org/dc/elements/1.1/\" xmlns:rdf=\"http://www.w3.org/1999/02/22-rdf-syntax-ns#\">\n   <cc:Work>\n    <dc:type rdf:resource=\"http://purl.org/dc/dcmitype/StillImage\"/>\n    <dc:date>2022-01-23T15:03:13.670908</dc:date>\n    <dc:format>image/svg+xml</dc:format>\n    <dc:creator>\n     <cc:Agent>\n      <dc:title>Matplotlib v3.4.2, https://matplotlib.org/</dc:title>\n     </cc:Agent>\n    </dc:creator>\n   </cc:Work>\n  </rdf:RDF>\n </metadata>\n <defs>\n  <style type=\"text/css\">*{stroke-linecap:butt;stroke-linejoin:round;}</style>\n </defs>\n <g id=\"figure_1\">\n  <g id=\"patch_1\">\n   <path d=\"M 0 277.842813 \nL 367.321875 277.842813 \nL 367.321875 0 \nL 0 0 \nz\n\" style=\"fill:none;\"/>\n  </g>\n  <g id=\"axes_1\">\n   <g id=\"patch_2\">\n    <path d=\"M 25.321875 239.375625 \nL 360.121875 239.375625 \nL 360.121875 21.935625 \nL 25.321875 21.935625 \nz\n\" style=\"fill:#ffffff;\"/>\n   </g>\n   <g id=\"patch_3\">\n    <path clip-path=\"url(#p14cd53caf3)\" d=\"M 32.296875 239.375625 \nL 46.246875 239.375625 \nL 46.246875 34.605092 \nL 32.296875 34.605092 \nz\n\" style=\"fill:#1f77b4;\"/>\n   </g>\n   <g id=\"patch_4\">\n    <path clip-path=\"url(#p14cd53caf3)\" d=\"M 60.196875 239.375625 \nL 74.146875 239.375625 \nL 74.146875 33.17157 \nL 60.196875 33.17157 \nz\n\" style=\"fill:#1f77b4;\"/>\n   </g>\n   <g id=\"patch_5\">\n    <path clip-path=\"url(#p14cd53caf3)\" d=\"M 88.096875 239.375625 \nL 102.046875 239.375625 \nL 102.046875 33.46114 \nL 88.096875 33.46114 \nz\n\" style=\"fill:#1f77b4;\"/>\n   </g>\n   <g id=\"patch_6\">\n    <path clip-path=\"url(#p14cd53caf3)\" d=\"M 115.996875 239.375625 \nL 129.946875 239.375625 \nL 129.946875 34.455228 \nL 115.996875 34.455228 \nz\n\" style=\"fill:#1f77b4;\"/>\n   </g>\n   <g id=\"patch_7\">\n    <path clip-path=\"url(#p14cd53caf3)\" d=\"M 143.896875 239.375625 \nL 157.846875 239.375625 \nL 157.846875 34.236314 \nL 143.896875 34.236314 \nz\n\" style=\"fill:#1f77b4;\"/>\n   </g>\n   <g id=\"patch_8\">\n    <path clip-path=\"url(#p14cd53caf3)\" d=\"M 171.796875 239.375625 \nL 185.746875 239.375625 \nL 185.746875 33.635663 \nL 171.796875 33.635663 \nz\n\" style=\"fill:#1f77b4;\"/>\n   </g>\n   <g id=\"patch_9\">\n    <path clip-path=\"url(#p14cd53caf3)\" d=\"M 199.696875 239.375625 \nL 213.646875 239.375625 \nL 213.646875 33.244493 \nL 199.696875 33.244493 \nz\n\" style=\"fill:#1f77b4;\"/>\n   </g>\n   <g id=\"patch_10\">\n    <path clip-path=\"url(#p14cd53caf3)\" d=\"M 227.596875 239.375625 \nL 241.546875 239.375625 \nL 241.546875 33.136707 \nL 227.596875 33.136707 \nz\n\" style=\"fill:#1f77b4;\"/>\n   </g>\n   <g id=\"patch_11\">\n    <path clip-path=\"url(#p14cd53caf3)\" d=\"M 255.496875 239.375625 \nL 269.446875 239.375625 \nL 269.446875 32.289911 \nL 255.496875 32.289911 \nz\n\" style=\"fill:#1f77b4;\"/>\n   </g>\n   <g id=\"patch_12\">\n    <path clip-path=\"url(#p14cd53caf3)\" d=\"M 283.396875 239.375625 \nL 297.346875 239.375625 \nL 297.346875 33.632288 \nL 283.396875 33.632288 \nz\n\" style=\"fill:#1f77b4;\"/>\n   </g>\n   <g id=\"patch_13\">\n    <path clip-path=\"url(#p14cd53caf3)\" d=\"M 311.296875 239.375625 \nL 325.246875 239.375625 \nL 325.246875 32.695817 \nL 311.296875 32.695817 \nz\n\" style=\"fill:#1f77b4;\"/>\n   </g>\n   <g id=\"patch_14\">\n    <path clip-path=\"url(#p14cd53caf3)\" d=\"M 339.196875 239.375625 \nL 353.146875 239.375625 \nL 353.146875 32.911253 \nL 339.196875 32.911253 \nz\n\" style=\"fill:#1f77b4;\"/>\n   </g>\n   <g id=\"matplotlib.axis_1\">\n    <g id=\"xtick_1\">\n     <g id=\"line2d_1\">\n      <defs>\n       <path d=\"M 0 0 \nL 0 3.5 \n\" id=\"m8fb20183b6\" style=\"stroke:#808080;stroke-width:0.8;\"/>\n      </defs>\n      <g>\n       <use style=\"fill:#808080;stroke:#808080;stroke-width:0.8;\" x=\"39.271875\" xlink:href=\"#m8fb20183b6\" y=\"239.375625\"/>\n      </g>\n     </g>\n     <g id=\"text_1\">\n      <!-- 1 -->\n      <g style=\"fill:#808080;\" transform=\"translate(41.857031 251.936563)rotate(-90)scale(0.1 -0.1)\">\n       <defs>\n        <path d=\"M 2384 0 \nL 1822 0 \nL 1822 3584 \nQ 1619 3391 1289 3197 \nQ 959 3003 697 2906 \nL 697 3450 \nQ 1169 3672 1522 3987 \nQ 1875 4303 2022 4600 \nL 2384 4600 \nL 2384 0 \nz\n\" id=\"ArialMT-31\" transform=\"scale(0.015625)\"/>\n       </defs>\n       <use xlink:href=\"#ArialMT-31\"/>\n      </g>\n     </g>\n    </g>\n    <g id=\"xtick_2\">\n     <g id=\"line2d_2\">\n      <g>\n       <use style=\"fill:#808080;stroke:#808080;stroke-width:0.8;\" x=\"67.171875\" xlink:href=\"#m8fb20183b6\" y=\"239.375625\"/>\n      </g>\n     </g>\n     <g id=\"text_2\">\n      <!-- 2 -->\n      <g style=\"fill:#808080;\" transform=\"translate(69.757031 251.936563)rotate(-90)scale(0.1 -0.1)\">\n       <defs>\n        <path d=\"M 3222 541 \nL 3222 0 \nL 194 0 \nQ 188 203 259 391 \nQ 375 700 629 1000 \nQ 884 1300 1366 1694 \nQ 2113 2306 2375 2664 \nQ 2638 3022 2638 3341 \nQ 2638 3675 2398 3904 \nQ 2159 4134 1775 4134 \nQ 1369 4134 1125 3890 \nQ 881 3647 878 3216 \nL 300 3275 \nQ 359 3922 746 4261 \nQ 1134 4600 1788 4600 \nQ 2447 4600 2831 4234 \nQ 3216 3869 3216 3328 \nQ 3216 3053 3103 2787 \nQ 2991 2522 2730 2228 \nQ 2469 1934 1863 1422 \nQ 1356 997 1212 845 \nQ 1069 694 975 541 \nL 3222 541 \nz\n\" id=\"ArialMT-32\" transform=\"scale(0.015625)\"/>\n       </defs>\n       <use xlink:href=\"#ArialMT-32\"/>\n      </g>\n     </g>\n    </g>\n    <g id=\"xtick_3\">\n     <g id=\"line2d_3\">\n      <g>\n       <use style=\"fill:#808080;stroke:#808080;stroke-width:0.8;\" x=\"95.071875\" xlink:href=\"#m8fb20183b6\" y=\"239.375625\"/>\n      </g>\n     </g>\n     <g id=\"text_3\">\n      <!-- 3 -->\n      <g style=\"fill:#808080;\" transform=\"translate(97.657031 251.936563)rotate(-90)scale(0.1 -0.1)\">\n       <defs>\n        <path d=\"M 269 1209 \nL 831 1284 \nQ 928 806 1161 595 \nQ 1394 384 1728 384 \nQ 2125 384 2398 659 \nQ 2672 934 2672 1341 \nQ 2672 1728 2419 1979 \nQ 2166 2231 1775 2231 \nQ 1616 2231 1378 2169 \nL 1441 2663 \nQ 1497 2656 1531 2656 \nQ 1891 2656 2178 2843 \nQ 2466 3031 2466 3422 \nQ 2466 3731 2256 3934 \nQ 2047 4138 1716 4138 \nQ 1388 4138 1169 3931 \nQ 950 3725 888 3313 \nL 325 3413 \nQ 428 3978 793 4289 \nQ 1159 4600 1703 4600 \nQ 2078 4600 2393 4439 \nQ 2709 4278 2876 4000 \nQ 3044 3722 3044 3409 \nQ 3044 3113 2884 2869 \nQ 2725 2625 2413 2481 \nQ 2819 2388 3044 2092 \nQ 3269 1797 3269 1353 \nQ 3269 753 2831 336 \nQ 2394 -81 1725 -81 \nQ 1122 -81 723 278 \nQ 325 638 269 1209 \nz\n\" id=\"ArialMT-33\" transform=\"scale(0.015625)\"/>\n       </defs>\n       <use xlink:href=\"#ArialMT-33\"/>\n      </g>\n     </g>\n    </g>\n    <g id=\"xtick_4\">\n     <g id=\"line2d_4\">\n      <g>\n       <use style=\"fill:#808080;stroke:#808080;stroke-width:0.8;\" x=\"122.971875\" xlink:href=\"#m8fb20183b6\" y=\"239.375625\"/>\n      </g>\n     </g>\n     <g id=\"text_4\">\n      <!-- 4 -->\n      <g style=\"fill:#808080;\" transform=\"translate(125.557031 251.936563)rotate(-90)scale(0.1 -0.1)\">\n       <defs>\n        <path d=\"M 2069 0 \nL 2069 1097 \nL 81 1097 \nL 81 1613 \nL 2172 4581 \nL 2631 4581 \nL 2631 1613 \nL 3250 1613 \nL 3250 1097 \nL 2631 1097 \nL 2631 0 \nL 2069 0 \nz\nM 2069 1613 \nL 2069 3678 \nL 634 1613 \nL 2069 1613 \nz\n\" id=\"ArialMT-34\" transform=\"scale(0.015625)\"/>\n       </defs>\n       <use xlink:href=\"#ArialMT-34\"/>\n      </g>\n     </g>\n    </g>\n    <g id=\"xtick_5\">\n     <g id=\"line2d_5\">\n      <g>\n       <use style=\"fill:#808080;stroke:#808080;stroke-width:0.8;\" x=\"150.871875\" xlink:href=\"#m8fb20183b6\" y=\"239.375625\"/>\n      </g>\n     </g>\n     <g id=\"text_5\">\n      <!-- 5 -->\n      <g style=\"fill:#808080;\" transform=\"translate(153.457031 251.936563)rotate(-90)scale(0.1 -0.1)\">\n       <defs>\n        <path d=\"M 266 1200 \nL 856 1250 \nQ 922 819 1161 601 \nQ 1400 384 1738 384 \nQ 2144 384 2425 690 \nQ 2706 997 2706 1503 \nQ 2706 1984 2436 2262 \nQ 2166 2541 1728 2541 \nQ 1456 2541 1237 2417 \nQ 1019 2294 894 2097 \nL 366 2166 \nL 809 4519 \nL 3088 4519 \nL 3088 3981 \nL 1259 3981 \nL 1013 2750 \nQ 1425 3038 1878 3038 \nQ 2478 3038 2890 2622 \nQ 3303 2206 3303 1553 \nQ 3303 931 2941 478 \nQ 2500 -78 1738 -78 \nQ 1113 -78 717 272 \nQ 322 622 266 1200 \nz\n\" id=\"ArialMT-35\" transform=\"scale(0.015625)\"/>\n       </defs>\n       <use xlink:href=\"#ArialMT-35\"/>\n      </g>\n     </g>\n    </g>\n    <g id=\"xtick_6\">\n     <g id=\"line2d_6\">\n      <g>\n       <use style=\"fill:#808080;stroke:#808080;stroke-width:0.8;\" x=\"178.771875\" xlink:href=\"#m8fb20183b6\" y=\"239.375625\"/>\n      </g>\n     </g>\n     <g id=\"text_6\">\n      <!-- 6 -->\n      <g style=\"fill:#808080;\" transform=\"translate(181.357031 251.936563)rotate(-90)scale(0.1 -0.1)\">\n       <defs>\n        <path d=\"M 3184 3459 \nL 2625 3416 \nQ 2550 3747 2413 3897 \nQ 2184 4138 1850 4138 \nQ 1581 4138 1378 3988 \nQ 1113 3794 959 3422 \nQ 806 3050 800 2363 \nQ 1003 2672 1297 2822 \nQ 1591 2972 1913 2972 \nQ 2475 2972 2870 2558 \nQ 3266 2144 3266 1488 \nQ 3266 1056 3080 686 \nQ 2894 316 2569 119 \nQ 2244 -78 1831 -78 \nQ 1128 -78 684 439 \nQ 241 956 241 2144 \nQ 241 3472 731 4075 \nQ 1159 4600 1884 4600 \nQ 2425 4600 2770 4297 \nQ 3116 3994 3184 3459 \nz\nM 888 1484 \nQ 888 1194 1011 928 \nQ 1134 663 1356 523 \nQ 1578 384 1822 384 \nQ 2178 384 2434 671 \nQ 2691 959 2691 1453 \nQ 2691 1928 2437 2201 \nQ 2184 2475 1800 2475 \nQ 1419 2475 1153 2201 \nQ 888 1928 888 1484 \nz\n\" id=\"ArialMT-36\" transform=\"scale(0.015625)\"/>\n       </defs>\n       <use xlink:href=\"#ArialMT-36\"/>\n      </g>\n     </g>\n    </g>\n    <g id=\"xtick_7\">\n     <g id=\"line2d_7\">\n      <g>\n       <use style=\"fill:#808080;stroke:#808080;stroke-width:0.8;\" x=\"206.671875\" xlink:href=\"#m8fb20183b6\" y=\"239.375625\"/>\n      </g>\n     </g>\n     <g id=\"text_7\">\n      <!-- 7 -->\n      <g style=\"fill:#808080;\" transform=\"translate(209.257031 251.936563)rotate(-90)scale(0.1 -0.1)\">\n       <defs>\n        <path d=\"M 303 3981 \nL 303 4522 \nL 3269 4522 \nL 3269 4084 \nQ 2831 3619 2401 2847 \nQ 1972 2075 1738 1259 \nQ 1569 684 1522 0 \nL 944 0 \nQ 953 541 1156 1306 \nQ 1359 2072 1739 2783 \nQ 2119 3494 2547 3981 \nL 303 3981 \nz\n\" id=\"ArialMT-37\" transform=\"scale(0.015625)\"/>\n       </defs>\n       <use xlink:href=\"#ArialMT-37\"/>\n      </g>\n     </g>\n    </g>\n    <g id=\"xtick_8\">\n     <g id=\"line2d_8\">\n      <g>\n       <use style=\"fill:#808080;stroke:#808080;stroke-width:0.8;\" x=\"234.571875\" xlink:href=\"#m8fb20183b6\" y=\"239.375625\"/>\n      </g>\n     </g>\n     <g id=\"text_8\">\n      <!-- 8 -->\n      <g style=\"fill:#808080;\" transform=\"translate(237.157031 251.936563)rotate(-90)scale(0.1 -0.1)\">\n       <defs>\n        <path d=\"M 1131 2484 \nQ 781 2613 612 2850 \nQ 444 3088 444 3419 \nQ 444 3919 803 4259 \nQ 1163 4600 1759 4600 \nQ 2359 4600 2725 4251 \nQ 3091 3903 3091 3403 \nQ 3091 3084 2923 2848 \nQ 2756 2613 2416 2484 \nQ 2838 2347 3058 2040 \nQ 3278 1734 3278 1309 \nQ 3278 722 2862 322 \nQ 2447 -78 1769 -78 \nQ 1091 -78 675 323 \nQ 259 725 259 1325 \nQ 259 1772 486 2073 \nQ 713 2375 1131 2484 \nz\nM 1019 3438 \nQ 1019 3113 1228 2906 \nQ 1438 2700 1772 2700 \nQ 2097 2700 2305 2904 \nQ 2513 3109 2513 3406 \nQ 2513 3716 2298 3927 \nQ 2084 4138 1766 4138 \nQ 1444 4138 1231 3931 \nQ 1019 3725 1019 3438 \nz\nM 838 1322 \nQ 838 1081 952 856 \nQ 1066 631 1291 507 \nQ 1516 384 1775 384 \nQ 2178 384 2440 643 \nQ 2703 903 2703 1303 \nQ 2703 1709 2433 1975 \nQ 2163 2241 1756 2241 \nQ 1359 2241 1098 1978 \nQ 838 1716 838 1322 \nz\n\" id=\"ArialMT-38\" transform=\"scale(0.015625)\"/>\n       </defs>\n       <use xlink:href=\"#ArialMT-38\"/>\n      </g>\n     </g>\n    </g>\n    <g id=\"xtick_9\">\n     <g id=\"line2d_9\">\n      <g>\n       <use style=\"fill:#808080;stroke:#808080;stroke-width:0.8;\" x=\"262.471875\" xlink:href=\"#m8fb20183b6\" y=\"239.375625\"/>\n      </g>\n     </g>\n     <g id=\"text_9\">\n      <!-- 9 -->\n      <g style=\"fill:#808080;\" transform=\"translate(265.057031 251.936563)rotate(-90)scale(0.1 -0.1)\">\n       <defs>\n        <path d=\"M 350 1059 \nL 891 1109 \nQ 959 728 1153 556 \nQ 1347 384 1650 384 \nQ 1909 384 2104 503 \nQ 2300 622 2425 820 \nQ 2550 1019 2634 1356 \nQ 2719 1694 2719 2044 \nQ 2719 2081 2716 2156 \nQ 2547 1888 2255 1720 \nQ 1963 1553 1622 1553 \nQ 1053 1553 659 1965 \nQ 266 2378 266 3053 \nQ 266 3750 677 4175 \nQ 1088 4600 1706 4600 \nQ 2153 4600 2523 4359 \nQ 2894 4119 3086 3673 \nQ 3278 3228 3278 2384 \nQ 3278 1506 3087 986 \nQ 2897 466 2520 194 \nQ 2144 -78 1638 -78 \nQ 1100 -78 759 220 \nQ 419 519 350 1059 \nz\nM 2653 3081 \nQ 2653 3566 2395 3850 \nQ 2138 4134 1775 4134 \nQ 1400 4134 1122 3828 \nQ 844 3522 844 3034 \nQ 844 2597 1108 2323 \nQ 1372 2050 1759 2050 \nQ 2150 2050 2401 2323 \nQ 2653 2597 2653 3081 \nz\n\" id=\"ArialMT-39\" transform=\"scale(0.015625)\"/>\n       </defs>\n       <use xlink:href=\"#ArialMT-39\"/>\n      </g>\n     </g>\n    </g>\n    <g id=\"xtick_10\">\n     <g id=\"line2d_10\">\n      <g>\n       <use style=\"fill:#808080;stroke:#808080;stroke-width:0.8;\" x=\"290.371875\" xlink:href=\"#m8fb20183b6\" y=\"239.375625\"/>\n      </g>\n     </g>\n     <g id=\"text_10\">\n      <!-- 10 -->\n      <g style=\"fill:#808080;\" transform=\"translate(292.957031 257.4975)rotate(-90)scale(0.1 -0.1)\">\n       <defs>\n        <path d=\"M 266 2259 \nQ 266 3072 433 3567 \nQ 600 4063 929 4331 \nQ 1259 4600 1759 4600 \nQ 2128 4600 2406 4451 \nQ 2684 4303 2865 4023 \nQ 3047 3744 3150 3342 \nQ 3253 2941 3253 2259 \nQ 3253 1453 3087 958 \nQ 2922 463 2592 192 \nQ 2263 -78 1759 -78 \nQ 1097 -78 719 397 \nQ 266 969 266 2259 \nz\nM 844 2259 \nQ 844 1131 1108 757 \nQ 1372 384 1759 384 \nQ 2147 384 2411 759 \nQ 2675 1134 2675 2259 \nQ 2675 3391 2411 3762 \nQ 2147 4134 1753 4134 \nQ 1366 4134 1134 3806 \nQ 844 3388 844 2259 \nz\n\" id=\"ArialMT-30\" transform=\"scale(0.015625)\"/>\n       </defs>\n       <use xlink:href=\"#ArialMT-31\"/>\n       <use x=\"55.615234\" xlink:href=\"#ArialMT-30\"/>\n      </g>\n     </g>\n    </g>\n    <g id=\"xtick_11\">\n     <g id=\"line2d_11\">\n      <g>\n       <use style=\"fill:#808080;stroke:#808080;stroke-width:0.8;\" x=\"318.271875\" xlink:href=\"#m8fb20183b6\" y=\"239.375625\"/>\n      </g>\n     </g>\n     <g id=\"text_11\">\n      <!-- 11 -->\n      <g style=\"fill:#808080;\" transform=\"translate(320.857031 256.76)rotate(-90)scale(0.1 -0.1)\">\n       <use xlink:href=\"#ArialMT-31\"/>\n       <use x=\"48.240234\" xlink:href=\"#ArialMT-31\"/>\n      </g>\n     </g>\n    </g>\n    <g id=\"xtick_12\">\n     <g id=\"line2d_12\">\n      <g>\n       <use style=\"fill:#808080;stroke:#808080;stroke-width:0.8;\" x=\"346.171875\" xlink:href=\"#m8fb20183b6\" y=\"239.375625\"/>\n      </g>\n     </g>\n     <g id=\"text_12\">\n      <!-- 12 -->\n      <g style=\"fill:#808080;\" transform=\"translate(348.757031 257.4975)rotate(-90)scale(0.1 -0.1)\">\n       <use xlink:href=\"#ArialMT-31\"/>\n       <use x=\"55.615234\" xlink:href=\"#ArialMT-32\"/>\n      </g>\n     </g>\n    </g>\n    <g id=\"text_13\">\n     <!-- MoSold -->\n     <g style=\"fill:#505050;\" transform=\"translate(175.769531 268.655313)scale(0.1 -0.1)\">\n      <defs>\n       <path d=\"M 475 0 \nL 475 4581 \nL 1388 4581 \nL 2472 1338 \nQ 2622 884 2691 659 \nQ 2769 909 2934 1394 \nL 4031 4581 \nL 4847 4581 \nL 4847 0 \nL 4263 0 \nL 4263 3834 \nL 2931 0 \nL 2384 0 \nL 1059 3900 \nL 1059 0 \nL 475 0 \nz\n\" id=\"ArialMT-4d\" transform=\"scale(0.015625)\"/>\n       <path d=\"M 213 1659 \nQ 213 2581 725 3025 \nQ 1153 3394 1769 3394 \nQ 2453 3394 2887 2945 \nQ 3322 2497 3322 1706 \nQ 3322 1066 3130 698 \nQ 2938 331 2570 128 \nQ 2203 -75 1769 -75 \nQ 1072 -75 642 372 \nQ 213 819 213 1659 \nz\nM 791 1659 \nQ 791 1022 1069 705 \nQ 1347 388 1769 388 \nQ 2188 388 2466 706 \nQ 2744 1025 2744 1678 \nQ 2744 2294 2464 2611 \nQ 2184 2928 1769 2928 \nQ 1347 2928 1069 2612 \nQ 791 2297 791 1659 \nz\n\" id=\"ArialMT-6f\" transform=\"scale(0.015625)\"/>\n       <path d=\"M 288 1472 \nL 859 1522 \nQ 900 1178 1048 958 \nQ 1197 738 1509 602 \nQ 1822 466 2213 466 \nQ 2559 466 2825 569 \nQ 3091 672 3220 851 \nQ 3350 1031 3350 1244 \nQ 3350 1459 3225 1620 \nQ 3100 1781 2813 1891 \nQ 2628 1963 1997 2114 \nQ 1366 2266 1113 2400 \nQ 784 2572 623 2826 \nQ 463 3081 463 3397 \nQ 463 3744 659 4045 \nQ 856 4347 1234 4503 \nQ 1613 4659 2075 4659 \nQ 2584 4659 2973 4495 \nQ 3363 4331 3572 4012 \nQ 3781 3694 3797 3291 \nL 3216 3247 \nQ 3169 3681 2898 3903 \nQ 2628 4125 2100 4125 \nQ 1550 4125 1298 3923 \nQ 1047 3722 1047 3438 \nQ 1047 3191 1225 3031 \nQ 1400 2872 2139 2705 \nQ 2878 2538 3153 2413 \nQ 3553 2228 3743 1945 \nQ 3934 1663 3934 1294 \nQ 3934 928 3725 604 \nQ 3516 281 3123 101 \nQ 2731 -78 2241 -78 \nQ 1619 -78 1198 103 \nQ 778 284 539 648 \nQ 300 1013 288 1472 \nz\n\" id=\"ArialMT-53\" transform=\"scale(0.015625)\"/>\n       <path d=\"M 409 0 \nL 409 4581 \nL 972 4581 \nL 972 0 \nL 409 0 \nz\n\" id=\"ArialMT-6c\" transform=\"scale(0.015625)\"/>\n       <path d=\"M 2575 0 \nL 2575 419 \nQ 2259 -75 1647 -75 \nQ 1250 -75 917 144 \nQ 584 363 401 755 \nQ 219 1147 219 1656 \nQ 219 2153 384 2558 \nQ 550 2963 881 3178 \nQ 1213 3394 1622 3394 \nQ 1922 3394 2156 3267 \nQ 2391 3141 2538 2938 \nL 2538 4581 \nL 3097 4581 \nL 3097 0 \nL 2575 0 \nz\nM 797 1656 \nQ 797 1019 1065 703 \nQ 1334 388 1700 388 \nQ 2069 388 2326 689 \nQ 2584 991 2584 1609 \nQ 2584 2291 2321 2609 \nQ 2059 2928 1675 2928 \nQ 1300 2928 1048 2622 \nQ 797 2316 797 1656 \nz\n\" id=\"ArialMT-64\" transform=\"scale(0.015625)\"/>\n      </defs>\n      <use xlink:href=\"#ArialMT-4d\"/>\n      <use x=\"83.300781\" xlink:href=\"#ArialMT-6f\"/>\n      <use x=\"138.916016\" xlink:href=\"#ArialMT-53\"/>\n      <use x=\"205.615234\" xlink:href=\"#ArialMT-6f\"/>\n      <use x=\"261.230469\" xlink:href=\"#ArialMT-6c\"/>\n      <use x=\"283.447266\" xlink:href=\"#ArialMT-64\"/>\n     </g>\n    </g>\n   </g>\n   <g id=\"matplotlib.axis_2\">\n    <g id=\"ytick_1\">\n     <g id=\"line2d_13\">\n      <defs>\n       <path d=\"M 0 0 \nL -3.5 0 \n\" id=\"m6b4d6aa4d3\" style=\"stroke:#808080;stroke-width:0.8;\"/>\n      </defs>\n      <g>\n       <use style=\"fill:#808080;stroke:#808080;stroke-width:0.8;\" x=\"25.321875\" xlink:href=\"#m6b4d6aa4d3\" y=\"239.375625\"/>\n      </g>\n     </g>\n     <g id=\"text_14\">\n      <!-- 0 -->\n      <g style=\"fill:#808080;\" transform=\"translate(12.760938 242.954531)scale(0.1 -0.1)\">\n       <use xlink:href=\"#ArialMT-30\"/>\n      </g>\n     </g>\n    </g>\n    <g id=\"ytick_2\">\n     <g id=\"line2d_14\">\n      <g>\n       <use style=\"fill:#808080;stroke:#808080;stroke-width:0.8;\" x=\"25.321875\" xlink:href=\"#m6b4d6aa4d3\" y=\"205.142527\"/>\n      </g>\n     </g>\n     <g id=\"text_15\">\n      <!-- 2 -->\n      <g style=\"fill:#808080;\" transform=\"translate(12.760938 208.721433)scale(0.1 -0.1)\">\n       <use xlink:href=\"#ArialMT-32\"/>\n      </g>\n     </g>\n    </g>\n    <g id=\"ytick_3\">\n     <g id=\"line2d_15\">\n      <g>\n       <use style=\"fill:#808080;stroke:#808080;stroke-width:0.8;\" x=\"25.321875\" xlink:href=\"#m6b4d6aa4d3\" y=\"170.909429\"/>\n      </g>\n     </g>\n     <g id=\"text_16\">\n      <!-- 4 -->\n      <g style=\"fill:#808080;\" transform=\"translate(12.760938 174.488335)scale(0.1 -0.1)\">\n       <use xlink:href=\"#ArialMT-34\"/>\n      </g>\n     </g>\n    </g>\n    <g id=\"ytick_4\">\n     <g id=\"line2d_16\">\n      <g>\n       <use style=\"fill:#808080;stroke:#808080;stroke-width:0.8;\" x=\"25.321875\" xlink:href=\"#m6b4d6aa4d3\" y=\"136.676331\"/>\n      </g>\n     </g>\n     <g id=\"text_17\">\n      <!-- 6 -->\n      <g style=\"fill:#808080;\" transform=\"translate(12.760938 140.255238)scale(0.1 -0.1)\">\n       <use xlink:href=\"#ArialMT-36\"/>\n      </g>\n     </g>\n    </g>\n    <g id=\"ytick_5\">\n     <g id=\"line2d_17\">\n      <g>\n       <use style=\"fill:#808080;stroke:#808080;stroke-width:0.8;\" x=\"25.321875\" xlink:href=\"#m6b4d6aa4d3\" y=\"102.443233\"/>\n      </g>\n     </g>\n     <g id=\"text_18\">\n      <!-- 8 -->\n      <g style=\"fill:#808080;\" transform=\"translate(12.760938 106.02214)scale(0.1 -0.1)\">\n       <use xlink:href=\"#ArialMT-38\"/>\n      </g>\n     </g>\n    </g>\n    <g id=\"ytick_6\">\n     <g id=\"line2d_18\">\n      <g>\n       <use style=\"fill:#808080;stroke:#808080;stroke-width:0.8;\" x=\"25.321875\" xlink:href=\"#m6b4d6aa4d3\" y=\"68.210136\"/>\n      </g>\n     </g>\n     <g id=\"text_19\">\n      <!-- 10 -->\n      <g style=\"fill:#808080;\" transform=\"translate(7.2 71.789042)scale(0.1 -0.1)\">\n       <use xlink:href=\"#ArialMT-31\"/>\n       <use x=\"55.615234\" xlink:href=\"#ArialMT-30\"/>\n      </g>\n     </g>\n    </g>\n    <g id=\"ytick_7\">\n     <g id=\"line2d_19\">\n      <g>\n       <use style=\"fill:#808080;stroke:#808080;stroke-width:0.8;\" x=\"25.321875\" xlink:href=\"#m6b4d6aa4d3\" y=\"33.977038\"/>\n      </g>\n     </g>\n     <g id=\"text_20\">\n      <!-- 12 -->\n      <g style=\"fill:#808080;\" transform=\"translate(7.2 37.555944)scale(0.1 -0.1)\">\n       <use xlink:href=\"#ArialMT-31\"/>\n       <use x=\"55.615234\" xlink:href=\"#ArialMT-32\"/>\n      </g>\n     </g>\n    </g>\n   </g>\n   <g id=\"patch_15\">\n    <path d=\"M 25.321875 239.375625 \nL 25.321875 21.935625 \n\" style=\"fill:none;stroke:#808080;stroke-linecap:square;stroke-linejoin:miter;stroke-width:0.3;\"/>\n   </g>\n   <g id=\"patch_16\">\n    <path d=\"M 360.121875 239.375625 \nL 360.121875 21.935625 \n\" style=\"fill:none;stroke:#808080;stroke-linecap:square;stroke-linejoin:miter;stroke-width:0.3;\"/>\n   </g>\n   <g id=\"patch_17\">\n    <path d=\"M 25.321875 239.375625 \nL 360.121875 239.375625 \n\" style=\"fill:none;stroke:#808080;stroke-linecap:square;stroke-linejoin:miter;stroke-width:0.3;\"/>\n   </g>\n   <g id=\"patch_18\">\n    <path d=\"M 25.321875 21.935625 \nL 360.121875 21.935625 \n\" style=\"fill:none;stroke:#808080;stroke-linecap:square;stroke-linejoin:miter;stroke-width:0.3;\"/>\n   </g>\n   <g id=\"text_21\">\n    <!-- Avg Sale Price per Calendar Month -->\n    <g style=\"fill:#505050;\" transform=\"translate(98.783438 15.935625)scale(0.12 -0.12)\">\n     <defs>\n      <path d=\"M -9 0 \nL 1750 4581 \nL 2403 4581 \nL 4278 0 \nL 3588 0 \nL 3053 1388 \nL 1138 1388 \nL 634 0 \nL -9 0 \nz\nM 1313 1881 \nL 2866 1881 \nL 2388 3150 \nQ 2169 3728 2063 4100 \nQ 1975 3659 1816 3225 \nL 1313 1881 \nz\n\" id=\"ArialMT-41\" transform=\"scale(0.015625)\"/>\n      <path d=\"M 1344 0 \nL 81 3319 \nL 675 3319 \nL 1388 1331 \nQ 1503 1009 1600 663 \nQ 1675 925 1809 1294 \nL 2547 3319 \nL 3125 3319 \nL 1869 0 \nL 1344 0 \nz\n\" id=\"ArialMT-76\" transform=\"scale(0.015625)\"/>\n      <path d=\"M 319 -275 \nL 866 -356 \nQ 900 -609 1056 -725 \nQ 1266 -881 1628 -881 \nQ 2019 -881 2231 -725 \nQ 2444 -569 2519 -288 \nQ 2563 -116 2559 434 \nQ 2191 0 1641 0 \nQ 956 0 581 494 \nQ 206 988 206 1678 \nQ 206 2153 378 2554 \nQ 550 2956 876 3175 \nQ 1203 3394 1644 3394 \nQ 2231 3394 2613 2919 \nL 2613 3319 \nL 3131 3319 \nL 3131 450 \nQ 3131 -325 2973 -648 \nQ 2816 -972 2473 -1159 \nQ 2131 -1347 1631 -1347 \nQ 1038 -1347 672 -1080 \nQ 306 -813 319 -275 \nz\nM 784 1719 \nQ 784 1066 1043 766 \nQ 1303 466 1694 466 \nQ 2081 466 2343 764 \nQ 2606 1063 2606 1700 \nQ 2606 2309 2336 2618 \nQ 2066 2928 1684 2928 \nQ 1309 2928 1046 2623 \nQ 784 2319 784 1719 \nz\n\" id=\"ArialMT-67\" transform=\"scale(0.015625)\"/>\n      <path id=\"ArialMT-20\" transform=\"scale(0.015625)\"/>\n      <path d=\"M 2588 409 \nQ 2275 144 1986 34 \nQ 1697 -75 1366 -75 \nQ 819 -75 525 192 \nQ 231 459 231 875 \nQ 231 1119 342 1320 \nQ 453 1522 633 1644 \nQ 813 1766 1038 1828 \nQ 1203 1872 1538 1913 \nQ 2219 1994 2541 2106 \nQ 2544 2222 2544 2253 \nQ 2544 2597 2384 2738 \nQ 2169 2928 1744 2928 \nQ 1347 2928 1158 2789 \nQ 969 2650 878 2297 \nL 328 2372 \nQ 403 2725 575 2942 \nQ 747 3159 1072 3276 \nQ 1397 3394 1825 3394 \nQ 2250 3394 2515 3294 \nQ 2781 3194 2906 3042 \nQ 3031 2891 3081 2659 \nQ 3109 2516 3109 2141 \nL 3109 1391 \nQ 3109 606 3145 398 \nQ 3181 191 3288 0 \nL 2700 0 \nQ 2613 175 2588 409 \nz\nM 2541 1666 \nQ 2234 1541 1622 1453 \nQ 1275 1403 1131 1340 \nQ 988 1278 909 1158 \nQ 831 1038 831 891 \nQ 831 666 1001 516 \nQ 1172 366 1500 366 \nQ 1825 366 2078 508 \nQ 2331 650 2450 897 \nQ 2541 1088 2541 1459 \nL 2541 1666 \nz\n\" id=\"ArialMT-61\" transform=\"scale(0.015625)\"/>\n      <path d=\"M 2694 1069 \nL 3275 997 \nQ 3138 488 2766 206 \nQ 2394 -75 1816 -75 \nQ 1088 -75 661 373 \nQ 234 822 234 1631 \nQ 234 2469 665 2931 \nQ 1097 3394 1784 3394 \nQ 2450 3394 2872 2941 \nQ 3294 2488 3294 1666 \nQ 3294 1616 3291 1516 \nL 816 1516 \nQ 847 969 1125 678 \nQ 1403 388 1819 388 \nQ 2128 388 2347 550 \nQ 2566 713 2694 1069 \nz\nM 847 1978 \nL 2700 1978 \nQ 2663 2397 2488 2606 \nQ 2219 2931 1791 2931 \nQ 1403 2931 1139 2672 \nQ 875 2413 847 1978 \nz\n\" id=\"ArialMT-65\" transform=\"scale(0.015625)\"/>\n      <path d=\"M 494 0 \nL 494 4581 \nL 2222 4581 \nQ 2678 4581 2919 4538 \nQ 3256 4481 3484 4323 \nQ 3713 4166 3852 3881 \nQ 3991 3597 3991 3256 \nQ 3991 2672 3619 2267 \nQ 3247 1863 2275 1863 \nL 1100 1863 \nL 1100 0 \nL 494 0 \nz\nM 1100 2403 \nL 2284 2403 \nQ 2872 2403 3119 2622 \nQ 3366 2841 3366 3238 \nQ 3366 3525 3220 3729 \nQ 3075 3934 2838 4000 \nQ 2684 4041 2272 4041 \nL 1100 4041 \nL 1100 2403 \nz\n\" id=\"ArialMT-50\" transform=\"scale(0.015625)\"/>\n      <path d=\"M 416 0 \nL 416 3319 \nL 922 3319 \nL 922 2816 \nQ 1116 3169 1280 3281 \nQ 1444 3394 1641 3394 \nQ 1925 3394 2219 3213 \nL 2025 2691 \nQ 1819 2813 1613 2813 \nQ 1428 2813 1281 2702 \nQ 1134 2591 1072 2394 \nQ 978 2094 978 1738 \nL 978 0 \nL 416 0 \nz\n\" id=\"ArialMT-72\" transform=\"scale(0.015625)\"/>\n      <path d=\"M 425 3934 \nL 425 4581 \nL 988 4581 \nL 988 3934 \nL 425 3934 \nz\nM 425 0 \nL 425 3319 \nL 988 3319 \nL 988 0 \nL 425 0 \nz\n\" id=\"ArialMT-69\" transform=\"scale(0.015625)\"/>\n      <path d=\"M 2588 1216 \nL 3141 1144 \nQ 3050 572 2676 248 \nQ 2303 -75 1759 -75 \nQ 1078 -75 664 370 \nQ 250 816 250 1647 \nQ 250 2184 428 2587 \nQ 606 2991 970 3192 \nQ 1334 3394 1763 3394 \nQ 2303 3394 2647 3120 \nQ 2991 2847 3088 2344 \nL 2541 2259 \nQ 2463 2594 2264 2762 \nQ 2066 2931 1784 2931 \nQ 1359 2931 1093 2626 \nQ 828 2322 828 1663 \nQ 828 994 1084 691 \nQ 1341 388 1753 388 \nQ 2084 388 2306 591 \nQ 2528 794 2588 1216 \nz\n\" id=\"ArialMT-63\" transform=\"scale(0.015625)\"/>\n      <path d=\"M 422 -1272 \nL 422 3319 \nL 934 3319 \nL 934 2888 \nQ 1116 3141 1344 3267 \nQ 1572 3394 1897 3394 \nQ 2322 3394 2647 3175 \nQ 2972 2956 3137 2557 \nQ 3303 2159 3303 1684 \nQ 3303 1175 3120 767 \nQ 2938 359 2589 142 \nQ 2241 -75 1856 -75 \nQ 1575 -75 1351 44 \nQ 1128 163 984 344 \nL 984 -1272 \nL 422 -1272 \nz\nM 931 1641 \nQ 931 1000 1190 694 \nQ 1450 388 1819 388 \nQ 2194 388 2461 705 \nQ 2728 1022 2728 1688 \nQ 2728 2322 2467 2637 \nQ 2206 2953 1844 2953 \nQ 1484 2953 1207 2617 \nQ 931 2281 931 1641 \nz\n\" id=\"ArialMT-70\" transform=\"scale(0.015625)\"/>\n      <path d=\"M 3763 1606 \nL 4369 1453 \nQ 4178 706 3683 314 \nQ 3188 -78 2472 -78 \nQ 1731 -78 1267 223 \nQ 803 525 561 1097 \nQ 319 1669 319 2325 \nQ 319 3041 592 3573 \nQ 866 4106 1370 4382 \nQ 1875 4659 2481 4659 \nQ 3169 4659 3637 4309 \nQ 4106 3959 4291 3325 \nL 3694 3184 \nQ 3534 3684 3231 3912 \nQ 2928 4141 2469 4141 \nQ 1941 4141 1586 3887 \nQ 1231 3634 1087 3207 \nQ 944 2781 944 2328 \nQ 944 1744 1114 1308 \nQ 1284 872 1643 656 \nQ 2003 441 2422 441 \nQ 2931 441 3284 734 \nQ 3638 1028 3763 1606 \nz\n\" id=\"ArialMT-43\" transform=\"scale(0.015625)\"/>\n      <path d=\"M 422 0 \nL 422 3319 \nL 928 3319 \nL 928 2847 \nQ 1294 3394 1984 3394 \nQ 2284 3394 2536 3286 \nQ 2788 3178 2913 3003 \nQ 3038 2828 3088 2588 \nQ 3119 2431 3119 2041 \nL 3119 0 \nL 2556 0 \nL 2556 2019 \nQ 2556 2363 2490 2533 \nQ 2425 2703 2258 2804 \nQ 2091 2906 1866 2906 \nQ 1506 2906 1245 2678 \nQ 984 2450 984 1813 \nL 984 0 \nL 422 0 \nz\n\" id=\"ArialMT-6e\" transform=\"scale(0.015625)\"/>\n      <path d=\"M 1650 503 \nL 1731 6 \nQ 1494 -44 1306 -44 \nQ 1000 -44 831 53 \nQ 663 150 594 308 \nQ 525 466 525 972 \nL 525 2881 \nL 113 2881 \nL 113 3319 \nL 525 3319 \nL 525 4141 \nL 1084 4478 \nL 1084 3319 \nL 1650 3319 \nL 1650 2881 \nL 1084 2881 \nL 1084 941 \nQ 1084 700 1114 631 \nQ 1144 563 1211 522 \nQ 1278 481 1403 481 \nQ 1497 481 1650 503 \nz\n\" id=\"ArialMT-74\" transform=\"scale(0.015625)\"/>\n      <path d=\"M 422 0 \nL 422 4581 \nL 984 4581 \nL 984 2938 \nQ 1378 3394 1978 3394 \nQ 2347 3394 2619 3248 \nQ 2891 3103 3008 2847 \nQ 3125 2591 3125 2103 \nL 3125 0 \nL 2563 0 \nL 2563 2103 \nQ 2563 2525 2380 2717 \nQ 2197 2909 1863 2909 \nQ 1613 2909 1392 2779 \nQ 1172 2650 1078 2428 \nQ 984 2206 984 1816 \nL 984 0 \nL 422 0 \nz\n\" id=\"ArialMT-68\" transform=\"scale(0.015625)\"/>\n     </defs>\n     <use xlink:href=\"#ArialMT-41\"/>\n     <use x=\"64.949219\" xlink:href=\"#ArialMT-76\"/>\n     <use x=\"114.949219\" xlink:href=\"#ArialMT-67\"/>\n     <use x=\"170.564453\" xlink:href=\"#ArialMT-20\"/>\n     <use x=\"198.347656\" xlink:href=\"#ArialMT-53\"/>\n     <use x=\"265.046875\" xlink:href=\"#ArialMT-61\"/>\n     <use x=\"320.662109\" xlink:href=\"#ArialMT-6c\"/>\n     <use x=\"342.878906\" xlink:href=\"#ArialMT-65\"/>\n     <use x=\"398.494141\" xlink:href=\"#ArialMT-20\"/>\n     <use x=\"426.277344\" xlink:href=\"#ArialMT-50\"/>\n     <use x=\"492.976562\" xlink:href=\"#ArialMT-72\"/>\n     <use x=\"526.277344\" xlink:href=\"#ArialMT-69\"/>\n     <use x=\"548.494141\" xlink:href=\"#ArialMT-63\"/>\n     <use x=\"598.494141\" xlink:href=\"#ArialMT-65\"/>\n     <use x=\"654.109375\" xlink:href=\"#ArialMT-20\"/>\n     <use x=\"681.892578\" xlink:href=\"#ArialMT-70\"/>\n     <use x=\"737.507812\" xlink:href=\"#ArialMT-65\"/>\n     <use x=\"793.123047\" xlink:href=\"#ArialMT-72\"/>\n     <use x=\"826.423828\" xlink:href=\"#ArialMT-20\"/>\n     <use x=\"854.207031\" xlink:href=\"#ArialMT-43\"/>\n     <use x=\"926.423828\" xlink:href=\"#ArialMT-61\"/>\n     <use x=\"982.039062\" xlink:href=\"#ArialMT-6c\"/>\n     <use x=\"1004.255859\" xlink:href=\"#ArialMT-65\"/>\n     <use x=\"1059.871094\" xlink:href=\"#ArialMT-6e\"/>\n     <use x=\"1115.486328\" xlink:href=\"#ArialMT-64\"/>\n     <use x=\"1171.101562\" xlink:href=\"#ArialMT-61\"/>\n     <use x=\"1226.716797\" xlink:href=\"#ArialMT-72\"/>\n     <use x=\"1260.017578\" xlink:href=\"#ArialMT-20\"/>\n     <use x=\"1287.800781\" xlink:href=\"#ArialMT-4d\"/>\n     <use x=\"1371.101562\" xlink:href=\"#ArialMT-6f\"/>\n     <use x=\"1426.716797\" xlink:href=\"#ArialMT-6e\"/>\n     <use x=\"1482.332031\" xlink:href=\"#ArialMT-74\"/>\n     <use x=\"1510.115234\" xlink:href=\"#ArialMT-68\"/>\n    </g>\n   </g>\n   <g id=\"legend_1\">\n    <g id=\"patch_19\">\n     <path d=\"M 136.709375 234.375625 \nL 248.734375 234.375625 \nQ 250.734375 234.375625 250.734375 232.375625 \nL 250.734375 204.845938 \nQ 250.734375 202.845938 248.734375 202.845938 \nL 136.709375 202.845938 \nQ 134.709375 202.845938 134.709375 204.845938 \nL 134.709375 232.375625 \nQ 134.709375 234.375625 136.709375 234.375625 \nz\n\" style=\"fill:#ffffff;opacity:0.8;stroke:#cccccc;stroke-linejoin:miter;\"/>\n    </g>\n    <g id=\"text_22\">\n     <!-- None,None -->\n     <g style=\"fill:#505050;\" transform=\"translate(167.428125 214.00375)scale(0.1 -0.1)\">\n      <defs>\n       <path d=\"M 488 0 \nL 488 4581 \nL 1109 4581 \nL 3516 984 \nL 3516 4581 \nL 4097 4581 \nL 4097 0 \nL 3475 0 \nL 1069 3600 \nL 1069 0 \nL 488 0 \nz\n\" id=\"ArialMT-4e\" transform=\"scale(0.015625)\"/>\n       <path d=\"M 569 0 \nL 569 641 \nL 1209 641 \nL 1209 0 \nQ 1209 -353 1084 -570 \nQ 959 -788 688 -906 \nL 531 -666 \nQ 709 -588 793 -436 \nQ 878 -284 888 0 \nL 569 0 \nz\n\" id=\"ArialMT-2c\" transform=\"scale(0.015625)\"/>\n      </defs>\n      <use xlink:href=\"#ArialMT-4e\"/>\n      <use x=\"72.216797\" xlink:href=\"#ArialMT-6f\"/>\n      <use x=\"127.832031\" xlink:href=\"#ArialMT-6e\"/>\n      <use x=\"183.447266\" xlink:href=\"#ArialMT-65\"/>\n      <use x=\"239.0625\" xlink:href=\"#ArialMT-2c\"/>\n      <use x=\"266.845703\" xlink:href=\"#ArialMT-4e\"/>\n      <use x=\"339.0625\" xlink:href=\"#ArialMT-6f\"/>\n      <use x=\"394.677734\" xlink:href=\"#ArialMT-6e\"/>\n      <use x=\"450.292969\" xlink:href=\"#ArialMT-65\"/>\n     </g>\n    </g>\n    <g id=\"patch_20\">\n     <path d=\"M 138.709375 228.270938 \nL 158.709375 228.270938 \nL 158.709375 221.270938 \nL 138.709375 221.270938 \nz\n\" style=\"fill:#1f77b4;\"/>\n    </g>\n    <g id=\"text_23\">\n     <!-- (SalePrice, mean) -->\n     <g style=\"fill:#505050;\" transform=\"translate(166.709375 228.270938)scale(0.1 -0.1)\">\n      <defs>\n       <path d=\"M 1497 -1347 \nQ 1031 -759 709 28 \nQ 388 816 388 1659 \nQ 388 2403 628 3084 \nQ 909 3875 1497 4659 \nL 1900 4659 \nQ 1522 4009 1400 3731 \nQ 1209 3300 1100 2831 \nQ 966 2247 966 1656 \nQ 966 153 1900 -1347 \nL 1497 -1347 \nz\n\" id=\"ArialMT-28\" transform=\"scale(0.015625)\"/>\n       <path d=\"M 422 0 \nL 422 3319 \nL 925 3319 \nL 925 2853 \nQ 1081 3097 1340 3245 \nQ 1600 3394 1931 3394 \nQ 2300 3394 2536 3241 \nQ 2772 3088 2869 2813 \nQ 3263 3394 3894 3394 \nQ 4388 3394 4653 3120 \nQ 4919 2847 4919 2278 \nL 4919 0 \nL 4359 0 \nL 4359 2091 \nQ 4359 2428 4304 2576 \nQ 4250 2725 4106 2815 \nQ 3963 2906 3769 2906 \nQ 3419 2906 3187 2673 \nQ 2956 2441 2956 1928 \nL 2956 0 \nL 2394 0 \nL 2394 2156 \nQ 2394 2531 2256 2718 \nQ 2119 2906 1806 2906 \nQ 1569 2906 1367 2781 \nQ 1166 2656 1075 2415 \nQ 984 2175 984 1722 \nL 984 0 \nL 422 0 \nz\n\" id=\"ArialMT-6d\" transform=\"scale(0.015625)\"/>\n       <path d=\"M 791 -1347 \nL 388 -1347 \nQ 1322 153 1322 1656 \nQ 1322 2244 1188 2822 \nQ 1081 3291 891 3722 \nQ 769 4003 388 4659 \nL 791 4659 \nQ 1378 3875 1659 3084 \nQ 1900 2403 1900 1659 \nQ 1900 816 1576 28 \nQ 1253 -759 791 -1347 \nz\n\" id=\"ArialMT-29\" transform=\"scale(0.015625)\"/>\n      </defs>\n      <use xlink:href=\"#ArialMT-28\"/>\n      <use x=\"33.300781\" xlink:href=\"#ArialMT-53\"/>\n      <use x=\"100\" xlink:href=\"#ArialMT-61\"/>\n      <use x=\"155.615234\" xlink:href=\"#ArialMT-6c\"/>\n      <use x=\"177.832031\" xlink:href=\"#ArialMT-65\"/>\n      <use x=\"233.447266\" xlink:href=\"#ArialMT-50\"/>\n      <use x=\"300.146484\" xlink:href=\"#ArialMT-72\"/>\n      <use x=\"333.447266\" xlink:href=\"#ArialMT-69\"/>\n      <use x=\"355.664062\" xlink:href=\"#ArialMT-63\"/>\n      <use x=\"405.664062\" xlink:href=\"#ArialMT-65\"/>\n      <use x=\"461.279297\" xlink:href=\"#ArialMT-2c\"/>\n      <use x=\"489.0625\" xlink:href=\"#ArialMT-20\"/>\n      <use x=\"516.845703\" xlink:href=\"#ArialMT-6d\"/>\n      <use x=\"600.146484\" xlink:href=\"#ArialMT-65\"/>\n      <use x=\"655.761719\" xlink:href=\"#ArialMT-61\"/>\n      <use x=\"711.376953\" xlink:href=\"#ArialMT-6e\"/>\n      <use x=\"766.992188\" xlink:href=\"#ArialMT-29\"/>\n     </g>\n    </g>\n   </g>\n  </g>\n </g>\n <defs>\n  <clipPath id=\"p14cd53caf3\">\n   <rect height=\"217.44\" width=\"334.8\" x=\"25.321875\" y=\"21.935625\"/>\n  </clipPath>\n </defs>\n</svg>\n",
      "text/plain": [
       "<Figure size 432x288 with 1 Axes>"
      ]
     },
     "metadata": {
      "needs_background": "dark"
     },
     "output_type": "display_data"
    },
    {
     "data": {
      "image/svg+xml": "<?xml version=\"1.0\" encoding=\"utf-8\" standalone=\"no\"?>\n<!DOCTYPE svg PUBLIC \"-//W3C//DTD SVG 1.1//EN\"\n  \"http://www.w3.org/Graphics/SVG/1.1/DTD/svg11.dtd\">\n<svg height=\"288.964688pt\" version=\"1.1\" viewBox=\"0 0 367.321875 288.964688\" width=\"367.321875pt\" xmlns=\"http://www.w3.org/2000/svg\" xmlns:xlink=\"http://www.w3.org/1999/xlink\">\n <metadata>\n  <rdf:RDF xmlns:cc=\"http://creativecommons.org/ns#\" xmlns:dc=\"http://purl.org/dc/elements/1.1/\" xmlns:rdf=\"http://www.w3.org/1999/02/22-rdf-syntax-ns#\">\n   <cc:Work>\n    <dc:type rdf:resource=\"http://purl.org/dc/dcmitype/StillImage\"/>\n    <dc:date>2022-01-23T15:03:14.057416</dc:date>\n    <dc:format>image/svg+xml</dc:format>\n    <dc:creator>\n     <cc:Agent>\n      <dc:title>Matplotlib v3.4.2, https://matplotlib.org/</dc:title>\n     </cc:Agent>\n    </dc:creator>\n   </cc:Work>\n  </rdf:RDF>\n </metadata>\n <defs>\n  <style type=\"text/css\">*{stroke-linecap:butt;stroke-linejoin:round;}</style>\n </defs>\n <g id=\"figure_1\">\n  <g id=\"patch_1\">\n   <path d=\"M 0 288.964688 \nL 367.321875 288.964688 \nL 367.321875 0 \nL 0 0 \nz\n\" style=\"fill:none;\"/>\n  </g>\n  <g id=\"axes_1\">\n   <g id=\"patch_2\">\n    <path d=\"M 25.321875 239.375625 \nL 360.121875 239.375625 \nL 360.121875 21.935625 \nL 25.321875 21.935625 \nz\n\" style=\"fill:#ffffff;\"/>\n   </g>\n   <g id=\"patch_3\">\n    <path clip-path=\"url(#p8a3c544a18)\" d=\"M 42.061875 239.375625 \nL 75.541875 239.375625 \nL 75.541875 32.559413 \nL 42.061875 32.559413 \nz\n\" style=\"fill:#1f77b4;\"/>\n   </g>\n   <g id=\"patch_4\">\n    <path clip-path=\"url(#p8a3c544a18)\" d=\"M 109.021875 239.375625 \nL 142.501875 239.375625 \nL 142.501875 32.289911 \nL 109.021875 32.289911 \nz\n\" style=\"fill:#1f77b4;\"/>\n   </g>\n   <g id=\"patch_5\">\n    <path clip-path=\"url(#p8a3c544a18)\" d=\"M 175.981875 239.375625 \nL 209.461875 239.375625 \nL 209.461875 32.916501 \nL 175.981875 32.916501 \nz\n\" style=\"fill:#1f77b4;\"/>\n   </g>\n   <g id=\"patch_6\">\n    <path clip-path=\"url(#p8a3c544a18)\" d=\"M 242.941875 239.375625 \nL 276.421875 239.375625 \nL 276.421875 33.01046 \nL 242.941875 33.01046 \nz\n\" style=\"fill:#1f77b4;\"/>\n   </g>\n   <g id=\"patch_7\">\n    <path clip-path=\"url(#p8a3c544a18)\" d=\"M 309.901875 239.375625 \nL 343.381875 239.375625 \nL 343.381875 33.142186 \nL 309.901875 33.142186 \nz\n\" style=\"fill:#1f77b4;\"/>\n   </g>\n   <g id=\"matplotlib.axis_1\">\n    <g id=\"xtick_1\">\n     <g id=\"line2d_1\">\n      <defs>\n       <path d=\"M 0 0 \nL 0 3.5 \n\" id=\"m6dfea26ec3\" style=\"stroke:#808080;stroke-width:0.8;\"/>\n      </defs>\n      <g>\n       <use style=\"fill:#808080;stroke:#808080;stroke-width:0.8;\" x=\"58.801875\" xlink:href=\"#m6dfea26ec3\" y=\"239.375625\"/>\n      </g>\n     </g>\n     <g id=\"text_1\">\n      <!-- 2006 -->\n      <g style=\"fill:#808080;\" transform=\"translate(61.387031 268.619375)rotate(-90)scale(0.1 -0.1)\">\n       <defs>\n        <path d=\"M 3222 541 \nL 3222 0 \nL 194 0 \nQ 188 203 259 391 \nQ 375 700 629 1000 \nQ 884 1300 1366 1694 \nQ 2113 2306 2375 2664 \nQ 2638 3022 2638 3341 \nQ 2638 3675 2398 3904 \nQ 2159 4134 1775 4134 \nQ 1369 4134 1125 3890 \nQ 881 3647 878 3216 \nL 300 3275 \nQ 359 3922 746 4261 \nQ 1134 4600 1788 4600 \nQ 2447 4600 2831 4234 \nQ 3216 3869 3216 3328 \nQ 3216 3053 3103 2787 \nQ 2991 2522 2730 2228 \nQ 2469 1934 1863 1422 \nQ 1356 997 1212 845 \nQ 1069 694 975 541 \nL 3222 541 \nz\n\" id=\"ArialMT-32\" transform=\"scale(0.015625)\"/>\n        <path d=\"M 266 2259 \nQ 266 3072 433 3567 \nQ 600 4063 929 4331 \nQ 1259 4600 1759 4600 \nQ 2128 4600 2406 4451 \nQ 2684 4303 2865 4023 \nQ 3047 3744 3150 3342 \nQ 3253 2941 3253 2259 \nQ 3253 1453 3087 958 \nQ 2922 463 2592 192 \nQ 2263 -78 1759 -78 \nQ 1097 -78 719 397 \nQ 266 969 266 2259 \nz\nM 844 2259 \nQ 844 1131 1108 757 \nQ 1372 384 1759 384 \nQ 2147 384 2411 759 \nQ 2675 1134 2675 2259 \nQ 2675 3391 2411 3762 \nQ 2147 4134 1753 4134 \nQ 1366 4134 1134 3806 \nQ 844 3388 844 2259 \nz\n\" id=\"ArialMT-30\" transform=\"scale(0.015625)\"/>\n        <path d=\"M 3184 3459 \nL 2625 3416 \nQ 2550 3747 2413 3897 \nQ 2184 4138 1850 4138 \nQ 1581 4138 1378 3988 \nQ 1113 3794 959 3422 \nQ 806 3050 800 2363 \nQ 1003 2672 1297 2822 \nQ 1591 2972 1913 2972 \nQ 2475 2972 2870 2558 \nQ 3266 2144 3266 1488 \nQ 3266 1056 3080 686 \nQ 2894 316 2569 119 \nQ 2244 -78 1831 -78 \nQ 1128 -78 684 439 \nQ 241 956 241 2144 \nQ 241 3472 731 4075 \nQ 1159 4600 1884 4600 \nQ 2425 4600 2770 4297 \nQ 3116 3994 3184 3459 \nz\nM 888 1484 \nQ 888 1194 1011 928 \nQ 1134 663 1356 523 \nQ 1578 384 1822 384 \nQ 2178 384 2434 671 \nQ 2691 959 2691 1453 \nQ 2691 1928 2437 2201 \nQ 2184 2475 1800 2475 \nQ 1419 2475 1153 2201 \nQ 888 1928 888 1484 \nz\n\" id=\"ArialMT-36\" transform=\"scale(0.015625)\"/>\n       </defs>\n       <use xlink:href=\"#ArialMT-32\"/>\n       <use x=\"55.615234\" xlink:href=\"#ArialMT-30\"/>\n       <use x=\"111.230469\" xlink:href=\"#ArialMT-30\"/>\n       <use x=\"166.845703\" xlink:href=\"#ArialMT-36\"/>\n      </g>\n     </g>\n    </g>\n    <g id=\"xtick_2\">\n     <g id=\"line2d_2\">\n      <g>\n       <use style=\"fill:#808080;stroke:#808080;stroke-width:0.8;\" x=\"125.761875\" xlink:href=\"#m6dfea26ec3\" y=\"239.375625\"/>\n      </g>\n     </g>\n     <g id=\"text_2\">\n      <!-- 2007 -->\n      <g style=\"fill:#808080;\" transform=\"translate(128.347031 268.619375)rotate(-90)scale(0.1 -0.1)\">\n       <defs>\n        <path d=\"M 303 3981 \nL 303 4522 \nL 3269 4522 \nL 3269 4084 \nQ 2831 3619 2401 2847 \nQ 1972 2075 1738 1259 \nQ 1569 684 1522 0 \nL 944 0 \nQ 953 541 1156 1306 \nQ 1359 2072 1739 2783 \nQ 2119 3494 2547 3981 \nL 303 3981 \nz\n\" id=\"ArialMT-37\" transform=\"scale(0.015625)\"/>\n       </defs>\n       <use xlink:href=\"#ArialMT-32\"/>\n       <use x=\"55.615234\" xlink:href=\"#ArialMT-30\"/>\n       <use x=\"111.230469\" xlink:href=\"#ArialMT-30\"/>\n       <use x=\"166.845703\" xlink:href=\"#ArialMT-37\"/>\n      </g>\n     </g>\n    </g>\n    <g id=\"xtick_3\">\n     <g id=\"line2d_3\">\n      <g>\n       <use style=\"fill:#808080;stroke:#808080;stroke-width:0.8;\" x=\"192.721875\" xlink:href=\"#m6dfea26ec3\" y=\"239.375625\"/>\n      </g>\n     </g>\n     <g id=\"text_3\">\n      <!-- 2008 -->\n      <g style=\"fill:#808080;\" transform=\"translate(195.307031 268.619375)rotate(-90)scale(0.1 -0.1)\">\n       <defs>\n        <path d=\"M 1131 2484 \nQ 781 2613 612 2850 \nQ 444 3088 444 3419 \nQ 444 3919 803 4259 \nQ 1163 4600 1759 4600 \nQ 2359 4600 2725 4251 \nQ 3091 3903 3091 3403 \nQ 3091 3084 2923 2848 \nQ 2756 2613 2416 2484 \nQ 2838 2347 3058 2040 \nQ 3278 1734 3278 1309 \nQ 3278 722 2862 322 \nQ 2447 -78 1769 -78 \nQ 1091 -78 675 323 \nQ 259 725 259 1325 \nQ 259 1772 486 2073 \nQ 713 2375 1131 2484 \nz\nM 1019 3438 \nQ 1019 3113 1228 2906 \nQ 1438 2700 1772 2700 \nQ 2097 2700 2305 2904 \nQ 2513 3109 2513 3406 \nQ 2513 3716 2298 3927 \nQ 2084 4138 1766 4138 \nQ 1444 4138 1231 3931 \nQ 1019 3725 1019 3438 \nz\nM 838 1322 \nQ 838 1081 952 856 \nQ 1066 631 1291 507 \nQ 1516 384 1775 384 \nQ 2178 384 2440 643 \nQ 2703 903 2703 1303 \nQ 2703 1709 2433 1975 \nQ 2163 2241 1756 2241 \nQ 1359 2241 1098 1978 \nQ 838 1716 838 1322 \nz\n\" id=\"ArialMT-38\" transform=\"scale(0.015625)\"/>\n       </defs>\n       <use xlink:href=\"#ArialMT-32\"/>\n       <use x=\"55.615234\" xlink:href=\"#ArialMT-30\"/>\n       <use x=\"111.230469\" xlink:href=\"#ArialMT-30\"/>\n       <use x=\"166.845703\" xlink:href=\"#ArialMT-38\"/>\n      </g>\n     </g>\n    </g>\n    <g id=\"xtick_4\">\n     <g id=\"line2d_4\">\n      <g>\n       <use style=\"fill:#808080;stroke:#808080;stroke-width:0.8;\" x=\"259.681875\" xlink:href=\"#m6dfea26ec3\" y=\"239.375625\"/>\n      </g>\n     </g>\n     <g id=\"text_4\">\n      <!-- 2009 -->\n      <g style=\"fill:#808080;\" transform=\"translate(262.267031 268.619375)rotate(-90)scale(0.1 -0.1)\">\n       <defs>\n        <path d=\"M 350 1059 \nL 891 1109 \nQ 959 728 1153 556 \nQ 1347 384 1650 384 \nQ 1909 384 2104 503 \nQ 2300 622 2425 820 \nQ 2550 1019 2634 1356 \nQ 2719 1694 2719 2044 \nQ 2719 2081 2716 2156 \nQ 2547 1888 2255 1720 \nQ 1963 1553 1622 1553 \nQ 1053 1553 659 1965 \nQ 266 2378 266 3053 \nQ 266 3750 677 4175 \nQ 1088 4600 1706 4600 \nQ 2153 4600 2523 4359 \nQ 2894 4119 3086 3673 \nQ 3278 3228 3278 2384 \nQ 3278 1506 3087 986 \nQ 2897 466 2520 194 \nQ 2144 -78 1638 -78 \nQ 1100 -78 759 220 \nQ 419 519 350 1059 \nz\nM 2653 3081 \nQ 2653 3566 2395 3850 \nQ 2138 4134 1775 4134 \nQ 1400 4134 1122 3828 \nQ 844 3522 844 3034 \nQ 844 2597 1108 2323 \nQ 1372 2050 1759 2050 \nQ 2150 2050 2401 2323 \nQ 2653 2597 2653 3081 \nz\n\" id=\"ArialMT-39\" transform=\"scale(0.015625)\"/>\n       </defs>\n       <use xlink:href=\"#ArialMT-32\"/>\n       <use x=\"55.615234\" xlink:href=\"#ArialMT-30\"/>\n       <use x=\"111.230469\" xlink:href=\"#ArialMT-30\"/>\n       <use x=\"166.845703\" xlink:href=\"#ArialMT-39\"/>\n      </g>\n     </g>\n    </g>\n    <g id=\"xtick_5\">\n     <g id=\"line2d_5\">\n      <g>\n       <use style=\"fill:#808080;stroke:#808080;stroke-width:0.8;\" x=\"326.641875\" xlink:href=\"#m6dfea26ec3\" y=\"239.375625\"/>\n      </g>\n     </g>\n     <g id=\"text_5\">\n      <!-- 2010 -->\n      <g style=\"fill:#808080;\" transform=\"translate(329.227031 268.619375)rotate(-90)scale(0.1 -0.1)\">\n       <defs>\n        <path d=\"M 2384 0 \nL 1822 0 \nL 1822 3584 \nQ 1619 3391 1289 3197 \nQ 959 3003 697 2906 \nL 697 3450 \nQ 1169 3672 1522 3987 \nQ 1875 4303 2022 4600 \nL 2384 4600 \nL 2384 0 \nz\n\" id=\"ArialMT-31\" transform=\"scale(0.015625)\"/>\n       </defs>\n       <use xlink:href=\"#ArialMT-32\"/>\n       <use x=\"55.615234\" xlink:href=\"#ArialMT-30\"/>\n       <use x=\"111.230469\" xlink:href=\"#ArialMT-31\"/>\n       <use x=\"166.845703\" xlink:href=\"#ArialMT-30\"/>\n      </g>\n     </g>\n    </g>\n    <g id=\"text_6\">\n     <!-- YrSold -->\n     <g style=\"fill:#505050;\" transform=\"translate(177.714844 279.777188)scale(0.1 -0.1)\">\n      <defs>\n       <path d=\"M 1784 0 \nL 1784 1941 \nL 19 4581 \nL 756 4581 \nL 1659 3200 \nQ 1909 2813 2125 2425 \nQ 2331 2784 2625 3234 \nL 3513 4581 \nL 4219 4581 \nL 2391 1941 \nL 2391 0 \nL 1784 0 \nz\n\" id=\"ArialMT-59\" transform=\"scale(0.015625)\"/>\n       <path d=\"M 416 0 \nL 416 3319 \nL 922 3319 \nL 922 2816 \nQ 1116 3169 1280 3281 \nQ 1444 3394 1641 3394 \nQ 1925 3394 2219 3213 \nL 2025 2691 \nQ 1819 2813 1613 2813 \nQ 1428 2813 1281 2702 \nQ 1134 2591 1072 2394 \nQ 978 2094 978 1738 \nL 978 0 \nL 416 0 \nz\n\" id=\"ArialMT-72\" transform=\"scale(0.015625)\"/>\n       <path d=\"M 288 1472 \nL 859 1522 \nQ 900 1178 1048 958 \nQ 1197 738 1509 602 \nQ 1822 466 2213 466 \nQ 2559 466 2825 569 \nQ 3091 672 3220 851 \nQ 3350 1031 3350 1244 \nQ 3350 1459 3225 1620 \nQ 3100 1781 2813 1891 \nQ 2628 1963 1997 2114 \nQ 1366 2266 1113 2400 \nQ 784 2572 623 2826 \nQ 463 3081 463 3397 \nQ 463 3744 659 4045 \nQ 856 4347 1234 4503 \nQ 1613 4659 2075 4659 \nQ 2584 4659 2973 4495 \nQ 3363 4331 3572 4012 \nQ 3781 3694 3797 3291 \nL 3216 3247 \nQ 3169 3681 2898 3903 \nQ 2628 4125 2100 4125 \nQ 1550 4125 1298 3923 \nQ 1047 3722 1047 3438 \nQ 1047 3191 1225 3031 \nQ 1400 2872 2139 2705 \nQ 2878 2538 3153 2413 \nQ 3553 2228 3743 1945 \nQ 3934 1663 3934 1294 \nQ 3934 928 3725 604 \nQ 3516 281 3123 101 \nQ 2731 -78 2241 -78 \nQ 1619 -78 1198 103 \nQ 778 284 539 648 \nQ 300 1013 288 1472 \nz\n\" id=\"ArialMT-53\" transform=\"scale(0.015625)\"/>\n       <path d=\"M 213 1659 \nQ 213 2581 725 3025 \nQ 1153 3394 1769 3394 \nQ 2453 3394 2887 2945 \nQ 3322 2497 3322 1706 \nQ 3322 1066 3130 698 \nQ 2938 331 2570 128 \nQ 2203 -75 1769 -75 \nQ 1072 -75 642 372 \nQ 213 819 213 1659 \nz\nM 791 1659 \nQ 791 1022 1069 705 \nQ 1347 388 1769 388 \nQ 2188 388 2466 706 \nQ 2744 1025 2744 1678 \nQ 2744 2294 2464 2611 \nQ 2184 2928 1769 2928 \nQ 1347 2928 1069 2612 \nQ 791 2297 791 1659 \nz\n\" id=\"ArialMT-6f\" transform=\"scale(0.015625)\"/>\n       <path d=\"M 409 0 \nL 409 4581 \nL 972 4581 \nL 972 0 \nL 409 0 \nz\n\" id=\"ArialMT-6c\" transform=\"scale(0.015625)\"/>\n       <path d=\"M 2575 0 \nL 2575 419 \nQ 2259 -75 1647 -75 \nQ 1250 -75 917 144 \nQ 584 363 401 755 \nQ 219 1147 219 1656 \nQ 219 2153 384 2558 \nQ 550 2963 881 3178 \nQ 1213 3394 1622 3394 \nQ 1922 3394 2156 3267 \nQ 2391 3141 2538 2938 \nL 2538 4581 \nL 3097 4581 \nL 3097 0 \nL 2575 0 \nz\nM 797 1656 \nQ 797 1019 1065 703 \nQ 1334 388 1700 388 \nQ 2069 388 2326 689 \nQ 2584 991 2584 1609 \nQ 2584 2291 2321 2609 \nQ 2059 2928 1675 2928 \nQ 1300 2928 1048 2622 \nQ 797 2316 797 1656 \nz\n\" id=\"ArialMT-64\" transform=\"scale(0.015625)\"/>\n      </defs>\n      <use xlink:href=\"#ArialMT-59\"/>\n      <use x=\"66.699219\" xlink:href=\"#ArialMT-72\"/>\n      <use x=\"100\" xlink:href=\"#ArialMT-53\"/>\n      <use x=\"166.699219\" xlink:href=\"#ArialMT-6f\"/>\n      <use x=\"222.314453\" xlink:href=\"#ArialMT-6c\"/>\n      <use x=\"244.53125\" xlink:href=\"#ArialMT-64\"/>\n     </g>\n    </g>\n   </g>\n   <g id=\"matplotlib.axis_2\">\n    <g id=\"ytick_1\">\n     <g id=\"line2d_6\">\n      <defs>\n       <path d=\"M 0 0 \nL -3.5 0 \n\" id=\"mdb1e448870\" style=\"stroke:#808080;stroke-width:0.8;\"/>\n      </defs>\n      <g>\n       <use style=\"fill:#808080;stroke:#808080;stroke-width:0.8;\" x=\"25.321875\" xlink:href=\"#mdb1e448870\" y=\"239.375625\"/>\n      </g>\n     </g>\n     <g id=\"text_7\">\n      <!-- 0 -->\n      <g style=\"fill:#808080;\" transform=\"translate(12.760938 242.954531)scale(0.1 -0.1)\">\n       <use xlink:href=\"#ArialMT-30\"/>\n      </g>\n     </g>\n    </g>\n    <g id=\"ytick_2\">\n     <g id=\"line2d_7\">\n      <g>\n       <use style=\"fill:#808080;stroke:#808080;stroke-width:0.8;\" x=\"25.321875\" xlink:href=\"#mdb1e448870\" y=\"205.006475\"/>\n      </g>\n     </g>\n     <g id=\"text_8\">\n      <!-- 2 -->\n      <g style=\"fill:#808080;\" transform=\"translate(12.760938 208.585381)scale(0.1 -0.1)\">\n       <use xlink:href=\"#ArialMT-32\"/>\n      </g>\n     </g>\n    </g>\n    <g id=\"ytick_3\">\n     <g id=\"line2d_8\">\n      <g>\n       <use style=\"fill:#808080;stroke:#808080;stroke-width:0.8;\" x=\"25.321875\" xlink:href=\"#mdb1e448870\" y=\"170.637325\"/>\n      </g>\n     </g>\n     <g id=\"text_9\">\n      <!-- 4 -->\n      <g style=\"fill:#808080;\" transform=\"translate(12.760938 174.216231)scale(0.1 -0.1)\">\n       <defs>\n        <path d=\"M 2069 0 \nL 2069 1097 \nL 81 1097 \nL 81 1613 \nL 2172 4581 \nL 2631 4581 \nL 2631 1613 \nL 3250 1613 \nL 3250 1097 \nL 2631 1097 \nL 2631 0 \nL 2069 0 \nz\nM 2069 1613 \nL 2069 3678 \nL 634 1613 \nL 2069 1613 \nz\n\" id=\"ArialMT-34\" transform=\"scale(0.015625)\"/>\n       </defs>\n       <use xlink:href=\"#ArialMT-34\"/>\n      </g>\n     </g>\n    </g>\n    <g id=\"ytick_4\">\n     <g id=\"line2d_9\">\n      <g>\n       <use style=\"fill:#808080;stroke:#808080;stroke-width:0.8;\" x=\"25.321875\" xlink:href=\"#mdb1e448870\" y=\"136.268175\"/>\n      </g>\n     </g>\n     <g id=\"text_10\">\n      <!-- 6 -->\n      <g style=\"fill:#808080;\" transform=\"translate(12.760938 139.847081)scale(0.1 -0.1)\">\n       <use xlink:href=\"#ArialMT-36\"/>\n      </g>\n     </g>\n    </g>\n    <g id=\"ytick_5\">\n     <g id=\"line2d_10\">\n      <g>\n       <use style=\"fill:#808080;stroke:#808080;stroke-width:0.8;\" x=\"25.321875\" xlink:href=\"#mdb1e448870\" y=\"101.899025\"/>\n      </g>\n     </g>\n     <g id=\"text_11\">\n      <!-- 8 -->\n      <g style=\"fill:#808080;\" transform=\"translate(12.760938 105.477931)scale(0.1 -0.1)\">\n       <use xlink:href=\"#ArialMT-38\"/>\n      </g>\n     </g>\n    </g>\n    <g id=\"ytick_6\">\n     <g id=\"line2d_11\">\n      <g>\n       <use style=\"fill:#808080;stroke:#808080;stroke-width:0.8;\" x=\"25.321875\" xlink:href=\"#mdb1e448870\" y=\"67.529875\"/>\n      </g>\n     </g>\n     <g id=\"text_12\">\n      <!-- 10 -->\n      <g style=\"fill:#808080;\" transform=\"translate(7.2 71.108781)scale(0.1 -0.1)\">\n       <use xlink:href=\"#ArialMT-31\"/>\n       <use x=\"55.615234\" xlink:href=\"#ArialMT-30\"/>\n      </g>\n     </g>\n    </g>\n    <g id=\"ytick_7\">\n     <g id=\"line2d_12\">\n      <g>\n       <use style=\"fill:#808080;stroke:#808080;stroke-width:0.8;\" x=\"25.321875\" xlink:href=\"#mdb1e448870\" y=\"33.160725\"/>\n      </g>\n     </g>\n     <g id=\"text_13\">\n      <!-- 12 -->\n      <g style=\"fill:#808080;\" transform=\"translate(7.2 36.739631)scale(0.1 -0.1)\">\n       <use xlink:href=\"#ArialMT-31\"/>\n       <use x=\"55.615234\" xlink:href=\"#ArialMT-32\"/>\n      </g>\n     </g>\n    </g>\n   </g>\n   <g id=\"patch_8\">\n    <path d=\"M 25.321875 239.375625 \nL 25.321875 21.935625 \n\" style=\"fill:none;stroke:#808080;stroke-linecap:square;stroke-linejoin:miter;stroke-width:0.3;\"/>\n   </g>\n   <g id=\"patch_9\">\n    <path d=\"M 360.121875 239.375625 \nL 360.121875 21.935625 \n\" style=\"fill:none;stroke:#808080;stroke-linecap:square;stroke-linejoin:miter;stroke-width:0.3;\"/>\n   </g>\n   <g id=\"patch_10\">\n    <path d=\"M 25.321875 239.375625 \nL 360.121875 239.375625 \n\" style=\"fill:none;stroke:#808080;stroke-linecap:square;stroke-linejoin:miter;stroke-width:0.3;\"/>\n   </g>\n   <g id=\"patch_11\">\n    <path d=\"M 25.321875 21.935625 \nL 360.121875 21.935625 \n\" style=\"fill:none;stroke:#808080;stroke-linecap:square;stroke-linejoin:miter;stroke-width:0.3;\"/>\n   </g>\n   <g id=\"text_14\">\n    <!-- Avg Sale Price per Calendar Year -->\n    <g style=\"fill:#505050;\" transform=\"translate(103.437188 15.935625)scale(0.12 -0.12)\">\n     <defs>\n      <path d=\"M -9 0 \nL 1750 4581 \nL 2403 4581 \nL 4278 0 \nL 3588 0 \nL 3053 1388 \nL 1138 1388 \nL 634 0 \nL -9 0 \nz\nM 1313 1881 \nL 2866 1881 \nL 2388 3150 \nQ 2169 3728 2063 4100 \nQ 1975 3659 1816 3225 \nL 1313 1881 \nz\n\" id=\"ArialMT-41\" transform=\"scale(0.015625)\"/>\n      <path d=\"M 1344 0 \nL 81 3319 \nL 675 3319 \nL 1388 1331 \nQ 1503 1009 1600 663 \nQ 1675 925 1809 1294 \nL 2547 3319 \nL 3125 3319 \nL 1869 0 \nL 1344 0 \nz\n\" id=\"ArialMT-76\" transform=\"scale(0.015625)\"/>\n      <path d=\"M 319 -275 \nL 866 -356 \nQ 900 -609 1056 -725 \nQ 1266 -881 1628 -881 \nQ 2019 -881 2231 -725 \nQ 2444 -569 2519 -288 \nQ 2563 -116 2559 434 \nQ 2191 0 1641 0 \nQ 956 0 581 494 \nQ 206 988 206 1678 \nQ 206 2153 378 2554 \nQ 550 2956 876 3175 \nQ 1203 3394 1644 3394 \nQ 2231 3394 2613 2919 \nL 2613 3319 \nL 3131 3319 \nL 3131 450 \nQ 3131 -325 2973 -648 \nQ 2816 -972 2473 -1159 \nQ 2131 -1347 1631 -1347 \nQ 1038 -1347 672 -1080 \nQ 306 -813 319 -275 \nz\nM 784 1719 \nQ 784 1066 1043 766 \nQ 1303 466 1694 466 \nQ 2081 466 2343 764 \nQ 2606 1063 2606 1700 \nQ 2606 2309 2336 2618 \nQ 2066 2928 1684 2928 \nQ 1309 2928 1046 2623 \nQ 784 2319 784 1719 \nz\n\" id=\"ArialMT-67\" transform=\"scale(0.015625)\"/>\n      <path id=\"ArialMT-20\" transform=\"scale(0.015625)\"/>\n      <path d=\"M 2588 409 \nQ 2275 144 1986 34 \nQ 1697 -75 1366 -75 \nQ 819 -75 525 192 \nQ 231 459 231 875 \nQ 231 1119 342 1320 \nQ 453 1522 633 1644 \nQ 813 1766 1038 1828 \nQ 1203 1872 1538 1913 \nQ 2219 1994 2541 2106 \nQ 2544 2222 2544 2253 \nQ 2544 2597 2384 2738 \nQ 2169 2928 1744 2928 \nQ 1347 2928 1158 2789 \nQ 969 2650 878 2297 \nL 328 2372 \nQ 403 2725 575 2942 \nQ 747 3159 1072 3276 \nQ 1397 3394 1825 3394 \nQ 2250 3394 2515 3294 \nQ 2781 3194 2906 3042 \nQ 3031 2891 3081 2659 \nQ 3109 2516 3109 2141 \nL 3109 1391 \nQ 3109 606 3145 398 \nQ 3181 191 3288 0 \nL 2700 0 \nQ 2613 175 2588 409 \nz\nM 2541 1666 \nQ 2234 1541 1622 1453 \nQ 1275 1403 1131 1340 \nQ 988 1278 909 1158 \nQ 831 1038 831 891 \nQ 831 666 1001 516 \nQ 1172 366 1500 366 \nQ 1825 366 2078 508 \nQ 2331 650 2450 897 \nQ 2541 1088 2541 1459 \nL 2541 1666 \nz\n\" id=\"ArialMT-61\" transform=\"scale(0.015625)\"/>\n      <path d=\"M 2694 1069 \nL 3275 997 \nQ 3138 488 2766 206 \nQ 2394 -75 1816 -75 \nQ 1088 -75 661 373 \nQ 234 822 234 1631 \nQ 234 2469 665 2931 \nQ 1097 3394 1784 3394 \nQ 2450 3394 2872 2941 \nQ 3294 2488 3294 1666 \nQ 3294 1616 3291 1516 \nL 816 1516 \nQ 847 969 1125 678 \nQ 1403 388 1819 388 \nQ 2128 388 2347 550 \nQ 2566 713 2694 1069 \nz\nM 847 1978 \nL 2700 1978 \nQ 2663 2397 2488 2606 \nQ 2219 2931 1791 2931 \nQ 1403 2931 1139 2672 \nQ 875 2413 847 1978 \nz\n\" id=\"ArialMT-65\" transform=\"scale(0.015625)\"/>\n      <path d=\"M 494 0 \nL 494 4581 \nL 2222 4581 \nQ 2678 4581 2919 4538 \nQ 3256 4481 3484 4323 \nQ 3713 4166 3852 3881 \nQ 3991 3597 3991 3256 \nQ 3991 2672 3619 2267 \nQ 3247 1863 2275 1863 \nL 1100 1863 \nL 1100 0 \nL 494 0 \nz\nM 1100 2403 \nL 2284 2403 \nQ 2872 2403 3119 2622 \nQ 3366 2841 3366 3238 \nQ 3366 3525 3220 3729 \nQ 3075 3934 2838 4000 \nQ 2684 4041 2272 4041 \nL 1100 4041 \nL 1100 2403 \nz\n\" id=\"ArialMT-50\" transform=\"scale(0.015625)\"/>\n      <path d=\"M 425 3934 \nL 425 4581 \nL 988 4581 \nL 988 3934 \nL 425 3934 \nz\nM 425 0 \nL 425 3319 \nL 988 3319 \nL 988 0 \nL 425 0 \nz\n\" id=\"ArialMT-69\" transform=\"scale(0.015625)\"/>\n      <path d=\"M 2588 1216 \nL 3141 1144 \nQ 3050 572 2676 248 \nQ 2303 -75 1759 -75 \nQ 1078 -75 664 370 \nQ 250 816 250 1647 \nQ 250 2184 428 2587 \nQ 606 2991 970 3192 \nQ 1334 3394 1763 3394 \nQ 2303 3394 2647 3120 \nQ 2991 2847 3088 2344 \nL 2541 2259 \nQ 2463 2594 2264 2762 \nQ 2066 2931 1784 2931 \nQ 1359 2931 1093 2626 \nQ 828 2322 828 1663 \nQ 828 994 1084 691 \nQ 1341 388 1753 388 \nQ 2084 388 2306 591 \nQ 2528 794 2588 1216 \nz\n\" id=\"ArialMT-63\" transform=\"scale(0.015625)\"/>\n      <path d=\"M 422 -1272 \nL 422 3319 \nL 934 3319 \nL 934 2888 \nQ 1116 3141 1344 3267 \nQ 1572 3394 1897 3394 \nQ 2322 3394 2647 3175 \nQ 2972 2956 3137 2557 \nQ 3303 2159 3303 1684 \nQ 3303 1175 3120 767 \nQ 2938 359 2589 142 \nQ 2241 -75 1856 -75 \nQ 1575 -75 1351 44 \nQ 1128 163 984 344 \nL 984 -1272 \nL 422 -1272 \nz\nM 931 1641 \nQ 931 1000 1190 694 \nQ 1450 388 1819 388 \nQ 2194 388 2461 705 \nQ 2728 1022 2728 1688 \nQ 2728 2322 2467 2637 \nQ 2206 2953 1844 2953 \nQ 1484 2953 1207 2617 \nQ 931 2281 931 1641 \nz\n\" id=\"ArialMT-70\" transform=\"scale(0.015625)\"/>\n      <path d=\"M 3763 1606 \nL 4369 1453 \nQ 4178 706 3683 314 \nQ 3188 -78 2472 -78 \nQ 1731 -78 1267 223 \nQ 803 525 561 1097 \nQ 319 1669 319 2325 \nQ 319 3041 592 3573 \nQ 866 4106 1370 4382 \nQ 1875 4659 2481 4659 \nQ 3169 4659 3637 4309 \nQ 4106 3959 4291 3325 \nL 3694 3184 \nQ 3534 3684 3231 3912 \nQ 2928 4141 2469 4141 \nQ 1941 4141 1586 3887 \nQ 1231 3634 1087 3207 \nQ 944 2781 944 2328 \nQ 944 1744 1114 1308 \nQ 1284 872 1643 656 \nQ 2003 441 2422 441 \nQ 2931 441 3284 734 \nQ 3638 1028 3763 1606 \nz\n\" id=\"ArialMT-43\" transform=\"scale(0.015625)\"/>\n      <path d=\"M 422 0 \nL 422 3319 \nL 928 3319 \nL 928 2847 \nQ 1294 3394 1984 3394 \nQ 2284 3394 2536 3286 \nQ 2788 3178 2913 3003 \nQ 3038 2828 3088 2588 \nQ 3119 2431 3119 2041 \nL 3119 0 \nL 2556 0 \nL 2556 2019 \nQ 2556 2363 2490 2533 \nQ 2425 2703 2258 2804 \nQ 2091 2906 1866 2906 \nQ 1506 2906 1245 2678 \nQ 984 2450 984 1813 \nL 984 0 \nL 422 0 \nz\n\" id=\"ArialMT-6e\" transform=\"scale(0.015625)\"/>\n     </defs>\n     <use xlink:href=\"#ArialMT-41\"/>\n     <use x=\"64.949219\" xlink:href=\"#ArialMT-76\"/>\n     <use x=\"114.949219\" xlink:href=\"#ArialMT-67\"/>\n     <use x=\"170.564453\" xlink:href=\"#ArialMT-20\"/>\n     <use x=\"198.347656\" xlink:href=\"#ArialMT-53\"/>\n     <use x=\"265.046875\" xlink:href=\"#ArialMT-61\"/>\n     <use x=\"320.662109\" xlink:href=\"#ArialMT-6c\"/>\n     <use x=\"342.878906\" xlink:href=\"#ArialMT-65\"/>\n     <use x=\"398.494141\" xlink:href=\"#ArialMT-20\"/>\n     <use x=\"426.277344\" xlink:href=\"#ArialMT-50\"/>\n     <use x=\"492.976562\" xlink:href=\"#ArialMT-72\"/>\n     <use x=\"526.277344\" xlink:href=\"#ArialMT-69\"/>\n     <use x=\"548.494141\" xlink:href=\"#ArialMT-63\"/>\n     <use x=\"598.494141\" xlink:href=\"#ArialMT-65\"/>\n     <use x=\"654.109375\" xlink:href=\"#ArialMT-20\"/>\n     <use x=\"681.892578\" xlink:href=\"#ArialMT-70\"/>\n     <use x=\"737.507812\" xlink:href=\"#ArialMT-65\"/>\n     <use x=\"793.123047\" xlink:href=\"#ArialMT-72\"/>\n     <use x=\"826.423828\" xlink:href=\"#ArialMT-20\"/>\n     <use x=\"854.207031\" xlink:href=\"#ArialMT-43\"/>\n     <use x=\"926.423828\" xlink:href=\"#ArialMT-61\"/>\n     <use x=\"982.039062\" xlink:href=\"#ArialMT-6c\"/>\n     <use x=\"1004.255859\" xlink:href=\"#ArialMT-65\"/>\n     <use x=\"1059.871094\" xlink:href=\"#ArialMT-6e\"/>\n     <use x=\"1115.486328\" xlink:href=\"#ArialMT-64\"/>\n     <use x=\"1171.101562\" xlink:href=\"#ArialMT-61\"/>\n     <use x=\"1226.716797\" xlink:href=\"#ArialMT-72\"/>\n     <use x=\"1260.017578\" xlink:href=\"#ArialMT-20\"/>\n     <use x=\"1286.050781\" xlink:href=\"#ArialMT-59\"/>\n     <use x=\"1343.625\" xlink:href=\"#ArialMT-65\"/>\n     <use x=\"1399.240234\" xlink:href=\"#ArialMT-61\"/>\n     <use x=\"1454.855469\" xlink:href=\"#ArialMT-72\"/>\n    </g>\n   </g>\n   <g id=\"legend_1\">\n    <g id=\"patch_12\">\n     <path d=\"M 241.096875 58.465313 \nL 353.121875 58.465313 \nQ 355.121875 58.465313 355.121875 56.465313 \nL 355.121875 28.935625 \nQ 355.121875 26.935625 353.121875 26.935625 \nL 241.096875 26.935625 \nQ 239.096875 26.935625 239.096875 28.935625 \nL 239.096875 56.465313 \nQ 239.096875 58.465313 241.096875 58.465313 \nz\n\" style=\"fill:#ffffff;opacity:0.8;stroke:#cccccc;stroke-linejoin:miter;\"/>\n    </g>\n    <g id=\"text_15\">\n     <!-- None,None -->\n     <g style=\"fill:#505050;\" transform=\"translate(271.815625 38.093438)scale(0.1 -0.1)\">\n      <defs>\n       <path d=\"M 488 0 \nL 488 4581 \nL 1109 4581 \nL 3516 984 \nL 3516 4581 \nL 4097 4581 \nL 4097 0 \nL 3475 0 \nL 1069 3600 \nL 1069 0 \nL 488 0 \nz\n\" id=\"ArialMT-4e\" transform=\"scale(0.015625)\"/>\n       <path d=\"M 569 0 \nL 569 641 \nL 1209 641 \nL 1209 0 \nQ 1209 -353 1084 -570 \nQ 959 -788 688 -906 \nL 531 -666 \nQ 709 -588 793 -436 \nQ 878 -284 888 0 \nL 569 0 \nz\n\" id=\"ArialMT-2c\" transform=\"scale(0.015625)\"/>\n      </defs>\n      <use xlink:href=\"#ArialMT-4e\"/>\n      <use x=\"72.216797\" xlink:href=\"#ArialMT-6f\"/>\n      <use x=\"127.832031\" xlink:href=\"#ArialMT-6e\"/>\n      <use x=\"183.447266\" xlink:href=\"#ArialMT-65\"/>\n      <use x=\"239.0625\" xlink:href=\"#ArialMT-2c\"/>\n      <use x=\"266.845703\" xlink:href=\"#ArialMT-4e\"/>\n      <use x=\"339.0625\" xlink:href=\"#ArialMT-6f\"/>\n      <use x=\"394.677734\" xlink:href=\"#ArialMT-6e\"/>\n      <use x=\"450.292969\" xlink:href=\"#ArialMT-65\"/>\n     </g>\n    </g>\n    <g id=\"patch_13\">\n     <path d=\"M 243.096875 52.360625 \nL 263.096875 52.360625 \nL 263.096875 45.360625 \nL 243.096875 45.360625 \nz\n\" style=\"fill:#1f77b4;\"/>\n    </g>\n    <g id=\"text_16\">\n     <!-- (SalePrice, mean) -->\n     <g style=\"fill:#505050;\" transform=\"translate(271.096875 52.360625)scale(0.1 -0.1)\">\n      <defs>\n       <path d=\"M 1497 -1347 \nQ 1031 -759 709 28 \nQ 388 816 388 1659 \nQ 388 2403 628 3084 \nQ 909 3875 1497 4659 \nL 1900 4659 \nQ 1522 4009 1400 3731 \nQ 1209 3300 1100 2831 \nQ 966 2247 966 1656 \nQ 966 153 1900 -1347 \nL 1497 -1347 \nz\n\" id=\"ArialMT-28\" transform=\"scale(0.015625)\"/>\n       <path d=\"M 422 0 \nL 422 3319 \nL 925 3319 \nL 925 2853 \nQ 1081 3097 1340 3245 \nQ 1600 3394 1931 3394 \nQ 2300 3394 2536 3241 \nQ 2772 3088 2869 2813 \nQ 3263 3394 3894 3394 \nQ 4388 3394 4653 3120 \nQ 4919 2847 4919 2278 \nL 4919 0 \nL 4359 0 \nL 4359 2091 \nQ 4359 2428 4304 2576 \nQ 4250 2725 4106 2815 \nQ 3963 2906 3769 2906 \nQ 3419 2906 3187 2673 \nQ 2956 2441 2956 1928 \nL 2956 0 \nL 2394 0 \nL 2394 2156 \nQ 2394 2531 2256 2718 \nQ 2119 2906 1806 2906 \nQ 1569 2906 1367 2781 \nQ 1166 2656 1075 2415 \nQ 984 2175 984 1722 \nL 984 0 \nL 422 0 \nz\n\" id=\"ArialMT-6d\" transform=\"scale(0.015625)\"/>\n       <path d=\"M 791 -1347 \nL 388 -1347 \nQ 1322 153 1322 1656 \nQ 1322 2244 1188 2822 \nQ 1081 3291 891 3722 \nQ 769 4003 388 4659 \nL 791 4659 \nQ 1378 3875 1659 3084 \nQ 1900 2403 1900 1659 \nQ 1900 816 1576 28 \nQ 1253 -759 791 -1347 \nz\n\" id=\"ArialMT-29\" transform=\"scale(0.015625)\"/>\n      </defs>\n      <use xlink:href=\"#ArialMT-28\"/>\n      <use x=\"33.300781\" xlink:href=\"#ArialMT-53\"/>\n      <use x=\"100\" xlink:href=\"#ArialMT-61\"/>\n      <use x=\"155.615234\" xlink:href=\"#ArialMT-6c\"/>\n      <use x=\"177.832031\" xlink:href=\"#ArialMT-65\"/>\n      <use x=\"233.447266\" xlink:href=\"#ArialMT-50\"/>\n      <use x=\"300.146484\" xlink:href=\"#ArialMT-72\"/>\n      <use x=\"333.447266\" xlink:href=\"#ArialMT-69\"/>\n      <use x=\"355.664062\" xlink:href=\"#ArialMT-63\"/>\n      <use x=\"405.664062\" xlink:href=\"#ArialMT-65\"/>\n      <use x=\"461.279297\" xlink:href=\"#ArialMT-2c\"/>\n      <use x=\"489.0625\" xlink:href=\"#ArialMT-20\"/>\n      <use x=\"516.845703\" xlink:href=\"#ArialMT-6d\"/>\n      <use x=\"600.146484\" xlink:href=\"#ArialMT-65\"/>\n      <use x=\"655.761719\" xlink:href=\"#ArialMT-61\"/>\n      <use x=\"711.376953\" xlink:href=\"#ArialMT-6e\"/>\n      <use x=\"766.992188\" xlink:href=\"#ArialMT-29\"/>\n     </g>\n    </g>\n   </g>\n  </g>\n </g>\n <defs>\n  <clipPath id=\"p8a3c544a18\">\n   <rect height=\"217.44\" width=\"334.8\" x=\"25.321875\" y=\"21.935625\"/>\n  </clipPath>\n </defs>\n</svg>\n",
      "text/plain": [
       "<Figure size 432x288 with 1 Axes>"
      ]
     },
     "metadata": {
      "needs_background": "dark"
     },
     "output_type": "display_data"
    }
   ],
   "source": [
    "# Looking at sales by seasonality\n",
    "\n",
    "df.groupby('MoSold').agg({'SalePrice': ['mean']}).plot.bar(title='Avg Sale Price per Calendar Month')\n",
    "df.groupby('YrSold').agg({'SalePrice': ['mean']}).plot.bar(title='Avg Sale Price per Calendar Year')\n"
   ]
  },
  {
   "cell_type": "code",
   "execution_count": 39,
   "metadata": {},
   "outputs": [
    {
     "name": "stdout",
     "output_type": "stream",
     "text": [
      "Stats for MSZoning (Identifies the general zoning classification of the sale.):\n"
     ]
    },
    {
     "data": {
      "text/html": [
       "<div>\n",
       "<style scoped>\n",
       "    .dataframe tbody tr th:only-of-type {\n",
       "        vertical-align: middle;\n",
       "    }\n",
       "\n",
       "    .dataframe tbody tr th {\n",
       "        vertical-align: top;\n",
       "    }\n",
       "\n",
       "    .dataframe thead th {\n",
       "        text-align: right;\n",
       "    }\n",
       "</style>\n",
       "<table border=\"1\" class=\"dataframe\">\n",
       "  <thead>\n",
       "    <tr style=\"text-align: right;\">\n",
       "      <th></th>\n",
       "      <th>mean</th>\n",
       "      <th>count</th>\n",
       "      <th>proportion</th>\n",
       "      <th>diff</th>\n",
       "      <th>rate</th>\n",
       "    </tr>\n",
       "    <tr>\n",
       "      <th>MSZoning</th>\n",
       "      <th></th>\n",
       "      <th></th>\n",
       "      <th></th>\n",
       "      <th></th>\n",
       "      <th></th>\n",
       "    </tr>\n",
       "  </thead>\n",
       "  <tbody>\n",
       "    <tr>\n",
       "      <th>C (all)</th>\n",
       "      <td>74,528</td>\n",
       "      <td>10</td>\n",
       "      <td>0.01</td>\n",
       "      <td>-106393.0</td>\n",
       "      <td>0.412</td>\n",
       "    </tr>\n",
       "    <tr>\n",
       "      <th>FV</th>\n",
       "      <td>214,014</td>\n",
       "      <td>65</td>\n",
       "      <td>0.04</td>\n",
       "      <td>33093.0</td>\n",
       "      <td>1.183</td>\n",
       "    </tr>\n",
       "    <tr>\n",
       "      <th>RH</th>\n",
       "      <td>131,558</td>\n",
       "      <td>16</td>\n",
       "      <td>0.01</td>\n",
       "      <td>-49363.0</td>\n",
       "      <td>0.727</td>\n",
       "    </tr>\n",
       "    <tr>\n",
       "      <th>RL</th>\n",
       "      <td>191,004</td>\n",
       "      <td>1151</td>\n",
       "      <td>0.79</td>\n",
       "      <td>10084.0</td>\n",
       "      <td>1.056</td>\n",
       "    </tr>\n",
       "    <tr>\n",
       "      <th>RM</th>\n",
       "      <td>126,316</td>\n",
       "      <td>218</td>\n",
       "      <td>0.15</td>\n",
       "      <td>-54604.0</td>\n",
       "      <td>0.698</td>\n",
       "    </tr>\n",
       "  </tbody>\n",
       "</table>\n",
       "</div>"
      ],
      "text/plain": [
       "             mean  count  proportion      diff   rate\n",
       "MSZoning                                             \n",
       "C (all)    74,528     10        0.01 -106393.0  0.412\n",
       "FV        214,014     65        0.04   33093.0  1.183\n",
       "RH        131,558     16        0.01  -49363.0  0.727\n",
       "RL        191,004   1151        0.79   10084.0  1.056\n",
       "RM        126,316    218        0.15  -54604.0  0.698"
      ]
     },
     "metadata": {},
     "output_type": "display_data"
    },
    {
     "name": "stdout",
     "output_type": "stream",
     "text": [
      "Stats for Street (Type of road access to property):\n"
     ]
    },
    {
     "data": {
      "text/html": [
       "<div>\n",
       "<style scoped>\n",
       "    .dataframe tbody tr th:only-of-type {\n",
       "        vertical-align: middle;\n",
       "    }\n",
       "\n",
       "    .dataframe tbody tr th {\n",
       "        vertical-align: top;\n",
       "    }\n",
       "\n",
       "    .dataframe thead th {\n",
       "        text-align: right;\n",
       "    }\n",
       "</style>\n",
       "<table border=\"1\" class=\"dataframe\">\n",
       "  <thead>\n",
       "    <tr style=\"text-align: right;\">\n",
       "      <th></th>\n",
       "      <th>mean</th>\n",
       "      <th>count</th>\n",
       "      <th>proportion</th>\n",
       "      <th>diff</th>\n",
       "      <th>rate</th>\n",
       "    </tr>\n",
       "    <tr>\n",
       "      <th>Street</th>\n",
       "      <th></th>\n",
       "      <th></th>\n",
       "      <th></th>\n",
       "      <th></th>\n",
       "      <th></th>\n",
       "    </tr>\n",
       "  </thead>\n",
       "  <tbody>\n",
       "    <tr>\n",
       "      <th>Grvl</th>\n",
       "      <td>130,190</td>\n",
       "      <td>6</td>\n",
       "      <td>0.0</td>\n",
       "      <td>-50731.0</td>\n",
       "      <td>0.720</td>\n",
       "    </tr>\n",
       "    <tr>\n",
       "      <th>Pave</th>\n",
       "      <td>181,130</td>\n",
       "      <td>1454</td>\n",
       "      <td>1.0</td>\n",
       "      <td>209.0</td>\n",
       "      <td>1.001</td>\n",
       "    </tr>\n",
       "  </tbody>\n",
       "</table>\n",
       "</div>"
      ],
      "text/plain": [
       "           mean  count  proportion     diff   rate\n",
       "Street                                            \n",
       "Grvl    130,190      6         0.0 -50731.0  0.720\n",
       "Pave    181,130   1454         1.0    209.0  1.001"
      ]
     },
     "metadata": {},
     "output_type": "display_data"
    },
    {
     "name": "stdout",
     "output_type": "stream",
     "text": [
      "Stats for Alley (Type of alley access to property):\n"
     ]
    },
    {
     "data": {
      "text/html": [
       "<div>\n",
       "<style scoped>\n",
       "    .dataframe tbody tr th:only-of-type {\n",
       "        vertical-align: middle;\n",
       "    }\n",
       "\n",
       "    .dataframe tbody tr th {\n",
       "        vertical-align: top;\n",
       "    }\n",
       "\n",
       "    .dataframe thead th {\n",
       "        text-align: right;\n",
       "    }\n",
       "</style>\n",
       "<table border=\"1\" class=\"dataframe\">\n",
       "  <thead>\n",
       "    <tr style=\"text-align: right;\">\n",
       "      <th></th>\n",
       "      <th>mean</th>\n",
       "      <th>count</th>\n",
       "      <th>proportion</th>\n",
       "      <th>diff</th>\n",
       "      <th>rate</th>\n",
       "    </tr>\n",
       "    <tr>\n",
       "      <th>Alley</th>\n",
       "      <th></th>\n",
       "      <th></th>\n",
       "      <th></th>\n",
       "      <th></th>\n",
       "      <th></th>\n",
       "    </tr>\n",
       "  </thead>\n",
       "  <tbody>\n",
       "    <tr>\n",
       "      <th>Grvl</th>\n",
       "      <td>122,219</td>\n",
       "      <td>50</td>\n",
       "      <td>0.03</td>\n",
       "      <td>-58702.0</td>\n",
       "      <td>0.676</td>\n",
       "    </tr>\n",
       "    <tr>\n",
       "      <th>NA</th>\n",
       "      <td>183,452</td>\n",
       "      <td>1369</td>\n",
       "      <td>0.94</td>\n",
       "      <td>2531.0</td>\n",
       "      <td>1.014</td>\n",
       "    </tr>\n",
       "    <tr>\n",
       "      <th>Pave</th>\n",
       "      <td>168,000</td>\n",
       "      <td>41</td>\n",
       "      <td>0.03</td>\n",
       "      <td>-12921.0</td>\n",
       "      <td>0.929</td>\n",
       "    </tr>\n",
       "  </tbody>\n",
       "</table>\n",
       "</div>"
      ],
      "text/plain": [
       "          mean  count  proportion     diff   rate\n",
       "Alley                                            \n",
       "Grvl   122,219     50        0.03 -58702.0  0.676\n",
       "NA     183,452   1369        0.94   2531.0  1.014\n",
       "Pave   168,000     41        0.03 -12921.0  0.929"
      ]
     },
     "metadata": {},
     "output_type": "display_data"
    },
    {
     "name": "stdout",
     "output_type": "stream",
     "text": [
      "Stats for LotShape (General shape of property):\n"
     ]
    },
    {
     "data": {
      "text/html": [
       "<div>\n",
       "<style scoped>\n",
       "    .dataframe tbody tr th:only-of-type {\n",
       "        vertical-align: middle;\n",
       "    }\n",
       "\n",
       "    .dataframe tbody tr th {\n",
       "        vertical-align: top;\n",
       "    }\n",
       "\n",
       "    .dataframe thead th {\n",
       "        text-align: right;\n",
       "    }\n",
       "</style>\n",
       "<table border=\"1\" class=\"dataframe\">\n",
       "  <thead>\n",
       "    <tr style=\"text-align: right;\">\n",
       "      <th></th>\n",
       "      <th>mean</th>\n",
       "      <th>count</th>\n",
       "      <th>proportion</th>\n",
       "      <th>diff</th>\n",
       "      <th>rate</th>\n",
       "    </tr>\n",
       "    <tr>\n",
       "      <th>LotShape</th>\n",
       "      <th></th>\n",
       "      <th></th>\n",
       "      <th></th>\n",
       "      <th></th>\n",
       "      <th></th>\n",
       "    </tr>\n",
       "  </thead>\n",
       "  <tbody>\n",
       "    <tr>\n",
       "      <th>IR1</th>\n",
       "      <td>206,101</td>\n",
       "      <td>484</td>\n",
       "      <td>0.33</td>\n",
       "      <td>25180.0</td>\n",
       "      <td>1.139</td>\n",
       "    </tr>\n",
       "    <tr>\n",
       "      <th>IR2</th>\n",
       "      <td>239,833</td>\n",
       "      <td>41</td>\n",
       "      <td>0.03</td>\n",
       "      <td>58912.0</td>\n",
       "      <td>1.326</td>\n",
       "    </tr>\n",
       "    <tr>\n",
       "      <th>IR3</th>\n",
       "      <td>216,036</td>\n",
       "      <td>10</td>\n",
       "      <td>0.01</td>\n",
       "      <td>35115.0</td>\n",
       "      <td>1.194</td>\n",
       "    </tr>\n",
       "    <tr>\n",
       "      <th>Reg</th>\n",
       "      <td>164,754</td>\n",
       "      <td>925</td>\n",
       "      <td>0.63</td>\n",
       "      <td>-16166.0</td>\n",
       "      <td>0.911</td>\n",
       "    </tr>\n",
       "  </tbody>\n",
       "</table>\n",
       "</div>"
      ],
      "text/plain": [
       "             mean  count  proportion     diff   rate\n",
       "LotShape                                            \n",
       "IR1       206,101    484        0.33  25180.0  1.139\n",
       "IR2       239,833     41        0.03  58912.0  1.326\n",
       "IR3       216,036     10        0.01  35115.0  1.194\n",
       "Reg       164,754    925        0.63 -16166.0  0.911"
      ]
     },
     "metadata": {},
     "output_type": "display_data"
    },
    {
     "name": "stdout",
     "output_type": "stream",
     "text": [
      "Stats for LandContour (Flatness of the property):\n"
     ]
    },
    {
     "data": {
      "text/html": [
       "<div>\n",
       "<style scoped>\n",
       "    .dataframe tbody tr th:only-of-type {\n",
       "        vertical-align: middle;\n",
       "    }\n",
       "\n",
       "    .dataframe tbody tr th {\n",
       "        vertical-align: top;\n",
       "    }\n",
       "\n",
       "    .dataframe thead th {\n",
       "        text-align: right;\n",
       "    }\n",
       "</style>\n",
       "<table border=\"1\" class=\"dataframe\">\n",
       "  <thead>\n",
       "    <tr style=\"text-align: right;\">\n",
       "      <th></th>\n",
       "      <th>mean</th>\n",
       "      <th>count</th>\n",
       "      <th>proportion</th>\n",
       "      <th>diff</th>\n",
       "      <th>rate</th>\n",
       "    </tr>\n",
       "    <tr>\n",
       "      <th>LandContour</th>\n",
       "      <th></th>\n",
       "      <th></th>\n",
       "      <th></th>\n",
       "      <th></th>\n",
       "      <th></th>\n",
       "    </tr>\n",
       "  </thead>\n",
       "  <tbody>\n",
       "    <tr>\n",
       "      <th>Bnk</th>\n",
       "      <td>143,104</td>\n",
       "      <td>63</td>\n",
       "      <td>0.04</td>\n",
       "      <td>-37817.0</td>\n",
       "      <td>0.791</td>\n",
       "    </tr>\n",
       "    <tr>\n",
       "      <th>HLS</th>\n",
       "      <td>231,533</td>\n",
       "      <td>50</td>\n",
       "      <td>0.03</td>\n",
       "      <td>50613.0</td>\n",
       "      <td>1.280</td>\n",
       "    </tr>\n",
       "    <tr>\n",
       "      <th>Low</th>\n",
       "      <td>203,661</td>\n",
       "      <td>36</td>\n",
       "      <td>0.02</td>\n",
       "      <td>22740.0</td>\n",
       "      <td>1.126</td>\n",
       "    </tr>\n",
       "    <tr>\n",
       "      <th>Lvl</th>\n",
       "      <td>180,183</td>\n",
       "      <td>1311</td>\n",
       "      <td>0.90</td>\n",
       "      <td>-737.0</td>\n",
       "      <td>0.996</td>\n",
       "    </tr>\n",
       "  </tbody>\n",
       "</table>\n",
       "</div>"
      ],
      "text/plain": [
       "                mean  count  proportion     diff   rate\n",
       "LandContour                                            \n",
       "Bnk          143,104     63        0.04 -37817.0  0.791\n",
       "HLS          231,533     50        0.03  50613.0  1.280\n",
       "Low          203,661     36        0.02  22740.0  1.126\n",
       "Lvl          180,183   1311        0.90   -737.0  0.996"
      ]
     },
     "metadata": {},
     "output_type": "display_data"
    },
    {
     "name": "stdout",
     "output_type": "stream",
     "text": [
      "Stats for Utilities (Type of utilities available):\n"
     ]
    },
    {
     "data": {
      "text/html": [
       "<div>\n",
       "<style scoped>\n",
       "    .dataframe tbody tr th:only-of-type {\n",
       "        vertical-align: middle;\n",
       "    }\n",
       "\n",
       "    .dataframe tbody tr th {\n",
       "        vertical-align: top;\n",
       "    }\n",
       "\n",
       "    .dataframe thead th {\n",
       "        text-align: right;\n",
       "    }\n",
       "</style>\n",
       "<table border=\"1\" class=\"dataframe\">\n",
       "  <thead>\n",
       "    <tr style=\"text-align: right;\">\n",
       "      <th></th>\n",
       "      <th>mean</th>\n",
       "      <th>count</th>\n",
       "      <th>proportion</th>\n",
       "      <th>diff</th>\n",
       "      <th>rate</th>\n",
       "    </tr>\n",
       "    <tr>\n",
       "      <th>Utilities</th>\n",
       "      <th></th>\n",
       "      <th></th>\n",
       "      <th></th>\n",
       "      <th></th>\n",
       "      <th></th>\n",
       "    </tr>\n",
       "  </thead>\n",
       "  <tbody>\n",
       "    <tr>\n",
       "      <th>AllPub</th>\n",
       "      <td>180,950</td>\n",
       "      <td>1459</td>\n",
       "      <td>1.0</td>\n",
       "      <td>30.0</td>\n",
       "      <td>1.00</td>\n",
       "    </tr>\n",
       "    <tr>\n",
       "      <th>NoSeWa</th>\n",
       "      <td>137,500</td>\n",
       "      <td>1</td>\n",
       "      <td>0.0</td>\n",
       "      <td>-43421.0</td>\n",
       "      <td>0.76</td>\n",
       "    </tr>\n",
       "  </tbody>\n",
       "</table>\n",
       "</div>"
      ],
      "text/plain": [
       "              mean  count  proportion     diff  rate\n",
       "Utilities                                           \n",
       "AllPub     180,950   1459         1.0     30.0  1.00\n",
       "NoSeWa     137,500      1         0.0 -43421.0  0.76"
      ]
     },
     "metadata": {},
     "output_type": "display_data"
    },
    {
     "name": "stdout",
     "output_type": "stream",
     "text": [
      "Stats for LotConfig (Lot configuration):\n"
     ]
    },
    {
     "data": {
      "text/html": [
       "<div>\n",
       "<style scoped>\n",
       "    .dataframe tbody tr th:only-of-type {\n",
       "        vertical-align: middle;\n",
       "    }\n",
       "\n",
       "    .dataframe tbody tr th {\n",
       "        vertical-align: top;\n",
       "    }\n",
       "\n",
       "    .dataframe thead th {\n",
       "        text-align: right;\n",
       "    }\n",
       "</style>\n",
       "<table border=\"1\" class=\"dataframe\">\n",
       "  <thead>\n",
       "    <tr style=\"text-align: right;\">\n",
       "      <th></th>\n",
       "      <th>mean</th>\n",
       "      <th>count</th>\n",
       "      <th>proportion</th>\n",
       "      <th>diff</th>\n",
       "      <th>rate</th>\n",
       "    </tr>\n",
       "    <tr>\n",
       "      <th>LotConfig</th>\n",
       "      <th></th>\n",
       "      <th></th>\n",
       "      <th></th>\n",
       "      <th></th>\n",
       "      <th></th>\n",
       "    </tr>\n",
       "  </thead>\n",
       "  <tbody>\n",
       "    <tr>\n",
       "      <th>Corner</th>\n",
       "      <td>181,623</td>\n",
       "      <td>263</td>\n",
       "      <td>0.18</td>\n",
       "      <td>702.0</td>\n",
       "      <td>1.004</td>\n",
       "    </tr>\n",
       "    <tr>\n",
       "      <th>CulDSac</th>\n",
       "      <td>223,854</td>\n",
       "      <td>94</td>\n",
       "      <td>0.06</td>\n",
       "      <td>42933.0</td>\n",
       "      <td>1.237</td>\n",
       "    </tr>\n",
       "    <tr>\n",
       "      <th>FR2</th>\n",
       "      <td>177,934</td>\n",
       "      <td>47</td>\n",
       "      <td>0.03</td>\n",
       "      <td>-2987.0</td>\n",
       "      <td>0.983</td>\n",
       "    </tr>\n",
       "    <tr>\n",
       "      <th>FR3</th>\n",
       "      <td>208,475</td>\n",
       "      <td>4</td>\n",
       "      <td>0.00</td>\n",
       "      <td>27554.0</td>\n",
       "      <td>1.152</td>\n",
       "    </tr>\n",
       "    <tr>\n",
       "      <th>Inside</th>\n",
       "      <td>176,938</td>\n",
       "      <td>1052</td>\n",
       "      <td>0.72</td>\n",
       "      <td>-3983.0</td>\n",
       "      <td>0.978</td>\n",
       "    </tr>\n",
       "  </tbody>\n",
       "</table>\n",
       "</div>"
      ],
      "text/plain": [
       "              mean  count  proportion     diff   rate\n",
       "LotConfig                                            \n",
       "Corner     181,623    263        0.18    702.0  1.004\n",
       "CulDSac    223,854     94        0.06  42933.0  1.237\n",
       "FR2        177,934     47        0.03  -2987.0  0.983\n",
       "FR3        208,475      4        0.00  27554.0  1.152\n",
       "Inside     176,938   1052        0.72  -3983.0  0.978"
      ]
     },
     "metadata": {},
     "output_type": "display_data"
    },
    {
     "name": "stdout",
     "output_type": "stream",
     "text": [
      "Stats for LandSlope (Slope of property):\n"
     ]
    },
    {
     "data": {
      "text/html": [
       "<div>\n",
       "<style scoped>\n",
       "    .dataframe tbody tr th:only-of-type {\n",
       "        vertical-align: middle;\n",
       "    }\n",
       "\n",
       "    .dataframe tbody tr th {\n",
       "        vertical-align: top;\n",
       "    }\n",
       "\n",
       "    .dataframe thead th {\n",
       "        text-align: right;\n",
       "    }\n",
       "</style>\n",
       "<table border=\"1\" class=\"dataframe\">\n",
       "  <thead>\n",
       "    <tr style=\"text-align: right;\">\n",
       "      <th></th>\n",
       "      <th>mean</th>\n",
       "      <th>count</th>\n",
       "      <th>proportion</th>\n",
       "      <th>diff</th>\n",
       "      <th>rate</th>\n",
       "    </tr>\n",
       "    <tr>\n",
       "      <th>LandSlope</th>\n",
       "      <th></th>\n",
       "      <th></th>\n",
       "      <th></th>\n",
       "      <th></th>\n",
       "      <th></th>\n",
       "    </tr>\n",
       "  </thead>\n",
       "  <tbody>\n",
       "    <tr>\n",
       "      <th>Gtl</th>\n",
       "      <td>179,956</td>\n",
       "      <td>1382</td>\n",
       "      <td>0.95</td>\n",
       "      <td>-964.0</td>\n",
       "      <td>0.995</td>\n",
       "    </tr>\n",
       "    <tr>\n",
       "      <th>Mod</th>\n",
       "      <td>196,734</td>\n",
       "      <td>65</td>\n",
       "      <td>0.04</td>\n",
       "      <td>15813.0</td>\n",
       "      <td>1.087</td>\n",
       "    </tr>\n",
       "    <tr>\n",
       "      <th>Sev</th>\n",
       "      <td>204,379</td>\n",
       "      <td>13</td>\n",
       "      <td>0.01</td>\n",
       "      <td>23458.0</td>\n",
       "      <td>1.130</td>\n",
       "    </tr>\n",
       "  </tbody>\n",
       "</table>\n",
       "</div>"
      ],
      "text/plain": [
       "              mean  count  proportion     diff   rate\n",
       "LandSlope                                            \n",
       "Gtl        179,956   1382        0.95   -964.0  0.995\n",
       "Mod        196,734     65        0.04  15813.0  1.087\n",
       "Sev        204,379     13        0.01  23458.0  1.130"
      ]
     },
     "metadata": {},
     "output_type": "display_data"
    },
    {
     "name": "stdout",
     "output_type": "stream",
     "text": [
      "Stats for Neighborhood (Physical locations within Ames city limits):\n"
     ]
    },
    {
     "data": {
      "text/html": [
       "<div>\n",
       "<style scoped>\n",
       "    .dataframe tbody tr th:only-of-type {\n",
       "        vertical-align: middle;\n",
       "    }\n",
       "\n",
       "    .dataframe tbody tr th {\n",
       "        vertical-align: top;\n",
       "    }\n",
       "\n",
       "    .dataframe thead th {\n",
       "        text-align: right;\n",
       "    }\n",
       "</style>\n",
       "<table border=\"1\" class=\"dataframe\">\n",
       "  <thead>\n",
       "    <tr style=\"text-align: right;\">\n",
       "      <th></th>\n",
       "      <th>mean</th>\n",
       "      <th>count</th>\n",
       "      <th>proportion</th>\n",
       "      <th>diff</th>\n",
       "      <th>rate</th>\n",
       "    </tr>\n",
       "    <tr>\n",
       "      <th>Neighborhood</th>\n",
       "      <th></th>\n",
       "      <th></th>\n",
       "      <th></th>\n",
       "      <th></th>\n",
       "      <th></th>\n",
       "    </tr>\n",
       "  </thead>\n",
       "  <tbody>\n",
       "    <tr>\n",
       "      <th>Blmngtn</th>\n",
       "      <td>194,870</td>\n",
       "      <td>17</td>\n",
       "      <td>0.01</td>\n",
       "      <td>13950.0</td>\n",
       "      <td>1.077</td>\n",
       "    </tr>\n",
       "    <tr>\n",
       "      <th>Blueste</th>\n",
       "      <td>137,500</td>\n",
       "      <td>2</td>\n",
       "      <td>0.00</td>\n",
       "      <td>-43421.0</td>\n",
       "      <td>0.760</td>\n",
       "    </tr>\n",
       "    <tr>\n",
       "      <th>BrDale</th>\n",
       "      <td>104,493</td>\n",
       "      <td>16</td>\n",
       "      <td>0.01</td>\n",
       "      <td>-76427.0</td>\n",
       "      <td>0.578</td>\n",
       "    </tr>\n",
       "    <tr>\n",
       "      <th>BrkSide</th>\n",
       "      <td>124,834</td>\n",
       "      <td>58</td>\n",
       "      <td>0.04</td>\n",
       "      <td>-56087.0</td>\n",
       "      <td>0.690</td>\n",
       "    </tr>\n",
       "    <tr>\n",
       "      <th>ClearCr</th>\n",
       "      <td>212,565</td>\n",
       "      <td>28</td>\n",
       "      <td>0.02</td>\n",
       "      <td>31644.0</td>\n",
       "      <td>1.175</td>\n",
       "    </tr>\n",
       "    <tr>\n",
       "      <th>CollgCr</th>\n",
       "      <td>197,965</td>\n",
       "      <td>150</td>\n",
       "      <td>0.10</td>\n",
       "      <td>17045.0</td>\n",
       "      <td>1.094</td>\n",
       "    </tr>\n",
       "    <tr>\n",
       "      <th>Crawfor</th>\n",
       "      <td>210,624</td>\n",
       "      <td>51</td>\n",
       "      <td>0.03</td>\n",
       "      <td>29704.0</td>\n",
       "      <td>1.164</td>\n",
       "    </tr>\n",
       "    <tr>\n",
       "      <th>Edwards</th>\n",
       "      <td>128,219</td>\n",
       "      <td>100</td>\n",
       "      <td>0.07</td>\n",
       "      <td>-52701.0</td>\n",
       "      <td>0.709</td>\n",
       "    </tr>\n",
       "    <tr>\n",
       "      <th>Gilbert</th>\n",
       "      <td>192,854</td>\n",
       "      <td>79</td>\n",
       "      <td>0.05</td>\n",
       "      <td>11933.0</td>\n",
       "      <td>1.066</td>\n",
       "    </tr>\n",
       "    <tr>\n",
       "      <th>IDOTRR</th>\n",
       "      <td>100,123</td>\n",
       "      <td>37</td>\n",
       "      <td>0.03</td>\n",
       "      <td>-80797.0</td>\n",
       "      <td>0.553</td>\n",
       "    </tr>\n",
       "    <tr>\n",
       "      <th>MeadowV</th>\n",
       "      <td>98,576</td>\n",
       "      <td>17</td>\n",
       "      <td>0.01</td>\n",
       "      <td>-82345.0</td>\n",
       "      <td>0.545</td>\n",
       "    </tr>\n",
       "    <tr>\n",
       "      <th>Mitchel</th>\n",
       "      <td>156,270</td>\n",
       "      <td>49</td>\n",
       "      <td>0.03</td>\n",
       "      <td>-24651.0</td>\n",
       "      <td>0.864</td>\n",
       "    </tr>\n",
       "    <tr>\n",
       "      <th>NAmes</th>\n",
       "      <td>145,847</td>\n",
       "      <td>225</td>\n",
       "      <td>0.15</td>\n",
       "      <td>-35074.0</td>\n",
       "      <td>0.806</td>\n",
       "    </tr>\n",
       "    <tr>\n",
       "      <th>NPkVill</th>\n",
       "      <td>142,694</td>\n",
       "      <td>9</td>\n",
       "      <td>0.01</td>\n",
       "      <td>-38227.0</td>\n",
       "      <td>0.789</td>\n",
       "    </tr>\n",
       "    <tr>\n",
       "      <th>NWAmes</th>\n",
       "      <td>189,050</td>\n",
       "      <td>73</td>\n",
       "      <td>0.05</td>\n",
       "      <td>8129.0</td>\n",
       "      <td>1.045</td>\n",
       "    </tr>\n",
       "    <tr>\n",
       "      <th>NoRidge</th>\n",
       "      <td>335,295</td>\n",
       "      <td>41</td>\n",
       "      <td>0.03</td>\n",
       "      <td>154374.0</td>\n",
       "      <td>1.853</td>\n",
       "    </tr>\n",
       "    <tr>\n",
       "      <th>NridgHt</th>\n",
       "      <td>316,270</td>\n",
       "      <td>77</td>\n",
       "      <td>0.05</td>\n",
       "      <td>135349.0</td>\n",
       "      <td>1.748</td>\n",
       "    </tr>\n",
       "    <tr>\n",
       "      <th>OldTown</th>\n",
       "      <td>128,225</td>\n",
       "      <td>113</td>\n",
       "      <td>0.08</td>\n",
       "      <td>-52696.0</td>\n",
       "      <td>0.709</td>\n",
       "    </tr>\n",
       "    <tr>\n",
       "      <th>SWISU</th>\n",
       "      <td>142,591</td>\n",
       "      <td>25</td>\n",
       "      <td>0.02</td>\n",
       "      <td>-38330.0</td>\n",
       "      <td>0.788</td>\n",
       "    </tr>\n",
       "    <tr>\n",
       "      <th>Sawyer</th>\n",
       "      <td>136,793</td>\n",
       "      <td>74</td>\n",
       "      <td>0.05</td>\n",
       "      <td>-44128.0</td>\n",
       "      <td>0.756</td>\n",
       "    </tr>\n",
       "    <tr>\n",
       "      <th>SawyerW</th>\n",
       "      <td>186,555</td>\n",
       "      <td>59</td>\n",
       "      <td>0.04</td>\n",
       "      <td>5635.0</td>\n",
       "      <td>1.031</td>\n",
       "    </tr>\n",
       "    <tr>\n",
       "      <th>Somerst</th>\n",
       "      <td>225,379</td>\n",
       "      <td>86</td>\n",
       "      <td>0.06</td>\n",
       "      <td>44459.0</td>\n",
       "      <td>1.246</td>\n",
       "    </tr>\n",
       "    <tr>\n",
       "      <th>StoneBr</th>\n",
       "      <td>310,499</td>\n",
       "      <td>25</td>\n",
       "      <td>0.02</td>\n",
       "      <td>129578.0</td>\n",
       "      <td>1.716</td>\n",
       "    </tr>\n",
       "    <tr>\n",
       "      <th>Timber</th>\n",
       "      <td>242,247</td>\n",
       "      <td>38</td>\n",
       "      <td>0.03</td>\n",
       "      <td>61326.0</td>\n",
       "      <td>1.339</td>\n",
       "    </tr>\n",
       "    <tr>\n",
       "      <th>Veenker</th>\n",
       "      <td>238,772</td>\n",
       "      <td>11</td>\n",
       "      <td>0.01</td>\n",
       "      <td>57852.0</td>\n",
       "      <td>1.320</td>\n",
       "    </tr>\n",
       "  </tbody>\n",
       "</table>\n",
       "</div>"
      ],
      "text/plain": [
       "                 mean  count  proportion      diff   rate\n",
       "Neighborhood                                             \n",
       "Blmngtn       194,870     17        0.01   13950.0  1.077\n",
       "Blueste       137,500      2        0.00  -43421.0  0.760\n",
       "BrDale        104,493     16        0.01  -76427.0  0.578\n",
       "BrkSide       124,834     58        0.04  -56087.0  0.690\n",
       "ClearCr       212,565     28        0.02   31644.0  1.175\n",
       "CollgCr       197,965    150        0.10   17045.0  1.094\n",
       "Crawfor       210,624     51        0.03   29704.0  1.164\n",
       "Edwards       128,219    100        0.07  -52701.0  0.709\n",
       "Gilbert       192,854     79        0.05   11933.0  1.066\n",
       "IDOTRR        100,123     37        0.03  -80797.0  0.553\n",
       "MeadowV        98,576     17        0.01  -82345.0  0.545\n",
       "Mitchel       156,270     49        0.03  -24651.0  0.864\n",
       "NAmes         145,847    225        0.15  -35074.0  0.806\n",
       "NPkVill       142,694      9        0.01  -38227.0  0.789\n",
       "NWAmes        189,050     73        0.05    8129.0  1.045\n",
       "NoRidge       335,295     41        0.03  154374.0  1.853\n",
       "NridgHt       316,270     77        0.05  135349.0  1.748\n",
       "OldTown       128,225    113        0.08  -52696.0  0.709\n",
       "SWISU         142,591     25        0.02  -38330.0  0.788\n",
       "Sawyer        136,793     74        0.05  -44128.0  0.756\n",
       "SawyerW       186,555     59        0.04    5635.0  1.031\n",
       "Somerst       225,379     86        0.06   44459.0  1.246\n",
       "StoneBr       310,499     25        0.02  129578.0  1.716\n",
       "Timber        242,247     38        0.03   61326.0  1.339\n",
       "Veenker       238,772     11        0.01   57852.0  1.320"
      ]
     },
     "metadata": {},
     "output_type": "display_data"
    },
    {
     "name": "stdout",
     "output_type": "stream",
     "text": [
      "Stats for Condition1 (Proximity to various conditions):\n"
     ]
    },
    {
     "data": {
      "text/html": [
       "<div>\n",
       "<style scoped>\n",
       "    .dataframe tbody tr th:only-of-type {\n",
       "        vertical-align: middle;\n",
       "    }\n",
       "\n",
       "    .dataframe tbody tr th {\n",
       "        vertical-align: top;\n",
       "    }\n",
       "\n",
       "    .dataframe thead th {\n",
       "        text-align: right;\n",
       "    }\n",
       "</style>\n",
       "<table border=\"1\" class=\"dataframe\">\n",
       "  <thead>\n",
       "    <tr style=\"text-align: right;\">\n",
       "      <th></th>\n",
       "      <th>mean</th>\n",
       "      <th>count</th>\n",
       "      <th>proportion</th>\n",
       "      <th>diff</th>\n",
       "      <th>rate</th>\n",
       "    </tr>\n",
       "    <tr>\n",
       "      <th>Condition1</th>\n",
       "      <th></th>\n",
       "      <th></th>\n",
       "      <th></th>\n",
       "      <th></th>\n",
       "      <th></th>\n",
       "    </tr>\n",
       "  </thead>\n",
       "  <tbody>\n",
       "    <tr>\n",
       "      <th>Artery</th>\n",
       "      <td>135,091</td>\n",
       "      <td>48</td>\n",
       "      <td>0.03</td>\n",
       "      <td>-45830.0</td>\n",
       "      <td>0.747</td>\n",
       "    </tr>\n",
       "    <tr>\n",
       "      <th>Feedr</th>\n",
       "      <td>142,475</td>\n",
       "      <td>81</td>\n",
       "      <td>0.06</td>\n",
       "      <td>-38446.0</td>\n",
       "      <td>0.788</td>\n",
       "    </tr>\n",
       "    <tr>\n",
       "      <th>Norm</th>\n",
       "      <td>184,495</td>\n",
       "      <td>1260</td>\n",
       "      <td>0.86</td>\n",
       "      <td>3574.0</td>\n",
       "      <td>1.020</td>\n",
       "    </tr>\n",
       "    <tr>\n",
       "      <th>PosA</th>\n",
       "      <td>225,875</td>\n",
       "      <td>8</td>\n",
       "      <td>0.01</td>\n",
       "      <td>44954.0</td>\n",
       "      <td>1.248</td>\n",
       "    </tr>\n",
       "    <tr>\n",
       "      <th>PosN</th>\n",
       "      <td>215,184</td>\n",
       "      <td>19</td>\n",
       "      <td>0.01</td>\n",
       "      <td>34263.0</td>\n",
       "      <td>1.189</td>\n",
       "    </tr>\n",
       "    <tr>\n",
       "      <th>RRAe</th>\n",
       "      <td>138,400</td>\n",
       "      <td>11</td>\n",
       "      <td>0.01</td>\n",
       "      <td>-42521.0</td>\n",
       "      <td>0.765</td>\n",
       "    </tr>\n",
       "    <tr>\n",
       "      <th>RRAn</th>\n",
       "      <td>184,396</td>\n",
       "      <td>26</td>\n",
       "      <td>0.02</td>\n",
       "      <td>3475.0</td>\n",
       "      <td>1.019</td>\n",
       "    </tr>\n",
       "    <tr>\n",
       "      <th>RRNe</th>\n",
       "      <td>190,750</td>\n",
       "      <td>2</td>\n",
       "      <td>0.00</td>\n",
       "      <td>9829.0</td>\n",
       "      <td>1.054</td>\n",
       "    </tr>\n",
       "    <tr>\n",
       "      <th>RRNn</th>\n",
       "      <td>212,400</td>\n",
       "      <td>5</td>\n",
       "      <td>0.00</td>\n",
       "      <td>31479.0</td>\n",
       "      <td>1.174</td>\n",
       "    </tr>\n",
       "  </tbody>\n",
       "</table>\n",
       "</div>"
      ],
      "text/plain": [
       "               mean  count  proportion     diff   rate\n",
       "Condition1                                            \n",
       "Artery      135,091     48        0.03 -45830.0  0.747\n",
       "Feedr       142,475     81        0.06 -38446.0  0.788\n",
       "Norm        184,495   1260        0.86   3574.0  1.020\n",
       "PosA        225,875      8        0.01  44954.0  1.248\n",
       "PosN        215,184     19        0.01  34263.0  1.189\n",
       "RRAe        138,400     11        0.01 -42521.0  0.765\n",
       "RRAn        184,396     26        0.02   3475.0  1.019\n",
       "RRNe        190,750      2        0.00   9829.0  1.054\n",
       "RRNn        212,400      5        0.00  31479.0  1.174"
      ]
     },
     "metadata": {},
     "output_type": "display_data"
    },
    {
     "name": "stdout",
     "output_type": "stream",
     "text": [
      "Stats for Condition2 (Proximity to various conditions (if more than one is present)):\n"
     ]
    },
    {
     "data": {
      "text/html": [
       "<div>\n",
       "<style scoped>\n",
       "    .dataframe tbody tr th:only-of-type {\n",
       "        vertical-align: middle;\n",
       "    }\n",
       "\n",
       "    .dataframe tbody tr th {\n",
       "        vertical-align: top;\n",
       "    }\n",
       "\n",
       "    .dataframe thead th {\n",
       "        text-align: right;\n",
       "    }\n",
       "</style>\n",
       "<table border=\"1\" class=\"dataframe\">\n",
       "  <thead>\n",
       "    <tr style=\"text-align: right;\">\n",
       "      <th></th>\n",
       "      <th>mean</th>\n",
       "      <th>count</th>\n",
       "      <th>proportion</th>\n",
       "      <th>diff</th>\n",
       "      <th>rate</th>\n",
       "    </tr>\n",
       "    <tr>\n",
       "      <th>Condition2</th>\n",
       "      <th></th>\n",
       "      <th></th>\n",
       "      <th></th>\n",
       "      <th></th>\n",
       "      <th></th>\n",
       "    </tr>\n",
       "  </thead>\n",
       "  <tbody>\n",
       "    <tr>\n",
       "      <th>Artery</th>\n",
       "      <td>106,500</td>\n",
       "      <td>2</td>\n",
       "      <td>0.00</td>\n",
       "      <td>-74421.0</td>\n",
       "      <td>0.589</td>\n",
       "    </tr>\n",
       "    <tr>\n",
       "      <th>Feedr</th>\n",
       "      <td>121,166</td>\n",
       "      <td>6</td>\n",
       "      <td>0.00</td>\n",
       "      <td>-59755.0</td>\n",
       "      <td>0.670</td>\n",
       "    </tr>\n",
       "    <tr>\n",
       "      <th>Norm</th>\n",
       "      <td>181,169</td>\n",
       "      <td>1445</td>\n",
       "      <td>0.99</td>\n",
       "      <td>248.0</td>\n",
       "      <td>1.001</td>\n",
       "    </tr>\n",
       "    <tr>\n",
       "      <th>PosA</th>\n",
       "      <td>325,000</td>\n",
       "      <td>1</td>\n",
       "      <td>0.00</td>\n",
       "      <td>144079.0</td>\n",
       "      <td>1.796</td>\n",
       "    </tr>\n",
       "    <tr>\n",
       "      <th>PosN</th>\n",
       "      <td>284,875</td>\n",
       "      <td>2</td>\n",
       "      <td>0.00</td>\n",
       "      <td>103954.0</td>\n",
       "      <td>1.575</td>\n",
       "    </tr>\n",
       "    <tr>\n",
       "      <th>RRAe</th>\n",
       "      <td>190,000</td>\n",
       "      <td>1</td>\n",
       "      <td>0.00</td>\n",
       "      <td>9079.0</td>\n",
       "      <td>1.050</td>\n",
       "    </tr>\n",
       "    <tr>\n",
       "      <th>RRAn</th>\n",
       "      <td>136,905</td>\n",
       "      <td>1</td>\n",
       "      <td>0.00</td>\n",
       "      <td>-44016.0</td>\n",
       "      <td>0.757</td>\n",
       "    </tr>\n",
       "    <tr>\n",
       "      <th>RRNn</th>\n",
       "      <td>96,750</td>\n",
       "      <td>2</td>\n",
       "      <td>0.00</td>\n",
       "      <td>-84171.0</td>\n",
       "      <td>0.535</td>\n",
       "    </tr>\n",
       "  </tbody>\n",
       "</table>\n",
       "</div>"
      ],
      "text/plain": [
       "               mean  count  proportion      diff   rate\n",
       "Condition2                                             \n",
       "Artery      106,500      2        0.00  -74421.0  0.589\n",
       "Feedr       121,166      6        0.00  -59755.0  0.670\n",
       "Norm        181,169   1445        0.99     248.0  1.001\n",
       "PosA        325,000      1        0.00  144079.0  1.796\n",
       "PosN        284,875      2        0.00  103954.0  1.575\n",
       "RRAe        190,000      1        0.00    9079.0  1.050\n",
       "RRAn        136,905      1        0.00  -44016.0  0.757\n",
       "RRNn         96,750      2        0.00  -84171.0  0.535"
      ]
     },
     "metadata": {},
     "output_type": "display_data"
    },
    {
     "name": "stdout",
     "output_type": "stream",
     "text": [
      "Stats for BldgType (Type of dwelling):\n"
     ]
    },
    {
     "data": {
      "text/html": [
       "<div>\n",
       "<style scoped>\n",
       "    .dataframe tbody tr th:only-of-type {\n",
       "        vertical-align: middle;\n",
       "    }\n",
       "\n",
       "    .dataframe tbody tr th {\n",
       "        vertical-align: top;\n",
       "    }\n",
       "\n",
       "    .dataframe thead th {\n",
       "        text-align: right;\n",
       "    }\n",
       "</style>\n",
       "<table border=\"1\" class=\"dataframe\">\n",
       "  <thead>\n",
       "    <tr style=\"text-align: right;\">\n",
       "      <th></th>\n",
       "      <th>mean</th>\n",
       "      <th>count</th>\n",
       "      <th>proportion</th>\n",
       "      <th>diff</th>\n",
       "      <th>rate</th>\n",
       "    </tr>\n",
       "    <tr>\n",
       "      <th>BldgType</th>\n",
       "      <th></th>\n",
       "      <th></th>\n",
       "      <th></th>\n",
       "      <th></th>\n",
       "      <th></th>\n",
       "    </tr>\n",
       "  </thead>\n",
       "  <tbody>\n",
       "    <tr>\n",
       "      <th>1Fam</th>\n",
       "      <td>185,763</td>\n",
       "      <td>1220</td>\n",
       "      <td>0.84</td>\n",
       "      <td>4843.0</td>\n",
       "      <td>1.027</td>\n",
       "    </tr>\n",
       "    <tr>\n",
       "      <th>2fmCon</th>\n",
       "      <td>128,432</td>\n",
       "      <td>31</td>\n",
       "      <td>0.02</td>\n",
       "      <td>-52489.0</td>\n",
       "      <td>0.710</td>\n",
       "    </tr>\n",
       "    <tr>\n",
       "      <th>Duplex</th>\n",
       "      <td>133,541</td>\n",
       "      <td>52</td>\n",
       "      <td>0.04</td>\n",
       "      <td>-47380.0</td>\n",
       "      <td>0.738</td>\n",
       "    </tr>\n",
       "    <tr>\n",
       "      <th>Twnhs</th>\n",
       "      <td>135,911</td>\n",
       "      <td>43</td>\n",
       "      <td>0.03</td>\n",
       "      <td>-45010.0</td>\n",
       "      <td>0.751</td>\n",
       "    </tr>\n",
       "    <tr>\n",
       "      <th>TwnhsE</th>\n",
       "      <td>181,959</td>\n",
       "      <td>114</td>\n",
       "      <td>0.08</td>\n",
       "      <td>1038.0</td>\n",
       "      <td>1.006</td>\n",
       "    </tr>\n",
       "  </tbody>\n",
       "</table>\n",
       "</div>"
      ],
      "text/plain": [
       "             mean  count  proportion     diff   rate\n",
       "BldgType                                            \n",
       "1Fam      185,763   1220        0.84   4843.0  1.027\n",
       "2fmCon    128,432     31        0.02 -52489.0  0.710\n",
       "Duplex    133,541     52        0.04 -47380.0  0.738\n",
       "Twnhs     135,911     43        0.03 -45010.0  0.751\n",
       "TwnhsE    181,959    114        0.08   1038.0  1.006"
      ]
     },
     "metadata": {},
     "output_type": "display_data"
    },
    {
     "name": "stdout",
     "output_type": "stream",
     "text": [
      "Stats for HouseStyle (Style of dwelling):\n"
     ]
    },
    {
     "data": {
      "text/html": [
       "<div>\n",
       "<style scoped>\n",
       "    .dataframe tbody tr th:only-of-type {\n",
       "        vertical-align: middle;\n",
       "    }\n",
       "\n",
       "    .dataframe tbody tr th {\n",
       "        vertical-align: top;\n",
       "    }\n",
       "\n",
       "    .dataframe thead th {\n",
       "        text-align: right;\n",
       "    }\n",
       "</style>\n",
       "<table border=\"1\" class=\"dataframe\">\n",
       "  <thead>\n",
       "    <tr style=\"text-align: right;\">\n",
       "      <th></th>\n",
       "      <th>mean</th>\n",
       "      <th>count</th>\n",
       "      <th>proportion</th>\n",
       "      <th>diff</th>\n",
       "      <th>rate</th>\n",
       "    </tr>\n",
       "    <tr>\n",
       "      <th>HouseStyle</th>\n",
       "      <th></th>\n",
       "      <th></th>\n",
       "      <th></th>\n",
       "      <th></th>\n",
       "      <th></th>\n",
       "    </tr>\n",
       "  </thead>\n",
       "  <tbody>\n",
       "    <tr>\n",
       "      <th>1.5Fin</th>\n",
       "      <td>143,116</td>\n",
       "      <td>154</td>\n",
       "      <td>0.11</td>\n",
       "      <td>-37804.0</td>\n",
       "      <td>0.791</td>\n",
       "    </tr>\n",
       "    <tr>\n",
       "      <th>1.5Unf</th>\n",
       "      <td>110,150</td>\n",
       "      <td>14</td>\n",
       "      <td>0.01</td>\n",
       "      <td>-70771.0</td>\n",
       "      <td>0.609</td>\n",
       "    </tr>\n",
       "    <tr>\n",
       "      <th>1Story</th>\n",
       "      <td>175,985</td>\n",
       "      <td>726</td>\n",
       "      <td>0.50</td>\n",
       "      <td>-4936.0</td>\n",
       "      <td>0.973</td>\n",
       "    </tr>\n",
       "    <tr>\n",
       "      <th>2.5Fin</th>\n",
       "      <td>220,000</td>\n",
       "      <td>8</td>\n",
       "      <td>0.01</td>\n",
       "      <td>39079.0</td>\n",
       "      <td>1.216</td>\n",
       "    </tr>\n",
       "    <tr>\n",
       "      <th>2.5Unf</th>\n",
       "      <td>157,354</td>\n",
       "      <td>11</td>\n",
       "      <td>0.01</td>\n",
       "      <td>-23567.0</td>\n",
       "      <td>0.870</td>\n",
       "    </tr>\n",
       "    <tr>\n",
       "      <th>2Story</th>\n",
       "      <td>210,051</td>\n",
       "      <td>445</td>\n",
       "      <td>0.30</td>\n",
       "      <td>29131.0</td>\n",
       "      <td>1.161</td>\n",
       "    </tr>\n",
       "    <tr>\n",
       "      <th>SFoyer</th>\n",
       "      <td>135,074</td>\n",
       "      <td>37</td>\n",
       "      <td>0.03</td>\n",
       "      <td>-45847.0</td>\n",
       "      <td>0.747</td>\n",
       "    </tr>\n",
       "    <tr>\n",
       "      <th>SLvl</th>\n",
       "      <td>166,703</td>\n",
       "      <td>65</td>\n",
       "      <td>0.04</td>\n",
       "      <td>-14218.0</td>\n",
       "      <td>0.921</td>\n",
       "    </tr>\n",
       "  </tbody>\n",
       "</table>\n",
       "</div>"
      ],
      "text/plain": [
       "               mean  count  proportion     diff   rate\n",
       "HouseStyle                                            \n",
       "1.5Fin      143,116    154        0.11 -37804.0  0.791\n",
       "1.5Unf      110,150     14        0.01 -70771.0  0.609\n",
       "1Story      175,985    726        0.50  -4936.0  0.973\n",
       "2.5Fin      220,000      8        0.01  39079.0  1.216\n",
       "2.5Unf      157,354     11        0.01 -23567.0  0.870\n",
       "2Story      210,051    445        0.30  29131.0  1.161\n",
       "SFoyer      135,074     37        0.03 -45847.0  0.747\n",
       "SLvl        166,703     65        0.04 -14218.0  0.921"
      ]
     },
     "metadata": {},
     "output_type": "display_data"
    },
    {
     "name": "stdout",
     "output_type": "stream",
     "text": [
      "Stats for RoofStyle (Type of roof):\n"
     ]
    },
    {
     "data": {
      "text/html": [
       "<div>\n",
       "<style scoped>\n",
       "    .dataframe tbody tr th:only-of-type {\n",
       "        vertical-align: middle;\n",
       "    }\n",
       "\n",
       "    .dataframe tbody tr th {\n",
       "        vertical-align: top;\n",
       "    }\n",
       "\n",
       "    .dataframe thead th {\n",
       "        text-align: right;\n",
       "    }\n",
       "</style>\n",
       "<table border=\"1\" class=\"dataframe\">\n",
       "  <thead>\n",
       "    <tr style=\"text-align: right;\">\n",
       "      <th></th>\n",
       "      <th>mean</th>\n",
       "      <th>count</th>\n",
       "      <th>proportion</th>\n",
       "      <th>diff</th>\n",
       "      <th>rate</th>\n",
       "    </tr>\n",
       "    <tr>\n",
       "      <th>RoofStyle</th>\n",
       "      <th></th>\n",
       "      <th></th>\n",
       "      <th></th>\n",
       "      <th></th>\n",
       "      <th></th>\n",
       "    </tr>\n",
       "  </thead>\n",
       "  <tbody>\n",
       "    <tr>\n",
       "      <th>Flat</th>\n",
       "      <td>194,690</td>\n",
       "      <td>13</td>\n",
       "      <td>0.01</td>\n",
       "      <td>13769.0</td>\n",
       "      <td>1.076</td>\n",
       "    </tr>\n",
       "    <tr>\n",
       "      <th>Gable</th>\n",
       "      <td>171,483</td>\n",
       "      <td>1141</td>\n",
       "      <td>0.78</td>\n",
       "      <td>-9437.0</td>\n",
       "      <td>0.948</td>\n",
       "    </tr>\n",
       "    <tr>\n",
       "      <th>Gambrel</th>\n",
       "      <td>148,909</td>\n",
       "      <td>11</td>\n",
       "      <td>0.01</td>\n",
       "      <td>-32012.0</td>\n",
       "      <td>0.823</td>\n",
       "    </tr>\n",
       "    <tr>\n",
       "      <th>Hip</th>\n",
       "      <td>218,876</td>\n",
       "      <td>286</td>\n",
       "      <td>0.20</td>\n",
       "      <td>37956.0</td>\n",
       "      <td>1.210</td>\n",
       "    </tr>\n",
       "    <tr>\n",
       "      <th>Mansard</th>\n",
       "      <td>180,568</td>\n",
       "      <td>7</td>\n",
       "      <td>0.00</td>\n",
       "      <td>-353.0</td>\n",
       "      <td>0.998</td>\n",
       "    </tr>\n",
       "    <tr>\n",
       "      <th>Shed</th>\n",
       "      <td>225,000</td>\n",
       "      <td>2</td>\n",
       "      <td>0.00</td>\n",
       "      <td>44079.0</td>\n",
       "      <td>1.244</td>\n",
       "    </tr>\n",
       "  </tbody>\n",
       "</table>\n",
       "</div>"
      ],
      "text/plain": [
       "              mean  count  proportion     diff   rate\n",
       "RoofStyle                                            \n",
       "Flat       194,690     13        0.01  13769.0  1.076\n",
       "Gable      171,483   1141        0.78  -9437.0  0.948\n",
       "Gambrel    148,909     11        0.01 -32012.0  0.823\n",
       "Hip        218,876    286        0.20  37956.0  1.210\n",
       "Mansard    180,568      7        0.00   -353.0  0.998\n",
       "Shed       225,000      2        0.00  44079.0  1.244"
      ]
     },
     "metadata": {},
     "output_type": "display_data"
    },
    {
     "name": "stdout",
     "output_type": "stream",
     "text": [
      "Stats for RoofMatl (Roof material):\n"
     ]
    },
    {
     "data": {
      "text/html": [
       "<div>\n",
       "<style scoped>\n",
       "    .dataframe tbody tr th:only-of-type {\n",
       "        vertical-align: middle;\n",
       "    }\n",
       "\n",
       "    .dataframe tbody tr th {\n",
       "        vertical-align: top;\n",
       "    }\n",
       "\n",
       "    .dataframe thead th {\n",
       "        text-align: right;\n",
       "    }\n",
       "</style>\n",
       "<table border=\"1\" class=\"dataframe\">\n",
       "  <thead>\n",
       "    <tr style=\"text-align: right;\">\n",
       "      <th></th>\n",
       "      <th>mean</th>\n",
       "      <th>count</th>\n",
       "      <th>proportion</th>\n",
       "      <th>diff</th>\n",
       "      <th>rate</th>\n",
       "    </tr>\n",
       "    <tr>\n",
       "      <th>RoofMatl</th>\n",
       "      <th></th>\n",
       "      <th></th>\n",
       "      <th></th>\n",
       "      <th></th>\n",
       "      <th></th>\n",
       "    </tr>\n",
       "  </thead>\n",
       "  <tbody>\n",
       "    <tr>\n",
       "      <th>ClyTile</th>\n",
       "      <td>160,000</td>\n",
       "      <td>1</td>\n",
       "      <td>0.00</td>\n",
       "      <td>-20921.0</td>\n",
       "      <td>0.884</td>\n",
       "    </tr>\n",
       "    <tr>\n",
       "      <th>CompShg</th>\n",
       "      <td>179,803</td>\n",
       "      <td>1434</td>\n",
       "      <td>0.98</td>\n",
       "      <td>-1118.0</td>\n",
       "      <td>0.994</td>\n",
       "    </tr>\n",
       "    <tr>\n",
       "      <th>Membran</th>\n",
       "      <td>241,500</td>\n",
       "      <td>1</td>\n",
       "      <td>0.00</td>\n",
       "      <td>60579.0</td>\n",
       "      <td>1.335</td>\n",
       "    </tr>\n",
       "    <tr>\n",
       "      <th>Metal</th>\n",
       "      <td>180,000</td>\n",
       "      <td>1</td>\n",
       "      <td>0.00</td>\n",
       "      <td>-921.0</td>\n",
       "      <td>0.995</td>\n",
       "    </tr>\n",
       "    <tr>\n",
       "      <th>Roll</th>\n",
       "      <td>137,000</td>\n",
       "      <td>1</td>\n",
       "      <td>0.00</td>\n",
       "      <td>-43921.0</td>\n",
       "      <td>0.757</td>\n",
       "    </tr>\n",
       "    <tr>\n",
       "      <th>Tar&amp;Grv</th>\n",
       "      <td>185,406</td>\n",
       "      <td>11</td>\n",
       "      <td>0.01</td>\n",
       "      <td>4485.0</td>\n",
       "      <td>1.025</td>\n",
       "    </tr>\n",
       "    <tr>\n",
       "      <th>WdShake</th>\n",
       "      <td>241,400</td>\n",
       "      <td>5</td>\n",
       "      <td>0.00</td>\n",
       "      <td>60479.0</td>\n",
       "      <td>1.334</td>\n",
       "    </tr>\n",
       "    <tr>\n",
       "      <th>WdShngl</th>\n",
       "      <td>390,250</td>\n",
       "      <td>6</td>\n",
       "      <td>0.00</td>\n",
       "      <td>209329.0</td>\n",
       "      <td>2.157</td>\n",
       "    </tr>\n",
       "  </tbody>\n",
       "</table>\n",
       "</div>"
      ],
      "text/plain": [
       "             mean  count  proportion      diff   rate\n",
       "RoofMatl                                             \n",
       "ClyTile   160,000      1        0.00  -20921.0  0.884\n",
       "CompShg   179,803   1434        0.98   -1118.0  0.994\n",
       "Membran   241,500      1        0.00   60579.0  1.335\n",
       "Metal     180,000      1        0.00    -921.0  0.995\n",
       "Roll      137,000      1        0.00  -43921.0  0.757\n",
       "Tar&Grv   185,406     11        0.01    4485.0  1.025\n",
       "WdShake   241,400      5        0.00   60479.0  1.334\n",
       "WdShngl   390,250      6        0.00  209329.0  2.157"
      ]
     },
     "metadata": {},
     "output_type": "display_data"
    },
    {
     "name": "stdout",
     "output_type": "stream",
     "text": [
      "Stats for Exterior1st (Exterior covering on house):\n"
     ]
    },
    {
     "data": {
      "text/html": [
       "<div>\n",
       "<style scoped>\n",
       "    .dataframe tbody tr th:only-of-type {\n",
       "        vertical-align: middle;\n",
       "    }\n",
       "\n",
       "    .dataframe tbody tr th {\n",
       "        vertical-align: top;\n",
       "    }\n",
       "\n",
       "    .dataframe thead th {\n",
       "        text-align: right;\n",
       "    }\n",
       "</style>\n",
       "<table border=\"1\" class=\"dataframe\">\n",
       "  <thead>\n",
       "    <tr style=\"text-align: right;\">\n",
       "      <th></th>\n",
       "      <th>mean</th>\n",
       "      <th>count</th>\n",
       "      <th>proportion</th>\n",
       "      <th>diff</th>\n",
       "      <th>rate</th>\n",
       "    </tr>\n",
       "    <tr>\n",
       "      <th>Exterior1st</th>\n",
       "      <th></th>\n",
       "      <th></th>\n",
       "      <th></th>\n",
       "      <th></th>\n",
       "      <th></th>\n",
       "    </tr>\n",
       "  </thead>\n",
       "  <tbody>\n",
       "    <tr>\n",
       "      <th>AsbShng</th>\n",
       "      <td>107,385</td>\n",
       "      <td>20</td>\n",
       "      <td>0.01</td>\n",
       "      <td>-73536.0</td>\n",
       "      <td>0.594</td>\n",
       "    </tr>\n",
       "    <tr>\n",
       "      <th>AsphShn</th>\n",
       "      <td>100,000</td>\n",
       "      <td>1</td>\n",
       "      <td>0.00</td>\n",
       "      <td>-80921.0</td>\n",
       "      <td>0.553</td>\n",
       "    </tr>\n",
       "    <tr>\n",
       "      <th>BrkComm</th>\n",
       "      <td>71,000</td>\n",
       "      <td>2</td>\n",
       "      <td>0.00</td>\n",
       "      <td>-109921.0</td>\n",
       "      <td>0.392</td>\n",
       "    </tr>\n",
       "    <tr>\n",
       "      <th>BrkFace</th>\n",
       "      <td>194,573</td>\n",
       "      <td>50</td>\n",
       "      <td>0.03</td>\n",
       "      <td>13652.0</td>\n",
       "      <td>1.075</td>\n",
       "    </tr>\n",
       "    <tr>\n",
       "      <th>CBlock</th>\n",
       "      <td>105,000</td>\n",
       "      <td>1</td>\n",
       "      <td>0.00</td>\n",
       "      <td>-75921.0</td>\n",
       "      <td>0.580</td>\n",
       "    </tr>\n",
       "    <tr>\n",
       "      <th>CemntBd</th>\n",
       "      <td>231,690</td>\n",
       "      <td>61</td>\n",
       "      <td>0.04</td>\n",
       "      <td>50769.0</td>\n",
       "      <td>1.281</td>\n",
       "    </tr>\n",
       "    <tr>\n",
       "      <th>HdBoard</th>\n",
       "      <td>163,077</td>\n",
       "      <td>222</td>\n",
       "      <td>0.15</td>\n",
       "      <td>-17844.0</td>\n",
       "      <td>0.901</td>\n",
       "    </tr>\n",
       "    <tr>\n",
       "      <th>ImStucc</th>\n",
       "      <td>262,000</td>\n",
       "      <td>1</td>\n",
       "      <td>0.00</td>\n",
       "      <td>81079.0</td>\n",
       "      <td>1.448</td>\n",
       "    </tr>\n",
       "    <tr>\n",
       "      <th>MetalSd</th>\n",
       "      <td>149,422</td>\n",
       "      <td>220</td>\n",
       "      <td>0.15</td>\n",
       "      <td>-31499.0</td>\n",
       "      <td>0.826</td>\n",
       "    </tr>\n",
       "    <tr>\n",
       "      <th>Plywood</th>\n",
       "      <td>175,942</td>\n",
       "      <td>108</td>\n",
       "      <td>0.07</td>\n",
       "      <td>-4979.0</td>\n",
       "      <td>0.972</td>\n",
       "    </tr>\n",
       "    <tr>\n",
       "      <th>Stone</th>\n",
       "      <td>258,500</td>\n",
       "      <td>2</td>\n",
       "      <td>0.00</td>\n",
       "      <td>77579.0</td>\n",
       "      <td>1.429</td>\n",
       "    </tr>\n",
       "    <tr>\n",
       "      <th>Stucco</th>\n",
       "      <td>162,990</td>\n",
       "      <td>25</td>\n",
       "      <td>0.02</td>\n",
       "      <td>-17931.0</td>\n",
       "      <td>0.901</td>\n",
       "    </tr>\n",
       "    <tr>\n",
       "      <th>VinylSd</th>\n",
       "      <td>213,732</td>\n",
       "      <td>515</td>\n",
       "      <td>0.35</td>\n",
       "      <td>32812.0</td>\n",
       "      <td>1.181</td>\n",
       "    </tr>\n",
       "    <tr>\n",
       "      <th>Wd Sdng</th>\n",
       "      <td>149,841</td>\n",
       "      <td>206</td>\n",
       "      <td>0.14</td>\n",
       "      <td>-31080.0</td>\n",
       "      <td>0.828</td>\n",
       "    </tr>\n",
       "    <tr>\n",
       "      <th>WdShing</th>\n",
       "      <td>150,655</td>\n",
       "      <td>26</td>\n",
       "      <td>0.02</td>\n",
       "      <td>-30266.0</td>\n",
       "      <td>0.833</td>\n",
       "    </tr>\n",
       "  </tbody>\n",
       "</table>\n",
       "</div>"
      ],
      "text/plain": [
       "                mean  count  proportion      diff   rate\n",
       "Exterior1st                                             \n",
       "AsbShng      107,385     20        0.01  -73536.0  0.594\n",
       "AsphShn      100,000      1        0.00  -80921.0  0.553\n",
       "BrkComm       71,000      2        0.00 -109921.0  0.392\n",
       "BrkFace      194,573     50        0.03   13652.0  1.075\n",
       "CBlock       105,000      1        0.00  -75921.0  0.580\n",
       "CemntBd      231,690     61        0.04   50769.0  1.281\n",
       "HdBoard      163,077    222        0.15  -17844.0  0.901\n",
       "ImStucc      262,000      1        0.00   81079.0  1.448\n",
       "MetalSd      149,422    220        0.15  -31499.0  0.826\n",
       "Plywood      175,942    108        0.07   -4979.0  0.972\n",
       "Stone        258,500      2        0.00   77579.0  1.429\n",
       "Stucco       162,990     25        0.02  -17931.0  0.901\n",
       "VinylSd      213,732    515        0.35   32812.0  1.181\n",
       "Wd Sdng      149,841    206        0.14  -31080.0  0.828\n",
       "WdShing      150,655     26        0.02  -30266.0  0.833"
      ]
     },
     "metadata": {},
     "output_type": "display_data"
    },
    {
     "name": "stdout",
     "output_type": "stream",
     "text": [
      "Stats for Exterior2nd (Exterior covering on house (if more than one material)):\n"
     ]
    },
    {
     "data": {
      "text/html": [
       "<div>\n",
       "<style scoped>\n",
       "    .dataframe tbody tr th:only-of-type {\n",
       "        vertical-align: middle;\n",
       "    }\n",
       "\n",
       "    .dataframe tbody tr th {\n",
       "        vertical-align: top;\n",
       "    }\n",
       "\n",
       "    .dataframe thead th {\n",
       "        text-align: right;\n",
       "    }\n",
       "</style>\n",
       "<table border=\"1\" class=\"dataframe\">\n",
       "  <thead>\n",
       "    <tr style=\"text-align: right;\">\n",
       "      <th></th>\n",
       "      <th>mean</th>\n",
       "      <th>count</th>\n",
       "      <th>proportion</th>\n",
       "      <th>diff</th>\n",
       "      <th>rate</th>\n",
       "    </tr>\n",
       "    <tr>\n",
       "      <th>Exterior2nd</th>\n",
       "      <th></th>\n",
       "      <th></th>\n",
       "      <th></th>\n",
       "      <th></th>\n",
       "      <th></th>\n",
       "    </tr>\n",
       "  </thead>\n",
       "  <tbody>\n",
       "    <tr>\n",
       "      <th>AsbShng</th>\n",
       "      <td>114,060</td>\n",
       "      <td>20</td>\n",
       "      <td>0.01</td>\n",
       "      <td>-66861.0</td>\n",
       "      <td>0.630</td>\n",
       "    </tr>\n",
       "    <tr>\n",
       "      <th>AsphShn</th>\n",
       "      <td>138,000</td>\n",
       "      <td>3</td>\n",
       "      <td>0.00</td>\n",
       "      <td>-42921.0</td>\n",
       "      <td>0.763</td>\n",
       "    </tr>\n",
       "    <tr>\n",
       "      <th>Brk Cmn</th>\n",
       "      <td>126,714</td>\n",
       "      <td>7</td>\n",
       "      <td>0.00</td>\n",
       "      <td>-54207.0</td>\n",
       "      <td>0.700</td>\n",
       "    </tr>\n",
       "    <tr>\n",
       "      <th>BrkFace</th>\n",
       "      <td>195,818</td>\n",
       "      <td>25</td>\n",
       "      <td>0.02</td>\n",
       "      <td>14897.0</td>\n",
       "      <td>1.082</td>\n",
       "    </tr>\n",
       "    <tr>\n",
       "      <th>CBlock</th>\n",
       "      <td>105,000</td>\n",
       "      <td>1</td>\n",
       "      <td>0.00</td>\n",
       "      <td>-75921.0</td>\n",
       "      <td>0.580</td>\n",
       "    </tr>\n",
       "    <tr>\n",
       "      <th>CmentBd</th>\n",
       "      <td>230,093</td>\n",
       "      <td>60</td>\n",
       "      <td>0.04</td>\n",
       "      <td>49173.0</td>\n",
       "      <td>1.272</td>\n",
       "    </tr>\n",
       "    <tr>\n",
       "      <th>HdBoard</th>\n",
       "      <td>167,661</td>\n",
       "      <td>207</td>\n",
       "      <td>0.14</td>\n",
       "      <td>-13260.0</td>\n",
       "      <td>0.927</td>\n",
       "    </tr>\n",
       "    <tr>\n",
       "      <th>ImStucc</th>\n",
       "      <td>252,070</td>\n",
       "      <td>10</td>\n",
       "      <td>0.01</td>\n",
       "      <td>71149.0</td>\n",
       "      <td>1.393</td>\n",
       "    </tr>\n",
       "    <tr>\n",
       "      <th>MetalSd</th>\n",
       "      <td>149,803</td>\n",
       "      <td>214</td>\n",
       "      <td>0.15</td>\n",
       "      <td>-31118.0</td>\n",
       "      <td>0.828</td>\n",
       "    </tr>\n",
       "    <tr>\n",
       "      <th>Other</th>\n",
       "      <td>319,000</td>\n",
       "      <td>1</td>\n",
       "      <td>0.00</td>\n",
       "      <td>138079.0</td>\n",
       "      <td>1.763</td>\n",
       "    </tr>\n",
       "    <tr>\n",
       "      <th>Plywood</th>\n",
       "      <td>168,112</td>\n",
       "      <td>142</td>\n",
       "      <td>0.10</td>\n",
       "      <td>-12809.0</td>\n",
       "      <td>0.929</td>\n",
       "    </tr>\n",
       "    <tr>\n",
       "      <th>Stone</th>\n",
       "      <td>158,224</td>\n",
       "      <td>5</td>\n",
       "      <td>0.00</td>\n",
       "      <td>-22696.0</td>\n",
       "      <td>0.875</td>\n",
       "    </tr>\n",
       "    <tr>\n",
       "      <th>Stucco</th>\n",
       "      <td>155,905</td>\n",
       "      <td>26</td>\n",
       "      <td>0.02</td>\n",
       "      <td>-25016.0</td>\n",
       "      <td>0.862</td>\n",
       "    </tr>\n",
       "    <tr>\n",
       "      <th>VinylSd</th>\n",
       "      <td>214,432</td>\n",
       "      <td>504</td>\n",
       "      <td>0.35</td>\n",
       "      <td>33511.0</td>\n",
       "      <td>1.185</td>\n",
       "    </tr>\n",
       "    <tr>\n",
       "      <th>Wd Sdng</th>\n",
       "      <td>148,386</td>\n",
       "      <td>197</td>\n",
       "      <td>0.13</td>\n",
       "      <td>-32535.0</td>\n",
       "      <td>0.820</td>\n",
       "    </tr>\n",
       "    <tr>\n",
       "      <th>Wd Shng</th>\n",
       "      <td>161,328</td>\n",
       "      <td>38</td>\n",
       "      <td>0.03</td>\n",
       "      <td>-19592.0</td>\n",
       "      <td>0.892</td>\n",
       "    </tr>\n",
       "  </tbody>\n",
       "</table>\n",
       "</div>"
      ],
      "text/plain": [
       "                mean  count  proportion      diff   rate\n",
       "Exterior2nd                                             \n",
       "AsbShng      114,060     20        0.01  -66861.0  0.630\n",
       "AsphShn      138,000      3        0.00  -42921.0  0.763\n",
       "Brk Cmn      126,714      7        0.00  -54207.0  0.700\n",
       "BrkFace      195,818     25        0.02   14897.0  1.082\n",
       "CBlock       105,000      1        0.00  -75921.0  0.580\n",
       "CmentBd      230,093     60        0.04   49173.0  1.272\n",
       "HdBoard      167,661    207        0.14  -13260.0  0.927\n",
       "ImStucc      252,070     10        0.01   71149.0  1.393\n",
       "MetalSd      149,803    214        0.15  -31118.0  0.828\n",
       "Other        319,000      1        0.00  138079.0  1.763\n",
       "Plywood      168,112    142        0.10  -12809.0  0.929\n",
       "Stone        158,224      5        0.00  -22696.0  0.875\n",
       "Stucco       155,905     26        0.02  -25016.0  0.862\n",
       "VinylSd      214,432    504        0.35   33511.0  1.185\n",
       "Wd Sdng      148,386    197        0.13  -32535.0  0.820\n",
       "Wd Shng      161,328     38        0.03  -19592.0  0.892"
      ]
     },
     "metadata": {},
     "output_type": "display_data"
    },
    {
     "name": "stdout",
     "output_type": "stream",
     "text": [
      "Stats for MasVnrType (Masonry veneer type):\n"
     ]
    },
    {
     "data": {
      "text/html": [
       "<div>\n",
       "<style scoped>\n",
       "    .dataframe tbody tr th:only-of-type {\n",
       "        vertical-align: middle;\n",
       "    }\n",
       "\n",
       "    .dataframe tbody tr th {\n",
       "        vertical-align: top;\n",
       "    }\n",
       "\n",
       "    .dataframe thead th {\n",
       "        text-align: right;\n",
       "    }\n",
       "</style>\n",
       "<table border=\"1\" class=\"dataframe\">\n",
       "  <thead>\n",
       "    <tr style=\"text-align: right;\">\n",
       "      <th></th>\n",
       "      <th>mean</th>\n",
       "      <th>count</th>\n",
       "      <th>proportion</th>\n",
       "      <th>diff</th>\n",
       "      <th>rate</th>\n",
       "    </tr>\n",
       "    <tr>\n",
       "      <th>MasVnrType</th>\n",
       "      <th></th>\n",
       "      <th></th>\n",
       "      <th></th>\n",
       "      <th></th>\n",
       "      <th></th>\n",
       "    </tr>\n",
       "  </thead>\n",
       "  <tbody>\n",
       "    <tr>\n",
       "      <th>BrkCmn</th>\n",
       "      <td>146,318</td>\n",
       "      <td>15</td>\n",
       "      <td>0.01</td>\n",
       "      <td>-34603.0</td>\n",
       "      <td>0.809</td>\n",
       "    </tr>\n",
       "    <tr>\n",
       "      <th>BrkFace</th>\n",
       "      <td>204,691</td>\n",
       "      <td>445</td>\n",
       "      <td>0.30</td>\n",
       "      <td>23771.0</td>\n",
       "      <td>1.131</td>\n",
       "    </tr>\n",
       "    <tr>\n",
       "      <th>None</th>\n",
       "      <td>156,221</td>\n",
       "      <td>864</td>\n",
       "      <td>0.59</td>\n",
       "      <td>-24699.0</td>\n",
       "      <td>0.863</td>\n",
       "    </tr>\n",
       "    <tr>\n",
       "      <th>Stone</th>\n",
       "      <td>265,583</td>\n",
       "      <td>128</td>\n",
       "      <td>0.09</td>\n",
       "      <td>84662.0</td>\n",
       "      <td>1.468</td>\n",
       "    </tr>\n",
       "  </tbody>\n",
       "</table>\n",
       "</div>"
      ],
      "text/plain": [
       "               mean  count  proportion     diff   rate\n",
       "MasVnrType                                            \n",
       "BrkCmn      146,318     15        0.01 -34603.0  0.809\n",
       "BrkFace     204,691    445        0.30  23771.0  1.131\n",
       "None        156,221    864        0.59 -24699.0  0.863\n",
       "Stone       265,583    128        0.09  84662.0  1.468"
      ]
     },
     "metadata": {},
     "output_type": "display_data"
    },
    {
     "name": "stdout",
     "output_type": "stream",
     "text": [
      "Stats for ExterQual (Evaluates the quality of the material on the exterior ):\n"
     ]
    },
    {
     "data": {
      "text/html": [
       "<div>\n",
       "<style scoped>\n",
       "    .dataframe tbody tr th:only-of-type {\n",
       "        vertical-align: middle;\n",
       "    }\n",
       "\n",
       "    .dataframe tbody tr th {\n",
       "        vertical-align: top;\n",
       "    }\n",
       "\n",
       "    .dataframe thead th {\n",
       "        text-align: right;\n",
       "    }\n",
       "</style>\n",
       "<table border=\"1\" class=\"dataframe\">\n",
       "  <thead>\n",
       "    <tr style=\"text-align: right;\">\n",
       "      <th></th>\n",
       "      <th>mean</th>\n",
       "      <th>count</th>\n",
       "      <th>proportion</th>\n",
       "      <th>diff</th>\n",
       "      <th>rate</th>\n",
       "    </tr>\n",
       "    <tr>\n",
       "      <th>ExterQual</th>\n",
       "      <th></th>\n",
       "      <th></th>\n",
       "      <th></th>\n",
       "      <th></th>\n",
       "      <th></th>\n",
       "    </tr>\n",
       "  </thead>\n",
       "  <tbody>\n",
       "    <tr>\n",
       "      <th>Ex</th>\n",
       "      <td>367,360</td>\n",
       "      <td>52</td>\n",
       "      <td>0.04</td>\n",
       "      <td>186440.0</td>\n",
       "      <td>2.031</td>\n",
       "    </tr>\n",
       "    <tr>\n",
       "      <th>Fa</th>\n",
       "      <td>87,985</td>\n",
       "      <td>14</td>\n",
       "      <td>0.01</td>\n",
       "      <td>-92936.0</td>\n",
       "      <td>0.486</td>\n",
       "    </tr>\n",
       "    <tr>\n",
       "      <th>Gd</th>\n",
       "      <td>231,633</td>\n",
       "      <td>488</td>\n",
       "      <td>0.33</td>\n",
       "      <td>50712.0</td>\n",
       "      <td>1.280</td>\n",
       "    </tr>\n",
       "    <tr>\n",
       "      <th>TA</th>\n",
       "      <td>144,341</td>\n",
       "      <td>906</td>\n",
       "      <td>0.62</td>\n",
       "      <td>-36580.0</td>\n",
       "      <td>0.798</td>\n",
       "    </tr>\n",
       "  </tbody>\n",
       "</table>\n",
       "</div>"
      ],
      "text/plain": [
       "              mean  count  proportion      diff   rate\n",
       "ExterQual                                             \n",
       "Ex         367,360     52        0.04  186440.0  2.031\n",
       "Fa          87,985     14        0.01  -92936.0  0.486\n",
       "Gd         231,633    488        0.33   50712.0  1.280\n",
       "TA         144,341    906        0.62  -36580.0  0.798"
      ]
     },
     "metadata": {},
     "output_type": "display_data"
    },
    {
     "name": "stdout",
     "output_type": "stream",
     "text": [
      "Stats for ExterCond (Evaluates the present condition of the material on the exterior):\n"
     ]
    },
    {
     "data": {
      "text/html": [
       "<div>\n",
       "<style scoped>\n",
       "    .dataframe tbody tr th:only-of-type {\n",
       "        vertical-align: middle;\n",
       "    }\n",
       "\n",
       "    .dataframe tbody tr th {\n",
       "        vertical-align: top;\n",
       "    }\n",
       "\n",
       "    .dataframe thead th {\n",
       "        text-align: right;\n",
       "    }\n",
       "</style>\n",
       "<table border=\"1\" class=\"dataframe\">\n",
       "  <thead>\n",
       "    <tr style=\"text-align: right;\">\n",
       "      <th></th>\n",
       "      <th>mean</th>\n",
       "      <th>count</th>\n",
       "      <th>proportion</th>\n",
       "      <th>diff</th>\n",
       "      <th>rate</th>\n",
       "    </tr>\n",
       "    <tr>\n",
       "      <th>ExterCond</th>\n",
       "      <th></th>\n",
       "      <th></th>\n",
       "      <th></th>\n",
       "      <th></th>\n",
       "      <th></th>\n",
       "    </tr>\n",
       "  </thead>\n",
       "  <tbody>\n",
       "    <tr>\n",
       "      <th>Ex</th>\n",
       "      <td>201,333</td>\n",
       "      <td>3</td>\n",
       "      <td>0.00</td>\n",
       "      <td>20412.0</td>\n",
       "      <td>1.113</td>\n",
       "    </tr>\n",
       "    <tr>\n",
       "      <th>Fa</th>\n",
       "      <td>102,595</td>\n",
       "      <td>28</td>\n",
       "      <td>0.02</td>\n",
       "      <td>-78326.0</td>\n",
       "      <td>0.567</td>\n",
       "    </tr>\n",
       "    <tr>\n",
       "      <th>Gd</th>\n",
       "      <td>168,897</td>\n",
       "      <td>146</td>\n",
       "      <td>0.10</td>\n",
       "      <td>-12024.0</td>\n",
       "      <td>0.934</td>\n",
       "    </tr>\n",
       "    <tr>\n",
       "      <th>Po</th>\n",
       "      <td>76,500</td>\n",
       "      <td>1</td>\n",
       "      <td>0.00</td>\n",
       "      <td>-104421.0</td>\n",
       "      <td>0.423</td>\n",
       "    </tr>\n",
       "    <tr>\n",
       "      <th>TA</th>\n",
       "      <td>184,034</td>\n",
       "      <td>1282</td>\n",
       "      <td>0.88</td>\n",
       "      <td>3114.0</td>\n",
       "      <td>1.017</td>\n",
       "    </tr>\n",
       "  </tbody>\n",
       "</table>\n",
       "</div>"
      ],
      "text/plain": [
       "              mean  count  proportion      diff   rate\n",
       "ExterCond                                             \n",
       "Ex         201,333      3        0.00   20412.0  1.113\n",
       "Fa         102,595     28        0.02  -78326.0  0.567\n",
       "Gd         168,897    146        0.10  -12024.0  0.934\n",
       "Po          76,500      1        0.00 -104421.0  0.423\n",
       "TA         184,034   1282        0.88    3114.0  1.017"
      ]
     },
     "metadata": {},
     "output_type": "display_data"
    },
    {
     "name": "stdout",
     "output_type": "stream",
     "text": [
      "Stats for Foundation (Type of foundation):\n"
     ]
    },
    {
     "data": {
      "text/html": [
       "<div>\n",
       "<style scoped>\n",
       "    .dataframe tbody tr th:only-of-type {\n",
       "        vertical-align: middle;\n",
       "    }\n",
       "\n",
       "    .dataframe tbody tr th {\n",
       "        vertical-align: top;\n",
       "    }\n",
       "\n",
       "    .dataframe thead th {\n",
       "        text-align: right;\n",
       "    }\n",
       "</style>\n",
       "<table border=\"1\" class=\"dataframe\">\n",
       "  <thead>\n",
       "    <tr style=\"text-align: right;\">\n",
       "      <th></th>\n",
       "      <th>mean</th>\n",
       "      <th>count</th>\n",
       "      <th>proportion</th>\n",
       "      <th>diff</th>\n",
       "      <th>rate</th>\n",
       "    </tr>\n",
       "    <tr>\n",
       "      <th>Foundation</th>\n",
       "      <th></th>\n",
       "      <th></th>\n",
       "      <th></th>\n",
       "      <th></th>\n",
       "      <th></th>\n",
       "    </tr>\n",
       "  </thead>\n",
       "  <tbody>\n",
       "    <tr>\n",
       "      <th>BrkTil</th>\n",
       "      <td>132,291</td>\n",
       "      <td>146</td>\n",
       "      <td>0.10</td>\n",
       "      <td>-48630.0</td>\n",
       "      <td>0.731</td>\n",
       "    </tr>\n",
       "    <tr>\n",
       "      <th>CBlock</th>\n",
       "      <td>149,805</td>\n",
       "      <td>634</td>\n",
       "      <td>0.43</td>\n",
       "      <td>-31115.0</td>\n",
       "      <td>0.828</td>\n",
       "    </tr>\n",
       "    <tr>\n",
       "      <th>PConc</th>\n",
       "      <td>225,230</td>\n",
       "      <td>647</td>\n",
       "      <td>0.44</td>\n",
       "      <td>44309.0</td>\n",
       "      <td>1.245</td>\n",
       "    </tr>\n",
       "    <tr>\n",
       "      <th>Slab</th>\n",
       "      <td>107,365</td>\n",
       "      <td>24</td>\n",
       "      <td>0.02</td>\n",
       "      <td>-73556.0</td>\n",
       "      <td>0.593</td>\n",
       "    </tr>\n",
       "    <tr>\n",
       "      <th>Stone</th>\n",
       "      <td>165,959</td>\n",
       "      <td>6</td>\n",
       "      <td>0.00</td>\n",
       "      <td>-14962.0</td>\n",
       "      <td>0.917</td>\n",
       "    </tr>\n",
       "    <tr>\n",
       "      <th>Wood</th>\n",
       "      <td>185,666</td>\n",
       "      <td>3</td>\n",
       "      <td>0.00</td>\n",
       "      <td>4745.0</td>\n",
       "      <td>1.026</td>\n",
       "    </tr>\n",
       "  </tbody>\n",
       "</table>\n",
       "</div>"
      ],
      "text/plain": [
       "               mean  count  proportion     diff   rate\n",
       "Foundation                                            \n",
       "BrkTil      132,291    146        0.10 -48630.0  0.731\n",
       "CBlock      149,805    634        0.43 -31115.0  0.828\n",
       "PConc       225,230    647        0.44  44309.0  1.245\n",
       "Slab        107,365     24        0.02 -73556.0  0.593\n",
       "Stone       165,959      6        0.00 -14962.0  0.917\n",
       "Wood        185,666      3        0.00   4745.0  1.026"
      ]
     },
     "metadata": {},
     "output_type": "display_data"
    },
    {
     "name": "stdout",
     "output_type": "stream",
     "text": [
      "Stats for BsmtQual (Evaluates the height of the basement):\n"
     ]
    },
    {
     "data": {
      "text/html": [
       "<div>\n",
       "<style scoped>\n",
       "    .dataframe tbody tr th:only-of-type {\n",
       "        vertical-align: middle;\n",
       "    }\n",
       "\n",
       "    .dataframe tbody tr th {\n",
       "        vertical-align: top;\n",
       "    }\n",
       "\n",
       "    .dataframe thead th {\n",
       "        text-align: right;\n",
       "    }\n",
       "</style>\n",
       "<table border=\"1\" class=\"dataframe\">\n",
       "  <thead>\n",
       "    <tr style=\"text-align: right;\">\n",
       "      <th></th>\n",
       "      <th>mean</th>\n",
       "      <th>count</th>\n",
       "      <th>proportion</th>\n",
       "      <th>diff</th>\n",
       "      <th>rate</th>\n",
       "    </tr>\n",
       "    <tr>\n",
       "      <th>BsmtQual</th>\n",
       "      <th></th>\n",
       "      <th></th>\n",
       "      <th></th>\n",
       "      <th></th>\n",
       "      <th></th>\n",
       "    </tr>\n",
       "  </thead>\n",
       "  <tbody>\n",
       "    <tr>\n",
       "      <th>Ex</th>\n",
       "      <td>327,041</td>\n",
       "      <td>121</td>\n",
       "      <td>0.08</td>\n",
       "      <td>146120.0</td>\n",
       "      <td>1.808</td>\n",
       "    </tr>\n",
       "    <tr>\n",
       "      <th>Fa</th>\n",
       "      <td>115,692</td>\n",
       "      <td>35</td>\n",
       "      <td>0.02</td>\n",
       "      <td>-65229.0</td>\n",
       "      <td>0.639</td>\n",
       "    </tr>\n",
       "    <tr>\n",
       "      <th>Gd</th>\n",
       "      <td>202,688</td>\n",
       "      <td>618</td>\n",
       "      <td>0.42</td>\n",
       "      <td>21767.0</td>\n",
       "      <td>1.120</td>\n",
       "    </tr>\n",
       "    <tr>\n",
       "      <th>TA</th>\n",
       "      <td>140,759</td>\n",
       "      <td>649</td>\n",
       "      <td>0.44</td>\n",
       "      <td>-40161.0</td>\n",
       "      <td>0.778</td>\n",
       "    </tr>\n",
       "  </tbody>\n",
       "</table>\n",
       "</div>"
      ],
      "text/plain": [
       "             mean  count  proportion      diff   rate\n",
       "BsmtQual                                             \n",
       "Ex        327,041    121        0.08  146120.0  1.808\n",
       "Fa        115,692     35        0.02  -65229.0  0.639\n",
       "Gd        202,688    618        0.42   21767.0  1.120\n",
       "TA        140,759    649        0.44  -40161.0  0.778"
      ]
     },
     "metadata": {},
     "output_type": "display_data"
    },
    {
     "name": "stdout",
     "output_type": "stream",
     "text": [
      "Stats for BsmtCond (Evaluates the general condition of the basement):\n"
     ]
    },
    {
     "data": {
      "text/html": [
       "<div>\n",
       "<style scoped>\n",
       "    .dataframe tbody tr th:only-of-type {\n",
       "        vertical-align: middle;\n",
       "    }\n",
       "\n",
       "    .dataframe tbody tr th {\n",
       "        vertical-align: top;\n",
       "    }\n",
       "\n",
       "    .dataframe thead th {\n",
       "        text-align: right;\n",
       "    }\n",
       "</style>\n",
       "<table border=\"1\" class=\"dataframe\">\n",
       "  <thead>\n",
       "    <tr style=\"text-align: right;\">\n",
       "      <th></th>\n",
       "      <th>mean</th>\n",
       "      <th>count</th>\n",
       "      <th>proportion</th>\n",
       "      <th>diff</th>\n",
       "      <th>rate</th>\n",
       "    </tr>\n",
       "    <tr>\n",
       "      <th>BsmtCond</th>\n",
       "      <th></th>\n",
       "      <th></th>\n",
       "      <th></th>\n",
       "      <th></th>\n",
       "      <th></th>\n",
       "    </tr>\n",
       "  </thead>\n",
       "  <tbody>\n",
       "    <tr>\n",
       "      <th>Fa</th>\n",
       "      <td>121,809</td>\n",
       "      <td>45</td>\n",
       "      <td>0.03</td>\n",
       "      <td>-59112.0</td>\n",
       "      <td>0.673</td>\n",
       "    </tr>\n",
       "    <tr>\n",
       "      <th>Gd</th>\n",
       "      <td>213,599</td>\n",
       "      <td>65</td>\n",
       "      <td>0.04</td>\n",
       "      <td>32679.0</td>\n",
       "      <td>1.181</td>\n",
       "    </tr>\n",
       "    <tr>\n",
       "      <th>Po</th>\n",
       "      <td>64,000</td>\n",
       "      <td>2</td>\n",
       "      <td>0.00</td>\n",
       "      <td>-116921.0</td>\n",
       "      <td>0.354</td>\n",
       "    </tr>\n",
       "    <tr>\n",
       "      <th>TA</th>\n",
       "      <td>183,632</td>\n",
       "      <td>1311</td>\n",
       "      <td>0.90</td>\n",
       "      <td>2711.0</td>\n",
       "      <td>1.015</td>\n",
       "    </tr>\n",
       "  </tbody>\n",
       "</table>\n",
       "</div>"
      ],
      "text/plain": [
       "             mean  count  proportion      diff   rate\n",
       "BsmtCond                                             \n",
       "Fa        121,809     45        0.03  -59112.0  0.673\n",
       "Gd        213,599     65        0.04   32679.0  1.181\n",
       "Po         64,000      2        0.00 -116921.0  0.354\n",
       "TA        183,632   1311        0.90    2711.0  1.015"
      ]
     },
     "metadata": {},
     "output_type": "display_data"
    },
    {
     "name": "stdout",
     "output_type": "stream",
     "text": [
      "Stats for BsmtExposure (Refers to walkout or garden level walls):\n"
     ]
    },
    {
     "data": {
      "text/html": [
       "<div>\n",
       "<style scoped>\n",
       "    .dataframe tbody tr th:only-of-type {\n",
       "        vertical-align: middle;\n",
       "    }\n",
       "\n",
       "    .dataframe tbody tr th {\n",
       "        vertical-align: top;\n",
       "    }\n",
       "\n",
       "    .dataframe thead th {\n",
       "        text-align: right;\n",
       "    }\n",
       "</style>\n",
       "<table border=\"1\" class=\"dataframe\">\n",
       "  <thead>\n",
       "    <tr style=\"text-align: right;\">\n",
       "      <th></th>\n",
       "      <th>mean</th>\n",
       "      <th>count</th>\n",
       "      <th>proportion</th>\n",
       "      <th>diff</th>\n",
       "      <th>rate</th>\n",
       "    </tr>\n",
       "    <tr>\n",
       "      <th>BsmtExposure</th>\n",
       "      <th></th>\n",
       "      <th></th>\n",
       "      <th></th>\n",
       "      <th></th>\n",
       "      <th></th>\n",
       "    </tr>\n",
       "  </thead>\n",
       "  <tbody>\n",
       "    <tr>\n",
       "      <th>Av</th>\n",
       "      <td>206,643</td>\n",
       "      <td>221</td>\n",
       "      <td>0.15</td>\n",
       "      <td>25722.0</td>\n",
       "      <td>1.142</td>\n",
       "    </tr>\n",
       "    <tr>\n",
       "      <th>Gd</th>\n",
       "      <td>257,689</td>\n",
       "      <td>134</td>\n",
       "      <td>0.09</td>\n",
       "      <td>76769.0</td>\n",
       "      <td>1.424</td>\n",
       "    </tr>\n",
       "    <tr>\n",
       "      <th>Mn</th>\n",
       "      <td>192,789</td>\n",
       "      <td>114</td>\n",
       "      <td>0.08</td>\n",
       "      <td>11868.0</td>\n",
       "      <td>1.066</td>\n",
       "    </tr>\n",
       "    <tr>\n",
       "      <th>No</th>\n",
       "      <td>165,652</td>\n",
       "      <td>953</td>\n",
       "      <td>0.65</td>\n",
       "      <td>-15269.0</td>\n",
       "      <td>0.916</td>\n",
       "    </tr>\n",
       "  </tbody>\n",
       "</table>\n",
       "</div>"
      ],
      "text/plain": [
       "                 mean  count  proportion     diff   rate\n",
       "BsmtExposure                                            \n",
       "Av            206,643    221        0.15  25722.0  1.142\n",
       "Gd            257,689    134        0.09  76769.0  1.424\n",
       "Mn            192,789    114        0.08  11868.0  1.066\n",
       "No            165,652    953        0.65 -15269.0  0.916"
      ]
     },
     "metadata": {},
     "output_type": "display_data"
    },
    {
     "name": "stdout",
     "output_type": "stream",
     "text": [
      "Stats for BsmtFinType1 (Rating of basement finished area):\n"
     ]
    },
    {
     "data": {
      "text/html": [
       "<div>\n",
       "<style scoped>\n",
       "    .dataframe tbody tr th:only-of-type {\n",
       "        vertical-align: middle;\n",
       "    }\n",
       "\n",
       "    .dataframe tbody tr th {\n",
       "        vertical-align: top;\n",
       "    }\n",
       "\n",
       "    .dataframe thead th {\n",
       "        text-align: right;\n",
       "    }\n",
       "</style>\n",
       "<table border=\"1\" class=\"dataframe\">\n",
       "  <thead>\n",
       "    <tr style=\"text-align: right;\">\n",
       "      <th></th>\n",
       "      <th>mean</th>\n",
       "      <th>count</th>\n",
       "      <th>proportion</th>\n",
       "      <th>diff</th>\n",
       "      <th>rate</th>\n",
       "    </tr>\n",
       "    <tr>\n",
       "      <th>BsmtFinType1</th>\n",
       "      <th></th>\n",
       "      <th></th>\n",
       "      <th></th>\n",
       "      <th></th>\n",
       "      <th></th>\n",
       "    </tr>\n",
       "  </thead>\n",
       "  <tbody>\n",
       "    <tr>\n",
       "      <th>ALQ</th>\n",
       "      <td>161,573</td>\n",
       "      <td>220</td>\n",
       "      <td>0.15</td>\n",
       "      <td>-19348.0</td>\n",
       "      <td>0.893</td>\n",
       "    </tr>\n",
       "    <tr>\n",
       "      <th>BLQ</th>\n",
       "      <td>149,493</td>\n",
       "      <td>148</td>\n",
       "      <td>0.10</td>\n",
       "      <td>-31428.0</td>\n",
       "      <td>0.826</td>\n",
       "    </tr>\n",
       "    <tr>\n",
       "      <th>GLQ</th>\n",
       "      <td>235,413</td>\n",
       "      <td>418</td>\n",
       "      <td>0.29</td>\n",
       "      <td>54493.0</td>\n",
       "      <td>1.301</td>\n",
       "    </tr>\n",
       "    <tr>\n",
       "      <th>LwQ</th>\n",
       "      <td>151,852</td>\n",
       "      <td>74</td>\n",
       "      <td>0.05</td>\n",
       "      <td>-29068.0</td>\n",
       "      <td>0.839</td>\n",
       "    </tr>\n",
       "    <tr>\n",
       "      <th>Rec</th>\n",
       "      <td>146,889</td>\n",
       "      <td>133</td>\n",
       "      <td>0.09</td>\n",
       "      <td>-34032.0</td>\n",
       "      <td>0.812</td>\n",
       "    </tr>\n",
       "    <tr>\n",
       "      <th>Unf</th>\n",
       "      <td>170,670</td>\n",
       "      <td>430</td>\n",
       "      <td>0.29</td>\n",
       "      <td>-10251.0</td>\n",
       "      <td>0.943</td>\n",
       "    </tr>\n",
       "  </tbody>\n",
       "</table>\n",
       "</div>"
      ],
      "text/plain": [
       "                 mean  count  proportion     diff   rate\n",
       "BsmtFinType1                                            \n",
       "ALQ           161,573    220        0.15 -19348.0  0.893\n",
       "BLQ           149,493    148        0.10 -31428.0  0.826\n",
       "GLQ           235,413    418        0.29  54493.0  1.301\n",
       "LwQ           151,852     74        0.05 -29068.0  0.839\n",
       "Rec           146,889    133        0.09 -34032.0  0.812\n",
       "Unf           170,670    430        0.29 -10251.0  0.943"
      ]
     },
     "metadata": {},
     "output_type": "display_data"
    },
    {
     "name": "stdout",
     "output_type": "stream",
     "text": [
      "Stats for BsmtFinType2 (Rating of basement finished area (if multiple types)):\n"
     ]
    },
    {
     "data": {
      "text/html": [
       "<div>\n",
       "<style scoped>\n",
       "    .dataframe tbody tr th:only-of-type {\n",
       "        vertical-align: middle;\n",
       "    }\n",
       "\n",
       "    .dataframe tbody tr th {\n",
       "        vertical-align: top;\n",
       "    }\n",
       "\n",
       "    .dataframe thead th {\n",
       "        text-align: right;\n",
       "    }\n",
       "</style>\n",
       "<table border=\"1\" class=\"dataframe\">\n",
       "  <thead>\n",
       "    <tr style=\"text-align: right;\">\n",
       "      <th></th>\n",
       "      <th>mean</th>\n",
       "      <th>count</th>\n",
       "      <th>proportion</th>\n",
       "      <th>diff</th>\n",
       "      <th>rate</th>\n",
       "    </tr>\n",
       "    <tr>\n",
       "      <th>BsmtFinType2</th>\n",
       "      <th></th>\n",
       "      <th></th>\n",
       "      <th></th>\n",
       "      <th></th>\n",
       "      <th></th>\n",
       "    </tr>\n",
       "  </thead>\n",
       "  <tbody>\n",
       "    <tr>\n",
       "      <th>ALQ</th>\n",
       "      <td>209,942</td>\n",
       "      <td>19</td>\n",
       "      <td>0.01</td>\n",
       "      <td>29021.0</td>\n",
       "      <td>1.160</td>\n",
       "    </tr>\n",
       "    <tr>\n",
       "      <th>BLQ</th>\n",
       "      <td>151,101</td>\n",
       "      <td>33</td>\n",
       "      <td>0.02</td>\n",
       "      <td>-29820.0</td>\n",
       "      <td>0.835</td>\n",
       "    </tr>\n",
       "    <tr>\n",
       "      <th>GLQ</th>\n",
       "      <td>180,982</td>\n",
       "      <td>14</td>\n",
       "      <td>0.01</td>\n",
       "      <td>61.0</td>\n",
       "      <td>1.000</td>\n",
       "    </tr>\n",
       "    <tr>\n",
       "      <th>LwQ</th>\n",
       "      <td>164,364</td>\n",
       "      <td>46</td>\n",
       "      <td>0.03</td>\n",
       "      <td>-16557.0</td>\n",
       "      <td>0.908</td>\n",
       "    </tr>\n",
       "    <tr>\n",
       "      <th>Rec</th>\n",
       "      <td>164,917</td>\n",
       "      <td>54</td>\n",
       "      <td>0.04</td>\n",
       "      <td>-16004.0</td>\n",
       "      <td>0.912</td>\n",
       "    </tr>\n",
       "    <tr>\n",
       "      <th>Unf</th>\n",
       "      <td>184,694</td>\n",
       "      <td>1256</td>\n",
       "      <td>0.86</td>\n",
       "      <td>3773.0</td>\n",
       "      <td>1.021</td>\n",
       "    </tr>\n",
       "  </tbody>\n",
       "</table>\n",
       "</div>"
      ],
      "text/plain": [
       "                 mean  count  proportion     diff   rate\n",
       "BsmtFinType2                                            \n",
       "ALQ           209,942     19        0.01  29021.0  1.160\n",
       "BLQ           151,101     33        0.02 -29820.0  0.835\n",
       "GLQ           180,982     14        0.01     61.0  1.000\n",
       "LwQ           164,364     46        0.03 -16557.0  0.908\n",
       "Rec           164,917     54        0.04 -16004.0  0.912\n",
       "Unf           184,694   1256        0.86   3773.0  1.021"
      ]
     },
     "metadata": {},
     "output_type": "display_data"
    },
    {
     "name": "stdout",
     "output_type": "stream",
     "text": [
      "Stats for Heating (Type of heating):\n"
     ]
    },
    {
     "data": {
      "text/html": [
       "<div>\n",
       "<style scoped>\n",
       "    .dataframe tbody tr th:only-of-type {\n",
       "        vertical-align: middle;\n",
       "    }\n",
       "\n",
       "    .dataframe tbody tr th {\n",
       "        vertical-align: top;\n",
       "    }\n",
       "\n",
       "    .dataframe thead th {\n",
       "        text-align: right;\n",
       "    }\n",
       "</style>\n",
       "<table border=\"1\" class=\"dataframe\">\n",
       "  <thead>\n",
       "    <tr style=\"text-align: right;\">\n",
       "      <th></th>\n",
       "      <th>mean</th>\n",
       "      <th>count</th>\n",
       "      <th>proportion</th>\n",
       "      <th>diff</th>\n",
       "      <th>rate</th>\n",
       "    </tr>\n",
       "    <tr>\n",
       "      <th>Heating</th>\n",
       "      <th></th>\n",
       "      <th></th>\n",
       "      <th></th>\n",
       "      <th></th>\n",
       "      <th></th>\n",
       "    </tr>\n",
       "  </thead>\n",
       "  <tbody>\n",
       "    <tr>\n",
       "      <th>Floor</th>\n",
       "      <td>72,500</td>\n",
       "      <td>1</td>\n",
       "      <td>0.00</td>\n",
       "      <td>-108421.0</td>\n",
       "      <td>0.401</td>\n",
       "    </tr>\n",
       "    <tr>\n",
       "      <th>GasA</th>\n",
       "      <td>182,021</td>\n",
       "      <td>1428</td>\n",
       "      <td>0.98</td>\n",
       "      <td>1100.0</td>\n",
       "      <td>1.006</td>\n",
       "    </tr>\n",
       "    <tr>\n",
       "      <th>GasW</th>\n",
       "      <td>166,632</td>\n",
       "      <td>18</td>\n",
       "      <td>0.01</td>\n",
       "      <td>-14289.0</td>\n",
       "      <td>0.921</td>\n",
       "    </tr>\n",
       "    <tr>\n",
       "      <th>Grav</th>\n",
       "      <td>75,271</td>\n",
       "      <td>7</td>\n",
       "      <td>0.00</td>\n",
       "      <td>-105650.0</td>\n",
       "      <td>0.416</td>\n",
       "    </tr>\n",
       "    <tr>\n",
       "      <th>OthW</th>\n",
       "      <td>125,750</td>\n",
       "      <td>2</td>\n",
       "      <td>0.00</td>\n",
       "      <td>-55171.0</td>\n",
       "      <td>0.695</td>\n",
       "    </tr>\n",
       "    <tr>\n",
       "      <th>Wall</th>\n",
       "      <td>92,100</td>\n",
       "      <td>4</td>\n",
       "      <td>0.00</td>\n",
       "      <td>-88821.0</td>\n",
       "      <td>0.509</td>\n",
       "    </tr>\n",
       "  </tbody>\n",
       "</table>\n",
       "</div>"
      ],
      "text/plain": [
       "            mean  count  proportion      diff   rate\n",
       "Heating                                             \n",
       "Floor     72,500      1        0.00 -108421.0  0.401\n",
       "GasA     182,021   1428        0.98    1100.0  1.006\n",
       "GasW     166,632     18        0.01  -14289.0  0.921\n",
       "Grav      75,271      7        0.00 -105650.0  0.416\n",
       "OthW     125,750      2        0.00  -55171.0  0.695\n",
       "Wall      92,100      4        0.00  -88821.0  0.509"
      ]
     },
     "metadata": {},
     "output_type": "display_data"
    },
    {
     "name": "stdout",
     "output_type": "stream",
     "text": [
      "Stats for HeatingQC (Heating quality and condition):\n"
     ]
    },
    {
     "data": {
      "text/html": [
       "<div>\n",
       "<style scoped>\n",
       "    .dataframe tbody tr th:only-of-type {\n",
       "        vertical-align: middle;\n",
       "    }\n",
       "\n",
       "    .dataframe tbody tr th {\n",
       "        vertical-align: top;\n",
       "    }\n",
       "\n",
       "    .dataframe thead th {\n",
       "        text-align: right;\n",
       "    }\n",
       "</style>\n",
       "<table border=\"1\" class=\"dataframe\">\n",
       "  <thead>\n",
       "    <tr style=\"text-align: right;\">\n",
       "      <th></th>\n",
       "      <th>mean</th>\n",
       "      <th>count</th>\n",
       "      <th>proportion</th>\n",
       "      <th>diff</th>\n",
       "      <th>rate</th>\n",
       "    </tr>\n",
       "    <tr>\n",
       "      <th>HeatingQC</th>\n",
       "      <th></th>\n",
       "      <th></th>\n",
       "      <th></th>\n",
       "      <th></th>\n",
       "      <th></th>\n",
       "    </tr>\n",
       "  </thead>\n",
       "  <tbody>\n",
       "    <tr>\n",
       "      <th>Ex</th>\n",
       "      <td>214,914</td>\n",
       "      <td>741</td>\n",
       "      <td>0.51</td>\n",
       "      <td>33993.0</td>\n",
       "      <td>1.188</td>\n",
       "    </tr>\n",
       "    <tr>\n",
       "      <th>Fa</th>\n",
       "      <td>123,919</td>\n",
       "      <td>49</td>\n",
       "      <td>0.03</td>\n",
       "      <td>-57002.0</td>\n",
       "      <td>0.685</td>\n",
       "    </tr>\n",
       "    <tr>\n",
       "      <th>Gd</th>\n",
       "      <td>156,858</td>\n",
       "      <td>241</td>\n",
       "      <td>0.17</td>\n",
       "      <td>-24062.0</td>\n",
       "      <td>0.867</td>\n",
       "    </tr>\n",
       "    <tr>\n",
       "      <th>Po</th>\n",
       "      <td>87,000</td>\n",
       "      <td>1</td>\n",
       "      <td>0.00</td>\n",
       "      <td>-93921.0</td>\n",
       "      <td>0.481</td>\n",
       "    </tr>\n",
       "    <tr>\n",
       "      <th>TA</th>\n",
       "      <td>142,362</td>\n",
       "      <td>428</td>\n",
       "      <td>0.29</td>\n",
       "      <td>-38558.0</td>\n",
       "      <td>0.787</td>\n",
       "    </tr>\n",
       "  </tbody>\n",
       "</table>\n",
       "</div>"
      ],
      "text/plain": [
       "              mean  count  proportion     diff   rate\n",
       "HeatingQC                                            \n",
       "Ex         214,914    741        0.51  33993.0  1.188\n",
       "Fa         123,919     49        0.03 -57002.0  0.685\n",
       "Gd         156,858    241        0.17 -24062.0  0.867\n",
       "Po          87,000      1        0.00 -93921.0  0.481\n",
       "TA         142,362    428        0.29 -38558.0  0.787"
      ]
     },
     "metadata": {},
     "output_type": "display_data"
    },
    {
     "name": "stdout",
     "output_type": "stream",
     "text": [
      "Stats for CentralAir (Central air conditioning):\n"
     ]
    },
    {
     "data": {
      "text/html": [
       "<div>\n",
       "<style scoped>\n",
       "    .dataframe tbody tr th:only-of-type {\n",
       "        vertical-align: middle;\n",
       "    }\n",
       "\n",
       "    .dataframe tbody tr th {\n",
       "        vertical-align: top;\n",
       "    }\n",
       "\n",
       "    .dataframe thead th {\n",
       "        text-align: right;\n",
       "    }\n",
       "</style>\n",
       "<table border=\"1\" class=\"dataframe\">\n",
       "  <thead>\n",
       "    <tr style=\"text-align: right;\">\n",
       "      <th></th>\n",
       "      <th>mean</th>\n",
       "      <th>count</th>\n",
       "      <th>proportion</th>\n",
       "      <th>diff</th>\n",
       "      <th>rate</th>\n",
       "    </tr>\n",
       "    <tr>\n",
       "      <th>CentralAir</th>\n",
       "      <th></th>\n",
       "      <th></th>\n",
       "      <th></th>\n",
       "      <th></th>\n",
       "      <th></th>\n",
       "    </tr>\n",
       "  </thead>\n",
       "  <tbody>\n",
       "    <tr>\n",
       "      <th>N</th>\n",
       "      <td>105,264</td>\n",
       "      <td>95</td>\n",
       "      <td>0.07</td>\n",
       "      <td>-75657.0</td>\n",
       "      <td>0.582</td>\n",
       "    </tr>\n",
       "    <tr>\n",
       "      <th>Y</th>\n",
       "      <td>186,186</td>\n",
       "      <td>1365</td>\n",
       "      <td>0.93</td>\n",
       "      <td>5266.0</td>\n",
       "      <td>1.029</td>\n",
       "    </tr>\n",
       "  </tbody>\n",
       "</table>\n",
       "</div>"
      ],
      "text/plain": [
       "               mean  count  proportion     diff   rate\n",
       "CentralAir                                            \n",
       "N           105,264     95        0.07 -75657.0  0.582\n",
       "Y           186,186   1365        0.93   5266.0  1.029"
      ]
     },
     "metadata": {},
     "output_type": "display_data"
    },
    {
     "name": "stdout",
     "output_type": "stream",
     "text": [
      "Stats for Electrical (Electrical system):\n"
     ]
    },
    {
     "data": {
      "text/html": [
       "<div>\n",
       "<style scoped>\n",
       "    .dataframe tbody tr th:only-of-type {\n",
       "        vertical-align: middle;\n",
       "    }\n",
       "\n",
       "    .dataframe tbody tr th {\n",
       "        vertical-align: top;\n",
       "    }\n",
       "\n",
       "    .dataframe thead th {\n",
       "        text-align: right;\n",
       "    }\n",
       "</style>\n",
       "<table border=\"1\" class=\"dataframe\">\n",
       "  <thead>\n",
       "    <tr style=\"text-align: right;\">\n",
       "      <th></th>\n",
       "      <th>mean</th>\n",
       "      <th>count</th>\n",
       "      <th>proportion</th>\n",
       "      <th>diff</th>\n",
       "      <th>rate</th>\n",
       "    </tr>\n",
       "    <tr>\n",
       "      <th>Electrical</th>\n",
       "      <th></th>\n",
       "      <th></th>\n",
       "      <th></th>\n",
       "      <th></th>\n",
       "      <th></th>\n",
       "    </tr>\n",
       "  </thead>\n",
       "  <tbody>\n",
       "    <tr>\n",
       "      <th>FuseA</th>\n",
       "      <td>122,196</td>\n",
       "      <td>94</td>\n",
       "      <td>0.06</td>\n",
       "      <td>-58724.0</td>\n",
       "      <td>0.675</td>\n",
       "    </tr>\n",
       "    <tr>\n",
       "      <th>FuseF</th>\n",
       "      <td>107,675</td>\n",
       "      <td>27</td>\n",
       "      <td>0.02</td>\n",
       "      <td>-73246.0</td>\n",
       "      <td>0.595</td>\n",
       "    </tr>\n",
       "    <tr>\n",
       "      <th>FuseP</th>\n",
       "      <td>97,333</td>\n",
       "      <td>3</td>\n",
       "      <td>0.00</td>\n",
       "      <td>-83588.0</td>\n",
       "      <td>0.538</td>\n",
       "    </tr>\n",
       "    <tr>\n",
       "      <th>Mix</th>\n",
       "      <td>67,000</td>\n",
       "      <td>1</td>\n",
       "      <td>0.00</td>\n",
       "      <td>-113921.0</td>\n",
       "      <td>0.370</td>\n",
       "    </tr>\n",
       "    <tr>\n",
       "      <th>SBrkr</th>\n",
       "      <td>186,825</td>\n",
       "      <td>1334</td>\n",
       "      <td>0.91</td>\n",
       "      <td>5904.0</td>\n",
       "      <td>1.033</td>\n",
       "    </tr>\n",
       "  </tbody>\n",
       "</table>\n",
       "</div>"
      ],
      "text/plain": [
       "               mean  count  proportion      diff   rate\n",
       "Electrical                                             \n",
       "FuseA       122,196     94        0.06  -58724.0  0.675\n",
       "FuseF       107,675     27        0.02  -73246.0  0.595\n",
       "FuseP        97,333      3        0.00  -83588.0  0.538\n",
       "Mix          67,000      1        0.00 -113921.0  0.370\n",
       "SBrkr       186,825   1334        0.91    5904.0  1.033"
      ]
     },
     "metadata": {},
     "output_type": "display_data"
    },
    {
     "name": "stdout",
     "output_type": "stream",
     "text": [
      "Stats for KitchenQual (Kitchen quality):\n"
     ]
    },
    {
     "data": {
      "text/html": [
       "<div>\n",
       "<style scoped>\n",
       "    .dataframe tbody tr th:only-of-type {\n",
       "        vertical-align: middle;\n",
       "    }\n",
       "\n",
       "    .dataframe tbody tr th {\n",
       "        vertical-align: top;\n",
       "    }\n",
       "\n",
       "    .dataframe thead th {\n",
       "        text-align: right;\n",
       "    }\n",
       "</style>\n",
       "<table border=\"1\" class=\"dataframe\">\n",
       "  <thead>\n",
       "    <tr style=\"text-align: right;\">\n",
       "      <th></th>\n",
       "      <th>mean</th>\n",
       "      <th>count</th>\n",
       "      <th>proportion</th>\n",
       "      <th>diff</th>\n",
       "      <th>rate</th>\n",
       "    </tr>\n",
       "    <tr>\n",
       "      <th>KitchenQual</th>\n",
       "      <th></th>\n",
       "      <th></th>\n",
       "      <th></th>\n",
       "      <th></th>\n",
       "      <th></th>\n",
       "    </tr>\n",
       "  </thead>\n",
       "  <tbody>\n",
       "    <tr>\n",
       "      <th>Ex</th>\n",
       "      <td>328,554</td>\n",
       "      <td>100</td>\n",
       "      <td>0.07</td>\n",
       "      <td>147633.0</td>\n",
       "      <td>1.816</td>\n",
       "    </tr>\n",
       "    <tr>\n",
       "      <th>Fa</th>\n",
       "      <td>105,565</td>\n",
       "      <td>39</td>\n",
       "      <td>0.03</td>\n",
       "      <td>-75356.0</td>\n",
       "      <td>0.583</td>\n",
       "    </tr>\n",
       "    <tr>\n",
       "      <th>Gd</th>\n",
       "      <td>212,116</td>\n",
       "      <td>586</td>\n",
       "      <td>0.40</td>\n",
       "      <td>31195.0</td>\n",
       "      <td>1.172</td>\n",
       "    </tr>\n",
       "    <tr>\n",
       "      <th>TA</th>\n",
       "      <td>139,962</td>\n",
       "      <td>735</td>\n",
       "      <td>0.50</td>\n",
       "      <td>-40959.0</td>\n",
       "      <td>0.774</td>\n",
       "    </tr>\n",
       "  </tbody>\n",
       "</table>\n",
       "</div>"
      ],
      "text/plain": [
       "                mean  count  proportion      diff   rate\n",
       "KitchenQual                                             \n",
       "Ex           328,554    100        0.07  147633.0  1.816\n",
       "Fa           105,565     39        0.03  -75356.0  0.583\n",
       "Gd           212,116    586        0.40   31195.0  1.172\n",
       "TA           139,962    735        0.50  -40959.0  0.774"
      ]
     },
     "metadata": {},
     "output_type": "display_data"
    },
    {
     "name": "stdout",
     "output_type": "stream",
     "text": [
      "Stats for Functional (Home functionality (Assume typical unless deductions are warranted)):\n"
     ]
    },
    {
     "data": {
      "text/html": [
       "<div>\n",
       "<style scoped>\n",
       "    .dataframe tbody tr th:only-of-type {\n",
       "        vertical-align: middle;\n",
       "    }\n",
       "\n",
       "    .dataframe tbody tr th {\n",
       "        vertical-align: top;\n",
       "    }\n",
       "\n",
       "    .dataframe thead th {\n",
       "        text-align: right;\n",
       "    }\n",
       "</style>\n",
       "<table border=\"1\" class=\"dataframe\">\n",
       "  <thead>\n",
       "    <tr style=\"text-align: right;\">\n",
       "      <th></th>\n",
       "      <th>mean</th>\n",
       "      <th>count</th>\n",
       "      <th>proportion</th>\n",
       "      <th>diff</th>\n",
       "      <th>rate</th>\n",
       "    </tr>\n",
       "    <tr>\n",
       "      <th>Functional</th>\n",
       "      <th></th>\n",
       "      <th></th>\n",
       "      <th></th>\n",
       "      <th></th>\n",
       "      <th></th>\n",
       "    </tr>\n",
       "  </thead>\n",
       "  <tbody>\n",
       "    <tr>\n",
       "      <th>Maj1</th>\n",
       "      <td>153,948</td>\n",
       "      <td>14</td>\n",
       "      <td>0.01</td>\n",
       "      <td>-26973.0</td>\n",
       "      <td>0.851</td>\n",
       "    </tr>\n",
       "    <tr>\n",
       "      <th>Maj2</th>\n",
       "      <td>85,800</td>\n",
       "      <td>5</td>\n",
       "      <td>0.00</td>\n",
       "      <td>-95121.0</td>\n",
       "      <td>0.474</td>\n",
       "    </tr>\n",
       "    <tr>\n",
       "      <th>Min1</th>\n",
       "      <td>146,385</td>\n",
       "      <td>31</td>\n",
       "      <td>0.02</td>\n",
       "      <td>-34536.0</td>\n",
       "      <td>0.809</td>\n",
       "    </tr>\n",
       "    <tr>\n",
       "      <th>Min2</th>\n",
       "      <td>144,240</td>\n",
       "      <td>34</td>\n",
       "      <td>0.02</td>\n",
       "      <td>-36681.0</td>\n",
       "      <td>0.797</td>\n",
       "    </tr>\n",
       "    <tr>\n",
       "      <th>Mod</th>\n",
       "      <td>168,393</td>\n",
       "      <td>15</td>\n",
       "      <td>0.01</td>\n",
       "      <td>-12528.0</td>\n",
       "      <td>0.931</td>\n",
       "    </tr>\n",
       "    <tr>\n",
       "      <th>Sev</th>\n",
       "      <td>129,000</td>\n",
       "      <td>1</td>\n",
       "      <td>0.00</td>\n",
       "      <td>-51921.0</td>\n",
       "      <td>0.713</td>\n",
       "    </tr>\n",
       "    <tr>\n",
       "      <th>Typ</th>\n",
       "      <td>183,429</td>\n",
       "      <td>1360</td>\n",
       "      <td>0.93</td>\n",
       "      <td>2508.0</td>\n",
       "      <td>1.014</td>\n",
       "    </tr>\n",
       "  </tbody>\n",
       "</table>\n",
       "</div>"
      ],
      "text/plain": [
       "               mean  count  proportion     diff   rate\n",
       "Functional                                            \n",
       "Maj1        153,948     14        0.01 -26973.0  0.851\n",
       "Maj2         85,800      5        0.00 -95121.0  0.474\n",
       "Min1        146,385     31        0.02 -34536.0  0.809\n",
       "Min2        144,240     34        0.02 -36681.0  0.797\n",
       "Mod         168,393     15        0.01 -12528.0  0.931\n",
       "Sev         129,000      1        0.00 -51921.0  0.713\n",
       "Typ         183,429   1360        0.93   2508.0  1.014"
      ]
     },
     "metadata": {},
     "output_type": "display_data"
    },
    {
     "name": "stdout",
     "output_type": "stream",
     "text": [
      "Stats for FireplaceQu (Fireplace quality):\n"
     ]
    },
    {
     "data": {
      "text/html": [
       "<div>\n",
       "<style scoped>\n",
       "    .dataframe tbody tr th:only-of-type {\n",
       "        vertical-align: middle;\n",
       "    }\n",
       "\n",
       "    .dataframe tbody tr th {\n",
       "        vertical-align: top;\n",
       "    }\n",
       "\n",
       "    .dataframe thead th {\n",
       "        text-align: right;\n",
       "    }\n",
       "</style>\n",
       "<table border=\"1\" class=\"dataframe\">\n",
       "  <thead>\n",
       "    <tr style=\"text-align: right;\">\n",
       "      <th></th>\n",
       "      <th>mean</th>\n",
       "      <th>count</th>\n",
       "      <th>proportion</th>\n",
       "      <th>diff</th>\n",
       "      <th>rate</th>\n",
       "    </tr>\n",
       "    <tr>\n",
       "      <th>FireplaceQu</th>\n",
       "      <th></th>\n",
       "      <th></th>\n",
       "      <th></th>\n",
       "      <th></th>\n",
       "      <th></th>\n",
       "    </tr>\n",
       "  </thead>\n",
       "  <tbody>\n",
       "    <tr>\n",
       "      <th>Ex</th>\n",
       "      <td>337,712</td>\n",
       "      <td>24</td>\n",
       "      <td>0.02</td>\n",
       "      <td>156791.0</td>\n",
       "      <td>1.867</td>\n",
       "    </tr>\n",
       "    <tr>\n",
       "      <th>Fa</th>\n",
       "      <td>167,298</td>\n",
       "      <td>33</td>\n",
       "      <td>0.02</td>\n",
       "      <td>-13623.0</td>\n",
       "      <td>0.925</td>\n",
       "    </tr>\n",
       "    <tr>\n",
       "      <th>Gd</th>\n",
       "      <td>226,351</td>\n",
       "      <td>380</td>\n",
       "      <td>0.26</td>\n",
       "      <td>45430.0</td>\n",
       "      <td>1.251</td>\n",
       "    </tr>\n",
       "    <tr>\n",
       "      <th>NA</th>\n",
       "      <td>141,331</td>\n",
       "      <td>690</td>\n",
       "      <td>0.47</td>\n",
       "      <td>-39590.0</td>\n",
       "      <td>0.781</td>\n",
       "    </tr>\n",
       "    <tr>\n",
       "      <th>Po</th>\n",
       "      <td>129,764</td>\n",
       "      <td>20</td>\n",
       "      <td>0.01</td>\n",
       "      <td>-51157.0</td>\n",
       "      <td>0.717</td>\n",
       "    </tr>\n",
       "    <tr>\n",
       "      <th>TA</th>\n",
       "      <td>205,723</td>\n",
       "      <td>313</td>\n",
       "      <td>0.21</td>\n",
       "      <td>24802.0</td>\n",
       "      <td>1.137</td>\n",
       "    </tr>\n",
       "  </tbody>\n",
       "</table>\n",
       "</div>"
      ],
      "text/plain": [
       "                mean  count  proportion      diff   rate\n",
       "FireplaceQu                                             \n",
       "Ex           337,712     24        0.02  156791.0  1.867\n",
       "Fa           167,298     33        0.02  -13623.0  0.925\n",
       "Gd           226,351    380        0.26   45430.0  1.251\n",
       "NA           141,331    690        0.47  -39590.0  0.781\n",
       "Po           129,764     20        0.01  -51157.0  0.717\n",
       "TA           205,723    313        0.21   24802.0  1.137"
      ]
     },
     "metadata": {},
     "output_type": "display_data"
    },
    {
     "name": "stdout",
     "output_type": "stream",
     "text": [
      "Stats for GarageType (Garage location):\n"
     ]
    },
    {
     "data": {
      "text/html": [
       "<div>\n",
       "<style scoped>\n",
       "    .dataframe tbody tr th:only-of-type {\n",
       "        vertical-align: middle;\n",
       "    }\n",
       "\n",
       "    .dataframe tbody tr th {\n",
       "        vertical-align: top;\n",
       "    }\n",
       "\n",
       "    .dataframe thead th {\n",
       "        text-align: right;\n",
       "    }\n",
       "</style>\n",
       "<table border=\"1\" class=\"dataframe\">\n",
       "  <thead>\n",
       "    <tr style=\"text-align: right;\">\n",
       "      <th></th>\n",
       "      <th>mean</th>\n",
       "      <th>count</th>\n",
       "      <th>proportion</th>\n",
       "      <th>diff</th>\n",
       "      <th>rate</th>\n",
       "    </tr>\n",
       "    <tr>\n",
       "      <th>GarageType</th>\n",
       "      <th></th>\n",
       "      <th></th>\n",
       "      <th></th>\n",
       "      <th></th>\n",
       "      <th></th>\n",
       "    </tr>\n",
       "  </thead>\n",
       "  <tbody>\n",
       "    <tr>\n",
       "      <th>2Types</th>\n",
       "      <td>151,283</td>\n",
       "      <td>6</td>\n",
       "      <td>0.00</td>\n",
       "      <td>-29638.0</td>\n",
       "      <td>0.836</td>\n",
       "    </tr>\n",
       "    <tr>\n",
       "      <th>Attchd</th>\n",
       "      <td>202,892</td>\n",
       "      <td>870</td>\n",
       "      <td>0.60</td>\n",
       "      <td>21971.0</td>\n",
       "      <td>1.121</td>\n",
       "    </tr>\n",
       "    <tr>\n",
       "      <th>Basment</th>\n",
       "      <td>160,570</td>\n",
       "      <td>19</td>\n",
       "      <td>0.01</td>\n",
       "      <td>-20351.0</td>\n",
       "      <td>0.888</td>\n",
       "    </tr>\n",
       "    <tr>\n",
       "      <th>BuiltIn</th>\n",
       "      <td>254,751</td>\n",
       "      <td>88</td>\n",
       "      <td>0.06</td>\n",
       "      <td>73831.0</td>\n",
       "      <td>1.408</td>\n",
       "    </tr>\n",
       "    <tr>\n",
       "      <th>CarPort</th>\n",
       "      <td>109,962</td>\n",
       "      <td>9</td>\n",
       "      <td>0.01</td>\n",
       "      <td>-70959.0</td>\n",
       "      <td>0.608</td>\n",
       "    </tr>\n",
       "    <tr>\n",
       "      <th>Detchd</th>\n",
       "      <td>134,091</td>\n",
       "      <td>387</td>\n",
       "      <td>0.27</td>\n",
       "      <td>-46830.0</td>\n",
       "      <td>0.741</td>\n",
       "    </tr>\n",
       "  </tbody>\n",
       "</table>\n",
       "</div>"
      ],
      "text/plain": [
       "               mean  count  proportion     diff   rate\n",
       "GarageType                                            \n",
       "2Types      151,283      6        0.00 -29638.0  0.836\n",
       "Attchd      202,892    870        0.60  21971.0  1.121\n",
       "Basment     160,570     19        0.01 -20351.0  0.888\n",
       "BuiltIn     254,751     88        0.06  73831.0  1.408\n",
       "CarPort     109,962      9        0.01 -70959.0  0.608\n",
       "Detchd      134,091    387        0.27 -46830.0  0.741"
      ]
     },
     "metadata": {},
     "output_type": "display_data"
    },
    {
     "name": "stdout",
     "output_type": "stream",
     "text": [
      "Stats for GarageFinish (Interior finish of the garage):\n"
     ]
    },
    {
     "data": {
      "text/html": [
       "<div>\n",
       "<style scoped>\n",
       "    .dataframe tbody tr th:only-of-type {\n",
       "        vertical-align: middle;\n",
       "    }\n",
       "\n",
       "    .dataframe tbody tr th {\n",
       "        vertical-align: top;\n",
       "    }\n",
       "\n",
       "    .dataframe thead th {\n",
       "        text-align: right;\n",
       "    }\n",
       "</style>\n",
       "<table border=\"1\" class=\"dataframe\">\n",
       "  <thead>\n",
       "    <tr style=\"text-align: right;\">\n",
       "      <th></th>\n",
       "      <th>mean</th>\n",
       "      <th>count</th>\n",
       "      <th>proportion</th>\n",
       "      <th>diff</th>\n",
       "      <th>rate</th>\n",
       "    </tr>\n",
       "    <tr>\n",
       "      <th>GarageFinish</th>\n",
       "      <th></th>\n",
       "      <th></th>\n",
       "      <th></th>\n",
       "      <th></th>\n",
       "      <th></th>\n",
       "    </tr>\n",
       "  </thead>\n",
       "  <tbody>\n",
       "    <tr>\n",
       "      <th>Fin</th>\n",
       "      <td>240,052</td>\n",
       "      <td>352</td>\n",
       "      <td>0.24</td>\n",
       "      <td>59131.0</td>\n",
       "      <td>1.327</td>\n",
       "    </tr>\n",
       "    <tr>\n",
       "      <th>RFn</th>\n",
       "      <td>202,068</td>\n",
       "      <td>422</td>\n",
       "      <td>0.29</td>\n",
       "      <td>21148.0</td>\n",
       "      <td>1.117</td>\n",
       "    </tr>\n",
       "    <tr>\n",
       "      <th>Unf</th>\n",
       "      <td>142,156</td>\n",
       "      <td>605</td>\n",
       "      <td>0.41</td>\n",
       "      <td>-38765.0</td>\n",
       "      <td>0.786</td>\n",
       "    </tr>\n",
       "  </tbody>\n",
       "</table>\n",
       "</div>"
      ],
      "text/plain": [
       "                 mean  count  proportion     diff   rate\n",
       "GarageFinish                                            \n",
       "Fin           240,052    352        0.24  59131.0  1.327\n",
       "RFn           202,068    422        0.29  21148.0  1.117\n",
       "Unf           142,156    605        0.41 -38765.0  0.786"
      ]
     },
     "metadata": {},
     "output_type": "display_data"
    },
    {
     "name": "stdout",
     "output_type": "stream",
     "text": [
      "Stats for GarageQual (Garage quality):\n"
     ]
    },
    {
     "data": {
      "text/html": [
       "<div>\n",
       "<style scoped>\n",
       "    .dataframe tbody tr th:only-of-type {\n",
       "        vertical-align: middle;\n",
       "    }\n",
       "\n",
       "    .dataframe tbody tr th {\n",
       "        vertical-align: top;\n",
       "    }\n",
       "\n",
       "    .dataframe thead th {\n",
       "        text-align: right;\n",
       "    }\n",
       "</style>\n",
       "<table border=\"1\" class=\"dataframe\">\n",
       "  <thead>\n",
       "    <tr style=\"text-align: right;\">\n",
       "      <th></th>\n",
       "      <th>mean</th>\n",
       "      <th>count</th>\n",
       "      <th>proportion</th>\n",
       "      <th>diff</th>\n",
       "      <th>rate</th>\n",
       "    </tr>\n",
       "    <tr>\n",
       "      <th>GarageQual</th>\n",
       "      <th></th>\n",
       "      <th></th>\n",
       "      <th></th>\n",
       "      <th></th>\n",
       "      <th></th>\n",
       "    </tr>\n",
       "  </thead>\n",
       "  <tbody>\n",
       "    <tr>\n",
       "      <th>Ex</th>\n",
       "      <td>241,000</td>\n",
       "      <td>3</td>\n",
       "      <td>0.00</td>\n",
       "      <td>60079.0</td>\n",
       "      <td>1.332</td>\n",
       "    </tr>\n",
       "    <tr>\n",
       "      <th>Fa</th>\n",
       "      <td>123,573</td>\n",
       "      <td>48</td>\n",
       "      <td>0.03</td>\n",
       "      <td>-57348.0</td>\n",
       "      <td>0.683</td>\n",
       "    </tr>\n",
       "    <tr>\n",
       "      <th>Gd</th>\n",
       "      <td>215,860</td>\n",
       "      <td>14</td>\n",
       "      <td>0.01</td>\n",
       "      <td>34940.0</td>\n",
       "      <td>1.193</td>\n",
       "    </tr>\n",
       "    <tr>\n",
       "      <th>Po</th>\n",
       "      <td>100,166</td>\n",
       "      <td>3</td>\n",
       "      <td>0.00</td>\n",
       "      <td>-80755.0</td>\n",
       "      <td>0.554</td>\n",
       "    </tr>\n",
       "    <tr>\n",
       "      <th>TA</th>\n",
       "      <td>187,489</td>\n",
       "      <td>1311</td>\n",
       "      <td>0.90</td>\n",
       "      <td>6569.0</td>\n",
       "      <td>1.036</td>\n",
       "    </tr>\n",
       "  </tbody>\n",
       "</table>\n",
       "</div>"
      ],
      "text/plain": [
       "               mean  count  proportion     diff   rate\n",
       "GarageQual                                            \n",
       "Ex          241,000      3        0.00  60079.0  1.332\n",
       "Fa          123,573     48        0.03 -57348.0  0.683\n",
       "Gd          215,860     14        0.01  34940.0  1.193\n",
       "Po          100,166      3        0.00 -80755.0  0.554\n",
       "TA          187,489   1311        0.90   6569.0  1.036"
      ]
     },
     "metadata": {},
     "output_type": "display_data"
    },
    {
     "name": "stdout",
     "output_type": "stream",
     "text": [
      "Stats for GarageCond (Garage condition):\n"
     ]
    },
    {
     "data": {
      "text/html": [
       "<div>\n",
       "<style scoped>\n",
       "    .dataframe tbody tr th:only-of-type {\n",
       "        vertical-align: middle;\n",
       "    }\n",
       "\n",
       "    .dataframe tbody tr th {\n",
       "        vertical-align: top;\n",
       "    }\n",
       "\n",
       "    .dataframe thead th {\n",
       "        text-align: right;\n",
       "    }\n",
       "</style>\n",
       "<table border=\"1\" class=\"dataframe\">\n",
       "  <thead>\n",
       "    <tr style=\"text-align: right;\">\n",
       "      <th></th>\n",
       "      <th>mean</th>\n",
       "      <th>count</th>\n",
       "      <th>proportion</th>\n",
       "      <th>diff</th>\n",
       "      <th>rate</th>\n",
       "    </tr>\n",
       "    <tr>\n",
       "      <th>GarageCond</th>\n",
       "      <th></th>\n",
       "      <th></th>\n",
       "      <th></th>\n",
       "      <th></th>\n",
       "      <th></th>\n",
       "    </tr>\n",
       "  </thead>\n",
       "  <tbody>\n",
       "    <tr>\n",
       "      <th>Ex</th>\n",
       "      <td>124,000</td>\n",
       "      <td>2</td>\n",
       "      <td>0.00</td>\n",
       "      <td>-56921.0</td>\n",
       "      <td>0.685</td>\n",
       "    </tr>\n",
       "    <tr>\n",
       "      <th>Fa</th>\n",
       "      <td>114,654</td>\n",
       "      <td>35</td>\n",
       "      <td>0.02</td>\n",
       "      <td>-66267.0</td>\n",
       "      <td>0.634</td>\n",
       "    </tr>\n",
       "    <tr>\n",
       "      <th>Gd</th>\n",
       "      <td>179,930</td>\n",
       "      <td>9</td>\n",
       "      <td>0.01</td>\n",
       "      <td>-991.0</td>\n",
       "      <td>0.995</td>\n",
       "    </tr>\n",
       "    <tr>\n",
       "      <th>Po</th>\n",
       "      <td>108,500</td>\n",
       "      <td>7</td>\n",
       "      <td>0.00</td>\n",
       "      <td>-72421.0</td>\n",
       "      <td>0.600</td>\n",
       "    </tr>\n",
       "    <tr>\n",
       "      <th>TA</th>\n",
       "      <td>187,885</td>\n",
       "      <td>1326</td>\n",
       "      <td>0.91</td>\n",
       "      <td>6965.0</td>\n",
       "      <td>1.038</td>\n",
       "    </tr>\n",
       "  </tbody>\n",
       "</table>\n",
       "</div>"
      ],
      "text/plain": [
       "               mean  count  proportion     diff   rate\n",
       "GarageCond                                            \n",
       "Ex          124,000      2        0.00 -56921.0  0.685\n",
       "Fa          114,654     35        0.02 -66267.0  0.634\n",
       "Gd          179,930      9        0.01   -991.0  0.995\n",
       "Po          108,500      7        0.00 -72421.0  0.600\n",
       "TA          187,885   1326        0.91   6965.0  1.038"
      ]
     },
     "metadata": {},
     "output_type": "display_data"
    },
    {
     "name": "stdout",
     "output_type": "stream",
     "text": [
      "Stats for PavedDrive (Paved driveway):\n"
     ]
    },
    {
     "data": {
      "text/html": [
       "<div>\n",
       "<style scoped>\n",
       "    .dataframe tbody tr th:only-of-type {\n",
       "        vertical-align: middle;\n",
       "    }\n",
       "\n",
       "    .dataframe tbody tr th {\n",
       "        vertical-align: top;\n",
       "    }\n",
       "\n",
       "    .dataframe thead th {\n",
       "        text-align: right;\n",
       "    }\n",
       "</style>\n",
       "<table border=\"1\" class=\"dataframe\">\n",
       "  <thead>\n",
       "    <tr style=\"text-align: right;\">\n",
       "      <th></th>\n",
       "      <th>mean</th>\n",
       "      <th>count</th>\n",
       "      <th>proportion</th>\n",
       "      <th>diff</th>\n",
       "      <th>rate</th>\n",
       "    </tr>\n",
       "    <tr>\n",
       "      <th>PavedDrive</th>\n",
       "      <th></th>\n",
       "      <th></th>\n",
       "      <th></th>\n",
       "      <th></th>\n",
       "      <th></th>\n",
       "    </tr>\n",
       "  </thead>\n",
       "  <tbody>\n",
       "    <tr>\n",
       "      <th>N</th>\n",
       "      <td>115,039</td>\n",
       "      <td>90</td>\n",
       "      <td>0.06</td>\n",
       "      <td>-65882.0</td>\n",
       "      <td>0.636</td>\n",
       "    </tr>\n",
       "    <tr>\n",
       "      <th>P</th>\n",
       "      <td>132,330</td>\n",
       "      <td>30</td>\n",
       "      <td>0.02</td>\n",
       "      <td>-48591.0</td>\n",
       "      <td>0.731</td>\n",
       "    </tr>\n",
       "    <tr>\n",
       "      <th>Y</th>\n",
       "      <td>186,433</td>\n",
       "      <td>1340</td>\n",
       "      <td>0.92</td>\n",
       "      <td>5513.0</td>\n",
       "      <td>1.030</td>\n",
       "    </tr>\n",
       "  </tbody>\n",
       "</table>\n",
       "</div>"
      ],
      "text/plain": [
       "               mean  count  proportion     diff   rate\n",
       "PavedDrive                                            \n",
       "N           115,039     90        0.06 -65882.0  0.636\n",
       "P           132,330     30        0.02 -48591.0  0.731\n",
       "Y           186,433   1340        0.92   5513.0  1.030"
      ]
     },
     "metadata": {},
     "output_type": "display_data"
    },
    {
     "name": "stdout",
     "output_type": "stream",
     "text": [
      "Stats for PoolQC (Pool quality):\n"
     ]
    },
    {
     "data": {
      "text/html": [
       "<div>\n",
       "<style scoped>\n",
       "    .dataframe tbody tr th:only-of-type {\n",
       "        vertical-align: middle;\n",
       "    }\n",
       "\n",
       "    .dataframe tbody tr th {\n",
       "        vertical-align: top;\n",
       "    }\n",
       "\n",
       "    .dataframe thead th {\n",
       "        text-align: right;\n",
       "    }\n",
       "</style>\n",
       "<table border=\"1\" class=\"dataframe\">\n",
       "  <thead>\n",
       "    <tr style=\"text-align: right;\">\n",
       "      <th></th>\n",
       "      <th>mean</th>\n",
       "      <th>count</th>\n",
       "      <th>proportion</th>\n",
       "      <th>diff</th>\n",
       "      <th>rate</th>\n",
       "    </tr>\n",
       "    <tr>\n",
       "      <th>PoolQC</th>\n",
       "      <th></th>\n",
       "      <th></th>\n",
       "      <th></th>\n",
       "      <th></th>\n",
       "      <th></th>\n",
       "    </tr>\n",
       "  </thead>\n",
       "  <tbody>\n",
       "    <tr>\n",
       "      <th>Ex</th>\n",
       "      <td>490,000</td>\n",
       "      <td>2</td>\n",
       "      <td>0.0</td>\n",
       "      <td>309079.0</td>\n",
       "      <td>2.708</td>\n",
       "    </tr>\n",
       "    <tr>\n",
       "      <th>Fa</th>\n",
       "      <td>215,500</td>\n",
       "      <td>2</td>\n",
       "      <td>0.0</td>\n",
       "      <td>34579.0</td>\n",
       "      <td>1.191</td>\n",
       "    </tr>\n",
       "    <tr>\n",
       "      <th>Gd</th>\n",
       "      <td>201,990</td>\n",
       "      <td>3</td>\n",
       "      <td>0.0</td>\n",
       "      <td>21069.0</td>\n",
       "      <td>1.116</td>\n",
       "    </tr>\n",
       "    <tr>\n",
       "      <th>NA</th>\n",
       "      <td>180,404</td>\n",
       "      <td>1453</td>\n",
       "      <td>1.0</td>\n",
       "      <td>-517.0</td>\n",
       "      <td>0.997</td>\n",
       "    </tr>\n",
       "  </tbody>\n",
       "</table>\n",
       "</div>"
      ],
      "text/plain": [
       "           mean  count  proportion      diff   rate\n",
       "PoolQC                                             \n",
       "Ex      490,000      2         0.0  309079.0  2.708\n",
       "Fa      215,500      2         0.0   34579.0  1.191\n",
       "Gd      201,990      3         0.0   21069.0  1.116\n",
       "NA      180,404   1453         1.0    -517.0  0.997"
      ]
     },
     "metadata": {},
     "output_type": "display_data"
    },
    {
     "name": "stdout",
     "output_type": "stream",
     "text": [
      "Stats for Fence (Fence quality):\n"
     ]
    },
    {
     "data": {
      "text/html": [
       "<div>\n",
       "<style scoped>\n",
       "    .dataframe tbody tr th:only-of-type {\n",
       "        vertical-align: middle;\n",
       "    }\n",
       "\n",
       "    .dataframe tbody tr th {\n",
       "        vertical-align: top;\n",
       "    }\n",
       "\n",
       "    .dataframe thead th {\n",
       "        text-align: right;\n",
       "    }\n",
       "</style>\n",
       "<table border=\"1\" class=\"dataframe\">\n",
       "  <thead>\n",
       "    <tr style=\"text-align: right;\">\n",
       "      <th></th>\n",
       "      <th>mean</th>\n",
       "      <th>count</th>\n",
       "      <th>proportion</th>\n",
       "      <th>diff</th>\n",
       "      <th>rate</th>\n",
       "    </tr>\n",
       "    <tr>\n",
       "      <th>Fence</th>\n",
       "      <th></th>\n",
       "      <th></th>\n",
       "      <th></th>\n",
       "      <th></th>\n",
       "      <th></th>\n",
       "    </tr>\n",
       "  </thead>\n",
       "  <tbody>\n",
       "    <tr>\n",
       "      <th>GdPrv</th>\n",
       "      <td>178,927</td>\n",
       "      <td>59</td>\n",
       "      <td>0.04</td>\n",
       "      <td>-1994.0</td>\n",
       "      <td>0.989</td>\n",
       "    </tr>\n",
       "    <tr>\n",
       "      <th>GdWo</th>\n",
       "      <td>140,379</td>\n",
       "      <td>54</td>\n",
       "      <td>0.04</td>\n",
       "      <td>-40542.0</td>\n",
       "      <td>0.776</td>\n",
       "    </tr>\n",
       "    <tr>\n",
       "      <th>MnPrv</th>\n",
       "      <td>148,751</td>\n",
       "      <td>157</td>\n",
       "      <td>0.11</td>\n",
       "      <td>-32170.0</td>\n",
       "      <td>0.822</td>\n",
       "    </tr>\n",
       "    <tr>\n",
       "      <th>MnWw</th>\n",
       "      <td>134,286</td>\n",
       "      <td>11</td>\n",
       "      <td>0.01</td>\n",
       "      <td>-46635.0</td>\n",
       "      <td>0.742</td>\n",
       "    </tr>\n",
       "    <tr>\n",
       "      <th>NA</th>\n",
       "      <td>187,596</td>\n",
       "      <td>1179</td>\n",
       "      <td>0.81</td>\n",
       "      <td>6676.0</td>\n",
       "      <td>1.037</td>\n",
       "    </tr>\n",
       "  </tbody>\n",
       "</table>\n",
       "</div>"
      ],
      "text/plain": [
       "          mean  count  proportion     diff   rate\n",
       "Fence                                            \n",
       "GdPrv  178,927     59        0.04  -1994.0  0.989\n",
       "GdWo   140,379     54        0.04 -40542.0  0.776\n",
       "MnPrv  148,751    157        0.11 -32170.0  0.822\n",
       "MnWw   134,286     11        0.01 -46635.0  0.742\n",
       "NA     187,596   1179        0.81   6676.0  1.037"
      ]
     },
     "metadata": {},
     "output_type": "display_data"
    },
    {
     "name": "stdout",
     "output_type": "stream",
     "text": [
      "Stats for MiscFeature (Miscellaneous feature not covered in other categories):\n"
     ]
    },
    {
     "data": {
      "text/html": [
       "<div>\n",
       "<style scoped>\n",
       "    .dataframe tbody tr th:only-of-type {\n",
       "        vertical-align: middle;\n",
       "    }\n",
       "\n",
       "    .dataframe tbody tr th {\n",
       "        vertical-align: top;\n",
       "    }\n",
       "\n",
       "    .dataframe thead th {\n",
       "        text-align: right;\n",
       "    }\n",
       "</style>\n",
       "<table border=\"1\" class=\"dataframe\">\n",
       "  <thead>\n",
       "    <tr style=\"text-align: right;\">\n",
       "      <th></th>\n",
       "      <th>mean</th>\n",
       "      <th>count</th>\n",
       "      <th>proportion</th>\n",
       "      <th>diff</th>\n",
       "      <th>rate</th>\n",
       "    </tr>\n",
       "    <tr>\n",
       "      <th>MiscFeature</th>\n",
       "      <th></th>\n",
       "      <th></th>\n",
       "      <th></th>\n",
       "      <th></th>\n",
       "      <th></th>\n",
       "    </tr>\n",
       "  </thead>\n",
       "  <tbody>\n",
       "    <tr>\n",
       "      <th>Gar2</th>\n",
       "      <td>170,750</td>\n",
       "      <td>2</td>\n",
       "      <td>0.00</td>\n",
       "      <td>-10171.0</td>\n",
       "      <td>0.944</td>\n",
       "    </tr>\n",
       "    <tr>\n",
       "      <th>NA</th>\n",
       "      <td>182,046</td>\n",
       "      <td>1406</td>\n",
       "      <td>0.96</td>\n",
       "      <td>1125.0</td>\n",
       "      <td>1.006</td>\n",
       "    </tr>\n",
       "    <tr>\n",
       "      <th>Othr</th>\n",
       "      <td>94,000</td>\n",
       "      <td>2</td>\n",
       "      <td>0.00</td>\n",
       "      <td>-86921.0</td>\n",
       "      <td>0.520</td>\n",
       "    </tr>\n",
       "    <tr>\n",
       "      <th>Shed</th>\n",
       "      <td>151,187</td>\n",
       "      <td>49</td>\n",
       "      <td>0.03</td>\n",
       "      <td>-29734.0</td>\n",
       "      <td>0.836</td>\n",
       "    </tr>\n",
       "    <tr>\n",
       "      <th>TenC</th>\n",
       "      <td>250,000</td>\n",
       "      <td>1</td>\n",
       "      <td>0.00</td>\n",
       "      <td>69079.0</td>\n",
       "      <td>1.382</td>\n",
       "    </tr>\n",
       "  </tbody>\n",
       "</table>\n",
       "</div>"
      ],
      "text/plain": [
       "                mean  count  proportion     diff   rate\n",
       "MiscFeature                                            \n",
       "Gar2         170,750      2        0.00 -10171.0  0.944\n",
       "NA           182,046   1406        0.96   1125.0  1.006\n",
       "Othr          94,000      2        0.00 -86921.0  0.520\n",
       "Shed         151,187     49        0.03 -29734.0  0.836\n",
       "TenC         250,000      1        0.00  69079.0  1.382"
      ]
     },
     "metadata": {},
     "output_type": "display_data"
    },
    {
     "name": "stdout",
     "output_type": "stream",
     "text": [
      "Stats for SaleType (Type of sale):\n"
     ]
    },
    {
     "data": {
      "text/html": [
       "<div>\n",
       "<style scoped>\n",
       "    .dataframe tbody tr th:only-of-type {\n",
       "        vertical-align: middle;\n",
       "    }\n",
       "\n",
       "    .dataframe tbody tr th {\n",
       "        vertical-align: top;\n",
       "    }\n",
       "\n",
       "    .dataframe thead th {\n",
       "        text-align: right;\n",
       "    }\n",
       "</style>\n",
       "<table border=\"1\" class=\"dataframe\">\n",
       "  <thead>\n",
       "    <tr style=\"text-align: right;\">\n",
       "      <th></th>\n",
       "      <th>mean</th>\n",
       "      <th>count</th>\n",
       "      <th>proportion</th>\n",
       "      <th>diff</th>\n",
       "      <th>rate</th>\n",
       "    </tr>\n",
       "    <tr>\n",
       "      <th>SaleType</th>\n",
       "      <th></th>\n",
       "      <th></th>\n",
       "      <th></th>\n",
       "      <th></th>\n",
       "      <th></th>\n",
       "    </tr>\n",
       "  </thead>\n",
       "  <tbody>\n",
       "    <tr>\n",
       "      <th>COD</th>\n",
       "      <td>143,973</td>\n",
       "      <td>43</td>\n",
       "      <td>0.03</td>\n",
       "      <td>-36948.0</td>\n",
       "      <td>0.796</td>\n",
       "    </tr>\n",
       "    <tr>\n",
       "      <th>CWD</th>\n",
       "      <td>210,600</td>\n",
       "      <td>4</td>\n",
       "      <td>0.00</td>\n",
       "      <td>29679.0</td>\n",
       "      <td>1.164</td>\n",
       "    </tr>\n",
       "    <tr>\n",
       "      <th>Con</th>\n",
       "      <td>269,600</td>\n",
       "      <td>2</td>\n",
       "      <td>0.00</td>\n",
       "      <td>88679.0</td>\n",
       "      <td>1.490</td>\n",
       "    </tr>\n",
       "    <tr>\n",
       "      <th>ConLD</th>\n",
       "      <td>138,780</td>\n",
       "      <td>9</td>\n",
       "      <td>0.01</td>\n",
       "      <td>-42140.0</td>\n",
       "      <td>0.767</td>\n",
       "    </tr>\n",
       "    <tr>\n",
       "      <th>ConLI</th>\n",
       "      <td>200,390</td>\n",
       "      <td>5</td>\n",
       "      <td>0.00</td>\n",
       "      <td>19469.0</td>\n",
       "      <td>1.108</td>\n",
       "    </tr>\n",
       "    <tr>\n",
       "      <th>ConLw</th>\n",
       "      <td>143,700</td>\n",
       "      <td>5</td>\n",
       "      <td>0.00</td>\n",
       "      <td>-37221.0</td>\n",
       "      <td>0.794</td>\n",
       "    </tr>\n",
       "    <tr>\n",
       "      <th>New</th>\n",
       "      <td>274,945</td>\n",
       "      <td>122</td>\n",
       "      <td>0.08</td>\n",
       "      <td>94024.0</td>\n",
       "      <td>1.520</td>\n",
       "    </tr>\n",
       "    <tr>\n",
       "      <th>Oth</th>\n",
       "      <td>119,850</td>\n",
       "      <td>3</td>\n",
       "      <td>0.00</td>\n",
       "      <td>-61071.0</td>\n",
       "      <td>0.662</td>\n",
       "    </tr>\n",
       "    <tr>\n",
       "      <th>WD</th>\n",
       "      <td>173,401</td>\n",
       "      <td>1267</td>\n",
       "      <td>0.87</td>\n",
       "      <td>-7519.0</td>\n",
       "      <td>0.958</td>\n",
       "    </tr>\n",
       "  </tbody>\n",
       "</table>\n",
       "</div>"
      ],
      "text/plain": [
       "             mean  count  proportion     diff   rate\n",
       "SaleType                                            \n",
       "COD       143,973     43        0.03 -36948.0  0.796\n",
       "CWD       210,600      4        0.00  29679.0  1.164\n",
       "Con       269,600      2        0.00  88679.0  1.490\n",
       "ConLD     138,780      9        0.01 -42140.0  0.767\n",
       "ConLI     200,390      5        0.00  19469.0  1.108\n",
       "ConLw     143,700      5        0.00 -37221.0  0.794\n",
       "New       274,945    122        0.08  94024.0  1.520\n",
       "Oth       119,850      3        0.00 -61071.0  0.662\n",
       "WD        173,401   1267        0.87  -7519.0  0.958"
      ]
     },
     "metadata": {},
     "output_type": "display_data"
    },
    {
     "name": "stdout",
     "output_type": "stream",
     "text": [
      "Stats for SaleCondition (Condition of sale):\n"
     ]
    },
    {
     "data": {
      "text/html": [
       "<div>\n",
       "<style scoped>\n",
       "    .dataframe tbody tr th:only-of-type {\n",
       "        vertical-align: middle;\n",
       "    }\n",
       "\n",
       "    .dataframe tbody tr th {\n",
       "        vertical-align: top;\n",
       "    }\n",
       "\n",
       "    .dataframe thead th {\n",
       "        text-align: right;\n",
       "    }\n",
       "</style>\n",
       "<table border=\"1\" class=\"dataframe\">\n",
       "  <thead>\n",
       "    <tr style=\"text-align: right;\">\n",
       "      <th></th>\n",
       "      <th>mean</th>\n",
       "      <th>count</th>\n",
       "      <th>proportion</th>\n",
       "      <th>diff</th>\n",
       "      <th>rate</th>\n",
       "    </tr>\n",
       "    <tr>\n",
       "      <th>SaleCondition</th>\n",
       "      <th></th>\n",
       "      <th></th>\n",
       "      <th></th>\n",
       "      <th></th>\n",
       "      <th></th>\n",
       "    </tr>\n",
       "  </thead>\n",
       "  <tbody>\n",
       "    <tr>\n",
       "      <th>Abnorml</th>\n",
       "      <td>146,526</td>\n",
       "      <td>101</td>\n",
       "      <td>0.07</td>\n",
       "      <td>-34395.0</td>\n",
       "      <td>0.810</td>\n",
       "    </tr>\n",
       "    <tr>\n",
       "      <th>AdjLand</th>\n",
       "      <td>104,125</td>\n",
       "      <td>4</td>\n",
       "      <td>0.00</td>\n",
       "      <td>-76796.0</td>\n",
       "      <td>0.576</td>\n",
       "    </tr>\n",
       "    <tr>\n",
       "      <th>Alloca</th>\n",
       "      <td>167,377</td>\n",
       "      <td>12</td>\n",
       "      <td>0.01</td>\n",
       "      <td>-13544.0</td>\n",
       "      <td>0.925</td>\n",
       "    </tr>\n",
       "    <tr>\n",
       "      <th>Family</th>\n",
       "      <td>149,600</td>\n",
       "      <td>20</td>\n",
       "      <td>0.01</td>\n",
       "      <td>-31321.0</td>\n",
       "      <td>0.827</td>\n",
       "    </tr>\n",
       "    <tr>\n",
       "      <th>Normal</th>\n",
       "      <td>175,202</td>\n",
       "      <td>1198</td>\n",
       "      <td>0.82</td>\n",
       "      <td>-5719.0</td>\n",
       "      <td>0.968</td>\n",
       "    </tr>\n",
       "    <tr>\n",
       "      <th>Partial</th>\n",
       "      <td>272,291</td>\n",
       "      <td>125</td>\n",
       "      <td>0.09</td>\n",
       "      <td>91371.0</td>\n",
       "      <td>1.505</td>\n",
       "    </tr>\n",
       "  </tbody>\n",
       "</table>\n",
       "</div>"
      ],
      "text/plain": [
       "                  mean  count  proportion     diff   rate\n",
       "SaleCondition                                            \n",
       "Abnorml        146,526    101        0.07 -34395.0  0.810\n",
       "AdjLand        104,125      4        0.00 -76796.0  0.576\n",
       "Alloca         167,377     12        0.01 -13544.0  0.925\n",
       "Family         149,600     20        0.01 -31321.0  0.827\n",
       "Normal         175,202   1198        0.82  -5719.0  0.968\n",
       "Partial        272,291    125        0.09  91371.0  1.505"
      ]
     },
     "metadata": {},
     "output_type": "display_data"
    },
    {
     "name": "stdout",
     "output_type": "stream",
     "text": [
      "Stats for MSSubClass (Identifies the type of dwelling involved in the sale.\t):\n"
     ]
    },
    {
     "data": {
      "text/html": [
       "<div>\n",
       "<style scoped>\n",
       "    .dataframe tbody tr th:only-of-type {\n",
       "        vertical-align: middle;\n",
       "    }\n",
       "\n",
       "    .dataframe tbody tr th {\n",
       "        vertical-align: top;\n",
       "    }\n",
       "\n",
       "    .dataframe thead th {\n",
       "        text-align: right;\n",
       "    }\n",
       "</style>\n",
       "<table border=\"1\" class=\"dataframe\">\n",
       "  <thead>\n",
       "    <tr style=\"text-align: right;\">\n",
       "      <th></th>\n",
       "      <th>mean</th>\n",
       "      <th>count</th>\n",
       "      <th>proportion</th>\n",
       "      <th>diff</th>\n",
       "      <th>rate</th>\n",
       "    </tr>\n",
       "    <tr>\n",
       "      <th>MSSubClass</th>\n",
       "      <th></th>\n",
       "      <th></th>\n",
       "      <th></th>\n",
       "      <th></th>\n",
       "      <th></th>\n",
       "    </tr>\n",
       "  </thead>\n",
       "  <tbody>\n",
       "    <tr>\n",
       "      <th>120</th>\n",
       "      <td>200,779</td>\n",
       "      <td>87</td>\n",
       "      <td>0.06</td>\n",
       "      <td>19858.0</td>\n",
       "      <td>1.110</td>\n",
       "    </tr>\n",
       "    <tr>\n",
       "      <th>160</th>\n",
       "      <td>138,647</td>\n",
       "      <td>63</td>\n",
       "      <td>0.04</td>\n",
       "      <td>-42274.0</td>\n",
       "      <td>0.766</td>\n",
       "    </tr>\n",
       "    <tr>\n",
       "      <th>180</th>\n",
       "      <td>102,300</td>\n",
       "      <td>10</td>\n",
       "      <td>0.01</td>\n",
       "      <td>-78621.0</td>\n",
       "      <td>0.565</td>\n",
       "    </tr>\n",
       "    <tr>\n",
       "      <th>190</th>\n",
       "      <td>129,613</td>\n",
       "      <td>30</td>\n",
       "      <td>0.02</td>\n",
       "      <td>-51308.0</td>\n",
       "      <td>0.716</td>\n",
       "    </tr>\n",
       "    <tr>\n",
       "      <th>20</th>\n",
       "      <td>185,224</td>\n",
       "      <td>536</td>\n",
       "      <td>0.37</td>\n",
       "      <td>4304.0</td>\n",
       "      <td>1.024</td>\n",
       "    </tr>\n",
       "    <tr>\n",
       "      <th>30</th>\n",
       "      <td>95,829</td>\n",
       "      <td>69</td>\n",
       "      <td>0.05</td>\n",
       "      <td>-85091.0</td>\n",
       "      <td>0.530</td>\n",
       "    </tr>\n",
       "    <tr>\n",
       "      <th>40</th>\n",
       "      <td>156,125</td>\n",
       "      <td>4</td>\n",
       "      <td>0.00</td>\n",
       "      <td>-24796.0</td>\n",
       "      <td>0.863</td>\n",
       "    </tr>\n",
       "    <tr>\n",
       "      <th>45</th>\n",
       "      <td>108,591</td>\n",
       "      <td>12</td>\n",
       "      <td>0.01</td>\n",
       "      <td>-72330.0</td>\n",
       "      <td>0.600</td>\n",
       "    </tr>\n",
       "    <tr>\n",
       "      <th>50</th>\n",
       "      <td>143,302</td>\n",
       "      <td>144</td>\n",
       "      <td>0.10</td>\n",
       "      <td>-37618.0</td>\n",
       "      <td>0.792</td>\n",
       "    </tr>\n",
       "    <tr>\n",
       "      <th>60</th>\n",
       "      <td>239,948</td>\n",
       "      <td>299</td>\n",
       "      <td>0.20</td>\n",
       "      <td>59027.0</td>\n",
       "      <td>1.326</td>\n",
       "    </tr>\n",
       "    <tr>\n",
       "      <th>70</th>\n",
       "      <td>166,772</td>\n",
       "      <td>60</td>\n",
       "      <td>0.04</td>\n",
       "      <td>-14149.0</td>\n",
       "      <td>0.922</td>\n",
       "    </tr>\n",
       "    <tr>\n",
       "      <th>75</th>\n",
       "      <td>192,437</td>\n",
       "      <td>16</td>\n",
       "      <td>0.01</td>\n",
       "      <td>11516.0</td>\n",
       "      <td>1.064</td>\n",
       "    </tr>\n",
       "    <tr>\n",
       "      <th>80</th>\n",
       "      <td>169,736</td>\n",
       "      <td>58</td>\n",
       "      <td>0.04</td>\n",
       "      <td>-11185.0</td>\n",
       "      <td>0.938</td>\n",
       "    </tr>\n",
       "    <tr>\n",
       "      <th>85</th>\n",
       "      <td>147,810</td>\n",
       "      <td>20</td>\n",
       "      <td>0.01</td>\n",
       "      <td>-33111.0</td>\n",
       "      <td>0.817</td>\n",
       "    </tr>\n",
       "    <tr>\n",
       "      <th>90</th>\n",
       "      <td>133,541</td>\n",
       "      <td>52</td>\n",
       "      <td>0.04</td>\n",
       "      <td>-47380.0</td>\n",
       "      <td>0.738</td>\n",
       "    </tr>\n",
       "  </tbody>\n",
       "</table>\n",
       "</div>"
      ],
      "text/plain": [
       "               mean  count  proportion     diff   rate\n",
       "MSSubClass                                            \n",
       "120         200,779     87        0.06  19858.0  1.110\n",
       "160         138,647     63        0.04 -42274.0  0.766\n",
       "180         102,300     10        0.01 -78621.0  0.565\n",
       "190         129,613     30        0.02 -51308.0  0.716\n",
       "20          185,224    536        0.37   4304.0  1.024\n",
       "30           95,829     69        0.05 -85091.0  0.530\n",
       "40          156,125      4        0.00 -24796.0  0.863\n",
       "45          108,591     12        0.01 -72330.0  0.600\n",
       "50          143,302    144        0.10 -37618.0  0.792\n",
       "60          239,948    299        0.20  59027.0  1.326\n",
       "70          166,772     60        0.04 -14149.0  0.922\n",
       "75          192,437     16        0.01  11516.0  1.064\n",
       "80          169,736     58        0.04 -11185.0  0.938\n",
       "85          147,810     20        0.01 -33111.0  0.817\n",
       "90          133,541     52        0.04 -47380.0  0.738"
      ]
     },
     "metadata": {},
     "output_type": "display_data"
    },
    {
     "name": "stdout",
     "output_type": "stream",
     "text": [
      "Stats for YrSold (Year Sold (YYYY)):\n"
     ]
    },
    {
     "data": {
      "text/html": [
       "<div>\n",
       "<style scoped>\n",
       "    .dataframe tbody tr th:only-of-type {\n",
       "        vertical-align: middle;\n",
       "    }\n",
       "\n",
       "    .dataframe tbody tr th {\n",
       "        vertical-align: top;\n",
       "    }\n",
       "\n",
       "    .dataframe thead th {\n",
       "        text-align: right;\n",
       "    }\n",
       "</style>\n",
       "<table border=\"1\" class=\"dataframe\">\n",
       "  <thead>\n",
       "    <tr style=\"text-align: right;\">\n",
       "      <th></th>\n",
       "      <th>mean</th>\n",
       "      <th>count</th>\n",
       "      <th>proportion</th>\n",
       "      <th>diff</th>\n",
       "      <th>rate</th>\n",
       "    </tr>\n",
       "    <tr>\n",
       "      <th>YrSold</th>\n",
       "      <th></th>\n",
       "      <th></th>\n",
       "      <th></th>\n",
       "      <th></th>\n",
       "      <th></th>\n",
       "    </tr>\n",
       "  </thead>\n",
       "  <tbody>\n",
       "    <tr>\n",
       "      <th>2006</th>\n",
       "      <td>182,549</td>\n",
       "      <td>314</td>\n",
       "      <td>0.22</td>\n",
       "      <td>1628.0</td>\n",
       "      <td>1.009</td>\n",
       "    </tr>\n",
       "    <tr>\n",
       "      <th>2007</th>\n",
       "      <td>186,063</td>\n",
       "      <td>329</td>\n",
       "      <td>0.23</td>\n",
       "      <td>5142.0</td>\n",
       "      <td>1.028</td>\n",
       "    </tr>\n",
       "    <tr>\n",
       "      <th>2008</th>\n",
       "      <td>177,360</td>\n",
       "      <td>304</td>\n",
       "      <td>0.21</td>\n",
       "      <td>-3560.0</td>\n",
       "      <td>0.980</td>\n",
       "    </tr>\n",
       "    <tr>\n",
       "      <th>2009</th>\n",
       "      <td>179,432</td>\n",
       "      <td>338</td>\n",
       "      <td>0.23</td>\n",
       "      <td>-1489.0</td>\n",
       "      <td>0.992</td>\n",
       "    </tr>\n",
       "    <tr>\n",
       "      <th>2010</th>\n",
       "      <td>177,393</td>\n",
       "      <td>175</td>\n",
       "      <td>0.12</td>\n",
       "      <td>-3528.0</td>\n",
       "      <td>0.981</td>\n",
       "    </tr>\n",
       "  </tbody>\n",
       "</table>\n",
       "</div>"
      ],
      "text/plain": [
       "           mean  count  proportion    diff   rate\n",
       "YrSold                                           \n",
       "2006    182,549    314        0.22  1628.0  1.009\n",
       "2007    186,063    329        0.23  5142.0  1.028\n",
       "2008    177,360    304        0.21 -3560.0  0.980\n",
       "2009    179,432    338        0.23 -1489.0  0.992\n",
       "2010    177,393    175        0.12 -3528.0  0.981"
      ]
     },
     "metadata": {},
     "output_type": "display_data"
    }
   ],
   "source": [
    "for col in categorical:\n",
    "    df_group = df.groupby(by=col).SalePrice.agg(['mean', 'count'])\n",
    "    df_group['proportion'] = round(df_group['count']/row_ct, 2)\n",
    "    df_group['diff'] = round(df_group['mean'] - tgt_mean, 0)\n",
    "    df_group['rate'] = round((df_group['mean'] / tgt_mean), 3)\n",
    "    df_group['mean'] = df_group['mean'].astype(int)\n",
    "    df_group['mean'] = df_group['mean'].apply('{:,}'.format)\n",
    "    print(f\"Stats for {col} ({desc_dict[col]}):\")\n",
    "    display(df_group)"
   ]
  },
  {
   "cell_type": "markdown",
   "metadata": {},
   "source": [
    "The above statistics reveal that numerous features are highly imbalanced - therefore, they can be removed from the model."
   ]
  },
  {
   "cell_type": "code",
   "execution_count": 40,
   "metadata": {},
   "outputs": [],
   "source": [
    "for c in [\n",
    "'Street',\n",
    "'Alley',\n",
    "'LandContour',\n",
    "'Utilities',\n",
    "'LandSlope',\n",
    "'Condition2',\n",
    "'RoofMatl',\n",
    "'Heating',\n",
    "'Electrical',\n",
    "'GarageQual',\n",
    "'GarageCond',\n",
    "'PavedDrive',\n",
    "'PoolQC',\n",
    "'MiscFeature',\n",
    "'BsmtCond',\n",
    "'Functional',\n",
    "'CentralAir'\n",
    "]:\n",
    "    categorical.remove(c)"
   ]
  },
  {
   "cell_type": "markdown",
   "metadata": {},
   "source": [
    "## Training the Model"
   ]
  },
  {
   "cell_type": "markdown",
   "metadata": {},
   "source": [
    "### Test/Val/Train Split"
   ]
  },
  {
   "cell_type": "code",
   "execution_count": 41,
   "metadata": {},
   "outputs": [
    {
     "data": {
      "text/plain": [
       "(876, 292, 292)"
      ]
     },
     "execution_count": 41,
     "metadata": {},
     "output_type": "execute_result"
    },
    {
     "data": {
      "text/plain": [
       "True"
      ]
     },
     "execution_count": 41,
     "metadata": {},
     "output_type": "execute_result"
    },
    {
     "data": {
      "text/plain": [
       "array([12.46844076, 11.85652226, 12.15478461, 11.74006901, 12.20557752,\n",
       "       12.31717117, 12.37159132, 12.06105265, 11.40757606, 11.7745279 ,\n",
       "       12.18587504, 12.3365569 , 12.27839796, 12.33929587, 10.91510665,\n",
       "       12.06528067, 11.97939159, 11.87688084, 11.76757544, 12.12811651,\n",
       "       12.1034916 , 11.81303746, 11.85652226, 11.6526961 , 12.01364621])"
      ]
     },
     "execution_count": 41,
     "metadata": {},
     "output_type": "execute_result"
    },
    {
     "data": {
      "text/plain": [
       "array([12.18587504, 12.0435596 , 12.44509348, 11.58896942, 12.20607765,\n",
       "       11.30221678, 12.00151161, 12.02719116, 12.38708918, 11.69108002,\n",
       "       11.58525543, 12.15478461, 11.96718709, 12.25248379, 12.2404789 ,\n",
       "       12.19096408, 12.85832231, 11.57590965, 12.1034916 , 11.77529742,\n",
       "       11.56172515, 12.57418543, 12.18587504, 12.25486757, 11.92338475])"
      ]
     },
     "execution_count": 41,
     "metadata": {},
     "output_type": "execute_result"
    },
    {
     "data": {
      "text/plain": [
       "array([12.35233947, 12.09793606, 11.71178452, 11.34451865, 11.86358938,\n",
       "       12.69350169, 12.56024797, 11.92504174, 12.18075997, 12.52453001,\n",
       "       12.07254697, 11.01864554, 12.06681633, 12.86100121, 12.34583894,\n",
       "       11.37367489, 11.73607702, 11.49883668, 12.46844076, 11.8706069 ,\n",
       "       11.72804491, 11.71587447, 12.37370772, 12.72932375, 11.23850178])"
      ]
     },
     "execution_count": 41,
     "metadata": {},
     "output_type": "execute_result"
    }
   ],
   "source": [
    "# train/validation/test split\n",
    "df['log_price'] = np.log1p(df.SalePrice)\n",
    "target = ['log_price']\n",
    "\n",
    "df_train_full, df_test = train_test_split(df[\n",
    "    numeric+\n",
    "    categorical+\n",
    "    target], test_size=0.2, random_state=1)\n",
    "df_train, df_val = train_test_split(df_train_full, test_size=0.25, random_state=1)\n",
    "\n",
    "y_train = df_train.log_price.values\n",
    "y_val = df_val.log_price.values\n",
    "y_test = df_test.log_price.values\n",
    "df_train_orig = df_train.copy()\n",
    "for d in [df_train, df_val, df_test]:\n",
    "    del d['log_price']\n",
    "    # del d['SalePrice']\n",
    "\n",
    "# Checking size\n",
    "len(df_train), len(df_val), len(df_test)\n",
    "len(df_train) + len(df_val) + len(df_test) == len(df)\n",
    "\n",
    "# Checking target\n",
    "y_train[:25]\n",
    "y_val[:25]\n",
    "y_test[:25]"
   ]
  },
  {
   "cell_type": "code",
   "execution_count": 42,
   "metadata": {},
   "outputs": [],
   "source": [
    "# train/validation/test split\n",
    "\n",
    "def split_data(df, target):\n",
    "    df_train_full, df_test = train_test_split(df[\n",
    "        numeric+\n",
    "        categorical+\n",
    "        [target]], test_size=0.2, random_state=1)\n",
    "    df_train, df_val = train_test_split(df_train_full, test_size=0.25, random_state=1)\n",
    "\n",
    "    y_train = df_train[target].values\n",
    "    y_val = df_val[target].values\n",
    "    y_test = df_test[target].values\n",
    "    # df_train_orig = df_train.copy()\n",
    "    for d in [df_train, df_val, df_test]:\n",
    "        del d[target]\n",
    "    return df_train, df_val, df_test, y_train, y_val, y_test"
   ]
  },
  {
   "cell_type": "code",
   "execution_count": 43,
   "metadata": {},
   "outputs": [],
   "source": [
    "df['SalePrice'] = np.log1p(df.SalePrice)\n",
    "\n",
    "df_train, df_val, df_test, y_train, y_val, y_test = split_data(df, 'SalePrice')"
   ]
  },
  {
   "cell_type": "code",
   "execution_count": 44,
   "metadata": {},
   "outputs": [],
   "source": [
    "# Checking split data\n",
    "def check_splits(df_train, df_val, df_test, target):\n",
    "    print(len(df_train), len(df_val), len(df_test))\n",
    "    print(len(df_train) + len(df_val) + len(df_test) == len(df))\n",
    "    print(y_train[:25])\n",
    "    print(y_val[:25])\n",
    "    print(y_test[:25])\n",
    "    sns.histplot(target)\n",
    "    for d in [df_train, df_val, df_test]:\n",
    "        d.head()"
   ]
  },
  {
   "cell_type": "code",
   "execution_count": 45,
   "metadata": {},
   "outputs": [
    {
     "name": "stdout",
     "output_type": "stream",
     "text": [
      "876 292 292\n",
      "True\n",
      "[12.46844076 11.85652226 12.15478461 11.74006901 12.20557752 12.31717117\n",
      " 12.37159132 12.06105265 11.40757606 11.7745279  12.18587504 12.3365569\n",
      " 12.27839796 12.33929587 10.91510665 12.06528067 11.97939159 11.87688084\n",
      " 11.76757544 12.12811651 12.1034916  11.81303746 11.85652226 11.6526961\n",
      " 12.01364621]\n",
      "[12.18587504 12.0435596  12.44509348 11.58896942 12.20607765 11.30221678\n",
      " 12.00151161 12.02719116 12.38708918 11.69108002 11.58525543 12.15478461\n",
      " 11.96718709 12.25248379 12.2404789  12.19096408 12.85832231 11.57590965\n",
      " 12.1034916  11.77529742 11.56172515 12.57418543 12.18587504 12.25486757\n",
      " 11.92338475]\n",
      "[12.35233947 12.09793606 11.71178452 11.34451865 11.86358938 12.69350169\n",
      " 12.56024797 11.92504174 12.18075997 12.52453001 12.07254697 11.01864554\n",
      " 12.06681633 12.86100121 12.34583894 11.37367489 11.73607702 11.49883668\n",
      " 12.46844076 11.8706069  11.72804491 11.71587447 12.37370772 12.72932375\n",
      " 11.23850178]\n"
     ]
    },
    {
     "data": {
      "image/svg+xml": "<?xml version=\"1.0\" encoding=\"utf-8\" standalone=\"no\"?>\n<!DOCTYPE svg PUBLIC \"-//W3C//DTD SVG 1.1//EN\"\n  \"http://www.w3.org/Graphics/SVG/1.1/DTD/svg11.dtd\">\n<svg height=\"247.985312pt\" version=\"1.1\" viewBox=\"0 0 386.028125 247.985312\" width=\"386.028125pt\" xmlns=\"http://www.w3.org/2000/svg\" xmlns:xlink=\"http://www.w3.org/1999/xlink\">\n <metadata>\n  <rdf:RDF xmlns:cc=\"http://creativecommons.org/ns#\" xmlns:dc=\"http://purl.org/dc/elements/1.1/\" xmlns:rdf=\"http://www.w3.org/1999/02/22-rdf-syntax-ns#\">\n   <cc:Work>\n    <dc:type rdf:resource=\"http://purl.org/dc/dcmitype/StillImage\"/>\n    <dc:date>2022-01-23T14:47:39.899379</dc:date>\n    <dc:format>image/svg+xml</dc:format>\n    <dc:creator>\n     <cc:Agent>\n      <dc:title>Matplotlib v3.4.2, https://matplotlib.org/</dc:title>\n     </cc:Agent>\n    </dc:creator>\n   </cc:Work>\n  </rdf:RDF>\n </metadata>\n <defs>\n  <style type=\"text/css\">*{stroke-linecap:butt;stroke-linejoin:round;}</style>\n </defs>\n <g id=\"figure_1\">\n  <g id=\"patch_1\">\n   <path d=\"M 0 247.985312 \nL 386.028125 247.985312 \nL 386.028125 0 \nL 0 0 \nz\n\" style=\"fill:none;\"/>\n  </g>\n  <g id=\"axes_1\">\n   <g id=\"patch_2\">\n    <path d=\"M 44.028125 224.64 \nL 378.828125 224.64 \nL 378.828125 7.2 \nL 44.028125 7.2 \nz\n\" style=\"fill:#ffffff;\"/>\n   </g>\n   <g id=\"patch_3\">\n    <path clip-path=\"url(#pe7557b5b41)\" d=\"M 59.246307 224.64 \nL 69.391761 224.64 \nL 69.391761 219.190376 \nL 59.246307 219.190376 \nz\n\" style=\"fill:#1f77b4;fill-opacity:0.75;stroke:#000000;stroke-linejoin:miter;\"/>\n   </g>\n   <g id=\"patch_4\">\n    <path clip-path=\"url(#pe7557b5b41)\" d=\"M 69.391761 224.64 \nL 79.537216 224.64 \nL 79.537216 222.823459 \nL 69.391761 222.823459 \nz\n\" style=\"fill:#1f77b4;fill-opacity:0.75;stroke:#000000;stroke-linejoin:miter;\"/>\n   </g>\n   <g id=\"patch_5\">\n    <path clip-path=\"url(#pe7557b5b41)\" d=\"M 79.537216 224.64 \nL 89.68267 224.64 \nL 89.68267 224.64 \nL 79.537216 224.64 \nz\n\" style=\"fill:#1f77b4;fill-opacity:0.75;stroke:#000000;stroke-linejoin:miter;\"/>\n   </g>\n   <g id=\"patch_6\">\n    <path clip-path=\"url(#pe7557b5b41)\" d=\"M 89.68267 224.64 \nL 99.828125 224.64 \nL 99.828125 224.64 \nL 89.68267 224.64 \nz\n\" style=\"fill:#1f77b4;fill-opacity:0.75;stroke:#000000;stroke-linejoin:miter;\"/>\n   </g>\n   <g id=\"patch_7\">\n    <path clip-path=\"url(#pe7557b5b41)\" d=\"M 99.828125 224.64 \nL 109.97358 224.64 \nL 109.97358 221.006917 \nL 99.828125 221.006917 \nz\n\" style=\"fill:#1f77b4;fill-opacity:0.75;stroke:#000000;stroke-linejoin:miter;\"/>\n   </g>\n   <g id=\"patch_8\">\n    <path clip-path=\"url(#pe7557b5b41)\" d=\"M 109.97358 224.64 \nL 120.119034 224.64 \nL 120.119034 221.006917 \nL 109.97358 221.006917 \nz\n\" style=\"fill:#1f77b4;fill-opacity:0.75;stroke:#000000;stroke-linejoin:miter;\"/>\n   </g>\n   <g id=\"patch_9\">\n    <path clip-path=\"url(#pe7557b5b41)\" d=\"M 120.119034 224.64 \nL 130.264489 224.64 \nL 130.264489 215.557293 \nL 120.119034 215.557293 \nz\n\" style=\"fill:#1f77b4;fill-opacity:0.75;stroke:#000000;stroke-linejoin:miter;\"/>\n   </g>\n   <g id=\"patch_10\">\n    <path clip-path=\"url(#pe7557b5b41)\" d=\"M 130.264489 224.64 \nL 140.409943 224.64 \nL 140.409943 210.107669 \nL 130.264489 210.107669 \nz\n\" style=\"fill:#1f77b4;fill-opacity:0.75;stroke:#000000;stroke-linejoin:miter;\"/>\n   </g>\n   <g id=\"patch_11\">\n    <path clip-path=\"url(#pe7557b5b41)\" d=\"M 140.409943 224.64 \nL 150.555398 224.64 \nL 150.555398 190.125714 \nL 140.409943 190.125714 \nz\n\" style=\"fill:#1f77b4;fill-opacity:0.75;stroke:#000000;stroke-linejoin:miter;\"/>\n   </g>\n   <g id=\"patch_12\">\n    <path clip-path=\"url(#pe7557b5b41)\" d=\"M 150.555398 224.64 \nL 160.700852 224.64 \nL 160.700852 188.309173 \nL 150.555398 188.309173 \nz\n\" style=\"fill:#1f77b4;fill-opacity:0.75;stroke:#000000;stroke-linejoin:miter;\"/>\n   </g>\n   <g id=\"patch_13\">\n    <path clip-path=\"url(#pe7557b5b41)\" d=\"M 160.700852 224.64 \nL 170.846307 224.64 \nL 170.846307 184.67609 \nL 160.700852 184.67609 \nz\n\" style=\"fill:#1f77b4;fill-opacity:0.75;stroke:#000000;stroke-linejoin:miter;\"/>\n   </g>\n   <g id=\"patch_14\">\n    <path clip-path=\"url(#pe7557b5b41)\" d=\"M 170.846307 224.64 \nL 180.991761 224.64 \nL 180.991761 110.197895 \nL 170.846307 110.197895 \nz\n\" style=\"fill:#1f77b4;fill-opacity:0.75;stroke:#000000;stroke-linejoin:miter;\"/>\n   </g>\n   <g id=\"patch_15\">\n    <path clip-path=\"url(#pe7557b5b41)\" d=\"M 180.991761 224.64 \nL 191.137216 224.64 \nL 191.137216 86.582857 \nL 180.991761 86.582857 \nz\n\" style=\"fill:#1f77b4;fill-opacity:0.75;stroke:#000000;stroke-linejoin:miter;\"/>\n   </g>\n   <g id=\"patch_16\">\n    <path clip-path=\"url(#pe7557b5b41)\" d=\"M 191.137216 224.64 \nL 201.28267 224.64 \nL 201.28267 17.554286 \nL 191.137216 17.554286 \nz\n\" style=\"fill:#1f77b4;fill-opacity:0.75;stroke:#000000;stroke-linejoin:miter;\"/>\n   </g>\n   <g id=\"patch_17\">\n    <path clip-path=\"url(#pe7557b5b41)\" d=\"M 201.28267 224.64 \nL 211.428125 224.64 \nL 211.428125 61.151278 \nL 201.28267 61.151278 \nz\n\" style=\"fill:#1f77b4;fill-opacity:0.75;stroke:#000000;stroke-linejoin:miter;\"/>\n   </g>\n   <g id=\"patch_18\">\n    <path clip-path=\"url(#pe7557b5b41)\" d=\"M 211.428125 224.64 \nL 221.57358 224.64 \nL 221.57358 64.784361 \nL 211.428125 64.784361 \nz\n\" style=\"fill:#1f77b4;fill-opacity:0.75;stroke:#000000;stroke-linejoin:miter;\"/>\n   </g>\n   <g id=\"patch_19\">\n    <path clip-path=\"url(#pe7557b5b41)\" d=\"M 221.57358 224.64 \nL 231.719034 224.64 \nL 231.719034 68.417444 \nL 221.57358 68.417444 \nz\n\" style=\"fill:#1f77b4;fill-opacity:0.75;stroke:#000000;stroke-linejoin:miter;\"/>\n   </g>\n   <g id=\"patch_20\">\n    <path clip-path=\"url(#pe7557b5b41)\" d=\"M 231.719034 224.64 \nL 241.864489 224.64 \nL 241.864489 104.748271 \nL 231.719034 104.748271 \nz\n\" style=\"fill:#1f77b4;fill-opacity:0.75;stroke:#000000;stroke-linejoin:miter;\"/>\n   </g>\n   <g id=\"patch_21\">\n    <path clip-path=\"url(#pe7557b5b41)\" d=\"M 241.864489 224.64 \nL 252.009943 224.64 \nL 252.009943 112.014436 \nL 241.864489 112.014436 \nz\n\" style=\"fill:#1f77b4;fill-opacity:0.75;stroke:#000000;stroke-linejoin:miter;\"/>\n   </g>\n   <g id=\"patch_22\">\n    <path clip-path=\"url(#pe7557b5b41)\" d=\"M 252.009943 224.64 \nL 262.155398 224.64 \nL 262.155398 142.895639 \nL 252.009943 142.895639 \nz\n\" style=\"fill:#1f77b4;fill-opacity:0.75;stroke:#000000;stroke-linejoin:miter;\"/>\n   </g>\n   <g id=\"patch_23\">\n    <path clip-path=\"url(#pe7557b5b41)\" d=\"M 262.155398 224.64 \nL 272.300852 224.64 \nL 272.300852 161.061053 \nL 262.155398 161.061053 \nz\n\" style=\"fill:#1f77b4;fill-opacity:0.75;stroke:#000000;stroke-linejoin:miter;\"/>\n   </g>\n   <g id=\"patch_24\">\n    <path clip-path=\"url(#pe7557b5b41)\" d=\"M 272.300852 224.64 \nL 282.446307 224.64 \nL 282.446307 179.226466 \nL 272.300852 179.226466 \nz\n\" style=\"fill:#1f77b4;fill-opacity:0.75;stroke:#000000;stroke-linejoin:miter;\"/>\n   </g>\n   <g id=\"patch_25\">\n    <path clip-path=\"url(#pe7557b5b41)\" d=\"M 282.446307 224.64 \nL 292.591761 224.64 \nL 292.591761 202.841504 \nL 282.446307 202.841504 \nz\n\" style=\"fill:#1f77b4;fill-opacity:0.75;stroke:#000000;stroke-linejoin:miter;\"/>\n   </g>\n   <g id=\"patch_26\">\n    <path clip-path=\"url(#pe7557b5b41)\" d=\"M 292.591761 224.64 \nL 302.737216 224.64 \nL 302.737216 199.208421 \nL 292.591761 199.208421 \nz\n\" style=\"fill:#1f77b4;fill-opacity:0.75;stroke:#000000;stroke-linejoin:miter;\"/>\n   </g>\n   <g id=\"patch_27\">\n    <path clip-path=\"url(#pe7557b5b41)\" d=\"M 302.737216 224.64 \nL 312.88267 224.64 \nL 312.88267 204.658045 \nL 302.737216 204.658045 \nz\n\" style=\"fill:#1f77b4;fill-opacity:0.75;stroke:#000000;stroke-linejoin:miter;\"/>\n   </g>\n   <g id=\"patch_28\">\n    <path clip-path=\"url(#pe7557b5b41)\" d=\"M 312.88267 224.64 \nL 323.028125 224.64 \nL 323.028125 222.823459 \nL 312.88267 222.823459 \nz\n\" style=\"fill:#1f77b4;fill-opacity:0.75;stroke:#000000;stroke-linejoin:miter;\"/>\n   </g>\n   <g id=\"patch_29\">\n    <path clip-path=\"url(#pe7557b5b41)\" d=\"M 323.028125 224.64 \nL 333.17358 224.64 \nL 333.17358 219.190376 \nL 323.028125 219.190376 \nz\n\" style=\"fill:#1f77b4;fill-opacity:0.75;stroke:#000000;stroke-linejoin:miter;\"/>\n   </g>\n   <g id=\"patch_30\">\n    <path clip-path=\"url(#pe7557b5b41)\" d=\"M 333.17358 224.64 \nL 343.319034 224.64 \nL 343.319034 221.006917 \nL 333.17358 221.006917 \nz\n\" style=\"fill:#1f77b4;fill-opacity:0.75;stroke:#000000;stroke-linejoin:miter;\"/>\n   </g>\n   <g id=\"patch_31\">\n    <path clip-path=\"url(#pe7557b5b41)\" d=\"M 343.319034 224.64 \nL 353.464489 224.64 \nL 353.464489 224.64 \nL 343.319034 224.64 \nz\n\" style=\"fill:#1f77b4;fill-opacity:0.75;stroke:#000000;stroke-linejoin:miter;\"/>\n   </g>\n   <g id=\"patch_32\">\n    <path clip-path=\"url(#pe7557b5b41)\" d=\"M 353.464489 224.64 \nL 363.609943 224.64 \nL 363.609943 222.823459 \nL 353.464489 222.823459 \nz\n\" style=\"fill:#1f77b4;fill-opacity:0.75;stroke:#000000;stroke-linejoin:miter;\"/>\n   </g>\n   <g id=\"matplotlib.axis_1\">\n    <g id=\"xtick_1\">\n     <g id=\"line2d_1\">\n      <defs>\n       <path d=\"M 0 0 \nL 0 3.5 \n\" id=\"m3561b878bc\" style=\"stroke:#808080;stroke-width:0.8;\"/>\n      </defs>\n      <g>\n       <use style=\"fill:#808080;stroke:#808080;stroke-width:0.8;\" x=\"63.179727\" xlink:href=\"#m3561b878bc\" y=\"224.64\"/>\n      </g>\n     </g>\n     <g id=\"text_1\">\n      <!-- 10.5 -->\n      <g style=\"fill:#808080;\" transform=\"translate(53.449259 238.797812)scale(0.1 -0.1)\">\n       <defs>\n        <path d=\"M 2384 0 \nL 1822 0 \nL 1822 3584 \nQ 1619 3391 1289 3197 \nQ 959 3003 697 2906 \nL 697 3450 \nQ 1169 3672 1522 3987 \nQ 1875 4303 2022 4600 \nL 2384 4600 \nL 2384 0 \nz\n\" id=\"ArialMT-31\" transform=\"scale(0.015625)\"/>\n        <path d=\"M 266 2259 \nQ 266 3072 433 3567 \nQ 600 4063 929 4331 \nQ 1259 4600 1759 4600 \nQ 2128 4600 2406 4451 \nQ 2684 4303 2865 4023 \nQ 3047 3744 3150 3342 \nQ 3253 2941 3253 2259 \nQ 3253 1453 3087 958 \nQ 2922 463 2592 192 \nQ 2263 -78 1759 -78 \nQ 1097 -78 719 397 \nQ 266 969 266 2259 \nz\nM 844 2259 \nQ 844 1131 1108 757 \nQ 1372 384 1759 384 \nQ 2147 384 2411 759 \nQ 2675 1134 2675 2259 \nQ 2675 3391 2411 3762 \nQ 2147 4134 1753 4134 \nQ 1366 4134 1134 3806 \nQ 844 3388 844 2259 \nz\n\" id=\"ArialMT-30\" transform=\"scale(0.015625)\"/>\n        <path d=\"M 581 0 \nL 581 641 \nL 1222 641 \nL 1222 0 \nL 581 0 \nz\n\" id=\"ArialMT-2e\" transform=\"scale(0.015625)\"/>\n        <path d=\"M 266 1200 \nL 856 1250 \nQ 922 819 1161 601 \nQ 1400 384 1738 384 \nQ 2144 384 2425 690 \nQ 2706 997 2706 1503 \nQ 2706 1984 2436 2262 \nQ 2166 2541 1728 2541 \nQ 1456 2541 1237 2417 \nQ 1019 2294 894 2097 \nL 366 2166 \nL 809 4519 \nL 3088 4519 \nL 3088 3981 \nL 1259 3981 \nL 1013 2750 \nQ 1425 3038 1878 3038 \nQ 2478 3038 2890 2622 \nQ 3303 2206 3303 1553 \nQ 3303 931 2941 478 \nQ 2500 -78 1738 -78 \nQ 1113 -78 717 272 \nQ 322 622 266 1200 \nz\n\" id=\"ArialMT-35\" transform=\"scale(0.015625)\"/>\n       </defs>\n       <use xlink:href=\"#ArialMT-31\"/>\n       <use x=\"55.615234\" xlink:href=\"#ArialMT-30\"/>\n       <use x=\"111.230469\" xlink:href=\"#ArialMT-2e\"/>\n       <use x=\"139.013672\" xlink:href=\"#ArialMT-35\"/>\n      </g>\n     </g>\n    </g>\n    <g id=\"xtick_2\">\n     <g id=\"line2d_2\">\n      <g>\n       <use style=\"fill:#808080;stroke:#808080;stroke-width:0.8;\" x=\"112.682571\" xlink:href=\"#m3561b878bc\" y=\"224.64\"/>\n      </g>\n     </g>\n     <g id=\"text_2\">\n      <!-- 11.0 -->\n      <g style=\"fill:#808080;\" transform=\"translate(103.320852 238.797812)scale(0.1 -0.1)\">\n       <use xlink:href=\"#ArialMT-31\"/>\n       <use x=\"48.240234\" xlink:href=\"#ArialMT-31\"/>\n       <use x=\"103.855469\" xlink:href=\"#ArialMT-2e\"/>\n       <use x=\"131.638672\" xlink:href=\"#ArialMT-30\"/>\n      </g>\n     </g>\n    </g>\n    <g id=\"xtick_3\">\n     <g id=\"line2d_3\">\n      <g>\n       <use style=\"fill:#808080;stroke:#808080;stroke-width:0.8;\" x=\"162.185414\" xlink:href=\"#m3561b878bc\" y=\"224.64\"/>\n      </g>\n     </g>\n     <g id=\"text_3\">\n      <!-- 11.5 -->\n      <g style=\"fill:#808080;\" transform=\"translate(152.823695 238.797812)scale(0.1 -0.1)\">\n       <use xlink:href=\"#ArialMT-31\"/>\n       <use x=\"48.240234\" xlink:href=\"#ArialMT-31\"/>\n       <use x=\"103.855469\" xlink:href=\"#ArialMT-2e\"/>\n       <use x=\"131.638672\" xlink:href=\"#ArialMT-35\"/>\n      </g>\n     </g>\n    </g>\n    <g id=\"xtick_4\">\n     <g id=\"line2d_4\">\n      <g>\n       <use style=\"fill:#808080;stroke:#808080;stroke-width:0.8;\" x=\"211.688257\" xlink:href=\"#m3561b878bc\" y=\"224.64\"/>\n      </g>\n     </g>\n     <g id=\"text_4\">\n      <!-- 12.0 -->\n      <g style=\"fill:#808080;\" transform=\"translate(201.957788 238.797812)scale(0.1 -0.1)\">\n       <defs>\n        <path d=\"M 3222 541 \nL 3222 0 \nL 194 0 \nQ 188 203 259 391 \nQ 375 700 629 1000 \nQ 884 1300 1366 1694 \nQ 2113 2306 2375 2664 \nQ 2638 3022 2638 3341 \nQ 2638 3675 2398 3904 \nQ 2159 4134 1775 4134 \nQ 1369 4134 1125 3890 \nQ 881 3647 878 3216 \nL 300 3275 \nQ 359 3922 746 4261 \nQ 1134 4600 1788 4600 \nQ 2447 4600 2831 4234 \nQ 3216 3869 3216 3328 \nQ 3216 3053 3103 2787 \nQ 2991 2522 2730 2228 \nQ 2469 1934 1863 1422 \nQ 1356 997 1212 845 \nQ 1069 694 975 541 \nL 3222 541 \nz\n\" id=\"ArialMT-32\" transform=\"scale(0.015625)\"/>\n       </defs>\n       <use xlink:href=\"#ArialMT-31\"/>\n       <use x=\"55.615234\" xlink:href=\"#ArialMT-32\"/>\n       <use x=\"111.230469\" xlink:href=\"#ArialMT-2e\"/>\n       <use x=\"139.013672\" xlink:href=\"#ArialMT-30\"/>\n      </g>\n     </g>\n    </g>\n    <g id=\"xtick_5\">\n     <g id=\"line2d_5\">\n      <g>\n       <use style=\"fill:#808080;stroke:#808080;stroke-width:0.8;\" x=\"261.1911\" xlink:href=\"#m3561b878bc\" y=\"224.64\"/>\n      </g>\n     </g>\n     <g id=\"text_5\">\n      <!-- 12.5 -->\n      <g style=\"fill:#808080;\" transform=\"translate(251.460631 238.797812)scale(0.1 -0.1)\">\n       <use xlink:href=\"#ArialMT-31\"/>\n       <use x=\"55.615234\" xlink:href=\"#ArialMT-32\"/>\n       <use x=\"111.230469\" xlink:href=\"#ArialMT-2e\"/>\n       <use x=\"139.013672\" xlink:href=\"#ArialMT-35\"/>\n      </g>\n     </g>\n    </g>\n    <g id=\"xtick_6\">\n     <g id=\"line2d_6\">\n      <g>\n       <use style=\"fill:#808080;stroke:#808080;stroke-width:0.8;\" x=\"310.693943\" xlink:href=\"#m3561b878bc\" y=\"224.64\"/>\n      </g>\n     </g>\n     <g id=\"text_6\">\n      <!-- 13.0 -->\n      <g style=\"fill:#808080;\" transform=\"translate(300.963474 238.797812)scale(0.1 -0.1)\">\n       <defs>\n        <path d=\"M 269 1209 \nL 831 1284 \nQ 928 806 1161 595 \nQ 1394 384 1728 384 \nQ 2125 384 2398 659 \nQ 2672 934 2672 1341 \nQ 2672 1728 2419 1979 \nQ 2166 2231 1775 2231 \nQ 1616 2231 1378 2169 \nL 1441 2663 \nQ 1497 2656 1531 2656 \nQ 1891 2656 2178 2843 \nQ 2466 3031 2466 3422 \nQ 2466 3731 2256 3934 \nQ 2047 4138 1716 4138 \nQ 1388 4138 1169 3931 \nQ 950 3725 888 3313 \nL 325 3413 \nQ 428 3978 793 4289 \nQ 1159 4600 1703 4600 \nQ 2078 4600 2393 4439 \nQ 2709 4278 2876 4000 \nQ 3044 3722 3044 3409 \nQ 3044 3113 2884 2869 \nQ 2725 2625 2413 2481 \nQ 2819 2388 3044 2092 \nQ 3269 1797 3269 1353 \nQ 3269 753 2831 336 \nQ 2394 -81 1725 -81 \nQ 1122 -81 723 278 \nQ 325 638 269 1209 \nz\n\" id=\"ArialMT-33\" transform=\"scale(0.015625)\"/>\n       </defs>\n       <use xlink:href=\"#ArialMT-31\"/>\n       <use x=\"55.615234\" xlink:href=\"#ArialMT-33\"/>\n       <use x=\"111.230469\" xlink:href=\"#ArialMT-2e\"/>\n       <use x=\"139.013672\" xlink:href=\"#ArialMT-30\"/>\n      </g>\n     </g>\n    </g>\n    <g id=\"xtick_7\">\n     <g id=\"line2d_7\">\n      <g>\n       <use style=\"fill:#808080;stroke:#808080;stroke-width:0.8;\" x=\"360.196786\" xlink:href=\"#m3561b878bc\" y=\"224.64\"/>\n      </g>\n     </g>\n     <g id=\"text_7\">\n      <!-- 13.5 -->\n      <g style=\"fill:#808080;\" transform=\"translate(350.466317 238.797812)scale(0.1 -0.1)\">\n       <use xlink:href=\"#ArialMT-31\"/>\n       <use x=\"55.615234\" xlink:href=\"#ArialMT-33\"/>\n       <use x=\"111.230469\" xlink:href=\"#ArialMT-2e\"/>\n       <use x=\"139.013672\" xlink:href=\"#ArialMT-35\"/>\n      </g>\n     </g>\n    </g>\n   </g>\n   <g id=\"matplotlib.axis_2\">\n    <g id=\"ytick_1\">\n     <g id=\"line2d_8\">\n      <defs>\n       <path d=\"M 0 0 \nL -3.5 0 \n\" id=\"ma1f43e32f1\" style=\"stroke:#808080;stroke-width:0.8;\"/>\n      </defs>\n      <g>\n       <use style=\"fill:#808080;stroke:#808080;stroke-width:0.8;\" x=\"44.028125\" xlink:href=\"#ma1f43e32f1\" y=\"224.64\"/>\n      </g>\n     </g>\n     <g id=\"text_8\">\n      <!-- 0 -->\n      <g style=\"fill:#808080;\" transform=\"translate(31.467188 228.218906)scale(0.1 -0.1)\">\n       <use xlink:href=\"#ArialMT-30\"/>\n      </g>\n     </g>\n    </g>\n    <g id=\"ytick_2\">\n     <g id=\"line2d_9\">\n      <g>\n       <use style=\"fill:#808080;stroke:#808080;stroke-width:0.8;\" x=\"44.028125\" xlink:href=\"#ma1f43e32f1\" y=\"188.309173\"/>\n      </g>\n     </g>\n     <g id=\"text_9\">\n      <!-- 20 -->\n      <g style=\"fill:#808080;\" transform=\"translate(25.90625 191.888079)scale(0.1 -0.1)\">\n       <use xlink:href=\"#ArialMT-32\"/>\n       <use x=\"55.615234\" xlink:href=\"#ArialMT-30\"/>\n      </g>\n     </g>\n    </g>\n    <g id=\"ytick_3\">\n     <g id=\"line2d_10\">\n      <g>\n       <use style=\"fill:#808080;stroke:#808080;stroke-width:0.8;\" x=\"44.028125\" xlink:href=\"#ma1f43e32f1\" y=\"151.978346\"/>\n      </g>\n     </g>\n     <g id=\"text_10\">\n      <!-- 40 -->\n      <g style=\"fill:#808080;\" transform=\"translate(25.90625 155.557252)scale(0.1 -0.1)\">\n       <defs>\n        <path d=\"M 2069 0 \nL 2069 1097 \nL 81 1097 \nL 81 1613 \nL 2172 4581 \nL 2631 4581 \nL 2631 1613 \nL 3250 1613 \nL 3250 1097 \nL 2631 1097 \nL 2631 0 \nL 2069 0 \nz\nM 2069 1613 \nL 2069 3678 \nL 634 1613 \nL 2069 1613 \nz\n\" id=\"ArialMT-34\" transform=\"scale(0.015625)\"/>\n       </defs>\n       <use xlink:href=\"#ArialMT-34\"/>\n       <use x=\"55.615234\" xlink:href=\"#ArialMT-30\"/>\n      </g>\n     </g>\n    </g>\n    <g id=\"ytick_4\">\n     <g id=\"line2d_11\">\n      <g>\n       <use style=\"fill:#808080;stroke:#808080;stroke-width:0.8;\" x=\"44.028125\" xlink:href=\"#ma1f43e32f1\" y=\"115.647519\"/>\n      </g>\n     </g>\n     <g id=\"text_11\">\n      <!-- 60 -->\n      <g style=\"fill:#808080;\" transform=\"translate(25.90625 119.226425)scale(0.1 -0.1)\">\n       <defs>\n        <path d=\"M 3184 3459 \nL 2625 3416 \nQ 2550 3747 2413 3897 \nQ 2184 4138 1850 4138 \nQ 1581 4138 1378 3988 \nQ 1113 3794 959 3422 \nQ 806 3050 800 2363 \nQ 1003 2672 1297 2822 \nQ 1591 2972 1913 2972 \nQ 2475 2972 2870 2558 \nQ 3266 2144 3266 1488 \nQ 3266 1056 3080 686 \nQ 2894 316 2569 119 \nQ 2244 -78 1831 -78 \nQ 1128 -78 684 439 \nQ 241 956 241 2144 \nQ 241 3472 731 4075 \nQ 1159 4600 1884 4600 \nQ 2425 4600 2770 4297 \nQ 3116 3994 3184 3459 \nz\nM 888 1484 \nQ 888 1194 1011 928 \nQ 1134 663 1356 523 \nQ 1578 384 1822 384 \nQ 2178 384 2434 671 \nQ 2691 959 2691 1453 \nQ 2691 1928 2437 2201 \nQ 2184 2475 1800 2475 \nQ 1419 2475 1153 2201 \nQ 888 1928 888 1484 \nz\n\" id=\"ArialMT-36\" transform=\"scale(0.015625)\"/>\n       </defs>\n       <use xlink:href=\"#ArialMT-36\"/>\n       <use x=\"55.615234\" xlink:href=\"#ArialMT-30\"/>\n      </g>\n     </g>\n    </g>\n    <g id=\"ytick_5\">\n     <g id=\"line2d_12\">\n      <g>\n       <use style=\"fill:#808080;stroke:#808080;stroke-width:0.8;\" x=\"44.028125\" xlink:href=\"#ma1f43e32f1\" y=\"79.316692\"/>\n      </g>\n     </g>\n     <g id=\"text_12\">\n      <!-- 80 -->\n      <g style=\"fill:#808080;\" transform=\"translate(25.90625 82.895598)scale(0.1 -0.1)\">\n       <defs>\n        <path d=\"M 1131 2484 \nQ 781 2613 612 2850 \nQ 444 3088 444 3419 \nQ 444 3919 803 4259 \nQ 1163 4600 1759 4600 \nQ 2359 4600 2725 4251 \nQ 3091 3903 3091 3403 \nQ 3091 3084 2923 2848 \nQ 2756 2613 2416 2484 \nQ 2838 2347 3058 2040 \nQ 3278 1734 3278 1309 \nQ 3278 722 2862 322 \nQ 2447 -78 1769 -78 \nQ 1091 -78 675 323 \nQ 259 725 259 1325 \nQ 259 1772 486 2073 \nQ 713 2375 1131 2484 \nz\nM 1019 3438 \nQ 1019 3113 1228 2906 \nQ 1438 2700 1772 2700 \nQ 2097 2700 2305 2904 \nQ 2513 3109 2513 3406 \nQ 2513 3716 2298 3927 \nQ 2084 4138 1766 4138 \nQ 1444 4138 1231 3931 \nQ 1019 3725 1019 3438 \nz\nM 838 1322 \nQ 838 1081 952 856 \nQ 1066 631 1291 507 \nQ 1516 384 1775 384 \nQ 2178 384 2440 643 \nQ 2703 903 2703 1303 \nQ 2703 1709 2433 1975 \nQ 2163 2241 1756 2241 \nQ 1359 2241 1098 1978 \nQ 838 1716 838 1322 \nz\n\" id=\"ArialMT-38\" transform=\"scale(0.015625)\"/>\n       </defs>\n       <use xlink:href=\"#ArialMT-38\"/>\n       <use x=\"55.615234\" xlink:href=\"#ArialMT-30\"/>\n      </g>\n     </g>\n    </g>\n    <g id=\"ytick_6\">\n     <g id=\"line2d_13\">\n      <g>\n       <use style=\"fill:#808080;stroke:#808080;stroke-width:0.8;\" x=\"44.028125\" xlink:href=\"#ma1f43e32f1\" y=\"42.985865\"/>\n      </g>\n     </g>\n     <g id=\"text_13\">\n      <!-- 100 -->\n      <g style=\"fill:#808080;\" transform=\"translate(20.345313 46.564771)scale(0.1 -0.1)\">\n       <use xlink:href=\"#ArialMT-31\"/>\n       <use x=\"55.615234\" xlink:href=\"#ArialMT-30\"/>\n       <use x=\"111.230469\" xlink:href=\"#ArialMT-30\"/>\n      </g>\n     </g>\n    </g>\n    <g id=\"text_14\">\n     <!-- Count -->\n     <g style=\"fill:#505050;\" transform=\"translate(14.357813 129.261406)rotate(-90)scale(0.1 -0.1)\">\n      <defs>\n       <path d=\"M 3763 1606 \nL 4369 1453 \nQ 4178 706 3683 314 \nQ 3188 -78 2472 -78 \nQ 1731 -78 1267 223 \nQ 803 525 561 1097 \nQ 319 1669 319 2325 \nQ 319 3041 592 3573 \nQ 866 4106 1370 4382 \nQ 1875 4659 2481 4659 \nQ 3169 4659 3637 4309 \nQ 4106 3959 4291 3325 \nL 3694 3184 \nQ 3534 3684 3231 3912 \nQ 2928 4141 2469 4141 \nQ 1941 4141 1586 3887 \nQ 1231 3634 1087 3207 \nQ 944 2781 944 2328 \nQ 944 1744 1114 1308 \nQ 1284 872 1643 656 \nQ 2003 441 2422 441 \nQ 2931 441 3284 734 \nQ 3638 1028 3763 1606 \nz\n\" id=\"ArialMT-43\" transform=\"scale(0.015625)\"/>\n       <path d=\"M 213 1659 \nQ 213 2581 725 3025 \nQ 1153 3394 1769 3394 \nQ 2453 3394 2887 2945 \nQ 3322 2497 3322 1706 \nQ 3322 1066 3130 698 \nQ 2938 331 2570 128 \nQ 2203 -75 1769 -75 \nQ 1072 -75 642 372 \nQ 213 819 213 1659 \nz\nM 791 1659 \nQ 791 1022 1069 705 \nQ 1347 388 1769 388 \nQ 2188 388 2466 706 \nQ 2744 1025 2744 1678 \nQ 2744 2294 2464 2611 \nQ 2184 2928 1769 2928 \nQ 1347 2928 1069 2612 \nQ 791 2297 791 1659 \nz\n\" id=\"ArialMT-6f\" transform=\"scale(0.015625)\"/>\n       <path d=\"M 2597 0 \nL 2597 488 \nQ 2209 -75 1544 -75 \nQ 1250 -75 995 37 \nQ 741 150 617 320 \nQ 494 491 444 738 \nQ 409 903 409 1263 \nL 409 3319 \nL 972 3319 \nL 972 1478 \nQ 972 1038 1006 884 \nQ 1059 663 1231 536 \nQ 1403 409 1656 409 \nQ 1909 409 2131 539 \nQ 2353 669 2445 892 \nQ 2538 1116 2538 1541 \nL 2538 3319 \nL 3100 3319 \nL 3100 0 \nL 2597 0 \nz\n\" id=\"ArialMT-75\" transform=\"scale(0.015625)\"/>\n       <path d=\"M 422 0 \nL 422 3319 \nL 928 3319 \nL 928 2847 \nQ 1294 3394 1984 3394 \nQ 2284 3394 2536 3286 \nQ 2788 3178 2913 3003 \nQ 3038 2828 3088 2588 \nQ 3119 2431 3119 2041 \nL 3119 0 \nL 2556 0 \nL 2556 2019 \nQ 2556 2363 2490 2533 \nQ 2425 2703 2258 2804 \nQ 2091 2906 1866 2906 \nQ 1506 2906 1245 2678 \nQ 984 2450 984 1813 \nL 984 0 \nL 422 0 \nz\n\" id=\"ArialMT-6e\" transform=\"scale(0.015625)\"/>\n       <path d=\"M 1650 503 \nL 1731 6 \nQ 1494 -44 1306 -44 \nQ 1000 -44 831 53 \nQ 663 150 594 308 \nQ 525 466 525 972 \nL 525 2881 \nL 113 2881 \nL 113 3319 \nL 525 3319 \nL 525 4141 \nL 1084 4478 \nL 1084 3319 \nL 1650 3319 \nL 1650 2881 \nL 1084 2881 \nL 1084 941 \nQ 1084 700 1114 631 \nQ 1144 563 1211 522 \nQ 1278 481 1403 481 \nQ 1497 481 1650 503 \nz\n\" id=\"ArialMT-74\" transform=\"scale(0.015625)\"/>\n      </defs>\n      <use xlink:href=\"#ArialMT-43\"/>\n      <use x=\"72.216797\" xlink:href=\"#ArialMT-6f\"/>\n      <use x=\"127.832031\" xlink:href=\"#ArialMT-75\"/>\n      <use x=\"183.447266\" xlink:href=\"#ArialMT-6e\"/>\n      <use x=\"239.0625\" xlink:href=\"#ArialMT-74\"/>\n     </g>\n    </g>\n   </g>\n   <g id=\"patch_33\">\n    <path d=\"M 44.028125 224.64 \nL 44.028125 7.2 \n\" style=\"fill:none;stroke:#808080;stroke-linecap:square;stroke-linejoin:miter;stroke-width:0.3;\"/>\n   </g>\n   <g id=\"patch_34\">\n    <path d=\"M 378.828125 224.64 \nL 378.828125 7.2 \n\" style=\"fill:none;stroke:#808080;stroke-linecap:square;stroke-linejoin:miter;stroke-width:0.3;\"/>\n   </g>\n   <g id=\"patch_35\">\n    <path d=\"M 44.028125 224.64 \nL 378.828125 224.64 \n\" style=\"fill:none;stroke:#808080;stroke-linecap:square;stroke-linejoin:miter;stroke-width:0.3;\"/>\n   </g>\n   <g id=\"patch_36\">\n    <path d=\"M 44.028125 7.2 \nL 378.828125 7.2 \n\" style=\"fill:none;stroke:#808080;stroke-linecap:square;stroke-linejoin:miter;stroke-width:0.3;\"/>\n   </g>\n  </g>\n </g>\n <defs>\n  <clipPath id=\"pe7557b5b41\">\n   <rect height=\"217.44\" width=\"334.8\" x=\"44.028125\" y=\"7.2\"/>\n  </clipPath>\n </defs>\n</svg>\n",
      "text/plain": [
       "<Figure size 432x288 with 1 Axes>"
      ]
     },
     "metadata": {
      "needs_background": "dark"
     },
     "output_type": "display_data"
    }
   ],
   "source": [
    "check_splits(df_train, df_val, df_test, y_train)"
   ]
  },
  {
   "cell_type": "markdown",
   "metadata": {},
   "source": [
    "### Training"
   ]
  },
  {
   "cell_type": "code",
   "execution_count": 46,
   "metadata": {},
   "outputs": [
    {
     "data": {
      "text/plain": [
       "DictVectorizer(sparse=False)"
      ]
     },
     "execution_count": 46,
     "metadata": {},
     "output_type": "execute_result"
    },
    {
     "data": {
      "text/plain": [
       "array([[1.734e+03, 0.000e+00, 0.000e+00, ..., 0.000e+00, 0.000e+00,\n",
       "        0.000e+00],\n",
       "       [1.080e+03, 0.000e+00, 0.000e+00, ..., 1.000e+00, 0.000e+00,\n",
       "        0.000e+00],\n",
       "       [1.888e+03, 0.000e+00, 0.000e+00, ..., 0.000e+00, 0.000e+00,\n",
       "        1.000e+00],\n",
       "       ...,\n",
       "       [2.036e+03, 0.000e+00, 0.000e+00, ..., 0.000e+00, 1.000e+00,\n",
       "        0.000e+00],\n",
       "       [1.512e+03, 1.142e+03, 0.000e+00, ..., 0.000e+00, 0.000e+00,\n",
       "        0.000e+00],\n",
       "       [1.588e+03, 0.000e+00, 0.000e+00, ..., 0.000e+00, 0.000e+00,\n",
       "        0.000e+00]])"
      ]
     },
     "execution_count": 46,
     "metadata": {},
     "output_type": "execute_result"
    },
    {
     "data": {
      "text/plain": [
       "(876, 238)"
      ]
     },
     "execution_count": 46,
     "metadata": {},
     "output_type": "execute_result"
    },
    {
     "data": {
      "text/plain": [
       "LinearRegression()"
      ]
     },
     "execution_count": 46,
     "metadata": {},
     "output_type": "execute_result"
    }
   ],
   "source": [
    "def feature_dict(data):\n",
    "    data = data.fillna(0)\n",
    "    feat_dict = data.to_dict(orient='records')\n",
    "    return feat_dict\n",
    "\n",
    "train_dict = feature_dict(df_train)\n",
    "val_dict = feature_dict(df_val)\n",
    "test_dict = feature_dict(df_test)\n",
    "\n",
    "dv = DictVectorizer(sparse=False)\n",
    "dv.fit(train_dict)\n",
    "dv.transform(train_dict)\n",
    "X_train = dv.transform(train_dict)\n",
    "X_train.shape\n",
    "\n",
    "# X_train[:5]\n",
    "# y_train[:5]\n",
    "\n",
    "X_val = dv.transform(val_dict)\n",
    "lr = LinearRegression()\n",
    "lr.fit(X_train, y_train)\n",
    "y_pred = lr.predict(X_val)\n",
    "\n"
   ]
  },
  {
   "cell_type": "markdown",
   "metadata": {},
   "source": [
    "### Evaluation"
   ]
  },
  {
   "cell_type": "code",
   "execution_count": 47,
   "metadata": {},
   "outputs": [],
   "source": [
    "# rmse = mean_squared_error(y_val, y_pred, squared=False)\n",
    "# rmse"
   ]
  },
  {
   "cell_type": "code",
   "execution_count": 48,
   "metadata": {},
   "outputs": [],
   "source": [
    "def rmse(y, y_pred):\n",
    "    \"\"\"Returns RMSE evaluation of (log) predictions, converting them back to normal\"\"\"\n",
    "    rmse = np.sqrt(((np.expm1(y) - np.expm1(y_pred)) ** 2).mean())\n",
    "    # print(f\"Value for RMSE: {rmse}\")\n",
    "    return rmse"
   ]
  },
  {
   "cell_type": "code",
   "execution_count": 49,
   "metadata": {},
   "outputs": [],
   "source": [
    "def mae(y, y_pred):\n",
    "    \"\"\"Returns MAE evaluation of predictions\"\"\"\n",
    "    mae = abs(np.expm1(y) - np.expm1(y_pred)).mean()\n",
    "    print(f\"Value for MAE: {mae}\")\n",
    "    return mae"
   ]
  },
  {
   "cell_type": "code",
   "execution_count": 50,
   "metadata": {},
   "outputs": [
    {
     "data": {
      "text/plain": [
       "28266.597421567338"
      ]
     },
     "execution_count": 50,
     "metadata": {},
     "output_type": "execute_result"
    },
    {
     "name": "stdout",
     "output_type": "stream",
     "text": [
      "Value for MAE: 18018.168101065978\n"
     ]
    },
    {
     "data": {
      "text/plain": [
       "18018.168101065978"
      ]
     },
     "execution_count": 50,
     "metadata": {},
     "output_type": "execute_result"
    }
   ],
   "source": [
    "rmse(y_val, y_pred)\n",
    "# rmse(y_val, y_pred)/tgt_mean\n",
    "mae(y_val, y_pred)"
   ]
  },
  {
   "cell_type": "code",
   "execution_count": 51,
   "metadata": {},
   "outputs": [
    {
     "data": {
      "text/html": [
       "<div>\n",
       "<style scoped>\n",
       "    .dataframe tbody tr th:only-of-type {\n",
       "        vertical-align: middle;\n",
       "    }\n",
       "\n",
       "    .dataframe tbody tr th {\n",
       "        vertical-align: top;\n",
       "    }\n",
       "\n",
       "    .dataframe thead th {\n",
       "        text-align: right;\n",
       "    }\n",
       "</style>\n",
       "<table border=\"1\" class=\"dataframe\">\n",
       "  <thead>\n",
       "    <tr style=\"text-align: right;\">\n",
       "      <th></th>\n",
       "      <th>y_val</th>\n",
       "      <th>y_pred</th>\n",
       "      <th>diff</th>\n",
       "      <th>perc_diff</th>\n",
       "      <th>diff**2</th>\n",
       "      <th>abs_diff</th>\n",
       "    </tr>\n",
       "  </thead>\n",
       "  <tbody>\n",
       "    <tr>\n",
       "      <th>0</th>\n",
       "      <td>196000.0</td>\n",
       "      <td>202964.550376</td>\n",
       "      <td>-6964.550376</td>\n",
       "      <td>-3.553342</td>\n",
       "      <td>4.850496e+07</td>\n",
       "      <td>6964.550376</td>\n",
       "    </tr>\n",
       "    <tr>\n",
       "      <th>1</th>\n",
       "      <td>170000.0</td>\n",
       "      <td>185447.682612</td>\n",
       "      <td>-15447.682612</td>\n",
       "      <td>-9.086872</td>\n",
       "      <td>2.386309e+08</td>\n",
       "      <td>15447.682612</td>\n",
       "    </tr>\n",
       "    <tr>\n",
       "      <th>2</th>\n",
       "      <td>254000.0</td>\n",
       "      <td>242216.387648</td>\n",
       "      <td>11783.612352</td>\n",
       "      <td>4.639217</td>\n",
       "      <td>1.388535e+08</td>\n",
       "      <td>11783.612352</td>\n",
       "    </tr>\n",
       "    <tr>\n",
       "      <th>3</th>\n",
       "      <td>107900.0</td>\n",
       "      <td>106163.073447</td>\n",
       "      <td>1736.926553</td>\n",
       "      <td>1.609756</td>\n",
       "      <td>3.016914e+06</td>\n",
       "      <td>1736.926553</td>\n",
       "    </tr>\n",
       "    <tr>\n",
       "      <th>4</th>\n",
       "      <td>200000.0</td>\n",
       "      <td>224388.496104</td>\n",
       "      <td>-24388.496104</td>\n",
       "      <td>-12.194248</td>\n",
       "      <td>5.947987e+08</td>\n",
       "      <td>24388.496104</td>\n",
       "    </tr>\n",
       "  </tbody>\n",
       "</table>\n",
       "</div>"
      ],
      "text/plain": [
       "      y_val         y_pred          diff  perc_diff       diff**2  \\\n",
       "0  196000.0  202964.550376  -6964.550376  -3.553342  4.850496e+07   \n",
       "1  170000.0  185447.682612 -15447.682612  -9.086872  2.386309e+08   \n",
       "2  254000.0  242216.387648  11783.612352   4.639217  1.388535e+08   \n",
       "3  107900.0  106163.073447   1736.926553   1.609756  3.016914e+06   \n",
       "4  200000.0  224388.496104 -24388.496104 -12.194248  5.947987e+08   \n",
       "\n",
       "       abs_diff  \n",
       "0   6964.550376  \n",
       "1  15447.682612  \n",
       "2  11783.612352  \n",
       "3   1736.926553  \n",
       "4  24388.496104  "
      ]
     },
     "execution_count": 51,
     "metadata": {},
     "output_type": "execute_result"
    },
    {
     "data": {
      "text/plain": [
       "2770.2320707915846"
      ]
     },
     "execution_count": 51,
     "metadata": {},
     "output_type": "execute_result"
    },
    {
     "data": {
      "text/plain": [
       "0.37668807933935494"
      ]
     },
     "execution_count": 51,
     "metadata": {},
     "output_type": "execute_result"
    },
    {
     "data": {
      "text/plain": [
       "28266.59742156735"
      ]
     },
     "execution_count": 51,
     "metadata": {},
     "output_type": "execute_result"
    },
    {
     "data": {
      "text/plain": [
       "18018.16810106598"
      ]
     },
     "execution_count": 51,
     "metadata": {},
     "output_type": "execute_result"
    }
   ],
   "source": [
    "# Cross-checking performance metrics above\n",
    "all_res = pd.DataFrame(list(zip(np.expm1(y_val), np.expm1(y_pred), (np.expm1(y_val)-np.expm1(y_pred)))), columns=['y_val', 'y_pred', 'diff'])\n",
    "# all_res = pd.DataFrame(list(zip((y_val), (y_pred), ((y_val)-(y_pred)))), columns=['y_val', 'y_pred', 'diff'])\n",
    "all_res['perc_diff'] = (all_res['diff']/all_res['y_val'])*100\n",
    "all_res['diff**2'] = all_res['diff']**2\n",
    "all_res['abs_diff'] = abs(all_res['diff'])\n",
    "all_res.head()\n",
    "all_res['diff'].mean()\n",
    "all_res['perc_diff'].mean()\n",
    "np.sqrt(all_res['diff**2'].mean())\n",
    "all_res['abs_diff'].mean()"
   ]
  },
  {
   "cell_type": "markdown",
   "metadata": {},
   "source": [
    "### Standardising Model Training\n"
   ]
  },
  {
   "cell_type": "code",
   "execution_count": 52,
   "metadata": {},
   "outputs": [
    {
     "name": "stdout",
     "output_type": "stream",
     "text": [
      "Training Model...\n",
      "Model Complete!\n"
     ]
    }
   ],
   "source": [
    "def vectorizer(train_dict):\n",
    "    \"\"\"Takes training feature dictionaries and vectorizes them for model training.\"\"\"\n",
    "    dv = DictVectorizer(sparse=False)\n",
    "    dv.fit(train_dict)\n",
    "    return dv\n",
    "\n",
    "dv = vectorizer(train_dict)\n",
    "\n",
    "X_train = dv.transform(train_dict)\n",
    "X_val = dv.transform(val_dict)\n",
    "X_test = dv.transform(test_dict)\n",
    "\n",
    "def train(X, y, model_type):\n",
    "    \"\"\"Takes vectorised feature list plus training target and returns trained model\"\"\"\n",
    "    print('Training Model...')\n",
    "    model = model_type\n",
    "    model.fit(X, y_train)\n",
    "    print('Model Complete!')\n",
    "    return model\n",
    "\n",
    "model = train(X_train, y_train, LinearRegression())\n"
   ]
  },
  {
   "cell_type": "code",
   "execution_count": 53,
   "metadata": {},
   "outputs": [
    {
     "data": {
      "text/plain": [
       "28266.597421567338"
      ]
     },
     "execution_count": 53,
     "metadata": {},
     "output_type": "execute_result"
    },
    {
     "name": "stdout",
     "output_type": "stream",
     "text": [
      "Value for MAE: 18018.168101065978\n"
     ]
    },
    {
     "data": {
      "text/plain": [
       "18018.168101065978"
      ]
     },
     "execution_count": 53,
     "metadata": {},
     "output_type": "execute_result"
    }
   ],
   "source": [
    "y_pred = model.predict(X_val)\n",
    "rmse(y_val, y_pred)\n",
    "# rmse(y_val, y_pred)/tgt_mean\n",
    "mae(y_val, y_pred)"
   ]
  },
  {
   "cell_type": "code",
   "execution_count": 54,
   "metadata": {},
   "outputs": [
    {
     "name": "stdout",
     "output_type": "stream",
     "text": [
      "Training Model...\n",
      "Model Complete!\n"
     ]
    },
    {
     "data": {
      "text/plain": [
       "22277.991972851083"
      ]
     },
     "execution_count": 54,
     "metadata": {},
     "output_type": "execute_result"
    },
    {
     "name": "stdout",
     "output_type": "stream",
     "text": [
      "Value for MAE: 16110.649569272808\n"
     ]
    },
    {
     "data": {
      "text/plain": [
       "16110.649569272808"
      ]
     },
     "execution_count": 54,
     "metadata": {},
     "output_type": "execute_result"
    }
   ],
   "source": [
    "model = train(X_train, y_train, Ridge(alpha=1.0))\n",
    "\n",
    "y_pred = model.predict(X_val)\n",
    "rmse(y_val, y_pred)\n",
    "mae(y_val, y_pred)"
   ]
  },
  {
   "cell_type": "code",
   "execution_count": 55,
   "metadata": {},
   "outputs": [
    {
     "name": "stdout",
     "output_type": "stream",
     "text": [
      "Training Model...\n",
      "Model Complete!\n"
     ]
    },
    {
     "data": {
      "text/plain": [
       "21499.349502143534"
      ]
     },
     "execution_count": 55,
     "metadata": {},
     "output_type": "execute_result"
    },
    {
     "name": "stdout",
     "output_type": "stream",
     "text": [
      "Value for MAE: 15163.946592084942\n"
     ]
    },
    {
     "data": {
      "text/plain": [
       "15163.946592084942"
      ]
     },
     "execution_count": 55,
     "metadata": {},
     "output_type": "execute_result"
    }
   ],
   "source": [
    "model = train(X_train, y_train, RidgeCV(    ))\n",
    "\n",
    "y_pred = model.predict(X_val)\n",
    "rmse(y_val, y_pred)\n",
    "mae(y_val, y_pred)"
   ]
  },
  {
   "cell_type": "markdown",
   "metadata": {},
   "source": [
    "Ridge appears to be the most performant model, therefore."
   ]
  },
  {
   "cell_type": "markdown",
   "metadata": {},
   "source": [
    "## Parameter Tuning"
   ]
  },
  {
   "cell_type": "code",
   "execution_count": 56,
   "metadata": {},
   "outputs": [
    {
     "name": "stdout",
     "output_type": "stream",
     "text": [
      "Training Model...\n",
      "Model Complete!\n",
      "auto\n"
     ]
    },
    {
     "data": {
      "text/plain": [
       "22277.991972851083"
      ]
     },
     "execution_count": 56,
     "metadata": {},
     "output_type": "execute_result"
    },
    {
     "name": "stdout",
     "output_type": "stream",
     "text": [
      "Value for MAE: 16110.649569272808\n"
     ]
    },
    {
     "data": {
      "text/plain": [
       "16110.649569272808"
      ]
     },
     "execution_count": 56,
     "metadata": {},
     "output_type": "execute_result"
    },
    {
     "name": "stdout",
     "output_type": "stream",
     "text": [
      "Training Model...\n",
      "Model Complete!\n",
      "svd\n"
     ]
    },
    {
     "data": {
      "text/plain": [
       "22277.99197284851"
      ]
     },
     "execution_count": 56,
     "metadata": {},
     "output_type": "execute_result"
    },
    {
     "name": "stdout",
     "output_type": "stream",
     "text": [
      "Value for MAE: 16110.649569268706\n"
     ]
    },
    {
     "data": {
      "text/plain": [
       "16110.649569268706"
      ]
     },
     "execution_count": 56,
     "metadata": {},
     "output_type": "execute_result"
    },
    {
     "name": "stdout",
     "output_type": "stream",
     "text": [
      "Training Model...\n",
      "Model Complete!\n",
      "cholesky\n"
     ]
    },
    {
     "data": {
      "text/plain": [
       "22277.991972851083"
      ]
     },
     "execution_count": 56,
     "metadata": {},
     "output_type": "execute_result"
    },
    {
     "name": "stdout",
     "output_type": "stream",
     "text": [
      "Value for MAE: 16110.649569272808\n"
     ]
    },
    {
     "data": {
      "text/plain": [
       "16110.649569272808"
      ]
     },
     "execution_count": 56,
     "metadata": {},
     "output_type": "execute_result"
    },
    {
     "name": "stdout",
     "output_type": "stream",
     "text": [
      "Training Model...\n",
      "Model Complete!\n",
      "lsqr\n"
     ]
    },
    {
     "data": {
      "text/plain": [
       "32884.318373481445"
      ]
     },
     "execution_count": 56,
     "metadata": {},
     "output_type": "execute_result"
    },
    {
     "name": "stdout",
     "output_type": "stream",
     "text": [
      "Value for MAE: 21648.46907536401\n"
     ]
    },
    {
     "data": {
      "text/plain": [
       "21648.46907536401"
      ]
     },
     "execution_count": 56,
     "metadata": {},
     "output_type": "execute_result"
    },
    {
     "name": "stdout",
     "output_type": "stream",
     "text": [
      "Training Model...\n",
      "Model Complete!\n",
      "sparse_cg\n"
     ]
    },
    {
     "data": {
      "text/plain": [
       "32529.492733669395"
      ]
     },
     "execution_count": 56,
     "metadata": {},
     "output_type": "execute_result"
    },
    {
     "name": "stdout",
     "output_type": "stream",
     "text": [
      "Value for MAE: 21486.883947425344\n"
     ]
    },
    {
     "data": {
      "text/plain": [
       "21486.883947425344"
      ]
     },
     "execution_count": 56,
     "metadata": {},
     "output_type": "execute_result"
    },
    {
     "name": "stdout",
     "output_type": "stream",
     "text": [
      "Training Model...\n",
      "Model Complete!\n",
      "sag\n"
     ]
    },
    {
     "data": {
      "text/plain": [
       "42973.360151039145"
      ]
     },
     "execution_count": 56,
     "metadata": {},
     "output_type": "execute_result"
    },
    {
     "name": "stdout",
     "output_type": "stream",
     "text": [
      "Value for MAE: 29605.703952849435\n"
     ]
    },
    {
     "data": {
      "text/plain": [
       "29605.703952849435"
      ]
     },
     "execution_count": 56,
     "metadata": {},
     "output_type": "execute_result"
    },
    {
     "name": "stdout",
     "output_type": "stream",
     "text": [
      "Training Model...\n",
      "Model Complete!\n",
      "saga\n"
     ]
    },
    {
     "data": {
      "text/plain": [
       "45855.72971113011"
      ]
     },
     "execution_count": 56,
     "metadata": {},
     "output_type": "execute_result"
    },
    {
     "name": "stdout",
     "output_type": "stream",
     "text": [
      "Value for MAE: 31238.276409234553\n"
     ]
    },
    {
     "data": {
      "text/plain": [
       "31238.276409234553"
      ]
     },
     "execution_count": 56,
     "metadata": {},
     "output_type": "execute_result"
    }
   ],
   "source": [
    "solvers = ['auto', 'svd', 'cholesky', 'lsqr', 'sparse_cg', 'sag', 'saga',]\n",
    "\n",
    "for s in solvers:\n",
    "    model = train(X_train, y_train, Ridge(alpha=1.0, solver=s))\n",
    "\n",
    "    y_pred = model.predict(X_val)\n",
    "    print(s)\n",
    "    rmse(y_val, y_pred)\n",
    "    mae(y_val, y_pred)"
   ]
  },
  {
   "cell_type": "markdown",
   "metadata": {},
   "source": [
    "Auto setting apparently obtained Singular Value Decomposition for optimal model."
   ]
  },
  {
   "cell_type": "code",
   "execution_count": 57,
   "metadata": {},
   "outputs": [
    {
     "name": "stdout",
     "output_type": "stream",
     "text": [
      "Training Model...\n",
      "Model Complete!\n",
      "0.001\n"
     ]
    },
    {
     "data": {
      "text/plain": [
       "23627.948670701902"
      ]
     },
     "execution_count": 57,
     "metadata": {},
     "output_type": "execute_result"
    },
    {
     "name": "stdout",
     "output_type": "stream",
     "text": [
      "Value for MAE: 17129.38679076026\n"
     ]
    },
    {
     "data": {
      "text/plain": [
       "17129.38679076026"
      ]
     },
     "execution_count": 57,
     "metadata": {},
     "output_type": "execute_result"
    },
    {
     "name": "stdout",
     "output_type": "stream",
     "text": [
      "Training Model...\n",
      "Model Complete!\n",
      "0.01\n"
     ]
    },
    {
     "data": {
      "text/plain": [
       "23582.431456476275"
      ]
     },
     "execution_count": 57,
     "metadata": {},
     "output_type": "execute_result"
    },
    {
     "name": "stdout",
     "output_type": "stream",
     "text": [
      "Value for MAE: 17091.561496480936\n"
     ]
    },
    {
     "data": {
      "text/plain": [
       "17091.561496480936"
      ]
     },
     "execution_count": 57,
     "metadata": {},
     "output_type": "execute_result"
    },
    {
     "name": "stdout",
     "output_type": "stream",
     "text": [
      "Training Model...\n",
      "Model Complete!\n",
      "0.1\n"
     ]
    },
    {
     "data": {
      "text/plain": [
       "23300.333655142967"
      ]
     },
     "execution_count": 57,
     "metadata": {},
     "output_type": "execute_result"
    },
    {
     "name": "stdout",
     "output_type": "stream",
     "text": [
      "Value for MAE: 16887.872895628527\n"
     ]
    },
    {
     "data": {
      "text/plain": [
       "16887.872895628527"
      ]
     },
     "execution_count": 57,
     "metadata": {},
     "output_type": "execute_result"
    },
    {
     "name": "stdout",
     "output_type": "stream",
     "text": [
      "Training Model...\n",
      "Model Complete!\n",
      "1\n"
     ]
    },
    {
     "data": {
      "text/plain": [
       "22277.99197284851"
      ]
     },
     "execution_count": 57,
     "metadata": {},
     "output_type": "execute_result"
    },
    {
     "name": "stdout",
     "output_type": "stream",
     "text": [
      "Value for MAE: 16110.649569268706\n"
     ]
    },
    {
     "data": {
      "text/plain": [
       "16110.649569268706"
      ]
     },
     "execution_count": 57,
     "metadata": {},
     "output_type": "execute_result"
    },
    {
     "name": "stdout",
     "output_type": "stream",
     "text": [
      "Training Model...\n",
      "Model Complete!\n",
      "10\n"
     ]
    },
    {
     "data": {
      "text/plain": [
       "21499.329533707634"
      ]
     },
     "execution_count": 57,
     "metadata": {},
     "output_type": "execute_result"
    },
    {
     "name": "stdout",
     "output_type": "stream",
     "text": [
      "Value for MAE: 15163.92774412085\n"
     ]
    },
    {
     "data": {
      "text/plain": [
       "15163.92774412085"
      ]
     },
     "execution_count": 57,
     "metadata": {},
     "output_type": "execute_result"
    },
    {
     "name": "stdout",
     "output_type": "stream",
     "text": [
      "Training Model...\n",
      "Model Complete!\n",
      "100\n"
     ]
    },
    {
     "data": {
      "text/plain": [
       "23005.702631984874"
      ]
     },
     "execution_count": 57,
     "metadata": {},
     "output_type": "execute_result"
    },
    {
     "name": "stdout",
     "output_type": "stream",
     "text": [
      "Value for MAE: 15369.56697113338\n"
     ]
    },
    {
     "data": {
      "text/plain": [
       "15369.56697113338"
      ]
     },
     "execution_count": 57,
     "metadata": {},
     "output_type": "execute_result"
    }
   ],
   "source": [
    "alphas=[1e-3, 1e-2, 1e-1, 1, 10, 100]\n",
    "\n",
    "for a in alphas:\n",
    "    model = train(X_train, y_train, Ridge(alpha=a, solver='svd'))\n",
    "    y_pred = model.predict(X_val)\n",
    "    print(a)\n",
    "    rmse(y_val, y_pred)\n",
    "    mae(y_val, y_pred)"
   ]
  },
  {
   "cell_type": "code",
   "execution_count": 70,
   "metadata": {},
   "outputs": [
    {
     "name": "stdout",
     "output_type": "stream",
     "text": [
      "Training Model...\n",
      "Model Complete!\n",
      "Value for MAE: 15381.963004431835\n",
      "Training Model...\n",
      "Model Complete!\n",
      "Value for MAE: 15308.414332661778\n",
      "Training Model...\n",
      "Model Complete!\n",
      "Value for MAE: 15253.151780905413\n",
      "Training Model...\n",
      "Model Complete!\n",
      "Value for MAE: 15207.53000869623\n",
      "Training Model...\n",
      "Model Complete!\n",
      "Value for MAE: 15182.832219644552\n",
      "Training Model...\n",
      "Model Complete!\n",
      "Value for MAE: 15163.92774412085\n",
      "Training Model...\n",
      "Model Complete!\n",
      "Value for MAE: 15148.952714208395\n",
      "Training Model...\n",
      "Model Complete!\n",
      "Value for MAE: 15134.998342311019\n",
      "Training Model...\n",
      "Model Complete!\n",
      "Value for MAE: 15121.71888746697\n",
      "Training Model...\n",
      "Model Complete!\n",
      "Value for MAE: 15111.294026289448\n",
      "Training Model...\n",
      "Model Complete!\n",
      "Value for MAE: 15104.301061306818\n",
      "Training Model...\n",
      "Model Complete!\n",
      "Value for MAE: 15098.241071436249\n",
      "Training Model...\n",
      "Model Complete!\n",
      "Value for MAE: 15092.368695914356\n",
      "Training Model...\n",
      "Model Complete!\n",
      "Value for MAE: 15086.487317564712\n",
      "Training Model...\n",
      "Model Complete!\n",
      "Value for MAE: 15080.754189028838\n",
      "Training Model...\n",
      "Model Complete!\n",
      "Value for MAE: 15078.562607236938\n",
      "Training Model...\n",
      "Model Complete!\n",
      "Value for MAE: 15077.231862827657\n",
      "Training Model...\n",
      "Model Complete!\n",
      "Value for MAE: 15075.892520032383\n",
      "Training Model...\n",
      "Model Complete!\n",
      "Value for MAE: 15074.693379438719\n",
      "Training Model...\n",
      "Model Complete!\n",
      "Value for MAE: 15073.475879625019\n",
      "Training Model...\n",
      "Model Complete!\n",
      "Value for MAE: 15072.12072445236\n",
      "Training Model...\n",
      "Model Complete!\n",
      "Value for MAE: 15073.654090313716\n",
      "Training Model...\n",
      "Model Complete!\n",
      "Value for MAE: 15076.096245514873\n",
      "Training Model...\n",
      "Model Complete!\n",
      "Value for MAE: 15078.257134424222\n",
      "Training Model...\n",
      "Model Complete!\n",
      "Value for MAE: 15080.157736156854\n",
      "Training Model...\n",
      "Model Complete!\n",
      "Value for MAE: 15081.817138042217\n",
      "Training Model...\n",
      "Model Complete!\n",
      "Value for MAE: 15083.711116458027\n",
      "Training Model...\n",
      "Model Complete!\n",
      "Value for MAE: 15085.417999371162\n",
      "Training Model...\n",
      "Model Complete!\n",
      "Value for MAE: 15086.911993961214\n",
      "Training Model...\n",
      "Model Complete!\n",
      "Value for MAE: 15088.207315664531\n",
      "Training Model...\n",
      "Model Complete!\n",
      "Value for MAE: 15089.317060779365\n",
      "Training Model...\n",
      "Model Complete!\n",
      "Value for MAE: 15090.253311324039\n",
      "Training Model...\n",
      "Model Complete!\n",
      "Value for MAE: 15092.784653506855\n",
      "Training Model...\n",
      "Model Complete!\n",
      "Value for MAE: 15096.228290488185\n",
      "Training Model...\n",
      "Model Complete!\n",
      "Value for MAE: 15100.01937634001\n"
     ]
    }
   ],
   "source": [
    "# y_val[:5]\n",
    "\n",
    "results = []\n",
    "\n",
    "for a in range(5, 40):\n",
    "    model = train(X_train, y_train, Ridge(alpha=a, solver='svd'))\n",
    "\n",
    "    y_pred = model.predict(X_val)\n",
    "    maeres = mae(y_val, y_pred)\n",
    "    rmseres = (rmse(y_val, y_pred))\n",
    "    results.append([a, rmseres, maeres])"
   ]
  },
  {
   "cell_type": "code",
   "execution_count": 71,
   "metadata": {},
   "outputs": [
    {
     "data": {
      "text/html": [
       "<div>\n",
       "<style scoped>\n",
       "    .dataframe tbody tr th:only-of-type {\n",
       "        vertical-align: middle;\n",
       "    }\n",
       "\n",
       "    .dataframe tbody tr th {\n",
       "        vertical-align: top;\n",
       "    }\n",
       "\n",
       "    .dataframe thead th {\n",
       "        text-align: right;\n",
       "    }\n",
       "</style>\n",
       "<table border=\"1\" class=\"dataframe\">\n",
       "  <thead>\n",
       "    <tr style=\"text-align: right;\">\n",
       "      <th></th>\n",
       "      <th>alpha</th>\n",
       "      <th>rmse</th>\n",
       "      <th>mae</th>\n",
       "    </tr>\n",
       "  </thead>\n",
       "  <tbody>\n",
       "    <tr>\n",
       "      <th>0</th>\n",
       "      <td>5</td>\n",
       "      <td>21592.309156</td>\n",
       "      <td>15381.963004</td>\n",
       "    </tr>\n",
       "    <tr>\n",
       "      <th>1</th>\n",
       "      <td>6</td>\n",
       "      <td>21550.548028</td>\n",
       "      <td>15308.414333</td>\n",
       "    </tr>\n",
       "    <tr>\n",
       "      <th>2</th>\n",
       "      <td>7</td>\n",
       "      <td>21524.136452</td>\n",
       "      <td>15253.151781</td>\n",
       "    </tr>\n",
       "    <tr>\n",
       "      <th>3</th>\n",
       "      <td>8</td>\n",
       "      <td>21508.562326</td>\n",
       "      <td>15207.530009</td>\n",
       "    </tr>\n",
       "    <tr>\n",
       "      <th>4</th>\n",
       "      <td>9</td>\n",
       "      <td>21500.943121</td>\n",
       "      <td>15182.832220</td>\n",
       "    </tr>\n",
       "    <tr>\n",
       "      <th>5</th>\n",
       "      <td>10</td>\n",
       "      <td>21499.329534</td>\n",
       "      <td>15163.927744</td>\n",
       "    </tr>\n",
       "    <tr>\n",
       "      <th>6</th>\n",
       "      <td>11</td>\n",
       "      <td>21502.345655</td>\n",
       "      <td>15148.952714</td>\n",
       "    </tr>\n",
       "    <tr>\n",
       "      <th>7</th>\n",
       "      <td>12</td>\n",
       "      <td>21508.987567</td>\n",
       "      <td>15134.998342</td>\n",
       "    </tr>\n",
       "    <tr>\n",
       "      <th>8</th>\n",
       "      <td>13</td>\n",
       "      <td>21518.503285</td>\n",
       "      <td>15121.718887</td>\n",
       "    </tr>\n",
       "    <tr>\n",
       "      <th>9</th>\n",
       "      <td>14</td>\n",
       "      <td>21530.317486</td>\n",
       "      <td>15111.294026</td>\n",
       "    </tr>\n",
       "    <tr>\n",
       "      <th>10</th>\n",
       "      <td>15</td>\n",
       "      <td>21543.982290</td>\n",
       "      <td>15104.301061</td>\n",
       "    </tr>\n",
       "    <tr>\n",
       "      <th>11</th>\n",
       "      <td>16</td>\n",
       "      <td>21559.143963</td>\n",
       "      <td>15098.241071</td>\n",
       "    </tr>\n",
       "    <tr>\n",
       "      <th>12</th>\n",
       "      <td>17</td>\n",
       "      <td>21575.519711</td>\n",
       "      <td>15092.368696</td>\n",
       "    </tr>\n",
       "    <tr>\n",
       "      <th>13</th>\n",
       "      <td>18</td>\n",
       "      <td>21592.881114</td>\n",
       "      <td>15086.487318</td>\n",
       "    </tr>\n",
       "    <tr>\n",
       "      <th>14</th>\n",
       "      <td>19</td>\n",
       "      <td>21611.042031</td>\n",
       "      <td>15080.754189</td>\n",
       "    </tr>\n",
       "    <tr>\n",
       "      <th>15</th>\n",
       "      <td>20</td>\n",
       "      <td>21629.849619</td>\n",
       "      <td>15078.562607</td>\n",
       "    </tr>\n",
       "    <tr>\n",
       "      <th>16</th>\n",
       "      <td>21</td>\n",
       "      <td>21649.177548</td>\n",
       "      <td>15077.231863</td>\n",
       "    </tr>\n",
       "    <tr>\n",
       "      <th>17</th>\n",
       "      <td>22</td>\n",
       "      <td>21668.920806</td>\n",
       "      <td>15075.892520</td>\n",
       "    </tr>\n",
       "    <tr>\n",
       "      <th>18</th>\n",
       "      <td>23</td>\n",
       "      <td>21688.991671</td>\n",
       "      <td>15074.693379</td>\n",
       "    </tr>\n",
       "    <tr>\n",
       "      <th>19</th>\n",
       "      <td>24</td>\n",
       "      <td>21709.316546</td>\n",
       "      <td>15073.475880</td>\n",
       "    </tr>\n",
       "  </tbody>\n",
       "</table>\n",
       "</div>"
      ],
      "text/plain": [
       "    alpha          rmse           mae\n",
       "0       5  21592.309156  15381.963004\n",
       "1       6  21550.548028  15308.414333\n",
       "2       7  21524.136452  15253.151781\n",
       "3       8  21508.562326  15207.530009\n",
       "4       9  21500.943121  15182.832220\n",
       "5      10  21499.329534  15163.927744\n",
       "6      11  21502.345655  15148.952714\n",
       "7      12  21508.987567  15134.998342\n",
       "8      13  21518.503285  15121.718887\n",
       "9      14  21530.317486  15111.294026\n",
       "10     15  21543.982290  15104.301061\n",
       "11     16  21559.143963  15098.241071\n",
       "12     17  21575.519711  15092.368696\n",
       "13     18  21592.881114  15086.487318\n",
       "14     19  21611.042031  15080.754189\n",
       "15     20  21629.849619  15078.562607\n",
       "16     21  21649.177548  15077.231863\n",
       "17     22  21668.920806  15075.892520\n",
       "18     23  21688.991671  15074.693379\n",
       "19     24  21709.316546  15073.475880"
      ]
     },
     "execution_count": 71,
     "metadata": {},
     "output_type": "execute_result"
    },
    {
     "data": {
      "text/plain": [
       "<AxesSubplot:xlabel='alpha'>"
      ]
     },
     "execution_count": 71,
     "metadata": {},
     "output_type": "execute_result"
    },
    {
     "data": {
      "text/plain": [
       "<AxesSubplot:xlabel='alpha'>"
      ]
     },
     "execution_count": 71,
     "metadata": {},
     "output_type": "execute_result"
    },
    {
     "data": {
      "image/svg+xml": "<?xml version=\"1.0\" encoding=\"utf-8\" standalone=\"no\"?>\n<!DOCTYPE svg PUBLIC \"-//W3C//DTD SVG 1.1//EN\"\n  \"http://www.w3.org/Graphics/SVG/1.1/DTD/svg11.dtd\">\n<svg height=\"261.130625pt\" version=\"1.1\" viewBox=\"0 0 384.004687 261.130625\" width=\"384.004687pt\" xmlns=\"http://www.w3.org/2000/svg\" xmlns:xlink=\"http://www.w3.org/1999/xlink\">\n <metadata>\n  <rdf:RDF xmlns:cc=\"http://creativecommons.org/ns#\" xmlns:dc=\"http://purl.org/dc/elements/1.1/\" xmlns:rdf=\"http://www.w3.org/1999/02/22-rdf-syntax-ns#\">\n   <cc:Work>\n    <dc:type rdf:resource=\"http://purl.org/dc/dcmitype/StillImage\"/>\n    <dc:date>2022-01-23T14:54:37.015647</dc:date>\n    <dc:format>image/svg+xml</dc:format>\n    <dc:creator>\n     <cc:Agent>\n      <dc:title>Matplotlib v3.4.2, https://matplotlib.org/</dc:title>\n     </cc:Agent>\n    </dc:creator>\n   </cc:Work>\n  </rdf:RDF>\n </metadata>\n <defs>\n  <style type=\"text/css\">*{stroke-linecap:butt;stroke-linejoin:round;}</style>\n </defs>\n <g id=\"figure_1\">\n  <g id=\"patch_1\">\n   <path d=\"M 0 261.130625 \nL 384.004687 261.130625 \nL 384.004687 0 \nL 0 0 \nz\n\" style=\"fill:none;\"/>\n  </g>\n  <g id=\"axes_1\">\n   <g id=\"patch_2\">\n    <path d=\"M 42.004688 224.64 \nL 376.804688 224.64 \nL 376.804688 7.2 \nL 42.004688 7.2 \nz\n\" style=\"fill:#ffffff;\"/>\n   </g>\n   <g id=\"matplotlib.axis_1\">\n    <g id=\"xtick_1\">\n     <g id=\"line2d_1\">\n      <defs>\n       <path d=\"M 0 0 \nL 0 3.5 \n\" id=\"m03df76fe5a\" style=\"stroke:#808080;stroke-width:0.8;\"/>\n      </defs>\n      <g>\n       <use style=\"fill:#808080;stroke:#808080;stroke-width:0.8;\" x=\"57.222869\" xlink:href=\"#m03df76fe5a\" y=\"224.64\"/>\n      </g>\n     </g>\n     <g id=\"text_1\">\n      <!-- 5 -->\n      <g style=\"fill:#808080;\" transform=\"translate(54.442401 238.797813)scale(0.1 -0.1)\">\n       <defs>\n        <path d=\"M 266 1200 \nL 856 1250 \nQ 922 819 1161 601 \nQ 1400 384 1738 384 \nQ 2144 384 2425 690 \nQ 2706 997 2706 1503 \nQ 2706 1984 2436 2262 \nQ 2166 2541 1728 2541 \nQ 1456 2541 1237 2417 \nQ 1019 2294 894 2097 \nL 366 2166 \nL 809 4519 \nL 3088 4519 \nL 3088 3981 \nL 1259 3981 \nL 1013 2750 \nQ 1425 3038 1878 3038 \nQ 2478 3038 2890 2622 \nQ 3303 2206 3303 1553 \nQ 3303 931 2941 478 \nQ 2500 -78 1738 -78 \nQ 1113 -78 717 272 \nQ 322 622 266 1200 \nz\n\" id=\"ArialMT-35\" transform=\"scale(0.015625)\"/>\n       </defs>\n       <use xlink:href=\"#ArialMT-35\"/>\n      </g>\n     </g>\n    </g>\n    <g id=\"xtick_2\">\n     <g id=\"line2d_2\">\n      <g>\n       <use style=\"fill:#808080;stroke:#808080;stroke-width:0.8;\" x=\"101.982228\" xlink:href=\"#m03df76fe5a\" y=\"224.64\"/>\n      </g>\n     </g>\n     <g id=\"text_2\">\n      <!-- 10 -->\n      <g style=\"fill:#808080;\" transform=\"translate(96.42129 238.797813)scale(0.1 -0.1)\">\n       <defs>\n        <path d=\"M 2384 0 \nL 1822 0 \nL 1822 3584 \nQ 1619 3391 1289 3197 \nQ 959 3003 697 2906 \nL 697 3450 \nQ 1169 3672 1522 3987 \nQ 1875 4303 2022 4600 \nL 2384 4600 \nL 2384 0 \nz\n\" id=\"ArialMT-31\" transform=\"scale(0.015625)\"/>\n        <path d=\"M 266 2259 \nQ 266 3072 433 3567 \nQ 600 4063 929 4331 \nQ 1259 4600 1759 4600 \nQ 2128 4600 2406 4451 \nQ 2684 4303 2865 4023 \nQ 3047 3744 3150 3342 \nQ 3253 2941 3253 2259 \nQ 3253 1453 3087 958 \nQ 2922 463 2592 192 \nQ 2263 -78 1759 -78 \nQ 1097 -78 719 397 \nQ 266 969 266 2259 \nz\nM 844 2259 \nQ 844 1131 1108 757 \nQ 1372 384 1759 384 \nQ 2147 384 2411 759 \nQ 2675 1134 2675 2259 \nQ 2675 3391 2411 3762 \nQ 2147 4134 1753 4134 \nQ 1366 4134 1134 3806 \nQ 844 3388 844 2259 \nz\n\" id=\"ArialMT-30\" transform=\"scale(0.015625)\"/>\n       </defs>\n       <use xlink:href=\"#ArialMT-31\"/>\n       <use x=\"55.615234\" xlink:href=\"#ArialMT-30\"/>\n      </g>\n     </g>\n    </g>\n    <g id=\"xtick_3\">\n     <g id=\"line2d_3\">\n      <g>\n       <use style=\"fill:#808080;stroke:#808080;stroke-width:0.8;\" x=\"146.741586\" xlink:href=\"#m03df76fe5a\" y=\"224.64\"/>\n      </g>\n     </g>\n     <g id=\"text_3\">\n      <!-- 15 -->\n      <g style=\"fill:#808080;\" transform=\"translate(141.180648 238.797813)scale(0.1 -0.1)\">\n       <use xlink:href=\"#ArialMT-31\"/>\n       <use x=\"55.615234\" xlink:href=\"#ArialMT-35\"/>\n      </g>\n     </g>\n    </g>\n    <g id=\"xtick_4\">\n     <g id=\"line2d_4\">\n      <g>\n       <use style=\"fill:#808080;stroke:#808080;stroke-width:0.8;\" x=\"191.500944\" xlink:href=\"#m03df76fe5a\" y=\"224.64\"/>\n      </g>\n     </g>\n     <g id=\"text_4\">\n      <!-- 20 -->\n      <g style=\"fill:#808080;\" transform=\"translate(185.940007 238.797813)scale(0.1 -0.1)\">\n       <defs>\n        <path d=\"M 3222 541 \nL 3222 0 \nL 194 0 \nQ 188 203 259 391 \nQ 375 700 629 1000 \nQ 884 1300 1366 1694 \nQ 2113 2306 2375 2664 \nQ 2638 3022 2638 3341 \nQ 2638 3675 2398 3904 \nQ 2159 4134 1775 4134 \nQ 1369 4134 1125 3890 \nQ 881 3647 878 3216 \nL 300 3275 \nQ 359 3922 746 4261 \nQ 1134 4600 1788 4600 \nQ 2447 4600 2831 4234 \nQ 3216 3869 3216 3328 \nQ 3216 3053 3103 2787 \nQ 2991 2522 2730 2228 \nQ 2469 1934 1863 1422 \nQ 1356 997 1212 845 \nQ 1069 694 975 541 \nL 3222 541 \nz\n\" id=\"ArialMT-32\" transform=\"scale(0.015625)\"/>\n       </defs>\n       <use xlink:href=\"#ArialMT-32\"/>\n       <use x=\"55.615234\" xlink:href=\"#ArialMT-30\"/>\n      </g>\n     </g>\n    </g>\n    <g id=\"xtick_5\">\n     <g id=\"line2d_5\">\n      <g>\n       <use style=\"fill:#808080;stroke:#808080;stroke-width:0.8;\" x=\"236.260302\" xlink:href=\"#m03df76fe5a\" y=\"224.64\"/>\n      </g>\n     </g>\n     <g id=\"text_5\">\n      <!-- 25 -->\n      <g style=\"fill:#808080;\" transform=\"translate(230.699365 238.797813)scale(0.1 -0.1)\">\n       <use xlink:href=\"#ArialMT-32\"/>\n       <use x=\"55.615234\" xlink:href=\"#ArialMT-35\"/>\n      </g>\n     </g>\n    </g>\n    <g id=\"xtick_6\">\n     <g id=\"line2d_6\">\n      <g>\n       <use style=\"fill:#808080;stroke:#808080;stroke-width:0.8;\" x=\"281.019661\" xlink:href=\"#m03df76fe5a\" y=\"224.64\"/>\n      </g>\n     </g>\n     <g id=\"text_6\">\n      <!-- 30 -->\n      <g style=\"fill:#808080;\" transform=\"translate(275.458723 238.797813)scale(0.1 -0.1)\">\n       <defs>\n        <path d=\"M 269 1209 \nL 831 1284 \nQ 928 806 1161 595 \nQ 1394 384 1728 384 \nQ 2125 384 2398 659 \nQ 2672 934 2672 1341 \nQ 2672 1728 2419 1979 \nQ 2166 2231 1775 2231 \nQ 1616 2231 1378 2169 \nL 1441 2663 \nQ 1497 2656 1531 2656 \nQ 1891 2656 2178 2843 \nQ 2466 3031 2466 3422 \nQ 2466 3731 2256 3934 \nQ 2047 4138 1716 4138 \nQ 1388 4138 1169 3931 \nQ 950 3725 888 3313 \nL 325 3413 \nQ 428 3978 793 4289 \nQ 1159 4600 1703 4600 \nQ 2078 4600 2393 4439 \nQ 2709 4278 2876 4000 \nQ 3044 3722 3044 3409 \nQ 3044 3113 2884 2869 \nQ 2725 2625 2413 2481 \nQ 2819 2388 3044 2092 \nQ 3269 1797 3269 1353 \nQ 3269 753 2831 336 \nQ 2394 -81 1725 -81 \nQ 1122 -81 723 278 \nQ 325 638 269 1209 \nz\n\" id=\"ArialMT-33\" transform=\"scale(0.015625)\"/>\n       </defs>\n       <use xlink:href=\"#ArialMT-33\"/>\n       <use x=\"55.615234\" xlink:href=\"#ArialMT-30\"/>\n      </g>\n     </g>\n    </g>\n    <g id=\"xtick_7\">\n     <g id=\"line2d_7\">\n      <g>\n       <use style=\"fill:#808080;stroke:#808080;stroke-width:0.8;\" x=\"325.779019\" xlink:href=\"#m03df76fe5a\" y=\"224.64\"/>\n      </g>\n     </g>\n     <g id=\"text_7\">\n      <!-- 35 -->\n      <g style=\"fill:#808080;\" transform=\"translate(320.218082 238.797813)scale(0.1 -0.1)\">\n       <use xlink:href=\"#ArialMT-33\"/>\n       <use x=\"55.615234\" xlink:href=\"#ArialMT-35\"/>\n      </g>\n     </g>\n    </g>\n    <g id=\"xtick_8\">\n     <g id=\"line2d_8\">\n      <g>\n       <use style=\"fill:#808080;stroke:#808080;stroke-width:0.8;\" x=\"370.538377\" xlink:href=\"#m03df76fe5a\" y=\"224.64\"/>\n      </g>\n     </g>\n     <g id=\"text_8\">\n      <!-- 40 -->\n      <g style=\"fill:#808080;\" transform=\"translate(364.97744 238.797813)scale(0.1 -0.1)\">\n       <defs>\n        <path d=\"M 2069 0 \nL 2069 1097 \nL 81 1097 \nL 81 1613 \nL 2172 4581 \nL 2631 4581 \nL 2631 1613 \nL 3250 1613 \nL 3250 1097 \nL 2631 1097 \nL 2631 0 \nL 2069 0 \nz\nM 2069 1613 \nL 2069 3678 \nL 634 1613 \nL 2069 1613 \nz\n\" id=\"ArialMT-34\" transform=\"scale(0.015625)\"/>\n       </defs>\n       <use xlink:href=\"#ArialMT-34\"/>\n       <use x=\"55.615234\" xlink:href=\"#ArialMT-30\"/>\n      </g>\n     </g>\n    </g>\n    <g id=\"text_9\">\n     <!-- alpha -->\n     <g style=\"fill:#505050;\" transform=\"translate(197.171875 251.943125)scale(0.1 -0.1)\">\n      <defs>\n       <path d=\"M 2588 409 \nQ 2275 144 1986 34 \nQ 1697 -75 1366 -75 \nQ 819 -75 525 192 \nQ 231 459 231 875 \nQ 231 1119 342 1320 \nQ 453 1522 633 1644 \nQ 813 1766 1038 1828 \nQ 1203 1872 1538 1913 \nQ 2219 1994 2541 2106 \nQ 2544 2222 2544 2253 \nQ 2544 2597 2384 2738 \nQ 2169 2928 1744 2928 \nQ 1347 2928 1158 2789 \nQ 969 2650 878 2297 \nL 328 2372 \nQ 403 2725 575 2942 \nQ 747 3159 1072 3276 \nQ 1397 3394 1825 3394 \nQ 2250 3394 2515 3294 \nQ 2781 3194 2906 3042 \nQ 3031 2891 3081 2659 \nQ 3109 2516 3109 2141 \nL 3109 1391 \nQ 3109 606 3145 398 \nQ 3181 191 3288 0 \nL 2700 0 \nQ 2613 175 2588 409 \nz\nM 2541 1666 \nQ 2234 1541 1622 1453 \nQ 1275 1403 1131 1340 \nQ 988 1278 909 1158 \nQ 831 1038 831 891 \nQ 831 666 1001 516 \nQ 1172 366 1500 366 \nQ 1825 366 2078 508 \nQ 2331 650 2450 897 \nQ 2541 1088 2541 1459 \nL 2541 1666 \nz\n\" id=\"ArialMT-61\" transform=\"scale(0.015625)\"/>\n       <path d=\"M 409 0 \nL 409 4581 \nL 972 4581 \nL 972 0 \nL 409 0 \nz\n\" id=\"ArialMT-6c\" transform=\"scale(0.015625)\"/>\n       <path d=\"M 422 -1272 \nL 422 3319 \nL 934 3319 \nL 934 2888 \nQ 1116 3141 1344 3267 \nQ 1572 3394 1897 3394 \nQ 2322 3394 2647 3175 \nQ 2972 2956 3137 2557 \nQ 3303 2159 3303 1684 \nQ 3303 1175 3120 767 \nQ 2938 359 2589 142 \nQ 2241 -75 1856 -75 \nQ 1575 -75 1351 44 \nQ 1128 163 984 344 \nL 984 -1272 \nL 422 -1272 \nz\nM 931 1641 \nQ 931 1000 1190 694 \nQ 1450 388 1819 388 \nQ 2194 388 2461 705 \nQ 2728 1022 2728 1688 \nQ 2728 2322 2467 2637 \nQ 2206 2953 1844 2953 \nQ 1484 2953 1207 2617 \nQ 931 2281 931 1641 \nz\n\" id=\"ArialMT-70\" transform=\"scale(0.015625)\"/>\n       <path d=\"M 422 0 \nL 422 4581 \nL 984 4581 \nL 984 2938 \nQ 1378 3394 1978 3394 \nQ 2347 3394 2619 3248 \nQ 2891 3103 3008 2847 \nQ 3125 2591 3125 2103 \nL 3125 0 \nL 2563 0 \nL 2563 2103 \nQ 2563 2525 2380 2717 \nQ 2197 2909 1863 2909 \nQ 1613 2909 1392 2779 \nQ 1172 2650 1078 2428 \nQ 984 2206 984 1816 \nL 984 0 \nL 422 0 \nz\n\" id=\"ArialMT-68\" transform=\"scale(0.015625)\"/>\n      </defs>\n      <use xlink:href=\"#ArialMT-61\"/>\n      <use x=\"55.615234\" xlink:href=\"#ArialMT-6c\"/>\n      <use x=\"77.832031\" xlink:href=\"#ArialMT-70\"/>\n      <use x=\"133.447266\" xlink:href=\"#ArialMT-68\"/>\n      <use x=\"189.0625\" xlink:href=\"#ArialMT-61\"/>\n     </g>\n    </g>\n   </g>\n   <g id=\"matplotlib.axis_2\">\n    <g id=\"ytick_1\">\n     <g id=\"line2d_9\">\n      <defs>\n       <path d=\"M 0 0 \nL -3.5 0 \n\" id=\"m505bdb4fab\" style=\"stroke:#808080;stroke-width:0.8;\"/>\n      </defs>\n      <g>\n       <use style=\"fill:#808080;stroke:#808080;stroke-width:0.8;\" x=\"42.004688\" xlink:href=\"#m505bdb4fab\" y=\"214.500974\"/>\n      </g>\n     </g>\n     <g id=\"text_10\">\n      <!-- 21500 -->\n      <g style=\"fill:#808080;\" transform=\"translate(7.2 218.079881)scale(0.1 -0.1)\">\n       <use xlink:href=\"#ArialMT-32\"/>\n       <use x=\"55.615234\" xlink:href=\"#ArialMT-31\"/>\n       <use x=\"111.230469\" xlink:href=\"#ArialMT-35\"/>\n       <use x=\"166.845703\" xlink:href=\"#ArialMT-30\"/>\n       <use x=\"222.460938\" xlink:href=\"#ArialMT-30\"/>\n      </g>\n     </g>\n    </g>\n    <g id=\"ytick_2\">\n     <g id=\"line2d_10\">\n      <g>\n       <use style=\"fill:#808080;stroke:#808080;stroke-width:0.8;\" x=\"42.004688\" xlink:href=\"#m505bdb4fab\" y=\"176.409672\"/>\n      </g>\n     </g>\n     <g id=\"text_11\">\n      <!-- 21600 -->\n      <g style=\"fill:#808080;\" transform=\"translate(7.2 179.988578)scale(0.1 -0.1)\">\n       <defs>\n        <path d=\"M 3184 3459 \nL 2625 3416 \nQ 2550 3747 2413 3897 \nQ 2184 4138 1850 4138 \nQ 1581 4138 1378 3988 \nQ 1113 3794 959 3422 \nQ 806 3050 800 2363 \nQ 1003 2672 1297 2822 \nQ 1591 2972 1913 2972 \nQ 2475 2972 2870 2558 \nQ 3266 2144 3266 1488 \nQ 3266 1056 3080 686 \nQ 2894 316 2569 119 \nQ 2244 -78 1831 -78 \nQ 1128 -78 684 439 \nQ 241 956 241 2144 \nQ 241 3472 731 4075 \nQ 1159 4600 1884 4600 \nQ 2425 4600 2770 4297 \nQ 3116 3994 3184 3459 \nz\nM 888 1484 \nQ 888 1194 1011 928 \nQ 1134 663 1356 523 \nQ 1578 384 1822 384 \nQ 2178 384 2434 671 \nQ 2691 959 2691 1453 \nQ 2691 1928 2437 2201 \nQ 2184 2475 1800 2475 \nQ 1419 2475 1153 2201 \nQ 888 1928 888 1484 \nz\n\" id=\"ArialMT-36\" transform=\"scale(0.015625)\"/>\n       </defs>\n       <use xlink:href=\"#ArialMT-32\"/>\n       <use x=\"55.615234\" xlink:href=\"#ArialMT-31\"/>\n       <use x=\"111.230469\" xlink:href=\"#ArialMT-36\"/>\n       <use x=\"166.845703\" xlink:href=\"#ArialMT-30\"/>\n       <use x=\"222.460938\" xlink:href=\"#ArialMT-30\"/>\n      </g>\n     </g>\n    </g>\n    <g id=\"ytick_3\">\n     <g id=\"line2d_11\">\n      <g>\n       <use style=\"fill:#808080;stroke:#808080;stroke-width:0.8;\" x=\"42.004688\" xlink:href=\"#m505bdb4fab\" y=\"138.318369\"/>\n      </g>\n     </g>\n     <g id=\"text_12\">\n      <!-- 21700 -->\n      <g style=\"fill:#808080;\" transform=\"translate(7.2 141.897276)scale(0.1 -0.1)\">\n       <defs>\n        <path d=\"M 303 3981 \nL 303 4522 \nL 3269 4522 \nL 3269 4084 \nQ 2831 3619 2401 2847 \nQ 1972 2075 1738 1259 \nQ 1569 684 1522 0 \nL 944 0 \nQ 953 541 1156 1306 \nQ 1359 2072 1739 2783 \nQ 2119 3494 2547 3981 \nL 303 3981 \nz\n\" id=\"ArialMT-37\" transform=\"scale(0.015625)\"/>\n       </defs>\n       <use xlink:href=\"#ArialMT-32\"/>\n       <use x=\"55.615234\" xlink:href=\"#ArialMT-31\"/>\n       <use x=\"111.230469\" xlink:href=\"#ArialMT-37\"/>\n       <use x=\"166.845703\" xlink:href=\"#ArialMT-30\"/>\n       <use x=\"222.460938\" xlink:href=\"#ArialMT-30\"/>\n      </g>\n     </g>\n    </g>\n    <g id=\"ytick_4\">\n     <g id=\"line2d_12\">\n      <g>\n       <use style=\"fill:#808080;stroke:#808080;stroke-width:0.8;\" x=\"42.004688\" xlink:href=\"#m505bdb4fab\" y=\"100.227067\"/>\n      </g>\n     </g>\n     <g id=\"text_13\">\n      <!-- 21800 -->\n      <g style=\"fill:#808080;\" transform=\"translate(7.2 103.805973)scale(0.1 -0.1)\">\n       <defs>\n        <path d=\"M 1131 2484 \nQ 781 2613 612 2850 \nQ 444 3088 444 3419 \nQ 444 3919 803 4259 \nQ 1163 4600 1759 4600 \nQ 2359 4600 2725 4251 \nQ 3091 3903 3091 3403 \nQ 3091 3084 2923 2848 \nQ 2756 2613 2416 2484 \nQ 2838 2347 3058 2040 \nQ 3278 1734 3278 1309 \nQ 3278 722 2862 322 \nQ 2447 -78 1769 -78 \nQ 1091 -78 675 323 \nQ 259 725 259 1325 \nQ 259 1772 486 2073 \nQ 713 2375 1131 2484 \nz\nM 1019 3438 \nQ 1019 3113 1228 2906 \nQ 1438 2700 1772 2700 \nQ 2097 2700 2305 2904 \nQ 2513 3109 2513 3406 \nQ 2513 3716 2298 3927 \nQ 2084 4138 1766 4138 \nQ 1444 4138 1231 3931 \nQ 1019 3725 1019 3438 \nz\nM 838 1322 \nQ 838 1081 952 856 \nQ 1066 631 1291 507 \nQ 1516 384 1775 384 \nQ 2178 384 2440 643 \nQ 2703 903 2703 1303 \nQ 2703 1709 2433 1975 \nQ 2163 2241 1756 2241 \nQ 1359 2241 1098 1978 \nQ 838 1716 838 1322 \nz\n\" id=\"ArialMT-38\" transform=\"scale(0.015625)\"/>\n       </defs>\n       <use xlink:href=\"#ArialMT-32\"/>\n       <use x=\"55.615234\" xlink:href=\"#ArialMT-31\"/>\n       <use x=\"111.230469\" xlink:href=\"#ArialMT-38\"/>\n       <use x=\"166.845703\" xlink:href=\"#ArialMT-30\"/>\n       <use x=\"222.460938\" xlink:href=\"#ArialMT-30\"/>\n      </g>\n     </g>\n    </g>\n    <g id=\"ytick_5\">\n     <g id=\"line2d_13\">\n      <g>\n       <use style=\"fill:#808080;stroke:#808080;stroke-width:0.8;\" x=\"42.004688\" xlink:href=\"#m505bdb4fab\" y=\"62.135764\"/>\n      </g>\n     </g>\n     <g id=\"text_14\">\n      <!-- 21900 -->\n      <g style=\"fill:#808080;\" transform=\"translate(7.2 65.71467)scale(0.1 -0.1)\">\n       <defs>\n        <path d=\"M 350 1059 \nL 891 1109 \nQ 959 728 1153 556 \nQ 1347 384 1650 384 \nQ 1909 384 2104 503 \nQ 2300 622 2425 820 \nQ 2550 1019 2634 1356 \nQ 2719 1694 2719 2044 \nQ 2719 2081 2716 2156 \nQ 2547 1888 2255 1720 \nQ 1963 1553 1622 1553 \nQ 1053 1553 659 1965 \nQ 266 2378 266 3053 \nQ 266 3750 677 4175 \nQ 1088 4600 1706 4600 \nQ 2153 4600 2523 4359 \nQ 2894 4119 3086 3673 \nQ 3278 3228 3278 2384 \nQ 3278 1506 3087 986 \nQ 2897 466 2520 194 \nQ 2144 -78 1638 -78 \nQ 1100 -78 759 220 \nQ 419 519 350 1059 \nz\nM 2653 3081 \nQ 2653 3566 2395 3850 \nQ 2138 4134 1775 4134 \nQ 1400 4134 1122 3828 \nQ 844 3522 844 3034 \nQ 844 2597 1108 2323 \nQ 1372 2050 1759 2050 \nQ 2150 2050 2401 2323 \nQ 2653 2597 2653 3081 \nz\n\" id=\"ArialMT-39\" transform=\"scale(0.015625)\"/>\n       </defs>\n       <use xlink:href=\"#ArialMT-32\"/>\n       <use x=\"55.615234\" xlink:href=\"#ArialMT-31\"/>\n       <use x=\"111.230469\" xlink:href=\"#ArialMT-39\"/>\n       <use x=\"166.845703\" xlink:href=\"#ArialMT-30\"/>\n       <use x=\"222.460938\" xlink:href=\"#ArialMT-30\"/>\n      </g>\n     </g>\n    </g>\n    <g id=\"ytick_6\">\n     <g id=\"line2d_14\">\n      <g>\n       <use style=\"fill:#808080;stroke:#808080;stroke-width:0.8;\" x=\"42.004688\" xlink:href=\"#m505bdb4fab\" y=\"24.044462\"/>\n      </g>\n     </g>\n     <g id=\"text_15\">\n      <!-- 22000 -->\n      <g style=\"fill:#808080;\" transform=\"translate(7.2 27.623368)scale(0.1 -0.1)\">\n       <use xlink:href=\"#ArialMT-32\"/>\n       <use x=\"55.615234\" xlink:href=\"#ArialMT-32\"/>\n       <use x=\"111.230469\" xlink:href=\"#ArialMT-30\"/>\n       <use x=\"166.845703\" xlink:href=\"#ArialMT-30\"/>\n       <use x=\"222.460938\" xlink:href=\"#ArialMT-30\"/>\n      </g>\n     </g>\n    </g>\n   </g>\n   <g id=\"line2d_15\">\n    <path clip-path=\"url(#pd1d5d4afc2)\" d=\"M 57.222869 179.339214 \nL 66.174741 195.246572 \nL 75.126613 205.307085 \nL 84.078484 211.239473 \nL 93.030356 214.141727 \nL 101.982228 214.756364 \nL 110.934099 213.607484 \nL 119.885971 211.077493 \nL 128.837843 207.452832 \nL 137.789714 202.952649 \nL 146.741586 197.747547 \nL 155.693458 191.972268 \nL 164.645329 185.734533 \nL 173.597201 179.121348 \nL 182.549073 172.203618 \nL 191.500944 165.039563 \nL 200.452816 157.677303 \nL 209.404687 150.156839 \nL 218.356559 142.511585 \nL 227.308431 134.769575 \nL 236.260302 126.954414 \nL 245.212174 119.086038 \nL 254.164046 111.181332 \nL 263.115917 103.254624 \nL 272.067789 95.318094 \nL 281.019661 87.382107 \nL 289.971532 79.455491 \nL 298.923404 71.545766 \nL 307.875276 63.659336 \nL 316.827147 55.801649 \nL 325.779019 47.977334 \nL 334.730891 40.190315 \nL 343.682762 32.443908 \nL 352.634634 24.740903 \nL 361.586506 17.083636 \n\" style=\"fill:none;stroke:#1f77b4;stroke-linecap:square;stroke-width:1.5;\"/>\n   </g>\n   <g id=\"patch_3\">\n    <path d=\"M 42.004688 224.64 \nL 42.004688 7.2 \n\" style=\"fill:none;stroke:#808080;stroke-linecap:square;stroke-linejoin:miter;stroke-width:0.3;\"/>\n   </g>\n   <g id=\"patch_4\">\n    <path d=\"M 376.804688 224.64 \nL 376.804688 7.2 \n\" style=\"fill:none;stroke:#808080;stroke-linecap:square;stroke-linejoin:miter;stroke-width:0.3;\"/>\n   </g>\n   <g id=\"patch_5\">\n    <path d=\"M 42.004688 224.64 \nL 376.804688 224.64 \n\" style=\"fill:none;stroke:#808080;stroke-linecap:square;stroke-linejoin:miter;stroke-width:0.3;\"/>\n   </g>\n   <g id=\"patch_6\">\n    <path d=\"M 42.004688 7.2 \nL 376.804688 7.2 \n\" style=\"fill:none;stroke:#808080;stroke-linecap:square;stroke-linejoin:miter;stroke-width:0.3;\"/>\n   </g>\n   <g id=\"legend_1\">\n    <g id=\"patch_7\">\n     <path d=\"M 49.004688 29.345313 \nL 103.225 29.345313 \nQ 105.225 29.345313 105.225 27.345313 \nL 105.225 14.2 \nQ 105.225 12.2 103.225 12.2 \nL 49.004688 12.2 \nQ 47.004688 12.2 47.004688 14.2 \nL 47.004688 27.345313 \nQ 47.004688 29.345313 49.004688 29.345313 \nz\n\" style=\"fill:#ffffff;opacity:0.8;stroke:#cccccc;stroke-linejoin:miter;\"/>\n    </g>\n    <g id=\"line2d_16\">\n     <path d=\"M 51.004688 19.857813 \nL 71.004688 19.857813 \n\" style=\"fill:none;stroke:#1f77b4;stroke-linecap:square;stroke-width:1.5;\"/>\n    </g>\n    <g id=\"line2d_17\"/>\n    <g id=\"text_16\">\n     <!-- rmse -->\n     <g style=\"fill:#505050;\" transform=\"translate(79.004688 23.357813)scale(0.1 -0.1)\">\n      <defs>\n       <path d=\"M 416 0 \nL 416 3319 \nL 922 3319 \nL 922 2816 \nQ 1116 3169 1280 3281 \nQ 1444 3394 1641 3394 \nQ 1925 3394 2219 3213 \nL 2025 2691 \nQ 1819 2813 1613 2813 \nQ 1428 2813 1281 2702 \nQ 1134 2591 1072 2394 \nQ 978 2094 978 1738 \nL 978 0 \nL 416 0 \nz\n\" id=\"ArialMT-72\" transform=\"scale(0.015625)\"/>\n       <path d=\"M 422 0 \nL 422 3319 \nL 925 3319 \nL 925 2853 \nQ 1081 3097 1340 3245 \nQ 1600 3394 1931 3394 \nQ 2300 3394 2536 3241 \nQ 2772 3088 2869 2813 \nQ 3263 3394 3894 3394 \nQ 4388 3394 4653 3120 \nQ 4919 2847 4919 2278 \nL 4919 0 \nL 4359 0 \nL 4359 2091 \nQ 4359 2428 4304 2576 \nQ 4250 2725 4106 2815 \nQ 3963 2906 3769 2906 \nQ 3419 2906 3187 2673 \nQ 2956 2441 2956 1928 \nL 2956 0 \nL 2394 0 \nL 2394 2156 \nQ 2394 2531 2256 2718 \nQ 2119 2906 1806 2906 \nQ 1569 2906 1367 2781 \nQ 1166 2656 1075 2415 \nQ 984 2175 984 1722 \nL 984 0 \nL 422 0 \nz\n\" id=\"ArialMT-6d\" transform=\"scale(0.015625)\"/>\n       <path d=\"M 197 991 \nL 753 1078 \nQ 800 744 1014 566 \nQ 1228 388 1613 388 \nQ 2000 388 2187 545 \nQ 2375 703 2375 916 \nQ 2375 1106 2209 1216 \nQ 2094 1291 1634 1406 \nQ 1016 1563 777 1677 \nQ 538 1791 414 1992 \nQ 291 2194 291 2438 \nQ 291 2659 392 2848 \nQ 494 3038 669 3163 \nQ 800 3259 1026 3326 \nQ 1253 3394 1513 3394 \nQ 1903 3394 2198 3281 \nQ 2494 3169 2634 2976 \nQ 2775 2784 2828 2463 \nL 2278 2388 \nQ 2241 2644 2061 2787 \nQ 1881 2931 1553 2931 \nQ 1166 2931 1000 2803 \nQ 834 2675 834 2503 \nQ 834 2394 903 2306 \nQ 972 2216 1119 2156 \nQ 1203 2125 1616 2013 \nQ 2213 1853 2448 1751 \nQ 2684 1650 2818 1456 \nQ 2953 1263 2953 975 \nQ 2953 694 2789 445 \nQ 2625 197 2315 61 \nQ 2006 -75 1616 -75 \nQ 969 -75 630 194 \nQ 291 463 197 991 \nz\n\" id=\"ArialMT-73\" transform=\"scale(0.015625)\"/>\n       <path d=\"M 2694 1069 \nL 3275 997 \nQ 3138 488 2766 206 \nQ 2394 -75 1816 -75 \nQ 1088 -75 661 373 \nQ 234 822 234 1631 \nQ 234 2469 665 2931 \nQ 1097 3394 1784 3394 \nQ 2450 3394 2872 2941 \nQ 3294 2488 3294 1666 \nQ 3294 1616 3291 1516 \nL 816 1516 \nQ 847 969 1125 678 \nQ 1403 388 1819 388 \nQ 2128 388 2347 550 \nQ 2566 713 2694 1069 \nz\nM 847 1978 \nL 2700 1978 \nQ 2663 2397 2488 2606 \nQ 2219 2931 1791 2931 \nQ 1403 2931 1139 2672 \nQ 875 2413 847 1978 \nz\n\" id=\"ArialMT-65\" transform=\"scale(0.015625)\"/>\n      </defs>\n      <use xlink:href=\"#ArialMT-72\"/>\n      <use x=\"33.300781\" xlink:href=\"#ArialMT-6d\"/>\n      <use x=\"116.601562\" xlink:href=\"#ArialMT-73\"/>\n      <use x=\"166.601562\" xlink:href=\"#ArialMT-65\"/>\n     </g>\n    </g>\n   </g>\n  </g>\n </g>\n <defs>\n  <clipPath id=\"pd1d5d4afc2\">\n   <rect height=\"217.44\" width=\"334.8\" x=\"42.004688\" y=\"7.2\"/>\n  </clipPath>\n </defs>\n</svg>\n",
      "text/plain": [
       "<Figure size 432x288 with 1 Axes>"
      ]
     },
     "metadata": {
      "needs_background": "dark"
     },
     "output_type": "display_data"
    },
    {
     "data": {
      "image/svg+xml": "<?xml version=\"1.0\" encoding=\"utf-8\" standalone=\"no\"?>\n<!DOCTYPE svg PUBLIC \"-//W3C//DTD SVG 1.1//EN\"\n  \"http://www.w3.org/Graphics/SVG/1.1/DTD/svg11.dtd\">\n<svg height=\"261.130625pt\" version=\"1.1\" viewBox=\"0 0 384.004687 261.130625\" width=\"384.004687pt\" xmlns=\"http://www.w3.org/2000/svg\" xmlns:xlink=\"http://www.w3.org/1999/xlink\">\n <metadata>\n  <rdf:RDF xmlns:cc=\"http://creativecommons.org/ns#\" xmlns:dc=\"http://purl.org/dc/elements/1.1/\" xmlns:rdf=\"http://www.w3.org/1999/02/22-rdf-syntax-ns#\">\n   <cc:Work>\n    <dc:type rdf:resource=\"http://purl.org/dc/dcmitype/StillImage\"/>\n    <dc:date>2022-01-23T14:54:37.158398</dc:date>\n    <dc:format>image/svg+xml</dc:format>\n    <dc:creator>\n     <cc:Agent>\n      <dc:title>Matplotlib v3.4.2, https://matplotlib.org/</dc:title>\n     </cc:Agent>\n    </dc:creator>\n   </cc:Work>\n  </rdf:RDF>\n </metadata>\n <defs>\n  <style type=\"text/css\">*{stroke-linecap:butt;stroke-linejoin:round;}</style>\n </defs>\n <g id=\"figure_1\">\n  <g id=\"patch_1\">\n   <path d=\"M 0 261.130625 \nL 384.004687 261.130625 \nL 384.004687 0 \nL 0 0 \nz\n\" style=\"fill:none;\"/>\n  </g>\n  <g id=\"axes_1\">\n   <g id=\"patch_2\">\n    <path d=\"M 42.004688 224.64 \nL 376.804688 224.64 \nL 376.804688 7.2 \nL 42.004688 7.2 \nz\n\" style=\"fill:#ffffff;\"/>\n   </g>\n   <g id=\"matplotlib.axis_1\">\n    <g id=\"xtick_1\">\n     <g id=\"line2d_1\">\n      <defs>\n       <path d=\"M 0 0 \nL 0 3.5 \n\" id=\"mda8327d582\" style=\"stroke:#808080;stroke-width:0.8;\"/>\n      </defs>\n      <g>\n       <use style=\"fill:#808080;stroke:#808080;stroke-width:0.8;\" x=\"57.222869\" xlink:href=\"#mda8327d582\" y=\"224.64\"/>\n      </g>\n     </g>\n     <g id=\"text_1\">\n      <!-- 5 -->\n      <g style=\"fill:#808080;\" transform=\"translate(54.442401 238.797812)scale(0.1 -0.1)\">\n       <defs>\n        <path d=\"M 266 1200 \nL 856 1250 \nQ 922 819 1161 601 \nQ 1400 384 1738 384 \nQ 2144 384 2425 690 \nQ 2706 997 2706 1503 \nQ 2706 1984 2436 2262 \nQ 2166 2541 1728 2541 \nQ 1456 2541 1237 2417 \nQ 1019 2294 894 2097 \nL 366 2166 \nL 809 4519 \nL 3088 4519 \nL 3088 3981 \nL 1259 3981 \nL 1013 2750 \nQ 1425 3038 1878 3038 \nQ 2478 3038 2890 2622 \nQ 3303 2206 3303 1553 \nQ 3303 931 2941 478 \nQ 2500 -78 1738 -78 \nQ 1113 -78 717 272 \nQ 322 622 266 1200 \nz\n\" id=\"ArialMT-35\" transform=\"scale(0.015625)\"/>\n       </defs>\n       <use xlink:href=\"#ArialMT-35\"/>\n      </g>\n     </g>\n    </g>\n    <g id=\"xtick_2\">\n     <g id=\"line2d_2\">\n      <g>\n       <use style=\"fill:#808080;stroke:#808080;stroke-width:0.8;\" x=\"101.982228\" xlink:href=\"#mda8327d582\" y=\"224.64\"/>\n      </g>\n     </g>\n     <g id=\"text_2\">\n      <!-- 10 -->\n      <g style=\"fill:#808080;\" transform=\"translate(96.42129 238.797812)scale(0.1 -0.1)\">\n       <defs>\n        <path d=\"M 2384 0 \nL 1822 0 \nL 1822 3584 \nQ 1619 3391 1289 3197 \nQ 959 3003 697 2906 \nL 697 3450 \nQ 1169 3672 1522 3987 \nQ 1875 4303 2022 4600 \nL 2384 4600 \nL 2384 0 \nz\n\" id=\"ArialMT-31\" transform=\"scale(0.015625)\"/>\n        <path d=\"M 266 2259 \nQ 266 3072 433 3567 \nQ 600 4063 929 4331 \nQ 1259 4600 1759 4600 \nQ 2128 4600 2406 4451 \nQ 2684 4303 2865 4023 \nQ 3047 3744 3150 3342 \nQ 3253 2941 3253 2259 \nQ 3253 1453 3087 958 \nQ 2922 463 2592 192 \nQ 2263 -78 1759 -78 \nQ 1097 -78 719 397 \nQ 266 969 266 2259 \nz\nM 844 2259 \nQ 844 1131 1108 757 \nQ 1372 384 1759 384 \nQ 2147 384 2411 759 \nQ 2675 1134 2675 2259 \nQ 2675 3391 2411 3762 \nQ 2147 4134 1753 4134 \nQ 1366 4134 1134 3806 \nQ 844 3388 844 2259 \nz\n\" id=\"ArialMT-30\" transform=\"scale(0.015625)\"/>\n       </defs>\n       <use xlink:href=\"#ArialMT-31\"/>\n       <use x=\"55.615234\" xlink:href=\"#ArialMT-30\"/>\n      </g>\n     </g>\n    </g>\n    <g id=\"xtick_3\">\n     <g id=\"line2d_3\">\n      <g>\n       <use style=\"fill:#808080;stroke:#808080;stroke-width:0.8;\" x=\"146.741586\" xlink:href=\"#mda8327d582\" y=\"224.64\"/>\n      </g>\n     </g>\n     <g id=\"text_3\">\n      <!-- 15 -->\n      <g style=\"fill:#808080;\" transform=\"translate(141.180648 238.797812)scale(0.1 -0.1)\">\n       <use xlink:href=\"#ArialMT-31\"/>\n       <use x=\"55.615234\" xlink:href=\"#ArialMT-35\"/>\n      </g>\n     </g>\n    </g>\n    <g id=\"xtick_4\">\n     <g id=\"line2d_4\">\n      <g>\n       <use style=\"fill:#808080;stroke:#808080;stroke-width:0.8;\" x=\"191.500944\" xlink:href=\"#mda8327d582\" y=\"224.64\"/>\n      </g>\n     </g>\n     <g id=\"text_4\">\n      <!-- 20 -->\n      <g style=\"fill:#808080;\" transform=\"translate(185.940007 238.797812)scale(0.1 -0.1)\">\n       <defs>\n        <path d=\"M 3222 541 \nL 3222 0 \nL 194 0 \nQ 188 203 259 391 \nQ 375 700 629 1000 \nQ 884 1300 1366 1694 \nQ 2113 2306 2375 2664 \nQ 2638 3022 2638 3341 \nQ 2638 3675 2398 3904 \nQ 2159 4134 1775 4134 \nQ 1369 4134 1125 3890 \nQ 881 3647 878 3216 \nL 300 3275 \nQ 359 3922 746 4261 \nQ 1134 4600 1788 4600 \nQ 2447 4600 2831 4234 \nQ 3216 3869 3216 3328 \nQ 3216 3053 3103 2787 \nQ 2991 2522 2730 2228 \nQ 2469 1934 1863 1422 \nQ 1356 997 1212 845 \nQ 1069 694 975 541 \nL 3222 541 \nz\n\" id=\"ArialMT-32\" transform=\"scale(0.015625)\"/>\n       </defs>\n       <use xlink:href=\"#ArialMT-32\"/>\n       <use x=\"55.615234\" xlink:href=\"#ArialMT-30\"/>\n      </g>\n     </g>\n    </g>\n    <g id=\"xtick_5\">\n     <g id=\"line2d_5\">\n      <g>\n       <use style=\"fill:#808080;stroke:#808080;stroke-width:0.8;\" x=\"236.260302\" xlink:href=\"#mda8327d582\" y=\"224.64\"/>\n      </g>\n     </g>\n     <g id=\"text_5\">\n      <!-- 25 -->\n      <g style=\"fill:#808080;\" transform=\"translate(230.699365 238.797812)scale(0.1 -0.1)\">\n       <use xlink:href=\"#ArialMT-32\"/>\n       <use x=\"55.615234\" xlink:href=\"#ArialMT-35\"/>\n      </g>\n     </g>\n    </g>\n    <g id=\"xtick_6\">\n     <g id=\"line2d_6\">\n      <g>\n       <use style=\"fill:#808080;stroke:#808080;stroke-width:0.8;\" x=\"281.019661\" xlink:href=\"#mda8327d582\" y=\"224.64\"/>\n      </g>\n     </g>\n     <g id=\"text_6\">\n      <!-- 30 -->\n      <g style=\"fill:#808080;\" transform=\"translate(275.458723 238.797812)scale(0.1 -0.1)\">\n       <defs>\n        <path d=\"M 269 1209 \nL 831 1284 \nQ 928 806 1161 595 \nQ 1394 384 1728 384 \nQ 2125 384 2398 659 \nQ 2672 934 2672 1341 \nQ 2672 1728 2419 1979 \nQ 2166 2231 1775 2231 \nQ 1616 2231 1378 2169 \nL 1441 2663 \nQ 1497 2656 1531 2656 \nQ 1891 2656 2178 2843 \nQ 2466 3031 2466 3422 \nQ 2466 3731 2256 3934 \nQ 2047 4138 1716 4138 \nQ 1388 4138 1169 3931 \nQ 950 3725 888 3313 \nL 325 3413 \nQ 428 3978 793 4289 \nQ 1159 4600 1703 4600 \nQ 2078 4600 2393 4439 \nQ 2709 4278 2876 4000 \nQ 3044 3722 3044 3409 \nQ 3044 3113 2884 2869 \nQ 2725 2625 2413 2481 \nQ 2819 2388 3044 2092 \nQ 3269 1797 3269 1353 \nQ 3269 753 2831 336 \nQ 2394 -81 1725 -81 \nQ 1122 -81 723 278 \nQ 325 638 269 1209 \nz\n\" id=\"ArialMT-33\" transform=\"scale(0.015625)\"/>\n       </defs>\n       <use xlink:href=\"#ArialMT-33\"/>\n       <use x=\"55.615234\" xlink:href=\"#ArialMT-30\"/>\n      </g>\n     </g>\n    </g>\n    <g id=\"xtick_7\">\n     <g id=\"line2d_7\">\n      <g>\n       <use style=\"fill:#808080;stroke:#808080;stroke-width:0.8;\" x=\"325.779019\" xlink:href=\"#mda8327d582\" y=\"224.64\"/>\n      </g>\n     </g>\n     <g id=\"text_7\">\n      <!-- 35 -->\n      <g style=\"fill:#808080;\" transform=\"translate(320.218082 238.797812)scale(0.1 -0.1)\">\n       <use xlink:href=\"#ArialMT-33\"/>\n       <use x=\"55.615234\" xlink:href=\"#ArialMT-35\"/>\n      </g>\n     </g>\n    </g>\n    <g id=\"xtick_8\">\n     <g id=\"line2d_8\">\n      <g>\n       <use style=\"fill:#808080;stroke:#808080;stroke-width:0.8;\" x=\"370.538377\" xlink:href=\"#mda8327d582\" y=\"224.64\"/>\n      </g>\n     </g>\n     <g id=\"text_8\">\n      <!-- 40 -->\n      <g style=\"fill:#808080;\" transform=\"translate(364.97744 238.797812)scale(0.1 -0.1)\">\n       <defs>\n        <path d=\"M 2069 0 \nL 2069 1097 \nL 81 1097 \nL 81 1613 \nL 2172 4581 \nL 2631 4581 \nL 2631 1613 \nL 3250 1613 \nL 3250 1097 \nL 2631 1097 \nL 2631 0 \nL 2069 0 \nz\nM 2069 1613 \nL 2069 3678 \nL 634 1613 \nL 2069 1613 \nz\n\" id=\"ArialMT-34\" transform=\"scale(0.015625)\"/>\n       </defs>\n       <use xlink:href=\"#ArialMT-34\"/>\n       <use x=\"55.615234\" xlink:href=\"#ArialMT-30\"/>\n      </g>\n     </g>\n    </g>\n    <g id=\"text_9\">\n     <!-- alpha -->\n     <g style=\"fill:#505050;\" transform=\"translate(197.171875 251.943125)scale(0.1 -0.1)\">\n      <defs>\n       <path d=\"M 2588 409 \nQ 2275 144 1986 34 \nQ 1697 -75 1366 -75 \nQ 819 -75 525 192 \nQ 231 459 231 875 \nQ 231 1119 342 1320 \nQ 453 1522 633 1644 \nQ 813 1766 1038 1828 \nQ 1203 1872 1538 1913 \nQ 2219 1994 2541 2106 \nQ 2544 2222 2544 2253 \nQ 2544 2597 2384 2738 \nQ 2169 2928 1744 2928 \nQ 1347 2928 1158 2789 \nQ 969 2650 878 2297 \nL 328 2372 \nQ 403 2725 575 2942 \nQ 747 3159 1072 3276 \nQ 1397 3394 1825 3394 \nQ 2250 3394 2515 3294 \nQ 2781 3194 2906 3042 \nQ 3031 2891 3081 2659 \nQ 3109 2516 3109 2141 \nL 3109 1391 \nQ 3109 606 3145 398 \nQ 3181 191 3288 0 \nL 2700 0 \nQ 2613 175 2588 409 \nz\nM 2541 1666 \nQ 2234 1541 1622 1453 \nQ 1275 1403 1131 1340 \nQ 988 1278 909 1158 \nQ 831 1038 831 891 \nQ 831 666 1001 516 \nQ 1172 366 1500 366 \nQ 1825 366 2078 508 \nQ 2331 650 2450 897 \nQ 2541 1088 2541 1459 \nL 2541 1666 \nz\n\" id=\"ArialMT-61\" transform=\"scale(0.015625)\"/>\n       <path d=\"M 409 0 \nL 409 4581 \nL 972 4581 \nL 972 0 \nL 409 0 \nz\n\" id=\"ArialMT-6c\" transform=\"scale(0.015625)\"/>\n       <path d=\"M 422 -1272 \nL 422 3319 \nL 934 3319 \nL 934 2888 \nQ 1116 3141 1344 3267 \nQ 1572 3394 1897 3394 \nQ 2322 3394 2647 3175 \nQ 2972 2956 3137 2557 \nQ 3303 2159 3303 1684 \nQ 3303 1175 3120 767 \nQ 2938 359 2589 142 \nQ 2241 -75 1856 -75 \nQ 1575 -75 1351 44 \nQ 1128 163 984 344 \nL 984 -1272 \nL 422 -1272 \nz\nM 931 1641 \nQ 931 1000 1190 694 \nQ 1450 388 1819 388 \nQ 2194 388 2461 705 \nQ 2728 1022 2728 1688 \nQ 2728 2322 2467 2637 \nQ 2206 2953 1844 2953 \nQ 1484 2953 1207 2617 \nQ 931 2281 931 1641 \nz\n\" id=\"ArialMT-70\" transform=\"scale(0.015625)\"/>\n       <path d=\"M 422 0 \nL 422 4581 \nL 984 4581 \nL 984 2938 \nQ 1378 3394 1978 3394 \nQ 2347 3394 2619 3248 \nQ 2891 3103 3008 2847 \nQ 3125 2591 3125 2103 \nL 3125 0 \nL 2563 0 \nL 2563 2103 \nQ 2563 2525 2380 2717 \nQ 2197 2909 1863 2909 \nQ 1613 2909 1392 2779 \nQ 1172 2650 1078 2428 \nQ 984 2206 984 1816 \nL 984 0 \nL 422 0 \nz\n\" id=\"ArialMT-68\" transform=\"scale(0.015625)\"/>\n      </defs>\n      <use xlink:href=\"#ArialMT-61\"/>\n      <use x=\"55.615234\" xlink:href=\"#ArialMT-6c\"/>\n      <use x=\"77.832031\" xlink:href=\"#ArialMT-70\"/>\n      <use x=\"133.447266\" xlink:href=\"#ArialMT-68\"/>\n      <use x=\"189.0625\" xlink:href=\"#ArialMT-61\"/>\n     </g>\n    </g>\n   </g>\n   <g id=\"matplotlib.axis_2\">\n    <g id=\"ytick_1\">\n     <g id=\"line2d_9\">\n      <defs>\n       <path d=\"M 0 0 \nL -3.5 0 \n\" id=\"m7e3509f956\" style=\"stroke:#808080;stroke-width:0.8;\"/>\n      </defs>\n      <g>\n       <use style=\"fill:#808080;stroke:#808080;stroke-width:0.8;\" x=\"42.004688\" xlink:href=\"#m7e3509f956\" y=\"196.969984\"/>\n      </g>\n     </g>\n     <g id=\"text_10\">\n      <!-- 15100 -->\n      <g style=\"fill:#808080;\" transform=\"translate(7.2 200.54889)scale(0.1 -0.1)\">\n       <use xlink:href=\"#ArialMT-31\"/>\n       <use x=\"55.615234\" xlink:href=\"#ArialMT-35\"/>\n       <use x=\"111.230469\" xlink:href=\"#ArialMT-31\"/>\n       <use x=\"166.845703\" xlink:href=\"#ArialMT-30\"/>\n       <use x=\"222.460938\" xlink:href=\"#ArialMT-30\"/>\n      </g>\n     </g>\n    </g>\n    <g id=\"ytick_2\">\n     <g id=\"line2d_10\">\n      <g>\n       <use style=\"fill:#808080;stroke:#808080;stroke-width:0.8;\" x=\"42.004688\" xlink:href=\"#m7e3509f956\" y=\"165.071057\"/>\n      </g>\n     </g>\n     <g id=\"text_11\">\n      <!-- 15150 -->\n      <g style=\"fill:#808080;\" transform=\"translate(7.2 168.649963)scale(0.1 -0.1)\">\n       <use xlink:href=\"#ArialMT-31\"/>\n       <use x=\"55.615234\" xlink:href=\"#ArialMT-35\"/>\n       <use x=\"111.230469\" xlink:href=\"#ArialMT-31\"/>\n       <use x=\"166.845703\" xlink:href=\"#ArialMT-35\"/>\n       <use x=\"222.460938\" xlink:href=\"#ArialMT-30\"/>\n      </g>\n     </g>\n    </g>\n    <g id=\"ytick_3\">\n     <g id=\"line2d_11\">\n      <g>\n       <use style=\"fill:#808080;stroke:#808080;stroke-width:0.8;\" x=\"42.004688\" xlink:href=\"#m7e3509f956\" y=\"133.172129\"/>\n      </g>\n     </g>\n     <g id=\"text_12\">\n      <!-- 15200 -->\n      <g style=\"fill:#808080;\" transform=\"translate(7.2 136.751036)scale(0.1 -0.1)\">\n       <use xlink:href=\"#ArialMT-31\"/>\n       <use x=\"55.615234\" xlink:href=\"#ArialMT-35\"/>\n       <use x=\"111.230469\" xlink:href=\"#ArialMT-32\"/>\n       <use x=\"166.845703\" xlink:href=\"#ArialMT-30\"/>\n       <use x=\"222.460938\" xlink:href=\"#ArialMT-30\"/>\n      </g>\n     </g>\n    </g>\n    <g id=\"ytick_4\">\n     <g id=\"line2d_12\">\n      <g>\n       <use style=\"fill:#808080;stroke:#808080;stroke-width:0.8;\" x=\"42.004688\" xlink:href=\"#m7e3509f956\" y=\"101.273202\"/>\n      </g>\n     </g>\n     <g id=\"text_13\">\n      <!-- 15250 -->\n      <g style=\"fill:#808080;\" transform=\"translate(7.2 104.852108)scale(0.1 -0.1)\">\n       <use xlink:href=\"#ArialMT-31\"/>\n       <use x=\"55.615234\" xlink:href=\"#ArialMT-35\"/>\n       <use x=\"111.230469\" xlink:href=\"#ArialMT-32\"/>\n       <use x=\"166.845703\" xlink:href=\"#ArialMT-35\"/>\n       <use x=\"222.460938\" xlink:href=\"#ArialMT-30\"/>\n      </g>\n     </g>\n    </g>\n    <g id=\"ytick_5\">\n     <g id=\"line2d_13\">\n      <g>\n       <use style=\"fill:#808080;stroke:#808080;stroke-width:0.8;\" x=\"42.004688\" xlink:href=\"#m7e3509f956\" y=\"69.374275\"/>\n      </g>\n     </g>\n     <g id=\"text_14\">\n      <!-- 15300 -->\n      <g style=\"fill:#808080;\" transform=\"translate(7.2 72.953181)scale(0.1 -0.1)\">\n       <use xlink:href=\"#ArialMT-31\"/>\n       <use x=\"55.615234\" xlink:href=\"#ArialMT-35\"/>\n       <use x=\"111.230469\" xlink:href=\"#ArialMT-33\"/>\n       <use x=\"166.845703\" xlink:href=\"#ArialMT-30\"/>\n       <use x=\"222.460938\" xlink:href=\"#ArialMT-30\"/>\n      </g>\n     </g>\n    </g>\n    <g id=\"ytick_6\">\n     <g id=\"line2d_14\">\n      <g>\n       <use style=\"fill:#808080;stroke:#808080;stroke-width:0.8;\" x=\"42.004688\" xlink:href=\"#m7e3509f956\" y=\"37.475347\"/>\n      </g>\n     </g>\n     <g id=\"text_15\">\n      <!-- 15350 -->\n      <g style=\"fill:#808080;\" transform=\"translate(7.2 41.054254)scale(0.1 -0.1)\">\n       <use xlink:href=\"#ArialMT-31\"/>\n       <use x=\"55.615234\" xlink:href=\"#ArialMT-35\"/>\n       <use x=\"111.230469\" xlink:href=\"#ArialMT-33\"/>\n       <use x=\"166.845703\" xlink:href=\"#ArialMT-35\"/>\n       <use x=\"222.460938\" xlink:href=\"#ArialMT-30\"/>\n      </g>\n     </g>\n    </g>\n   </g>\n   <g id=\"line2d_15\">\n    <path clip-path=\"url(#p7691c66143)\" d=\"M 57.222869 17.083636 \nL 66.174741 64.006111 \nL 75.126613 99.262433 \nL 84.078484 128.368145 \nL 93.030356 144.124805 \nL 101.982228 156.185455 \nL 110.934099 165.739203 \nL 119.885971 174.641792 \nL 128.837843 183.1138 \nL 137.789714 189.764637 \nL 146.741586 194.225999 \nL 155.693458 198.092143 \nL 164.645329 201.838592 \nL 173.597201 205.590785 \nL 182.549073 209.248398 \nL 191.500944 210.646581 \nL 200.452816 211.495567 \nL 209.404687 212.350039 \nL 218.356559 213.115065 \nL 227.308431 213.891804 \nL 236.260302 214.756364 \nL 245.212174 213.778109 \nL 254.164046 212.220066 \nL 263.115917 210.841466 \nL 272.067789 209.628923 \nL 281.019661 208.57026 \nL 289.971532 207.361942 \nL 298.923404 206.272988 \nL 307.875276 205.319851 \nL 316.827147 204.493464 \nL 325.779019 203.78547 \nL 334.730891 203.188162 \nL 343.682762 201.57322 \nL 352.634634 199.376254 \nL 361.586506 196.957622 \n\" style=\"fill:none;stroke:#1f77b4;stroke-linecap:square;stroke-width:1.5;\"/>\n   </g>\n   <g id=\"patch_3\">\n    <path d=\"M 42.004688 224.64 \nL 42.004688 7.2 \n\" style=\"fill:none;stroke:#808080;stroke-linecap:square;stroke-linejoin:miter;stroke-width:0.3;\"/>\n   </g>\n   <g id=\"patch_4\">\n    <path d=\"M 376.804688 224.64 \nL 376.804688 7.2 \n\" style=\"fill:none;stroke:#808080;stroke-linecap:square;stroke-linejoin:miter;stroke-width:0.3;\"/>\n   </g>\n   <g id=\"patch_5\">\n    <path d=\"M 42.004688 224.64 \nL 376.804688 224.64 \n\" style=\"fill:none;stroke:#808080;stroke-linecap:square;stroke-linejoin:miter;stroke-width:0.3;\"/>\n   </g>\n   <g id=\"patch_6\">\n    <path d=\"M 42.004688 7.2 \nL 376.804688 7.2 \n\" style=\"fill:none;stroke:#808080;stroke-linecap:square;stroke-linejoin:miter;stroke-width:0.3;\"/>\n   </g>\n   <g id=\"legend_1\">\n    <g id=\"patch_7\">\n     <path d=\"M 318.353125 29.345312 \nL 369.804688 29.345312 \nQ 371.804688 29.345312 371.804688 27.345312 \nL 371.804688 14.2 \nQ 371.804688 12.2 369.804688 12.2 \nL 318.353125 12.2 \nQ 316.353125 12.2 316.353125 14.2 \nL 316.353125 27.345312 \nQ 316.353125 29.345312 318.353125 29.345312 \nz\n\" style=\"fill:#ffffff;opacity:0.8;stroke:#cccccc;stroke-linejoin:miter;\"/>\n    </g>\n    <g id=\"line2d_16\">\n     <path d=\"M 320.353125 19.857812 \nL 340.353125 19.857812 \n\" style=\"fill:none;stroke:#1f77b4;stroke-linecap:square;stroke-width:1.5;\"/>\n    </g>\n    <g id=\"line2d_17\"/>\n    <g id=\"text_16\">\n     <!-- mae -->\n     <g style=\"fill:#505050;\" transform=\"translate(348.353125 23.357812)scale(0.1 -0.1)\">\n      <defs>\n       <path d=\"M 422 0 \nL 422 3319 \nL 925 3319 \nL 925 2853 \nQ 1081 3097 1340 3245 \nQ 1600 3394 1931 3394 \nQ 2300 3394 2536 3241 \nQ 2772 3088 2869 2813 \nQ 3263 3394 3894 3394 \nQ 4388 3394 4653 3120 \nQ 4919 2847 4919 2278 \nL 4919 0 \nL 4359 0 \nL 4359 2091 \nQ 4359 2428 4304 2576 \nQ 4250 2725 4106 2815 \nQ 3963 2906 3769 2906 \nQ 3419 2906 3187 2673 \nQ 2956 2441 2956 1928 \nL 2956 0 \nL 2394 0 \nL 2394 2156 \nQ 2394 2531 2256 2718 \nQ 2119 2906 1806 2906 \nQ 1569 2906 1367 2781 \nQ 1166 2656 1075 2415 \nQ 984 2175 984 1722 \nL 984 0 \nL 422 0 \nz\n\" id=\"ArialMT-6d\" transform=\"scale(0.015625)\"/>\n       <path d=\"M 2694 1069 \nL 3275 997 \nQ 3138 488 2766 206 \nQ 2394 -75 1816 -75 \nQ 1088 -75 661 373 \nQ 234 822 234 1631 \nQ 234 2469 665 2931 \nQ 1097 3394 1784 3394 \nQ 2450 3394 2872 2941 \nQ 3294 2488 3294 1666 \nQ 3294 1616 3291 1516 \nL 816 1516 \nQ 847 969 1125 678 \nQ 1403 388 1819 388 \nQ 2128 388 2347 550 \nQ 2566 713 2694 1069 \nz\nM 847 1978 \nL 2700 1978 \nQ 2663 2397 2488 2606 \nQ 2219 2931 1791 2931 \nQ 1403 2931 1139 2672 \nQ 875 2413 847 1978 \nz\n\" id=\"ArialMT-65\" transform=\"scale(0.015625)\"/>\n      </defs>\n      <use xlink:href=\"#ArialMT-6d\"/>\n      <use x=\"83.300781\" xlink:href=\"#ArialMT-61\"/>\n      <use x=\"138.916016\" xlink:href=\"#ArialMT-65\"/>\n     </g>\n    </g>\n   </g>\n  </g>\n </g>\n <defs>\n  <clipPath id=\"p7691c66143\">\n   <rect height=\"217.44\" width=\"334.8\" x=\"42.004688\" y=\"7.2\"/>\n  </clipPath>\n </defs>\n</svg>\n",
      "text/plain": [
       "<Figure size 432x288 with 1 Axes>"
      ]
     },
     "metadata": {
      "needs_background": "dark"
     },
     "output_type": "display_data"
    }
   ],
   "source": [
    "res_df = pd.DataFrame(results, columns = ['alpha', 'rmse', 'mae'])\n",
    "res_df.head(20)\n",
    "\n",
    "res_df.plot.line(x='alpha', y=['rmse'])\n",
    "res_df.plot.line(x='alpha', y=['mae'])\n"
   ]
  },
  {
   "cell_type": "code",
   "execution_count": 74,
   "metadata": {},
   "outputs": [
    {
     "name": "stdout",
     "output_type": "stream",
     "text": [
      "Training Model...\n",
      "Model Complete!\n",
      "Value for MAE: 17096.229725881938\n",
      "Training Model...\n",
      "Model Complete!\n",
      "Value for MAE: 17048.182676804492\n",
      "Training Model...\n",
      "Model Complete!\n",
      "Value for MAE: 17010.24618382076\n",
      "Training Model...\n",
      "Model Complete!\n",
      "Value for MAE: 16985.34621731636\n",
      "Training Model...\n",
      "Model Complete!\n",
      "Value for MAE: 16966.605219560148\n",
      "Training Model...\n",
      "Model Complete!\n",
      "Value for MAE: 16958.392492549596\n",
      "Training Model...\n",
      "Model Complete!\n",
      "Value for MAE: 16951.575784102133\n",
      "Training Model...\n",
      "Model Complete!\n",
      "Value for MAE: 16944.93888637355\n",
      "Training Model...\n",
      "Model Complete!\n",
      "Value for MAE: 16937.79333278161\n",
      "Training Model...\n",
      "Model Complete!\n",
      "Value for MAE: 16933.758534066124\n",
      "Training Model...\n",
      "Model Complete!\n",
      "Value for MAE: 16929.06869887163\n",
      "Training Model...\n",
      "Model Complete!\n",
      "Value for MAE: 16924.34395523637\n",
      "Training Model...\n",
      "Model Complete!\n",
      "Value for MAE: 16919.819070715057\n",
      "Training Model...\n",
      "Model Complete!\n",
      "Value for MAE: 16914.9145734595\n",
      "Training Model...\n",
      "Model Complete!\n",
      "Value for MAE: 16909.695756962632\n",
      "Training Model...\n",
      "Model Complete!\n",
      "Value for MAE: 16906.3662088272\n",
      "Training Model...\n",
      "Model Complete!\n",
      "Value for MAE: 16904.453572365208\n",
      "Training Model...\n",
      "Model Complete!\n",
      "Value for MAE: 16902.231853260684\n",
      "Training Model...\n",
      "Model Complete!\n",
      "Value for MAE: 16900.782048978923\n",
      "Training Model...\n",
      "Model Complete!\n",
      "Value for MAE: 16899.986284962306\n",
      "Training Model...\n",
      "Model Complete!\n",
      "Value for MAE: 16899.331846948564\n",
      "Training Model...\n",
      "Model Complete!\n",
      "Value for MAE: 16898.393372127928\n",
      "Training Model...\n",
      "Model Complete!\n",
      "Value for MAE: 16897.19947135321\n",
      "Training Model...\n",
      "Model Complete!\n",
      "Value for MAE: 16896.361333465567\n",
      "Training Model...\n",
      "Model Complete!\n",
      "Value for MAE: 16895.533720404834\n",
      "Training Model...\n",
      "Model Complete!\n",
      "Value for MAE: 16894.498603385604\n",
      "Training Model...\n",
      "Model Complete!\n",
      "Value for MAE: 16893.273900608518\n",
      "Training Model...\n",
      "Model Complete!\n",
      "Value for MAE: 16891.875627227113\n",
      "Training Model...\n",
      "Model Complete!\n",
      "Value for MAE: 16890.65068924504\n",
      "Training Model...\n",
      "Model Complete!\n",
      "Value for MAE: 16889.447035910907\n",
      "Training Model...\n",
      "Model Complete!\n",
      "Value for MAE: 16889.631688563553\n",
      "Training Model...\n",
      "Model Complete!\n",
      "Value for MAE: 16890.401975705186\n",
      "Training Model...\n",
      "Model Complete!\n",
      "Value for MAE: 16891.54236605214\n",
      "Training Model...\n",
      "Model Complete!\n",
      "Value for MAE: 16892.560226321457\n",
      "Training Model...\n",
      "Model Complete!\n",
      "Value for MAE: 16893.395698449025\n"
     ]
    },
    {
     "data": {
      "text/html": [
       "<div>\n",
       "<style scoped>\n",
       "    .dataframe tbody tr th:only-of-type {\n",
       "        vertical-align: middle;\n",
       "    }\n",
       "\n",
       "    .dataframe tbody tr th {\n",
       "        vertical-align: top;\n",
       "    }\n",
       "\n",
       "    .dataframe thead th {\n",
       "        text-align: right;\n",
       "    }\n",
       "</style>\n",
       "<table border=\"1\" class=\"dataframe\">\n",
       "  <thead>\n",
       "    <tr style=\"text-align: right;\">\n",
       "      <th></th>\n",
       "      <th>alpha</th>\n",
       "      <th>rmse</th>\n",
       "      <th>mae</th>\n",
       "    </tr>\n",
       "  </thead>\n",
       "  <tbody>\n",
       "    <tr>\n",
       "      <th>0</th>\n",
       "      <td>5</td>\n",
       "      <td>29651.910061</td>\n",
       "      <td>17096.229726</td>\n",
       "    </tr>\n",
       "    <tr>\n",
       "      <th>1</th>\n",
       "      <td>6</td>\n",
       "      <td>29630.336276</td>\n",
       "      <td>17048.182677</td>\n",
       "    </tr>\n",
       "    <tr>\n",
       "      <th>2</th>\n",
       "      <td>7</td>\n",
       "      <td>29616.086672</td>\n",
       "      <td>17010.246184</td>\n",
       "    </tr>\n",
       "    <tr>\n",
       "      <th>3</th>\n",
       "      <td>8</td>\n",
       "      <td>29607.163421</td>\n",
       "      <td>16985.346217</td>\n",
       "    </tr>\n",
       "    <tr>\n",
       "      <th>4</th>\n",
       "      <td>9</td>\n",
       "      <td>29602.321928</td>\n",
       "      <td>16966.605220</td>\n",
       "    </tr>\n",
       "  </tbody>\n",
       "</table>\n",
       "</div>"
      ],
      "text/plain": [
       "   alpha          rmse           mae\n",
       "0      5  29651.910061  17096.229726\n",
       "1      6  29630.336276  17048.182677\n",
       "2      7  29616.086672  17010.246184\n",
       "3      8  29607.163421  16985.346217\n",
       "4      9  29602.321928  16966.605220"
      ]
     },
     "execution_count": 74,
     "metadata": {},
     "output_type": "execute_result"
    },
    {
     "data": {
      "text/plain": [
       "<AxesSubplot:xlabel='alpha'>"
      ]
     },
     "execution_count": 74,
     "metadata": {},
     "output_type": "execute_result"
    },
    {
     "data": {
      "text/plain": [
       "<AxesSubplot:xlabel='alpha'>"
      ]
     },
     "execution_count": 74,
     "metadata": {},
     "output_type": "execute_result"
    },
    {
     "data": {
      "image/svg+xml": "<?xml version=\"1.0\" encoding=\"utf-8\" standalone=\"no\"?>\n<!DOCTYPE svg PUBLIC \"-//W3C//DTD SVG 1.1//EN\"\n  \"http://www.w3.org/Graphics/SVG/1.1/DTD/svg11.dtd\">\n<svg height=\"261.130625pt\" version=\"1.1\" viewBox=\"0 0 384.004687 261.130625\" width=\"384.004687pt\" xmlns=\"http://www.w3.org/2000/svg\" xmlns:xlink=\"http://www.w3.org/1999/xlink\">\n <metadata>\n  <rdf:RDF xmlns:cc=\"http://creativecommons.org/ns#\" xmlns:dc=\"http://purl.org/dc/elements/1.1/\" xmlns:rdf=\"http://www.w3.org/1999/02/22-rdf-syntax-ns#\">\n   <cc:Work>\n    <dc:type rdf:resource=\"http://purl.org/dc/dcmitype/StillImage\"/>\n    <dc:date>2022-01-23T14:58:01.262965</dc:date>\n    <dc:format>image/svg+xml</dc:format>\n    <dc:creator>\n     <cc:Agent>\n      <dc:title>Matplotlib v3.4.2, https://matplotlib.org/</dc:title>\n     </cc:Agent>\n    </dc:creator>\n   </cc:Work>\n  </rdf:RDF>\n </metadata>\n <defs>\n  <style type=\"text/css\">*{stroke-linecap:butt;stroke-linejoin:round;}</style>\n </defs>\n <g id=\"figure_1\">\n  <g id=\"patch_1\">\n   <path d=\"M 0 261.130625 \nL 384.004687 261.130625 \nL 384.004687 0 \nL 0 0 \nz\n\" style=\"fill:none;\"/>\n  </g>\n  <g id=\"axes_1\">\n   <g id=\"patch_2\">\n    <path d=\"M 42.004688 224.64 \nL 376.804688 224.64 \nL 376.804688 7.2 \nL 42.004688 7.2 \nz\n\" style=\"fill:#ffffff;\"/>\n   </g>\n   <g id=\"matplotlib.axis_1\">\n    <g id=\"xtick_1\">\n     <g id=\"line2d_1\">\n      <defs>\n       <path d=\"M 0 0 \nL 0 3.5 \n\" id=\"m4d3f215c6d\" style=\"stroke:#808080;stroke-width:0.8;\"/>\n      </defs>\n      <g>\n       <use style=\"fill:#808080;stroke:#808080;stroke-width:0.8;\" x=\"57.222869\" xlink:href=\"#m4d3f215c6d\" y=\"224.64\"/>\n      </g>\n     </g>\n     <g id=\"text_1\">\n      <!-- 5 -->\n      <g style=\"fill:#808080;\" transform=\"translate(54.442401 238.797812)scale(0.1 -0.1)\">\n       <defs>\n        <path d=\"M 266 1200 \nL 856 1250 \nQ 922 819 1161 601 \nQ 1400 384 1738 384 \nQ 2144 384 2425 690 \nQ 2706 997 2706 1503 \nQ 2706 1984 2436 2262 \nQ 2166 2541 1728 2541 \nQ 1456 2541 1237 2417 \nQ 1019 2294 894 2097 \nL 366 2166 \nL 809 4519 \nL 3088 4519 \nL 3088 3981 \nL 1259 3981 \nL 1013 2750 \nQ 1425 3038 1878 3038 \nQ 2478 3038 2890 2622 \nQ 3303 2206 3303 1553 \nQ 3303 931 2941 478 \nQ 2500 -78 1738 -78 \nQ 1113 -78 717 272 \nQ 322 622 266 1200 \nz\n\" id=\"ArialMT-35\" transform=\"scale(0.015625)\"/>\n       </defs>\n       <use xlink:href=\"#ArialMT-35\"/>\n      </g>\n     </g>\n    </g>\n    <g id=\"xtick_2\">\n     <g id=\"line2d_2\">\n      <g>\n       <use style=\"fill:#808080;stroke:#808080;stroke-width:0.8;\" x=\"101.982228\" xlink:href=\"#m4d3f215c6d\" y=\"224.64\"/>\n      </g>\n     </g>\n     <g id=\"text_2\">\n      <!-- 10 -->\n      <g style=\"fill:#808080;\" transform=\"translate(96.42129 238.797812)scale(0.1 -0.1)\">\n       <defs>\n        <path d=\"M 2384 0 \nL 1822 0 \nL 1822 3584 \nQ 1619 3391 1289 3197 \nQ 959 3003 697 2906 \nL 697 3450 \nQ 1169 3672 1522 3987 \nQ 1875 4303 2022 4600 \nL 2384 4600 \nL 2384 0 \nz\n\" id=\"ArialMT-31\" transform=\"scale(0.015625)\"/>\n        <path d=\"M 266 2259 \nQ 266 3072 433 3567 \nQ 600 4063 929 4331 \nQ 1259 4600 1759 4600 \nQ 2128 4600 2406 4451 \nQ 2684 4303 2865 4023 \nQ 3047 3744 3150 3342 \nQ 3253 2941 3253 2259 \nQ 3253 1453 3087 958 \nQ 2922 463 2592 192 \nQ 2263 -78 1759 -78 \nQ 1097 -78 719 397 \nQ 266 969 266 2259 \nz\nM 844 2259 \nQ 844 1131 1108 757 \nQ 1372 384 1759 384 \nQ 2147 384 2411 759 \nQ 2675 1134 2675 2259 \nQ 2675 3391 2411 3762 \nQ 2147 4134 1753 4134 \nQ 1366 4134 1134 3806 \nQ 844 3388 844 2259 \nz\n\" id=\"ArialMT-30\" transform=\"scale(0.015625)\"/>\n       </defs>\n       <use xlink:href=\"#ArialMT-31\"/>\n       <use x=\"55.615234\" xlink:href=\"#ArialMT-30\"/>\n      </g>\n     </g>\n    </g>\n    <g id=\"xtick_3\">\n     <g id=\"line2d_3\">\n      <g>\n       <use style=\"fill:#808080;stroke:#808080;stroke-width:0.8;\" x=\"146.741586\" xlink:href=\"#m4d3f215c6d\" y=\"224.64\"/>\n      </g>\n     </g>\n     <g id=\"text_3\">\n      <!-- 15 -->\n      <g style=\"fill:#808080;\" transform=\"translate(141.180648 238.797812)scale(0.1 -0.1)\">\n       <use xlink:href=\"#ArialMT-31\"/>\n       <use x=\"55.615234\" xlink:href=\"#ArialMT-35\"/>\n      </g>\n     </g>\n    </g>\n    <g id=\"xtick_4\">\n     <g id=\"line2d_4\">\n      <g>\n       <use style=\"fill:#808080;stroke:#808080;stroke-width:0.8;\" x=\"191.500944\" xlink:href=\"#m4d3f215c6d\" y=\"224.64\"/>\n      </g>\n     </g>\n     <g id=\"text_4\">\n      <!-- 20 -->\n      <g style=\"fill:#808080;\" transform=\"translate(185.940007 238.797812)scale(0.1 -0.1)\">\n       <defs>\n        <path d=\"M 3222 541 \nL 3222 0 \nL 194 0 \nQ 188 203 259 391 \nQ 375 700 629 1000 \nQ 884 1300 1366 1694 \nQ 2113 2306 2375 2664 \nQ 2638 3022 2638 3341 \nQ 2638 3675 2398 3904 \nQ 2159 4134 1775 4134 \nQ 1369 4134 1125 3890 \nQ 881 3647 878 3216 \nL 300 3275 \nQ 359 3922 746 4261 \nQ 1134 4600 1788 4600 \nQ 2447 4600 2831 4234 \nQ 3216 3869 3216 3328 \nQ 3216 3053 3103 2787 \nQ 2991 2522 2730 2228 \nQ 2469 1934 1863 1422 \nQ 1356 997 1212 845 \nQ 1069 694 975 541 \nL 3222 541 \nz\n\" id=\"ArialMT-32\" transform=\"scale(0.015625)\"/>\n       </defs>\n       <use xlink:href=\"#ArialMT-32\"/>\n       <use x=\"55.615234\" xlink:href=\"#ArialMT-30\"/>\n      </g>\n     </g>\n    </g>\n    <g id=\"xtick_5\">\n     <g id=\"line2d_5\">\n      <g>\n       <use style=\"fill:#808080;stroke:#808080;stroke-width:0.8;\" x=\"236.260302\" xlink:href=\"#m4d3f215c6d\" y=\"224.64\"/>\n      </g>\n     </g>\n     <g id=\"text_5\">\n      <!-- 25 -->\n      <g style=\"fill:#808080;\" transform=\"translate(230.699365 238.797812)scale(0.1 -0.1)\">\n       <use xlink:href=\"#ArialMT-32\"/>\n       <use x=\"55.615234\" xlink:href=\"#ArialMT-35\"/>\n      </g>\n     </g>\n    </g>\n    <g id=\"xtick_6\">\n     <g id=\"line2d_6\">\n      <g>\n       <use style=\"fill:#808080;stroke:#808080;stroke-width:0.8;\" x=\"281.019661\" xlink:href=\"#m4d3f215c6d\" y=\"224.64\"/>\n      </g>\n     </g>\n     <g id=\"text_6\">\n      <!-- 30 -->\n      <g style=\"fill:#808080;\" transform=\"translate(275.458723 238.797812)scale(0.1 -0.1)\">\n       <defs>\n        <path d=\"M 269 1209 \nL 831 1284 \nQ 928 806 1161 595 \nQ 1394 384 1728 384 \nQ 2125 384 2398 659 \nQ 2672 934 2672 1341 \nQ 2672 1728 2419 1979 \nQ 2166 2231 1775 2231 \nQ 1616 2231 1378 2169 \nL 1441 2663 \nQ 1497 2656 1531 2656 \nQ 1891 2656 2178 2843 \nQ 2466 3031 2466 3422 \nQ 2466 3731 2256 3934 \nQ 2047 4138 1716 4138 \nQ 1388 4138 1169 3931 \nQ 950 3725 888 3313 \nL 325 3413 \nQ 428 3978 793 4289 \nQ 1159 4600 1703 4600 \nQ 2078 4600 2393 4439 \nQ 2709 4278 2876 4000 \nQ 3044 3722 3044 3409 \nQ 3044 3113 2884 2869 \nQ 2725 2625 2413 2481 \nQ 2819 2388 3044 2092 \nQ 3269 1797 3269 1353 \nQ 3269 753 2831 336 \nQ 2394 -81 1725 -81 \nQ 1122 -81 723 278 \nQ 325 638 269 1209 \nz\n\" id=\"ArialMT-33\" transform=\"scale(0.015625)\"/>\n       </defs>\n       <use xlink:href=\"#ArialMT-33\"/>\n       <use x=\"55.615234\" xlink:href=\"#ArialMT-30\"/>\n      </g>\n     </g>\n    </g>\n    <g id=\"xtick_7\">\n     <g id=\"line2d_7\">\n      <g>\n       <use style=\"fill:#808080;stroke:#808080;stroke-width:0.8;\" x=\"325.779019\" xlink:href=\"#m4d3f215c6d\" y=\"224.64\"/>\n      </g>\n     </g>\n     <g id=\"text_7\">\n      <!-- 35 -->\n      <g style=\"fill:#808080;\" transform=\"translate(320.218082 238.797812)scale(0.1 -0.1)\">\n       <use xlink:href=\"#ArialMT-33\"/>\n       <use x=\"55.615234\" xlink:href=\"#ArialMT-35\"/>\n      </g>\n     </g>\n    </g>\n    <g id=\"xtick_8\">\n     <g id=\"line2d_8\">\n      <g>\n       <use style=\"fill:#808080;stroke:#808080;stroke-width:0.8;\" x=\"370.538377\" xlink:href=\"#m4d3f215c6d\" y=\"224.64\"/>\n      </g>\n     </g>\n     <g id=\"text_8\">\n      <!-- 40 -->\n      <g style=\"fill:#808080;\" transform=\"translate(364.97744 238.797812)scale(0.1 -0.1)\">\n       <defs>\n        <path d=\"M 2069 0 \nL 2069 1097 \nL 81 1097 \nL 81 1613 \nL 2172 4581 \nL 2631 4581 \nL 2631 1613 \nL 3250 1613 \nL 3250 1097 \nL 2631 1097 \nL 2631 0 \nL 2069 0 \nz\nM 2069 1613 \nL 2069 3678 \nL 634 1613 \nL 2069 1613 \nz\n\" id=\"ArialMT-34\" transform=\"scale(0.015625)\"/>\n       </defs>\n       <use xlink:href=\"#ArialMT-34\"/>\n       <use x=\"55.615234\" xlink:href=\"#ArialMT-30\"/>\n      </g>\n     </g>\n    </g>\n    <g id=\"text_9\">\n     <!-- alpha -->\n     <g style=\"fill:#505050;\" transform=\"translate(197.171875 251.943125)scale(0.1 -0.1)\">\n      <defs>\n       <path d=\"M 2588 409 \nQ 2275 144 1986 34 \nQ 1697 -75 1366 -75 \nQ 819 -75 525 192 \nQ 231 459 231 875 \nQ 231 1119 342 1320 \nQ 453 1522 633 1644 \nQ 813 1766 1038 1828 \nQ 1203 1872 1538 1913 \nQ 2219 1994 2541 2106 \nQ 2544 2222 2544 2253 \nQ 2544 2597 2384 2738 \nQ 2169 2928 1744 2928 \nQ 1347 2928 1158 2789 \nQ 969 2650 878 2297 \nL 328 2372 \nQ 403 2725 575 2942 \nQ 747 3159 1072 3276 \nQ 1397 3394 1825 3394 \nQ 2250 3394 2515 3294 \nQ 2781 3194 2906 3042 \nQ 3031 2891 3081 2659 \nQ 3109 2516 3109 2141 \nL 3109 1391 \nQ 3109 606 3145 398 \nQ 3181 191 3288 0 \nL 2700 0 \nQ 2613 175 2588 409 \nz\nM 2541 1666 \nQ 2234 1541 1622 1453 \nQ 1275 1403 1131 1340 \nQ 988 1278 909 1158 \nQ 831 1038 831 891 \nQ 831 666 1001 516 \nQ 1172 366 1500 366 \nQ 1825 366 2078 508 \nQ 2331 650 2450 897 \nQ 2541 1088 2541 1459 \nL 2541 1666 \nz\n\" id=\"ArialMT-61\" transform=\"scale(0.015625)\"/>\n       <path d=\"M 409 0 \nL 409 4581 \nL 972 4581 \nL 972 0 \nL 409 0 \nz\n\" id=\"ArialMT-6c\" transform=\"scale(0.015625)\"/>\n       <path d=\"M 422 -1272 \nL 422 3319 \nL 934 3319 \nL 934 2888 \nQ 1116 3141 1344 3267 \nQ 1572 3394 1897 3394 \nQ 2322 3394 2647 3175 \nQ 2972 2956 3137 2557 \nQ 3303 2159 3303 1684 \nQ 3303 1175 3120 767 \nQ 2938 359 2589 142 \nQ 2241 -75 1856 -75 \nQ 1575 -75 1351 44 \nQ 1128 163 984 344 \nL 984 -1272 \nL 422 -1272 \nz\nM 931 1641 \nQ 931 1000 1190 694 \nQ 1450 388 1819 388 \nQ 2194 388 2461 705 \nQ 2728 1022 2728 1688 \nQ 2728 2322 2467 2637 \nQ 2206 2953 1844 2953 \nQ 1484 2953 1207 2617 \nQ 931 2281 931 1641 \nz\n\" id=\"ArialMT-70\" transform=\"scale(0.015625)\"/>\n       <path d=\"M 422 0 \nL 422 4581 \nL 984 4581 \nL 984 2938 \nQ 1378 3394 1978 3394 \nQ 2347 3394 2619 3248 \nQ 2891 3103 3008 2847 \nQ 3125 2591 3125 2103 \nL 3125 0 \nL 2563 0 \nL 2563 2103 \nQ 2563 2525 2380 2717 \nQ 2197 2909 1863 2909 \nQ 1613 2909 1392 2779 \nQ 1172 2650 1078 2428 \nQ 984 2206 984 1816 \nL 984 0 \nL 422 0 \nz\n\" id=\"ArialMT-68\" transform=\"scale(0.015625)\"/>\n      </defs>\n      <use xlink:href=\"#ArialMT-61\"/>\n      <use x=\"55.615234\" xlink:href=\"#ArialMT-6c\"/>\n      <use x=\"77.832031\" xlink:href=\"#ArialMT-70\"/>\n      <use x=\"133.447266\" xlink:href=\"#ArialMT-68\"/>\n      <use x=\"189.0625\" xlink:href=\"#ArialMT-61\"/>\n     </g>\n    </g>\n   </g>\n   <g id=\"matplotlib.axis_2\">\n    <g id=\"ytick_1\">\n     <g id=\"line2d_9\">\n      <defs>\n       <path d=\"M 0 0 \nL -3.5 0 \n\" id=\"mfc98283559\" style=\"stroke:#808080;stroke-width:0.8;\"/>\n      </defs>\n      <g>\n       <use style=\"fill:#808080;stroke:#808080;stroke-width:0.8;\" x=\"42.004688\" xlink:href=\"#mfc98283559\" y=\"215.159928\"/>\n      </g>\n     </g>\n     <g id=\"text_10\">\n      <!-- 29600 -->\n      <g style=\"fill:#808080;\" transform=\"translate(7.2 218.738834)scale(0.1 -0.1)\">\n       <defs>\n        <path d=\"M 350 1059 \nL 891 1109 \nQ 959 728 1153 556 \nQ 1347 384 1650 384 \nQ 1909 384 2104 503 \nQ 2300 622 2425 820 \nQ 2550 1019 2634 1356 \nQ 2719 1694 2719 2044 \nQ 2719 2081 2716 2156 \nQ 2547 1888 2255 1720 \nQ 1963 1553 1622 1553 \nQ 1053 1553 659 1965 \nQ 266 2378 266 3053 \nQ 266 3750 677 4175 \nQ 1088 4600 1706 4600 \nQ 2153 4600 2523 4359 \nQ 2894 4119 3086 3673 \nQ 3278 3228 3278 2384 \nQ 3278 1506 3087 986 \nQ 2897 466 2520 194 \nQ 2144 -78 1638 -78 \nQ 1100 -78 759 220 \nQ 419 519 350 1059 \nz\nM 2653 3081 \nQ 2653 3566 2395 3850 \nQ 2138 4134 1775 4134 \nQ 1400 4134 1122 3828 \nQ 844 3522 844 3034 \nQ 844 2597 1108 2323 \nQ 1372 2050 1759 2050 \nQ 2150 2050 2401 2323 \nQ 2653 2597 2653 3081 \nz\n\" id=\"ArialMT-39\" transform=\"scale(0.015625)\"/>\n        <path d=\"M 3184 3459 \nL 2625 3416 \nQ 2550 3747 2413 3897 \nQ 2184 4138 1850 4138 \nQ 1581 4138 1378 3988 \nQ 1113 3794 959 3422 \nQ 806 3050 800 2363 \nQ 1003 2672 1297 2822 \nQ 1591 2972 1913 2972 \nQ 2475 2972 2870 2558 \nQ 3266 2144 3266 1488 \nQ 3266 1056 3080 686 \nQ 2894 316 2569 119 \nQ 2244 -78 1831 -78 \nQ 1128 -78 684 439 \nQ 241 956 241 2144 \nQ 241 3472 731 4075 \nQ 1159 4600 1884 4600 \nQ 2425 4600 2770 4297 \nQ 3116 3994 3184 3459 \nz\nM 888 1484 \nQ 888 1194 1011 928 \nQ 1134 663 1356 523 \nQ 1578 384 1822 384 \nQ 2178 384 2434 671 \nQ 2691 959 2691 1453 \nQ 2691 1928 2437 2201 \nQ 2184 2475 1800 2475 \nQ 1419 2475 1153 2201 \nQ 888 1928 888 1484 \nz\n\" id=\"ArialMT-36\" transform=\"scale(0.015625)\"/>\n       </defs>\n       <use xlink:href=\"#ArialMT-32\"/>\n       <use x=\"55.615234\" xlink:href=\"#ArialMT-39\"/>\n       <use x=\"111.230469\" xlink:href=\"#ArialMT-36\"/>\n       <use x=\"166.845703\" xlink:href=\"#ArialMT-30\"/>\n       <use x=\"222.460938\" xlink:href=\"#ArialMT-30\"/>\n      </g>\n     </g>\n    </g>\n    <g id=\"ytick_2\">\n     <g id=\"line2d_10\">\n      <g>\n       <use style=\"fill:#808080;stroke:#808080;stroke-width:0.8;\" x=\"42.004688\" xlink:href=\"#mfc98283559\" y=\"187.128488\"/>\n      </g>\n     </g>\n     <g id=\"text_11\">\n      <!-- 29650 -->\n      <g style=\"fill:#808080;\" transform=\"translate(7.2 190.707394)scale(0.1 -0.1)\">\n       <use xlink:href=\"#ArialMT-32\"/>\n       <use x=\"55.615234\" xlink:href=\"#ArialMT-39\"/>\n       <use x=\"111.230469\" xlink:href=\"#ArialMT-36\"/>\n       <use x=\"166.845703\" xlink:href=\"#ArialMT-35\"/>\n       <use x=\"222.460938\" xlink:href=\"#ArialMT-30\"/>\n      </g>\n     </g>\n    </g>\n    <g id=\"ytick_3\">\n     <g id=\"line2d_11\">\n      <g>\n       <use style=\"fill:#808080;stroke:#808080;stroke-width:0.8;\" x=\"42.004688\" xlink:href=\"#mfc98283559\" y=\"159.097047\"/>\n      </g>\n     </g>\n     <g id=\"text_12\">\n      <!-- 29700 -->\n      <g style=\"fill:#808080;\" transform=\"translate(7.2 162.675953)scale(0.1 -0.1)\">\n       <defs>\n        <path d=\"M 303 3981 \nL 303 4522 \nL 3269 4522 \nL 3269 4084 \nQ 2831 3619 2401 2847 \nQ 1972 2075 1738 1259 \nQ 1569 684 1522 0 \nL 944 0 \nQ 953 541 1156 1306 \nQ 1359 2072 1739 2783 \nQ 2119 3494 2547 3981 \nL 303 3981 \nz\n\" id=\"ArialMT-37\" transform=\"scale(0.015625)\"/>\n       </defs>\n       <use xlink:href=\"#ArialMT-32\"/>\n       <use x=\"55.615234\" xlink:href=\"#ArialMT-39\"/>\n       <use x=\"111.230469\" xlink:href=\"#ArialMT-37\"/>\n       <use x=\"166.845703\" xlink:href=\"#ArialMT-30\"/>\n       <use x=\"222.460938\" xlink:href=\"#ArialMT-30\"/>\n      </g>\n     </g>\n    </g>\n    <g id=\"ytick_4\">\n     <g id=\"line2d_12\">\n      <g>\n       <use style=\"fill:#808080;stroke:#808080;stroke-width:0.8;\" x=\"42.004688\" xlink:href=\"#mfc98283559\" y=\"131.065607\"/>\n      </g>\n     </g>\n     <g id=\"text_13\">\n      <!-- 29750 -->\n      <g style=\"fill:#808080;\" transform=\"translate(7.2 134.644513)scale(0.1 -0.1)\">\n       <use xlink:href=\"#ArialMT-32\"/>\n       <use x=\"55.615234\" xlink:href=\"#ArialMT-39\"/>\n       <use x=\"111.230469\" xlink:href=\"#ArialMT-37\"/>\n       <use x=\"166.845703\" xlink:href=\"#ArialMT-35\"/>\n       <use x=\"222.460938\" xlink:href=\"#ArialMT-30\"/>\n      </g>\n     </g>\n    </g>\n    <g id=\"ytick_5\">\n     <g id=\"line2d_13\">\n      <g>\n       <use style=\"fill:#808080;stroke:#808080;stroke-width:0.8;\" x=\"42.004688\" xlink:href=\"#mfc98283559\" y=\"103.034166\"/>\n      </g>\n     </g>\n     <g id=\"text_14\">\n      <!-- 29800 -->\n      <g style=\"fill:#808080;\" transform=\"translate(7.2 106.613073)scale(0.1 -0.1)\">\n       <defs>\n        <path d=\"M 1131 2484 \nQ 781 2613 612 2850 \nQ 444 3088 444 3419 \nQ 444 3919 803 4259 \nQ 1163 4600 1759 4600 \nQ 2359 4600 2725 4251 \nQ 3091 3903 3091 3403 \nQ 3091 3084 2923 2848 \nQ 2756 2613 2416 2484 \nQ 2838 2347 3058 2040 \nQ 3278 1734 3278 1309 \nQ 3278 722 2862 322 \nQ 2447 -78 1769 -78 \nQ 1091 -78 675 323 \nQ 259 725 259 1325 \nQ 259 1772 486 2073 \nQ 713 2375 1131 2484 \nz\nM 1019 3438 \nQ 1019 3113 1228 2906 \nQ 1438 2700 1772 2700 \nQ 2097 2700 2305 2904 \nQ 2513 3109 2513 3406 \nQ 2513 3716 2298 3927 \nQ 2084 4138 1766 4138 \nQ 1444 4138 1231 3931 \nQ 1019 3725 1019 3438 \nz\nM 838 1322 \nQ 838 1081 952 856 \nQ 1066 631 1291 507 \nQ 1516 384 1775 384 \nQ 2178 384 2440 643 \nQ 2703 903 2703 1303 \nQ 2703 1709 2433 1975 \nQ 2163 2241 1756 2241 \nQ 1359 2241 1098 1978 \nQ 838 1716 838 1322 \nz\n\" id=\"ArialMT-38\" transform=\"scale(0.015625)\"/>\n       </defs>\n       <use xlink:href=\"#ArialMT-32\"/>\n       <use x=\"55.615234\" xlink:href=\"#ArialMT-39\"/>\n       <use x=\"111.230469\" xlink:href=\"#ArialMT-38\"/>\n       <use x=\"166.845703\" xlink:href=\"#ArialMT-30\"/>\n       <use x=\"222.460938\" xlink:href=\"#ArialMT-30\"/>\n      </g>\n     </g>\n    </g>\n    <g id=\"ytick_6\">\n     <g id=\"line2d_14\">\n      <g>\n       <use style=\"fill:#808080;stroke:#808080;stroke-width:0.8;\" x=\"42.004688\" xlink:href=\"#mfc98283559\" y=\"75.002726\"/>\n      </g>\n     </g>\n     <g id=\"text_15\">\n      <!-- 29850 -->\n      <g style=\"fill:#808080;\" transform=\"translate(7.2 78.581632)scale(0.1 -0.1)\">\n       <use xlink:href=\"#ArialMT-32\"/>\n       <use x=\"55.615234\" xlink:href=\"#ArialMT-39\"/>\n       <use x=\"111.230469\" xlink:href=\"#ArialMT-38\"/>\n       <use x=\"166.845703\" xlink:href=\"#ArialMT-35\"/>\n       <use x=\"222.460938\" xlink:href=\"#ArialMT-30\"/>\n      </g>\n     </g>\n    </g>\n    <g id=\"ytick_7\">\n     <g id=\"line2d_15\">\n      <g>\n       <use style=\"fill:#808080;stroke:#808080;stroke-width:0.8;\" x=\"42.004688\" xlink:href=\"#mfc98283559\" y=\"46.971286\"/>\n      </g>\n     </g>\n     <g id=\"text_16\">\n      <!-- 29900 -->\n      <g style=\"fill:#808080;\" transform=\"translate(7.2 50.550192)scale(0.1 -0.1)\">\n       <use xlink:href=\"#ArialMT-32\"/>\n       <use x=\"55.615234\" xlink:href=\"#ArialMT-39\"/>\n       <use x=\"111.230469\" xlink:href=\"#ArialMT-39\"/>\n       <use x=\"166.845703\" xlink:href=\"#ArialMT-30\"/>\n       <use x=\"222.460938\" xlink:href=\"#ArialMT-30\"/>\n      </g>\n     </g>\n    </g>\n    <g id=\"ytick_8\">\n     <g id=\"line2d_16\">\n      <g>\n       <use style=\"fill:#808080;stroke:#808080;stroke-width:0.8;\" x=\"42.004688\" xlink:href=\"#mfc98283559\" y=\"18.939845\"/>\n      </g>\n     </g>\n     <g id=\"text_17\">\n      <!-- 29950 -->\n      <g style=\"fill:#808080;\" transform=\"translate(7.2 22.518752)scale(0.1 -0.1)\">\n       <use xlink:href=\"#ArialMT-32\"/>\n       <use x=\"55.615234\" xlink:href=\"#ArialMT-39\"/>\n       <use x=\"111.230469\" xlink:href=\"#ArialMT-39\"/>\n       <use x=\"166.845703\" xlink:href=\"#ArialMT-35\"/>\n       <use x=\"222.460938\" xlink:href=\"#ArialMT-30\"/>\n      </g>\n     </g>\n    </g>\n   </g>\n   <g id=\"line2d_17\">\n    <path clip-path=\"url(#p87026ec910)\" d=\"M 57.222869 186.057652 \nL 66.174741 198.152538 \nL 75.126613 206.141276 \nL 84.078484 211.143908 \nL 93.030356 213.858188 \nL 101.982228 214.756364 \nL 110.934099 214.178195 \nL 119.885971 212.379436 \nL 128.837843 209.559211 \nL 137.789714 205.876558 \nL 146.741586 201.461001 \nL 155.693458 196.41965 \nL 164.645329 190.842157 \nL 173.597201 184.804297 \nL 182.549073 178.370633 \nL 191.500944 171.596542 \nL 200.452816 164.529795 \nL 209.404687 157.211793 \nL 218.356559 149.678573 \nL 227.308431 141.961613 \nL 236.260302 134.088496 \nL 245.212174 126.083456 \nL 254.164046 117.967841 \nL 263.115917 109.760494 \nL 272.067789 101.478077 \nL 281.019661 93.135348 \nL 289.971532 84.745397 \nL 298.923404 76.31985 \nL 307.875276 67.869039 \nL 316.827147 59.402156 \nL 325.779019 50.927381 \nL 334.730891 42.452001 \nL 343.682762 33.982503 \nL 352.634634 25.524666 \nL 361.586506 17.083636 \n\" style=\"fill:none;stroke:#1f77b4;stroke-linecap:square;stroke-width:1.5;\"/>\n   </g>\n   <g id=\"patch_3\">\n    <path d=\"M 42.004688 224.64 \nL 42.004688 7.2 \n\" style=\"fill:none;stroke:#808080;stroke-linecap:square;stroke-linejoin:miter;stroke-width:0.3;\"/>\n   </g>\n   <g id=\"patch_4\">\n    <path d=\"M 376.804688 224.64 \nL 376.804688 7.2 \n\" style=\"fill:none;stroke:#808080;stroke-linecap:square;stroke-linejoin:miter;stroke-width:0.3;\"/>\n   </g>\n   <g id=\"patch_5\">\n    <path d=\"M 42.004688 224.64 \nL 376.804688 224.64 \n\" style=\"fill:none;stroke:#808080;stroke-linecap:square;stroke-linejoin:miter;stroke-width:0.3;\"/>\n   </g>\n   <g id=\"patch_6\">\n    <path d=\"M 42.004688 7.2 \nL 376.804688 7.2 \n\" style=\"fill:none;stroke:#808080;stroke-linecap:square;stroke-linejoin:miter;stroke-width:0.3;\"/>\n   </g>\n   <g id=\"legend_1\">\n    <g id=\"patch_7\">\n     <path d=\"M 49.004688 29.345312 \nL 103.225 29.345312 \nQ 105.225 29.345312 105.225 27.345312 \nL 105.225 14.2 \nQ 105.225 12.2 103.225 12.2 \nL 49.004688 12.2 \nQ 47.004688 12.2 47.004688 14.2 \nL 47.004688 27.345312 \nQ 47.004688 29.345312 49.004688 29.345312 \nz\n\" style=\"fill:#ffffff;opacity:0.8;stroke:#cccccc;stroke-linejoin:miter;\"/>\n    </g>\n    <g id=\"line2d_18\">\n     <path d=\"M 51.004688 19.857812 \nL 71.004688 19.857812 \n\" style=\"fill:none;stroke:#1f77b4;stroke-linecap:square;stroke-width:1.5;\"/>\n    </g>\n    <g id=\"line2d_19\"/>\n    <g id=\"text_18\">\n     <!-- rmse -->\n     <g style=\"fill:#505050;\" transform=\"translate(79.004688 23.357812)scale(0.1 -0.1)\">\n      <defs>\n       <path d=\"M 416 0 \nL 416 3319 \nL 922 3319 \nL 922 2816 \nQ 1116 3169 1280 3281 \nQ 1444 3394 1641 3394 \nQ 1925 3394 2219 3213 \nL 2025 2691 \nQ 1819 2813 1613 2813 \nQ 1428 2813 1281 2702 \nQ 1134 2591 1072 2394 \nQ 978 2094 978 1738 \nL 978 0 \nL 416 0 \nz\n\" id=\"ArialMT-72\" transform=\"scale(0.015625)\"/>\n       <path d=\"M 422 0 \nL 422 3319 \nL 925 3319 \nL 925 2853 \nQ 1081 3097 1340 3245 \nQ 1600 3394 1931 3394 \nQ 2300 3394 2536 3241 \nQ 2772 3088 2869 2813 \nQ 3263 3394 3894 3394 \nQ 4388 3394 4653 3120 \nQ 4919 2847 4919 2278 \nL 4919 0 \nL 4359 0 \nL 4359 2091 \nQ 4359 2428 4304 2576 \nQ 4250 2725 4106 2815 \nQ 3963 2906 3769 2906 \nQ 3419 2906 3187 2673 \nQ 2956 2441 2956 1928 \nL 2956 0 \nL 2394 0 \nL 2394 2156 \nQ 2394 2531 2256 2718 \nQ 2119 2906 1806 2906 \nQ 1569 2906 1367 2781 \nQ 1166 2656 1075 2415 \nQ 984 2175 984 1722 \nL 984 0 \nL 422 0 \nz\n\" id=\"ArialMT-6d\" transform=\"scale(0.015625)\"/>\n       <path d=\"M 197 991 \nL 753 1078 \nQ 800 744 1014 566 \nQ 1228 388 1613 388 \nQ 2000 388 2187 545 \nQ 2375 703 2375 916 \nQ 2375 1106 2209 1216 \nQ 2094 1291 1634 1406 \nQ 1016 1563 777 1677 \nQ 538 1791 414 1992 \nQ 291 2194 291 2438 \nQ 291 2659 392 2848 \nQ 494 3038 669 3163 \nQ 800 3259 1026 3326 \nQ 1253 3394 1513 3394 \nQ 1903 3394 2198 3281 \nQ 2494 3169 2634 2976 \nQ 2775 2784 2828 2463 \nL 2278 2388 \nQ 2241 2644 2061 2787 \nQ 1881 2931 1553 2931 \nQ 1166 2931 1000 2803 \nQ 834 2675 834 2503 \nQ 834 2394 903 2306 \nQ 972 2216 1119 2156 \nQ 1203 2125 1616 2013 \nQ 2213 1853 2448 1751 \nQ 2684 1650 2818 1456 \nQ 2953 1263 2953 975 \nQ 2953 694 2789 445 \nQ 2625 197 2315 61 \nQ 2006 -75 1616 -75 \nQ 969 -75 630 194 \nQ 291 463 197 991 \nz\n\" id=\"ArialMT-73\" transform=\"scale(0.015625)\"/>\n       <path d=\"M 2694 1069 \nL 3275 997 \nQ 3138 488 2766 206 \nQ 2394 -75 1816 -75 \nQ 1088 -75 661 373 \nQ 234 822 234 1631 \nQ 234 2469 665 2931 \nQ 1097 3394 1784 3394 \nQ 2450 3394 2872 2941 \nQ 3294 2488 3294 1666 \nQ 3294 1616 3291 1516 \nL 816 1516 \nQ 847 969 1125 678 \nQ 1403 388 1819 388 \nQ 2128 388 2347 550 \nQ 2566 713 2694 1069 \nz\nM 847 1978 \nL 2700 1978 \nQ 2663 2397 2488 2606 \nQ 2219 2931 1791 2931 \nQ 1403 2931 1139 2672 \nQ 875 2413 847 1978 \nz\n\" id=\"ArialMT-65\" transform=\"scale(0.015625)\"/>\n      </defs>\n      <use xlink:href=\"#ArialMT-72\"/>\n      <use x=\"33.300781\" xlink:href=\"#ArialMT-6d\"/>\n      <use x=\"116.601562\" xlink:href=\"#ArialMT-73\"/>\n      <use x=\"166.601562\" xlink:href=\"#ArialMT-65\"/>\n     </g>\n    </g>\n   </g>\n  </g>\n </g>\n <defs>\n  <clipPath id=\"p87026ec910\">\n   <rect height=\"217.44\" width=\"334.8\" x=\"42.004688\" y=\"7.2\"/>\n  </clipPath>\n </defs>\n</svg>\n",
      "text/plain": [
       "<Figure size 432x288 with 1 Axes>"
      ]
     },
     "metadata": {
      "needs_background": "dark"
     },
     "output_type": "display_data"
    },
    {
     "data": {
      "image/svg+xml": "<?xml version=\"1.0\" encoding=\"utf-8\" standalone=\"no\"?>\n<!DOCTYPE svg PUBLIC \"-//W3C//DTD SVG 1.1//EN\"\n  \"http://www.w3.org/Graphics/SVG/1.1/DTD/svg11.dtd\">\n<svg height=\"261.130625pt\" version=\"1.1\" viewBox=\"0 0 384.004687 261.130625\" width=\"384.004687pt\" xmlns=\"http://www.w3.org/2000/svg\" xmlns:xlink=\"http://www.w3.org/1999/xlink\">\n <metadata>\n  <rdf:RDF xmlns:cc=\"http://creativecommons.org/ns#\" xmlns:dc=\"http://purl.org/dc/elements/1.1/\" xmlns:rdf=\"http://www.w3.org/1999/02/22-rdf-syntax-ns#\">\n   <cc:Work>\n    <dc:type rdf:resource=\"http://purl.org/dc/dcmitype/StillImage\"/>\n    <dc:date>2022-01-23T14:58:01.394709</dc:date>\n    <dc:format>image/svg+xml</dc:format>\n    <dc:creator>\n     <cc:Agent>\n      <dc:title>Matplotlib v3.4.2, https://matplotlib.org/</dc:title>\n     </cc:Agent>\n    </dc:creator>\n   </cc:Work>\n  </rdf:RDF>\n </metadata>\n <defs>\n  <style type=\"text/css\">*{stroke-linecap:butt;stroke-linejoin:round;}</style>\n </defs>\n <g id=\"figure_1\">\n  <g id=\"patch_1\">\n   <path d=\"M 0 261.130625 \nL 384.004687 261.130625 \nL 384.004687 0 \nL 0 0 \nz\n\" style=\"fill:none;\"/>\n  </g>\n  <g id=\"axes_1\">\n   <g id=\"patch_2\">\n    <path d=\"M 42.004688 224.64 \nL 376.804688 224.64 \nL 376.804688 7.2 \nL 42.004688 7.2 \nz\n\" style=\"fill:#ffffff;\"/>\n   </g>\n   <g id=\"matplotlib.axis_1\">\n    <g id=\"xtick_1\">\n     <g id=\"line2d_1\">\n      <defs>\n       <path d=\"M 0 0 \nL 0 3.5 \n\" id=\"me7b2356a04\" style=\"stroke:#808080;stroke-width:0.8;\"/>\n      </defs>\n      <g>\n       <use style=\"fill:#808080;stroke:#808080;stroke-width:0.8;\" x=\"57.222869\" xlink:href=\"#me7b2356a04\" y=\"224.64\"/>\n      </g>\n     </g>\n     <g id=\"text_1\">\n      <!-- 5 -->\n      <g style=\"fill:#808080;\" transform=\"translate(54.442401 238.797812)scale(0.1 -0.1)\">\n       <defs>\n        <path d=\"M 266 1200 \nL 856 1250 \nQ 922 819 1161 601 \nQ 1400 384 1738 384 \nQ 2144 384 2425 690 \nQ 2706 997 2706 1503 \nQ 2706 1984 2436 2262 \nQ 2166 2541 1728 2541 \nQ 1456 2541 1237 2417 \nQ 1019 2294 894 2097 \nL 366 2166 \nL 809 4519 \nL 3088 4519 \nL 3088 3981 \nL 1259 3981 \nL 1013 2750 \nQ 1425 3038 1878 3038 \nQ 2478 3038 2890 2622 \nQ 3303 2206 3303 1553 \nQ 3303 931 2941 478 \nQ 2500 -78 1738 -78 \nQ 1113 -78 717 272 \nQ 322 622 266 1200 \nz\n\" id=\"ArialMT-35\" transform=\"scale(0.015625)\"/>\n       </defs>\n       <use xlink:href=\"#ArialMT-35\"/>\n      </g>\n     </g>\n    </g>\n    <g id=\"xtick_2\">\n     <g id=\"line2d_2\">\n      <g>\n       <use style=\"fill:#808080;stroke:#808080;stroke-width:0.8;\" x=\"101.982228\" xlink:href=\"#me7b2356a04\" y=\"224.64\"/>\n      </g>\n     </g>\n     <g id=\"text_2\">\n      <!-- 10 -->\n      <g style=\"fill:#808080;\" transform=\"translate(96.42129 238.797812)scale(0.1 -0.1)\">\n       <defs>\n        <path d=\"M 2384 0 \nL 1822 0 \nL 1822 3584 \nQ 1619 3391 1289 3197 \nQ 959 3003 697 2906 \nL 697 3450 \nQ 1169 3672 1522 3987 \nQ 1875 4303 2022 4600 \nL 2384 4600 \nL 2384 0 \nz\n\" id=\"ArialMT-31\" transform=\"scale(0.015625)\"/>\n        <path d=\"M 266 2259 \nQ 266 3072 433 3567 \nQ 600 4063 929 4331 \nQ 1259 4600 1759 4600 \nQ 2128 4600 2406 4451 \nQ 2684 4303 2865 4023 \nQ 3047 3744 3150 3342 \nQ 3253 2941 3253 2259 \nQ 3253 1453 3087 958 \nQ 2922 463 2592 192 \nQ 2263 -78 1759 -78 \nQ 1097 -78 719 397 \nQ 266 969 266 2259 \nz\nM 844 2259 \nQ 844 1131 1108 757 \nQ 1372 384 1759 384 \nQ 2147 384 2411 759 \nQ 2675 1134 2675 2259 \nQ 2675 3391 2411 3762 \nQ 2147 4134 1753 4134 \nQ 1366 4134 1134 3806 \nQ 844 3388 844 2259 \nz\n\" id=\"ArialMT-30\" transform=\"scale(0.015625)\"/>\n       </defs>\n       <use xlink:href=\"#ArialMT-31\"/>\n       <use x=\"55.615234\" xlink:href=\"#ArialMT-30\"/>\n      </g>\n     </g>\n    </g>\n    <g id=\"xtick_3\">\n     <g id=\"line2d_3\">\n      <g>\n       <use style=\"fill:#808080;stroke:#808080;stroke-width:0.8;\" x=\"146.741586\" xlink:href=\"#me7b2356a04\" y=\"224.64\"/>\n      </g>\n     </g>\n     <g id=\"text_3\">\n      <!-- 15 -->\n      <g style=\"fill:#808080;\" transform=\"translate(141.180648 238.797812)scale(0.1 -0.1)\">\n       <use xlink:href=\"#ArialMT-31\"/>\n       <use x=\"55.615234\" xlink:href=\"#ArialMT-35\"/>\n      </g>\n     </g>\n    </g>\n    <g id=\"xtick_4\">\n     <g id=\"line2d_4\">\n      <g>\n       <use style=\"fill:#808080;stroke:#808080;stroke-width:0.8;\" x=\"191.500944\" xlink:href=\"#me7b2356a04\" y=\"224.64\"/>\n      </g>\n     </g>\n     <g id=\"text_4\">\n      <!-- 20 -->\n      <g style=\"fill:#808080;\" transform=\"translate(185.940007 238.797812)scale(0.1 -0.1)\">\n       <defs>\n        <path d=\"M 3222 541 \nL 3222 0 \nL 194 0 \nQ 188 203 259 391 \nQ 375 700 629 1000 \nQ 884 1300 1366 1694 \nQ 2113 2306 2375 2664 \nQ 2638 3022 2638 3341 \nQ 2638 3675 2398 3904 \nQ 2159 4134 1775 4134 \nQ 1369 4134 1125 3890 \nQ 881 3647 878 3216 \nL 300 3275 \nQ 359 3922 746 4261 \nQ 1134 4600 1788 4600 \nQ 2447 4600 2831 4234 \nQ 3216 3869 3216 3328 \nQ 3216 3053 3103 2787 \nQ 2991 2522 2730 2228 \nQ 2469 1934 1863 1422 \nQ 1356 997 1212 845 \nQ 1069 694 975 541 \nL 3222 541 \nz\n\" id=\"ArialMT-32\" transform=\"scale(0.015625)\"/>\n       </defs>\n       <use xlink:href=\"#ArialMT-32\"/>\n       <use x=\"55.615234\" xlink:href=\"#ArialMT-30\"/>\n      </g>\n     </g>\n    </g>\n    <g id=\"xtick_5\">\n     <g id=\"line2d_5\">\n      <g>\n       <use style=\"fill:#808080;stroke:#808080;stroke-width:0.8;\" x=\"236.260302\" xlink:href=\"#me7b2356a04\" y=\"224.64\"/>\n      </g>\n     </g>\n     <g id=\"text_5\">\n      <!-- 25 -->\n      <g style=\"fill:#808080;\" transform=\"translate(230.699365 238.797812)scale(0.1 -0.1)\">\n       <use xlink:href=\"#ArialMT-32\"/>\n       <use x=\"55.615234\" xlink:href=\"#ArialMT-35\"/>\n      </g>\n     </g>\n    </g>\n    <g id=\"xtick_6\">\n     <g id=\"line2d_6\">\n      <g>\n       <use style=\"fill:#808080;stroke:#808080;stroke-width:0.8;\" x=\"281.019661\" xlink:href=\"#me7b2356a04\" y=\"224.64\"/>\n      </g>\n     </g>\n     <g id=\"text_6\">\n      <!-- 30 -->\n      <g style=\"fill:#808080;\" transform=\"translate(275.458723 238.797812)scale(0.1 -0.1)\">\n       <defs>\n        <path d=\"M 269 1209 \nL 831 1284 \nQ 928 806 1161 595 \nQ 1394 384 1728 384 \nQ 2125 384 2398 659 \nQ 2672 934 2672 1341 \nQ 2672 1728 2419 1979 \nQ 2166 2231 1775 2231 \nQ 1616 2231 1378 2169 \nL 1441 2663 \nQ 1497 2656 1531 2656 \nQ 1891 2656 2178 2843 \nQ 2466 3031 2466 3422 \nQ 2466 3731 2256 3934 \nQ 2047 4138 1716 4138 \nQ 1388 4138 1169 3931 \nQ 950 3725 888 3313 \nL 325 3413 \nQ 428 3978 793 4289 \nQ 1159 4600 1703 4600 \nQ 2078 4600 2393 4439 \nQ 2709 4278 2876 4000 \nQ 3044 3722 3044 3409 \nQ 3044 3113 2884 2869 \nQ 2725 2625 2413 2481 \nQ 2819 2388 3044 2092 \nQ 3269 1797 3269 1353 \nQ 3269 753 2831 336 \nQ 2394 -81 1725 -81 \nQ 1122 -81 723 278 \nQ 325 638 269 1209 \nz\n\" id=\"ArialMT-33\" transform=\"scale(0.015625)\"/>\n       </defs>\n       <use xlink:href=\"#ArialMT-33\"/>\n       <use x=\"55.615234\" xlink:href=\"#ArialMT-30\"/>\n      </g>\n     </g>\n    </g>\n    <g id=\"xtick_7\">\n     <g id=\"line2d_7\">\n      <g>\n       <use style=\"fill:#808080;stroke:#808080;stroke-width:0.8;\" x=\"325.779019\" xlink:href=\"#me7b2356a04\" y=\"224.64\"/>\n      </g>\n     </g>\n     <g id=\"text_7\">\n      <!-- 35 -->\n      <g style=\"fill:#808080;\" transform=\"translate(320.218082 238.797812)scale(0.1 -0.1)\">\n       <use xlink:href=\"#ArialMT-33\"/>\n       <use x=\"55.615234\" xlink:href=\"#ArialMT-35\"/>\n      </g>\n     </g>\n    </g>\n    <g id=\"xtick_8\">\n     <g id=\"line2d_8\">\n      <g>\n       <use style=\"fill:#808080;stroke:#808080;stroke-width:0.8;\" x=\"370.538377\" xlink:href=\"#me7b2356a04\" y=\"224.64\"/>\n      </g>\n     </g>\n     <g id=\"text_8\">\n      <!-- 40 -->\n      <g style=\"fill:#808080;\" transform=\"translate(364.97744 238.797812)scale(0.1 -0.1)\">\n       <defs>\n        <path d=\"M 2069 0 \nL 2069 1097 \nL 81 1097 \nL 81 1613 \nL 2172 4581 \nL 2631 4581 \nL 2631 1613 \nL 3250 1613 \nL 3250 1097 \nL 2631 1097 \nL 2631 0 \nL 2069 0 \nz\nM 2069 1613 \nL 2069 3678 \nL 634 1613 \nL 2069 1613 \nz\n\" id=\"ArialMT-34\" transform=\"scale(0.015625)\"/>\n       </defs>\n       <use xlink:href=\"#ArialMT-34\"/>\n       <use x=\"55.615234\" xlink:href=\"#ArialMT-30\"/>\n      </g>\n     </g>\n    </g>\n    <g id=\"text_9\">\n     <!-- alpha -->\n     <g style=\"fill:#505050;\" transform=\"translate(197.171875 251.943125)scale(0.1 -0.1)\">\n      <defs>\n       <path d=\"M 2588 409 \nQ 2275 144 1986 34 \nQ 1697 -75 1366 -75 \nQ 819 -75 525 192 \nQ 231 459 231 875 \nQ 231 1119 342 1320 \nQ 453 1522 633 1644 \nQ 813 1766 1038 1828 \nQ 1203 1872 1538 1913 \nQ 2219 1994 2541 2106 \nQ 2544 2222 2544 2253 \nQ 2544 2597 2384 2738 \nQ 2169 2928 1744 2928 \nQ 1347 2928 1158 2789 \nQ 969 2650 878 2297 \nL 328 2372 \nQ 403 2725 575 2942 \nQ 747 3159 1072 3276 \nQ 1397 3394 1825 3394 \nQ 2250 3394 2515 3294 \nQ 2781 3194 2906 3042 \nQ 3031 2891 3081 2659 \nQ 3109 2516 3109 2141 \nL 3109 1391 \nQ 3109 606 3145 398 \nQ 3181 191 3288 0 \nL 2700 0 \nQ 2613 175 2588 409 \nz\nM 2541 1666 \nQ 2234 1541 1622 1453 \nQ 1275 1403 1131 1340 \nQ 988 1278 909 1158 \nQ 831 1038 831 891 \nQ 831 666 1001 516 \nQ 1172 366 1500 366 \nQ 1825 366 2078 508 \nQ 2331 650 2450 897 \nQ 2541 1088 2541 1459 \nL 2541 1666 \nz\n\" id=\"ArialMT-61\" transform=\"scale(0.015625)\"/>\n       <path d=\"M 409 0 \nL 409 4581 \nL 972 4581 \nL 972 0 \nL 409 0 \nz\n\" id=\"ArialMT-6c\" transform=\"scale(0.015625)\"/>\n       <path d=\"M 422 -1272 \nL 422 3319 \nL 934 3319 \nL 934 2888 \nQ 1116 3141 1344 3267 \nQ 1572 3394 1897 3394 \nQ 2322 3394 2647 3175 \nQ 2972 2956 3137 2557 \nQ 3303 2159 3303 1684 \nQ 3303 1175 3120 767 \nQ 2938 359 2589 142 \nQ 2241 -75 1856 -75 \nQ 1575 -75 1351 44 \nQ 1128 163 984 344 \nL 984 -1272 \nL 422 -1272 \nz\nM 931 1641 \nQ 931 1000 1190 694 \nQ 1450 388 1819 388 \nQ 2194 388 2461 705 \nQ 2728 1022 2728 1688 \nQ 2728 2322 2467 2637 \nQ 2206 2953 1844 2953 \nQ 1484 2953 1207 2617 \nQ 931 2281 931 1641 \nz\n\" id=\"ArialMT-70\" transform=\"scale(0.015625)\"/>\n       <path d=\"M 422 0 \nL 422 4581 \nL 984 4581 \nL 984 2938 \nQ 1378 3394 1978 3394 \nQ 2347 3394 2619 3248 \nQ 2891 3103 3008 2847 \nQ 3125 2591 3125 2103 \nL 3125 0 \nL 2563 0 \nL 2563 2103 \nQ 2563 2525 2380 2717 \nQ 2197 2909 1863 2909 \nQ 1613 2909 1392 2779 \nQ 1172 2650 1078 2428 \nQ 984 2206 984 1816 \nL 984 0 \nL 422 0 \nz\n\" id=\"ArialMT-68\" transform=\"scale(0.015625)\"/>\n      </defs>\n      <use xlink:href=\"#ArialMT-61\"/>\n      <use x=\"55.615234\" xlink:href=\"#ArialMT-6c\"/>\n      <use x=\"77.832031\" xlink:href=\"#ArialMT-70\"/>\n      <use x=\"133.447266\" xlink:href=\"#ArialMT-68\"/>\n      <use x=\"189.0625\" xlink:href=\"#ArialMT-61\"/>\n     </g>\n    </g>\n   </g>\n   <g id=\"matplotlib.axis_2\">\n    <g id=\"ytick_1\">\n     <g id=\"line2d_9\">\n      <defs>\n       <path d=\"M 0 0 \nL -3.5 0 \n\" id=\"madc0721eed\" style=\"stroke:#808080;stroke-width:0.8;\"/>\n      </defs>\n      <g>\n       <use style=\"fill:#808080;stroke:#808080;stroke-width:0.8;\" x=\"42.004688\" xlink:href=\"#madc0721eed\" y=\"204.668318\"/>\n      </g>\n     </g>\n     <g id=\"text_10\">\n      <!-- 16900 -->\n      <g style=\"fill:#808080;\" transform=\"translate(7.2 208.247224)scale(0.1 -0.1)\">\n       <defs>\n        <path d=\"M 3184 3459 \nL 2625 3416 \nQ 2550 3747 2413 3897 \nQ 2184 4138 1850 4138 \nQ 1581 4138 1378 3988 \nQ 1113 3794 959 3422 \nQ 806 3050 800 2363 \nQ 1003 2672 1297 2822 \nQ 1591 2972 1913 2972 \nQ 2475 2972 2870 2558 \nQ 3266 2144 3266 1488 \nQ 3266 1056 3080 686 \nQ 2894 316 2569 119 \nQ 2244 -78 1831 -78 \nQ 1128 -78 684 439 \nQ 241 956 241 2144 \nQ 241 3472 731 4075 \nQ 1159 4600 1884 4600 \nQ 2425 4600 2770 4297 \nQ 3116 3994 3184 3459 \nz\nM 888 1484 \nQ 888 1194 1011 928 \nQ 1134 663 1356 523 \nQ 1578 384 1822 384 \nQ 2178 384 2434 671 \nQ 2691 959 2691 1453 \nQ 2691 1928 2437 2201 \nQ 2184 2475 1800 2475 \nQ 1419 2475 1153 2201 \nQ 888 1928 888 1484 \nz\n\" id=\"ArialMT-36\" transform=\"scale(0.015625)\"/>\n        <path d=\"M 350 1059 \nL 891 1109 \nQ 959 728 1153 556 \nQ 1347 384 1650 384 \nQ 1909 384 2104 503 \nQ 2300 622 2425 820 \nQ 2550 1019 2634 1356 \nQ 2719 1694 2719 2044 \nQ 2719 2081 2716 2156 \nQ 2547 1888 2255 1720 \nQ 1963 1553 1622 1553 \nQ 1053 1553 659 1965 \nQ 266 2378 266 3053 \nQ 266 3750 677 4175 \nQ 1088 4600 1706 4600 \nQ 2153 4600 2523 4359 \nQ 2894 4119 3086 3673 \nQ 3278 3228 3278 2384 \nQ 3278 1506 3087 986 \nQ 2897 466 2520 194 \nQ 2144 -78 1638 -78 \nQ 1100 -78 759 220 \nQ 419 519 350 1059 \nz\nM 2653 3081 \nQ 2653 3566 2395 3850 \nQ 2138 4134 1775 4134 \nQ 1400 4134 1122 3828 \nQ 844 3522 844 3034 \nQ 844 2597 1108 2323 \nQ 1372 2050 1759 2050 \nQ 2150 2050 2401 2323 \nQ 2653 2597 2653 3081 \nz\n\" id=\"ArialMT-39\" transform=\"scale(0.015625)\"/>\n       </defs>\n       <use xlink:href=\"#ArialMT-31\"/>\n       <use x=\"55.615234\" xlink:href=\"#ArialMT-36\"/>\n       <use x=\"111.230469\" xlink:href=\"#ArialMT-39\"/>\n       <use x=\"166.845703\" xlink:href=\"#ArialMT-30\"/>\n       <use x=\"222.460938\" xlink:href=\"#ArialMT-30\"/>\n      </g>\n     </g>\n    </g>\n    <g id=\"ytick_2\">\n     <g id=\"line2d_10\">\n      <g>\n       <use style=\"fill:#808080;stroke:#808080;stroke-width:0.8;\" x=\"42.004688\" xlink:href=\"#madc0721eed\" y=\"156.871105\"/>\n      </g>\n     </g>\n     <g id=\"text_11\">\n      <!-- 16950 -->\n      <g style=\"fill:#808080;\" transform=\"translate(7.2 160.450011)scale(0.1 -0.1)\">\n       <use xlink:href=\"#ArialMT-31\"/>\n       <use x=\"55.615234\" xlink:href=\"#ArialMT-36\"/>\n       <use x=\"111.230469\" xlink:href=\"#ArialMT-39\"/>\n       <use x=\"166.845703\" xlink:href=\"#ArialMT-35\"/>\n       <use x=\"222.460938\" xlink:href=\"#ArialMT-30\"/>\n      </g>\n     </g>\n    </g>\n    <g id=\"ytick_3\">\n     <g id=\"line2d_11\">\n      <g>\n       <use style=\"fill:#808080;stroke:#808080;stroke-width:0.8;\" x=\"42.004688\" xlink:href=\"#madc0721eed\" y=\"109.073891\"/>\n      </g>\n     </g>\n     <g id=\"text_12\">\n      <!-- 17000 -->\n      <g style=\"fill:#808080;\" transform=\"translate(7.2 112.652798)scale(0.1 -0.1)\">\n       <defs>\n        <path d=\"M 303 3981 \nL 303 4522 \nL 3269 4522 \nL 3269 4084 \nQ 2831 3619 2401 2847 \nQ 1972 2075 1738 1259 \nQ 1569 684 1522 0 \nL 944 0 \nQ 953 541 1156 1306 \nQ 1359 2072 1739 2783 \nQ 2119 3494 2547 3981 \nL 303 3981 \nz\n\" id=\"ArialMT-37\" transform=\"scale(0.015625)\"/>\n       </defs>\n       <use xlink:href=\"#ArialMT-31\"/>\n       <use x=\"55.615234\" xlink:href=\"#ArialMT-37\"/>\n       <use x=\"111.230469\" xlink:href=\"#ArialMT-30\"/>\n       <use x=\"166.845703\" xlink:href=\"#ArialMT-30\"/>\n       <use x=\"222.460938\" xlink:href=\"#ArialMT-30\"/>\n      </g>\n     </g>\n    </g>\n    <g id=\"ytick_4\">\n     <g id=\"line2d_12\">\n      <g>\n       <use style=\"fill:#808080;stroke:#808080;stroke-width:0.8;\" x=\"42.004688\" xlink:href=\"#madc0721eed\" y=\"61.276678\"/>\n      </g>\n     </g>\n     <g id=\"text_13\">\n      <!-- 17050 -->\n      <g style=\"fill:#808080;\" transform=\"translate(7.2 64.855584)scale(0.1 -0.1)\">\n       <use xlink:href=\"#ArialMT-31\"/>\n       <use x=\"55.615234\" xlink:href=\"#ArialMT-37\"/>\n       <use x=\"111.230469\" xlink:href=\"#ArialMT-30\"/>\n       <use x=\"166.845703\" xlink:href=\"#ArialMT-35\"/>\n       <use x=\"222.460938\" xlink:href=\"#ArialMT-30\"/>\n      </g>\n     </g>\n    </g>\n    <g id=\"ytick_5\">\n     <g id=\"line2d_13\">\n      <g>\n       <use style=\"fill:#808080;stroke:#808080;stroke-width:0.8;\" x=\"42.004688\" xlink:href=\"#madc0721eed\" y=\"13.479464\"/>\n      </g>\n     </g>\n     <g id=\"text_14\">\n      <!-- 17100 -->\n      <g style=\"fill:#808080;\" transform=\"translate(7.2 17.058371)scale(0.1 -0.1)\">\n       <use xlink:href=\"#ArialMT-31\"/>\n       <use x=\"55.615234\" xlink:href=\"#ArialMT-37\"/>\n       <use x=\"111.230469\" xlink:href=\"#ArialMT-31\"/>\n       <use x=\"166.845703\" xlink:href=\"#ArialMT-30\"/>\n       <use x=\"222.460938\" xlink:href=\"#ArialMT-30\"/>\n      </g>\n     </g>\n    </g>\n   </g>\n   <g id=\"line2d_14\">\n    <path clip-path=\"url(#p0d8afd3a5c)\" d=\"M 57.222869 17.083636 \nL 66.174741 63.013938 \nL 75.126613 99.279111 \nL 84.078484 123.082091 \nL 93.030356 140.99744 \nL 101.982228 148.84835 \nL 110.934099 155.364743 \nL 119.885971 161.709247 \nL 128.837843 168.539998 \nL 137.789714 172.397041 \nL 146.741586 176.880262 \nL 155.693458 181.396854 \nL 164.645329 185.722391 \nL 173.597201 190.410817 \nL 182.549073 195.399715 \nL 191.500944 198.582577 \nL 200.452816 200.410951 \nL 209.404687 202.534791 \nL 218.356559 203.920723 \nL 227.308431 204.681429 \nL 236.260302 205.307035 \nL 245.212174 206.204165 \nL 254.164046 207.345467 \nL 263.115917 208.146681 \nL 272.067789 208.937832 \nL 281.019661 209.927347 \nL 289.971532 211.098094 \nL 298.923404 212.434766 \nL 307.875276 213.605738 \nL 316.827147 214.756364 \nL 325.779019 214.579846 \nL 334.730891 213.843494 \nL 343.682762 212.753345 \nL 352.634634 211.780327 \nL 361.586506 210.981662 \n\" style=\"fill:none;stroke:#1f77b4;stroke-linecap:square;stroke-width:1.5;\"/>\n   </g>\n   <g id=\"patch_3\">\n    <path d=\"M 42.004688 224.64 \nL 42.004688 7.2 \n\" style=\"fill:none;stroke:#808080;stroke-linecap:square;stroke-linejoin:miter;stroke-width:0.3;\"/>\n   </g>\n   <g id=\"patch_4\">\n    <path d=\"M 376.804688 224.64 \nL 376.804688 7.2 \n\" style=\"fill:none;stroke:#808080;stroke-linecap:square;stroke-linejoin:miter;stroke-width:0.3;\"/>\n   </g>\n   <g id=\"patch_5\">\n    <path d=\"M 42.004688 224.64 \nL 376.804688 224.64 \n\" style=\"fill:none;stroke:#808080;stroke-linecap:square;stroke-linejoin:miter;stroke-width:0.3;\"/>\n   </g>\n   <g id=\"patch_6\">\n    <path d=\"M 42.004688 7.2 \nL 376.804688 7.2 \n\" style=\"fill:none;stroke:#808080;stroke-linecap:square;stroke-linejoin:miter;stroke-width:0.3;\"/>\n   </g>\n   <g id=\"legend_1\">\n    <g id=\"patch_7\">\n     <path d=\"M 318.353125 29.345312 \nL 369.804688 29.345312 \nQ 371.804688 29.345312 371.804688 27.345312 \nL 371.804688 14.2 \nQ 371.804688 12.2 369.804688 12.2 \nL 318.353125 12.2 \nQ 316.353125 12.2 316.353125 14.2 \nL 316.353125 27.345312 \nQ 316.353125 29.345312 318.353125 29.345312 \nz\n\" style=\"fill:#ffffff;opacity:0.8;stroke:#cccccc;stroke-linejoin:miter;\"/>\n    </g>\n    <g id=\"line2d_15\">\n     <path d=\"M 320.353125 19.857812 \nL 340.353125 19.857812 \n\" style=\"fill:none;stroke:#1f77b4;stroke-linecap:square;stroke-width:1.5;\"/>\n    </g>\n    <g id=\"line2d_16\"/>\n    <g id=\"text_15\">\n     <!-- mae -->\n     <g style=\"fill:#505050;\" transform=\"translate(348.353125 23.357812)scale(0.1 -0.1)\">\n      <defs>\n       <path d=\"M 422 0 \nL 422 3319 \nL 925 3319 \nL 925 2853 \nQ 1081 3097 1340 3245 \nQ 1600 3394 1931 3394 \nQ 2300 3394 2536 3241 \nQ 2772 3088 2869 2813 \nQ 3263 3394 3894 3394 \nQ 4388 3394 4653 3120 \nQ 4919 2847 4919 2278 \nL 4919 0 \nL 4359 0 \nL 4359 2091 \nQ 4359 2428 4304 2576 \nQ 4250 2725 4106 2815 \nQ 3963 2906 3769 2906 \nQ 3419 2906 3187 2673 \nQ 2956 2441 2956 1928 \nL 2956 0 \nL 2394 0 \nL 2394 2156 \nQ 2394 2531 2256 2718 \nQ 2119 2906 1806 2906 \nQ 1569 2906 1367 2781 \nQ 1166 2656 1075 2415 \nQ 984 2175 984 1722 \nL 984 0 \nL 422 0 \nz\n\" id=\"ArialMT-6d\" transform=\"scale(0.015625)\"/>\n       <path d=\"M 2694 1069 \nL 3275 997 \nQ 3138 488 2766 206 \nQ 2394 -75 1816 -75 \nQ 1088 -75 661 373 \nQ 234 822 234 1631 \nQ 234 2469 665 2931 \nQ 1097 3394 1784 3394 \nQ 2450 3394 2872 2941 \nQ 3294 2488 3294 1666 \nQ 3294 1616 3291 1516 \nL 816 1516 \nQ 847 969 1125 678 \nQ 1403 388 1819 388 \nQ 2128 388 2347 550 \nQ 2566 713 2694 1069 \nz\nM 847 1978 \nL 2700 1978 \nQ 2663 2397 2488 2606 \nQ 2219 2931 1791 2931 \nQ 1403 2931 1139 2672 \nQ 875 2413 847 1978 \nz\n\" id=\"ArialMT-65\" transform=\"scale(0.015625)\"/>\n      </defs>\n      <use xlink:href=\"#ArialMT-6d\"/>\n      <use x=\"83.300781\" xlink:href=\"#ArialMT-61\"/>\n      <use x=\"138.916016\" xlink:href=\"#ArialMT-65\"/>\n     </g>\n    </g>\n   </g>\n  </g>\n </g>\n <defs>\n  <clipPath id=\"p0d8afd3a5c\">\n   <rect height=\"217.44\" width=\"334.8\" x=\"42.004688\" y=\"7.2\"/>\n  </clipPath>\n </defs>\n</svg>\n",
      "text/plain": [
       "<Figure size 432x288 with 1 Axes>"
      ]
     },
     "metadata": {
      "needs_background": "dark"
     },
     "output_type": "display_data"
    }
   ],
   "source": [
    "# Checking with test\n",
    "results = []\n",
    "\n",
    "for a in range(5, 40):\n",
    "    model = train(X_train, y_train, Ridge(alpha=a, solver='svd'))\n",
    "\n",
    "    y_pred = model.predict(X_test)\n",
    "    maeres = mae(y_test, y_pred)\n",
    "    rmseres = (rmse(y_test, y_pred))\n",
    "    results.append([a, rmseres, maeres])\n",
    "\n",
    "\n",
    "res_df = pd.DataFrame(results, columns = ['alpha', 'rmse', 'mae'])\n",
    "res_df.head()\n",
    "\n",
    "res_df.plot.line(x='alpha', y=['rmse'])\n",
    "res_df.plot.line(x='alpha', y=['mae'])"
   ]
  },
  {
   "cell_type": "markdown",
   "metadata": {},
   "source": [
    "I'll go for alpha=10 - whilst MAE continues to improve after this, it's scarcely noticeable.\n",
    "\n",
    "Therefore final model is Ridge(alpha=10, solver='svd').\n",
    "\n",
    "Sequence of functions:\n",
    "\n",
    "* feature_engineering\n",
    "* split_data\n",
    "* feature_dict\n",
    "* vectorizer\n",
    "* train\n",
    "* model.predict()"
   ]
  },
  {
   "cell_type": "code",
   "execution_count": 80,
   "metadata": {},
   "outputs": [
    {
     "data": {
      "text/html": [
       "<div>\n",
       "<style scoped>\n",
       "    .dataframe tbody tr th:only-of-type {\n",
       "        vertical-align: middle;\n",
       "    }\n",
       "\n",
       "    .dataframe tbody tr th {\n",
       "        vertical-align: top;\n",
       "    }\n",
       "\n",
       "    .dataframe thead th {\n",
       "        text-align: right;\n",
       "    }\n",
       "</style>\n",
       "<table border=\"1\" class=\"dataframe\">\n",
       "  <thead>\n",
       "    <tr style=\"text-align: right;\">\n",
       "      <th></th>\n",
       "      <th>LotFrontage</th>\n",
       "      <th>LotArea</th>\n",
       "      <th>OverallQual</th>\n",
       "      <th>OverallCond</th>\n",
       "      <th>YearBuilt</th>\n",
       "      <th>YearRemodAdd</th>\n",
       "      <th>MasVnrArea</th>\n",
       "      <th>BsmtFinSF1</th>\n",
       "      <th>BsmtFinSF2</th>\n",
       "      <th>BsmtUnfSF</th>\n",
       "      <th>...</th>\n",
       "      <th>HeatingQC</th>\n",
       "      <th>KitchenQual</th>\n",
       "      <th>FireplaceQu</th>\n",
       "      <th>GarageType</th>\n",
       "      <th>GarageFinish</th>\n",
       "      <th>Fence</th>\n",
       "      <th>SaleType</th>\n",
       "      <th>SaleCondition</th>\n",
       "      <th>MSSubClass</th>\n",
       "      <th>YrSold</th>\n",
       "    </tr>\n",
       "  </thead>\n",
       "  <tbody>\n",
       "    <tr>\n",
       "      <th>1206</th>\n",
       "      <td>0.0</td>\n",
       "      <td>8900</td>\n",
       "      <td>4</td>\n",
       "      <td>4</td>\n",
       "      <td>1966</td>\n",
       "      <td>1966</td>\n",
       "      <td>0.0</td>\n",
       "      <td>1056</td>\n",
       "      <td>0</td>\n",
       "      <td>0</td>\n",
       "      <td>...</td>\n",
       "      <td>TA</td>\n",
       "      <td>TA</td>\n",
       "      <td>NA</td>\n",
       "      <td>Detchd</td>\n",
       "      <td>Unf</td>\n",
       "      <td>MnPrv</td>\n",
       "      <td>WD</td>\n",
       "      <td>Normal</td>\n",
       "      <td>20</td>\n",
       "      <td>2006</td>\n",
       "    </tr>\n",
       "  </tbody>\n",
       "</table>\n",
       "<p>1 rows × 62 columns</p>\n",
       "</div>"
      ],
      "text/plain": [
       "      LotFrontage  LotArea  OverallQual  OverallCond  YearBuilt  YearRemodAdd  \\\n",
       "1206          0.0     8900            4            4       1966          1966   \n",
       "\n",
       "      MasVnrArea  BsmtFinSF1  BsmtFinSF2  BsmtUnfSF  ...  HeatingQC  \\\n",
       "1206         0.0        1056           0          0  ...         TA   \n",
       "\n",
       "      KitchenQual  FireplaceQu  GarageType  GarageFinish  Fence  SaleType  \\\n",
       "1206           TA           NA      Detchd           Unf  MnPrv        WD   \n",
       "\n",
       "      SaleCondition  MSSubClass  YrSold  \n",
       "1206         Normal          20    2006  \n",
       "\n",
       "[1 rows x 62 columns]"
      ]
     },
     "execution_count": 80,
     "metadata": {},
     "output_type": "execute_result"
    },
    {
     "data": {
      "text/plain": [
       "'[{\"LotFrontage\":0.0,\"LotArea\":8900,\"OverallQual\":4,\"OverallCond\":4,\"YearBuilt\":1966,\"YearRemodAdd\":1966,\"MasVnrArea\":0.0,\"BsmtFinSF1\":1056,\"BsmtFinSF2\":0,\"BsmtUnfSF\":0,\"TotalBsmtSF\":1056,\"1stFlrSF\":1056,\"2ndFlrSF\":0,\"LowQualFinSF\":0,\"GrLivArea\":1056,\"BsmtFullBath\":1,\"BsmtHalfBath\":0,\"FullBath\":1,\"HalfBath\":0,\"BedroomAbvGr\":2,\"KitchenAbvGr\":1,\"TotRmsAbvGrd\":5,\"Fireplaces\":0,\"GarageYrBlt\":1966.0,\"GarageCars\":1,\"GarageArea\":384,\"WoodDeckSF\":0,\"OpenPorchSF\":42,\"EnclosedPorch\":0,\"3SsnPorch\":0,\"ScreenPorch\":0,\"PoolArea\":0,\"MiscVal\":0,\"MoSold\":11,\"MSZoning\":\"RH\",\"LotShape\":\"Reg\",\"LotConfig\":\"Inside\",\"Neighborhood\":\"SawyerW\",\"Condition1\":\"Norm\",\"BldgType\":\"1Fam\",\"HouseStyle\":\"1Story\",\"RoofStyle\":\"Gable\",\"Exterior1st\":\"HdBoard\",\"Exterior2nd\":\"HdBoard\",\"MasVnrType\":\"None\",\"ExterQual\":\"TA\",\"ExterCond\":\"TA\",\"Foundation\":\"CBlock\",\"BsmtQual\":\"TA\",\"BsmtExposure\":\"No\",\"BsmtFinType1\":\"Rec\",\"BsmtFinType2\":\"Unf\",\"HeatingQC\":\"TA\",\"KitchenQual\":\"TA\",\"FireplaceQu\":\"NA\",\"GarageType\":\"Detchd\",\"GarageFinish\":\"Unf\",\"Fence\":\"MnPrv\",\"SaleType\":\"WD\",\"SaleCondition\":\"Normal\",\"MSSubClass\":\"20\",\"YrSold\":\"2006\"}]'"
      ]
     },
     "execution_count": 80,
     "metadata": {},
     "output_type": "execute_result"
    }
   ],
   "source": [
    "# test customer\n",
    "test_cust = df_train.sample()\n",
    "test_cust\n",
    "test_cust.to_json(orient='records')"
   ]
  },
  {
   "cell_type": "code",
   "execution_count": null,
   "metadata": {},
   "outputs": [],
   "source": []
  }
 ],
 "metadata": {
  "kernelspec": {
   "display_name": "Python 3",
   "language": "python",
   "name": "python3"
  },
  "language_info": {
   "codemirror_mode": {
    "name": "ipython",
    "version": 3
   },
   "file_extension": ".py",
   "mimetype": "text/x-python",
   "name": "python",
   "nbconvert_exporter": "python",
   "pygments_lexer": "ipython3",
   "version": "3.8.11"
  }
 },
 "nbformat": 4,
 "nbformat_minor": 4
}
