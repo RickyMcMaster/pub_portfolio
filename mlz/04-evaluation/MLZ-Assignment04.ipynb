{
 "cells": [
  {
   "cell_type": "markdown",
   "source": [
    "## Homework 4"
   ],
   "metadata": {}
  },
  {
   "cell_type": "code",
   "execution_count": 211,
   "source": [
    "import pandas as pd\n",
    "import numpy as np\n",
    "\n",
    "import matplotlib.pyplot as plt\n",
    "import seaborn as sns\n",
    "\n",
    "from sklearn.metrics import roc_curve\n",
    "from sklearn.metrics import auc\n",
    "from sklearn.metrics import roc_auc_score\n",
    "from sklearn.model_selection import train_test_split, KFold\n",
    "from sklearn.feature_extraction import DictVectorizer\n",
    "from sklearn.linear_model import LogisticRegression\n",
    "# from sklearn.model_selection import KFold\n",
    "\n",
    "\n",
    "%matplotlib inline\n",
    "\n",
    "# Multiple cell outputs\n",
    "from IPython.core.interactiveshell import InteractiveShell\n",
    "InteractiveShell.ast_node_interactivity = 'all'"
   ],
   "outputs": [],
   "metadata": {}
  },
  {
   "cell_type": "markdown",
   "source": [
    "Data:\n",
    "\n",
    "- https://github.com/gastonstat/CreditScoring\n",
    "- Also available [here](https://raw.githubusercontent.com/alexeygrigorev/mlbookcamp-code/master/chapter-06-trees/CreditScoring.csv)"
   ],
   "metadata": {}
  },
  {
   "cell_type": "markdown",
   "source": [
    "## Preparation \n",
    "\n",
    "We'll talk about this dataset in more details in week 6. But for now, use the following code to get started"
   ],
   "metadata": {}
  },
  {
   "cell_type": "code",
   "execution_count": 212,
   "source": [
    "df = pd.read_csv('CreditScoring.txt')\n",
    "df.columns = df.columns.str.lower()"
   ],
   "outputs": [],
   "metadata": {}
  },
  {
   "cell_type": "code",
   "execution_count": 213,
   "source": [
    "df.head()"
   ],
   "outputs": [
    {
     "output_type": "execute_result",
     "data": {
      "text/html": [
       "<div>\n",
       "<style scoped>\n",
       "    .dataframe tbody tr th:only-of-type {\n",
       "        vertical-align: middle;\n",
       "    }\n",
       "\n",
       "    .dataframe tbody tr th {\n",
       "        vertical-align: top;\n",
       "    }\n",
       "\n",
       "    .dataframe thead th {\n",
       "        text-align: right;\n",
       "    }\n",
       "</style>\n",
       "<table border=\"1\" class=\"dataframe\">\n",
       "  <thead>\n",
       "    <tr style=\"text-align: right;\">\n",
       "      <th></th>\n",
       "      <th>status</th>\n",
       "      <th>seniority</th>\n",
       "      <th>home</th>\n",
       "      <th>time</th>\n",
       "      <th>age</th>\n",
       "      <th>marital</th>\n",
       "      <th>records</th>\n",
       "      <th>job</th>\n",
       "      <th>expenses</th>\n",
       "      <th>income</th>\n",
       "      <th>assets</th>\n",
       "      <th>debt</th>\n",
       "      <th>amount</th>\n",
       "      <th>price</th>\n",
       "    </tr>\n",
       "  </thead>\n",
       "  <tbody>\n",
       "    <tr>\n",
       "      <th>0</th>\n",
       "      <td>1</td>\n",
       "      <td>9</td>\n",
       "      <td>1</td>\n",
       "      <td>60</td>\n",
       "      <td>30</td>\n",
       "      <td>2</td>\n",
       "      <td>1</td>\n",
       "      <td>3</td>\n",
       "      <td>73</td>\n",
       "      <td>129</td>\n",
       "      <td>0</td>\n",
       "      <td>0</td>\n",
       "      <td>800</td>\n",
       "      <td>846</td>\n",
       "    </tr>\n",
       "    <tr>\n",
       "      <th>1</th>\n",
       "      <td>1</td>\n",
       "      <td>17</td>\n",
       "      <td>1</td>\n",
       "      <td>60</td>\n",
       "      <td>58</td>\n",
       "      <td>3</td>\n",
       "      <td>1</td>\n",
       "      <td>1</td>\n",
       "      <td>48</td>\n",
       "      <td>131</td>\n",
       "      <td>0</td>\n",
       "      <td>0</td>\n",
       "      <td>1000</td>\n",
       "      <td>1658</td>\n",
       "    </tr>\n",
       "    <tr>\n",
       "      <th>2</th>\n",
       "      <td>2</td>\n",
       "      <td>10</td>\n",
       "      <td>2</td>\n",
       "      <td>36</td>\n",
       "      <td>46</td>\n",
       "      <td>2</td>\n",
       "      <td>2</td>\n",
       "      <td>3</td>\n",
       "      <td>90</td>\n",
       "      <td>200</td>\n",
       "      <td>3000</td>\n",
       "      <td>0</td>\n",
       "      <td>2000</td>\n",
       "      <td>2985</td>\n",
       "    </tr>\n",
       "    <tr>\n",
       "      <th>3</th>\n",
       "      <td>1</td>\n",
       "      <td>0</td>\n",
       "      <td>1</td>\n",
       "      <td>60</td>\n",
       "      <td>24</td>\n",
       "      <td>1</td>\n",
       "      <td>1</td>\n",
       "      <td>1</td>\n",
       "      <td>63</td>\n",
       "      <td>182</td>\n",
       "      <td>2500</td>\n",
       "      <td>0</td>\n",
       "      <td>900</td>\n",
       "      <td>1325</td>\n",
       "    </tr>\n",
       "    <tr>\n",
       "      <th>4</th>\n",
       "      <td>1</td>\n",
       "      <td>0</td>\n",
       "      <td>1</td>\n",
       "      <td>36</td>\n",
       "      <td>26</td>\n",
       "      <td>1</td>\n",
       "      <td>1</td>\n",
       "      <td>1</td>\n",
       "      <td>46</td>\n",
       "      <td>107</td>\n",
       "      <td>0</td>\n",
       "      <td>0</td>\n",
       "      <td>310</td>\n",
       "      <td>910</td>\n",
       "    </tr>\n",
       "  </tbody>\n",
       "</table>\n",
       "</div>"
      ],
      "text/plain": [
       "   status  seniority  home  time  age  marital  records  job  expenses  \\\n",
       "0       1          9     1    60   30        2        1    3        73   \n",
       "1       1         17     1    60   58        3        1    1        48   \n",
       "2       2         10     2    36   46        2        2    3        90   \n",
       "3       1          0     1    60   24        1        1    1        63   \n",
       "4       1          0     1    36   26        1        1    1        46   \n",
       "\n",
       "   income  assets  debt  amount  price  \n",
       "0     129       0     0     800    846  \n",
       "1     131       0     0    1000   1658  \n",
       "2     200    3000     0    2000   2985  \n",
       "3     182    2500     0     900   1325  \n",
       "4     107       0     0     310    910  "
      ]
     },
     "metadata": {},
     "execution_count": 213
    }
   ],
   "metadata": {}
  },
  {
   "cell_type": "markdown",
   "source": [
    "Some of the features are encoded as numbers. Use the following code to de-code them:"
   ],
   "metadata": {}
  },
  {
   "cell_type": "code",
   "execution_count": 214,
   "source": [
    "status_values = {\n",
    "    1: 'ok',\n",
    "    2: 'default',\n",
    "    0: 'unk'\n",
    "}\n",
    "\n",
    "df.status = df.status.map(status_values)\n",
    "\n",
    "\n",
    "home_values = {\n",
    "    1: 'rent',\n",
    "    2: 'owner',\n",
    "    3: 'private',\n",
    "    4: 'ignore',\n",
    "    5: 'parents',\n",
    "    6: 'other',\n",
    "    0: 'unk'\n",
    "}\n",
    "\n",
    "df.home = df.home.map(home_values)\n",
    "\n",
    "marital_values = {\n",
    "    1: 'single',\n",
    "    2: 'married',\n",
    "    3: 'widow',\n",
    "    4: 'separated',\n",
    "    5: 'divorced',\n",
    "    0: 'unk'\n",
    "}\n",
    "\n",
    "df.marital = df.marital.map(marital_values)\n",
    "\n",
    "records_values = {\n",
    "    1: 'no',\n",
    "    2: 'yes',\n",
    "    0: 'unk'\n",
    "}\n",
    "\n",
    "df.records = df.records.map(records_values)\n",
    "\n",
    "job_values = {\n",
    "    1: 'fixed',\n",
    "    2: 'partime',\n",
    "    3: 'freelance',\n",
    "    4: 'others',\n",
    "    0: 'unk'\n",
    "}\n",
    "\n",
    "df.job = df.job.map(job_values)"
   ],
   "outputs": [],
   "metadata": {}
  },
  {
   "cell_type": "markdown",
   "source": [
    "Prepare the numerical variables:"
   ],
   "metadata": {}
  },
  {
   "cell_type": "code",
   "execution_count": 215,
   "source": [
    "for c in ['income', 'assets', 'debt']:\n",
    "    df[c] = df[c].replace(to_replace=99999999, value=0)"
   ],
   "outputs": [],
   "metadata": {}
  },
  {
   "cell_type": "markdown",
   "source": [
    "Remove clients with unknown default status"
   ],
   "metadata": {}
  },
  {
   "cell_type": "code",
   "execution_count": 216,
   "source": [
    "df = df[df.status != 'unk'].reset_index(drop=True)"
   ],
   "outputs": [],
   "metadata": {}
  },
  {
   "cell_type": "markdown",
   "source": [
    "Create the target variable"
   ],
   "metadata": {}
  },
  {
   "cell_type": "code",
   "execution_count": 217,
   "source": [
    "df['default'] = (df.status == 'default').astype(int)\n",
    "del df['status']"
   ],
   "outputs": [],
   "metadata": {}
  },
  {
   "cell_type": "code",
   "execution_count": 218,
   "source": [
    "df.head()\n",
    "np.sort(df.default.unique())\n",
    "np.sort(df.time.unique())\n",
    "np.sort(df.seniority.unique())\n",
    "np.sort(df.assets.unique())\n"
   ],
   "outputs": [
    {
     "output_type": "execute_result",
     "data": {
      "text/html": [
       "<div>\n",
       "<style scoped>\n",
       "    .dataframe tbody tr th:only-of-type {\n",
       "        vertical-align: middle;\n",
       "    }\n",
       "\n",
       "    .dataframe tbody tr th {\n",
       "        vertical-align: top;\n",
       "    }\n",
       "\n",
       "    .dataframe thead th {\n",
       "        text-align: right;\n",
       "    }\n",
       "</style>\n",
       "<table border=\"1\" class=\"dataframe\">\n",
       "  <thead>\n",
       "    <tr style=\"text-align: right;\">\n",
       "      <th></th>\n",
       "      <th>seniority</th>\n",
       "      <th>home</th>\n",
       "      <th>time</th>\n",
       "      <th>age</th>\n",
       "      <th>marital</th>\n",
       "      <th>records</th>\n",
       "      <th>job</th>\n",
       "      <th>expenses</th>\n",
       "      <th>income</th>\n",
       "      <th>assets</th>\n",
       "      <th>debt</th>\n",
       "      <th>amount</th>\n",
       "      <th>price</th>\n",
       "      <th>default</th>\n",
       "    </tr>\n",
       "  </thead>\n",
       "  <tbody>\n",
       "    <tr>\n",
       "      <th>0</th>\n",
       "      <td>9</td>\n",
       "      <td>rent</td>\n",
       "      <td>60</td>\n",
       "      <td>30</td>\n",
       "      <td>married</td>\n",
       "      <td>no</td>\n",
       "      <td>freelance</td>\n",
       "      <td>73</td>\n",
       "      <td>129</td>\n",
       "      <td>0</td>\n",
       "      <td>0</td>\n",
       "      <td>800</td>\n",
       "      <td>846</td>\n",
       "      <td>0</td>\n",
       "    </tr>\n",
       "    <tr>\n",
       "      <th>1</th>\n",
       "      <td>17</td>\n",
       "      <td>rent</td>\n",
       "      <td>60</td>\n",
       "      <td>58</td>\n",
       "      <td>widow</td>\n",
       "      <td>no</td>\n",
       "      <td>fixed</td>\n",
       "      <td>48</td>\n",
       "      <td>131</td>\n",
       "      <td>0</td>\n",
       "      <td>0</td>\n",
       "      <td>1000</td>\n",
       "      <td>1658</td>\n",
       "      <td>0</td>\n",
       "    </tr>\n",
       "    <tr>\n",
       "      <th>2</th>\n",
       "      <td>10</td>\n",
       "      <td>owner</td>\n",
       "      <td>36</td>\n",
       "      <td>46</td>\n",
       "      <td>married</td>\n",
       "      <td>yes</td>\n",
       "      <td>freelance</td>\n",
       "      <td>90</td>\n",
       "      <td>200</td>\n",
       "      <td>3000</td>\n",
       "      <td>0</td>\n",
       "      <td>2000</td>\n",
       "      <td>2985</td>\n",
       "      <td>1</td>\n",
       "    </tr>\n",
       "    <tr>\n",
       "      <th>3</th>\n",
       "      <td>0</td>\n",
       "      <td>rent</td>\n",
       "      <td>60</td>\n",
       "      <td>24</td>\n",
       "      <td>single</td>\n",
       "      <td>no</td>\n",
       "      <td>fixed</td>\n",
       "      <td>63</td>\n",
       "      <td>182</td>\n",
       "      <td>2500</td>\n",
       "      <td>0</td>\n",
       "      <td>900</td>\n",
       "      <td>1325</td>\n",
       "      <td>0</td>\n",
       "    </tr>\n",
       "    <tr>\n",
       "      <th>4</th>\n",
       "      <td>0</td>\n",
       "      <td>rent</td>\n",
       "      <td>36</td>\n",
       "      <td>26</td>\n",
       "      <td>single</td>\n",
       "      <td>no</td>\n",
       "      <td>fixed</td>\n",
       "      <td>46</td>\n",
       "      <td>107</td>\n",
       "      <td>0</td>\n",
       "      <td>0</td>\n",
       "      <td>310</td>\n",
       "      <td>910</td>\n",
       "      <td>0</td>\n",
       "    </tr>\n",
       "  </tbody>\n",
       "</table>\n",
       "</div>"
      ],
      "text/plain": [
       "   seniority   home  time  age  marital records        job  expenses  income  \\\n",
       "0          9   rent    60   30  married      no  freelance        73     129   \n",
       "1         17   rent    60   58    widow      no      fixed        48     131   \n",
       "2         10  owner    36   46  married     yes  freelance        90     200   \n",
       "3          0   rent    60   24   single      no      fixed        63     182   \n",
       "4          0   rent    36   26   single      no      fixed        46     107   \n",
       "\n",
       "   assets  debt  amount  price  default  \n",
       "0       0     0     800    846        0  \n",
       "1       0     0    1000   1658        0  \n",
       "2    3000     0    2000   2985        1  \n",
       "3    2500     0     900   1325        0  \n",
       "4       0     0     310    910        0  "
      ]
     },
     "metadata": {},
     "execution_count": 218
    },
    {
     "output_type": "execute_result",
     "data": {
      "text/plain": [
       "array([0, 1])"
      ]
     },
     "metadata": {},
     "execution_count": 218
    },
    {
     "output_type": "execute_result",
     "data": {
      "text/plain": [
       "array([ 6, 12, 18, 24, 30, 36, 42, 48, 54, 60, 72])"
      ]
     },
     "metadata": {},
     "execution_count": 218
    },
    {
     "output_type": "execute_result",
     "data": {
      "text/plain": [
       "array([ 0,  1,  2,  3,  4,  5,  6,  7,  8,  9, 10, 11, 12, 13, 14, 15, 16,\n",
       "       17, 18, 19, 20, 21, 22, 23, 24, 25, 26, 27, 28, 29, 30, 31, 32, 33,\n",
       "       34, 35, 36, 37, 38, 39, 40, 41, 42, 43, 45, 47, 48])"
      ]
     },
     "metadata": {},
     "execution_count": 218
    },
    {
     "output_type": "execute_result",
     "data": {
      "text/plain": [
       "array([     0,     18,    300,    450,    500,    700,    750,    800,\n",
       "          875,   1000,   1100,   1150,   1200,   1434,   1500,   1600,\n",
       "         1750,   1800,   2000,   2100,   2200,   2250,   2500,   2600,\n",
       "         2650,   2700,   2800,   2900,   3000,   3100,   3144,   3200,\n",
       "         3216,   3400,   3436,   3500,   3572,   3600,   3700,   3750,\n",
       "         3850,   4000,   4030,   4100,   4162,   4200,   4300,   4500,\n",
       "         4600,   4650,   4700,   4750,   4800,   4900,   5000,   5050,\n",
       "         5100,   5200,   5500,   5800,   6000,   6100,   6200,   6300,\n",
       "         6500,   6550,   6700,   7000,   7100,   7500,   7600,   7700,\n",
       "         7750,   8000,   8500,   9000,   9200,   9500,   9800,   9900,\n",
       "        10000,  10500,  11000,  11500,  11600,  11700,  11800,  11900,\n",
       "        12000,  12500,  13000,  13500,  13600,  14000,  14500,  14800,\n",
       "        15000,  15500,  15750,  15900,  16000,  16200,  16500,  17000,\n",
       "        18000,  18500,  19000,  19400,  20000,  20500,  21000,  21500,\n",
       "        22000,  23000,  24000,  25000,  25300,  26000,  27000,  28000,\n",
       "        29000,  29500,  30000,  31000,  32000,  35000,  36000,  37000,\n",
       "        38000,  39000,  40000,  44000,  45000,  47000,  47500,  48000,\n",
       "        50000,  53000,  53500,  54000,  55000,  59000,  60000,  65000,\n",
       "        70000,  75000,  78000,  80000,  86000,  90000,  93000,  97000,\n",
       "       100000, 110000, 120000, 150000, 200000, 250000, 300000])"
      ]
     },
     "metadata": {},
     "execution_count": 218
    }
   ],
   "metadata": {}
  },
  {
   "cell_type": "markdown",
   "source": [
    "## Your code"
   ],
   "metadata": {}
  },
  {
   "cell_type": "markdown",
   "source": [
    "What are the categorical variables? What are the numerical?"
   ],
   "metadata": {}
  },
  {
   "cell_type": "code",
   "execution_count": 219,
   "source": [
    "numerical = ['expenses', 'age', 'seniority', 'time', 'income', 'assets', 'debt', 'amount','price']\n",
    "categorical = ['home', 'marital', 'records',\t'job',]\n"
   ],
   "outputs": [],
   "metadata": {}
  },
  {
   "cell_type": "code",
   "execution_count": null,
   "source": [],
   "outputs": [],
   "metadata": {}
  },
  {
   "cell_type": "markdown",
   "source": [
    "Split the data into 3 parts: train/validation/test with 60%/20%/20% distribution. Use `train_test_split` funciton for that with `random_state=1`"
   ],
   "metadata": {}
  },
  {
   "cell_type": "code",
   "execution_count": 220,
   "source": [
    "df_train_full, df_test = train_test_split(df, test_size=0.2, random_state=1)\n",
    "df_train, df_val = train_test_split(df_train_full, test_size=0.25, random_state=1)\n",
    "\n",
    "y_train = df_train.default.values\n",
    "y_val = df_val.default.values\n",
    "\n",
    "len(df), len(df_train), len(df_val), len(df_test)\n",
    "len(df_train) + len(df_val) + len(df_test)\n"
   ],
   "outputs": [
    {
     "output_type": "execute_result",
     "data": {
      "text/plain": [
       "(4454, 2672, 891, 891)"
      ]
     },
     "metadata": {},
     "execution_count": 220
    },
    {
     "output_type": "execute_result",
     "data": {
      "text/plain": [
       "4454"
      ]
     },
     "metadata": {},
     "execution_count": 220
    }
   ],
   "metadata": {}
  },
  {
   "cell_type": "markdown",
   "source": [
    "## Question 1\n",
    "\n",
    "ROC AUC could also be used to evaluate feature importance of numerical variables. \n",
    "\n",
    "Let's do that\n",
    "\n",
    "* For each numerical variable, use it as score and compute AUC with the \"default\" variable\n",
    "* Use the training dataset for that\n",
    "\n",
    "\n",
    "If your AUC is < 0.5, invert this variable by putting \"-\" in front\n",
    "\n",
    "(e.g. `-df_train['expenses']`)\n",
    "\n",
    "AUC can go below 0.5 if the variable is negatively correlated with the target varialble. You can change the direction of the correlation by negating this variable - then negative correlation becomes positive."
   ],
   "metadata": {}
  },
  {
   "cell_type": "code",
   "execution_count": 221,
   "source": [
    "df_train[numerical].head()\n",
    "# roc_auc_score(df_train.default, df_train.expenses)\n",
    "\n",
    "auc_dict = {}\n",
    "\n",
    "for n in numerical:\n",
    "    auc_dict[f\"{n}\"] = roc_auc_score(df_train.default, df_train[n])    \n",
    "\n",
    "auc_dict"
   ],
   "outputs": [
    {
     "output_type": "execute_result",
     "data": {
      "text/html": [
       "<div>\n",
       "<style scoped>\n",
       "    .dataframe tbody tr th:only-of-type {\n",
       "        vertical-align: middle;\n",
       "    }\n",
       "\n",
       "    .dataframe tbody tr th {\n",
       "        vertical-align: top;\n",
       "    }\n",
       "\n",
       "    .dataframe thead th {\n",
       "        text-align: right;\n",
       "    }\n",
       "</style>\n",
       "<table border=\"1\" class=\"dataframe\">\n",
       "  <thead>\n",
       "    <tr style=\"text-align: right;\">\n",
       "      <th></th>\n",
       "      <th>expenses</th>\n",
       "      <th>age</th>\n",
       "      <th>seniority</th>\n",
       "      <th>time</th>\n",
       "      <th>income</th>\n",
       "      <th>assets</th>\n",
       "      <th>debt</th>\n",
       "      <th>amount</th>\n",
       "      <th>price</th>\n",
       "    </tr>\n",
       "  </thead>\n",
       "  <tbody>\n",
       "    <tr>\n",
       "      <th>1877</th>\n",
       "      <td>45</td>\n",
       "      <td>28</td>\n",
       "      <td>12</td>\n",
       "      <td>24</td>\n",
       "      <td>102</td>\n",
       "      <td>0</td>\n",
       "      <td>0</td>\n",
       "      <td>700</td>\n",
       "      <td>1229</td>\n",
       "    </tr>\n",
       "    <tr>\n",
       "      <th>1803</th>\n",
       "      <td>60</td>\n",
       "      <td>28</td>\n",
       "      <td>4</td>\n",
       "      <td>60</td>\n",
       "      <td>143</td>\n",
       "      <td>0</td>\n",
       "      <td>0</td>\n",
       "      <td>1150</td>\n",
       "      <td>1630</td>\n",
       "    </tr>\n",
       "    <tr>\n",
       "      <th>3400</th>\n",
       "      <td>35</td>\n",
       "      <td>27</td>\n",
       "      <td>0</td>\n",
       "      <td>60</td>\n",
       "      <td>295</td>\n",
       "      <td>6000</td>\n",
       "      <td>0</td>\n",
       "      <td>1950</td>\n",
       "      <td>2208</td>\n",
       "    </tr>\n",
       "    <tr>\n",
       "      <th>3529</th>\n",
       "      <td>45</td>\n",
       "      <td>28</td>\n",
       "      <td>6</td>\n",
       "      <td>48</td>\n",
       "      <td>114</td>\n",
       "      <td>3500</td>\n",
       "      <td>0</td>\n",
       "      <td>650</td>\n",
       "      <td>1255</td>\n",
       "    </tr>\n",
       "    <tr>\n",
       "      <th>1721</th>\n",
       "      <td>60</td>\n",
       "      <td>42</td>\n",
       "      <td>12</td>\n",
       "      <td>36</td>\n",
       "      <td>0</td>\n",
       "      <td>15000</td>\n",
       "      <td>0</td>\n",
       "      <td>1000</td>\n",
       "      <td>1500</td>\n",
       "    </tr>\n",
       "  </tbody>\n",
       "</table>\n",
       "</div>"
      ],
      "text/plain": [
       "      expenses  age  seniority  time  income  assets  debt  amount  price\n",
       "1877        45   28         12    24     102       0     0     700   1229\n",
       "1803        60   28          4    60     143       0     0    1150   1630\n",
       "3400        35   27          0    60     295    6000     0    1950   2208\n",
       "3529        45   28          6    48     114    3500     0     650   1255\n",
       "1721        60   42         12    36       0   15000     0    1000   1500"
      ]
     },
     "metadata": {},
     "execution_count": 221
    },
    {
     "output_type": "execute_result",
     "data": {
      "text/plain": [
       "{'expenses': 0.4990815782782989,\n",
       " 'age': 0.4267066727500061,\n",
       " 'seniority': 0.2906221375508058,\n",
       " 'time': 0.5608662489595051,\n",
       " 'income': 0.31799333386736695,\n",
       " 'assets': 0.35139574328771983,\n",
       " 'debt': 0.49521703242164505,\n",
       " 'amount': 0.5910773431595518,\n",
       " 'price': 0.5043329862114843}"
      ]
     },
     "metadata": {},
     "execution_count": 221
    }
   ],
   "metadata": {}
  },
  {
   "cell_type": "markdown",
   "source": [
    "Which numerical variable (among the following 4) has the highest AUC?\n",
    "\n",
    "- seniority\n",
    "- time\n",
    "- income\n",
    "- debt"
   ],
   "metadata": {}
  },
  {
   "cell_type": "markdown",
   "source": [
    "time therefore has the highest AUC."
   ],
   "metadata": {}
  },
  {
   "cell_type": "markdown",
   "source": [
    "## Training the model\n",
    "\n",
    "From now on, use these columns only:\n",
    "\n",
    "```\n",
    "['seniority', 'income', 'assets', 'records', 'job', 'home']\n",
    "```\n",
    "\n",
    "Apply one-hot-encoding using `DictVectorizer` and train the logistic regression with these parameters:\n",
    "\n",
    "```\n",
    "LogisticRegression(solver='liblinear', C=1.0, max_iter=1000)\n",
    "```"
   ],
   "metadata": {}
  },
  {
   "cell_type": "code",
   "execution_count": 222,
   "source": [
    "sel_cols = ['seniority', 'income', 'assets', 'records', 'job', 'home']\n",
    "del df_train['default']\n",
    "del df_val['default']\n",
    "del df_test['default']\n",
    "\n",
    "datasets = [df_train, df_val, df_test]\n",
    "\n",
    "for d in datasets:\n",
    "    d = d[sel_cols].copy()\n",
    "    d.head()\n"
   ],
   "outputs": [
    {
     "output_type": "execute_result",
     "data": {
      "text/html": [
       "<div>\n",
       "<style scoped>\n",
       "    .dataframe tbody tr th:only-of-type {\n",
       "        vertical-align: middle;\n",
       "    }\n",
       "\n",
       "    .dataframe tbody tr th {\n",
       "        vertical-align: top;\n",
       "    }\n",
       "\n",
       "    .dataframe thead th {\n",
       "        text-align: right;\n",
       "    }\n",
       "</style>\n",
       "<table border=\"1\" class=\"dataframe\">\n",
       "  <thead>\n",
       "    <tr style=\"text-align: right;\">\n",
       "      <th></th>\n",
       "      <th>seniority</th>\n",
       "      <th>income</th>\n",
       "      <th>assets</th>\n",
       "      <th>records</th>\n",
       "      <th>job</th>\n",
       "      <th>home</th>\n",
       "    </tr>\n",
       "  </thead>\n",
       "  <tbody>\n",
       "    <tr>\n",
       "      <th>1877</th>\n",
       "      <td>12</td>\n",
       "      <td>102</td>\n",
       "      <td>0</td>\n",
       "      <td>no</td>\n",
       "      <td>fixed</td>\n",
       "      <td>private</td>\n",
       "    </tr>\n",
       "    <tr>\n",
       "      <th>1803</th>\n",
       "      <td>4</td>\n",
       "      <td>143</td>\n",
       "      <td>0</td>\n",
       "      <td>no</td>\n",
       "      <td>fixed</td>\n",
       "      <td>other</td>\n",
       "    </tr>\n",
       "    <tr>\n",
       "      <th>3400</th>\n",
       "      <td>0</td>\n",
       "      <td>295</td>\n",
       "      <td>6000</td>\n",
       "      <td>no</td>\n",
       "      <td>fixed</td>\n",
       "      <td>owner</td>\n",
       "    </tr>\n",
       "    <tr>\n",
       "      <th>3529</th>\n",
       "      <td>6</td>\n",
       "      <td>114</td>\n",
       "      <td>3500</td>\n",
       "      <td>no</td>\n",
       "      <td>fixed</td>\n",
       "      <td>owner</td>\n",
       "    </tr>\n",
       "    <tr>\n",
       "      <th>1721</th>\n",
       "      <td>12</td>\n",
       "      <td>0</td>\n",
       "      <td>15000</td>\n",
       "      <td>no</td>\n",
       "      <td>freelance</td>\n",
       "      <td>owner</td>\n",
       "    </tr>\n",
       "  </tbody>\n",
       "</table>\n",
       "</div>"
      ],
      "text/plain": [
       "      seniority  income  assets records        job     home\n",
       "1877         12     102       0      no      fixed  private\n",
       "1803          4     143       0      no      fixed    other\n",
       "3400          0     295    6000      no      fixed    owner\n",
       "3529          6     114    3500      no      fixed    owner\n",
       "1721         12       0   15000      no  freelance    owner"
      ]
     },
     "metadata": {},
     "execution_count": 222
    },
    {
     "output_type": "execute_result",
     "data": {
      "text/html": [
       "<div>\n",
       "<style scoped>\n",
       "    .dataframe tbody tr th:only-of-type {\n",
       "        vertical-align: middle;\n",
       "    }\n",
       "\n",
       "    .dataframe tbody tr th {\n",
       "        vertical-align: top;\n",
       "    }\n",
       "\n",
       "    .dataframe thead th {\n",
       "        text-align: right;\n",
       "    }\n",
       "</style>\n",
       "<table border=\"1\" class=\"dataframe\">\n",
       "  <thead>\n",
       "    <tr style=\"text-align: right;\">\n",
       "      <th></th>\n",
       "      <th>seniority</th>\n",
       "      <th>income</th>\n",
       "      <th>assets</th>\n",
       "      <th>records</th>\n",
       "      <th>job</th>\n",
       "      <th>home</th>\n",
       "    </tr>\n",
       "  </thead>\n",
       "  <tbody>\n",
       "    <tr>\n",
       "      <th>3346</th>\n",
       "      <td>15</td>\n",
       "      <td>178</td>\n",
       "      <td>30000</td>\n",
       "      <td>yes</td>\n",
       "      <td>freelance</td>\n",
       "      <td>owner</td>\n",
       "    </tr>\n",
       "    <tr>\n",
       "      <th>2984</th>\n",
       "      <td>2</td>\n",
       "      <td>184</td>\n",
       "      <td>4000</td>\n",
       "      <td>no</td>\n",
       "      <td>fixed</td>\n",
       "      <td>owner</td>\n",
       "    </tr>\n",
       "    <tr>\n",
       "      <th>322</th>\n",
       "      <td>1</td>\n",
       "      <td>90</td>\n",
       "      <td>0</td>\n",
       "      <td>no</td>\n",
       "      <td>fixed</td>\n",
       "      <td>parents</td>\n",
       "    </tr>\n",
       "    <tr>\n",
       "      <th>11</th>\n",
       "      <td>7</td>\n",
       "      <td>121</td>\n",
       "      <td>3000</td>\n",
       "      <td>no</td>\n",
       "      <td>fixed</td>\n",
       "      <td>owner</td>\n",
       "    </tr>\n",
       "    <tr>\n",
       "      <th>1041</th>\n",
       "      <td>9</td>\n",
       "      <td>178</td>\n",
       "      <td>50000</td>\n",
       "      <td>no</td>\n",
       "      <td>freelance</td>\n",
       "      <td>owner</td>\n",
       "    </tr>\n",
       "  </tbody>\n",
       "</table>\n",
       "</div>"
      ],
      "text/plain": [
       "      seniority  income  assets records        job     home\n",
       "3346         15     178   30000     yes  freelance    owner\n",
       "2984          2     184    4000      no      fixed    owner\n",
       "322           1      90       0      no      fixed  parents\n",
       "11            7     121    3000      no      fixed    owner\n",
       "1041          9     178   50000      no  freelance    owner"
      ]
     },
     "metadata": {},
     "execution_count": 222
    },
    {
     "output_type": "execute_result",
     "data": {
      "text/html": [
       "<div>\n",
       "<style scoped>\n",
       "    .dataframe tbody tr th:only-of-type {\n",
       "        vertical-align: middle;\n",
       "    }\n",
       "\n",
       "    .dataframe tbody tr th {\n",
       "        vertical-align: top;\n",
       "    }\n",
       "\n",
       "    .dataframe thead th {\n",
       "        text-align: right;\n",
       "    }\n",
       "</style>\n",
       "<table border=\"1\" class=\"dataframe\">\n",
       "  <thead>\n",
       "    <tr style=\"text-align: right;\">\n",
       "      <th></th>\n",
       "      <th>seniority</th>\n",
       "      <th>income</th>\n",
       "      <th>assets</th>\n",
       "      <th>records</th>\n",
       "      <th>job</th>\n",
       "      <th>home</th>\n",
       "    </tr>\n",
       "  </thead>\n",
       "  <tbody>\n",
       "    <tr>\n",
       "      <th>808</th>\n",
       "      <td>1</td>\n",
       "      <td>28</td>\n",
       "      <td>0</td>\n",
       "      <td>no</td>\n",
       "      <td>fixed</td>\n",
       "      <td>parents</td>\n",
       "    </tr>\n",
       "    <tr>\n",
       "      <th>1412</th>\n",
       "      <td>14</td>\n",
       "      <td>140</td>\n",
       "      <td>3000</td>\n",
       "      <td>no</td>\n",
       "      <td>fixed</td>\n",
       "      <td>private</td>\n",
       "    </tr>\n",
       "    <tr>\n",
       "      <th>1179</th>\n",
       "      <td>5</td>\n",
       "      <td>82</td>\n",
       "      <td>0</td>\n",
       "      <td>no</td>\n",
       "      <td>fixed</td>\n",
       "      <td>other</td>\n",
       "    </tr>\n",
       "    <tr>\n",
       "      <th>1669</th>\n",
       "      <td>2</td>\n",
       "      <td>318</td>\n",
       "      <td>0</td>\n",
       "      <td>no</td>\n",
       "      <td>fixed</td>\n",
       "      <td>parents</td>\n",
       "    </tr>\n",
       "    <tr>\n",
       "      <th>2051</th>\n",
       "      <td>0</td>\n",
       "      <td>140</td>\n",
       "      <td>3000</td>\n",
       "      <td>no</td>\n",
       "      <td>fixed</td>\n",
       "      <td>private</td>\n",
       "    </tr>\n",
       "  </tbody>\n",
       "</table>\n",
       "</div>"
      ],
      "text/plain": [
       "      seniority  income  assets records    job     home\n",
       "808           1      28       0      no  fixed  parents\n",
       "1412         14     140    3000      no  fixed  private\n",
       "1179          5      82       0      no  fixed    other\n",
       "1669          2     318       0      no  fixed  parents\n",
       "2051          0     140    3000      no  fixed  private"
      ]
     },
     "metadata": {},
     "execution_count": 222
    }
   ],
   "metadata": {}
  },
  {
   "cell_type": "code",
   "execution_count": 223,
   "source": [
    "train_dict = df_train.to_dict(orient='records')\n",
    "train_dict[0]\n",
    "dv = DictVectorizer(sparse=False)\n",
    "dv.fit(train_dict)\n",
    "dv.get_feature_names()"
   ],
   "outputs": [
    {
     "output_type": "execute_result",
     "data": {
      "text/plain": [
       "{'seniority': 12,\n",
       " 'home': 'private',\n",
       " 'time': 24,\n",
       " 'age': 28,\n",
       " 'marital': 'married',\n",
       " 'records': 'no',\n",
       " 'job': 'fixed',\n",
       " 'expenses': 45,\n",
       " 'income': 102,\n",
       " 'assets': 0,\n",
       " 'debt': 0,\n",
       " 'amount': 700,\n",
       " 'price': 1229}"
      ]
     },
     "metadata": {},
     "execution_count": 223
    },
    {
     "output_type": "execute_result",
     "data": {
      "text/plain": [
       "DictVectorizer(sparse=False)"
      ]
     },
     "metadata": {},
     "execution_count": 223
    },
    {
     "output_type": "execute_result",
     "data": {
      "text/plain": [
       "['age',\n",
       " 'amount',\n",
       " 'assets',\n",
       " 'debt',\n",
       " 'expenses',\n",
       " 'home=ignore',\n",
       " 'home=other',\n",
       " 'home=owner',\n",
       " 'home=parents',\n",
       " 'home=private',\n",
       " 'home=rent',\n",
       " 'home=unk',\n",
       " 'income',\n",
       " 'job=fixed',\n",
       " 'job=freelance',\n",
       " 'job=others',\n",
       " 'job=partime',\n",
       " 'job=unk',\n",
       " 'marital=divorced',\n",
       " 'marital=married',\n",
       " 'marital=separated',\n",
       " 'marital=single',\n",
       " 'marital=unk',\n",
       " 'marital=widow',\n",
       " 'price',\n",
       " 'records=no',\n",
       " 'records=yes',\n",
       " 'seniority',\n",
       " 'time']"
      ]
     },
     "metadata": {},
     "execution_count": 223
    }
   ],
   "metadata": {}
  },
  {
   "cell_type": "code",
   "execution_count": 224,
   "source": [
    "X_train = dv.transform(train_dict)\n",
    "X_train.shape\n",
    "len(X_train)\n",
    "y_train.shape\n",
    "len(y_train)"
   ],
   "outputs": [
    {
     "output_type": "execute_result",
     "data": {
      "text/plain": [
       "(2672, 29)"
      ]
     },
     "metadata": {},
     "execution_count": 224
    },
    {
     "output_type": "execute_result",
     "data": {
      "text/plain": [
       "2672"
      ]
     },
     "metadata": {},
     "execution_count": 224
    },
    {
     "output_type": "execute_result",
     "data": {
      "text/plain": [
       "(2672,)"
      ]
     },
     "metadata": {},
     "execution_count": 224
    },
    {
     "output_type": "execute_result",
     "data": {
      "text/plain": [
       "2672"
      ]
     },
     "metadata": {},
     "execution_count": 224
    }
   ],
   "metadata": {}
  },
  {
   "cell_type": "code",
   "execution_count": 225,
   "source": [
    "model = LogisticRegression(solver='liblinear', C=1.0, max_iter=1000)\n",
    "model.fit(X_train, y_train)\n",
    "model.intercept_\n",
    "model.coef_[0].round(3)"
   ],
   "outputs": [
    {
     "output_type": "execute_result",
     "data": {
      "text/plain": [
       "LogisticRegression(max_iter=1000, solver='liblinear')"
      ]
     },
     "metadata": {},
     "execution_count": 225
    },
    {
     "output_type": "execute_result",
     "data": {
      "text/plain": [
       "array([-0.06074117])"
      ]
     },
     "metadata": {},
     "execution_count": 225
    },
    {
     "output_type": "execute_result",
     "data": {
      "text/plain": [
       "array([ 0.008,  0.002, -0.   ,  0.   ,  0.016,  0.029,  0.325, -0.572,\n",
       "       -0.221,  0.155,  0.216,  0.007, -0.009, -0.61 , -0.229, -0.051,\n",
       "        0.825,  0.004, -0.08 , -0.431,  0.353,  0.057, -0.01 ,  0.049,\n",
       "       -0.001, -0.913,  0.852, -0.079,  0.004])"
      ]
     },
     "metadata": {},
     "execution_count": 225
    }
   ],
   "metadata": {}
  },
  {
   "cell_type": "markdown",
   "source": [
    "## Question 2\n",
    "\n",
    "What's the AUC of this model on the validation dataset? (round to 3 digits)\n",
    "\n",
    "- 0.512\n",
    "- 0.612\n",
    "- 0.712\n",
    "- 0.812"
   ],
   "metadata": {}
  },
  {
   "cell_type": "code",
   "execution_count": 226,
   "source": [
    "val_dict = df_val.to_dict(orient='records')\n",
    "X_val = dv.transform(val_dict)\n",
    "y_pred = model.predict_proba(X_val)[:, 1]\n",
    "y_pred[::10].round(3)"
   ],
   "outputs": [
    {
     "output_type": "execute_result",
     "data": {
      "text/plain": [
       "array([0.579, 0.268, 0.601, 0.141, 0.321, 0.301, 0.076, 0.005, 0.258,\n",
       "       0.609, 0.843, 0.014, 0.102, 0.046, 0.049, 0.426, 0.167, 0.471,\n",
       "       0.   , 0.147, 0.428, 0.078, 0.094, 0.066, 0.266, 0.042, 0.11 ,\n",
       "       0.544, 0.142, 0.101, 0.117, 0.654, 0.416, 0.475, 0.029, 0.327,\n",
       "       0.573, 0.008, 0.241, 0.746, 0.08 , 0.573, 0.02 , 0.432, 0.054,\n",
       "       0.79 , 0.049, 0.203, 0.046, 0.74 , 0.43 , 0.897, 0.757, 0.044,\n",
       "       0.232, 0.28 , 0.179, 0.235, 0.214, 0.235, 0.575, 0.273, 0.152,\n",
       "       0.556, 0.733, 0.449, 0.064, 0.562, 0.098, 0.216, 0.017, 0.623,\n",
       "       0.466, 0.281, 0.333, 0.207, 0.038, 0.222, 0.38 , 0.784, 0.263,\n",
       "       0.352, 0.042, 0.279, 0.026, 0.137, 0.079, 0.198, 0.673, 0.568])"
      ]
     },
     "metadata": {},
     "execution_count": 226
    }
   ],
   "metadata": {}
  },
  {
   "cell_type": "code",
   "execution_count": 227,
   "source": [
    "roc_auc_score(y_val, y_pred).round(3)"
   ],
   "outputs": [
    {
     "output_type": "execute_result",
     "data": {
      "text/plain": [
       "0.848"
      ]
     },
     "metadata": {},
     "execution_count": 227
    }
   ],
   "metadata": {}
  },
  {
   "cell_type": "markdown",
   "source": [
    "AUC is therefore closest to 0.812"
   ],
   "metadata": {}
  },
  {
   "cell_type": "markdown",
   "source": [
    "## Question 3\n",
    "\n",
    "Now let's compute precision and recall for our model.\n",
    "\n",
    "* Evaluate the model on all thresholds from 0.0 to 1.0 with step 0.01\n",
    "* For each threshold, compute precision and recall\n",
    "* Plot them"
   ],
   "metadata": {}
  },
  {
   "cell_type": "code",
   "execution_count": 228,
   "source": [
    "\n",
    "def tpr_fpr_dataframe(y_val, y_pred):\n",
    "    scores = []\n",
    "\n",
    "    thresholds = np.linspace(0, 1, 101)\n",
    "\n",
    "    for t in thresholds:\n",
    "        tp = ((y_pred >= t) & (y_val == 1)).sum()\n",
    "        fp = ((y_pred >= t) & (y_val == 0)).sum()\n",
    "        fn = ((y_pred < t) & (y_val == 1)).sum()\n",
    "        tn = ((y_pred < t) & (y_val == 0)).sum()\n",
    "\n",
    "        scores.append((t, tp, fp, fn, tn))\n",
    "\n",
    "    df_scores = pd.DataFrame(scores)\n",
    "    df_scores.columns = ['threshold', 'tp', 'fp', 'fn', 'tn']\n",
    "\n",
    "    df_scores['tpr'] = df_scores.tp / (df_scores.tp + df_scores.fn)\n",
    "    df_scores['fpr'] = df_scores.fp / (df_scores.fp + df_scores.tn)\n",
    "    df_scores['precision'] = df_scores.tp / (df_scores.tp + df_scores.fp)\n",
    "    df_scores['recall'] = df_scores.tp / (df_scores.tp + df_scores.fn)\n",
    "    \n",
    "    return df_scores"
   ],
   "outputs": [],
   "metadata": {}
  },
  {
   "cell_type": "code",
   "execution_count": 229,
   "source": [
    "df_scores = tpr_fpr_dataframe(y_val, y_pred)\n",
    "df_scores[::10]"
   ],
   "outputs": [
    {
     "output_type": "execute_result",
     "data": {
      "text/html": [
       "<div>\n",
       "<style scoped>\n",
       "    .dataframe tbody tr th:only-of-type {\n",
       "        vertical-align: middle;\n",
       "    }\n",
       "\n",
       "    .dataframe tbody tr th {\n",
       "        vertical-align: top;\n",
       "    }\n",
       "\n",
       "    .dataframe thead th {\n",
       "        text-align: right;\n",
       "    }\n",
       "</style>\n",
       "<table border=\"1\" class=\"dataframe\">\n",
       "  <thead>\n",
       "    <tr style=\"text-align: right;\">\n",
       "      <th></th>\n",
       "      <th>threshold</th>\n",
       "      <th>tp</th>\n",
       "      <th>fp</th>\n",
       "      <th>fn</th>\n",
       "      <th>tn</th>\n",
       "      <th>tpr</th>\n",
       "      <th>fpr</th>\n",
       "      <th>precision</th>\n",
       "      <th>recall</th>\n",
       "    </tr>\n",
       "  </thead>\n",
       "  <tbody>\n",
       "    <tr>\n",
       "      <th>0</th>\n",
       "      <td>0.0</td>\n",
       "      <td>246</td>\n",
       "      <td>645</td>\n",
       "      <td>0</td>\n",
       "      <td>0</td>\n",
       "      <td>1.000000</td>\n",
       "      <td>1.000000</td>\n",
       "      <td>0.276094</td>\n",
       "      <td>1.000000</td>\n",
       "    </tr>\n",
       "    <tr>\n",
       "      <th>10</th>\n",
       "      <td>0.1</td>\n",
       "      <td>238</td>\n",
       "      <td>384</td>\n",
       "      <td>8</td>\n",
       "      <td>261</td>\n",
       "      <td>0.967480</td>\n",
       "      <td>0.595349</td>\n",
       "      <td>0.382637</td>\n",
       "      <td>0.967480</td>\n",
       "    </tr>\n",
       "    <tr>\n",
       "      <th>20</th>\n",
       "      <td>0.2</td>\n",
       "      <td>215</td>\n",
       "      <td>231</td>\n",
       "      <td>31</td>\n",
       "      <td>414</td>\n",
       "      <td>0.873984</td>\n",
       "      <td>0.358140</td>\n",
       "      <td>0.482063</td>\n",
       "      <td>0.873984</td>\n",
       "    </tr>\n",
       "    <tr>\n",
       "      <th>30</th>\n",
       "      <td>0.3</td>\n",
       "      <td>183</td>\n",
       "      <td>140</td>\n",
       "      <td>63</td>\n",
       "      <td>505</td>\n",
       "      <td>0.743902</td>\n",
       "      <td>0.217054</td>\n",
       "      <td>0.566563</td>\n",
       "      <td>0.743902</td>\n",
       "    </tr>\n",
       "    <tr>\n",
       "      <th>40</th>\n",
       "      <td>0.4</td>\n",
       "      <td>157</td>\n",
       "      <td>95</td>\n",
       "      <td>89</td>\n",
       "      <td>550</td>\n",
       "      <td>0.638211</td>\n",
       "      <td>0.147287</td>\n",
       "      <td>0.623016</td>\n",
       "      <td>0.638211</td>\n",
       "    </tr>\n",
       "    <tr>\n",
       "      <th>50</th>\n",
       "      <td>0.5</td>\n",
       "      <td>130</td>\n",
       "      <td>61</td>\n",
       "      <td>116</td>\n",
       "      <td>584</td>\n",
       "      <td>0.528455</td>\n",
       "      <td>0.094574</td>\n",
       "      <td>0.680628</td>\n",
       "      <td>0.528455</td>\n",
       "    </tr>\n",
       "    <tr>\n",
       "      <th>60</th>\n",
       "      <td>0.6</td>\n",
       "      <td>93</td>\n",
       "      <td>39</td>\n",
       "      <td>153</td>\n",
       "      <td>606</td>\n",
       "      <td>0.378049</td>\n",
       "      <td>0.060465</td>\n",
       "      <td>0.704545</td>\n",
       "      <td>0.378049</td>\n",
       "    </tr>\n",
       "    <tr>\n",
       "      <th>70</th>\n",
       "      <td>0.7</td>\n",
       "      <td>67</td>\n",
       "      <td>19</td>\n",
       "      <td>179</td>\n",
       "      <td>626</td>\n",
       "      <td>0.272358</td>\n",
       "      <td>0.029457</td>\n",
       "      <td>0.779070</td>\n",
       "      <td>0.272358</td>\n",
       "    </tr>\n",
       "    <tr>\n",
       "      <th>80</th>\n",
       "      <td>0.8</td>\n",
       "      <td>29</td>\n",
       "      <td>7</td>\n",
       "      <td>217</td>\n",
       "      <td>638</td>\n",
       "      <td>0.117886</td>\n",
       "      <td>0.010853</td>\n",
       "      <td>0.805556</td>\n",
       "      <td>0.117886</td>\n",
       "    </tr>\n",
       "    <tr>\n",
       "      <th>90</th>\n",
       "      <td>0.9</td>\n",
       "      <td>8</td>\n",
       "      <td>3</td>\n",
       "      <td>238</td>\n",
       "      <td>642</td>\n",
       "      <td>0.032520</td>\n",
       "      <td>0.004651</td>\n",
       "      <td>0.727273</td>\n",
       "      <td>0.032520</td>\n",
       "    </tr>\n",
       "    <tr>\n",
       "      <th>100</th>\n",
       "      <td>1.0</td>\n",
       "      <td>0</td>\n",
       "      <td>0</td>\n",
       "      <td>246</td>\n",
       "      <td>645</td>\n",
       "      <td>0.000000</td>\n",
       "      <td>0.000000</td>\n",
       "      <td>NaN</td>\n",
       "      <td>0.000000</td>\n",
       "    </tr>\n",
       "  </tbody>\n",
       "</table>\n",
       "</div>"
      ],
      "text/plain": [
       "     threshold   tp   fp   fn   tn       tpr       fpr  precision    recall\n",
       "0          0.0  246  645    0    0  1.000000  1.000000   0.276094  1.000000\n",
       "10         0.1  238  384    8  261  0.967480  0.595349   0.382637  0.967480\n",
       "20         0.2  215  231   31  414  0.873984  0.358140   0.482063  0.873984\n",
       "30         0.3  183  140   63  505  0.743902  0.217054   0.566563  0.743902\n",
       "40         0.4  157   95   89  550  0.638211  0.147287   0.623016  0.638211\n",
       "50         0.5  130   61  116  584  0.528455  0.094574   0.680628  0.528455\n",
       "60         0.6   93   39  153  606  0.378049  0.060465   0.704545  0.378049\n",
       "70         0.7   67   19  179  626  0.272358  0.029457   0.779070  0.272358\n",
       "80         0.8   29    7  217  638  0.117886  0.010853   0.805556  0.117886\n",
       "90         0.9    8    3  238  642  0.032520  0.004651   0.727273  0.032520\n",
       "100        1.0    0    0  246  645  0.000000  0.000000        NaN  0.000000"
      ]
     },
     "metadata": {},
     "execution_count": 229
    }
   ],
   "metadata": {}
  },
  {
   "cell_type": "code",
   "execution_count": 230,
   "source": [
    "\n",
    "plt.figure(figsize=(6, 4))\n",
    "\n",
    "plt.plot(df_scores.threshold, df_scores.precision, color='black', linestyle='solid', label='precision')\n",
    "plt.plot(df_scores.threshold, df_scores.recall, color='black', linestyle='dashed', label='recall')\n",
    "plt.legend()\n",
    "\n",
    "plt.xticks(np.linspace(0, 1, 11))\n",
    "plt.yticks(np.linspace(0, 1, 11))\n",
    "\n",
    "plt.xlabel('Thresholds')\n",
    "plt.title('Precision and Recall')\n",
    "\n",
    "plt.show()"
   ],
   "outputs": [
    {
     "output_type": "execute_result",
     "data": {
      "text/plain": [
       "<Figure size 432x288 with 0 Axes>"
      ]
     },
     "metadata": {},
     "execution_count": 230
    },
    {
     "output_type": "execute_result",
     "data": {
      "text/plain": [
       "[<matplotlib.lines.Line2D at 0x7fc79b00b5e0>]"
      ]
     },
     "metadata": {},
     "execution_count": 230
    },
    {
     "output_type": "execute_result",
     "data": {
      "text/plain": [
       "[<matplotlib.lines.Line2D at 0x7fc79b00b9a0>]"
      ]
     },
     "metadata": {},
     "execution_count": 230
    },
    {
     "output_type": "execute_result",
     "data": {
      "text/plain": [
       "<matplotlib.legend.Legend at 0x7fc79b4e7760>"
      ]
     },
     "metadata": {},
     "execution_count": 230
    },
    {
     "output_type": "execute_result",
     "data": {
      "text/plain": [
       "([<matplotlib.axis.XTick at 0x7fc799edf250>,\n",
       "  <matplotlib.axis.XTick at 0x7fc799edf220>,\n",
       "  <matplotlib.axis.XTick at 0x7fc79b4e7d60>,\n",
       "  <matplotlib.axis.XTick at 0x7fc79980c820>,\n",
       "  <matplotlib.axis.XTick at 0x7fc799812070>,\n",
       "  <matplotlib.axis.XTick at 0x7fc799812700>,\n",
       "  <matplotlib.axis.XTick at 0x7fc799812e50>,\n",
       "  <matplotlib.axis.XTick at 0x7fc79981a5e0>,\n",
       "  <matplotlib.axis.XTick at 0x7fc7998129d0>,\n",
       "  <matplotlib.axis.XTick at 0x7fc79980c760>,\n",
       "  <matplotlib.axis.XTick at 0x7fc79981adc0>],\n",
       " [Text(0, 0, ''),\n",
       "  Text(0, 0, ''),\n",
       "  Text(0, 0, ''),\n",
       "  Text(0, 0, ''),\n",
       "  Text(0, 0, ''),\n",
       "  Text(0, 0, ''),\n",
       "  Text(0, 0, ''),\n",
       "  Text(0, 0, ''),\n",
       "  Text(0, 0, ''),\n",
       "  Text(0, 0, ''),\n",
       "  Text(0, 0, '')])"
      ]
     },
     "metadata": {},
     "execution_count": 230
    },
    {
     "output_type": "execute_result",
     "data": {
      "text/plain": [
       "([<matplotlib.axis.YTick at 0x7fc79b0241f0>,\n",
       "  <matplotlib.axis.YTick at 0x7fc799edfa60>,\n",
       "  <matplotlib.axis.YTick at 0x7fc799edc8e0>,\n",
       "  <matplotlib.axis.YTick at 0x7fc799822ac0>,\n",
       "  <matplotlib.axis.YTick at 0x7fc799828550>,\n",
       "  <matplotlib.axis.YTick at 0x7fc799828ca0>,\n",
       "  <matplotlib.axis.YTick at 0x7fc799828580>,\n",
       "  <matplotlib.axis.YTick at 0x7fc799822520>,\n",
       "  <matplotlib.axis.YTick at 0x7fc7998126a0>,\n",
       "  <matplotlib.axis.YTick at 0x7fc79982b820>,\n",
       "  <matplotlib.axis.YTick at 0x7fc799832070>],\n",
       " [Text(0, 0, ''),\n",
       "  Text(0, 0, ''),\n",
       "  Text(0, 0, ''),\n",
       "  Text(0, 0, ''),\n",
       "  Text(0, 0, ''),\n",
       "  Text(0, 0, ''),\n",
       "  Text(0, 0, ''),\n",
       "  Text(0, 0, ''),\n",
       "  Text(0, 0, ''),\n",
       "  Text(0, 0, ''),\n",
       "  Text(0, 0, '')])"
      ]
     },
     "metadata": {},
     "execution_count": 230
    },
    {
     "output_type": "execute_result",
     "data": {
      "text/plain": [
       "Text(0.5, 0, 'Thresholds')"
      ]
     },
     "metadata": {},
     "execution_count": 230
    },
    {
     "output_type": "execute_result",
     "data": {
      "text/plain": [
       "Text(0.5, 1.0, 'Precision and Recall')"
      ]
     },
     "metadata": {},
     "execution_count": 230
    },
    {
     "output_type": "display_data",
     "data": {
      "image/png": "[encoded data removed]",
      "text/plain": [
       "<Figure size 432x288 with 1 Axes>"
      ]
     },
     "metadata": {
      "needs_background": "light"
     }
    }
   ],
   "metadata": {}
  },
  {
   "cell_type": "markdown",
   "source": [
    "At which threshold precision and recall curves intersect?\n",
    "\n",
    "* 0.2\n",
    "* 0.4\n",
    "* 0.6\n",
    "* 0.8"
   ],
   "metadata": {}
  },
  {
   "cell_type": "markdown",
   "source": [
    "Precision and Recall intersect around 0.4, therefore."
   ],
   "metadata": {}
  },
  {
   "cell_type": "markdown",
   "source": [
    "## Question 4\n",
    "\n",
    "Precision and recall are conflicting - when one grows, the other goes down. That's why they are often combined into the F1 score - a metrics that takes into account both\n",
    "\n",
    "This is the formula for computing F1:\n",
    "\n",
    "$$F_1 = 2 \\cdot \\cfrac{P \\cdot R}{P + R}$$\n",
    "\n",
    "Where $P$ is precision and $R$ is recall.\n",
    "\n",
    "Let's compute F1 for all thresholds from 0.0 to 1.0 with increment 0.01"
   ],
   "metadata": {}
  },
  {
   "cell_type": "code",
   "execution_count": 231,
   "source": [
    "# Adding to the original function\n",
    "def tpr_fpr_dataframe(y_val, y_pred):\n",
    "    scores = []\n",
    "\n",
    "    thresholds = np.linspace(0, 1, 101)\n",
    "\n",
    "    for t in thresholds:\n",
    "        tp = ((y_pred >= t) & (y_val == 1)).sum()\n",
    "        fp = ((y_pred >= t) & (y_val == 0)).sum()\n",
    "        fn = ((y_pred < t) & (y_val == 1)).sum()\n",
    "        tn = ((y_pred < t) & (y_val == 0)).sum()\n",
    "\n",
    "        scores.append((t, tp, fp, fn, tn))\n",
    "\n",
    "    df_scores = pd.DataFrame(scores)\n",
    "    df_scores.columns = ['threshold', 'tp', 'fp', 'fn', 'tn']\n",
    "\n",
    "    df_scores['tpr'] = df_scores.tp / (df_scores.tp + df_scores.fn)\n",
    "    df_scores['fpr'] = df_scores.fp / (df_scores.fp + df_scores.tn)\n",
    "    df_scores['precision'] = df_scores.tp / (df_scores.tp + df_scores.fp)\n",
    "    df_scores['recall'] = df_scores.tp / (df_scores.tp + df_scores.fn)\n",
    "    df_scores['F1'] = 2 * df_scores.precision * df_scores.recall / (df_scores.precision + df_scores.recall)\n",
    "    \n",
    "    return df_scores"
   ],
   "outputs": [],
   "metadata": {}
  },
  {
   "cell_type": "code",
   "execution_count": 232,
   "source": [
    "df_scores = tpr_fpr_dataframe(y_val, y_pred)\n",
    "df_scores[::10]"
   ],
   "outputs": [
    {
     "output_type": "execute_result",
     "data": {
      "text/html": [
       "<div>\n",
       "<style scoped>\n",
       "    .dataframe tbody tr th:only-of-type {\n",
       "        vertical-align: middle;\n",
       "    }\n",
       "\n",
       "    .dataframe tbody tr th {\n",
       "        vertical-align: top;\n",
       "    }\n",
       "\n",
       "    .dataframe thead th {\n",
       "        text-align: right;\n",
       "    }\n",
       "</style>\n",
       "<table border=\"1\" class=\"dataframe\">\n",
       "  <thead>\n",
       "    <tr style=\"text-align: right;\">\n",
       "      <th></th>\n",
       "      <th>threshold</th>\n",
       "      <th>tp</th>\n",
       "      <th>fp</th>\n",
       "      <th>fn</th>\n",
       "      <th>tn</th>\n",
       "      <th>tpr</th>\n",
       "      <th>fpr</th>\n",
       "      <th>precision</th>\n",
       "      <th>recall</th>\n",
       "      <th>F1</th>\n",
       "    </tr>\n",
       "  </thead>\n",
       "  <tbody>\n",
       "    <tr>\n",
       "      <th>0</th>\n",
       "      <td>0.0</td>\n",
       "      <td>246</td>\n",
       "      <td>645</td>\n",
       "      <td>0</td>\n",
       "      <td>0</td>\n",
       "      <td>1.000000</td>\n",
       "      <td>1.000000</td>\n",
       "      <td>0.276094</td>\n",
       "      <td>1.000000</td>\n",
       "      <td>0.432718</td>\n",
       "    </tr>\n",
       "    <tr>\n",
       "      <th>10</th>\n",
       "      <td>0.1</td>\n",
       "      <td>238</td>\n",
       "      <td>384</td>\n",
       "      <td>8</td>\n",
       "      <td>261</td>\n",
       "      <td>0.967480</td>\n",
       "      <td>0.595349</td>\n",
       "      <td>0.382637</td>\n",
       "      <td>0.967480</td>\n",
       "      <td>0.548387</td>\n",
       "    </tr>\n",
       "    <tr>\n",
       "      <th>20</th>\n",
       "      <td>0.2</td>\n",
       "      <td>215</td>\n",
       "      <td>231</td>\n",
       "      <td>31</td>\n",
       "      <td>414</td>\n",
       "      <td>0.873984</td>\n",
       "      <td>0.358140</td>\n",
       "      <td>0.482063</td>\n",
       "      <td>0.873984</td>\n",
       "      <td>0.621387</td>\n",
       "    </tr>\n",
       "    <tr>\n",
       "      <th>30</th>\n",
       "      <td>0.3</td>\n",
       "      <td>183</td>\n",
       "      <td>140</td>\n",
       "      <td>63</td>\n",
       "      <td>505</td>\n",
       "      <td>0.743902</td>\n",
       "      <td>0.217054</td>\n",
       "      <td>0.566563</td>\n",
       "      <td>0.743902</td>\n",
       "      <td>0.643234</td>\n",
       "    </tr>\n",
       "    <tr>\n",
       "      <th>40</th>\n",
       "      <td>0.4</td>\n",
       "      <td>157</td>\n",
       "      <td>95</td>\n",
       "      <td>89</td>\n",
       "      <td>550</td>\n",
       "      <td>0.638211</td>\n",
       "      <td>0.147287</td>\n",
       "      <td>0.623016</td>\n",
       "      <td>0.638211</td>\n",
       "      <td>0.630522</td>\n",
       "    </tr>\n",
       "    <tr>\n",
       "      <th>50</th>\n",
       "      <td>0.5</td>\n",
       "      <td>130</td>\n",
       "      <td>61</td>\n",
       "      <td>116</td>\n",
       "      <td>584</td>\n",
       "      <td>0.528455</td>\n",
       "      <td>0.094574</td>\n",
       "      <td>0.680628</td>\n",
       "      <td>0.528455</td>\n",
       "      <td>0.594966</td>\n",
       "    </tr>\n",
       "    <tr>\n",
       "      <th>60</th>\n",
       "      <td>0.6</td>\n",
       "      <td>93</td>\n",
       "      <td>39</td>\n",
       "      <td>153</td>\n",
       "      <td>606</td>\n",
       "      <td>0.378049</td>\n",
       "      <td>0.060465</td>\n",
       "      <td>0.704545</td>\n",
       "      <td>0.378049</td>\n",
       "      <td>0.492063</td>\n",
       "    </tr>\n",
       "    <tr>\n",
       "      <th>70</th>\n",
       "      <td>0.7</td>\n",
       "      <td>67</td>\n",
       "      <td>19</td>\n",
       "      <td>179</td>\n",
       "      <td>626</td>\n",
       "      <td>0.272358</td>\n",
       "      <td>0.029457</td>\n",
       "      <td>0.779070</td>\n",
       "      <td>0.272358</td>\n",
       "      <td>0.403614</td>\n",
       "    </tr>\n",
       "    <tr>\n",
       "      <th>80</th>\n",
       "      <td>0.8</td>\n",
       "      <td>29</td>\n",
       "      <td>7</td>\n",
       "      <td>217</td>\n",
       "      <td>638</td>\n",
       "      <td>0.117886</td>\n",
       "      <td>0.010853</td>\n",
       "      <td>0.805556</td>\n",
       "      <td>0.117886</td>\n",
       "      <td>0.205674</td>\n",
       "    </tr>\n",
       "    <tr>\n",
       "      <th>90</th>\n",
       "      <td>0.9</td>\n",
       "      <td>8</td>\n",
       "      <td>3</td>\n",
       "      <td>238</td>\n",
       "      <td>642</td>\n",
       "      <td>0.032520</td>\n",
       "      <td>0.004651</td>\n",
       "      <td>0.727273</td>\n",
       "      <td>0.032520</td>\n",
       "      <td>0.062257</td>\n",
       "    </tr>\n",
       "    <tr>\n",
       "      <th>100</th>\n",
       "      <td>1.0</td>\n",
       "      <td>0</td>\n",
       "      <td>0</td>\n",
       "      <td>246</td>\n",
       "      <td>645</td>\n",
       "      <td>0.000000</td>\n",
       "      <td>0.000000</td>\n",
       "      <td>NaN</td>\n",
       "      <td>0.000000</td>\n",
       "      <td>NaN</td>\n",
       "    </tr>\n",
       "  </tbody>\n",
       "</table>\n",
       "</div>"
      ],
      "text/plain": [
       "     threshold   tp   fp   fn   tn       tpr       fpr  precision    recall  \\\n",
       "0          0.0  246  645    0    0  1.000000  1.000000   0.276094  1.000000   \n",
       "10         0.1  238  384    8  261  0.967480  0.595349   0.382637  0.967480   \n",
       "20         0.2  215  231   31  414  0.873984  0.358140   0.482063  0.873984   \n",
       "30         0.3  183  140   63  505  0.743902  0.217054   0.566563  0.743902   \n",
       "40         0.4  157   95   89  550  0.638211  0.147287   0.623016  0.638211   \n",
       "50         0.5  130   61  116  584  0.528455  0.094574   0.680628  0.528455   \n",
       "60         0.6   93   39  153  606  0.378049  0.060465   0.704545  0.378049   \n",
       "70         0.7   67   19  179  626  0.272358  0.029457   0.779070  0.272358   \n",
       "80         0.8   29    7  217  638  0.117886  0.010853   0.805556  0.117886   \n",
       "90         0.9    8    3  238  642  0.032520  0.004651   0.727273  0.032520   \n",
       "100        1.0    0    0  246  645  0.000000  0.000000        NaN  0.000000   \n",
       "\n",
       "           F1  \n",
       "0    0.432718  \n",
       "10   0.548387  \n",
       "20   0.621387  \n",
       "30   0.643234  \n",
       "40   0.630522  \n",
       "50   0.594966  \n",
       "60   0.492063  \n",
       "70   0.403614  \n",
       "80   0.205674  \n",
       "90   0.062257  \n",
       "100       NaN  "
      ]
     },
     "metadata": {},
     "execution_count": 232
    }
   ],
   "metadata": {}
  },
  {
   "cell_type": "code",
   "execution_count": 233,
   "source": [
    "plt.figure(figsize=(6, 4))\n",
    "\n",
    "plt.plot(df_scores.threshold, df_scores.F1, color='black', linestyle='solid', label='F1')\n",
    "plt.legend()\n",
    "\n",
    "plt.xticks(np.linspace(0, 1, 11))\n",
    "plt.yticks(np.linspace(0, 1, 11))\n",
    "\n",
    "plt.xlabel('Thresholds')\n",
    "plt.title('F1 scores')\n",
    "\n",
    "plt.show()"
   ],
   "outputs": [
    {
     "output_type": "execute_result",
     "data": {
      "text/plain": [
       "<Figure size 432x288 with 0 Axes>"
      ]
     },
     "metadata": {},
     "execution_count": 233
    },
    {
     "output_type": "execute_result",
     "data": {
      "text/plain": [
       "[<matplotlib.lines.Line2D at 0x7fc79b991bb0>]"
      ]
     },
     "metadata": {},
     "execution_count": 233
    },
    {
     "output_type": "execute_result",
     "data": {
      "text/plain": [
       "<matplotlib.legend.Legend at 0x7fc799cf53d0>"
      ]
     },
     "metadata": {},
     "execution_count": 233
    },
    {
     "output_type": "execute_result",
     "data": {
      "text/plain": [
       "([<matplotlib.axis.XTick at 0x7fc79b963910>,\n",
       "  <matplotlib.axis.XTick at 0x7fc79b9638e0>,\n",
       "  <matplotlib.axis.XTick at 0x7fc79b965520>,\n",
       "  <matplotlib.axis.XTick at 0x7fc79b81f2b0>,\n",
       "  <matplotlib.axis.XTick at 0x7fc79b819ee0>,\n",
       "  <matplotlib.axis.XTick at 0x7fc79b81fbe0>,\n",
       "  <matplotlib.axis.XTick at 0x7fc79b827370>,\n",
       "  <matplotlib.axis.XTick at 0x7fc79b827ac0>,\n",
       "  <matplotlib.axis.XTick at 0x7fc79b82d250>,\n",
       "  <matplotlib.axis.XTick at 0x7fc79b82d9a0>,\n",
       "  <matplotlib.axis.XTick at 0x7fc79b836130>],\n",
       " [Text(0, 0, ''),\n",
       "  Text(0, 0, ''),\n",
       "  Text(0, 0, ''),\n",
       "  Text(0, 0, ''),\n",
       "  Text(0, 0, ''),\n",
       "  Text(0, 0, ''),\n",
       "  Text(0, 0, ''),\n",
       "  Text(0, 0, ''),\n",
       "  Text(0, 0, ''),\n",
       "  Text(0, 0, ''),\n",
       "  Text(0, 0, '')])"
      ]
     },
     "metadata": {},
     "execution_count": 233
    },
    {
     "output_type": "execute_result",
     "data": {
      "text/plain": [
       "([<matplotlib.axis.YTick at 0x7fc79b9569d0>,\n",
       "  <matplotlib.axis.YTick at 0x7fc79b956160>,\n",
       "  <matplotlib.axis.YTick at 0x7fc79b963130>,\n",
       "  <matplotlib.axis.YTick at 0x7fc79b81f160>,\n",
       "  <matplotlib.axis.YTick at 0x7fc79b836850>,\n",
       "  <matplotlib.axis.YTick at 0x7fc79b82d580>,\n",
       "  <matplotlib.axis.YTick at 0x7fc79b83a5b0>,\n",
       "  <matplotlib.axis.YTick at 0x7fc79b83ad00>,\n",
       "  <matplotlib.axis.YTick at 0x7fc79b844490>,\n",
       "  <matplotlib.axis.YTick at 0x7fc79b83a610>,\n",
       "  <matplotlib.axis.YTick at 0x7fc79b81fc10>],\n",
       " [Text(0, 0, ''),\n",
       "  Text(0, 0, ''),\n",
       "  Text(0, 0, ''),\n",
       "  Text(0, 0, ''),\n",
       "  Text(0, 0, ''),\n",
       "  Text(0, 0, ''),\n",
       "  Text(0, 0, ''),\n",
       "  Text(0, 0, ''),\n",
       "  Text(0, 0, ''),\n",
       "  Text(0, 0, ''),\n",
       "  Text(0, 0, '')])"
      ]
     },
     "metadata": {},
     "execution_count": 233
    },
    {
     "output_type": "execute_result",
     "data": {
      "text/plain": [
       "Text(0.5, 0, 'Thresholds')"
      ]
     },
     "metadata": {},
     "execution_count": 233
    },
    {
     "output_type": "execute_result",
     "data": {
      "text/plain": [
       "Text(0.5, 1.0, 'F1 scores')"
      ]
     },
     "metadata": {},
     "execution_count": 233
    },
    {
     "output_type": "display_data",
     "data": {
      "image/png": "[encoded data removed]",
      "text/plain": [
       "<Figure size 432x288 with 1 Axes>"
      ]
     },
     "metadata": {
      "needs_background": "light"
     }
    }
   ],
   "metadata": {}
  },
  {
   "cell_type": "code",
   "execution_count": 234,
   "source": [
    "# Return specific value\n",
    "df_scores.loc[df_scores['F1'].idxmax()]"
   ],
   "outputs": [
    {
     "output_type": "execute_result",
     "data": {
      "text/plain": [
       "threshold      0.330000\n",
       "tp           176.000000\n",
       "fp           118.000000\n",
       "fn            70.000000\n",
       "tn           527.000000\n",
       "tpr            0.715447\n",
       "fpr            0.182946\n",
       "precision      0.598639\n",
       "recall         0.715447\n",
       "F1             0.651852\n",
       "Name: 33, dtype: float64"
      ]
     },
     "metadata": {},
     "execution_count": 234
    }
   ],
   "metadata": {}
  },
  {
   "cell_type": "markdown",
   "source": [
    "At which threshold F1 is maximal?\n",
    "\n",
    "- 0.1\n",
    "- 0.3\n",
    "- 0.5\n",
    "- 0.7"
   ],
   "metadata": {}
  },
  {
   "cell_type": "markdown",
   "source": [
    "Therefore the maximal value for F1 is reached at threshold ~0.3 (specifically, 0.33)."
   ],
   "metadata": {}
  },
  {
   "cell_type": "markdown",
   "source": [
    "## Question 5\n",
    "\n",
    "\n",
    "Use the `KFold` class from Scikit-Learn to evaluate our model on 5 different folds:\n",
    "\n",
    "```\n",
    "KFold(n_splits=5, shuffle=True, random_state=1)\n",
    "```\n",
    "\n",
    "* Iterate over different folds of `df_full_train`\n",
    "* Split the data into train and validation\n",
    "* Train the model on train with these parameters: `LogisticRegression(solver='liblinear', C=1.0, max_iter=1000)`\n",
    "* Use AUC to evaluate the model on validation\n"
   ],
   "metadata": {}
  },
  {
   "cell_type": "code",
   "execution_count": 235,
   "source": [
    "df_train_full.head()"
   ],
   "outputs": [
    {
     "output_type": "execute_result",
     "data": {
      "text/html": [
       "<div>\n",
       "<style scoped>\n",
       "    .dataframe tbody tr th:only-of-type {\n",
       "        vertical-align: middle;\n",
       "    }\n",
       "\n",
       "    .dataframe tbody tr th {\n",
       "        vertical-align: top;\n",
       "    }\n",
       "\n",
       "    .dataframe thead th {\n",
       "        text-align: right;\n",
       "    }\n",
       "</style>\n",
       "<table border=\"1\" class=\"dataframe\">\n",
       "  <thead>\n",
       "    <tr style=\"text-align: right;\">\n",
       "      <th></th>\n",
       "      <th>seniority</th>\n",
       "      <th>home</th>\n",
       "      <th>time</th>\n",
       "      <th>age</th>\n",
       "      <th>marital</th>\n",
       "      <th>records</th>\n",
       "      <th>job</th>\n",
       "      <th>expenses</th>\n",
       "      <th>income</th>\n",
       "      <th>assets</th>\n",
       "      <th>debt</th>\n",
       "      <th>amount</th>\n",
       "      <th>price</th>\n",
       "      <th>default</th>\n",
       "    </tr>\n",
       "  </thead>\n",
       "  <tbody>\n",
       "    <tr>\n",
       "      <th>1034</th>\n",
       "      <td>5</td>\n",
       "      <td>private</td>\n",
       "      <td>60</td>\n",
       "      <td>24</td>\n",
       "      <td>married</td>\n",
       "      <td>no</td>\n",
       "      <td>fixed</td>\n",
       "      <td>45</td>\n",
       "      <td>127</td>\n",
       "      <td>2000</td>\n",
       "      <td>0</td>\n",
       "      <td>1000</td>\n",
       "      <td>1282</td>\n",
       "      <td>0</td>\n",
       "    </tr>\n",
       "    <tr>\n",
       "      <th>3955</th>\n",
       "      <td>14</td>\n",
       "      <td>parents</td>\n",
       "      <td>60</td>\n",
       "      <td>32</td>\n",
       "      <td>married</td>\n",
       "      <td>yes</td>\n",
       "      <td>fixed</td>\n",
       "      <td>35</td>\n",
       "      <td>140</td>\n",
       "      <td>0</td>\n",
       "      <td>0</td>\n",
       "      <td>1150</td>\n",
       "      <td>1273</td>\n",
       "      <td>0</td>\n",
       "    </tr>\n",
       "    <tr>\n",
       "      <th>398</th>\n",
       "      <td>25</td>\n",
       "      <td>owner</td>\n",
       "      <td>12</td>\n",
       "      <td>43</td>\n",
       "      <td>married</td>\n",
       "      <td>no</td>\n",
       "      <td>freelance</td>\n",
       "      <td>75</td>\n",
       "      <td>250</td>\n",
       "      <td>100000</td>\n",
       "      <td>0</td>\n",
       "      <td>600</td>\n",
       "      <td>841</td>\n",
       "      <td>0</td>\n",
       "    </tr>\n",
       "    <tr>\n",
       "      <th>3994</th>\n",
       "      <td>18</td>\n",
       "      <td>rent</td>\n",
       "      <td>60</td>\n",
       "      <td>37</td>\n",
       "      <td>married</td>\n",
       "      <td>no</td>\n",
       "      <td>fixed</td>\n",
       "      <td>70</td>\n",
       "      <td>100</td>\n",
       "      <td>0</td>\n",
       "      <td>0</td>\n",
       "      <td>1300</td>\n",
       "      <td>1345</td>\n",
       "      <td>0</td>\n",
       "    </tr>\n",
       "    <tr>\n",
       "      <th>1355</th>\n",
       "      <td>1</td>\n",
       "      <td>parents</td>\n",
       "      <td>48</td>\n",
       "      <td>24</td>\n",
       "      <td>single</td>\n",
       "      <td>yes</td>\n",
       "      <td>fixed</td>\n",
       "      <td>35</td>\n",
       "      <td>65</td>\n",
       "      <td>0</td>\n",
       "      <td>0</td>\n",
       "      <td>900</td>\n",
       "      <td>1061</td>\n",
       "      <td>1</td>\n",
       "    </tr>\n",
       "  </tbody>\n",
       "</table>\n",
       "</div>"
      ],
      "text/plain": [
       "      seniority     home  time  age  marital records        job  expenses  \\\n",
       "1034          5  private    60   24  married      no      fixed        45   \n",
       "3955         14  parents    60   32  married     yes      fixed        35   \n",
       "398          25    owner    12   43  married      no  freelance        75   \n",
       "3994         18     rent    60   37  married      no      fixed        70   \n",
       "1355          1  parents    48   24   single     yes      fixed        35   \n",
       "\n",
       "      income  assets  debt  amount  price  default  \n",
       "1034     127    2000     0    1000   1282        0  \n",
       "3955     140       0     0    1150   1273        0  \n",
       "398      250  100000     0     600    841        0  \n",
       "3994     100       0     0    1300   1345        0  \n",
       "1355      65       0     0     900   1061        1  "
      ]
     },
     "metadata": {},
     "execution_count": 235
    }
   ],
   "metadata": {}
  },
  {
   "cell_type": "markdown",
   "source": [
    "Create functions for train and predict"
   ],
   "metadata": {}
  },
  {
   "cell_type": "code",
   "execution_count": 236,
   "source": [
    "def train(df, y):\n",
    "    cat = df[sel_cols].to_dict(orient='records')\n",
    "    \n",
    "    dv = DictVectorizer(sparse=False)\n",
    "    dv.fit(cat)\n",
    "\n",
    "    X = dv.transform(cat)\n",
    "\n",
    "    model = LogisticRegression(solver='liblinear', C=1.0, max_iter=1000)\n",
    "    model.fit(X, y)\n",
    "\n",
    "    return dv, model\n",
    "\n",
    "\n",
    "def predict(df, dv, model):\n",
    "    cat = df[sel_cols].to_dict(orient='records')\n",
    "    \n",
    "    X = dv.transform(cat)\n",
    "\n",
    "    y_pred = model.predict_proba(X)[:, 1]\n",
    "\n",
    "    return y_pred"
   ],
   "outputs": [],
   "metadata": {}
  },
  {
   "cell_type": "code",
   "execution_count": 237,
   "source": [
    "# df_train_full.head()\n",
    "\n",
    "# df_train_full[sel_cols].head()\n",
    "\n",
    "kfold = KFold(n_splits=5, shuffle=True, random_state=1)\n",
    "# df_train_full.columns\n",
    "# df_train_full['default'].head(10)\n",
    "\n",
    "df_train_full.shape"
   ],
   "outputs": [
    {
     "output_type": "execute_result",
     "data": {
      "text/plain": [
       "(3563, 14)"
      ]
     },
     "metadata": {},
     "execution_count": 237
    }
   ],
   "metadata": {}
  },
  {
   "cell_type": "code",
   "execution_count": 238,
   "source": [
    "aucs = []\n",
    "\n",
    "for train_idx, val_idx in kfold.split(df_train_full):\n",
    "    df_train_full = df_train_full.copy()\n",
    "    df_train = df_train_full.iloc[train_idx]\n",
    "    df_val = df_train_full.iloc[val_idx].copy()\n",
    "\n",
    "    y_train = df_train.default.values    \n",
    "\n",
    "    y_val = df_val.default.values\n",
    "\n",
    "    dv, model = train(df_train, y_train)\n",
    "    y_pred = predict(df_val, dv, model)\n",
    "\n",
    "    rocauc = roc_auc_score(y_val, y_pred)\n",
    "    aucs.append(rocauc)\n",
    "\n"
   ],
   "outputs": [],
   "metadata": {}
  },
  {
   "cell_type": "code",
   "execution_count": 239,
   "source": [
    "np.array(aucs).round(3)\n",
    "print(f\"Mean: {np.mean(aucs)}; Std Dev: {np.std(aucs).round(3)}\")"
   ],
   "outputs": [
    {
     "output_type": "execute_result",
     "data": {
      "text/plain": [
       "array([0.826, 0.825, 0.789, 0.825, 0.805])"
      ]
     },
     "metadata": {},
     "execution_count": 239
    },
    {
     "output_type": "stream",
     "name": "stdout",
     "text": [
      "Mean: 0.8141695497076604; Std Dev: 0.015\n"
     ]
    }
   ],
   "metadata": {}
  },
  {
   "cell_type": "markdown",
   "source": [
    "How large is standard devidation of the scores across different folds?\n",
    "\n",
    "- 0.001\n",
    "- 0.014\n",
    "- 0.09\n",
    "- 0.14"
   ],
   "metadata": {}
  },
  {
   "cell_type": "markdown",
   "source": [
    "Std Dev = ~0.014"
   ],
   "metadata": {}
  },
  {
   "cell_type": "markdown",
   "source": [
    "## Question 6\n",
    "\n",
    "Now let's use 5-Fold cross-validation to find the best parameter C\n",
    "\n",
    "* Iterate over the following C values: `[0.01, 0.1, 1, 10]`\n",
    "* Initialize `KFold` with the same parameters as previously\n",
    "* Use these parametes for the model: `LogisticRegression(solver='liblinear', C=C, max_iter=1000)`\n",
    "* Compute the mean score as well as the std (round the mean and std to 3 decimal digits)"
   ],
   "metadata": {}
  },
  {
   "cell_type": "code",
   "execution_count": 240,
   "source": [
    "def train(df, y, C=1.0):\n",
    "    cat = df[sel_cols].to_dict(orient='records')\n",
    "    \n",
    "    dv = DictVectorizer(sparse=False)\n",
    "    dv.fit(cat)\n",
    "\n",
    "    X = dv.transform(cat)\n",
    "\n",
    "    model = LogisticRegression(solver='liblinear', C=C, max_iter=1000)\n",
    "    model.fit(X, y)\n",
    "\n",
    "    return dv, model"
   ],
   "outputs": [],
   "metadata": {}
  },
  {
   "cell_type": "code",
   "execution_count": 241,
   "source": [
    "c_vals = [0.01, 0.1, 1, 10]"
   ],
   "outputs": [],
   "metadata": {}
  },
  {
   "cell_type": "code",
   "execution_count": 242,
   "source": [
    "kfold = KFold(n_splits=5, shuffle=True, random_state=1)\n",
    "\n",
    "for C in c_vals:\n",
    "    aucs = []\n",
    "\n",
    "    for train_idx, val_idx in kfold.split(df_train_full):\n",
    "        df_train_full = df_train_full.copy()\n",
    "        df_train = df_train_full.iloc[train_idx]\n",
    "        df_val = df_train_full.iloc[val_idx].copy()\n",
    "\n",
    "        y_train = df_train.default.values    \n",
    "\n",
    "        y_val = df_val.default.values\n",
    "\n",
    "        dv, model = train(df_train, y_train, C=C)\n",
    "        y_pred = predict(df_val, dv, model)\n",
    "        \n",
    "        auc = roc_auc_score(y_val, y_pred)\n",
    "        aucs.append(auc)\n",
    "\n",
    "    print('C=%s, auc = %0.3f ± %0.3f' % (C, np.mean(aucs), np.std(aucs)))   "
   ],
   "outputs": [
    {
     "output_type": "stream",
     "name": "stdout",
     "text": [
      "C=0.01, auc = 0.808 ± 0.012\n",
      "C=0.1, auc = 0.813 ± 0.014\n",
      "C=1, auc = 0.814 ± 0.015\n",
      "C=10, auc = 0.814 ± 0.015\n"
     ]
    }
   ],
   "metadata": {}
  },
  {
   "cell_type": "markdown",
   "source": [
    "Which C leads to the best mean score?\n",
    "\n",
    "- 0.01\n",
    "- 0.1\n",
    "- 1\n",
    "- 10\n",
    "\n",
    "If you have ties, select the score with the lowest std. If you still have ties, select the smallest C"
   ],
   "metadata": {}
  },
  {
   "cell_type": "markdown",
   "source": [
    "Best C value (based on 3 d.p.) is C=1"
   ],
   "metadata": {}
  },
  {
   "cell_type": "markdown",
   "source": [
    "## Submit the results\n",
    "\n",
    "Submit your results here: https://forms.gle/e497sR5iB36mM9Cs5\n",
    "\n",
    "It's possible that your answers won't match exactly. If it's the case, select the closest one.\n",
    "\n",
    "## Deadline\n",
    "\n",
    "The deadline for submitting is 04 October 2021, 17:00 CET. After that, the form will be closed."
   ],
   "metadata": {}
  },
  {
   "cell_type": "code",
   "execution_count": null,
   "source": [],
   "outputs": [],
   "metadata": {}
  }
 ],
 "metadata": {
  "kernelspec": {
   "name": "python3",
   "display_name": "Python 3.8.11 64-bit ('ml-zoomcamp': conda)"
  },
  "language_info": {
   "codemirror_mode": {
    "name": "ipython",
    "version": 3
   },
   "file_extension": ".py",
   "mimetype": "text/x-python",
   "name": "python",
   "nbconvert_exporter": "python",
   "pygments_lexer": "ipython3",
   "version": "3.8.11"
  },
  "interpreter": {
   "hash": "1d3b2f231d5bfdd129833ad38ed9bd5c64c774843edb8e1663ec7bfd4633d46c"
  }
 },
 "nbformat": 4,
 "nbformat_minor": 2
}