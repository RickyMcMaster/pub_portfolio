{
 "cells": [
  {
   "cell_type": "markdown",
   "metadata": {},
   "source": [
    "## MLZoomcamp: Homework 5"
   ]
  },
  {
   "cell_type": "code",
   "execution_count": 9,
   "metadata": {},
   "outputs": [],
   "source": [
    "import pickle\n",
    "import requests\n",
    "\n",
    "# Multiple cell outputs\n",
    "from IPython.core.interactiveshell import InteractiveShell\n",
    "InteractiveShell.ast_node_interactivity = 'all'"
   ]
  },
  {
   "cell_type": "markdown",
   "metadata": {},
   "source": [
    "### Question 1\n",
    "* Install Pipenv\n",
    "* What's the version of pipenv you installed?\n",
    "* Use --version to find out"
   ]
  },
  {
   "cell_type": "code",
   "execution_count": 10,
   "metadata": {},
   "outputs": [
    {
     "name": "stdout",
     "output_type": "stream",
     "text": [
      "\u001b[39m\u001b[1mpipenv\u001b[39m\u001b[22m, version 2021.5.29\n",
      "\u001b[0m"
     ]
    }
   ],
   "source": [
    "!pipenv --version"
   ]
  },
  {
   "cell_type": "code",
   "execution_count": 11,
   "metadata": {},
   "outputs": [
    {
     "name": "stdout",
     "output_type": "stream",
     "text": [
      "\u001b[39m\u001b[1mInstalling \u001b[32m\u001b[1mscikit-learn==1.0\u001b[39m\u001b[22m...\u001b[39m\u001b[22m\n",
      "\u001b[K\u001b[39m\u001b[1mAdding\u001b[39m\u001b[22m \u001b[32m\u001b[1mscikit-learn\u001b[39m\u001b[22m \u001b[39m\u001b[1mto Pipfile's\u001b[39m\u001b[22m \u001b[33m\u001b[1m[packages]\u001b[39m\u001b[22m\u001b[39m\u001b[1m...\u001b[39m\u001b[22m\n",
      "\u001b[K\u001b[?25h✔ Installation Succeeded\u001b[0m \n",
      "\u001b[39m\u001b[1mInstalling \u001b[32m\u001b[1mflask\u001b[39m\u001b[22m...\u001b[39m\u001b[22m\n",
      "\u001b[K\u001b[39m\u001b[1mAdding\u001b[39m\u001b[22m \u001b[32m\u001b[1mflask\u001b[39m\u001b[22m \u001b[39m\u001b[1mto Pipfile's\u001b[39m\u001b[22m \u001b[33m\u001b[1m[packages]\u001b[39m\u001b[22m\u001b[39m\u001b[1m...\u001b[39m\u001b[22m\n",
      "\u001b[K\u001b[?25h✔ Installation Succeeded\u001b[0m \n",
      "\u001b[39m\u001b[1mInstalling dependencies from Pipfile.lock (52faf6)...\u001b[39m\u001b[22m\n",
      "\n",
      "To activate this project's virtualenv, run \u001b[33m\u001b[22mpipenv shell\u001b[39m\u001b[22m.\n",
      "Alternatively, run a command inside the virtualenv with \u001b[33m\u001b[22mpipenv run\u001b[39m\u001b[22m.\n",
      "\u001b[0m"
     ]
    }
   ],
   "source": [
    "!pipenv install scikit-learn==1.0 flask"
   ]
  },
  {
   "cell_type": "markdown",
   "metadata": {},
   "source": [
    "### Question 2\n",
    "* Use Pipenv to install Scikit-Learn version 1.0\n",
    "* What's the first hash for scikit-learn you get in Pipfile.lock?"
   ]
  },
  {
   "cell_type": "markdown",
   "metadata": {},
   "source": [
    "\"sha256:121f78d6564000dc5e968394f45aac87981fcaaf2be40cfcd8f07b2baa1e1829\","
   ]
  },
  {
   "cell_type": "markdown",
   "metadata": {},
   "source": [
    "### Models\n",
    "\n",
    "We've prepared a dictionary vectorizer and a model.\n",
    "\n",
    "They were trained (roughly) using this code:\n",
    "\n",
    "features = ['tenure', 'monthlycharges', 'contract']\n",
    "dicts = df[features].to_dict(orient='records')\n",
    "\n",
    "dv = DictVectorizer(sparse=False)\n",
    "X = dv.fit_transform(dicts)\n",
    "\n",
    "model = LogisticRegression().fit(X, y)\n",
    "Note: You don't need to train the model. This code is just for your reference.\n",
    "\n",
    "And then saved with Pickle. Download them:"
   ]
  },
  {
   "cell_type": "markdown",
   "metadata": {},
   "source": [
    "### Question 3\n",
    "\n",
    "Let's use these models!\n",
    "\n",
    "* Write a script for loading these models with pickle\n",
    "* Score this customer:"
   ]
  },
  {
   "cell_type": "code",
   "execution_count": 12,
   "metadata": {},
   "outputs": [
    {
     "name": "stderr",
     "output_type": "stream",
     "text": [
      "/Users/rmcmaster/opt/anaconda3/envs/ml-zoomcamp/lib/python3.8/site-packages/sklearn/base.py:310: UserWarning: Trying to unpickle estimator DictVectorizer from version 1.0 when using version 0.24.2. This might lead to breaking code or invalid results. Use at your own risk.\n",
      "  warnings.warn(\n",
      "/Users/rmcmaster/opt/anaconda3/envs/ml-zoomcamp/lib/python3.8/site-packages/sklearn/base.py:310: UserWarning: Trying to unpickle estimator LogisticRegression from version 1.0 when using version 0.24.2. This might lead to breaking code or invalid results. Use at your own risk.\n",
      "  warnings.warn(\n"
     ]
    },
    {
     "data": {
      "text/plain": [
       "(DictVectorizer(sparse=False), LogisticRegression())"
      ]
     },
     "execution_count": 12,
     "metadata": {},
     "output_type": "execute_result"
    }
   ],
   "source": [
    "dv_file = 'dv.bin'\n",
    "model_file = 'model1.bin'\n",
    "\n",
    "with open(dv_file, 'rb') as f_in:\n",
    "    dv = pickle.load(f_in)\n",
    "\n",
    "with open(model_file, 'rb') as f_in:\n",
    "    model = pickle.load(f_in)\n",
    "\n",
    "dv, model"
   ]
  },
  {
   "cell_type": "code",
   "execution_count": 13,
   "metadata": {},
   "outputs": [],
   "source": [
    "customer = {\"contract\": \"two_year\", \"tenure\": 12, \"monthlycharges\": 19.7}"
   ]
  },
  {
   "cell_type": "code",
   "execution_count": 14,
   "metadata": {},
   "outputs": [
    {
     "data": {
      "text/plain": [
       "0.11549580587832914"
      ]
     },
     "execution_count": 14,
     "metadata": {},
     "output_type": "execute_result"
    }
   ],
   "source": [
    "X = dv.transform(customer)\n",
    "model.predict_proba(X)[0, 1]"
   ]
  },
  {
   "cell_type": "markdown",
   "metadata": {},
   "source": [
    "The churn probability for this customer is therefore 0.11549580587832914."
   ]
  },
  {
   "cell_type": "markdown",
   "metadata": {},
   "source": [
    "### Question 4\n",
    "\n",
    "Now let's serve this model as a web service\n",
    "\n",
    "* Install Flask and Gunicorn (or waitress, if you're on Windows)\n",
    "* Write Flask code for serving the model\n",
    "* Now score this customer using requests:\n",
    "    * url = \"YOUR_URL\"\n",
    "    * customer = {\"contract\": \"two_year\", \"tenure\": 1, \"monthlycharges\": 10}\n",
    "    * requests.post(url, json=customer).json()\n",
    "* What's the probability that this customer is churning?"
   ]
  },
  {
   "cell_type": "code",
   "execution_count": 15,
   "metadata": {},
   "outputs": [],
   "source": [
    "# !pip install gunicorn\n",
    "# !pip install flask"
   ]
  },
  {
   "cell_type": "code",
   "execution_count": 16,
   "metadata": {},
   "outputs": [],
   "source": [
    "# !python churn_service.py"
   ]
  },
  {
   "cell_type": "code",
   "execution_count": 17,
   "metadata": {},
   "outputs": [
    {
     "data": {
      "text/plain": [
       "{'churn': True, 'churn_probability': 0.9988892771007961}"
      ]
     },
     "execution_count": 17,
     "metadata": {},
     "output_type": "execute_result"
    }
   ],
   "source": [
    "url = 'http://localhost:9696/predict'\n",
    "\n",
    "customer2 = {\"contract\": \"two_year\", \"tenure\": 1, \"monthlycharges\": 10}\n",
    "requests.post(url, json=customer2).json()"
   ]
  },
  {
   "cell_type": "code",
   "execution_count": 18,
   "metadata": {},
   "outputs": [
    {
     "data": {
      "text/plain": [
       "{'churn': False, 'churn_probability': 0.11549580587832914}"
      ]
     },
     "execution_count": 18,
     "metadata": {},
     "output_type": "execute_result"
    },
    {
     "data": {
      "text/plain": [
       "0.9988892771007961"
      ]
     },
     "execution_count": 18,
     "metadata": {},
     "output_type": "execute_result"
    }
   ],
   "source": [
    "# Checking with previous customer\n",
    "requests.post(url, json=customer).json()\n",
    "# And vice versa\n",
    "X = dv.transform(customer2)\n",
    "model.predict_proba(X)[0, 1]"
   ]
  },
  {
   "cell_type": "markdown",
   "metadata": {},
   "source": [
    "### Docker\n",
    "\n",
    "Install Docker. We will use it for the next two questions.\n",
    "\n",
    "For these questions, I prepared a base image: agrigorev/zoomcamp-model:3.8.12-slim. You'll need to use it (see Question 5 for an example).\n",
    "\n",
    "This image is based on python:3.8.12-slim and has a logistic regression model (a different one) as well a dictionary vectorizer inside.\n",
    "\n",
    "This is how the Dockerfile for this image looks like:\n",
    "\n",
    "FROM python:3.8.12-slim\n",
    "WORKDIR /app\n",
    "COPY [\"model2.bin\", \"dv.bin\", \"./\"]\n",
    "I already built it and then pushed it to agrigorev/zoomcamp-model:3.8.12-slim.\n",
    "\n",
    "Note: You don't need to build this docker image, it's just for your reference."
   ]
  },
  {
   "cell_type": "markdown",
   "metadata": {},
   "source": [
    "### Question 5\n",
    "\n",
    "Now create your own Dockerfile based on the image I prepared.\n",
    "\n",
    "It should start like that:\n",
    "\n",
    "FROM agrigorev/zoomcamp-model:3.8.12-slim\n",
    "\\# add your stuff here\n",
    "Now complete it:\n",
    "\n",
    "* Install all the dependencies form the Pipenv file\n",
    "* Copy your Flask script\n",
    "* Run it with gunicorn\n",
    "When you build your image, what's the digest for agrigorev/zoomcamp-model:3.8.12-slim?\n",
    "\n",
    "Look at the first step of your build log. It should look something like that:\n",
    "\n",
    "Step 1/3 : FROM python:3.8.12-slim\n",
    " ---> 2e56f6b0af69"
   ]
  },
  {
   "cell_type": "code",
   "execution_count": 19,
   "metadata": {},
   "outputs": [
    {
     "name": "stdout",
     "output_type": "stream",
     "text": [
      "/Users/rmcmaster/Documents/git_repos/pub_portfolio/mlz/05-deployment\n"
     ]
    }
   ],
   "source": [
    "!pwd"
   ]
  },
  {
   "cell_type": "code",
   "execution_count": 20,
   "metadata": {},
   "outputs": [
    {
     "name": "stdout",
     "output_type": "stream",
     "text": [
      "\u001b[1A\u001b[1B\u001b[0G\u001b[?25l[+] Building 0.0s (0/1)                                                         \n",
      "\u001b[?25h\u001b[1A\u001b[0G\u001b[?25l[+] Building 0.1s (2/2)                                                         \n",
      "\u001b[34m => [internal] load build definition from Dockerfile                       0.0s\n",
      "\u001b[0m\u001b[34m => => transferring dockerfile: 801B                                       0.0s\n",
      "\u001b[0m\u001b[34m => [internal] load .dockerignore                                          0.0s\n",
      "\u001b[0m\u001b[34m => => transferring context: 2B                                            0.0s\n",
      "\u001b[0m\u001b[?25h\u001b[1A\u001b[1A\u001b[1A\u001b[1A\u001b[1A\u001b[0G\u001b[?25l[+] Building 0.3s (2/3)                                                         \n",
      "\u001b[34m => [internal] load build definition from Dockerfile                       0.0s\n",
      "\u001b[0m\u001b[34m => => transferring dockerfile: 801B                                       0.0s\n",
      "\u001b[0m\u001b[34m => [internal] load .dockerignore                                          0.0s\n",
      "\u001b[0m\u001b[34m => => transferring context: 2B                                            0.0s\n",
      "\u001b[0m => [internal] load metadata for docker.io/agrigorev/zoomcamp-model:3.8.1  0.1s\n",
      "\u001b[?25h\u001b[1A\u001b[1A\u001b[1A\u001b[1A\u001b[1A\u001b[1A\u001b[0G\u001b[?25l[+] Building 0.4s (2/3)                                                         \n",
      "\u001b[34m => [internal] load build definition from Dockerfile                       0.0s\n",
      "\u001b[0m\u001b[34m => => transferring dockerfile: 801B                                       0.0s\n",
      "\u001b[0m\u001b[34m => [internal] load .dockerignore                                          0.0s\n",
      "\u001b[0m\u001b[34m => => transferring context: 2B                                            0.0s\n",
      "\u001b[0m => [internal] load metadata for docker.io/agrigorev/zoomcamp-model:3.8.1  0.2s\n",
      "\u001b[?25h\u001b[1A\u001b[1A\u001b[1A\u001b[1A\u001b[1A\u001b[1A\u001b[0G\u001b[?25l[+] Building 0.6s (2/3)                                                         \n",
      "\u001b[34m => [internal] load build definition from Dockerfile                       0.0s\n",
      "\u001b[0m\u001b[34m => => transferring dockerfile: 801B                                       0.0s\n",
      "\u001b[0m\u001b[34m => [internal] load .dockerignore                                          0.0s\n",
      "\u001b[0m\u001b[34m => => transferring context: 2B                                            0.0s\n",
      "\u001b[0m => [internal] load metadata for docker.io/agrigorev/zoomcamp-model:3.8.1  0.4s\n",
      "\u001b[?25h\u001b[1A\u001b[1A\u001b[1A\u001b[1A\u001b[1A\u001b[1A\u001b[0G\u001b[?25l[+] Building 0.7s (2/3)                                                         \n",
      "\u001b[34m => [internal] load build definition from Dockerfile                       0.0s\n",
      "\u001b[0m\u001b[34m => => transferring dockerfile: 801B                                       0.0s\n",
      "\u001b[0m\u001b[34m => [internal] load .dockerignore                                          0.0s\n",
      "\u001b[0m\u001b[34m => => transferring context: 2B                                            0.0s\n",
      "\u001b[0m => [internal] load metadata for docker.io/agrigorev/zoomcamp-model:3.8.1  0.5s\n",
      "\u001b[?25h\u001b[1A\u001b[1A\u001b[1A\u001b[1A\u001b[1A\u001b[1A\u001b[0G\u001b[?25l[+] Building 0.9s (2/3)                                                         \n",
      "\u001b[34m => [internal] load build definition from Dockerfile                       0.0s\n",
      "\u001b[0m\u001b[34m => => transferring dockerfile: 801B                                       0.0s\n",
      "\u001b[0m\u001b[34m => [internal] load .dockerignore                                          0.0s\n",
      "\u001b[0m\u001b[34m => => transferring context: 2B                                            0.0s\n",
      "\u001b[0m => [internal] load metadata for docker.io/agrigorev/zoomcamp-model:3.8.1  0.7s\n",
      "\u001b[?25h\u001b[1A\u001b[1A\u001b[1A\u001b[1A\u001b[1A\u001b[1A\u001b[0G\u001b[?25l[+] Building 1.0s (2/3)                                                         \n",
      "\u001b[34m => [internal] load build definition from Dockerfile                       0.0s\n",
      "\u001b[0m\u001b[34m => => transferring dockerfile: 801B                                       0.0s\n",
      "\u001b[0m\u001b[34m => [internal] load .dockerignore                                          0.0s\n",
      "\u001b[0m\u001b[34m => => transferring context: 2B                                            0.0s\n",
      "\u001b[0m => [internal] load metadata for docker.io/agrigorev/zoomcamp-model:3.8.1  0.8s\n",
      "\u001b[?25h\u001b[1A\u001b[1A\u001b[1A\u001b[1A\u001b[1A\u001b[1A\u001b[0G\u001b[?25l[+] Building 1.2s (2/3)                                                         \n",
      "\u001b[34m => [internal] load build definition from Dockerfile                       0.0s\n",
      "\u001b[0m\u001b[34m => => transferring dockerfile: 801B                                       0.0s\n",
      "\u001b[0m\u001b[34m => [internal] load .dockerignore                                          0.0s\n",
      "\u001b[0m\u001b[34m => => transferring context: 2B                                            0.0s\n",
      "\u001b[0m => [internal] load metadata for docker.io/agrigorev/zoomcamp-model:3.8.1  1.0s\n",
      "\u001b[?25h\u001b[1A\u001b[1A\u001b[1A\u001b[1A\u001b[1A\u001b[1A\u001b[0G\u001b[?25l[+] Building 1.3s (2/3)                                                         \n",
      "\u001b[34m => [internal] load build definition from Dockerfile                       0.0s\n",
      "\u001b[0m\u001b[34m => => transferring dockerfile: 801B                                       0.0s\n",
      "\u001b[0m\u001b[34m => [internal] load .dockerignore                                          0.0s\n",
      "\u001b[0m\u001b[34m => => transferring context: 2B                                            0.0s\n",
      "\u001b[0m => [internal] load metadata for docker.io/agrigorev/zoomcamp-model:3.8.1  1.1s\n",
      "\u001b[?25h\u001b[1A\u001b[1A\u001b[1A\u001b[1A\u001b[1A\u001b[1A\u001b[0G\u001b[?25l[+] Building 1.5s (2/3)                                                         \n",
      "\u001b[34m => [internal] load build definition from Dockerfile                       0.0s\n",
      "\u001b[0m\u001b[34m => => transferring dockerfile: 801B                                       0.0s\n",
      "\u001b[0m\u001b[34m => [internal] load .dockerignore                                          0.0s\n",
      "\u001b[0m\u001b[34m => => transferring context: 2B                                            0.0s\n",
      "\u001b[0m => [internal] load metadata for docker.io/agrigorev/zoomcamp-model:3.8.1  1.3s\n",
      "\u001b[?25h\u001b[1A\u001b[1A\u001b[1A\u001b[1A\u001b[1A\u001b[1A\u001b[0G\u001b[?25l[+] Building 1.6s (2/3)                                                         \n",
      "\u001b[34m => [internal] load build definition from Dockerfile                       0.0s\n",
      "\u001b[0m\u001b[34m => => transferring dockerfile: 801B                                       0.0s\n",
      "\u001b[0m\u001b[34m => [internal] load .dockerignore                                          0.0s\n",
      "\u001b[0m\u001b[34m => => transferring context: 2B                                            0.0s\n",
      "\u001b[0m => [internal] load metadata for docker.io/agrigorev/zoomcamp-model:3.8.1  1.4s\n",
      "\u001b[?25h\u001b[1A\u001b[1A\u001b[1A\u001b[1A\u001b[1A\u001b[1A\u001b[0G\u001b[?25l[+] Building 1.8s (2/3)                                                         \n",
      "\u001b[34m => [internal] load build definition from Dockerfile                       0.0s\n",
      "\u001b[0m\u001b[34m => => transferring dockerfile: 801B                                       0.0s\n",
      "\u001b[0m\u001b[34m => [internal] load .dockerignore                                          0.0s\n",
      "\u001b[0m\u001b[34m => => transferring context: 2B                                            0.0s\n",
      "\u001b[0m => [internal] load metadata for docker.io/agrigorev/zoomcamp-model:3.8.1  1.6s\n",
      "\u001b[?25h\u001b[1A\u001b[1A\u001b[1A\u001b[1A\u001b[1A\u001b[1A\u001b[0G\u001b[?25l[+] Building 1.9s (2/3)                                                         \n",
      "\u001b[34m => [internal] load build definition from Dockerfile                       0.0s\n",
      "\u001b[0m\u001b[34m => => transferring dockerfile: 801B                                       0.0s\n",
      "\u001b[0m\u001b[34m => [internal] load .dockerignore                                          0.0s\n",
      "\u001b[0m\u001b[34m => => transferring context: 2B                                            0.0s\n",
      "\u001b[0m => [internal] load metadata for docker.io/agrigorev/zoomcamp-model:3.8.1  1.8s\n",
      "\u001b[?25h\u001b[1A\u001b[1A\u001b[1A\u001b[1A\u001b[1A\u001b[1A\u001b[0G\u001b[?25l[+] Building 2.1s (2/3)                                                         \n",
      "\u001b[34m => [internal] load build definition from Dockerfile                       0.0s\n",
      "\u001b[0m\u001b[34m => => transferring dockerfile: 801B                                       0.0s\n",
      "\u001b[0m\u001b[34m => [internal] load .dockerignore                                          0.0s\n",
      "\u001b[0m\u001b[34m => => transferring context: 2B                                            0.0s\n",
      "\u001b[0m => [internal] load metadata for docker.io/agrigorev/zoomcamp-model:3.8.1  1.9s\n",
      "\u001b[?25h\u001b[1A\u001b[1A\u001b[1A\u001b[1A\u001b[1A\u001b[1A\u001b[0G\u001b[?25l[+] Building 2.2s (2/3)                                                         \n",
      "\u001b[34m => [internal] load build definition from Dockerfile                       0.0s\n",
      "\u001b[0m\u001b[34m => => transferring dockerfile: 801B                                       0.0s\n",
      "\u001b[0m\u001b[34m => [internal] load .dockerignore                                          0.0s\n",
      "\u001b[0m\u001b[34m => => transferring context: 2B                                            0.0s\n",
      "\u001b[0m => [internal] load metadata for docker.io/agrigorev/zoomcamp-model:3.8.1  2.1s\n",
      "\u001b[?25h\u001b[1A\u001b[1A\u001b[1A\u001b[1A\u001b[1A\u001b[1A\u001b[0G\u001b[?25l[+] Building 2.4s (2/3)                                                         \n",
      "\u001b[34m => [internal] load build definition from Dockerfile                       0.0s\n",
      "\u001b[0m\u001b[34m => => transferring dockerfile: 801B                                       0.0s\n",
      "\u001b[0m\u001b[34m => [internal] load .dockerignore                                          0.0s\n",
      "\u001b[0m\u001b[34m => => transferring context: 2B                                            0.0s\n",
      "\u001b[0m => [internal] load metadata for docker.io/agrigorev/zoomcamp-model:3.8.1  2.2s\n",
      "\u001b[?25h\u001b[1A\u001b[1A\u001b[1A\u001b[1A\u001b[1A\u001b[1A\u001b[0G\u001b[?25l[+] Building 2.5s (2/3)                                                         \n",
      "\u001b[34m => [internal] load build definition from Dockerfile                       0.0s\n",
      "\u001b[0m\u001b[34m => => transferring dockerfile: 801B                                       0.0s\n",
      "\u001b[0m\u001b[34m => [internal] load .dockerignore                                          0.0s\n",
      "\u001b[0m\u001b[34m => => transferring context: 2B                                            0.0s\n",
      "\u001b[0m => [internal] load metadata for docker.io/agrigorev/zoomcamp-model:3.8.1  2.4s\n",
      "\u001b[?25h\u001b[1A\u001b[1A\u001b[1A\u001b[1A\u001b[1A\u001b[1A\u001b[0G\u001b[?25l[+] Building 2.6s (10/11)                                                       \n",
      "\u001b[34m => [internal] load build definition from Dockerfile                       0.0s\n",
      "\u001b[0m\u001b[34m => => transferring dockerfile: 801B                                       0.0s\n",
      "\u001b[0m\u001b[34m => [internal] load .dockerignore                                          0.0s\n",
      "\u001b[0m\u001b[34m => => transferring context: 2B                                            0.0s\n",
      "\u001b[0m\u001b[34m => [internal] load metadata for docker.io/agrigorev/zoomcamp-model:3.8.1  2.4s\n",
      "\u001b[0m\u001b[34m => [1/6] FROM docker.io/agrigorev/zoomcamp-model:3.8.12-slim@sha256:1ee0  0.0s\n",
      "\u001b[0m\u001b[34m => [internal] load build context                                          0.0s\n",
      "\u001b[0m\u001b[34m => => transferring context: 738B                                          0.0s\n",
      "\u001b[0m\u001b[34m => CACHED [2/6] RUN pip install pipenv                                    0.0s\n",
      "\u001b[0m\u001b[34m => CACHED [3/6] WORKDIR /app                                              0.0s\n",
      "\u001b[0m\u001b[34m => CACHED [4/6] COPY [Pipfile, Pipfile.lock, ./]                          0.0s\n",
      "\u001b[0m\u001b[34m => CACHED [5/6] RUN pipenv install --deploy --system                      0.0s\n",
      "\u001b[0m\u001b[34m => CACHED [6/6] COPY [churn_service.py, model1.bin, ./]                   0.0s\n",
      "\u001b[0m => exporting to image                                                     0.0s\n",
      "\u001b[34m => => exporting layers                                                    0.0s\n",
      "\u001b[0m\u001b[?25h\u001b[1A\u001b[1A\u001b[1A\u001b[1A\u001b[1A\u001b[1A\u001b[1A\u001b[1A\u001b[1A\u001b[1A\u001b[1A\u001b[1A\u001b[1A\u001b[1A\u001b[1A\u001b[1A\u001b[0G\u001b[?25l[+] Building 2.7s (11/11) FINISHED                                              \n",
      "\u001b[34m => [internal] load build definition from Dockerfile                       0.0s\n",
      "\u001b[0m\u001b[34m => => transferring dockerfile: 801B                                       0.0s\n",
      "\u001b[0m\u001b[34m => [internal] load .dockerignore                                          0.0s\n",
      "\u001b[0m\u001b[34m => => transferring context: 2B                                            0.0s\n",
      "\u001b[0m\u001b[34m => [internal] load metadata for docker.io/agrigorev/zoomcamp-model:3.8.1  2.4s\n",
      "\u001b[0m\u001b[34m => [1/6] FROM docker.io/agrigorev/zoomcamp-model:3.8.12-slim@sha256:1ee0  0.0s\n",
      "\u001b[0m\u001b[34m => [internal] load build context                                          0.0s\n",
      "\u001b[0m\u001b[34m => => transferring context: 738B                                          0.0s\n",
      "\u001b[0m\u001b[34m => CACHED [2/6] RUN pip install pipenv                                    0.0s\n",
      "\u001b[0m\u001b[34m => CACHED [3/6] WORKDIR /app                                              0.0s\n",
      "\u001b[0m\u001b[34m => CACHED [4/6] COPY [Pipfile, Pipfile.lock, ./]                          0.0s\n",
      "\u001b[0m\u001b[34m => CACHED [5/6] RUN pipenv install --deploy --system                      0.0s\n",
      "\u001b[0m\u001b[34m => CACHED [6/6] COPY [churn_service.py, model1.bin, ./]                   0.0s\n",
      "\u001b[0m\u001b[34m => exporting to image                                                     0.0s\n",
      "\u001b[0m\u001b[34m => => exporting layers                                                    0.0s\n",
      "\u001b[0m\u001b[34m => => writing image sha256:0f4e1d5d8419ba541a961372a4ec9aff18071b6d20444  0.0s\n",
      "\u001b[0m\u001b[34m => => naming to docker.io/library/zoomcamp-model                          0.0s\n",
      "\u001b[0m\u001b[?25h\n",
      "Use 'docker scan' to run Snyk tests against images to find vulnerabilities and learn how to fix them\n"
     ]
    }
   ],
   "source": [
    "!docker build -t zoomcamp-model ."
   ]
  },
  {
   "cell_type": "code",
   "execution_count": 21,
   "metadata": {},
   "outputs": [
    {
     "name": "stdout",
     "output_type": "stream",
     "text": [
      "REPOSITORY       TAG       IMAGE ID                                                                  CREATED          SIZE\n",
      "zoomcamp-model   latest    sha256:0f4e1d5d8419ba541a961372a4ec9aff18071b6d2044485da3d597da2d48d633   21 minutes ago   510MB\n",
      "<none>           <none>    sha256:48b4bfc1593a8bb070b35847b48eaf49ba88cc2d2a10ed7a6b9f3420ceca6248   25 hours ago     510MB\n"
     ]
    }
   ],
   "source": [
    "!docker images --no-trunc"
   ]
  },
  {
   "cell_type": "code",
   "execution_count": 22,
   "metadata": {},
   "outputs": [
    {
     "name": "stdout",
     "output_type": "stream",
     "text": [
      "REPOSITORY       TAG       DIGEST    IMAGE ID       CREATED          SIZE\n",
      "zoomcamp-model   latest    <none>    0f4e1d5d8419   21 minutes ago   510MB\n",
      "<none>           <none>    <none>    48b4bfc1593a   25 hours ago     510MB\n"
     ]
    }
   ],
   "source": [
    "!docker images --digests"
   ]
  },
  {
   "cell_type": "markdown",
   "metadata": {},
   "source": [
    "Image ID from Terminal: sha256:1ee036b365452f8a1da0dbc3bf5e7dd0557cfd33f0e56b28054d1dbb9c852023\n",
    "\n",
    "Built Image ID (shown above): sha256:48b4bfc1593a8bb070b35847b48eaf49ba88cc2d2a10ed7a6b9f3420ceca6248"
   ]
  },
  {
   "cell_type": "markdown",
   "metadata": {},
   "source": [
    "### Question 6"
   ]
  },
  {
   "cell_type": "code",
   "execution_count": 23,
   "metadata": {},
   "outputs": [
    {
     "name": "stdout",
     "output_type": "stream",
     "text": [
      "[2021-10-11 12:15:48 +0000] [1] [INFO] Starting gunicorn 20.1.0\n",
      "[2021-10-11 12:15:48 +0000] [1] [INFO] Listening at: http://0.0.0.0:9696 (1)\n",
      "[2021-10-11 12:15:48 +0000] [1] [INFO] Using worker: sync\n",
      "[2021-10-11 12:15:48 +0000] [8] [INFO] Booting worker with pid: 8\n",
      "[2021-10-11 12:25:04 +0000] [1] [CRITICAL] WORKER TIMEOUT (pid:8)\n",
      "[2021-10-11 12:25:04 +0000] [8] [INFO] Worker exiting (pid: 8)\n",
      "[2021-10-11 12:25:05 +0000] [11] [INFO] Booting worker with pid: 11\n",
      "[2021-10-11 15:53:20 +0000] [1] [CRITICAL] WORKER TIMEOUT (pid:11)\n",
      "[2021-10-11 15:53:20 +0000] [11] [INFO] Worker exiting (pid: 11)\n",
      "[2021-10-11 15:53:20 +0000] [14] [INFO] Booting worker with pid: 14\n",
      "[2021-10-11 16:25:43 +0000] [1] [CRITICAL] WORKER TIMEOUT (pid:14)\n",
      "[2021-10-11 16:25:43 +0000] [14] [INFO] Worker exiting (pid: 14)\n",
      "[2021-10-11 16:25:45 +0000] [1] [WARNING] Worker with pid 14 was terminated due to signal 9\n",
      "[2021-10-11 16:25:45 +0000] [17] [INFO] Booting worker with pid: 17\n",
      "[2021-10-11 16:35:32 +0000] [1] [CRITICAL] WORKER TIMEOUT (pid:17)\n",
      "[2021-10-11 16:35:32 +0000] [17] [INFO] Worker exiting (pid: 17)\n",
      "[2021-10-11 16:35:33 +0000] [1] [WARNING] Worker with pid 17 was terminated due to signal 9\n",
      "[2021-10-11 16:35:33 +0000] [20] [INFO] Booting worker with pid: 20\n",
      "[2021-10-11 16:59:00 +0000] [1] [CRITICAL] WORKER TIMEOUT (pid:20)\n",
      "[2021-10-11 16:59:00 +0000] [20] [INFO] Worker exiting (pid: 20)\n",
      "[2021-10-11 16:59:00 +0000] [23] [INFO] Booting worker with pid: 23\n",
      "[2021-10-11 18:28:15 +0000] [1] [CRITICAL] WORKER TIMEOUT (pid:23)\n",
      "[2021-10-11 18:28:15 +0000] [23] [INFO] Worker exiting (pid: 23)\n",
      "[2021-10-11 18:28:15 +0000] [26] [INFO] Booting worker with pid: 26\n",
      "[2021-10-11 18:50:21 +0000] [1] [CRITICAL] WORKER TIMEOUT (pid:26)\n",
      "[2021-10-11 18:50:21 +0000] [26] [INFO] Worker exiting (pid: 26)\n",
      "[2021-10-11 18:50:22 +0000] [29] [INFO] Booting worker with pid: 29\n",
      "[2021-10-11 20:09:41 +0000] [1] [CRITICAL] WORKER TIMEOUT (pid:29)\n",
      "[2021-10-11 20:09:41 +0000] [29] [INFO] Worker exiting (pid: 29)\n",
      "[2021-10-11 20:09:41 +0000] [32] [INFO] Booting worker with pid: 32\n",
      "[2021-10-11 20:25:04 +0000] [1] [CRITICAL] WORKER TIMEOUT (pid:32)\n",
      "[2021-10-11 20:25:04 +0000] [32] [INFO] Worker exiting (pid: 32)\n",
      "[2021-10-11 20:25:04 +0000] [35] [INFO] Booting worker with pid: 35\n",
      "[2021-10-11 20:43:49 +0000] [1] [CRITICAL] WORKER TIMEOUT (pid:35)\n",
      "[2021-10-11 20:43:49 +0000] [35] [INFO] Worker exiting (pid: 35)\n",
      "[2021-10-11 20:43:50 +0000] [1] [WARNING] Worker with pid 35 was terminated due to signal 9\n",
      "[2021-10-11 20:43:50 +0000] [38] [INFO] Booting worker with pid: 38\n",
      "[2021-10-11 20:59:42 +0000] [1] [CRITICAL] WORKER TIMEOUT (pid:38)\n",
      "[2021-10-11 20:59:42 +0000] [38] [INFO] Worker exiting (pid: 38)\n",
      "[2021-10-11 20:59:42 +0000] [41] [INFO] Booting worker with pid: 41\n",
      "[2021-10-11 21:15:34 +0000] [1] [CRITICAL] WORKER TIMEOUT (pid:41)\n",
      "[2021-10-11 21:15:34 +0000] [41] [INFO] Worker exiting (pid: 41)\n",
      "[2021-10-11 21:15:34 +0000] [44] [INFO] Booting worker with pid: 44\n",
      "[2021-10-11 21:30:58 +0000] [1] [CRITICAL] WORKER TIMEOUT (pid:44)\n",
      "[2021-10-11 21:30:58 +0000] [44] [INFO] Worker exiting (pid: 44)\n",
      "[2021-10-11 21:30:58 +0000] [47] [INFO] Booting worker with pid: 47\n",
      "[2021-10-11 21:46:51 +0000] [1] [CRITICAL] WORKER TIMEOUT (pid:47)\n",
      "[2021-10-11 21:46:51 +0000] [47] [INFO] Worker exiting (pid: 47)\n",
      "[2021-10-11 21:46:53 +0000] [1] [WARNING] Worker with pid 47 was terminated due to signal 9\n",
      "[2021-10-11 21:46:53 +0000] [50] [INFO] Booting worker with pid: 50\n",
      "[2021-10-11 22:02:44 +0000] [1] [CRITICAL] WORKER TIMEOUT (pid:50)\n",
      "[2021-10-11 22:02:44 +0000] [50] [INFO] Worker exiting (pid: 50)\n",
      "[2021-10-11 22:02:45 +0000] [53] [INFO] Booting worker with pid: 53\n",
      "[2021-10-11 22:18:07 +0000] [1] [CRITICAL] WORKER TIMEOUT (pid:53)\n",
      "[2021-10-11 22:18:07 +0000] [53] [INFO] Worker exiting (pid: 53)\n",
      "[2021-10-11 22:18:07 +0000] [56] [INFO] Booting worker with pid: 56\n",
      "[2021-10-11 22:34:00 +0000] [1] [CRITICAL] WORKER TIMEOUT (pid:56)\n",
      "[2021-10-11 22:34:00 +0000] [56] [INFO] Worker exiting (pid: 56)\n",
      "[2021-10-11 22:34:01 +0000] [59] [INFO] Booting worker with pid: 59\n",
      "[2021-10-11 22:49:54 +0000] [1] [CRITICAL] WORKER TIMEOUT (pid:59)\n",
      "[2021-10-11 22:49:54 +0000] [59] [INFO] Worker exiting (pid: 59)\n",
      "[2021-10-11 22:49:55 +0000] [1] [WARNING] Worker with pid 59 was terminated due to signal 9\n",
      "[2021-10-11 22:49:55 +0000] [62] [INFO] Booting worker with pid: 62\n",
      "[2021-10-11 23:05:47 +0000] [1] [CRITICAL] WORKER TIMEOUT (pid:62)\n",
      "[2021-10-11 23:05:47 +0000] [62] [INFO] Worker exiting (pid: 62)\n",
      "[2021-10-11 23:05:47 +0000] [65] [INFO] Booting worker with pid: 65\n",
      "[2021-10-11 23:21:10 +0000] [1] [CRITICAL] WORKER TIMEOUT (pid:65)\n",
      "[2021-10-11 23:21:10 +0000] [65] [INFO] Worker exiting (pid: 65)\n",
      "[2021-10-11 23:21:10 +0000] [68] [INFO] Booting worker with pid: 68\n",
      "[2021-10-11 23:37:03 +0000] [1] [CRITICAL] WORKER TIMEOUT (pid:68)\n",
      "[2021-10-11 23:37:03 +0000] [68] [INFO] Worker exiting (pid: 68)\n",
      "[2021-10-11 23:37:04 +0000] [1] [WARNING] Worker with pid 68 was terminated due to signal 9\n",
      "[2021-10-11 23:37:04 +0000] [71] [INFO] Booting worker with pid: 71\n",
      "[2021-10-11 23:52:56 +0000] [1] [CRITICAL] WORKER TIMEOUT (pid:71)\n",
      "[2021-10-11 23:52:56 +0000] [71] [INFO] Worker exiting (pid: 71)\n",
      "[2021-10-11 23:52:57 +0000] [1] [WARNING] Worker with pid 71 was terminated due to signal 9\n",
      "[2021-10-11 23:52:57 +0000] [74] [INFO] Booting worker with pid: 74\n",
      "[2021-10-12 00:08:50 +0000] [1] [CRITICAL] WORKER TIMEOUT (pid:74)\n",
      "[2021-10-12 00:08:50 +0000] [74] [INFO] Worker exiting (pid: 74)\n",
      "[2021-10-12 00:08:50 +0000] [77] [INFO] Booting worker with pid: 77\n",
      "[2021-10-12 00:24:13 +0000] [1] [CRITICAL] WORKER TIMEOUT (pid:77)\n",
      "[2021-10-12 00:24:13 +0000] [77] [INFO] Worker exiting (pid: 77)\n",
      "[2021-10-12 00:24:13 +0000] [80] [INFO] Booting worker with pid: 80\n",
      "[2021-10-12 00:40:06 +0000] [1] [CRITICAL] WORKER TIMEOUT (pid:80)\n",
      "[2021-10-12 00:40:06 +0000] [80] [INFO] Worker exiting (pid: 80)\n",
      "[2021-10-12 00:40:07 +0000] [1] [WARNING] Worker with pid 80 was terminated due to signal 9\n",
      "[2021-10-12 00:40:07 +0000] [83] [INFO] Booting worker with pid: 83\n",
      "[2021-10-12 00:55:59 +0000] [1] [CRITICAL] WORKER TIMEOUT (pid:83)\n",
      "[2021-10-12 00:55:59 +0000] [83] [INFO] Worker exiting (pid: 83)\n",
      "[2021-10-12 00:55:59 +0000] [86] [INFO] Booting worker with pid: 86\n",
      "[2021-10-12 01:11:23 +0000] [1] [CRITICAL] WORKER TIMEOUT (pid:86)\n",
      "[2021-10-12 01:11:23 +0000] [86] [INFO] Worker exiting (pid: 86)\n",
      "[2021-10-12 01:11:23 +0000] [89] [INFO] Booting worker with pid: 89\n",
      "[2021-10-12 01:27:16 +0000] [1] [CRITICAL] WORKER TIMEOUT (pid:89)\n",
      "[2021-10-12 01:27:16 +0000] [89] [INFO] Worker exiting (pid: 89)\n",
      "[2021-10-12 01:27:16 +0000] [92] [INFO] Booting worker with pid: 92\n",
      "[2021-10-12 01:43:09 +0000] [1] [CRITICAL] WORKER TIMEOUT (pid:92)\n",
      "[2021-10-12 01:43:09 +0000] [92] [INFO] Worker exiting (pid: 92)\n",
      "[2021-10-12 01:43:10 +0000] [1] [WARNING] Worker with pid 92 was terminated due to signal 9\n",
      "[2021-10-12 01:43:10 +0000] [95] [INFO] Booting worker with pid: 95\n",
      "[2021-10-12 01:59:03 +0000] [1] [CRITICAL] WORKER TIMEOUT (pid:95)\n",
      "[2021-10-12 01:59:03 +0000] [95] [INFO] Worker exiting (pid: 95)\n",
      "[2021-10-12 01:59:03 +0000] [98] [INFO] Booting worker with pid: 98\n",
      "[2021-10-12 02:14:26 +0000] [1] [CRITICAL] WORKER TIMEOUT (pid:98)\n",
      "[2021-10-12 02:14:26 +0000] [98] [INFO] Worker exiting (pid: 98)\n",
      "[2021-10-12 02:14:26 +0000] [101] [INFO] Booting worker with pid: 101\n",
      "[2021-10-12 02:30:19 +0000] [1] [CRITICAL] WORKER TIMEOUT (pid:101)\n",
      "[2021-10-12 02:30:19 +0000] [101] [INFO] Worker exiting (pid: 101)\n",
      "[2021-10-12 02:30:20 +0000] [1] [WARNING] Worker with pid 101 was terminated due to signal 9\n",
      "[2021-10-12 02:30:20 +0000] [104] [INFO] Booting worker with pid: 104\n",
      "[2021-10-12 02:46:12 +0000] [1] [CRITICAL] WORKER TIMEOUT (pid:104)\n",
      "[2021-10-12 02:46:12 +0000] [104] [INFO] Worker exiting (pid: 104)\n",
      "[2021-10-12 02:46:13 +0000] [1] [WARNING] Worker with pid 104 was terminated due to signal 9\n",
      "[2021-10-12 02:46:13 +0000] [107] [INFO] Booting worker with pid: 107\n",
      "[2021-10-12 03:02:04 +0000] [1] [CRITICAL] WORKER TIMEOUT (pid:107)\n",
      "[2021-10-12 03:02:04 +0000] [107] [INFO] Worker exiting (pid: 107)\n",
      "[2021-10-12 03:02:05 +0000] [110] [INFO] Booting worker with pid: 110\n",
      "[2021-10-12 03:17:27 +0000] [1] [CRITICAL] WORKER TIMEOUT (pid:110)\n",
      "[2021-10-12 03:17:27 +0000] [110] [INFO] Worker exiting (pid: 110)\n",
      "[2021-10-12 03:17:27 +0000] [113] [INFO] Booting worker with pid: 113\n",
      "[2021-10-12 03:33:20 +0000] [1] [CRITICAL] WORKER TIMEOUT (pid:113)\n",
      "[2021-10-12 03:33:20 +0000] [113] [INFO] Worker exiting (pid: 113)\n",
      "[2021-10-12 03:33:21 +0000] [1] [WARNING] Worker with pid 113 was terminated due to signal 9\n",
      "[2021-10-12 03:33:22 +0000] [116] [INFO] Booting worker with pid: 116\n",
      "[2021-10-12 03:49:14 +0000] [1] [CRITICAL] WORKER TIMEOUT (pid:116)\n",
      "[2021-10-12 03:49:14 +0000] [116] [INFO] Worker exiting (pid: 116)\n",
      "[2021-10-12 03:49:14 +0000] [119] [INFO] Booting worker with pid: 119\n",
      "[2021-10-12 04:36:24 +0000] [1] [CRITICAL] WORKER TIMEOUT (pid:119)\n",
      "[2021-10-12 04:36:24 +0000] [119] [INFO] Worker exiting (pid: 119)\n",
      "[2021-10-12 04:36:25 +0000] [1] [WARNING] Worker with pid 119 was terminated due to signal 9\n",
      "[2021-10-12 04:36:25 +0000] [122] [INFO] Booting worker with pid: 122\n",
      "[2021-10-12 04:52:18 +0000] [1] [CRITICAL] WORKER TIMEOUT (pid:122)\n",
      "[2021-10-12 04:52:18 +0000] [122] [INFO] Worker exiting (pid: 122)\n",
      "[2021-10-12 04:52:18 +0000] [125] [INFO] Booting worker with pid: 125\n",
      "[2021-10-12 05:07:41 +0000] [1] [CRITICAL] WORKER TIMEOUT (pid:125)\n",
      "[2021-10-12 05:07:41 +0000] [125] [INFO] Worker exiting (pid: 125)\n",
      "[2021-10-12 05:07:41 +0000] [128] [INFO] Booting worker with pid: 128\n",
      "[2021-10-12 05:23:34 +0000] [1] [CRITICAL] WORKER TIMEOUT (pid:128)\n",
      "[2021-10-12 05:23:34 +0000] [128] [INFO] Worker exiting (pid: 128)\n",
      "[2021-10-12 05:23:36 +0000] [1] [WARNING] Worker with pid 128 was terminated due to signal 9\n",
      "[2021-10-12 05:23:36 +0000] [131] [INFO] Booting worker with pid: 131\n",
      "[2021-10-12 05:39:27 +0000] [1] [CRITICAL] WORKER TIMEOUT (pid:131)\n",
      "[2021-10-12 05:39:27 +0000] [131] [INFO] Worker exiting (pid: 131)\n",
      "[2021-10-12 05:39:29 +0000] [1] [WARNING] Worker with pid 131 was terminated due to signal 9\n",
      "[2021-10-12 05:39:29 +0000] [134] [INFO] Booting worker with pid: 134\n",
      "[2021-10-12 05:55:21 +0000] [1] [CRITICAL] WORKER TIMEOUT (pid:134)\n",
      "[2021-10-12 05:55:21 +0000] [134] [INFO] Worker exiting (pid: 134)\n",
      "[2021-10-12 05:55:21 +0000] [137] [INFO] Booting worker with pid: 137\n",
      "[2021-10-12 06:10:22 +0000] [1] [CRITICAL] WORKER TIMEOUT (pid:137)\n",
      "[2021-10-12 06:10:22 +0000] [137] [INFO] Worker exiting (pid: 137)\n",
      "[2021-10-12 06:10:22 +0000] [140] [INFO] Booting worker with pid: 140\n",
      "[2021-10-12 06:29:45 +0000] [1] [CRITICAL] WORKER TIMEOUT (pid:140)\n",
      "[2021-10-12 06:29:45 +0000] [140] [INFO] Worker exiting (pid: 140)\n",
      "[2021-10-12 06:29:45 +0000] [143] [INFO] Booting worker with pid: 143\n",
      "[2021-10-12 06:45:10 +0000] [1] [CRITICAL] WORKER TIMEOUT (pid:143)\n",
      "[2021-10-12 06:45:10 +0000] [143] [INFO] Worker exiting (pid: 143)\n",
      "[2021-10-12 06:45:10 +0000] [146] [INFO] Booting worker with pid: 146\n",
      "[2021-10-12 07:27:31 +0000] [1] [CRITICAL] WORKER TIMEOUT (pid:146)\n",
      "[2021-10-12 07:27:31 +0000] [146] [INFO] Worker exiting (pid: 146)\n",
      "[2021-10-12 07:27:31 +0000] [149] [INFO] Booting worker with pid: 149\n",
      "[2021-10-12 10:10:50 +0000] [1] [CRITICAL] WORKER TIMEOUT (pid:149)\n",
      "[2021-10-12 10:10:50 +0000] [149] [INFO] Worker exiting (pid: 149)\n",
      "[2021-10-12 10:10:50 +0000] [152] [INFO] Booting worker with pid: 152\n",
      "[2021-10-12 10:45:04 +0000] [1] [CRITICAL] WORKER TIMEOUT (pid:152)\n",
      "[2021-10-12 10:45:04 +0000] [152] [INFO] Worker exiting (pid: 152)\n",
      "[2021-10-12 10:45:04 +0000] [155] [INFO] Booting worker with pid: 155\n"
     ]
    }
   ],
   "source": [
    "!docker run -it -p 9696:9696 --rm zoomcamp-model\n",
    "!docker stop"
   ]
  },
  {
   "cell_type": "code",
   "execution_count": null,
   "metadata": {},
   "outputs": [],
   "source": [
    "url = 'http://localhost:9696/predict'\n",
    "\n",
    "customer3 = {\"contract\": \"two_year\", \"tenure\": 12, \"monthlycharges\": 10}"
   ]
  },
  {
   "cell_type": "code",
   "execution_count": null,
   "metadata": {},
   "outputs": [
    {
     "data": {
      "text/plain": [
       "{'churn': False, 'churn_probability': 0.32940789808151005}"
      ]
     },
     "execution_count": 40,
     "metadata": {},
     "output_type": "execute_result"
    }
   ],
   "source": [
    "requests.post(url, json=customer3).json()"
   ]
  },
  {
   "cell_type": "markdown",
   "metadata": {},
   "source": [
    "Therefore the churn prob for this customer is 0.32940789808151005."
   ]
  }
 ],
 "metadata": {
  "interpreter": {
   "hash": "1d3b2f231d5bfdd129833ad38ed9bd5c64c774843edb8e1663ec7bfd4633d46c"
  },
  "kernelspec": {
   "display_name": "Python 3.8.11 64-bit ('ml-zoomcamp': conda)",
   "name": "python3"
  },
  "language_info": {
   "codemirror_mode": {
    "name": "ipython",
    "version": 3
   },
   "file_extension": ".py",
   "mimetype": "text/x-python",
   "name": "python",
   "nbconvert_exporter": "python",
   "pygments_lexer": "ipython3",
   "version": "3.8.11"
  },
  "orig_nbformat": 4
 },
 "nbformat": 4,
 "nbformat_minor": 2
}
