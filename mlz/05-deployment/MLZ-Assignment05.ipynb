{
 "cells": [
  {
   "cell_type": "markdown",
   "source": [
    "## MLZoomcamp: Homework 5"
   ],
   "metadata": {}
  },
  {
   "cell_type": "code",
   "execution_count": 24,
   "source": [
    "import pickle\n",
    "import requests\n",
    "\n",
    "# Multiple cell outputs\n",
    "from IPython.core.interactiveshell import InteractiveShell\n",
    "InteractiveShell.ast_node_interactivity = 'all'"
   ],
   "outputs": [],
   "metadata": {}
  },
  {
   "cell_type": "markdown",
   "source": [
    "### Question 1\n",
    "* Install Pipenv\n",
    "* What's the version of pipenv you installed?\n",
    "* Use --version to find out"
   ],
   "metadata": {}
  },
  {
   "cell_type": "code",
   "execution_count": 3,
   "source": [
    "!pipenv --version"
   ],
   "outputs": [
    {
     "output_type": "stream",
     "name": "stdout",
     "text": [
      "\u001b[39m\u001b[1mpipenv\u001b[39m\u001b[22m, version 2021.5.29\n",
      "\u001b[0m"
     ]
    }
   ],
   "metadata": {}
  },
  {
   "cell_type": "code",
   "execution_count": 4,
   "source": [
    "!pipenv install scikit-learn==1.0 flask"
   ],
   "outputs": [
    {
     "output_type": "stream",
     "name": "stdout",
     "text": [
      "\u001b[31m\u001b[1mWarning\u001b[39m\u001b[22m: the environment variable \u001b[39m\u001b[1mLANG\u001b[39m\u001b[22m is not set!\n",
      "We recommend setting this in \u001b[32m\u001b[22m~/.profile\u001b[39m\u001b[22m (or equivalent) for proper expected behavior.\n",
      "\u001b[39m\u001b[1mCreating a virtualenv for this project...\u001b[39m\u001b[22m\n",
      "Pipfile: \u001b[33m\u001b[1m/Users/rmcmaster/Documents/git_repos/pub_portfolio/mlz/05-deployment/Pipfile\u001b[39m\u001b[22m\n",
      "\u001b[39m\u001b[1mUsing\u001b[39m\u001b[22m \u001b[33m\u001b[1m/Users/rmcmaster/opt/anaconda3/envs/ml-zoomcamp/bin/python3\u001b[39m\u001b[22m \u001b[32m\u001b[22m(3.8.11)\u001b[39m\u001b[22m \u001b[39m\u001b[1mto create virtualenv...\u001b[39m\u001b[22m\n",
      "⠙\u001b[0m Creating virtual environment...\u001b[K\u001b[36m\u001b[22mcreated virtual environment CPython3.8.11.final.0-64 in 1453ms\n",
      "  creator CPython3Posix(dest=/Users/rmcmaster/.local/share/virtualenvs/05-deployment-nvbrQS9s, clear=False, no_vcs_ignore=False, global=False)\n",
      "  seeder FromAppData(download=False, pip=bundle, setuptools=bundle, wheel=bundle, via=copy, app_data_dir=/Users/rmcmaster/Library/Application Support/virtualenv)\n",
      "    added seed packages: pip==21.2.4, setuptools==58.1.0, wheel==0.37.0\n",
      "  activators BashActivator,CShellActivator,FishActivator,NushellActivator,PowerShellActivator,PythonActivator\n",
      "\u001b[39m\u001b[22m\n",
      "\u001b[K\u001b[?25h\u001b[32m\u001b[22m✔ Successfully created virtual environment!\u001b[39m\u001b[22m\u001b[0m \n",
      "Virtualenv location: \u001b[32m\u001b[22m/Users/rmcmaster/.local/share/virtualenvs/05-deployment-nvbrQS9s\u001b[39m\u001b[22m\n",
      "\u001b[39m\u001b[1mCreating a Pipfile for this project...\u001b[39m\u001b[22m\n",
      "\u001b[39m\u001b[1mInstalling \u001b[32m\u001b[1mscikit-learn==1.0\u001b[39m\u001b[22m...\u001b[39m\u001b[22m\n",
      "\u001b[K\u001b[39m\u001b[1mAdding\u001b[39m\u001b[22m \u001b[32m\u001b[1mscikit-learn\u001b[39m\u001b[22m \u001b[39m\u001b[1mto Pipfile's\u001b[39m\u001b[22m \u001b[33m\u001b[1m[packages]\u001b[39m\u001b[22m\u001b[39m\u001b[1m...\u001b[39m\u001b[22m\n",
      "\u001b[K\u001b[?25h✔ Installation Succeeded\u001b[0m \n",
      "\u001b[39m\u001b[1mInstalling \u001b[32m\u001b[1mflask\u001b[39m\u001b[22m...\u001b[39m\u001b[22m\n",
      "\u001b[K\u001b[39m\u001b[1mAdding\u001b[39m\u001b[22m \u001b[32m\u001b[1mflask\u001b[39m\u001b[22m \u001b[39m\u001b[1mto Pipfile's\u001b[39m\u001b[22m \u001b[33m\u001b[1m[packages]\u001b[39m\u001b[22m\u001b[39m\u001b[1m...\u001b[39m\u001b[22m\n",
      "\u001b[K\u001b[?25h✔ Installation Succeeded\u001b[0m \n",
      "\u001b[39m\u001b[1mPipfile.lock not found, creating...\u001b[39m\u001b[22m\n",
      "\u001b[39m\u001b[22mLocking\u001b[39m\u001b[22m \u001b[33m\u001b[22m[dev-packages]\u001b[39m\u001b[22m \u001b[39m\u001b[22mdependencies...\u001b[39m\u001b[22m\n",
      "\u001b[39m\u001b[22mLocking\u001b[39m\u001b[22m \u001b[33m\u001b[22m[packages]\u001b[39m\u001b[22m \u001b[39m\u001b[22mdependencies...\u001b[39m\u001b[22m\n",
      "\u001b[KBuilding requirements...\n",
      "\u001b[KResolving dependencies...\n",
      "\u001b[K\u001b[?25h\u001b[32m\u001b[22m✔ Success!\u001b[39m\u001b[22m\u001b[0m \n",
      "\u001b[39m\u001b[1mUpdated Pipfile.lock (e917d3)!\u001b[39m\u001b[22m\n",
      "\u001b[39m\u001b[1mInstalling dependencies from Pipfile.lock (e917d3)...\u001b[39m\u001b[22m\n",
      "\n",
      "To activate this project's virtualenv, run \u001b[33m\u001b[22mpipenv shell\u001b[39m\u001b[22m.\n",
      "Alternatively, run a command inside the virtualenv with \u001b[33m\u001b[22mpipenv run\u001b[39m\u001b[22m.\n",
      "\u001b[0m"
     ]
    }
   ],
   "metadata": {}
  },
  {
   "cell_type": "markdown",
   "source": [
    "### Question 2\n",
    "* Use Pipenv to install Scikit-Learn version 1.0\n",
    "* What's the first hash for scikit-learn you get in Pipfile.lock?"
   ],
   "metadata": {}
  },
  {
   "cell_type": "markdown",
   "source": [
    "\"sha256:121f78d6564000dc5e968394f45aac87981fcaaf2be40cfcd8f07b2baa1e1829\","
   ],
   "metadata": {}
  },
  {
   "cell_type": "markdown",
   "source": [
    "### Models\n",
    "\n",
    "We've prepared a dictionary vectorizer and a model.\n",
    "\n",
    "They were trained (roughly) using this code:\n",
    "\n",
    "features = ['tenure', 'monthlycharges', 'contract']\n",
    "dicts = df[features].to_dict(orient='records')\n",
    "\n",
    "dv = DictVectorizer(sparse=False)\n",
    "X = dv.fit_transform(dicts)\n",
    "\n",
    "model = LogisticRegression().fit(X, y)\n",
    "Note: You don't need to train the model. This code is just for your reference.\n",
    "\n",
    "And then saved with Pickle. Download them:"
   ],
   "metadata": {}
  },
  {
   "cell_type": "markdown",
   "source": [
    "### Question 3\n",
    "\n",
    "Let's use these models!\n",
    "\n",
    "* Write a script for loading these models with pickle\n",
    "* Score this customer:"
   ],
   "metadata": {}
  },
  {
   "cell_type": "code",
   "execution_count": 16,
   "source": [
    "dv_file = 'dv.bin'\n",
    "model_file = 'model1.bin'\n",
    "\n",
    "with open(dv_file, 'rb') as f_in:\n",
    "    dv = pickle.load(f_in)\n",
    "\n",
    "with open(model_file, 'rb') as f_in:\n",
    "    model = pickle.load(f_in)\n",
    "\n",
    "dv, model"
   ],
   "outputs": [
    {
     "output_type": "stream",
     "name": "stderr",
     "text": [
      "/Users/rmcmaster/opt/anaconda3/envs/ml-zoomcamp/lib/python3.8/site-packages/sklearn/base.py:310: UserWarning: Trying to unpickle estimator DictVectorizer from version 1.0 when using version 0.24.2. This might lead to breaking code or invalid results. Use at your own risk.\n",
      "  warnings.warn(\n",
      "/Users/rmcmaster/opt/anaconda3/envs/ml-zoomcamp/lib/python3.8/site-packages/sklearn/base.py:310: UserWarning: Trying to unpickle estimator LogisticRegression from version 1.0 when using version 0.24.2. This might lead to breaking code or invalid results. Use at your own risk.\n",
      "  warnings.warn(\n"
     ]
    },
    {
     "output_type": "execute_result",
     "data": {
      "text/plain": [
       "(DictVectorizer(sparse=False), LogisticRegression())"
      ]
     },
     "metadata": {},
     "execution_count": 16
    }
   ],
   "metadata": {}
  },
  {
   "cell_type": "code",
   "execution_count": 13,
   "source": [
    "customer = {\"contract\": \"two_year\", \"tenure\": 12, \"monthlycharges\": 19.7}"
   ],
   "outputs": [],
   "metadata": {}
  },
  {
   "cell_type": "code",
   "execution_count": 15,
   "source": [
    "X = dv.transform(customer)\n",
    "model.predict_proba(X)[0, 1]"
   ],
   "outputs": [
    {
     "output_type": "execute_result",
     "data": {
      "text/plain": [
       "0.11549580587832914"
      ]
     },
     "metadata": {},
     "execution_count": 15
    }
   ],
   "metadata": {}
  },
  {
   "cell_type": "markdown",
   "source": [
    "The churn probability for this customer is therefore 0.11549580587832914."
   ],
   "metadata": {}
  },
  {
   "cell_type": "markdown",
   "source": [
    "### Question 4\n",
    "\n",
    "Now let's serve this model as a web service\n",
    "\n",
    "* Install Flask and Gunicorn (or waitress, if you're on Windows)\n",
    "* Write Flask code for serving the model\n",
    "* Now score this customer using requests:\n",
    "    * url = \"YOUR_URL\"\n",
    "    * customer = {\"contract\": \"two_year\", \"tenure\": 1, \"monthlycharges\": 10}\n",
    "    * requests.post(url, json=customer).json()\n",
    "* What's the probability that this customer is churning?"
   ],
   "metadata": {}
  },
  {
   "cell_type": "code",
   "execution_count": 19,
   "source": [
    "!pipenv install gunicorn, numpy"
   ],
   "outputs": [
    {
     "output_type": "stream",
     "name": "stdout",
     "text": [
      "\u001b[39m\u001b[1mInstalling \u001b[32m\u001b[1mgunicorn,\u001b[39m\u001b[22m...\u001b[39m\u001b[22m\n",
      "\u001b[K\u001b[?25hTraceback (most recent call last):\n",
      "  File \"/Users/rmcmaster/opt/anaconda3/envs/ml-zoomcamp/lib/python3.8/site-packages/pkg_resources/_vendor/packaging/requirements.py\", line 98, in __init__\n",
      "    req = REQUIREMENT.parseString(requirement_string)\n",
      "  File \"/Users/rmcmaster/opt/anaconda3/envs/ml-zoomcamp/lib/python3.8/site-packages/pkg_resources/_vendor/pyparsing.py\", line 1654, in parseString\n",
      "    raise exc\n",
      "  File \"/Users/rmcmaster/opt/anaconda3/envs/ml-zoomcamp/lib/python3.8/site-packages/pkg_resources/_vendor/pyparsing.py\", line 1644, in parseString\n",
      "    loc, tokens = self._parse( instring, 0 )\n",
      "  File \"/Users/rmcmaster/opt/anaconda3/envs/ml-zoomcamp/lib/python3.8/site-packages/pkg_resources/_vendor/pyparsing.py\", line 1402, in _parseNoCache\n",
      "    loc,tokens = self.parseImpl( instring, preloc, doActions )\n",
      "  File \"/Users/rmcmaster/opt/anaconda3/envs/ml-zoomcamp/lib/python3.8/site-packages/pkg_resources/_vendor/pyparsing.py\", line 3417, in parseImpl\n",
      "    loc, exprtokens = e._parse( instring, loc, doActions )\n",
      "  File \"/Users/rmcmaster/opt/anaconda3/envs/ml-zoomcamp/lib/python3.8/site-packages/pkg_resources/_vendor/pyparsing.py\", line 1406, in _parseNoCache\n",
      "    loc,tokens = self.parseImpl( instring, preloc, doActions )\n",
      "  File \"/Users/rmcmaster/opt/anaconda3/envs/ml-zoomcamp/lib/python3.8/site-packages/pkg_resources/_vendor/pyparsing.py\", line 3205, in parseImpl\n",
      "    raise ParseException(instring, loc, self.errmsg, self)\n",
      "pkg_resources._vendor.pyparsing.ParseException: Expected stringEnd (at char 8), (line:1, col:9)\n",
      "\n",
      "During handling of the above exception, another exception occurred:\n",
      "\n",
      "Traceback (most recent call last):\n",
      "  File \"/Users/rmcmaster/opt/anaconda3/envs/ml-zoomcamp/lib/python3.8/site-packages/pipenv/vendor/requirementslib/models/requirements.py\", line 966, in _parse_name_from_line\n",
      "    self._requirement = init_requirement(self.line)\n",
      "  File \"/Users/rmcmaster/opt/anaconda3/envs/ml-zoomcamp/lib/python3.8/site-packages/pipenv/vendor/requirementslib/models/utils.py\", line 200, in init_requirement\n",
      "    req = Requirement.parse(name)\n",
      "  File \"/Users/rmcmaster/opt/anaconda3/envs/ml-zoomcamp/lib/python3.8/site-packages/pkg_resources/__init__.py\", line 3139, in parse\n",
      "    req, = parse_requirements(s)\n",
      "  File \"/Users/rmcmaster/opt/anaconda3/envs/ml-zoomcamp/lib/python3.8/site-packages/pkg_resources/__init__.py\", line 3084, in parse_requirements\n",
      "    yield Requirement(line)\n",
      "  File \"/Users/rmcmaster/opt/anaconda3/envs/ml-zoomcamp/lib/python3.8/site-packages/pkg_resources/__init__.py\", line 3094, in __init__\n",
      "    super(Requirement, self).__init__(requirement_string)\n",
      "  File \"/Users/rmcmaster/opt/anaconda3/envs/ml-zoomcamp/lib/python3.8/site-packages/pkg_resources/_vendor/packaging/requirements.py\", line 100, in __init__\n",
      "    raise InvalidRequirement(\n",
      "pkg_resources.extern.packaging.requirements.InvalidRequirement: Parse error at \"','\": Expected stringEnd\n",
      "\n",
      "During handling of the above exception, another exception occurred:\n",
      "\n",
      "Traceback (most recent call last):\n",
      "  File \"/Users/rmcmaster/opt/anaconda3/envs/ml-zoomcamp/bin/pipenv\", line 8, in <module>\n",
      "    sys.exit(cli())\n",
      "  File \"/Users/rmcmaster/opt/anaconda3/envs/ml-zoomcamp/lib/python3.8/site-packages/pipenv/vendor/click/core.py\", line 829, in __call__\n",
      "    return self.main(*args, **kwargs)\n",
      "  File \"/Users/rmcmaster/opt/anaconda3/envs/ml-zoomcamp/lib/python3.8/site-packages/pipenv/vendor/click/core.py\", line 782, in main\n",
      "    rv = self.invoke(ctx)\n",
      "  File \"/Users/rmcmaster/opt/anaconda3/envs/ml-zoomcamp/lib/python3.8/site-packages/pipenv/vendor/click/core.py\", line 1259, in invoke\n",
      "    return _process_result(sub_ctx.command.invoke(sub_ctx))\n",
      "  File \"/Users/rmcmaster/opt/anaconda3/envs/ml-zoomcamp/lib/python3.8/site-packages/pipenv/vendor/click/core.py\", line 1066, in invoke\n",
      "    return ctx.invoke(self.callback, **ctx.params)\n",
      "  File \"/Users/rmcmaster/opt/anaconda3/envs/ml-zoomcamp/lib/python3.8/site-packages/pipenv/vendor/click/core.py\", line 610, in invoke\n",
      "    return callback(*args, **kwargs)\n",
      "  File \"/Users/rmcmaster/opt/anaconda3/envs/ml-zoomcamp/lib/python3.8/site-packages/pipenv/vendor/click/decorators.py\", line 73, in new_func\n",
      "    return ctx.invoke(f, obj, *args, **kwargs)\n",
      "  File \"/Users/rmcmaster/opt/anaconda3/envs/ml-zoomcamp/lib/python3.8/site-packages/pipenv/vendor/click/core.py\", line 610, in invoke\n",
      "    return callback(*args, **kwargs)\n",
      "  File \"/Users/rmcmaster/opt/anaconda3/envs/ml-zoomcamp/lib/python3.8/site-packages/pipenv/vendor/click/decorators.py\", line 21, in new_func\n",
      "    return f(get_current_context(), *args, **kwargs)\n",
      "  File \"/Users/rmcmaster/opt/anaconda3/envs/ml-zoomcamp/lib/python3.8/site-packages/pipenv/cli/command.py\", line 233, in install\n",
      "    retcode = do_install(\n",
      "  File \"/Users/rmcmaster/opt/anaconda3/envs/ml-zoomcamp/lib/python3.8/site-packages/pipenv/core.py\", line 2100, in do_install\n",
      "    pkg_requirement = Requirement.from_line(pkg_line)\n",
      "  File \"/Users/rmcmaster/opt/anaconda3/envs/ml-zoomcamp/lib/python3.8/site-packages/pipenv/vendor/requirementslib/models/requirements.py\", line 2676, in from_line\n",
      "    parsed_line = Line(line)\n",
      "  File \"/Users/rmcmaster/opt/anaconda3/envs/ml-zoomcamp/lib/python3.8/site-packages/pipenv/vendor/requirementslib/models/requirements.py\", line 171, in __init__\n",
      "    self.parse()\n",
      "  File \"/Users/rmcmaster/opt/anaconda3/envs/ml-zoomcamp/lib/python3.8/site-packages/pipenv/vendor/requirementslib/models/requirements.py\", line 1304, in parse\n",
      "    self.parse_name()\n",
      "  File \"/Users/rmcmaster/opt/anaconda3/envs/ml-zoomcamp/lib/python3.8/site-packages/pipenv/vendor/requirementslib/models/requirements.py\", line 1027, in parse_name\n",
      "    name = self._parse_name_from_line()\n",
      "  File \"/Users/rmcmaster/opt/anaconda3/envs/ml-zoomcamp/lib/python3.8/site-packages/pipenv/vendor/requirementslib/models/requirements.py\", line 968, in _parse_name_from_line\n",
      "    raise RequirementError(\n",
      "pipenv.vendor.requirementslib.exceptions.RequirementError: Failed parsing requirement from 'gunicorn,'\n",
      "\u001b[0m"
     ]
    }
   ],
   "metadata": {}
  },
  {
   "cell_type": "code",
   "execution_count": 21,
   "source": [
    "url = 'http://localhost:9696/predict'\n",
    "\n",
    "customer2 = {\"contract\": \"two_year\", \"tenure\": 1, \"monthlycharges\": 10}\n",
    "requests.post(url, json=customer2).json()"
   ],
   "outputs": [],
   "metadata": {}
  },
  {
   "cell_type": "code",
   "execution_count": 25,
   "source": [
    "# Checking with previous customer\n",
    "requests.post(url, json=customer).json()\n",
    "# And vice versa\n",
    "X = dv.transform(customer2)\n",
    "model.predict_proba(X)[0, 1]"
   ],
   "outputs": [
    {
     "output_type": "execute_result",
     "data": {
      "text/plain": [
       "{'churn': False, 'churn_probability': 0.11549580587832914}"
      ]
     },
     "metadata": {},
     "execution_count": 25
    },
    {
     "output_type": "execute_result",
     "data": {
      "text/plain": [
       "0.9988892771007961"
      ]
     },
     "metadata": {},
     "execution_count": 25
    }
   ],
   "metadata": {}
  },
  {
   "cell_type": "markdown",
   "source": [
    "### Docker\n",
    "\n",
    "Install Docker. We will use it for the next two questions.\n",
    "\n",
    "For these questions, I prepared a base image: agrigorev/zoomcamp-model:3.8.12-slim. You'll need to use it (see Question 5 for an example).\n",
    "\n",
    "This image is based on python:3.8.12-slim and has a logistic regression model (a different one) as well a dictionary vectorizer inside.\n",
    "\n",
    "This is how the Dockerfile for this image looks like:\n",
    "\n",
    "FROM python:3.8.12-slim\n",
    "WORKDIR /app\n",
    "COPY [\"model2.bin\", \"dv.bin\", \"./\"]\n",
    "I already built it and then pushed it to agrigorev/zoomcamp-model:3.8.12-slim.\n",
    "\n",
    "Note: You don't need to build this docker image, it's just for your reference."
   ],
   "metadata": {}
  },
  {
   "cell_type": "markdown",
   "source": [
    "### Question 5\n",
    "\n",
    "Now create your own Dockerfile based on the image I prepared.\n",
    "\n",
    "It should start like that:\n",
    "\n",
    "FROM agrigorev/zoomcamp-model:3.8.12-slim\n",
    "\\# add your stuff here\n",
    "Now complete it:\n",
    "\n",
    "* Install all the dependencies form the Pipenv file\n",
    "* Copy your Flask script\n",
    "* Run it with gunicorn\n",
    "When you build your image, what's the digest for agrigorev/zoomcamp-model:3.8.12-slim?\n",
    "\n",
    "Look at the first step of your build log. It should look something like that:\n",
    "\n",
    "Step 1/3 : FROM python:3.8.12-slim\n",
    " ---> 2e56f6b0af69"
   ],
   "metadata": {}
  },
  {
   "cell_type": "markdown",
   "source": [
    "### Question 6\n",
    "\n",
    "Let's run your docker container!\n",
    "\n",
    "After running it, score the same customer:\n",
    "\n",
    "url = \"YOUR_URL\"\n",
    "customer = {\"contract\": \"two_year\", \"tenure\": 12, \"monthlycharges\": 10}\n",
    "requests.post(url, json=customer).json()\n",
    "What's the probability that this customer is churning?"
   ],
   "metadata": {}
  },
  {
   "cell_type": "markdown",
   "source": [],
   "metadata": {}
  }
 ],
 "metadata": {
  "orig_nbformat": 4,
  "language_info": {
   "name": "python",
   "version": "3.8.11",
   "mimetype": "text/x-python",
   "codemirror_mode": {
    "name": "ipython",
    "version": 3
   },
   "pygments_lexer": "ipython3",
   "nbconvert_exporter": "python",
   "file_extension": ".py"
  },
  "kernelspec": {
   "name": "python3",
   "display_name": "Python 3.8.11 64-bit ('ml-zoomcamp': conda)"
  },
  "interpreter": {
   "hash": "1d3b2f231d5bfdd129833ad38ed9bd5c64c774843edb8e1663ec7bfd4633d46c"
  }
 },
 "nbformat": 4,
 "nbformat_minor": 2
}