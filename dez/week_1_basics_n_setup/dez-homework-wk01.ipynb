{
 "cells": [
  {
   "cell_type": "markdown",
   "metadata": {},
   "source": [
    "### Q1"
   ]
  },
  {
   "cell_type": "code",
   "execution_count": 1,
   "metadata": {},
   "outputs": [
    {
     "name": "stdout",
     "output_type": "stream",
     "text": [
      "Google Cloud SDK 370.0.0\n",
      "bq 2.0.73\n",
      "core 2022.01.21\n",
      "gsutil 5.6\n"
     ]
    }
   ],
   "source": [
    "!gcloud --version"
   ]
  },
  {
   "cell_type": "markdown",
   "metadata": {},
   "source": [
    "### Q2"
   ]
  },
  {
   "cell_type": "code",
   "execution_count": 2,
   "metadata": {},
   "outputs": [
    {
     "name": "stdout",
     "output_type": "stream",
     "text": [
      "/Users/rmcmaster/Documents/git_repos/pub_portfolio/data-engineering-zoomcamp/week_1_basics_n_setup/1_terraform_gcp/terraform\n",
      "/Users/rmcmaster/Documents/git_repos/pub_portfolio/data-engineering-zoomcamp/week_1_basics_n_setup/1_terraform_gcp/terraform\n"
     ]
    }
   ],
   "source": [
    "%cd /Users/rmcmaster/Documents/git_repos/pub_portfolio/data-engineering-zoomcamp/week_1_basics_n_setup/1_terraform_gcp/terraform\n",
    "!pwd"
   ]
  },
  {
   "cell_type": "code",
   "execution_count": 3,
   "metadata": {},
   "outputs": [
    {
     "name": "stdout",
     "output_type": "stream",
     "text": [
      "\n",
      "\u001b[0m\u001b[1mInitializing the backend...\u001b[0m\n",
      "\n",
      "\u001b[0m\u001b[1mInitializing provider plugins...\u001b[0m\n",
      "- Reusing previous version of hashicorp/google from the dependency lock file\n",
      "- Using previously-installed hashicorp/google v4.8.0\n",
      "\n",
      "\u001b[0m\u001b[1m\u001b[32mTerraform has been successfully initialized!\u001b[0m\u001b[32m\u001b[0m\n",
      "\u001b[0m\u001b[32m\n",
      "You may now begin working with Terraform. Try running \"terraform plan\" to see\n",
      "any changes that are required for your infrastructure. All Terraform commands\n",
      "should now work.\n",
      "\n",
      "If you ever set or change modules or backend configuration for Terraform,\n",
      "rerun this command to reinitialize your working directory. If you forget, other\n",
      "commands will detect it and remind you to do so if necessary.\u001b[0m\n"
     ]
    }
   ],
   "source": [
    "!terraform init"
   ]
  },
  {
   "cell_type": "code",
   "execution_count": 4,
   "metadata": {},
   "outputs": [
    {
     "name": "stdout",
     "output_type": "stream",
     "text": [
      "SHELL /bin/zsh\n",
      "TMPDIR /var/folders/cm/f7bqnp8d2k92zqpw9jr5cy3h0000gp/T/\n",
      "CONDA_SHLVL 2\n",
      "PYTHONUNBUFFERED 1\n",
      "CONDA_PROMPT_MODIFIER (ml-zoomcamp) \n",
      "ORIGINAL_XDG_CURRENT_DESKTOP undefined\n",
      "PYTHONIOENCODING utf-8\n",
      "USER rmcmaster\n",
      "VSCODE_VERBOSE_LOGGING true\n",
      "COMMAND_MODE unix2003\n",
      "CONDA_EXE /Users/rmcmaster/opt/anaconda3/bin/conda\n",
      "SSH_AUTH_SOCK /private/tmp/com.apple.launchd.6Vqc80tihO/Listeners\n",
      "VSCODE_PIPE_LOGGING true\n",
      "__CF_USER_TEXT_ENCODING 0x1F6:0x0:0x6C\n",
      "VSCODE_LOG_STACK false\n",
      "VSCODE_AMD_ENTRYPOINT vs/workbench/services/extensions/node/extensionHostProcess\n",
      "ELECTRON_RUN_AS_NODE 1\n",
      "_CE_CONDA \n",
      "CONDA_PREFIX_1 /Users/rmcmaster/opt/anaconda3\n",
      "PATH /Users/rmcmaster/google-cloud-sdk/bin:/Users/rmcmaster/opt/anaconda3/envs/ml-zoomcamp/bin:/Users/rmcmaster/opt/anaconda3/condabin:/opt/local/bin:/opt/local/sbin:/usr/local/bin:/usr/bin:/bin:/usr/sbin:/sbin:/usr/local/munki\n",
      "CONDA_PREFIX /Users/rmcmaster/opt/anaconda3/envs/ml-zoomcamp\n",
      "__CFBundleIdentifier com.microsoft.VSCode\n",
      "PWD /\n",
      "VSCODE_HANDLES_UNCAUGHT_ERRORS true\n",
      "GCP_DTC_DE_PROJ awesome-highway-339409\n",
      "XPC_FLAGS 0x0\n",
      "VSCODE_LOG_NATIVE false\n",
      "_CE_M \n",
      "XPC_SERVICE_NAME 0\n",
      "SHLVL 1\n",
      "HOME /Users/rmcmaster\n",
      "APPLICATION_INSIGHTS_NO_DIAGNOSTIC_CHANNEL true\n",
      "VSCODE_IPC_HOOK_EXTHOST /var/folders/cm/f7bqnp8d2k92zqpw9jr5cy3h0000gp/T/vscode-ipc-1998b1aa-4eb2-41a3-90cb-5699ed807067.sock\n",
      "VSCODE_NLS_CONFIG {\"locale\":\"en-gb\",\"availableLanguages\":{},\"_languagePackSupport\":true}\n",
      "CONDA_PYTHON_EXE /Users/rmcmaster/opt/anaconda3/bin/python\n",
      "LOGNAME rmcmaster\n",
      "VSCODE_IPC_HOOK /Users/rmcmaster/Library/Application Support/Code/1.63.2-main.sock\n",
      "VSCODE_CODE_CACHE_PATH /Users/rmcmaster/Library/Application Support/Code/CachedData/899d46d82c4c95423fb7e10e68eba52050e30ba3\n",
      "CONDA_DEFAULT_ENV ml-zoomcamp\n",
      "VSCODE_PID 34670\n",
      "VSCODE_CWD /\n",
      "_ /Users/rmcmaster/opt/anaconda3/envs/ml-zoomcamp/bin/python\n",
      "LC_CTYPE UTF-8\n",
      "PYTHONPATH /Users/rmcmaster/.vscode/extensions/ms-toolsai.jupyter-2021.11.1001550889/pythonFiles:/Users/rmcmaster/.vscode/extensions/ms-toolsai.jupyter-2021.11.1001550889/pythonFiles/lib/python\n",
      "OLDPWD /\n",
      "JPY_PARENT_PID 34927\n",
      "TERM xterm-color\n",
      "CLICOLOR 1\n",
      "PAGER cat\n",
      "GIT_PAGER cat\n",
      "MPLBACKEND module://matplotlib_inline.backend_inline\n"
     ]
    }
   ],
   "source": [
    "import os\n",
    "for i, j in os.environ.items():\n",
    "    print(i, j)"
   ]
  },
  {
   "cell_type": "code",
   "execution_count": 11,
   "metadata": {},
   "outputs": [
    {
     "name": "stdout",
     "output_type": "stream",
     "text": [
      "\u001b[0m\u001b[1mgoogle_bigquery_dataset.dataset: Refreshing state... [id=projects/awesome-highway-339409/datasets/trips_data_all]\u001b[0m\n",
      "\u001b[0m\u001b[1mgoogle_storage_bucket.data-lake-bucket: Refreshing state... [id=dtc_data_lake_awesome-highway-339409]\u001b[0m\n",
      "\n",
      "\u001b[0m\u001b[1m\u001b[32mNo changes.\u001b[0m\u001b[1m Your infrastructure matches the configuration.\u001b[0m\n",
      "\n",
      "\u001b[0mTerraform has compared your real infrastructure against your configuration and\n",
      "found no differences, so no changes are needed.\n"
     ]
    }
   ],
   "source": [
    "!terraform plan -var=\"project=awesome-highway-339409\""
   ]
  },
  {
   "cell_type": "code",
   "execution_count": 12,
   "metadata": {},
   "outputs": [
    {
     "name": "stdout",
     "output_type": "stream",
     "text": [
      "\u001b[0m\u001b[1mgoogle_bigquery_dataset.dataset: Refreshing state... [id=projects/awesome-highway-339409/datasets/trips_data_all]\u001b[0m\n",
      "\u001b[0m\u001b[1mgoogle_storage_bucket.data-lake-bucket: Refreshing state... [id=dtc_data_lake_awesome-highway-339409]\u001b[0m\n",
      "\n",
      "\u001b[0m\u001b[1m\u001b[32mNo changes.\u001b[0m\u001b[1m Your infrastructure matches the configuration.\u001b[0m\n",
      "\n",
      "\u001b[0mTerraform has compared your real infrastructure against your configuration and\n",
      "found no differences, so no changes are needed.\n",
      "\u001b[0m\u001b[1m\u001b[32m\n",
      "Apply complete! Resources: 0 added, 0 changed, 0 destroyed.\n",
      "\u001b[0m"
     ]
    }
   ],
   "source": [
    "!terraform apply -var=\"project=awesome-highway-339409\""
   ]
  },
  {
   "cell_type": "code",
   "execution_count": null,
   "metadata": {},
   "outputs": [],
   "source": []
  }
 ],
 "metadata": {
  "interpreter": {
   "hash": "31f2aee4e71d21fbe5cf8b01ff0e069b9275f58929596ceb00d14d90e3e16cd6"
  },
  "kernelspec": {
   "display_name": "Python 3.8.9 64-bit",
   "language": "python",
   "name": "python3"
  },
  "language_info": {
   "codemirror_mode": {
    "name": "ipython",
    "version": 3
   },
   "file_extension": ".py",
   "mimetype": "text/x-python",
   "name": "python",
   "nbconvert_exporter": "python",
   "pygments_lexer": "ipython3",
   "version": "3.8.11"
  },
  "orig_nbformat": 4
 },
 "nbformat": 4,
 "nbformat_minor": 2
}
